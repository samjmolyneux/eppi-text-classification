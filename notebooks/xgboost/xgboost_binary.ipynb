{
 "cells": [
  {
   "cell_type": "code",
   "execution_count": 1,
   "metadata": {},
   "outputs": [],
   "source": [
    "%load_ext autoreload\n",
    "%autoreload 2"
   ]
  },
  {
   "cell_type": "code",
   "execution_count": 2,
   "metadata": {},
   "outputs": [],
   "source": [
    "import pandas as pd\n",
    "\n",
    "df_path = \"../../data/raw/debunking_review.tsv\"\n",
    "df = pd.read_csv(df_path, sep=\"\\t\")"
   ]
  },
  {
   "cell_type": "code",
   "execution_count": 3,
   "metadata": {},
   "outputs": [],
   "source": [
    "from eppi_text_classification import (\n",
    "    get_features_and_labels,\n",
    "    get_tfidf_and_names,\n",
    ")\n",
    "\n",
    "word_features, labels = get_features_and_labels(df)\n",
    "\n",
    "tfidf_scores, feature_names = get_tfidf_and_names(word_features)"
   ]
  },
  {
   "cell_type": "code",
   "execution_count": 5,
   "metadata": {},
   "outputs": [
    {
     "name": "stderr",
     "output_type": "stream",
     "text": [
      "[I 2024-06-22 11:49:00,843] A new study created in RDB with name: xgb_binary\n",
      "[I 2024-06-22 11:49:03,688] Trial 7 finished with value: 0.6004903046813196 and parameters: {'reg_lambda': 11.539224328552082, 'reg_alpha': 61.46512837016794, 'learning_rate': 63.10149518875004, 'max_depth': 1}. Best is trial 7 with value: 0.6004903046813196.\n",
      "[I 2024-06-22 11:49:03,779] Trial 3 finished with value: 0.7367386437956283 and parameters: {'reg_lambda': 0.18157154187343624, 'reg_alpha': 5.778542334172558, 'learning_rate': 58.08580162330662, 'max_depth': 3}. Best is trial 3 with value: 0.7367386437956283.\n",
      "[I 2024-06-22 11:49:03,829] Trial 10 finished with value: 0.786378950160727 and parameters: {'reg_lambda': 1.4565797331606145, 'reg_alpha': 0.03610395572261504, 'learning_rate': 24.01980393970274, 'max_depth': 4}. Best is trial 10 with value: 0.786378950160727.\n",
      "[I 2024-06-22 11:49:03,962] Trial 1 finished with value: 0.731440322434851 and parameters: {'reg_lambda': 0.03744963493761846, 'reg_alpha': 0.010246242583997468, 'learning_rate': 91.82769248032817, 'max_depth': 4}. Best is trial 10 with value: 0.786378950160727.\n",
      "[I 2024-06-22 11:49:05,594] Trial 12 finished with value: 0.6113545058226265 and parameters: {'reg_lambda': 0.0017086591708943125, 'reg_alpha': 16.415396550857846, 'learning_rate': 8.369007624742894, 'max_depth': 2}. Best is trial 10 with value: 0.786378950160727.\n",
      "[I 2024-06-22 11:49:05,807] Trial 14 finished with value: 0.5128509571841541 and parameters: {'reg_lambda': 0.0036545005373016244, 'reg_alpha': 2.4315418225808765, 'learning_rate': 3.7762225543220573, 'max_depth': 1}. Best is trial 10 with value: 0.786378950160727.\n",
      "[I 2024-06-22 11:49:06,185] Trial 5 finished with value: 0.9015182371009222 and parameters: {'reg_lambda': 0.05093002144563667, 'reg_alpha': 9.6895550775843, 'learning_rate': 0.14571387997497362, 'max_depth': 1}. Best is trial 5 with value: 0.9015182371009222.\n",
      "[I 2024-06-22 11:49:06,978] Trial 4 finished with value: 0.8922670225644135 and parameters: {'reg_lambda': 0.04188487276943654, 'reg_alpha': 0.0005999327917105903, 'learning_rate': 0.01416741134990181, 'max_depth': 1}. Best is trial 5 with value: 0.9015182371009222.\n",
      "[I 2024-06-22 11:49:07,048] Trial 6 finished with value: 0.9334097532761322 and parameters: {'reg_lambda': 3.8652380067988292, 'reg_alpha': 0.014969477835873964, 'learning_rate': 0.8909488803045741, 'max_depth': 2}. Best is trial 6 with value: 0.9334097532761322.\n",
      "[I 2024-06-22 11:49:07,550] Trial 11 finished with value: 0.9044982899302325 and parameters: {'reg_lambda': 0.005777750145548652, 'reg_alpha': 21.71187664081741, 'learning_rate': 0.0796439013238152, 'max_depth': 3}. Best is trial 6 with value: 0.9334097532761322.\n",
      "[I 2024-06-22 11:49:07,788] Trial 2 finished with value: 0.9194415052158753 and parameters: {'reg_lambda': 0.5234959066306446, 'reg_alpha': 0.00013509546238335478, 'learning_rate': 0.4338988428844461, 'max_depth': 4}. Best is trial 6 with value: 0.9334097532761322.\n",
      "[I 2024-06-22 11:49:07,832] Trial 0 finished with value: 0.9235001220001408 and parameters: {'reg_lambda': 0.015194327516874467, 'reg_alpha': 0.0005670346243667382, 'learning_rate': 0.1348927690220592, 'max_depth': 2}. Best is trial 6 with value: 0.9334097532761322.\n",
      "[I 2024-06-22 11:49:08,021] Trial 17 finished with value: 0.7959132906894101 and parameters: {'reg_lambda': 13.542442533439056, 'reg_alpha': 0.00021116778700516715, 'learning_rate': 23.329769707338293, 'max_depth': 5}. Best is trial 6 with value: 0.9334097532761322.\n",
      "[I 2024-06-22 11:49:08,618] Trial 18 finished with value: 0.7640760542377767 and parameters: {'reg_lambda': 0.16117350051669874, 'reg_alpha': 0.9624151348733718, 'learning_rate': 6.937552226246652, 'max_depth': 3}. Best is trial 6 with value: 0.9334097532761322.\n",
      "[I 2024-06-22 11:49:08,654] Trial 13 finished with value: 0.9080637071145873 and parameters: {'reg_lambda': 3.1959717535294536, 'reg_alpha': 7.52889835463997, 'learning_rate': 0.21689278127613065, 'max_depth': 2}. Best is trial 6 with value: 0.9334097532761322.\n",
      "[I 2024-06-22 11:49:09,337] Trial 19 finished with value: 0.7824022625265786 and parameters: {'reg_lambda': 5.924307062833286, 'reg_alpha': 1.4019614498057398, 'learning_rate': 49.61359720378553, 'max_depth': 3}. Best is trial 6 with value: 0.9334097532761322.\n",
      "[I 2024-06-22 11:49:09,955] Trial 15 finished with value: 0.9132638671031494 and parameters: {'reg_lambda': 0.0006701438593315485, 'reg_alpha': 0.00010557237239640527, 'learning_rate': 0.2578325811096961, 'max_depth': 2}. Best is trial 6 with value: 0.9334097532761322.\n",
      "[I 2024-06-22 11:49:10,262] Trial 16 finished with value: 0.9084356746135137 and parameters: {'reg_lambda': 43.198010093132254, 'reg_alpha': 6.203086667102305, 'learning_rate': 0.2725424064521807, 'max_depth': 1}. Best is trial 6 with value: 0.9334097532761322.\n",
      "[I 2024-06-22 11:49:11,590] Trial 9 finished with value: 0.9199270834994958 and parameters: {'reg_lambda': 0.004719843395242809, 'reg_alpha': 0.019510571726558366, 'learning_rate': 0.05483038040643943, 'max_depth': 4}. Best is trial 6 with value: 0.9334097532761322.\n",
      "[I 2024-06-22 11:49:11,959] Trial 22 finished with value: 0.8964253663401317 and parameters: {'reg_lambda': 0.00017717101673779415, 'reg_alpha': 0.002799827732429649, 'learning_rate': 1.149202742853252, 'max_depth': 2}. Best is trial 6 with value: 0.9334097532761322.\n",
      "[I 2024-06-22 11:49:12,012] Trial 8 finished with value: 0.9288263586473287 and parameters: {'reg_lambda': 2.2328473165609455, 'reg_alpha': 0.026488100337162847, 'learning_rate': 0.08016080482717856, 'max_depth': 4}. Best is trial 6 with value: 0.9334097532761322.\n",
      "[I 2024-06-22 11:49:12,549] Trial 28 finished with value: 0.7275411920329478 and parameters: {'reg_lambda': 0.0001233579538764214, 'reg_alpha': 0.002776122327353662, 'learning_rate': 1.4624232384678428, 'max_depth': 2}. Best is trial 6 with value: 0.9334097532761322.\n",
      "[I 2024-06-22 11:49:13,556] Trial 25 finished with value: 0.8705230231693925 and parameters: {'reg_lambda': 0.00011705528125084333, 'reg_alpha': 0.00481698392148689, 'learning_rate': 1.0406432773630896, 'max_depth': 2}. Best is trial 6 with value: 0.9334097532761322.\n",
      "[I 2024-06-22 11:49:13,720] Trial 23 finished with value: 0.87223545613578 and parameters: {'reg_lambda': 0.0001337960970483395, 'reg_alpha': 0.0022826658297333273, 'learning_rate': 1.044677890336499, 'max_depth': 2}. Best is trial 6 with value: 0.9334097532761322.\n",
      "[I 2024-06-22 11:49:13,988] Trial 24 finished with value: 0.8982784096380702 and parameters: {'reg_lambda': 0.0001259805170218757, 'reg_alpha': 0.0032122974837028246, 'learning_rate': 0.7966123330931301, 'max_depth': 2}. Best is trial 6 with value: 0.9334097532761322.\n",
      "[I 2024-06-22 11:49:14,111] Trial 26 finished with value: 0.8616922807881976 and parameters: {'reg_lambda': 0.00013489587045520556, 'reg_alpha': 0.002057666374593965, 'learning_rate': 1.1041308594067176, 'max_depth': 2}. Best is trial 6 with value: 0.9334097532761322.\n",
      "[I 2024-06-22 11:49:14,957] Trial 29 finished with value: 0.8454096930145615 and parameters: {'reg_lambda': 0.00013108067860455108, 'reg_alpha': 0.0018767898652688696, 'learning_rate': 1.2292503492748643, 'max_depth': 2}. Best is trial 6 with value: 0.9334097532761322.\n",
      "[I 2024-06-22 11:49:15,340] Trial 27 finished with value: 0.8844974746266293 and parameters: {'reg_lambda': 0.00012864626006237582, 'reg_alpha': 0.0025860458214340943, 'learning_rate': 0.8193349015760106, 'max_depth': 2}. Best is trial 6 with value: 0.9334097532761322.\n",
      "[I 2024-06-22 11:49:16,688] Trial 30 finished with value: 0.8724290907415186 and parameters: {'reg_lambda': 0.00012992389362924742, 'reg_alpha': 0.0009865888133826037, 'learning_rate': 1.0539745594079115, 'max_depth': 2}. Best is trial 6 with value: 0.9334097532761322.\n",
      "[I 2024-06-22 11:49:18,723] Trial 31 finished with value: 0.9297660551298842 and parameters: {'reg_lambda': 72.37375747674503, 'reg_alpha': 0.29009068970849133, 'learning_rate': 1.3639939544097168, 'max_depth': 2}. Best is trial 6 with value: 0.9334097532761322.\n",
      "[I 2024-06-22 11:49:22,530] Trial 21 finished with value: 0.9322029857835865 and parameters: {'reg_lambda': 93.75871054344405, 'reg_alpha': 0.00013505540003191487, 'learning_rate': 0.6113677869444337, 'max_depth': 5}. Best is trial 6 with value: 0.9334097532761322.\n",
      "[I 2024-06-22 11:49:24,806] Trial 32 finished with value: 0.9280941805637529 and parameters: {'reg_lambda': 87.39657687964393, 'reg_alpha': 0.27565507853223037, 'learning_rate': 1.1759258463190505, 'max_depth': 5}. Best is trial 6 with value: 0.9334097532761322.\n",
      "[I 2024-06-22 11:49:28,850] Trial 42 finished with value: 0.9249547890520087 and parameters: {'reg_lambda': 75.13774053430413, 'reg_alpha': 0.3702953298783048, 'learning_rate': 2.496990081305733, 'max_depth': 5}. Best is trial 6 with value: 0.9334097532761322.\n",
      "[I 2024-06-22 11:49:30,359] Trial 43 finished with value: 0.9093666568003114 and parameters: {'reg_lambda': 36.06379181929272, 'reg_alpha': 0.15213547542093264, 'learning_rate': 2.641000909802648, 'max_depth': 5}. Best is trial 6 with value: 0.9334097532761322.\n",
      "[I 2024-06-22 11:49:31,655] Trial 36 finished with value: 0.9177924945986137 and parameters: {'reg_lambda': 0.7587544548436271, 'reg_alpha': 0.31993280809464647, 'learning_rate': 0.032952006914347805, 'max_depth': 5}. Best is trial 6 with value: 0.9334097532761322.\n",
      "[I 2024-06-22 11:49:32,766] Trial 20 finished with value: 0.9136189081903154 and parameters: {'reg_lambda': 0.001236699708795289, 'reg_alpha': 0.0002841413336024912, 'learning_rate': 0.011177261191476986, 'max_depth': 4}. Best is trial 6 with value: 0.9334097532761322.\n",
      "[I 2024-06-22 11:49:34,569] Trial 38 finished with value: 0.9161819155026435 and parameters: {'reg_lambda': 0.8052165007407502, 'reg_alpha': 0.06757544632014004, 'learning_rate': 0.028215630922295044, 'max_depth': 5}. Best is trial 6 with value: 0.9334097532761322.\n",
      "[I 2024-06-22 11:49:35,052] Trial 39 finished with value: 0.9173609154087062 and parameters: {'reg_lambda': 0.7759044212244094, 'reg_alpha': 0.1326981416219727, 'learning_rate': 0.0260349459455972, 'max_depth': 5}. Best is trial 6 with value: 0.9334097532761322.\n",
      "[I 2024-06-22 11:49:36,747] Trial 45 finished with value: 0.9184128638366178 and parameters: {'reg_lambda': 0.8628722134645676, 'reg_alpha': 0.06439249757150556, 'learning_rate': 0.467095005228277, 'max_depth': 4}. Best is trial 6 with value: 0.9334097532761322.\n",
      "[I 2024-06-22 11:49:37,792] Trial 40 finished with value: 0.9160672708184526 and parameters: {'reg_lambda': 0.6932737682815775, 'reg_alpha': 0.1614277213694412, 'learning_rate': 0.023469496062010032, 'max_depth': 5}. Best is trial 6 with value: 0.9334097532761322.\n",
      "[I 2024-06-22 11:49:40,555] Trial 35 finished with value: 0.9157098369924513 and parameters: {'reg_lambda': 0.8825937835906815, 'reg_alpha': 0.21735400077662895, 'learning_rate': 0.016594541330763983, 'max_depth': 5}. Best is trial 6 with value: 0.9334097532761322.\n",
      "[I 2024-06-22 11:49:41,140] Trial 46 finished with value: 0.9303222930591076 and parameters: {'reg_lambda': 17.09224024159784, 'reg_alpha': 0.04747644320772727, 'learning_rate': 0.4980690387520377, 'max_depth': 4}. Best is trial 6 with value: 0.9334097532761322.\n",
      "[I 2024-06-22 11:49:42,004] Trial 47 finished with value: 0.9344325161982511 and parameters: {'reg_lambda': 17.936143813902085, 'reg_alpha': 0.061114005804464265, 'learning_rate': 0.5536331282323196, 'max_depth': 4}. Best is trial 47 with value: 0.9344325161982511.\n",
      "[I 2024-06-22 11:49:44,410] Trial 48 finished with value: 0.9313675949902547 and parameters: {'reg_lambda': 23.512174983571555, 'reg_alpha': 0.012622216437038689, 'learning_rate': 0.47022228153046386, 'max_depth': 4}. Best is trial 47 with value: 0.9344325161982511.\n",
      "[I 2024-06-22 11:49:44,432] Trial 49 finished with value: 0.9315968843586367 and parameters: {'reg_lambda': 20.639845376557332, 'reg_alpha': 0.00962997252789091, 'learning_rate': 0.48102972106660197, 'max_depth': 4}. Best is trial 47 with value: 0.9344325161982511.\n",
      "[I 2024-06-22 11:49:44,728] Trial 50 finished with value: 0.9277786639773464 and parameters: {'reg_lambda': 17.159224768920858, 'reg_alpha': 0.008296668186326163, 'learning_rate': 0.4972447465215994, 'max_depth': 3}. Best is trial 47 with value: 0.9344325161982511.\n",
      "[I 2024-06-22 11:49:49,128] Trial 52 finished with value: 0.9302301873839447 and parameters: {'reg_lambda': 19.91952793762069, 'reg_alpha': 0.009089142506341937, 'learning_rate': 0.5247129025841009, 'max_depth': 4}. Best is trial 47 with value: 0.9344325161982511.\n",
      "[I 2024-06-22 11:49:50,534] Trial 54 finished with value: 0.930579999893656 and parameters: {'reg_lambda': 15.278654363767938, 'reg_alpha': 0.01325204406490875, 'learning_rate': 0.47480955717486034, 'max_depth': 4}. Best is trial 47 with value: 0.9344325161982511.\n",
      "[I 2024-06-22 11:49:52,081] Trial 37 finished with value: 0.9216065793819171 and parameters: {'reg_lambda': 59.83540182375064, 'reg_alpha': 0.22335225710242282, 'learning_rate': 0.02747223955823983, 'max_depth': 5}. Best is trial 47 with value: 0.9344325161982511.\n",
      "[I 2024-06-22 11:49:52,194] Trial 55 finished with value: 0.9254112999897792 and parameters: {'reg_lambda': 16.29596999746673, 'reg_alpha': 0.01143164491874163, 'learning_rate': 0.5732760575007175, 'max_depth': 4}. Best is trial 47 with value: 0.9344325161982511.\n",
      "[I 2024-06-22 11:49:52,887] Trial 33 finished with value: 0.9212643881884958 and parameters: {'reg_lambda': 79.89494072479287, 'reg_alpha': 0.2197819975130728, 'learning_rate': 0.027152040315694424, 'max_depth': 5}. Best is trial 47 with value: 0.9344325161982511.\n",
      "[I 2024-06-22 11:49:54,314] Trial 34 finished with value: 0.9206586117033878 and parameters: {'reg_lambda': 76.54868722601373, 'reg_alpha': 0.07620819489816014, 'learning_rate': 0.02366022225137461, 'max_depth': 5}. Best is trial 47 with value: 0.9344325161982511.\n",
      "[I 2024-06-22 11:49:54,600] Trial 41 finished with value: 0.9237065474196527 and parameters: {'reg_lambda': 58.79960377344354, 'reg_alpha': 0.28690758876970895, 'learning_rate': 0.03509920221591846, 'max_depth': 5}. Best is trial 47 with value: 0.9344325161982511.\n",
      "[I 2024-06-22 11:49:54,911] Trial 51 finished with value: 0.9313021639221066 and parameters: {'reg_lambda': 26.52730875679199, 'reg_alpha': 0.01232337602180613, 'learning_rate': 0.10072986143118562, 'max_depth': 4}. Best is trial 47 with value: 0.9344325161982511.\n",
      "[I 2024-06-22 11:49:54,965] Trial 57 finished with value: 0.9336566780159291 and parameters: {'reg_lambda': 6.454426237293294, 'reg_alpha': 0.014035330382542732, 'learning_rate': 0.14993370088464317, 'max_depth': 4}. Best is trial 47 with value: 0.9344325161982511.\n",
      "[I 2024-06-22 11:49:55,022] Trial 56 finished with value: 0.9272303723042548 and parameters: {'reg_lambda': 6.5642732841517235, 'reg_alpha': 0.013768261686685442, 'learning_rate': 0.13917810629809174, 'max_depth': 4}. Best is trial 47 with value: 0.9344325161982511.\n",
      "[I 2024-06-22 11:49:55,234] Trial 44 finished with value: 0.9213807757318384 and parameters: {'reg_lambda': 22.4020251488641, 'reg_alpha': 0.049054067036842265, 'learning_rate': 0.023826163266754165, 'max_depth': 4}. Best is trial 47 with value: 0.9344325161982511.\n",
      "[I 2024-06-22 11:49:56,734] Trial 53 finished with value: 0.9313135958965414 and parameters: {'reg_lambda': 20.901661555707943, 'reg_alpha': 0.01193769295260112, 'learning_rate': 0.10567888580913194, 'max_depth': 4}. Best is trial 47 with value: 0.9344325161982511.\n",
      "[I 2024-06-22 11:50:00,171] Trial 58 finished with value: 0.932135486916445 and parameters: {'reg_lambda': 5.958297354136732, 'reg_alpha': 0.023969402506188592, 'learning_rate': 0.12571281371545645, 'max_depth': 4}. Best is trial 47 with value: 0.9344325161982511.\n",
      "[I 2024-06-22 11:50:00,899] Trial 59 finished with value: 0.9333927677844006 and parameters: {'reg_lambda': 6.913692053617392, 'reg_alpha': 0.021920482906689572, 'learning_rate': 0.1567988109775124, 'max_depth': 4}. Best is trial 47 with value: 0.9344325161982511.\n",
      "[I 2024-06-22 11:50:01,489] Trial 60 finished with value: 0.9317804458292791 and parameters: {'reg_lambda': 5.936658185894848, 'reg_alpha': 0.022869544397986163, 'learning_rate': 0.18354651124170943, 'max_depth': 4}. Best is trial 47 with value: 0.9344325161982511.\n",
      "[I 2024-06-22 11:50:01,617] Trial 61 finished with value: 0.9326629824396601 and parameters: {'reg_lambda': 6.00086122382075, 'reg_alpha': 0.025555526453330937, 'learning_rate': 0.1626170845692895, 'max_depth': 3}. Best is trial 47 with value: 0.9344325161982511.\n",
      "[I 2024-06-22 11:50:02,511] Trial 62 finished with value: 0.9319370077530645 and parameters: {'reg_lambda': 6.314211277046328, 'reg_alpha': 0.015824454653872697, 'learning_rate': 0.1817983572118809, 'max_depth': 4}. Best is trial 47 with value: 0.9344325161982511.\n",
      "[I 2024-06-22 11:50:02,628] Trial 68 finished with value: 0.9274329870656218 and parameters: {'reg_lambda': 6.275420422347217, 'reg_alpha': 0.0007582140311723151, 'learning_rate': 0.3310256592444739, 'max_depth': 3}. Best is trial 47 with value: 0.9344325161982511.\n",
      "[I 2024-06-22 11:50:04,626] Trial 69 finished with value: 0.9229916797676504 and parameters: {'reg_lambda': 2.8335711252264755, 'reg_alpha': 0.023825902523016154, 'learning_rate': 0.24681748089075553, 'max_depth': 3}. Best is trial 47 with value: 0.9344325161982511.\n",
      "[I 2024-06-22 11:50:04,696] Trial 67 finished with value: 0.9300944216100354 and parameters: {'reg_lambda': 7.373784553915296, 'reg_alpha': 0.03242223424394431, 'learning_rate': 0.20419759442120688, 'max_depth': 3}. Best is trial 47 with value: 0.9344325161982511.\n",
      "[I 2024-06-22 11:50:04,807] Trial 65 finished with value: 0.9309852294163904 and parameters: {'reg_lambda': 6.393151226660048, 'reg_alpha': 0.023560922105819122, 'learning_rate': 0.1595334672461046, 'max_depth': 3}. Best is trial 47 with value: 0.9344325161982511.\n",
      "[I 2024-06-22 11:50:04,998] Trial 64 finished with value: 0.9287228209977307 and parameters: {'reg_lambda': 5.871111064862479, 'reg_alpha': 0.015893037030377873, 'learning_rate': 0.164325912303535, 'max_depth': 4}. Best is trial 47 with value: 0.9344325161982511.\n",
      "[I 2024-06-22 11:50:05,199] Trial 63 finished with value: 0.933679541964799 and parameters: {'reg_lambda': 6.548607630872607, 'reg_alpha': 0.019548689114125557, 'learning_rate': 0.150748385161437, 'max_depth': 4}. Best is trial 47 with value: 0.9344325161982511.\n",
      "[I 2024-06-22 11:50:05,555] Trial 66 finished with value: 0.9331655462150121 and parameters: {'reg_lambda': 8.269931323185611, 'reg_alpha': 0.02458410675993698, 'learning_rate': 0.1635610199368986, 'max_depth': 3}. Best is trial 47 with value: 0.9344325161982511.\n",
      "[I 2024-06-22 11:50:08,222] Trial 71 finished with value: 0.9294096552033798 and parameters: {'reg_lambda': 2.8290231035249573, 'reg_alpha': 0.0005076551079907024, 'learning_rate': 0.3026821798880281, 'max_depth': 3}. Best is trial 47 with value: 0.9344325161982511.\n",
      "[I 2024-06-22 11:50:08,329] Trial 70 finished with value: 0.9259980231841624 and parameters: {'reg_lambda': 5.914808827675117, 'reg_alpha': 0.005104204420745929, 'learning_rate': 0.2970322843379519, 'max_depth': 3}. Best is trial 47 with value: 0.9344325161982511.\n",
      "[I 2024-06-22 11:50:08,737] Trial 73 finished with value: 0.9290359448453022 and parameters: {'reg_lambda': 2.9300300275579967, 'reg_alpha': 0.02659715524322709, 'learning_rate': 0.2976011411260187, 'max_depth': 3}. Best is trial 47 with value: 0.9344325161982511.\n",
      "[I 2024-06-22 11:50:09,175] Trial 72 finished with value: 0.9319370077530648 and parameters: {'reg_lambda': 2.9480528241719157, 'reg_alpha': 0.004515676870876829, 'learning_rate': 0.19739134766597616, 'max_depth': 3}. Best is trial 47 with value: 0.9344325161982511.\n",
      "[I 2024-06-22 11:50:09,336] Trial 78 finished with value: 0.916675499122367 and parameters: {'reg_lambda': 1.6986024437752607, 'reg_alpha': 0.00530895730366915, 'learning_rate': 0.060113448586585405, 'max_depth': 1}. Best is trial 47 with value: 0.9344325161982511.\n",
      "[I 2024-06-22 11:50:09,506] Trial 74 finished with value: 0.928865883148088 and parameters: {'reg_lambda': 2.65055878504911, 'reg_alpha': 0.026767647535065595, 'learning_rate': 0.2900344501503956, 'max_depth': 3}. Best is trial 47 with value: 0.9344325161982511.\n",
      "[I 2024-06-22 11:50:09,516] Trial 80 finished with value: 0.9171254226433443 and parameters: {'reg_lambda': 1.466717847599893, 'reg_alpha': 0.0062199292302652755, 'learning_rate': 0.07192486306457767, 'max_depth': 1}. Best is trial 47 with value: 0.9344325161982511.\n",
      "[I 2024-06-22 11:50:09,678] Trial 79 finished with value: 0.9135617483181409 and parameters: {'reg_lambda': 1.7806494300474844, 'reg_alpha': 0.5490938316916666, 'learning_rate': 0.05789910374692953, 'max_depth': 1}. Best is trial 47 with value: 0.9344325161982511.\n",
      "[I 2024-06-22 11:50:12,418] Trial 87 finished with value: 0.9207501265788384 and parameters: {'reg_lambda': 0.02549686396140329, 'reg_alpha': 0.0986438912878634, 'learning_rate': 0.7799311340552165, 'max_depth': 3}. Best is trial 47 with value: 0.9344325161982511.\n",
      "[I 2024-06-22 11:50:12,771] Trial 82 finished with value: 0.9172660329748951 and parameters: {'reg_lambda': 1.5723074002608444, 'reg_alpha': 0.007078103116666496, 'learning_rate': 0.055706350091140285, 'max_depth': 1}. Best is trial 47 with value: 0.9344325161982511.\n",
      "[I 2024-06-22 11:50:12,842] Trial 89 finished with value: 0.9223976601968191 and parameters: {'reg_lambda': 0.0859298840313988, 'reg_alpha': 0.10479875704411296, 'learning_rate': 0.7587872611880857, 'max_depth': 3}. Best is trial 47 with value: 0.9344325161982511.\n",
      "[I 2024-06-22 11:50:12,864] Trial 83 finished with value: 0.9162304201590313 and parameters: {'reg_lambda': 1.6141402318837335, 'reg_alpha': 0.0056532866687675435, 'learning_rate': 0.05656939537203743, 'max_depth': 1}. Best is trial 47 with value: 0.9344325161982511.\n",
      "[I 2024-06-22 11:50:13,098] Trial 84 finished with value: 0.9161902457785884 and parameters: {'reg_lambda': 1.6683905864785045, 'reg_alpha': 0.006369826312123466, 'learning_rate': 0.05796854242096994, 'max_depth': 1}. Best is trial 47 with value: 0.9344325161982511.\n",
      "[I 2024-06-22 11:50:13,382] Trial 77 finished with value: 0.9247172284876531 and parameters: {'reg_lambda': 0.2921071814496802, 'reg_alpha': 0.005008895051028258, 'learning_rate': 0.06668109758683848, 'max_depth': 3}. Best is trial 47 with value: 0.9344325161982511.\n",
      "[I 2024-06-22 11:50:13,639] Trial 75 finished with value: 0.9285791089676897 and parameters: {'reg_lambda': 2.2719996497035755, 'reg_alpha': 0.0303326786945751, 'learning_rate': 0.05713082306953852, 'max_depth': 3}. Best is trial 47 with value: 0.9344325161982511.\n",
      "[I 2024-06-22 11:50:14,122] Trial 85 finished with value: 0.910583763287824 and parameters: {'reg_lambda': 10.408323257414377, 'reg_alpha': 0.00641641288697931, 'learning_rate': 0.05990928682133797, 'max_depth': 1}. Best is trial 47 with value: 0.9344325161982511.\n",
      "[I 2024-06-22 11:50:14,935] Trial 81 finished with value: 0.9308605706770742 and parameters: {'reg_lambda': 1.7714273648387118, 'reg_alpha': 0.006273711137533051, 'learning_rate': 0.07720916184916927, 'max_depth': 3}. Best is trial 47 with value: 0.9344325161982511.\n",
      "[I 2024-06-22 11:50:15,110] Trial 88 finished with value: 0.8627394732784244 and parameters: {'reg_lambda': 10.315768599062633, 'reg_alpha': 85.17249033726314, 'learning_rate': 0.10949848681934755, 'max_depth': 3}. Best is trial 47 with value: 0.9344325161982511.\n",
      "[I 2024-06-22 11:50:15,537] Trial 76 finished with value: 0.9314472938714573 and parameters: {'reg_lambda': 1.9566043526100925, 'reg_alpha': 0.03546254376421695, 'learning_rate': 0.05772540861560253, 'max_depth': 3}. Best is trial 47 with value: 0.9344325161982511.\n",
      "[I 2024-06-22 11:50:18,297] Trial 90 finished with value: 0.9005850689551885 and parameters: {'reg_lambda': 10.811572286529753, 'reg_alpha': 0.04328085967275936, 'learning_rate': 1.749315400082188, 'max_depth': 3}. Best is trial 47 with value: 0.9344325161982511.\n",
      "[I 2024-06-22 11:50:19,332] Trial 91 finished with value: 0.9137224458399134 and parameters: {'reg_lambda': 33.257889603266676, 'reg_alpha': 0.0457682556470861, 'learning_rate': 1.6048178215527185, 'max_depth': 3}. Best is trial 47 with value: 0.9344325161982511.\n",
      "[I 2024-06-22 11:50:19,344] Trial 86 finished with value: 0.9245776520555989 and parameters: {'reg_lambda': 0.3477012790660717, 'reg_alpha': 0.09886942950574466, 'learning_rate': 0.04895491865473785, 'max_depth': 3}. Best is trial 47 with value: 0.9344325161982511.\n",
      "[I 2024-06-22 11:50:19,971] Trial 98 finished with value: 0.907395926199663 and parameters: {'reg_lambda': 4.07445840432372, 'reg_alpha': 0.05001870652389498, 'learning_rate': 1.7294345479848117, 'max_depth': 4}. Best is trial 47 with value: 0.9344325161982511.\n",
      "[I 2024-06-22 11:50:20,345] Trial 93 finished with value: 0.9223193792349261 and parameters: {'reg_lambda': 0.3034583050969474, 'reg_alpha': 0.03772386318807391, 'learning_rate': 0.11842878312438322, 'max_depth': 4}. Best is trial 47 with value: 0.9344325161982511.\n",
      "[I 2024-06-22 11:50:22,435] Trial 99 finished with value: 0.9100118987062077 and parameters: {'reg_lambda': 34.749185998516076, 'reg_alpha': 0.04690167260347521, 'learning_rate': 1.8877229020309685, 'max_depth': 4}. Best is trial 47 with value: 0.9344325161982511.\n",
      "[I 2024-06-22 11:50:24,889] Trial 100 finished with value: 0.9247043785939085 and parameters: {'reg_lambda': 3.8297338588340915, 'reg_alpha': 0.0015638714911345095, 'learning_rate': 0.37666093422346475, 'max_depth': 4}. Best is trial 47 with value: 0.9344325161982511.\n",
      "[I 2024-06-22 11:50:25,679] Trial 94 finished with value: 0.928592608741118 and parameters: {'reg_lambda': 9.510456202878299, 'reg_alpha': 0.03579560187858379, 'learning_rate': 0.117017901456416, 'max_depth': 4}. Best is trial 47 with value: 0.9344325161982511.\n",
      "[I 2024-06-22 11:50:25,701] Trial 92 finished with value: 0.9282784509940502 and parameters: {'reg_lambda': 10.164754685568186, 'reg_alpha': 0.03321676455954427, 'learning_rate': 0.10740623302420828, 'max_depth': 4}. Best is trial 47 with value: 0.9344325161982511.\n",
      "[I 2024-06-22 11:50:25,915] Trial 95 finished with value: 0.925046244847488 and parameters: {'reg_lambda': 10.266813464513712, 'reg_alpha': 0.037351822125585, 'learning_rate': 0.11545956330232812, 'max_depth': 4}. Best is trial 47 with value: 0.9344325161982511.\n",
      "[I 2024-06-22 11:50:26,927] Trial 104 finished with value: 0.9251975781938189 and parameters: {'reg_lambda': 4.147895433860325, 'reg_alpha': 0.0015375657216526626, 'learning_rate': 0.3867390016738088, 'max_depth': 4}. Best is trial 47 with value: 0.9344325161982511.\n",
      "[I 2024-06-22 11:50:26,961] Trial 96 finished with value: 0.9301196782977406 and parameters: {'reg_lambda': 9.561195933983196, 'reg_alpha': 0.03897745911622704, 'learning_rate': 0.09710253671653969, 'max_depth': 4}. Best is trial 47 with value: 0.9344325161982511.\n",
      "[I 2024-06-22 11:50:27,088] Trial 97 finished with value: 0.9313405954433982 and parameters: {'reg_lambda': 9.925611722381632, 'reg_alpha': 0.0014488960221322898, 'learning_rate': 0.11152899421953355, 'max_depth': 4}. Best is trial 47 with value: 0.9344325161982511.\n",
      "[I 2024-06-22 11:50:29,085] Trial 102 finished with value: 0.9297279485484347 and parameters: {'reg_lambda': 4.083639949080584, 'reg_alpha': 0.06292842840536046, 'learning_rate': 0.1237991787064664, 'max_depth': 4}. Best is trial 47 with value: 0.9344325161982511.\n",
      "[I 2024-06-22 11:50:29,412] Trial 101 finished with value: 0.9297798798431544 and parameters: {'reg_lambda': 3.5650176764131056, 'reg_alpha': 0.0015236646208607572, 'learning_rate': 0.0939595845067936, 'max_depth': 4}. Best is trial 47 with value: 0.9344325161982511.\n",
      "[I 2024-06-22 11:50:29,674] Trial 103 finished with value: 0.931510982080454 and parameters: {'reg_lambda': 4.590717972197433, 'reg_alpha': 0.017964935780670304, 'learning_rate': 0.11460748187753675, 'max_depth': 4}. Best is trial 47 with value: 0.9344325161982511.\n",
      "[I 2024-06-22 11:50:30,688] Trial 105 finished with value: 0.9299129279383868 and parameters: {'reg_lambda': 4.387166152783017, 'reg_alpha': 0.01738708621740966, 'learning_rate': 0.649137691906892, 'max_depth': 4}. Best is trial 47 with value: 0.9344325161982511.\n",
      "[I 2024-06-22 11:50:31,223] Trial 106 finished with value: 0.9302135268320552 and parameters: {'reg_lambda': 3.94312025018306, 'reg_alpha': 0.0001952787445033065, 'learning_rate': 0.22043860032446544, 'max_depth': 2}. Best is trial 47 with value: 0.9344325161982511.\n",
      "[I 2024-06-22 11:50:31,257] Trial 108 finished with value: 0.9237030617013495 and parameters: {'reg_lambda': 1.0960166724414802, 'reg_alpha': 0.01876171474768085, 'learning_rate': 0.20975847643367643, 'max_depth': 2}. Best is trial 47 with value: 0.9344325161982511.\n",
      "[I 2024-06-22 11:50:31,350] Trial 107 finished with value: 0.9245381275548396 and parameters: {'reg_lambda': 4.258742704457744, 'reg_alpha': 0.017798603077710966, 'learning_rate': 0.2152966864678996, 'max_depth': 2}. Best is trial 47 with value: 0.9344325161982511.\n",
      "[I 2024-06-22 11:50:32,234] Trial 109 finished with value: 0.9284439930734641 and parameters: {'reg_lambda': 4.381993056049659, 'reg_alpha': 0.018156013530164977, 'learning_rate': 0.23227722356225652, 'max_depth': 2}. Best is trial 47 with value: 0.9344325161982511.\n",
      "[I 2024-06-22 11:50:32,345] Trial 111 finished with value: 0.9264375486302013 and parameters: {'reg_lambda': 4.5431705988193, 'reg_alpha': 0.01709190232532503, 'learning_rate': 0.23382684273129195, 'max_depth': 2}. Best is trial 47 with value: 0.9344325161982511.\n",
      "[I 2024-06-22 11:50:32,807] Trial 110 finished with value: 0.9233560259502865 and parameters: {'reg_lambda': 1.1491744618423074, 'reg_alpha': 0.01821651937885136, 'learning_rate': 0.21429467745368164, 'max_depth': 4}. Best is trial 47 with value: 0.9344325161982511.\n",
      "[I 2024-06-22 11:50:33,855] Trial 112 finished with value: 0.9262273125525442 and parameters: {'reg_lambda': 4.8050505792672995, 'reg_alpha': 0.016815670673874537, 'learning_rate': 0.22949878345823155, 'max_depth': 2}. Best is trial 47 with value: 0.9344325161982511.\n",
      "[I 2024-06-22 11:50:33,921] Trial 113 finished with value: 0.9280751272730282 and parameters: {'reg_lambda': 1.0865267433843335, 'reg_alpha': 0.003394194836965701, 'learning_rate': 0.21581849482475798, 'max_depth': 2}. Best is trial 47 with value: 0.9344325161982511.\n",
      "[I 2024-06-22 11:50:37,920] Trial 114 finished with value: 0.9328084373288528 and parameters: {'reg_lambda': 14.056945748401796, 'reg_alpha': 0.01759494864063337, 'learning_rate': 0.18501953789950235, 'max_depth': 5}. Best is trial 47 with value: 0.9344325161982511.\n",
      "[I 2024-06-22 11:50:40,630] Trial 117 finished with value: 0.9345246218734141 and parameters: {'reg_lambda': 13.930676876284851, 'reg_alpha': 0.003600216440813104, 'learning_rate': 0.17405295258574233, 'max_depth': 5}. Best is trial 117 with value: 0.9345246218734141.\n",
      "[I 2024-06-22 11:50:42,632] Trial 116 finished with value: 0.9305973103252292 and parameters: {'reg_lambda': 47.50400889662685, 'reg_alpha': 0.0033543955652426583, 'learning_rate': 0.17950179217741602, 'max_depth': 5}. Best is trial 117 with value: 0.9345246218734141.\n",
      "[I 2024-06-22 11:50:43,095] Trial 115 finished with value: 0.9301577848791903 and parameters: {'reg_lambda': 45.65491899148363, 'reg_alpha': 0.009523381446841882, 'learning_rate': 0.150178795009448, 'max_depth': 5}. Best is trial 117 with value: 0.9345246218734141.\n",
      "[I 2024-06-22 11:50:44,971] Trial 118 finished with value: 0.9304539232350301 and parameters: {'reg_lambda': 52.22297230350033, 'reg_alpha': 0.003847023290733263, 'learning_rate': 0.18367495452765184, 'max_depth': 5}. Best is trial 117 with value: 0.9345246218734141.\n",
      "[I 2024-06-22 11:50:47,826] Trial 119 finished with value: 0.9333054475869081 and parameters: {'reg_lambda': 13.72575131806996, 'reg_alpha': 0.00010352685484885082, 'learning_rate': 0.37577438910804356, 'max_depth': 5}. Best is trial 117 with value: 0.9345246218734141.\n"
     ]
    }
   ],
   "source": [
    "from eppi_text_classification import OptunaHyperparameterOptimisation\n",
    "from eppi_text_classification.utils import delete_optuna_study\n",
    "\n",
    "optimiser = OptunaHyperparameterOptimisation(\n",
    "    tfidf_scores,\n",
    "    labels,\n",
    "    \"XGBClassifier\",\n",
    "    n_trials_per_job=10,\n",
    "    n_jobs=-1,\n",
    "    nfolds=3,\n",
    "    num_cv_repeats=1,\n",
    ")\n",
    "\n",
    "delete_optuna_study(\"xgb_binary\")\n",
    "best_params = optimiser.optimise_hyperparameters(study_name=\"xgb_binary\")"
   ]
  },
  {
   "cell_type": "code",
   "execution_count": 35,
   "metadata": {},
   "outputs": [
    {
     "data": {
      "text/html": [
       "<style>#sk-container-id-3 {\n",
       "  /* Definition of color scheme common for light and dark mode */\n",
       "  --sklearn-color-text: black;\n",
       "  --sklearn-color-line: gray;\n",
       "  /* Definition of color scheme for unfitted estimators */\n",
       "  --sklearn-color-unfitted-level-0: #fff5e6;\n",
       "  --sklearn-color-unfitted-level-1: #f6e4d2;\n",
       "  --sklearn-color-unfitted-level-2: #ffe0b3;\n",
       "  --sklearn-color-unfitted-level-3: chocolate;\n",
       "  /* Definition of color scheme for fitted estimators */\n",
       "  --sklearn-color-fitted-level-0: #f0f8ff;\n",
       "  --sklearn-color-fitted-level-1: #d4ebff;\n",
       "  --sklearn-color-fitted-level-2: #b3dbfd;\n",
       "  --sklearn-color-fitted-level-3: cornflowerblue;\n",
       "\n",
       "  /* Specific color for light theme */\n",
       "  --sklearn-color-text-on-default-background: var(--sg-text-color, var(--theme-code-foreground, var(--jp-content-font-color1, black)));\n",
       "  --sklearn-color-background: var(--sg-background-color, var(--theme-background, var(--jp-layout-color0, white)));\n",
       "  --sklearn-color-border-box: var(--sg-text-color, var(--theme-code-foreground, var(--jp-content-font-color1, black)));\n",
       "  --sklearn-color-icon: #696969;\n",
       "\n",
       "  @media (prefers-color-scheme: dark) {\n",
       "    /* Redefinition of color scheme for dark theme */\n",
       "    --sklearn-color-text-on-default-background: var(--sg-text-color, var(--theme-code-foreground, var(--jp-content-font-color1, white)));\n",
       "    --sklearn-color-background: var(--sg-background-color, var(--theme-background, var(--jp-layout-color0, #111)));\n",
       "    --sklearn-color-border-box: var(--sg-text-color, var(--theme-code-foreground, var(--jp-content-font-color1, white)));\n",
       "    --sklearn-color-icon: #878787;\n",
       "  }\n",
       "}\n",
       "\n",
       "#sk-container-id-3 {\n",
       "  color: var(--sklearn-color-text);\n",
       "}\n",
       "\n",
       "#sk-container-id-3 pre {\n",
       "  padding: 0;\n",
       "}\n",
       "\n",
       "#sk-container-id-3 input.sk-hidden--visually {\n",
       "  border: 0;\n",
       "  clip: rect(1px 1px 1px 1px);\n",
       "  clip: rect(1px, 1px, 1px, 1px);\n",
       "  height: 1px;\n",
       "  margin: -1px;\n",
       "  overflow: hidden;\n",
       "  padding: 0;\n",
       "  position: absolute;\n",
       "  width: 1px;\n",
       "}\n",
       "\n",
       "#sk-container-id-3 div.sk-dashed-wrapped {\n",
       "  border: 1px dashed var(--sklearn-color-line);\n",
       "  margin: 0 0.4em 0.5em 0.4em;\n",
       "  box-sizing: border-box;\n",
       "  padding-bottom: 0.4em;\n",
       "  background-color: var(--sklearn-color-background);\n",
       "}\n",
       "\n",
       "#sk-container-id-3 div.sk-container {\n",
       "  /* jupyter's `normalize.less` sets `[hidden] { display: none; }`\n",
       "     but bootstrap.min.css set `[hidden] { display: none !important; }`\n",
       "     so we also need the `!important` here to be able to override the\n",
       "     default hidden behavior on the sphinx rendered scikit-learn.org.\n",
       "     See: https://github.com/scikit-learn/scikit-learn/issues/21755 */\n",
       "  display: inline-block !important;\n",
       "  position: relative;\n",
       "}\n",
       "\n",
       "#sk-container-id-3 div.sk-text-repr-fallback {\n",
       "  display: none;\n",
       "}\n",
       "\n",
       "div.sk-parallel-item,\n",
       "div.sk-serial,\n",
       "div.sk-item {\n",
       "  /* draw centered vertical line to link estimators */\n",
       "  background-image: linear-gradient(var(--sklearn-color-text-on-default-background), var(--sklearn-color-text-on-default-background));\n",
       "  background-size: 2px 100%;\n",
       "  background-repeat: no-repeat;\n",
       "  background-position: center center;\n",
       "}\n",
       "\n",
       "/* Parallel-specific style estimator block */\n",
       "\n",
       "#sk-container-id-3 div.sk-parallel-item::after {\n",
       "  content: \"\";\n",
       "  width: 100%;\n",
       "  border-bottom: 2px solid var(--sklearn-color-text-on-default-background);\n",
       "  flex-grow: 1;\n",
       "}\n",
       "\n",
       "#sk-container-id-3 div.sk-parallel {\n",
       "  display: flex;\n",
       "  align-items: stretch;\n",
       "  justify-content: center;\n",
       "  background-color: var(--sklearn-color-background);\n",
       "  position: relative;\n",
       "}\n",
       "\n",
       "#sk-container-id-3 div.sk-parallel-item {\n",
       "  display: flex;\n",
       "  flex-direction: column;\n",
       "}\n",
       "\n",
       "#sk-container-id-3 div.sk-parallel-item:first-child::after {\n",
       "  align-self: flex-end;\n",
       "  width: 50%;\n",
       "}\n",
       "\n",
       "#sk-container-id-3 div.sk-parallel-item:last-child::after {\n",
       "  align-self: flex-start;\n",
       "  width: 50%;\n",
       "}\n",
       "\n",
       "#sk-container-id-3 div.sk-parallel-item:only-child::after {\n",
       "  width: 0;\n",
       "}\n",
       "\n",
       "/* Serial-specific style estimator block */\n",
       "\n",
       "#sk-container-id-3 div.sk-serial {\n",
       "  display: flex;\n",
       "  flex-direction: column;\n",
       "  align-items: center;\n",
       "  background-color: var(--sklearn-color-background);\n",
       "  padding-right: 1em;\n",
       "  padding-left: 1em;\n",
       "}\n",
       "\n",
       "\n",
       "/* Toggleable style: style used for estimator/Pipeline/ColumnTransformer box that is\n",
       "clickable and can be expanded/collapsed.\n",
       "- Pipeline and ColumnTransformer use this feature and define the default style\n",
       "- Estimators will overwrite some part of the style using the `sk-estimator` class\n",
       "*/\n",
       "\n",
       "/* Pipeline and ColumnTransformer style (default) */\n",
       "\n",
       "#sk-container-id-3 div.sk-toggleable {\n",
       "  /* Default theme specific background. It is overwritten whether we have a\n",
       "  specific estimator or a Pipeline/ColumnTransformer */\n",
       "  background-color: var(--sklearn-color-background);\n",
       "}\n",
       "\n",
       "/* Toggleable label */\n",
       "#sk-container-id-3 label.sk-toggleable__label {\n",
       "  cursor: pointer;\n",
       "  display: block;\n",
       "  width: 100%;\n",
       "  margin-bottom: 0;\n",
       "  padding: 0.5em;\n",
       "  box-sizing: border-box;\n",
       "  text-align: center;\n",
       "}\n",
       "\n",
       "#sk-container-id-3 label.sk-toggleable__label-arrow:before {\n",
       "  /* Arrow on the left of the label */\n",
       "  content: \"▸\";\n",
       "  float: left;\n",
       "  margin-right: 0.25em;\n",
       "  color: var(--sklearn-color-icon);\n",
       "}\n",
       "\n",
       "#sk-container-id-3 label.sk-toggleable__label-arrow:hover:before {\n",
       "  color: var(--sklearn-color-text);\n",
       "}\n",
       "\n",
       "/* Toggleable content - dropdown */\n",
       "\n",
       "#sk-container-id-3 div.sk-toggleable__content {\n",
       "  max-height: 0;\n",
       "  max-width: 0;\n",
       "  overflow: hidden;\n",
       "  text-align: left;\n",
       "  /* unfitted */\n",
       "  background-color: var(--sklearn-color-unfitted-level-0);\n",
       "}\n",
       "\n",
       "#sk-container-id-3 div.sk-toggleable__content.fitted {\n",
       "  /* fitted */\n",
       "  background-color: var(--sklearn-color-fitted-level-0);\n",
       "}\n",
       "\n",
       "#sk-container-id-3 div.sk-toggleable__content pre {\n",
       "  margin: 0.2em;\n",
       "  border-radius: 0.25em;\n",
       "  color: var(--sklearn-color-text);\n",
       "  /* unfitted */\n",
       "  background-color: var(--sklearn-color-unfitted-level-0);\n",
       "}\n",
       "\n",
       "#sk-container-id-3 div.sk-toggleable__content.fitted pre {\n",
       "  /* unfitted */\n",
       "  background-color: var(--sklearn-color-fitted-level-0);\n",
       "}\n",
       "\n",
       "#sk-container-id-3 input.sk-toggleable__control:checked~div.sk-toggleable__content {\n",
       "  /* Expand drop-down */\n",
       "  max-height: 200px;\n",
       "  max-width: 100%;\n",
       "  overflow: auto;\n",
       "}\n",
       "\n",
       "#sk-container-id-3 input.sk-toggleable__control:checked~label.sk-toggleable__label-arrow:before {\n",
       "  content: \"▾\";\n",
       "}\n",
       "\n",
       "/* Pipeline/ColumnTransformer-specific style */\n",
       "\n",
       "#sk-container-id-3 div.sk-label input.sk-toggleable__control:checked~label.sk-toggleable__label {\n",
       "  color: var(--sklearn-color-text);\n",
       "  background-color: var(--sklearn-color-unfitted-level-2);\n",
       "}\n",
       "\n",
       "#sk-container-id-3 div.sk-label.fitted input.sk-toggleable__control:checked~label.sk-toggleable__label {\n",
       "  background-color: var(--sklearn-color-fitted-level-2);\n",
       "}\n",
       "\n",
       "/* Estimator-specific style */\n",
       "\n",
       "/* Colorize estimator box */\n",
       "#sk-container-id-3 div.sk-estimator input.sk-toggleable__control:checked~label.sk-toggleable__label {\n",
       "  /* unfitted */\n",
       "  background-color: var(--sklearn-color-unfitted-level-2);\n",
       "}\n",
       "\n",
       "#sk-container-id-3 div.sk-estimator.fitted input.sk-toggleable__control:checked~label.sk-toggleable__label {\n",
       "  /* fitted */\n",
       "  background-color: var(--sklearn-color-fitted-level-2);\n",
       "}\n",
       "\n",
       "#sk-container-id-3 div.sk-label label.sk-toggleable__label,\n",
       "#sk-container-id-3 div.sk-label label {\n",
       "  /* The background is the default theme color */\n",
       "  color: var(--sklearn-color-text-on-default-background);\n",
       "}\n",
       "\n",
       "/* On hover, darken the color of the background */\n",
       "#sk-container-id-3 div.sk-label:hover label.sk-toggleable__label {\n",
       "  color: var(--sklearn-color-text);\n",
       "  background-color: var(--sklearn-color-unfitted-level-2);\n",
       "}\n",
       "\n",
       "/* Label box, darken color on hover, fitted */\n",
       "#sk-container-id-3 div.sk-label.fitted:hover label.sk-toggleable__label.fitted {\n",
       "  color: var(--sklearn-color-text);\n",
       "  background-color: var(--sklearn-color-fitted-level-2);\n",
       "}\n",
       "\n",
       "/* Estimator label */\n",
       "\n",
       "#sk-container-id-3 div.sk-label label {\n",
       "  font-family: monospace;\n",
       "  font-weight: bold;\n",
       "  display: inline-block;\n",
       "  line-height: 1.2em;\n",
       "}\n",
       "\n",
       "#sk-container-id-3 div.sk-label-container {\n",
       "  text-align: center;\n",
       "}\n",
       "\n",
       "/* Estimator-specific */\n",
       "#sk-container-id-3 div.sk-estimator {\n",
       "  font-family: monospace;\n",
       "  border: 1px dotted var(--sklearn-color-border-box);\n",
       "  border-radius: 0.25em;\n",
       "  box-sizing: border-box;\n",
       "  margin-bottom: 0.5em;\n",
       "  /* unfitted */\n",
       "  background-color: var(--sklearn-color-unfitted-level-0);\n",
       "}\n",
       "\n",
       "#sk-container-id-3 div.sk-estimator.fitted {\n",
       "  /* fitted */\n",
       "  background-color: var(--sklearn-color-fitted-level-0);\n",
       "}\n",
       "\n",
       "/* on hover */\n",
       "#sk-container-id-3 div.sk-estimator:hover {\n",
       "  /* unfitted */\n",
       "  background-color: var(--sklearn-color-unfitted-level-2);\n",
       "}\n",
       "\n",
       "#sk-container-id-3 div.sk-estimator.fitted:hover {\n",
       "  /* fitted */\n",
       "  background-color: var(--sklearn-color-fitted-level-2);\n",
       "}\n",
       "\n",
       "/* Specification for estimator info (e.g. \"i\" and \"?\") */\n",
       "\n",
       "/* Common style for \"i\" and \"?\" */\n",
       "\n",
       ".sk-estimator-doc-link,\n",
       "a:link.sk-estimator-doc-link,\n",
       "a:visited.sk-estimator-doc-link {\n",
       "  float: right;\n",
       "  font-size: smaller;\n",
       "  line-height: 1em;\n",
       "  font-family: monospace;\n",
       "  background-color: var(--sklearn-color-background);\n",
       "  border-radius: 1em;\n",
       "  height: 1em;\n",
       "  width: 1em;\n",
       "  text-decoration: none !important;\n",
       "  margin-left: 1ex;\n",
       "  /* unfitted */\n",
       "  border: var(--sklearn-color-unfitted-level-1) 1pt solid;\n",
       "  color: var(--sklearn-color-unfitted-level-1);\n",
       "}\n",
       "\n",
       ".sk-estimator-doc-link.fitted,\n",
       "a:link.sk-estimator-doc-link.fitted,\n",
       "a:visited.sk-estimator-doc-link.fitted {\n",
       "  /* fitted */\n",
       "  border: var(--sklearn-color-fitted-level-1) 1pt solid;\n",
       "  color: var(--sklearn-color-fitted-level-1);\n",
       "}\n",
       "\n",
       "/* On hover */\n",
       "div.sk-estimator:hover .sk-estimator-doc-link:hover,\n",
       ".sk-estimator-doc-link:hover,\n",
       "div.sk-label-container:hover .sk-estimator-doc-link:hover,\n",
       ".sk-estimator-doc-link:hover {\n",
       "  /* unfitted */\n",
       "  background-color: var(--sklearn-color-unfitted-level-3);\n",
       "  color: var(--sklearn-color-background);\n",
       "  text-decoration: none;\n",
       "}\n",
       "\n",
       "div.sk-estimator.fitted:hover .sk-estimator-doc-link.fitted:hover,\n",
       ".sk-estimator-doc-link.fitted:hover,\n",
       "div.sk-label-container:hover .sk-estimator-doc-link.fitted:hover,\n",
       ".sk-estimator-doc-link.fitted:hover {\n",
       "  /* fitted */\n",
       "  background-color: var(--sklearn-color-fitted-level-3);\n",
       "  color: var(--sklearn-color-background);\n",
       "  text-decoration: none;\n",
       "}\n",
       "\n",
       "/* Span, style for the box shown on hovering the info icon */\n",
       ".sk-estimator-doc-link span {\n",
       "  display: none;\n",
       "  z-index: 9999;\n",
       "  position: relative;\n",
       "  font-weight: normal;\n",
       "  right: .2ex;\n",
       "  padding: .5ex;\n",
       "  margin: .5ex;\n",
       "  width: min-content;\n",
       "  min-width: 20ex;\n",
       "  max-width: 50ex;\n",
       "  color: var(--sklearn-color-text);\n",
       "  box-shadow: 2pt 2pt 4pt #999;\n",
       "  /* unfitted */\n",
       "  background: var(--sklearn-color-unfitted-level-0);\n",
       "  border: .5pt solid var(--sklearn-color-unfitted-level-3);\n",
       "}\n",
       "\n",
       ".sk-estimator-doc-link.fitted span {\n",
       "  /* fitted */\n",
       "  background: var(--sklearn-color-fitted-level-0);\n",
       "  border: var(--sklearn-color-fitted-level-3);\n",
       "}\n",
       "\n",
       ".sk-estimator-doc-link:hover span {\n",
       "  display: block;\n",
       "}\n",
       "\n",
       "/* \"?\"-specific style due to the `<a>` HTML tag */\n",
       "\n",
       "#sk-container-id-3 a.estimator_doc_link {\n",
       "  float: right;\n",
       "  font-size: 1rem;\n",
       "  line-height: 1em;\n",
       "  font-family: monospace;\n",
       "  background-color: var(--sklearn-color-background);\n",
       "  border-radius: 1rem;\n",
       "  height: 1rem;\n",
       "  width: 1rem;\n",
       "  text-decoration: none;\n",
       "  /* unfitted */\n",
       "  color: var(--sklearn-color-unfitted-level-1);\n",
       "  border: var(--sklearn-color-unfitted-level-1) 1pt solid;\n",
       "}\n",
       "\n",
       "#sk-container-id-3 a.estimator_doc_link.fitted {\n",
       "  /* fitted */\n",
       "  border: var(--sklearn-color-fitted-level-1) 1pt solid;\n",
       "  color: var(--sklearn-color-fitted-level-1);\n",
       "}\n",
       "\n",
       "/* On hover */\n",
       "#sk-container-id-3 a.estimator_doc_link:hover {\n",
       "  /* unfitted */\n",
       "  background-color: var(--sklearn-color-unfitted-level-3);\n",
       "  color: var(--sklearn-color-background);\n",
       "  text-decoration: none;\n",
       "}\n",
       "\n",
       "#sk-container-id-3 a.estimator_doc_link.fitted:hover {\n",
       "  /* fitted */\n",
       "  background-color: var(--sklearn-color-fitted-level-3);\n",
       "}\n",
       "</style><div id=\"sk-container-id-3\" class=\"sk-top-container\"><div class=\"sk-text-repr-fallback\"><pre>XGBClassifier(base_score=None, booster=None, callbacks=None,\n",
       "              colsample_bylevel=None, colsample_bynode=None, colsample_bytree=1,\n",
       "              device=None, early_stopping_rounds=None, enable_categorical=False,\n",
       "              eval_metric=&#x27;logloss&#x27;, feature_types=None,\n",
       "              gamma=6.384905359051449e-10, grow_policy=None,\n",
       "              importance_type=None, interaction_constraints=None,\n",
       "              learning_rate=0.4507787503025981, max_bin=None,\n",
       "              max_cat_threshold=None, max_cat_to_onehot=None,\n",
       "              max_delta_step=None, max_depth=2, max_leaves=None,\n",
       "              min_child_weight=None, missing=nan, monotone_constraints=None,\n",
       "              multi_strategy=None, n_estimators=557, n_jobs=-1,\n",
       "              num_parallel_tree=None, random_state=None, ...)</pre><b>In a Jupyter environment, please rerun this cell to show the HTML representation or trust the notebook. <br />On GitHub, the HTML representation is unable to render, please try loading this page with nbviewer.org.</b></div><div class=\"sk-container\" hidden><div class=\"sk-item\"><div class=\"sk-estimator fitted sk-toggleable\"><input class=\"sk-toggleable__control sk-hidden--visually\" id=\"sk-estimator-id-3\" type=\"checkbox\" checked><label for=\"sk-estimator-id-3\" class=\"sk-toggleable__label fitted sk-toggleable__label-arrow fitted\">&nbsp;XGBClassifier<span class=\"sk-estimator-doc-link fitted\">i<span>Fitted</span></span></label><div class=\"sk-toggleable__content fitted\"><pre>XGBClassifier(base_score=None, booster=None, callbacks=None,\n",
       "              colsample_bylevel=None, colsample_bynode=None, colsample_bytree=1,\n",
       "              device=None, early_stopping_rounds=None, enable_categorical=False,\n",
       "              eval_metric=&#x27;logloss&#x27;, feature_types=None,\n",
       "              gamma=6.384905359051449e-10, grow_policy=None,\n",
       "              importance_type=None, interaction_constraints=None,\n",
       "              learning_rate=0.4507787503025981, max_bin=None,\n",
       "              max_cat_threshold=None, max_cat_to_onehot=None,\n",
       "              max_delta_step=None, max_depth=2, max_leaves=None,\n",
       "              min_child_weight=None, missing=nan, monotone_constraints=None,\n",
       "              multi_strategy=None, n_estimators=557, n_jobs=-1,\n",
       "              num_parallel_tree=None, random_state=None, ...)</pre></div> </div></div></div></div>"
      ],
      "text/plain": [
       "XGBClassifier(base_score=None, booster=None, callbacks=None,\n",
       "              colsample_bylevel=None, colsample_bynode=None, colsample_bytree=1,\n",
       "              device=None, early_stopping_rounds=None, enable_categorical=False,\n",
       "              eval_metric='logloss', feature_types=None,\n",
       "              gamma=6.384905359051449e-10, grow_policy=None,\n",
       "              importance_type=None, interaction_constraints=None,\n",
       "              learning_rate=0.4507787503025981, max_bin=None,\n",
       "              max_cat_threshold=None, max_cat_to_onehot=None,\n",
       "              max_delta_step=None, max_depth=2, max_leaves=None,\n",
       "              min_child_weight=None, missing=nan, monotone_constraints=None,\n",
       "              multi_strategy=None, n_estimators=557, n_jobs=-1,\n",
       "              num_parallel_tree=None, random_state=None, ...)"
      ]
     },
     "execution_count": 35,
     "metadata": {},
     "output_type": "execute_result"
    }
   ],
   "source": [
    "from xgboost import XGBClassifier\n",
    "from sklearn.model_selection import train_test_split\n",
    "\n",
    "# model = XGBClassifier(**best_params)\n",
    "\n",
    "model = model = XGBClassifier(\n",
    "    objective=\"binary:logistic\",\n",
    "    use_label_encoder=False,\n",
    "    eval_metric=\"logloss\",\n",
    "    colsample_bytree=1,\n",
    "    n_jobs=-1,\n",
    "    scale_pos_weight=42,\n",
    "    reg_lambda=0.017636592766577953,\n",
    "    reg_alpha=0.03834292094431529,\n",
    "    learning_rate=0.4507787503025981,\n",
    "    n_estimators=557,\n",
    "    gamma=6.384905359051449e-10,\n",
    "    max_depth=2,\n",
    ")\n",
    "\n",
    "X_train, X_test, y_train, y_test = train_test_split(\n",
    "    tfidf_scores, labels, test_size=0.333, stratify=labels, random_state=7\n",
    ")\n",
    "\n",
    "model.fit(X_train, y_train)"
   ]
  },
  {
   "cell_type": "code",
   "execution_count": 36,
   "metadata": {},
   "outputs": [
    {
     "data": {
      "application/vnd.plotly.v1+json": {
       "config": {
        "plotlyServerURL": "https://plot.ly"
       },
       "data": [
        {
         "customdata": [
          [
           "inf"
          ],
          [
           "0.9995"
          ],
          [
           "0.9994"
          ],
          [
           "0.9869"
          ],
          [
           "0.9469"
          ],
          [
           "0.7209"
          ],
          [
           "0.4992"
          ],
          [
           "0.4987"
          ],
          [
           "0.4971"
          ],
          [
           "0.1959"
          ],
          [
           "0.1519"
          ],
          [
           "0.1315"
          ],
          [
           "0.1253"
          ],
          [
           "0.009851"
          ],
          [
           "0.009745"
          ],
          [
           "0.005665"
          ],
          [
           "0.005319"
          ],
          [
           "0.002441"
          ],
          [
           "0.00238"
          ],
          [
           "0.0003368"
          ],
          [
           "0.0003307"
          ],
          [
           "9.794e-05"
          ],
          [
           "9.732e-05"
          ],
          [
           "8.687e-05"
          ],
          [
           "8.453e-05"
          ],
          [
           "2.957e-05"
          ],
          [
           "2.892e-05"
          ],
          [
           "1.804e-05"
          ],
          [
           "1.789e-05"
          ],
          [
           "1.061e-05"
          ],
          [
           "1.039e-05"
          ],
          [
           "7.001e-06"
          ],
          [
           "6.425e-06"
          ],
          [
           "6.401e-06"
          ],
          [
           "1.191e-06"
          ]
         ],
         "fillpattern": {
          "shape": ""
         },
         "hovertemplate": "False Positive Rate=%{x}<br>True Positive Rate=%{y}<br>Threshold=%{customdata[0]}<extra></extra>",
         "legendgroup": "",
         "line": {
          "color": "#636efa"
         },
         "marker": {
          "symbol": "circle"
         },
         "mode": "lines",
         "name": "",
         "orientation": "v",
         "showlegend": false,
         "stackgroup": "1",
         "type": "scatter",
         "x": [
          0,
          0,
          0,
          0.004987531172069825,
          0.004987531172069825,
          0.00997506234413965,
          0.00997506234413965,
          0.012468827930174564,
          0.012468827930174564,
          0.017456359102244388,
          0.017456359102244388,
          0.0199501246882793,
          0.0199501246882793,
          0.09725685785536159,
          0.09725685785536159,
          0.12468827930174564,
          0.12468827930174564,
          0.1596009975062344,
          0.1596009975062344,
          0.34663341645885287,
          0.34663341645885287,
          0.5112219451371571,
          0.5112219451371571,
          0.5236907730673317,
          0.5286783042394015,
          0.683291770573566,
          0.6882793017456359,
          0.7481296758104738,
          0.7605985037406484,
          0.8379052369077307,
          0.8428927680798005,
          0.8827930174563591,
          0.9476309226932669,
          0.9526184538653366,
          1
         ],
         "xaxis": "x",
         "y": [
          0,
          0.2,
          0.26666666666666666,
          0.26666666666666666,
          0.3333333333333333,
          0.3333333333333333,
          0.4,
          0.4,
          0.4666666666666667,
          0.4666666666666667,
          0.6,
          0.6,
          0.6666666666666666,
          0.6666666666666666,
          0.7333333333333333,
          0.7333333333333333,
          0.8,
          0.8,
          0.8666666666666667,
          0.8666666666666667,
          0.9333333333333333,
          0.9333333333333333,
          1,
          1,
          1,
          1,
          1,
          1,
          1,
          1,
          1,
          1,
          1,
          1,
          1
         ],
         "yaxis": "y"
        }
       ],
       "layout": {
        "height": 600,
        "legend": {
         "tracegroupgap": 0
        },
        "shapes": [
         {
          "line": {
           "color": "grey",
           "dash": "dash"
          },
          "type": "line",
          "x0": 0,
          "x1": 1,
          "y0": 0,
          "y1": 1
         }
        ],
        "template": {
         "data": {
          "bar": [
           {
            "error_x": {
             "color": "#2a3f5f"
            },
            "error_y": {
             "color": "#2a3f5f"
            },
            "marker": {
             "line": {
              "color": "#E5ECF6",
              "width": 0.5
             },
             "pattern": {
              "fillmode": "overlay",
              "size": 10,
              "solidity": 0.2
             }
            },
            "type": "bar"
           }
          ],
          "barpolar": [
           {
            "marker": {
             "line": {
              "color": "#E5ECF6",
              "width": 0.5
             },
             "pattern": {
              "fillmode": "overlay",
              "size": 10,
              "solidity": 0.2
             }
            },
            "type": "barpolar"
           }
          ],
          "carpet": [
           {
            "aaxis": {
             "endlinecolor": "#2a3f5f",
             "gridcolor": "white",
             "linecolor": "white",
             "minorgridcolor": "white",
             "startlinecolor": "#2a3f5f"
            },
            "baxis": {
             "endlinecolor": "#2a3f5f",
             "gridcolor": "white",
             "linecolor": "white",
             "minorgridcolor": "white",
             "startlinecolor": "#2a3f5f"
            },
            "type": "carpet"
           }
          ],
          "choropleth": [
           {
            "colorbar": {
             "outlinewidth": 0,
             "ticks": ""
            },
            "type": "choropleth"
           }
          ],
          "contour": [
           {
            "colorbar": {
             "outlinewidth": 0,
             "ticks": ""
            },
            "colorscale": [
             [
              0,
              "#0d0887"
             ],
             [
              0.1111111111111111,
              "#46039f"
             ],
             [
              0.2222222222222222,
              "#7201a8"
             ],
             [
              0.3333333333333333,
              "#9c179e"
             ],
             [
              0.4444444444444444,
              "#bd3786"
             ],
             [
              0.5555555555555556,
              "#d8576b"
             ],
             [
              0.6666666666666666,
              "#ed7953"
             ],
             [
              0.7777777777777778,
              "#fb9f3a"
             ],
             [
              0.8888888888888888,
              "#fdca26"
             ],
             [
              1,
              "#f0f921"
             ]
            ],
            "type": "contour"
           }
          ],
          "contourcarpet": [
           {
            "colorbar": {
             "outlinewidth": 0,
             "ticks": ""
            },
            "type": "contourcarpet"
           }
          ],
          "heatmap": [
           {
            "colorbar": {
             "outlinewidth": 0,
             "ticks": ""
            },
            "colorscale": [
             [
              0,
              "#0d0887"
             ],
             [
              0.1111111111111111,
              "#46039f"
             ],
             [
              0.2222222222222222,
              "#7201a8"
             ],
             [
              0.3333333333333333,
              "#9c179e"
             ],
             [
              0.4444444444444444,
              "#bd3786"
             ],
             [
              0.5555555555555556,
              "#d8576b"
             ],
             [
              0.6666666666666666,
              "#ed7953"
             ],
             [
              0.7777777777777778,
              "#fb9f3a"
             ],
             [
              0.8888888888888888,
              "#fdca26"
             ],
             [
              1,
              "#f0f921"
             ]
            ],
            "type": "heatmap"
           }
          ],
          "heatmapgl": [
           {
            "colorbar": {
             "outlinewidth": 0,
             "ticks": ""
            },
            "colorscale": [
             [
              0,
              "#0d0887"
             ],
             [
              0.1111111111111111,
              "#46039f"
             ],
             [
              0.2222222222222222,
              "#7201a8"
             ],
             [
              0.3333333333333333,
              "#9c179e"
             ],
             [
              0.4444444444444444,
              "#bd3786"
             ],
             [
              0.5555555555555556,
              "#d8576b"
             ],
             [
              0.6666666666666666,
              "#ed7953"
             ],
             [
              0.7777777777777778,
              "#fb9f3a"
             ],
             [
              0.8888888888888888,
              "#fdca26"
             ],
             [
              1,
              "#f0f921"
             ]
            ],
            "type": "heatmapgl"
           }
          ],
          "histogram": [
           {
            "marker": {
             "pattern": {
              "fillmode": "overlay",
              "size": 10,
              "solidity": 0.2
             }
            },
            "type": "histogram"
           }
          ],
          "histogram2d": [
           {
            "colorbar": {
             "outlinewidth": 0,
             "ticks": ""
            },
            "colorscale": [
             [
              0,
              "#0d0887"
             ],
             [
              0.1111111111111111,
              "#46039f"
             ],
             [
              0.2222222222222222,
              "#7201a8"
             ],
             [
              0.3333333333333333,
              "#9c179e"
             ],
             [
              0.4444444444444444,
              "#bd3786"
             ],
             [
              0.5555555555555556,
              "#d8576b"
             ],
             [
              0.6666666666666666,
              "#ed7953"
             ],
             [
              0.7777777777777778,
              "#fb9f3a"
             ],
             [
              0.8888888888888888,
              "#fdca26"
             ],
             [
              1,
              "#f0f921"
             ]
            ],
            "type": "histogram2d"
           }
          ],
          "histogram2dcontour": [
           {
            "colorbar": {
             "outlinewidth": 0,
             "ticks": ""
            },
            "colorscale": [
             [
              0,
              "#0d0887"
             ],
             [
              0.1111111111111111,
              "#46039f"
             ],
             [
              0.2222222222222222,
              "#7201a8"
             ],
             [
              0.3333333333333333,
              "#9c179e"
             ],
             [
              0.4444444444444444,
              "#bd3786"
             ],
             [
              0.5555555555555556,
              "#d8576b"
             ],
             [
              0.6666666666666666,
              "#ed7953"
             ],
             [
              0.7777777777777778,
              "#fb9f3a"
             ],
             [
              0.8888888888888888,
              "#fdca26"
             ],
             [
              1,
              "#f0f921"
             ]
            ],
            "type": "histogram2dcontour"
           }
          ],
          "mesh3d": [
           {
            "colorbar": {
             "outlinewidth": 0,
             "ticks": ""
            },
            "type": "mesh3d"
           }
          ],
          "parcoords": [
           {
            "line": {
             "colorbar": {
              "outlinewidth": 0,
              "ticks": ""
             }
            },
            "type": "parcoords"
           }
          ],
          "pie": [
           {
            "automargin": true,
            "type": "pie"
           }
          ],
          "scatter": [
           {
            "fillpattern": {
             "fillmode": "overlay",
             "size": 10,
             "solidity": 0.2
            },
            "type": "scatter"
           }
          ],
          "scatter3d": [
           {
            "line": {
             "colorbar": {
              "outlinewidth": 0,
              "ticks": ""
             }
            },
            "marker": {
             "colorbar": {
              "outlinewidth": 0,
              "ticks": ""
             }
            },
            "type": "scatter3d"
           }
          ],
          "scattercarpet": [
           {
            "marker": {
             "colorbar": {
              "outlinewidth": 0,
              "ticks": ""
             }
            },
            "type": "scattercarpet"
           }
          ],
          "scattergeo": [
           {
            "marker": {
             "colorbar": {
              "outlinewidth": 0,
              "ticks": ""
             }
            },
            "type": "scattergeo"
           }
          ],
          "scattergl": [
           {
            "marker": {
             "colorbar": {
              "outlinewidth": 0,
              "ticks": ""
             }
            },
            "type": "scattergl"
           }
          ],
          "scattermapbox": [
           {
            "marker": {
             "colorbar": {
              "outlinewidth": 0,
              "ticks": ""
             }
            },
            "type": "scattermapbox"
           }
          ],
          "scatterpolar": [
           {
            "marker": {
             "colorbar": {
              "outlinewidth": 0,
              "ticks": ""
             }
            },
            "type": "scatterpolar"
           }
          ],
          "scatterpolargl": [
           {
            "marker": {
             "colorbar": {
              "outlinewidth": 0,
              "ticks": ""
             }
            },
            "type": "scatterpolargl"
           }
          ],
          "scatterternary": [
           {
            "marker": {
             "colorbar": {
              "outlinewidth": 0,
              "ticks": ""
             }
            },
            "type": "scatterternary"
           }
          ],
          "surface": [
           {
            "colorbar": {
             "outlinewidth": 0,
             "ticks": ""
            },
            "colorscale": [
             [
              0,
              "#0d0887"
             ],
             [
              0.1111111111111111,
              "#46039f"
             ],
             [
              0.2222222222222222,
              "#7201a8"
             ],
             [
              0.3333333333333333,
              "#9c179e"
             ],
             [
              0.4444444444444444,
              "#bd3786"
             ],
             [
              0.5555555555555556,
              "#d8576b"
             ],
             [
              0.6666666666666666,
              "#ed7953"
             ],
             [
              0.7777777777777778,
              "#fb9f3a"
             ],
             [
              0.8888888888888888,
              "#fdca26"
             ],
             [
              1,
              "#f0f921"
             ]
            ],
            "type": "surface"
           }
          ],
          "table": [
           {
            "cells": {
             "fill": {
              "color": "#EBF0F8"
             },
             "line": {
              "color": "white"
             }
            },
            "header": {
             "fill": {
              "color": "#C8D4E3"
             },
             "line": {
              "color": "white"
             }
            },
            "type": "table"
           }
          ]
         },
         "layout": {
          "annotationdefaults": {
           "arrowcolor": "#2a3f5f",
           "arrowhead": 0,
           "arrowwidth": 1
          },
          "autotypenumbers": "strict",
          "coloraxis": {
           "colorbar": {
            "outlinewidth": 0,
            "ticks": ""
           }
          },
          "colorscale": {
           "diverging": [
            [
             0,
             "#8e0152"
            ],
            [
             0.1,
             "#c51b7d"
            ],
            [
             0.2,
             "#de77ae"
            ],
            [
             0.3,
             "#f1b6da"
            ],
            [
             0.4,
             "#fde0ef"
            ],
            [
             0.5,
             "#f7f7f7"
            ],
            [
             0.6,
             "#e6f5d0"
            ],
            [
             0.7,
             "#b8e186"
            ],
            [
             0.8,
             "#7fbc41"
            ],
            [
             0.9,
             "#4d9221"
            ],
            [
             1,
             "#276419"
            ]
           ],
           "sequential": [
            [
             0,
             "#0d0887"
            ],
            [
             0.1111111111111111,
             "#46039f"
            ],
            [
             0.2222222222222222,
             "#7201a8"
            ],
            [
             0.3333333333333333,
             "#9c179e"
            ],
            [
             0.4444444444444444,
             "#bd3786"
            ],
            [
             0.5555555555555556,
             "#d8576b"
            ],
            [
             0.6666666666666666,
             "#ed7953"
            ],
            [
             0.7777777777777778,
             "#fb9f3a"
            ],
            [
             0.8888888888888888,
             "#fdca26"
            ],
            [
             1,
             "#f0f921"
            ]
           ],
           "sequentialminus": [
            [
             0,
             "#0d0887"
            ],
            [
             0.1111111111111111,
             "#46039f"
            ],
            [
             0.2222222222222222,
             "#7201a8"
            ],
            [
             0.3333333333333333,
             "#9c179e"
            ],
            [
             0.4444444444444444,
             "#bd3786"
            ],
            [
             0.5555555555555556,
             "#d8576b"
            ],
            [
             0.6666666666666666,
             "#ed7953"
            ],
            [
             0.7777777777777778,
             "#fb9f3a"
            ],
            [
             0.8888888888888888,
             "#fdca26"
            ],
            [
             1,
             "#f0f921"
            ]
           ]
          },
          "colorway": [
           "#636efa",
           "#EF553B",
           "#00cc96",
           "#ab63fa",
           "#FFA15A",
           "#19d3f3",
           "#FF6692",
           "#B6E880",
           "#FF97FF",
           "#FECB52"
          ],
          "font": {
           "color": "#2a3f5f"
          },
          "geo": {
           "bgcolor": "white",
           "lakecolor": "white",
           "landcolor": "#E5ECF6",
           "showlakes": true,
           "showland": true,
           "subunitcolor": "white"
          },
          "hoverlabel": {
           "align": "left"
          },
          "hovermode": "closest",
          "mapbox": {
           "style": "light"
          },
          "paper_bgcolor": "white",
          "plot_bgcolor": "#E5ECF6",
          "polar": {
           "angularaxis": {
            "gridcolor": "white",
            "linecolor": "white",
            "ticks": ""
           },
           "bgcolor": "#E5ECF6",
           "radialaxis": {
            "gridcolor": "white",
            "linecolor": "white",
            "ticks": ""
           }
          },
          "scene": {
           "xaxis": {
            "backgroundcolor": "#E5ECF6",
            "gridcolor": "white",
            "gridwidth": 2,
            "linecolor": "white",
            "showbackground": true,
            "ticks": "",
            "zerolinecolor": "white"
           },
           "yaxis": {
            "backgroundcolor": "#E5ECF6",
            "gridcolor": "white",
            "gridwidth": 2,
            "linecolor": "white",
            "showbackground": true,
            "ticks": "",
            "zerolinecolor": "white"
           },
           "zaxis": {
            "backgroundcolor": "#E5ECF6",
            "gridcolor": "white",
            "gridwidth": 2,
            "linecolor": "white",
            "showbackground": true,
            "ticks": "",
            "zerolinecolor": "white"
           }
          },
          "shapedefaults": {
           "line": {
            "color": "#2a3f5f"
           }
          },
          "ternary": {
           "aaxis": {
            "gridcolor": "white",
            "linecolor": "white",
            "ticks": ""
           },
           "baxis": {
            "gridcolor": "white",
            "linecolor": "white",
            "ticks": ""
           },
           "bgcolor": "#E5ECF6",
           "caxis": {
            "gridcolor": "white",
            "linecolor": "white",
            "ticks": ""
           }
          },
          "title": {
           "x": 0.05
          },
          "xaxis": {
           "automargin": true,
           "gridcolor": "white",
           "linecolor": "white",
           "ticks": "",
           "title": {
            "standoff": 15
           },
           "zerolinecolor": "white",
           "zerolinewidth": 2
          },
          "yaxis": {
           "automargin": true,
           "gridcolor": "white",
           "linecolor": "white",
           "ticks": "",
           "title": {
            "standoff": 15
           },
           "zerolinecolor": "white",
           "zerolinewidth": 2
          }
         }
        },
        "title": {
         "text": "ROC Curve (AUC=0.9119)",
         "x": 0.5,
         "xanchor": "center"
        },
        "width": 600,
        "xaxis": {
         "anchor": "y",
         "constrain": "domain",
         "domain": [
          0,
          1
         ],
         "title": {
          "text": "False Positive Rate"
         }
        },
        "yaxis": {
         "anchor": "x",
         "domain": [
          0,
          1
         ],
         "scaleanchor": "x",
         "scaleratio": 1,
         "title": {
          "text": "True Positive Rate"
         }
        }
       }
      }
     },
     "metadata": {},
     "output_type": "display_data"
    }
   ],
   "source": [
    "from eppi_text_classification.predict import predict_probabilities\n",
    "from eppi_text_classification.plotly_roc import plotly_roc\n",
    "\n",
    "y_test_pred_probs = predict_probabilities(model, X_test)\n",
    "plotly_roc(y_test, y_test_pred_probs)"
   ]
  },
  {
   "cell_type": "code",
   "execution_count": 38,
   "metadata": {},
   "outputs": [],
   "source": [
    "from eppi_text_classification.predict import (\n",
    "    get_threshold,\n",
    "    threshold_predict,\n",
    ")\n",
    "\n",
    "\n",
    "threshold = get_threshold(model, X_test, y_test, target_tpr=1)\n",
    "\n",
    "y_test_pred = threshold_predict(model, X_test, threshold)\n",
    "y_train_pred = threshold_predict(model, X_train, threshold)"
   ]
  },
  {
   "cell_type": "code",
   "execution_count": 39,
   "metadata": {},
   "outputs": [
    {
     "data": {
      "application/vnd.plotly.v1+json": {
       "config": {
        "plotlyServerURL": "https://plot.ly"
       },
       "data": [
        {
         "colorscale": [
          [
           0,
           "rgb(247,251,255)"
          ],
          [
           0.125,
           "rgb(222,235,247)"
          ],
          [
           0.25,
           "rgb(198,219,239)"
          ],
          [
           0.375,
           "rgb(158,202,225)"
          ],
          [
           0.5,
           "rgb(107,174,214)"
          ],
          [
           0.625,
           "rgb(66,146,198)"
          ],
          [
           0.75,
           "rgb(33,113,181)"
          ],
          [
           0.875,
           "rgb(8,81,156)"
          ],
          [
           1,
           "rgb(8,48,107)"
          ]
         ],
         "hoverinfo": "text",
         "showscale": false,
         "text": [
          [
           "Truth: Excluded<br>Prediction: Included<br>Total: 404",
           "Truth: Excluded<br>Prediction: Excluded<br>Total: 399"
          ],
          [
           "Truth: Included<br>Prediction: Included<br>Total: 29",
           "Truth: Included<br>Prediction: Excluded<br>Total: 0"
          ]
         ],
         "type": "heatmap",
         "x": [
          "0",
          "1"
         ],
         "xaxis": "x",
         "y": [
          "0",
          "1"
         ],
         "yaxis": "y",
         "z": [
          [
           404,
           399
          ],
          [
           29,
           0
          ]
         ]
        },
        {
         "colorscale": [
          [
           0,
           "rgb(247,251,255)"
          ],
          [
           0.125,
           "rgb(222,235,247)"
          ],
          [
           0.25,
           "rgb(198,219,239)"
          ],
          [
           0.375,
           "rgb(158,202,225)"
          ],
          [
           0.5,
           "rgb(107,174,214)"
          ],
          [
           0.625,
           "rgb(66,146,198)"
          ],
          [
           0.75,
           "rgb(33,113,181)"
          ],
          [
           0.875,
           "rgb(8,81,156)"
          ],
          [
           1,
           "rgb(8,48,107)"
          ]
         ],
         "hoverinfo": "text",
         "showscale": false,
         "text": [
          [
           "Truth: Excluded<br>Prediction: Included<br>Total: 205",
           "Truth: Excluded<br>Prediction: Excluded<br>Total: 196"
          ],
          [
           "Truth: Included<br>Prediction: Included<br>Total: 15",
           "Truth: Included<br>Prediction: Excluded<br>Total: 0"
          ]
         ],
         "type": "heatmap",
         "x": [
          "0",
          "1"
         ],
         "xaxis": "x2",
         "y": [
          "0",
          "1"
         ],
         "yaxis": "y2",
         "z": [
          [
           205,
           196
          ],
          [
           15,
           0
          ]
         ]
        }
       ],
       "layout": {
        "annotations": [
         {
          "font": {
           "size": 18
          },
          "showarrow": false,
          "text": "Training Matrix",
          "x": 0.2125,
          "xanchor": "center",
          "xref": "paper",
          "y": 1.03,
          "yanchor": "bottom",
          "yref": "paper"
         },
         {
          "font": {
           "size": 18
          },
          "showarrow": false,
          "text": "Validation Matrix",
          "x": 0.7875,
          "xanchor": "center",
          "xref": "paper",
          "y": 1.03,
          "yanchor": "bottom",
          "yref": "paper"
         },
         {
          "font": {
           "color": "white"
          },
          "showarrow": false,
          "text": "404",
          "x": "0",
          "xref": "x",
          "y": "0",
          "yref": "y"
         },
         {
          "font": {
           "color": "white"
          },
          "showarrow": false,
          "text": "399",
          "x": "1",
          "xref": "x",
          "y": "0",
          "yref": "y"
         },
         {
          "font": {
           "color": " dark blue"
          },
          "showarrow": false,
          "text": "29",
          "x": "0",
          "xref": "x",
          "y": "1",
          "yref": "y"
         },
         {
          "font": {
           "color": " dark blue"
          },
          "showarrow": false,
          "text": "0",
          "x": "1",
          "xref": "x",
          "y": "1",
          "yref": "y"
         },
         {
          "font": {
           "color": "white"
          },
          "showarrow": false,
          "text": "205",
          "x": "0",
          "xref": "x2",
          "y": "0",
          "yref": "y2"
         },
         {
          "font": {
           "color": "white"
          },
          "showarrow": false,
          "text": "196",
          "x": "1",
          "xref": "x2",
          "y": "0",
          "yref": "y2"
         },
         {
          "font": {
           "color": " dark blue"
          },
          "showarrow": false,
          "text": "15",
          "x": "0",
          "xref": "x2",
          "y": "1",
          "yref": "y2"
         },
         {
          "font": {
           "color": " dark blue"
          },
          "showarrow": false,
          "text": "0",
          "x": "1",
          "xref": "x2",
          "y": "1",
          "yref": "y2"
         }
        ],
        "autosize": false,
        "height": 400,
        "shapes": [
         {
          "line": {
           "color": "black",
           "width": 2
          },
          "type": "rect",
          "x0": -0.5,
          "x1": 1.5,
          "xref": "x",
          "y0": -0.5,
          "y1": 1.5,
          "yref": "y"
         },
         {
          "line": {
           "color": "black",
           "width": 1.5
          },
          "type": "line",
          "x0": -0.5,
          "x1": 1.5,
          "xref": "x",
          "y0": 0.5,
          "y1": 0.5,
          "yref": "y"
         },
         {
          "line": {
           "color": "black",
           "width": 1.5
          },
          "type": "line",
          "x0": 0.5,
          "x1": 0.5,
          "xref": "x",
          "y0": -0.5,
          "y1": 1.5,
          "yref": "y"
         },
         {
          "line": {
           "color": "black",
           "width": 2
          },
          "type": "rect",
          "x0": -0.5,
          "x1": 1.5,
          "xref": "x2",
          "y0": -0.5,
          "y1": 1.5,
          "yref": "y2"
         },
         {
          "line": {
           "color": "black",
           "width": 1.5
          },
          "type": "line",
          "x0": -0.5,
          "x1": 1.5,
          "xref": "x2",
          "y0": 0.5,
          "y1": 0.5,
          "yref": "y2"
         },
         {
          "line": {
           "color": "black",
           "width": 1.5
          },
          "type": "line",
          "x0": 0.5,
          "x1": 0.5,
          "xref": "x2",
          "y0": -0.5,
          "y1": 1.5,
          "yref": "y2"
         }
        ],
        "template": {
         "data": {
          "bar": [
           {
            "error_x": {
             "color": "#2a3f5f"
            },
            "error_y": {
             "color": "#2a3f5f"
            },
            "marker": {
             "line": {
              "color": "#E5ECF6",
              "width": 0.5
             },
             "pattern": {
              "fillmode": "overlay",
              "size": 10,
              "solidity": 0.2
             }
            },
            "type": "bar"
           }
          ],
          "barpolar": [
           {
            "marker": {
             "line": {
              "color": "#E5ECF6",
              "width": 0.5
             },
             "pattern": {
              "fillmode": "overlay",
              "size": 10,
              "solidity": 0.2
             }
            },
            "type": "barpolar"
           }
          ],
          "carpet": [
           {
            "aaxis": {
             "endlinecolor": "#2a3f5f",
             "gridcolor": "white",
             "linecolor": "white",
             "minorgridcolor": "white",
             "startlinecolor": "#2a3f5f"
            },
            "baxis": {
             "endlinecolor": "#2a3f5f",
             "gridcolor": "white",
             "linecolor": "white",
             "minorgridcolor": "white",
             "startlinecolor": "#2a3f5f"
            },
            "type": "carpet"
           }
          ],
          "choropleth": [
           {
            "colorbar": {
             "outlinewidth": 0,
             "ticks": ""
            },
            "type": "choropleth"
           }
          ],
          "contour": [
           {
            "colorbar": {
             "outlinewidth": 0,
             "ticks": ""
            },
            "colorscale": [
             [
              0,
              "#0d0887"
             ],
             [
              0.1111111111111111,
              "#46039f"
             ],
             [
              0.2222222222222222,
              "#7201a8"
             ],
             [
              0.3333333333333333,
              "#9c179e"
             ],
             [
              0.4444444444444444,
              "#bd3786"
             ],
             [
              0.5555555555555556,
              "#d8576b"
             ],
             [
              0.6666666666666666,
              "#ed7953"
             ],
             [
              0.7777777777777778,
              "#fb9f3a"
             ],
             [
              0.8888888888888888,
              "#fdca26"
             ],
             [
              1,
              "#f0f921"
             ]
            ],
            "type": "contour"
           }
          ],
          "contourcarpet": [
           {
            "colorbar": {
             "outlinewidth": 0,
             "ticks": ""
            },
            "type": "contourcarpet"
           }
          ],
          "heatmap": [
           {
            "colorbar": {
             "outlinewidth": 0,
             "ticks": ""
            },
            "colorscale": [
             [
              0,
              "#0d0887"
             ],
             [
              0.1111111111111111,
              "#46039f"
             ],
             [
              0.2222222222222222,
              "#7201a8"
             ],
             [
              0.3333333333333333,
              "#9c179e"
             ],
             [
              0.4444444444444444,
              "#bd3786"
             ],
             [
              0.5555555555555556,
              "#d8576b"
             ],
             [
              0.6666666666666666,
              "#ed7953"
             ],
             [
              0.7777777777777778,
              "#fb9f3a"
             ],
             [
              0.8888888888888888,
              "#fdca26"
             ],
             [
              1,
              "#f0f921"
             ]
            ],
            "type": "heatmap"
           }
          ],
          "heatmapgl": [
           {
            "colorbar": {
             "outlinewidth": 0,
             "ticks": ""
            },
            "colorscale": [
             [
              0,
              "#0d0887"
             ],
             [
              0.1111111111111111,
              "#46039f"
             ],
             [
              0.2222222222222222,
              "#7201a8"
             ],
             [
              0.3333333333333333,
              "#9c179e"
             ],
             [
              0.4444444444444444,
              "#bd3786"
             ],
             [
              0.5555555555555556,
              "#d8576b"
             ],
             [
              0.6666666666666666,
              "#ed7953"
             ],
             [
              0.7777777777777778,
              "#fb9f3a"
             ],
             [
              0.8888888888888888,
              "#fdca26"
             ],
             [
              1,
              "#f0f921"
             ]
            ],
            "type": "heatmapgl"
           }
          ],
          "histogram": [
           {
            "marker": {
             "pattern": {
              "fillmode": "overlay",
              "size": 10,
              "solidity": 0.2
             }
            },
            "type": "histogram"
           }
          ],
          "histogram2d": [
           {
            "colorbar": {
             "outlinewidth": 0,
             "ticks": ""
            },
            "colorscale": [
             [
              0,
              "#0d0887"
             ],
             [
              0.1111111111111111,
              "#46039f"
             ],
             [
              0.2222222222222222,
              "#7201a8"
             ],
             [
              0.3333333333333333,
              "#9c179e"
             ],
             [
              0.4444444444444444,
              "#bd3786"
             ],
             [
              0.5555555555555556,
              "#d8576b"
             ],
             [
              0.6666666666666666,
              "#ed7953"
             ],
             [
              0.7777777777777778,
              "#fb9f3a"
             ],
             [
              0.8888888888888888,
              "#fdca26"
             ],
             [
              1,
              "#f0f921"
             ]
            ],
            "type": "histogram2d"
           }
          ],
          "histogram2dcontour": [
           {
            "colorbar": {
             "outlinewidth": 0,
             "ticks": ""
            },
            "colorscale": [
             [
              0,
              "#0d0887"
             ],
             [
              0.1111111111111111,
              "#46039f"
             ],
             [
              0.2222222222222222,
              "#7201a8"
             ],
             [
              0.3333333333333333,
              "#9c179e"
             ],
             [
              0.4444444444444444,
              "#bd3786"
             ],
             [
              0.5555555555555556,
              "#d8576b"
             ],
             [
              0.6666666666666666,
              "#ed7953"
             ],
             [
              0.7777777777777778,
              "#fb9f3a"
             ],
             [
              0.8888888888888888,
              "#fdca26"
             ],
             [
              1,
              "#f0f921"
             ]
            ],
            "type": "histogram2dcontour"
           }
          ],
          "mesh3d": [
           {
            "colorbar": {
             "outlinewidth": 0,
             "ticks": ""
            },
            "type": "mesh3d"
           }
          ],
          "parcoords": [
           {
            "line": {
             "colorbar": {
              "outlinewidth": 0,
              "ticks": ""
             }
            },
            "type": "parcoords"
           }
          ],
          "pie": [
           {
            "automargin": true,
            "type": "pie"
           }
          ],
          "scatter": [
           {
            "fillpattern": {
             "fillmode": "overlay",
             "size": 10,
             "solidity": 0.2
            },
            "type": "scatter"
           }
          ],
          "scatter3d": [
           {
            "line": {
             "colorbar": {
              "outlinewidth": 0,
              "ticks": ""
             }
            },
            "marker": {
             "colorbar": {
              "outlinewidth": 0,
              "ticks": ""
             }
            },
            "type": "scatter3d"
           }
          ],
          "scattercarpet": [
           {
            "marker": {
             "colorbar": {
              "outlinewidth": 0,
              "ticks": ""
             }
            },
            "type": "scattercarpet"
           }
          ],
          "scattergeo": [
           {
            "marker": {
             "colorbar": {
              "outlinewidth": 0,
              "ticks": ""
             }
            },
            "type": "scattergeo"
           }
          ],
          "scattergl": [
           {
            "marker": {
             "colorbar": {
              "outlinewidth": 0,
              "ticks": ""
             }
            },
            "type": "scattergl"
           }
          ],
          "scattermapbox": [
           {
            "marker": {
             "colorbar": {
              "outlinewidth": 0,
              "ticks": ""
             }
            },
            "type": "scattermapbox"
           }
          ],
          "scatterpolar": [
           {
            "marker": {
             "colorbar": {
              "outlinewidth": 0,
              "ticks": ""
             }
            },
            "type": "scatterpolar"
           }
          ],
          "scatterpolargl": [
           {
            "marker": {
             "colorbar": {
              "outlinewidth": 0,
              "ticks": ""
             }
            },
            "type": "scatterpolargl"
           }
          ],
          "scatterternary": [
           {
            "marker": {
             "colorbar": {
              "outlinewidth": 0,
              "ticks": ""
             }
            },
            "type": "scatterternary"
           }
          ],
          "surface": [
           {
            "colorbar": {
             "outlinewidth": 0,
             "ticks": ""
            },
            "colorscale": [
             [
              0,
              "#0d0887"
             ],
             [
              0.1111111111111111,
              "#46039f"
             ],
             [
              0.2222222222222222,
              "#7201a8"
             ],
             [
              0.3333333333333333,
              "#9c179e"
             ],
             [
              0.4444444444444444,
              "#bd3786"
             ],
             [
              0.5555555555555556,
              "#d8576b"
             ],
             [
              0.6666666666666666,
              "#ed7953"
             ],
             [
              0.7777777777777778,
              "#fb9f3a"
             ],
             [
              0.8888888888888888,
              "#fdca26"
             ],
             [
              1,
              "#f0f921"
             ]
            ],
            "type": "surface"
           }
          ],
          "table": [
           {
            "cells": {
             "fill": {
              "color": "#EBF0F8"
             },
             "line": {
              "color": "white"
             }
            },
            "header": {
             "fill": {
              "color": "#C8D4E3"
             },
             "line": {
              "color": "white"
             }
            },
            "type": "table"
           }
          ]
         },
         "layout": {
          "annotationdefaults": {
           "arrowcolor": "#2a3f5f",
           "arrowhead": 0,
           "arrowwidth": 1
          },
          "autotypenumbers": "strict",
          "coloraxis": {
           "colorbar": {
            "outlinewidth": 0,
            "ticks": ""
           }
          },
          "colorscale": {
           "diverging": [
            [
             0,
             "#8e0152"
            ],
            [
             0.1,
             "#c51b7d"
            ],
            [
             0.2,
             "#de77ae"
            ],
            [
             0.3,
             "#f1b6da"
            ],
            [
             0.4,
             "#fde0ef"
            ],
            [
             0.5,
             "#f7f7f7"
            ],
            [
             0.6,
             "#e6f5d0"
            ],
            [
             0.7,
             "#b8e186"
            ],
            [
             0.8,
             "#7fbc41"
            ],
            [
             0.9,
             "#4d9221"
            ],
            [
             1,
             "#276419"
            ]
           ],
           "sequential": [
            [
             0,
             "#0d0887"
            ],
            [
             0.1111111111111111,
             "#46039f"
            ],
            [
             0.2222222222222222,
             "#7201a8"
            ],
            [
             0.3333333333333333,
             "#9c179e"
            ],
            [
             0.4444444444444444,
             "#bd3786"
            ],
            [
             0.5555555555555556,
             "#d8576b"
            ],
            [
             0.6666666666666666,
             "#ed7953"
            ],
            [
             0.7777777777777778,
             "#fb9f3a"
            ],
            [
             0.8888888888888888,
             "#fdca26"
            ],
            [
             1,
             "#f0f921"
            ]
           ],
           "sequentialminus": [
            [
             0,
             "#0d0887"
            ],
            [
             0.1111111111111111,
             "#46039f"
            ],
            [
             0.2222222222222222,
             "#7201a8"
            ],
            [
             0.3333333333333333,
             "#9c179e"
            ],
            [
             0.4444444444444444,
             "#bd3786"
            ],
            [
             0.5555555555555556,
             "#d8576b"
            ],
            [
             0.6666666666666666,
             "#ed7953"
            ],
            [
             0.7777777777777778,
             "#fb9f3a"
            ],
            [
             0.8888888888888888,
             "#fdca26"
            ],
            [
             1,
             "#f0f921"
            ]
           ]
          },
          "colorway": [
           "#636efa",
           "#EF553B",
           "#00cc96",
           "#ab63fa",
           "#FFA15A",
           "#19d3f3",
           "#FF6692",
           "#B6E880",
           "#FF97FF",
           "#FECB52"
          ],
          "font": {
           "color": "#2a3f5f"
          },
          "geo": {
           "bgcolor": "white",
           "lakecolor": "white",
           "landcolor": "#E5ECF6",
           "showlakes": true,
           "showland": true,
           "subunitcolor": "white"
          },
          "hoverlabel": {
           "align": "left"
          },
          "hovermode": "closest",
          "mapbox": {
           "style": "light"
          },
          "paper_bgcolor": "white",
          "plot_bgcolor": "#E5ECF6",
          "polar": {
           "angularaxis": {
            "gridcolor": "white",
            "linecolor": "white",
            "ticks": ""
           },
           "bgcolor": "#E5ECF6",
           "radialaxis": {
            "gridcolor": "white",
            "linecolor": "white",
            "ticks": ""
           }
          },
          "scene": {
           "xaxis": {
            "backgroundcolor": "#E5ECF6",
            "gridcolor": "white",
            "gridwidth": 2,
            "linecolor": "white",
            "showbackground": true,
            "ticks": "",
            "zerolinecolor": "white"
           },
           "yaxis": {
            "backgroundcolor": "#E5ECF6",
            "gridcolor": "white",
            "gridwidth": 2,
            "linecolor": "white",
            "showbackground": true,
            "ticks": "",
            "zerolinecolor": "white"
           },
           "zaxis": {
            "backgroundcolor": "#E5ECF6",
            "gridcolor": "white",
            "gridwidth": 2,
            "linecolor": "white",
            "showbackground": true,
            "ticks": "",
            "zerolinecolor": "white"
           }
          },
          "shapedefaults": {
           "line": {
            "color": "#2a3f5f"
           }
          },
          "ternary": {
           "aaxis": {
            "gridcolor": "white",
            "linecolor": "white",
            "ticks": ""
           },
           "baxis": {
            "gridcolor": "white",
            "linecolor": "white",
            "ticks": ""
           },
           "bgcolor": "#E5ECF6",
           "caxis": {
            "gridcolor": "white",
            "linecolor": "white",
            "ticks": ""
           }
          },
          "title": {
           "x": 0.05
          },
          "xaxis": {
           "automargin": true,
           "gridcolor": "white",
           "linecolor": "white",
           "ticks": "",
           "title": {
            "standoff": 15
           },
           "zerolinecolor": "white",
           "zerolinewidth": 2
          },
          "yaxis": {
           "automargin": true,
           "gridcolor": "white",
           "linecolor": "white",
           "ticks": "",
           "title": {
            "standoff": 15
           },
           "zerolinecolor": "white",
           "zerolinewidth": 2
          }
         }
        },
        "width": 700,
        "xaxis": {
         "anchor": "y",
         "domain": [
          0,
          0.425
         ],
         "mirror": true,
         "tickcolor": "black",
         "ticklen": 5,
         "tickmode": "array",
         "ticks": "outside",
         "ticktext": [
          "1",
          "0"
         ],
         "tickvals": [
          0,
          1
         ],
         "tickwidth": 1,
         "title": {
          "text": "Prediction"
         }
        },
        "xaxis2": {
         "anchor": "y2",
         "domain": [
          0.575,
          1
         ],
         "mirror": true,
         "tickcolor": "black",
         "ticklen": 5,
         "tickmode": "array",
         "ticks": "outside",
         "ticktext": [
          "1",
          "0"
         ],
         "tickvals": [
          0,
          1
         ],
         "tickwidth": 1,
         "title": {
          "text": "Prediction"
         }
        },
        "yaxis": {
         "anchor": "x",
         "domain": [
          0,
          1
         ],
         "mirror": true,
         "tickcolor": "black",
         "ticklen": 5,
         "tickmode": "array",
         "ticks": "outside",
         "ticktext": [
          "0",
          "1"
         ],
         "tickvals": [
          0,
          1
         ],
         "tickwidth": 1,
         "title": {
          "standoff": 0.3,
          "text": "Truth"
         }
        },
        "yaxis2": {
         "anchor": "x2",
         "domain": [
          0,
          1
         ],
         "mirror": true,
         "tickcolor": "black",
         "ticklen": 5,
         "tickmode": "array",
         "ticks": "outside",
         "ticktext": [
          "0",
          "1"
         ],
         "tickvals": [
          0,
          1
         ],
         "tickwidth": 1,
         "title": {
          "standoff": 0.3,
          "text": "Truth"
         }
        }
       }
      }
     },
     "metadata": {},
     "output_type": "display_data"
    }
   ],
   "source": [
    "from eppi_text_classification import binary_train_valid_confusion_plotly\n",
    "\n",
    "binary_train_valid_confusion_plotly(\n",
    "    y_train,\n",
    "    y_train_pred,\n",
    "    y_test,\n",
    "    y_test_pred,\n",
    "    postive_label=\"Included\",\n",
    "    negative_label=\"Excluded\",\n",
    ")"
   ]
  },
  {
   "cell_type": "code",
   "execution_count": 40,
   "metadata": {},
   "outputs": [
    {
     "data": {
      "image/png": "[encoded data removed]",
      "text/plain": [
       "<Figure size 2000x400 with 2 Axes>"
      ]
     },
     "metadata": {},
     "output_type": "display_data"
    },
    {
     "data": {
      "image/png": "[encoded data removed]",
      "text/plain": [
       "<Figure size 800x550 with 1 Axes>"
      ]
     },
     "metadata": {},
     "output_type": "display_data"
    }
   ],
   "source": [
    "from eppi_text_classification.shap_plotter import ShapPlotter\n",
    "\n",
    "shap_plotter = ShapPlotter(model, X_test, feature_names)\n",
    "\n",
    "shap_plotter.dot_plot(num_display=10)\n",
    "shap_plotter.bar_chart()"
   ]
  },
  {
   "cell_type": "code",
   "execution_count": 41,
   "metadata": {},
   "outputs": [
    {
     "data": {
      "image/png": "[encoded data removed]",
      "text/plain": [
       "<Figure size 800x1110 with 1 Axes>"
      ]
     },
     "metadata": {},
     "output_type": "display_data"
    },
    {
     "data": {
      "image/png": "[encoded data removed]",
      "text/plain": [
       "<Figure size 800x510 with 1 Axes>"
      ]
     },
     "metadata": {},
     "output_type": "display_data"
    },
    {
     "data": {
      "image/png": "[encoded data removed]",
      "text/plain": [
       "<Figure size 800x510 with 1 Axes>"
      ]
     },
     "metadata": {},
     "output_type": "display_data"
    }
   ],
   "source": [
    "shap_plotter = ShapPlotter(model, X_test[:25], feature_names)\n",
    "\n",
    "shap_plotter.decision_plot(threshold=threshold, num_display=25)\n",
    "shap_plotter.decision_plot(threshold=threshold, num_display=10)\n",
    "shap_plotter.single_decision_plot(threshold=threshold, index=0, num_display=10)"
   ]
  },
  {
   "cell_type": "code",
   "execution_count": 42,
   "metadata": {},
   "outputs": [
    {
     "data": {
      "text/plain": [
       "array([[9.9997902e-01, 2.0971094e-05]], dtype=float32)"
      ]
     },
     "execution_count": 42,
     "metadata": {},
     "output_type": "execute_result"
    }
   ],
   "source": []
  }
 ],
 "metadata": {
  "kernelspec": {
   "display_name": "base",
   "language": "python",
   "name": "python3"
  },
  "language_info": {
   "codemirror_mode": {
    "name": "ipython",
    "version": 3
   },
   "file_extension": ".py",
   "mimetype": "text/x-python",
   "name": "python",
   "nbconvert_exporter": "python",
   "pygments_lexer": "ipython3",
   "version": "3.11.8"
  }
 },
 "nbformat": 4,
 "nbformat_minor": 2
}
