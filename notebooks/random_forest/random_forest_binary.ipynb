{
 "cells": [
  {
   "cell_type": "code",
   "execution_count": 1,
   "metadata": {},
   "outputs": [],
   "source": [
    "%load_ext autoreload\n",
    "%autoreload 2"
   ]
  },
  {
   "cell_type": "code",
   "execution_count": 2,
   "metadata": {},
   "outputs": [],
   "source": [
    "import pandas as pd\n",
    "\n",
    "df_path = \"../../data/raw/debunking_review.tsv\"\n",
    "df = pd.read_csv(df_path, sep=\"\\t\")"
   ]
  },
  {
   "cell_type": "code",
   "execution_count": 3,
   "metadata": {},
   "outputs": [],
   "source": [
    "from eppi_text_classification import (\n",
    "    get_features_and_labels,\n",
    "    get_tfidf_and_names,\n",
    ")\n",
    "\n",
    "word_features, labels = get_features_and_labels(df)\n",
    "\n",
    "tfidf_scores, feature_names = get_tfidf_and_names(word_features)"
   ]
  },
  {
   "cell_type": "code",
   "execution_count": 6,
   "metadata": {},
   "outputs": [
    {
     "name": "stderr",
     "output_type": "stream",
     "text": [
      "[I 2024-06-22 12:40:39,186] A new study created in RDB with name: random_forest_binary\n",
      "[I 2024-06-22 12:40:42,884] Trial 1 finished with value: 0.9213255064187434 and parameters: {'n_estimators': 157}. Best is trial 1 with value: 0.9213255064187434.\n",
      "[I 2024-06-22 12:40:43,393] Trial 5 finished with value: 0.9323429905454321 and parameters: {'n_estimators': 257}. Best is trial 5 with value: 0.9323429905454321.\n",
      "[I 2024-06-22 12:40:43,487] Trial 6 finished with value: 0.9282827933719363 and parameters: {'n_estimators': 264}. Best is trial 5 with value: 0.9323429905454321.\n",
      "[I 2024-06-22 12:40:44,005] Trial 14 finished with value: 0.9127569461799186 and parameters: {'n_estimators': 105}. Best is trial 5 with value: 0.9323429905454321.\n",
      "[I 2024-06-22 12:40:44,287] Trial 12 finished with value: 0.9174581905813527 and parameters: {'n_estimators': 262}. Best is trial 5 with value: 0.9323429905454321.\n",
      "[I 2024-06-22 12:40:44,526] Trial 10 finished with value: 0.931591655781182 and parameters: {'n_estimators': 472}. Best is trial 5 with value: 0.9323429905454321.\n",
      "[I 2024-06-22 12:40:44,565] Trial 4 finished with value: 0.9388944571761781 and parameters: {'n_estimators': 478}. Best is trial 4 with value: 0.9388944571761781.\n",
      "[I 2024-06-22 12:40:45,298] Trial 8 finished with value: 0.940313247915511 and parameters: {'n_estimators': 638}. Best is trial 8 with value: 0.940313247915511.\n",
      "[I 2024-06-22 12:40:45,332] Trial 11 finished with value: 0.9426925903672471 and parameters: {'n_estimators': 597}. Best is trial 11 with value: 0.9426925903672471.\n",
      "[I 2024-06-22 12:40:45,441] Trial 9 finished with value: 0.9328134443564152 and parameters: {'n_estimators': 637}. Best is trial 11 with value: 0.9426925903672471.\n",
      "[I 2024-06-22 12:40:45,680] Trial 2 finished with value: 0.9366168061249387 and parameters: {'n_estimators': 688}. Best is trial 11 with value: 0.9426925903672471.\n",
      "[I 2024-06-22 12:40:45,777] Trial 0 finished with value: 0.9352107471194082 and parameters: {'n_estimators': 734}. Best is trial 11 with value: 0.9426925903672471.\n",
      "[I 2024-06-22 12:40:46,281] Trial 3 finished with value: 0.9335814396725551 and parameters: {'n_estimators': 800}. Best is trial 11 with value: 0.9426925903672471.\n",
      "[I 2024-06-22 12:40:46,376] Trial 19 finished with value: 0.9278849783855926 and parameters: {'n_estimators': 175}. Best is trial 11 with value: 0.9426925903672471.\n",
      "[I 2024-06-22 12:40:46,426] Trial 7 finished with value: 0.9367982997965877 and parameters: {'n_estimators': 814}. Best is trial 11 with value: 0.9426925903672471.\n",
      "[I 2024-06-22 12:40:46,513] Trial 17 finished with value: 0.9282522637967979 and parameters: {'n_estimators': 356}. Best is trial 11 with value: 0.9426925903672471.\n",
      "[I 2024-06-22 12:40:46,878] Trial 16 finished with value: 0.9426972724549678 and parameters: {'n_estimators': 483}. Best is trial 16 with value: 0.9426972724549678.\n",
      "[I 2024-06-22 12:40:48,137] Trial 13 finished with value: 0.926589915876029 and parameters: {'n_estimators': 881}. Best is trial 16 with value: 0.9426972724549678.\n",
      "[I 2024-06-22 12:40:49,003] Trial 18 finished with value: 0.9376212247159877 and parameters: {'n_estimators': 798}. Best is trial 16 with value: 0.9426972724549678.\n",
      "[I 2024-06-22 12:40:49,320] Trial 15 finished with value: 0.9334727325254738 and parameters: {'n_estimators': 977}. Best is trial 16 with value: 0.9426972724549678.\n",
      "[I 2024-06-22 12:40:49,955] Trial 20 finished with value: 0.9429069620428908 and parameters: {'n_estimators': 833}. Best is trial 20 with value: 0.9429069620428908.\n",
      "[I 2024-06-22 12:40:50,697] Trial 22 finished with value: 0.941924373501215 and parameters: {'n_estimators': 927}. Best is trial 20 with value: 0.9429069620428908.\n",
      "[I 2024-06-22 12:40:50,854] Trial 23 finished with value: 0.9415764663205762 and parameters: {'n_estimators': 954}. Best is trial 20 with value: 0.9429069620428908.\n",
      "[I 2024-06-22 12:40:50,885] Trial 21 finished with value: 0.9346737249508307 and parameters: {'n_estimators': 984}. Best is trial 20 with value: 0.9429069620428908.\n",
      "[I 2024-06-22 12:40:50,910] Trial 29 finished with value: 0.9374300419290554 and parameters: {'n_estimators': 531}. Best is trial 20 with value: 0.9429069620428908.\n",
      "[I 2024-06-22 12:40:51,343] Trial 26 finished with value: 0.9300501559415841 and parameters: {'n_estimators': 948}. Best is trial 20 with value: 0.9429069620428908.\n",
      "[I 2024-06-22 12:40:51,543] Trial 24 finished with value: 0.9356412924098189 and parameters: {'n_estimators': 975}. Best is trial 20 with value: 0.9429069620428908.\n",
      "[I 2024-06-22 12:40:51,594] Trial 25 finished with value: 0.9443989233266041 and parameters: {'n_estimators': 977}. Best is trial 25 with value: 0.9443989233266041.\n",
      "[I 2024-06-22 12:40:51,882] Trial 30 finished with value: 0.9311517463153298 and parameters: {'n_estimators': 541}. Best is trial 25 with value: 0.9443989233266041.\n",
      "[I 2024-06-22 12:40:52,420] Trial 28 finished with value: 0.9355690523749853 and parameters: {'n_estimators': 993}. Best is trial 25 with value: 0.9443989233266041.\n",
      "[I 2024-06-22 12:40:52,438] Trial 31 finished with value: 0.9357098251764571 and parameters: {'n_estimators': 537}. Best is trial 25 with value: 0.9443989233266041.\n",
      "[I 2024-06-22 12:40:52,550] Trial 27 finished with value: 0.9387333756345928 and parameters: {'n_estimators': 998}. Best is trial 25 with value: 0.9443989233266041.\n",
      "[I 2024-06-22 12:40:53,222] Trial 32 finished with value: 0.9317102145134677 and parameters: {'n_estimators': 508}. Best is trial 25 with value: 0.9443989233266041.\n",
      "[I 2024-06-22 12:40:53,846] Trial 33 finished with value: 0.9364457105282281 and parameters: {'n_estimators': 529}. Best is trial 25 with value: 0.9443989233266041.\n",
      "[I 2024-06-22 12:40:53,914] Trial 38 finished with value: 0.9226468152055304 and parameters: {'n_estimators': 392}. Best is trial 25 with value: 0.9443989233266041.\n",
      "[I 2024-06-22 12:40:53,921] Trial 35 finished with value: 0.9266240493294129 and parameters: {'n_estimators': 511}. Best is trial 25 with value: 0.9443989233266041.\n",
      "[I 2024-06-22 12:40:53,947] Trial 34 finished with value: 0.934911610455028 and parameters: {'n_estimators': 516}. Best is trial 25 with value: 0.9443989233266041.\n",
      "[I 2024-06-22 12:40:54,040] Trial 37 finished with value: 0.9364863723184339 and parameters: {'n_estimators': 436}. Best is trial 25 with value: 0.9443989233266041.\n",
      "[I 2024-06-22 12:40:54,486] Trial 36 finished with value: 0.9346333881004668 and parameters: {'n_estimators': 579}. Best is trial 25 with value: 0.9443989233266041.\n",
      "[I 2024-06-22 12:40:54,927] Trial 42 finished with value: 0.9276713599795819 and parameters: {'n_estimators': 394}. Best is trial 25 with value: 0.9443989233266041.\n",
      "[I 2024-06-22 12:40:55,092] Trial 43 finished with value: 0.9329758256573681 and parameters: {'n_estimators': 407}. Best is trial 25 with value: 0.9443989233266041.\n",
      "[I 2024-06-22 12:40:55,389] Trial 44 finished with value: 0.925123979319647 and parameters: {'n_estimators': 389}. Best is trial 25 with value: 0.9443989233266041.\n",
      "[I 2024-06-22 12:40:56,119] Trial 40 finished with value: 0.9334904269768601 and parameters: {'n_estimators': 735}. Best is trial 25 with value: 0.9443989233266041.\n",
      "[I 2024-06-22 12:40:56,430] Trial 39 finished with value: 0.9332205792082219 and parameters: {'n_estimators': 854}. Best is trial 25 with value: 0.9443989233266041.\n",
      "[I 2024-06-22 12:40:57,190] Trial 41 finished with value: 0.9347244598761328 and parameters: {'n_estimators': 867}. Best is trial 25 with value: 0.9443989233266041.\n",
      "[I 2024-06-22 12:40:57,563] Trial 46 finished with value: 0.9304701406871355 and parameters: {'n_estimators': 709}. Best is trial 25 with value: 0.9443989233266041.\n",
      "[I 2024-06-22 12:40:57,747] Trial 47 finished with value: 0.9346456915044774 and parameters: {'n_estimators': 730}. Best is trial 25 with value: 0.9443989233266041.\n",
      "[I 2024-06-22 12:40:57,765] Trial 48 finished with value: 0.928008603225412 and parameters: {'n_estimators': 738}. Best is trial 25 with value: 0.9443989233266041.\n",
      "[I 2024-06-22 12:40:57,834] Trial 45 finished with value: 0.9322557885078822 and parameters: {'n_estimators': 728}. Best is trial 25 with value: 0.9443989233266041.\n",
      "[I 2024-06-22 12:40:57,936] Trial 49 finished with value: 0.9415033548561668 and parameters: {'n_estimators': 734}. Best is trial 25 with value: 0.9443989233266041.\n",
      "[I 2024-06-22 12:40:58,322] Trial 50 finished with value: 0.9390825382646204 and parameters: {'n_estimators': 738}. Best is trial 25 with value: 0.9443989233266041.\n",
      "[I 2024-06-22 12:40:59,403] Trial 51 finished with value: 0.9293422006462168 and parameters: {'n_estimators': 873}. Best is trial 25 with value: 0.9443989233266041.\n",
      "[I 2024-06-22 12:40:59,658] Trial 52 finished with value: 0.9383657062035743 and parameters: {'n_estimators': 894}. Best is trial 25 with value: 0.9443989233266041.\n",
      "[I 2024-06-22 12:40:59,732] Trial 53 finished with value: 0.9340168295206074 and parameters: {'n_estimators': 887}. Best is trial 25 with value: 0.9443989233266041.\n",
      "[I 2024-06-22 12:41:00,579] Trial 54 finished with value: 0.9355281690348874 and parameters: {'n_estimators': 899}. Best is trial 25 with value: 0.9443989233266041.\n",
      "[I 2024-06-22 12:41:00,704] Trial 59 finished with value: 0.9345762282282921 and parameters: {'n_estimators': 606}. Best is trial 25 with value: 0.9443989233266041.\n",
      "[I 2024-06-22 12:41:00,943] Trial 55 finished with value: 0.9467846316452414 and parameters: {'n_estimators': 913}. Best is trial 55 with value: 0.9467846316452414.\n",
      "[I 2024-06-22 12:41:00,985] Trial 56 finished with value: 0.9267255191800173 and parameters: {'n_estimators': 773}. Best is trial 55 with value: 0.9467846316452414.\n",
      "[I 2024-06-22 12:41:02,088] Trial 57 finished with value: 0.9465845720926302 and parameters: {'n_estimators': 904}. Best is trial 55 with value: 0.9467846316452414.\n",
      "[I 2024-06-22 12:41:02,254] Trial 58 finished with value: 0.9377933542121952 and parameters: {'n_estimators': 916}. Best is trial 55 with value: 0.9467846316452414.\n",
      "[I 2024-06-22 12:41:02,283] Trial 60 finished with value: 0.9381509505081173 and parameters: {'n_estimators': 906}. Best is trial 55 with value: 0.9467846316452414.\n",
      "[I 2024-06-22 12:41:02,527] Trial 61 finished with value: 0.9366891495497219 and parameters: {'n_estimators': 913}. Best is trial 55 with value: 0.9467846316452414.\n",
      "[I 2024-06-22 12:41:02,803] Trial 62 finished with value: 0.9423195298888528 and parameters: {'n_estimators': 900}. Best is trial 55 with value: 0.9467846316452414.\n",
      "[I 2024-06-22 12:41:04,054] Trial 63 finished with value: 0.9471646044802705 and parameters: {'n_estimators': 923}. Best is trial 63 with value: 0.9471646044802705.\n",
      "[I 2024-06-22 12:41:04,286] Trial 64 finished with value: 0.929952393359175 and parameters: {'n_estimators': 929}. Best is trial 63 with value: 0.9471646044802705.\n",
      "[I 2024-06-22 12:41:04,455] Trial 65 finished with value: 0.9415137529311051 and parameters: {'n_estimators': 941}. Best is trial 63 with value: 0.9471646044802705.\n",
      "[I 2024-06-22 12:41:05,167] Trial 67 finished with value: 0.9374412523535983 and parameters: {'n_estimators': 931}. Best is trial 63 with value: 0.9471646044802705.\n",
      "[I 2024-06-22 12:41:05,219] Trial 66 finished with value: 0.9309893650143771 and parameters: {'n_estimators': 933}. Best is trial 63 with value: 0.9471646044802705.\n",
      "[I 2024-06-22 12:41:05,425] Trial 69 finished with value: 0.9324958008910441 and parameters: {'n_estimators': 932}. Best is trial 63 with value: 0.9471646044802705.\n",
      "[I 2024-06-22 12:41:05,606] Trial 68 finished with value: 0.9410466814484755 and parameters: {'n_estimators': 931}. Best is trial 63 with value: 0.9471646044802705.\n",
      "[I 2024-06-22 12:41:06,087] Trial 70 finished with value: 0.9327419132812366 and parameters: {'n_estimators': 823}. Best is trial 63 with value: 0.9471646044802705.\n",
      "[I 2024-06-22 12:41:06,116] Trial 71 finished with value: 0.9405628460240066 and parameters: {'n_estimators': 819}. Best is trial 63 with value: 0.9471646044802705.\n",
      "[I 2024-06-22 12:41:06,473] Trial 73 finished with value: 0.9287400723493328 and parameters: {'n_estimators': 822}. Best is trial 63 with value: 0.9471646044802705.\n",
      "[I 2024-06-22 12:41:06,525] Trial 72 finished with value: 0.9277361411680465 and parameters: {'n_estimators': 840}. Best is trial 63 with value: 0.9471646044802705.\n",
      "[I 2024-06-22 12:41:06,952] Trial 74 finished with value: 0.9423834987277129 and parameters: {'n_estimators': 824}. Best is trial 63 with value: 0.9471646044802705.\n",
      "[I 2024-06-22 12:41:07,604] Trial 82 finished with value: 0.9244854282204935 and parameters: {'n_estimators': 316}. Best is trial 63 with value: 0.9471646044802705.\n",
      "[I 2024-06-22 12:41:08,088] Trial 75 finished with value: 0.9390494387107333 and parameters: {'n_estimators': 833}. Best is trial 63 with value: 0.9471646044802705.\n",
      "[I 2024-06-22 12:41:08,142] Trial 84 finished with value: 0.9351369857753152 and parameters: {'n_estimators': 313}. Best is trial 63 with value: 0.9471646044802705.\n",
      "[I 2024-06-22 12:41:08,402] Trial 76 finished with value: 0.9401804804501421 and parameters: {'n_estimators': 837}. Best is trial 63 with value: 0.9471646044802705.\n",
      "[I 2024-06-22 12:41:08,553] Trial 77 finished with value: 0.9399829761062873 and parameters: {'n_estimators': 838}. Best is trial 63 with value: 0.9471646044802705.\n",
      "[I 2024-06-22 12:41:09,165] Trial 78 finished with value: 0.931325840220581 and parameters: {'n_estimators': 836}. Best is trial 63 with value: 0.9471646044802705.\n",
      "[I 2024-06-22 12:41:09,370] Trial 83 finished with value: 0.9373668411298217 and parameters: {'n_estimators': 665}. Best is trial 63 with value: 0.9471646044802705.\n",
      "[I 2024-06-22 12:41:09,434] Trial 79 finished with value: 0.9333014744588422 and parameters: {'n_estimators': 838}. Best is trial 63 with value: 0.9471646044802705.\n",
      "[I 2024-06-22 12:41:09,699] Trial 80 finished with value: 0.9357172840228262 and parameters: {'n_estimators': 850}. Best is trial 63 with value: 0.9471646044802705.\n",
      "[I 2024-06-22 12:41:09,705] Trial 81 finished with value: 0.9323441426048714 and parameters: {'n_estimators': 839}. Best is trial 63 with value: 0.9471646044802705.\n",
      "[I 2024-06-22 12:41:10,062] Trial 86 finished with value: 0.9280438739682421 and parameters: {'n_estimators': 673}. Best is trial 63 with value: 0.9471646044802705.\n",
      "[I 2024-06-22 12:41:10,380] Trial 85 finished with value: 0.9405716637097141 and parameters: {'n_estimators': 778}. Best is trial 63 with value: 0.9471646044802705.\n",
      "[I 2024-06-22 12:41:10,836] Trial 87 finished with value: 0.9361811947269945 and parameters: {'n_estimators': 656}. Best is trial 63 with value: 0.9471646044802705.\n",
      "[I 2024-06-22 12:41:11,512] Trial 92 finished with value: 0.9309190893885871 and parameters: {'n_estimators': 459}. Best is trial 63 with value: 0.9471646044802705.\n",
      "[I 2024-06-22 12:41:11,987] Trial 89 finished with value: 0.9394460130176809 and parameters: {'n_estimators': 789}. Best is trial 63 with value: 0.9471646044802705.\n",
      "[I 2024-06-22 12:41:12,211] Trial 90 finished with value: 0.9346319701811568 and parameters: {'n_estimators': 790}. Best is trial 63 with value: 0.9471646044802705.\n",
      "[I 2024-06-22 12:41:12,255] Trial 91 finished with value: 0.9366681909299247 and parameters: {'n_estimators': 774}. Best is trial 63 with value: 0.9471646044802705.\n",
      "[I 2024-06-22 12:41:12,854] Trial 88 finished with value: 0.9384456709446475 and parameters: {'n_estimators': 963}. Best is trial 63 with value: 0.9471646044802705.\n",
      "[I 2024-06-22 12:41:13,236] Trial 93 finished with value: 0.9472871954205933 and parameters: {'n_estimators': 786}. Best is trial 93 with value: 0.9472871954205933.\n",
      "[I 2024-06-22 12:41:14,204] Trial 94 finished with value: 0.9375100066701288 and parameters: {'n_estimators': 965}. Best is trial 93 with value: 0.9472871954205933.\n",
      "[I 2024-06-22 12:41:14,438] Trial 96 finished with value: 0.93698806466421 and parameters: {'n_estimators': 969}. Best is trial 93 with value: 0.9472871954205933.\n",
      "[I 2024-06-22 12:41:14,512] Trial 95 finished with value: 0.9370802294193443 and parameters: {'n_estimators': 965}. Best is trial 93 with value: 0.9472871954205933.\n",
      "[I 2024-06-22 12:41:14,832] Trial 97 finished with value: 0.9244653410302721 and parameters: {'n_estimators': 973}. Best is trial 93 with value: 0.9472871954205933.\n",
      "[I 2024-06-22 12:41:15,105] Trial 98 finished with value: 0.9352292539203991 and parameters: {'n_estimators': 977}. Best is trial 93 with value: 0.9472871954205933.\n",
      "[I 2024-06-22 12:41:15,597] Trial 99 finished with value: 0.9303714475951793 and parameters: {'n_estimators': 966}. Best is trial 93 with value: 0.9472871954205933.\n",
      "[I 2024-06-22 12:41:16,188] Trial 100 finished with value: 0.9323143072193952 and parameters: {'n_estimators': 966}. Best is trial 93 with value: 0.9472871954205933.\n",
      "[I 2024-06-22 12:41:16,838] Trial 101 finished with value: 0.9417867023982334 and parameters: {'n_estimators': 977}. Best is trial 93 with value: 0.9472871954205933.\n",
      "[I 2024-06-22 12:41:16,933] Trial 103 finished with value: 0.938717808062171 and parameters: {'n_estimators': 967}. Best is trial 93 with value: 0.9472871954205933.\n",
      "[I 2024-06-22 12:41:17,067] Trial 102 finished with value: 0.9392274466640789 and parameters: {'n_estimators': 966}. Best is trial 93 with value: 0.9472871954205933.\n",
      "[I 2024-06-22 12:41:17,511] Trial 109 finished with value: 0.9310641011779955 and parameters: {'n_estimators': 570}. Best is trial 93 with value: 0.9472871954205933.\n",
      "[I 2024-06-22 12:41:17,820] Trial 104 finished with value: 0.9372866548388563 and parameters: {'n_estimators': 996}. Best is trial 93 with value: 0.9472871954205933.\n",
      "[I 2024-06-22 12:41:17,829] Trial 110 finished with value: 0.9295128088331648 and parameters: {'n_estimators': 587}. Best is trial 93 with value: 0.9472871954205933.\n",
      "[I 2024-06-22 12:41:17,961] Trial 105 finished with value: 0.932674576884016 and parameters: {'n_estimators': 975}. Best is trial 93 with value: 0.9472871954205933.\n",
      "[I 2024-06-22 12:41:18,355] Trial 106 finished with value: 0.93656051768234 and parameters: {'n_estimators': 866}. Best is trial 93 with value: 0.9472871954205933.\n",
      "[I 2024-06-22 12:41:18,612] Trial 107 finished with value: 0.934383952461892 and parameters: {'n_estimators': 865}. Best is trial 93 with value: 0.9472871954205933.\n",
      "[I 2024-06-22 12:41:18,660] Trial 108 finished with value: 0.9323198607366918 and parameters: {'n_estimators': 870}. Best is trial 93 with value: 0.9472871954205933.\n",
      "[I 2024-06-22 12:41:19,629] Trial 111 finished with value: 0.9350448210201812 and parameters: {'n_estimators': 869}. Best is trial 93 with value: 0.9472871954205933.\n",
      "[I 2024-06-22 12:41:20,101] Trial 112 finished with value: 0.938725591848382 and parameters: {'n_estimators': 869}. Best is trial 93 with value: 0.9472871954205933.\n",
      "[I 2024-06-22 12:41:20,542] Trial 113 finished with value: 0.9405879402417906 and parameters: {'n_estimators': 870}. Best is trial 93 with value: 0.9472871954205933.\n",
      "[I 2024-06-22 12:41:20,710] Trial 114 finished with value: 0.9379059310973927 and parameters: {'n_estimators': 886}. Best is trial 93 with value: 0.9472871954205933.\n",
      "[I 2024-06-22 12:41:20,786] Trial 115 finished with value: 0.9334580363826279 and parameters: {'n_estimators': 875}. Best is trial 93 with value: 0.9472871954205933.\n",
      "[I 2024-06-22 12:41:21,185] Trial 116 finished with value: 0.9426594908133598 and parameters: {'n_estimators': 867}. Best is trial 93 with value: 0.9472871954205933.\n",
      "[I 2024-06-22 12:41:21,297] Trial 117 finished with value: 0.9294161244602307 and parameters: {'n_estimators': 871}. Best is trial 93 with value: 0.9472871954205933.\n",
      "[I 2024-06-22 12:41:21,565] Trial 118 finished with value: 0.9326298238058018 and parameters: {'n_estimators': 878}. Best is trial 93 with value: 0.9472871954205933.\n",
      "[I 2024-06-22 12:41:21,793] Trial 119 finished with value: 0.9373692338686569 and parameters: {'n_estimators': 886}. Best is trial 93 with value: 0.9472871954205933.\n"
     ]
    }
   ],
   "source": [
    "from eppi_text_classification import OptunaHyperparameterOptimisation\n",
    "from eppi_text_classification.utils import delete_optuna_study\n",
    "\n",
    "optimiser = OptunaHyperparameterOptimisation(\n",
    "    tfidf_scores,\n",
    "    labels,\n",
    "    \"RandomForestClassifier\",\n",
    "    n_trials_per_job=10,\n",
    "    n_jobs=-1,\n",
    "    nfolds=3,\n",
    "    num_cv_repeats=1,\n",
    ")\n",
    "\n",
    "delete_optuna_study(\"random_forest_binary\")\n",
    "best_params = optimiser.optimise_hyperparameters(study_name=\"random_forest_binary\")"
   ]
  },
  {
   "cell_type": "code",
   "execution_count": 8,
   "metadata": {},
   "outputs": [
    {
     "data": {
      "text/html": [
       "<style>#sk-container-id-1 {\n",
       "  /* Definition of color scheme common for light and dark mode */\n",
       "  --sklearn-color-text: black;\n",
       "  --sklearn-color-line: gray;\n",
       "  /* Definition of color scheme for unfitted estimators */\n",
       "  --sklearn-color-unfitted-level-0: #fff5e6;\n",
       "  --sklearn-color-unfitted-level-1: #f6e4d2;\n",
       "  --sklearn-color-unfitted-level-2: #ffe0b3;\n",
       "  --sklearn-color-unfitted-level-3: chocolate;\n",
       "  /* Definition of color scheme for fitted estimators */\n",
       "  --sklearn-color-fitted-level-0: #f0f8ff;\n",
       "  --sklearn-color-fitted-level-1: #d4ebff;\n",
       "  --sklearn-color-fitted-level-2: #b3dbfd;\n",
       "  --sklearn-color-fitted-level-3: cornflowerblue;\n",
       "\n",
       "  /* Specific color for light theme */\n",
       "  --sklearn-color-text-on-default-background: var(--sg-text-color, var(--theme-code-foreground, var(--jp-content-font-color1, black)));\n",
       "  --sklearn-color-background: var(--sg-background-color, var(--theme-background, var(--jp-layout-color0, white)));\n",
       "  --sklearn-color-border-box: var(--sg-text-color, var(--theme-code-foreground, var(--jp-content-font-color1, black)));\n",
       "  --sklearn-color-icon: #696969;\n",
       "\n",
       "  @media (prefers-color-scheme: dark) {\n",
       "    /* Redefinition of color scheme for dark theme */\n",
       "    --sklearn-color-text-on-default-background: var(--sg-text-color, var(--theme-code-foreground, var(--jp-content-font-color1, white)));\n",
       "    --sklearn-color-background: var(--sg-background-color, var(--theme-background, var(--jp-layout-color0, #111)));\n",
       "    --sklearn-color-border-box: var(--sg-text-color, var(--theme-code-foreground, var(--jp-content-font-color1, white)));\n",
       "    --sklearn-color-icon: #878787;\n",
       "  }\n",
       "}\n",
       "\n",
       "#sk-container-id-1 {\n",
       "  color: var(--sklearn-color-text);\n",
       "}\n",
       "\n",
       "#sk-container-id-1 pre {\n",
       "  padding: 0;\n",
       "}\n",
       "\n",
       "#sk-container-id-1 input.sk-hidden--visually {\n",
       "  border: 0;\n",
       "  clip: rect(1px 1px 1px 1px);\n",
       "  clip: rect(1px, 1px, 1px, 1px);\n",
       "  height: 1px;\n",
       "  margin: -1px;\n",
       "  overflow: hidden;\n",
       "  padding: 0;\n",
       "  position: absolute;\n",
       "  width: 1px;\n",
       "}\n",
       "\n",
       "#sk-container-id-1 div.sk-dashed-wrapped {\n",
       "  border: 1px dashed var(--sklearn-color-line);\n",
       "  margin: 0 0.4em 0.5em 0.4em;\n",
       "  box-sizing: border-box;\n",
       "  padding-bottom: 0.4em;\n",
       "  background-color: var(--sklearn-color-background);\n",
       "}\n",
       "\n",
       "#sk-container-id-1 div.sk-container {\n",
       "  /* jupyter's `normalize.less` sets `[hidden] { display: none; }`\n",
       "     but bootstrap.min.css set `[hidden] { display: none !important; }`\n",
       "     so we also need the `!important` here to be able to override the\n",
       "     default hidden behavior on the sphinx rendered scikit-learn.org.\n",
       "     See: https://github.com/scikit-learn/scikit-learn/issues/21755 */\n",
       "  display: inline-block !important;\n",
       "  position: relative;\n",
       "}\n",
       "\n",
       "#sk-container-id-1 div.sk-text-repr-fallback {\n",
       "  display: none;\n",
       "}\n",
       "\n",
       "div.sk-parallel-item,\n",
       "div.sk-serial,\n",
       "div.sk-item {\n",
       "  /* draw centered vertical line to link estimators */\n",
       "  background-image: linear-gradient(var(--sklearn-color-text-on-default-background), var(--sklearn-color-text-on-default-background));\n",
       "  background-size: 2px 100%;\n",
       "  background-repeat: no-repeat;\n",
       "  background-position: center center;\n",
       "}\n",
       "\n",
       "/* Parallel-specific style estimator block */\n",
       "\n",
       "#sk-container-id-1 div.sk-parallel-item::after {\n",
       "  content: \"\";\n",
       "  width: 100%;\n",
       "  border-bottom: 2px solid var(--sklearn-color-text-on-default-background);\n",
       "  flex-grow: 1;\n",
       "}\n",
       "\n",
       "#sk-container-id-1 div.sk-parallel {\n",
       "  display: flex;\n",
       "  align-items: stretch;\n",
       "  justify-content: center;\n",
       "  background-color: var(--sklearn-color-background);\n",
       "  position: relative;\n",
       "}\n",
       "\n",
       "#sk-container-id-1 div.sk-parallel-item {\n",
       "  display: flex;\n",
       "  flex-direction: column;\n",
       "}\n",
       "\n",
       "#sk-container-id-1 div.sk-parallel-item:first-child::after {\n",
       "  align-self: flex-end;\n",
       "  width: 50%;\n",
       "}\n",
       "\n",
       "#sk-container-id-1 div.sk-parallel-item:last-child::after {\n",
       "  align-self: flex-start;\n",
       "  width: 50%;\n",
       "}\n",
       "\n",
       "#sk-container-id-1 div.sk-parallel-item:only-child::after {\n",
       "  width: 0;\n",
       "}\n",
       "\n",
       "/* Serial-specific style estimator block */\n",
       "\n",
       "#sk-container-id-1 div.sk-serial {\n",
       "  display: flex;\n",
       "  flex-direction: column;\n",
       "  align-items: center;\n",
       "  background-color: var(--sklearn-color-background);\n",
       "  padding-right: 1em;\n",
       "  padding-left: 1em;\n",
       "}\n",
       "\n",
       "\n",
       "/* Toggleable style: style used for estimator/Pipeline/ColumnTransformer box that is\n",
       "clickable and can be expanded/collapsed.\n",
       "- Pipeline and ColumnTransformer use this feature and define the default style\n",
       "- Estimators will overwrite some part of the style using the `sk-estimator` class\n",
       "*/\n",
       "\n",
       "/* Pipeline and ColumnTransformer style (default) */\n",
       "\n",
       "#sk-container-id-1 div.sk-toggleable {\n",
       "  /* Default theme specific background. It is overwritten whether we have a\n",
       "  specific estimator or a Pipeline/ColumnTransformer */\n",
       "  background-color: var(--sklearn-color-background);\n",
       "}\n",
       "\n",
       "/* Toggleable label */\n",
       "#sk-container-id-1 label.sk-toggleable__label {\n",
       "  cursor: pointer;\n",
       "  display: block;\n",
       "  width: 100%;\n",
       "  margin-bottom: 0;\n",
       "  padding: 0.5em;\n",
       "  box-sizing: border-box;\n",
       "  text-align: center;\n",
       "}\n",
       "\n",
       "#sk-container-id-1 label.sk-toggleable__label-arrow:before {\n",
       "  /* Arrow on the left of the label */\n",
       "  content: \"▸\";\n",
       "  float: left;\n",
       "  margin-right: 0.25em;\n",
       "  color: var(--sklearn-color-icon);\n",
       "}\n",
       "\n",
       "#sk-container-id-1 label.sk-toggleable__label-arrow:hover:before {\n",
       "  color: var(--sklearn-color-text);\n",
       "}\n",
       "\n",
       "/* Toggleable content - dropdown */\n",
       "\n",
       "#sk-container-id-1 div.sk-toggleable__content {\n",
       "  max-height: 0;\n",
       "  max-width: 0;\n",
       "  overflow: hidden;\n",
       "  text-align: left;\n",
       "  /* unfitted */\n",
       "  background-color: var(--sklearn-color-unfitted-level-0);\n",
       "}\n",
       "\n",
       "#sk-container-id-1 div.sk-toggleable__content.fitted {\n",
       "  /* fitted */\n",
       "  background-color: var(--sklearn-color-fitted-level-0);\n",
       "}\n",
       "\n",
       "#sk-container-id-1 div.sk-toggleable__content pre {\n",
       "  margin: 0.2em;\n",
       "  border-radius: 0.25em;\n",
       "  color: var(--sklearn-color-text);\n",
       "  /* unfitted */\n",
       "  background-color: var(--sklearn-color-unfitted-level-0);\n",
       "}\n",
       "\n",
       "#sk-container-id-1 div.sk-toggleable__content.fitted pre {\n",
       "  /* unfitted */\n",
       "  background-color: var(--sklearn-color-fitted-level-0);\n",
       "}\n",
       "\n",
       "#sk-container-id-1 input.sk-toggleable__control:checked~div.sk-toggleable__content {\n",
       "  /* Expand drop-down */\n",
       "  max-height: 200px;\n",
       "  max-width: 100%;\n",
       "  overflow: auto;\n",
       "}\n",
       "\n",
       "#sk-container-id-1 input.sk-toggleable__control:checked~label.sk-toggleable__label-arrow:before {\n",
       "  content: \"▾\";\n",
       "}\n",
       "\n",
       "/* Pipeline/ColumnTransformer-specific style */\n",
       "\n",
       "#sk-container-id-1 div.sk-label input.sk-toggleable__control:checked~label.sk-toggleable__label {\n",
       "  color: var(--sklearn-color-text);\n",
       "  background-color: var(--sklearn-color-unfitted-level-2);\n",
       "}\n",
       "\n",
       "#sk-container-id-1 div.sk-label.fitted input.sk-toggleable__control:checked~label.sk-toggleable__label {\n",
       "  background-color: var(--sklearn-color-fitted-level-2);\n",
       "}\n",
       "\n",
       "/* Estimator-specific style */\n",
       "\n",
       "/* Colorize estimator box */\n",
       "#sk-container-id-1 div.sk-estimator input.sk-toggleable__control:checked~label.sk-toggleable__label {\n",
       "  /* unfitted */\n",
       "  background-color: var(--sklearn-color-unfitted-level-2);\n",
       "}\n",
       "\n",
       "#sk-container-id-1 div.sk-estimator.fitted input.sk-toggleable__control:checked~label.sk-toggleable__label {\n",
       "  /* fitted */\n",
       "  background-color: var(--sklearn-color-fitted-level-2);\n",
       "}\n",
       "\n",
       "#sk-container-id-1 div.sk-label label.sk-toggleable__label,\n",
       "#sk-container-id-1 div.sk-label label {\n",
       "  /* The background is the default theme color */\n",
       "  color: var(--sklearn-color-text-on-default-background);\n",
       "}\n",
       "\n",
       "/* On hover, darken the color of the background */\n",
       "#sk-container-id-1 div.sk-label:hover label.sk-toggleable__label {\n",
       "  color: var(--sklearn-color-text);\n",
       "  background-color: var(--sklearn-color-unfitted-level-2);\n",
       "}\n",
       "\n",
       "/* Label box, darken color on hover, fitted */\n",
       "#sk-container-id-1 div.sk-label.fitted:hover label.sk-toggleable__label.fitted {\n",
       "  color: var(--sklearn-color-text);\n",
       "  background-color: var(--sklearn-color-fitted-level-2);\n",
       "}\n",
       "\n",
       "/* Estimator label */\n",
       "\n",
       "#sk-container-id-1 div.sk-label label {\n",
       "  font-family: monospace;\n",
       "  font-weight: bold;\n",
       "  display: inline-block;\n",
       "  line-height: 1.2em;\n",
       "}\n",
       "\n",
       "#sk-container-id-1 div.sk-label-container {\n",
       "  text-align: center;\n",
       "}\n",
       "\n",
       "/* Estimator-specific */\n",
       "#sk-container-id-1 div.sk-estimator {\n",
       "  font-family: monospace;\n",
       "  border: 1px dotted var(--sklearn-color-border-box);\n",
       "  border-radius: 0.25em;\n",
       "  box-sizing: border-box;\n",
       "  margin-bottom: 0.5em;\n",
       "  /* unfitted */\n",
       "  background-color: var(--sklearn-color-unfitted-level-0);\n",
       "}\n",
       "\n",
       "#sk-container-id-1 div.sk-estimator.fitted {\n",
       "  /* fitted */\n",
       "  background-color: var(--sklearn-color-fitted-level-0);\n",
       "}\n",
       "\n",
       "/* on hover */\n",
       "#sk-container-id-1 div.sk-estimator:hover {\n",
       "  /* unfitted */\n",
       "  background-color: var(--sklearn-color-unfitted-level-2);\n",
       "}\n",
       "\n",
       "#sk-container-id-1 div.sk-estimator.fitted:hover {\n",
       "  /* fitted */\n",
       "  background-color: var(--sklearn-color-fitted-level-2);\n",
       "}\n",
       "\n",
       "/* Specification for estimator info (e.g. \"i\" and \"?\") */\n",
       "\n",
       "/* Common style for \"i\" and \"?\" */\n",
       "\n",
       ".sk-estimator-doc-link,\n",
       "a:link.sk-estimator-doc-link,\n",
       "a:visited.sk-estimator-doc-link {\n",
       "  float: right;\n",
       "  font-size: smaller;\n",
       "  line-height: 1em;\n",
       "  font-family: monospace;\n",
       "  background-color: var(--sklearn-color-background);\n",
       "  border-radius: 1em;\n",
       "  height: 1em;\n",
       "  width: 1em;\n",
       "  text-decoration: none !important;\n",
       "  margin-left: 1ex;\n",
       "  /* unfitted */\n",
       "  border: var(--sklearn-color-unfitted-level-1) 1pt solid;\n",
       "  color: var(--sklearn-color-unfitted-level-1);\n",
       "}\n",
       "\n",
       ".sk-estimator-doc-link.fitted,\n",
       "a:link.sk-estimator-doc-link.fitted,\n",
       "a:visited.sk-estimator-doc-link.fitted {\n",
       "  /* fitted */\n",
       "  border: var(--sklearn-color-fitted-level-1) 1pt solid;\n",
       "  color: var(--sklearn-color-fitted-level-1);\n",
       "}\n",
       "\n",
       "/* On hover */\n",
       "div.sk-estimator:hover .sk-estimator-doc-link:hover,\n",
       ".sk-estimator-doc-link:hover,\n",
       "div.sk-label-container:hover .sk-estimator-doc-link:hover,\n",
       ".sk-estimator-doc-link:hover {\n",
       "  /* unfitted */\n",
       "  background-color: var(--sklearn-color-unfitted-level-3);\n",
       "  color: var(--sklearn-color-background);\n",
       "  text-decoration: none;\n",
       "}\n",
       "\n",
       "div.sk-estimator.fitted:hover .sk-estimator-doc-link.fitted:hover,\n",
       ".sk-estimator-doc-link.fitted:hover,\n",
       "div.sk-label-container:hover .sk-estimator-doc-link.fitted:hover,\n",
       ".sk-estimator-doc-link.fitted:hover {\n",
       "  /* fitted */\n",
       "  background-color: var(--sklearn-color-fitted-level-3);\n",
       "  color: var(--sklearn-color-background);\n",
       "  text-decoration: none;\n",
       "}\n",
       "\n",
       "/* Span, style for the box shown on hovering the info icon */\n",
       ".sk-estimator-doc-link span {\n",
       "  display: none;\n",
       "  z-index: 9999;\n",
       "  position: relative;\n",
       "  font-weight: normal;\n",
       "  right: .2ex;\n",
       "  padding: .5ex;\n",
       "  margin: .5ex;\n",
       "  width: min-content;\n",
       "  min-width: 20ex;\n",
       "  max-width: 50ex;\n",
       "  color: var(--sklearn-color-text);\n",
       "  box-shadow: 2pt 2pt 4pt #999;\n",
       "  /* unfitted */\n",
       "  background: var(--sklearn-color-unfitted-level-0);\n",
       "  border: .5pt solid var(--sklearn-color-unfitted-level-3);\n",
       "}\n",
       "\n",
       ".sk-estimator-doc-link.fitted span {\n",
       "  /* fitted */\n",
       "  background: var(--sklearn-color-fitted-level-0);\n",
       "  border: var(--sklearn-color-fitted-level-3);\n",
       "}\n",
       "\n",
       ".sk-estimator-doc-link:hover span {\n",
       "  display: block;\n",
       "}\n",
       "\n",
       "/* \"?\"-specific style due to the `<a>` HTML tag */\n",
       "\n",
       "#sk-container-id-1 a.estimator_doc_link {\n",
       "  float: right;\n",
       "  font-size: 1rem;\n",
       "  line-height: 1em;\n",
       "  font-family: monospace;\n",
       "  background-color: var(--sklearn-color-background);\n",
       "  border-radius: 1rem;\n",
       "  height: 1rem;\n",
       "  width: 1rem;\n",
       "  text-decoration: none;\n",
       "  /* unfitted */\n",
       "  color: var(--sklearn-color-unfitted-level-1);\n",
       "  border: var(--sklearn-color-unfitted-level-1) 1pt solid;\n",
       "}\n",
       "\n",
       "#sk-container-id-1 a.estimator_doc_link.fitted {\n",
       "  /* fitted */\n",
       "  border: var(--sklearn-color-fitted-level-1) 1pt solid;\n",
       "  color: var(--sklearn-color-fitted-level-1);\n",
       "}\n",
       "\n",
       "/* On hover */\n",
       "#sk-container-id-1 a.estimator_doc_link:hover {\n",
       "  /* unfitted */\n",
       "  background-color: var(--sklearn-color-unfitted-level-3);\n",
       "  color: var(--sklearn-color-background);\n",
       "  text-decoration: none;\n",
       "}\n",
       "\n",
       "#sk-container-id-1 a.estimator_doc_link.fitted:hover {\n",
       "  /* fitted */\n",
       "  background-color: var(--sklearn-color-fitted-level-3);\n",
       "}\n",
       "</style><div id=\"sk-container-id-1\" class=\"sk-top-container\"><div class=\"sk-text-repr-fallback\"><pre>RandomForestClassifier(class_weight={1: 32}, n_estimators=300)</pre><b>In a Jupyter environment, please rerun this cell to show the HTML representation or trust the notebook. <br />On GitHub, the HTML representation is unable to render, please try loading this page with nbviewer.org.</b></div><div class=\"sk-container\" hidden><div class=\"sk-item\"><div class=\"sk-estimator fitted sk-toggleable\"><input class=\"sk-toggleable__control sk-hidden--visually\" id=\"sk-estimator-id-1\" type=\"checkbox\" checked><label for=\"sk-estimator-id-1\" class=\"sk-toggleable__label fitted sk-toggleable__label-arrow fitted\">&nbsp;&nbsp;RandomForestClassifier<a class=\"sk-estimator-doc-link fitted\" rel=\"noreferrer\" target=\"_blank\" href=\"https://scikit-learn.org/1.4/modules/generated/sklearn.ensemble.RandomForestClassifier.html\">?<span>Documentation for RandomForestClassifier</span></a><span class=\"sk-estimator-doc-link fitted\">i<span>Fitted</span></span></label><div class=\"sk-toggleable__content fitted\"><pre>RandomForestClassifier(class_weight={1: 32}, n_estimators=300)</pre></div> </div></div></div></div>"
      ],
      "text/plain": [
       "RandomForestClassifier(class_weight={1: 32}, n_estimators=300)"
      ]
     },
     "execution_count": 8,
     "metadata": {},
     "output_type": "execute_result"
    }
   ],
   "source": [
    "from sklearn.ensemble import RandomForestClassifier\n",
    "from sklearn.model_selection import train_test_split\n",
    "\n",
    "# model = RandomForestClassifier(**best_params)\n",
    "\n",
    "model = RandomForestClassifier(class_weight={1: 32}, n_estimators=300)\n",
    "\n",
    "X_train, X_test, y_train, y_test = train_test_split(\n",
    "    tfidf_scores, labels, test_size=0.333, stratify=labels, random_state=7\n",
    ")\n",
    "\n",
    "model.fit(X_train, y_train)"
   ]
  },
  {
   "cell_type": "code",
   "execution_count": 9,
   "metadata": {},
   "outputs": [],
   "source": [
    "from eppi_text_classification.predict import (\n",
    "    get_threshold,\n",
    "    threshold_predict,\n",
    ")\n",
    "\n",
    "\n",
    "threshold = get_threshold(model, X_test, y_test, target_tpr=1)\n",
    "\n",
    "y_test_pred = threshold_predict(model, X_test, threshold)\n",
    "y_train_pred = threshold_predict(model, X_train, threshold)"
   ]
  },
  {
   "cell_type": "code",
   "execution_count": 10,
   "metadata": {},
   "outputs": [
    {
     "data": {
      "application/vnd.plotly.v1+json": {
       "config": {
        "plotlyServerURL": "https://plot.ly"
       },
       "data": [
        {
         "customdata": [
          [
           "inf"
          ],
          [
           "0.8767"
          ],
          [
           "0.1733"
          ],
          [
           "0.1333"
          ],
          [
           "0.12"
          ],
          [
           "0.1133"
          ],
          [
           "0.1067"
          ],
          [
           "0.09667"
          ],
          [
           "0.09333"
          ],
          [
           "0.09"
          ],
          [
           "0.08667"
          ],
          [
           "0.08333"
          ],
          [
           "0.07667"
          ],
          [
           "0.07333"
          ],
          [
           "0.07"
          ],
          [
           "0.06667"
          ],
          [
           "0.06333"
          ],
          [
           "0.06"
          ],
          [
           "0.05667"
          ],
          [
           "0.05333"
          ],
          [
           "0.05"
          ],
          [
           "0.04333"
          ],
          [
           "0.04"
          ],
          [
           "0.03667"
          ],
          [
           "0.03333"
          ],
          [
           "0.02667"
          ],
          [
           "0.02333"
          ],
          [
           "0.02"
          ],
          [
           "0.01667"
          ],
          [
           "0.01333"
          ],
          [
           "0.01"
          ],
          [
           "0.006667"
          ],
          [
           "0.003333"
          ],
          [
           "0"
          ]
         ],
         "fillpattern": {
          "shape": ""
         },
         "hovertemplate": "False Positive Rate=%{x}<br>True Positive Rate=%{y}<br>Threshold=%{customdata[0]}<extra></extra>",
         "legendgroup": "",
         "line": {
          "color": "#636efa"
         },
         "marker": {
          "symbol": "circle"
         },
         "mode": "lines",
         "name": "",
         "orientation": "v",
         "showlegend": false,
         "stackgroup": "1",
         "type": "scatter",
         "x": [
          0,
          0,
          0,
          0.004987531172069825,
          0.00997506234413965,
          0.00997506234413965,
          0.012468827930174564,
          0.012468827930174564,
          0.014962593516209476,
          0.0199501246882793,
          0.02493765586034913,
          0.032418952618453865,
          0.05236907730673317,
          0.057356608478802994,
          0.07231920199501247,
          0.08478802992518704,
          0.11221945137157108,
          0.12468827930174564,
          0.14463840399002495,
          0.16708229426433915,
          0.19451371571072318,
          0.26433915211970077,
          0.30174563591022446,
          0.3192019950124688,
          0.3491271820448878,
          0.45885286783042395,
          0.5286783042394015,
          0.5935162094763092,
          0.6683291770573566,
          0.7356608478802993,
          0.8179551122194514,
          0.8653366583541147,
          0.9052369077306733,
          1
         ],
         "xaxis": "x",
         "y": [
          0,
          0.2,
          0.4,
          0.4,
          0.4,
          0.5333333333333333,
          0.5333333333333333,
          0.6666666666666666,
          0.6666666666666666,
          0.8,
          0.8,
          0.8,
          0.8,
          0.8,
          0.8,
          0.8,
          0.8,
          0.8666666666666667,
          0.9333333333333333,
          0.9333333333333333,
          0.9333333333333333,
          0.9333333333333333,
          1,
          1,
          1,
          1,
          1,
          1,
          1,
          1,
          1,
          1,
          1,
          1
         ],
         "yaxis": "y"
        }
       ],
       "layout": {
        "height": 600,
        "legend": {
         "tracegroupgap": 0
        },
        "shapes": [
         {
          "line": {
           "color": "grey",
           "dash": "dash"
          },
          "type": "line",
          "x0": 0,
          "x1": 1,
          "y0": 0,
          "y1": 1
         }
        ],
        "template": {
         "data": {
          "bar": [
           {
            "error_x": {
             "color": "#2a3f5f"
            },
            "error_y": {
             "color": "#2a3f5f"
            },
            "marker": {
             "line": {
              "color": "#E5ECF6",
              "width": 0.5
             },
             "pattern": {
              "fillmode": "overlay",
              "size": 10,
              "solidity": 0.2
             }
            },
            "type": "bar"
           }
          ],
          "barpolar": [
           {
            "marker": {
             "line": {
              "color": "#E5ECF6",
              "width": 0.5
             },
             "pattern": {
              "fillmode": "overlay",
              "size": 10,
              "solidity": 0.2
             }
            },
            "type": "barpolar"
           }
          ],
          "carpet": [
           {
            "aaxis": {
             "endlinecolor": "#2a3f5f",
             "gridcolor": "white",
             "linecolor": "white",
             "minorgridcolor": "white",
             "startlinecolor": "#2a3f5f"
            },
            "baxis": {
             "endlinecolor": "#2a3f5f",
             "gridcolor": "white",
             "linecolor": "white",
             "minorgridcolor": "white",
             "startlinecolor": "#2a3f5f"
            },
            "type": "carpet"
           }
          ],
          "choropleth": [
           {
            "colorbar": {
             "outlinewidth": 0,
             "ticks": ""
            },
            "type": "choropleth"
           }
          ],
          "contour": [
           {
            "colorbar": {
             "outlinewidth": 0,
             "ticks": ""
            },
            "colorscale": [
             [
              0,
              "#0d0887"
             ],
             [
              0.1111111111111111,
              "#46039f"
             ],
             [
              0.2222222222222222,
              "#7201a8"
             ],
             [
              0.3333333333333333,
              "#9c179e"
             ],
             [
              0.4444444444444444,
              "#bd3786"
             ],
             [
              0.5555555555555556,
              "#d8576b"
             ],
             [
              0.6666666666666666,
              "#ed7953"
             ],
             [
              0.7777777777777778,
              "#fb9f3a"
             ],
             [
              0.8888888888888888,
              "#fdca26"
             ],
             [
              1,
              "#f0f921"
             ]
            ],
            "type": "contour"
           }
          ],
          "contourcarpet": [
           {
            "colorbar": {
             "outlinewidth": 0,
             "ticks": ""
            },
            "type": "contourcarpet"
           }
          ],
          "heatmap": [
           {
            "colorbar": {
             "outlinewidth": 0,
             "ticks": ""
            },
            "colorscale": [
             [
              0,
              "#0d0887"
             ],
             [
              0.1111111111111111,
              "#46039f"
             ],
             [
              0.2222222222222222,
              "#7201a8"
             ],
             [
              0.3333333333333333,
              "#9c179e"
             ],
             [
              0.4444444444444444,
              "#bd3786"
             ],
             [
              0.5555555555555556,
              "#d8576b"
             ],
             [
              0.6666666666666666,
              "#ed7953"
             ],
             [
              0.7777777777777778,
              "#fb9f3a"
             ],
             [
              0.8888888888888888,
              "#fdca26"
             ],
             [
              1,
              "#f0f921"
             ]
            ],
            "type": "heatmap"
           }
          ],
          "heatmapgl": [
           {
            "colorbar": {
             "outlinewidth": 0,
             "ticks": ""
            },
            "colorscale": [
             [
              0,
              "#0d0887"
             ],
             [
              0.1111111111111111,
              "#46039f"
             ],
             [
              0.2222222222222222,
              "#7201a8"
             ],
             [
              0.3333333333333333,
              "#9c179e"
             ],
             [
              0.4444444444444444,
              "#bd3786"
             ],
             [
              0.5555555555555556,
              "#d8576b"
             ],
             [
              0.6666666666666666,
              "#ed7953"
             ],
             [
              0.7777777777777778,
              "#fb9f3a"
             ],
             [
              0.8888888888888888,
              "#fdca26"
             ],
             [
              1,
              "#f0f921"
             ]
            ],
            "type": "heatmapgl"
           }
          ],
          "histogram": [
           {
            "marker": {
             "pattern": {
              "fillmode": "overlay",
              "size": 10,
              "solidity": 0.2
             }
            },
            "type": "histogram"
           }
          ],
          "histogram2d": [
           {
            "colorbar": {
             "outlinewidth": 0,
             "ticks": ""
            },
            "colorscale": [
             [
              0,
              "#0d0887"
             ],
             [
              0.1111111111111111,
              "#46039f"
             ],
             [
              0.2222222222222222,
              "#7201a8"
             ],
             [
              0.3333333333333333,
              "#9c179e"
             ],
             [
              0.4444444444444444,
              "#bd3786"
             ],
             [
              0.5555555555555556,
              "#d8576b"
             ],
             [
              0.6666666666666666,
              "#ed7953"
             ],
             [
              0.7777777777777778,
              "#fb9f3a"
             ],
             [
              0.8888888888888888,
              "#fdca26"
             ],
             [
              1,
              "#f0f921"
             ]
            ],
            "type": "histogram2d"
           }
          ],
          "histogram2dcontour": [
           {
            "colorbar": {
             "outlinewidth": 0,
             "ticks": ""
            },
            "colorscale": [
             [
              0,
              "#0d0887"
             ],
             [
              0.1111111111111111,
              "#46039f"
             ],
             [
              0.2222222222222222,
              "#7201a8"
             ],
             [
              0.3333333333333333,
              "#9c179e"
             ],
             [
              0.4444444444444444,
              "#bd3786"
             ],
             [
              0.5555555555555556,
              "#d8576b"
             ],
             [
              0.6666666666666666,
              "#ed7953"
             ],
             [
              0.7777777777777778,
              "#fb9f3a"
             ],
             [
              0.8888888888888888,
              "#fdca26"
             ],
             [
              1,
              "#f0f921"
             ]
            ],
            "type": "histogram2dcontour"
           }
          ],
          "mesh3d": [
           {
            "colorbar": {
             "outlinewidth": 0,
             "ticks": ""
            },
            "type": "mesh3d"
           }
          ],
          "parcoords": [
           {
            "line": {
             "colorbar": {
              "outlinewidth": 0,
              "ticks": ""
             }
            },
            "type": "parcoords"
           }
          ],
          "pie": [
           {
            "automargin": true,
            "type": "pie"
           }
          ],
          "scatter": [
           {
            "fillpattern": {
             "fillmode": "overlay",
             "size": 10,
             "solidity": 0.2
            },
            "type": "scatter"
           }
          ],
          "scatter3d": [
           {
            "line": {
             "colorbar": {
              "outlinewidth": 0,
              "ticks": ""
             }
            },
            "marker": {
             "colorbar": {
              "outlinewidth": 0,
              "ticks": ""
             }
            },
            "type": "scatter3d"
           }
          ],
          "scattercarpet": [
           {
            "marker": {
             "colorbar": {
              "outlinewidth": 0,
              "ticks": ""
             }
            },
            "type": "scattercarpet"
           }
          ],
          "scattergeo": [
           {
            "marker": {
             "colorbar": {
              "outlinewidth": 0,
              "ticks": ""
             }
            },
            "type": "scattergeo"
           }
          ],
          "scattergl": [
           {
            "marker": {
             "colorbar": {
              "outlinewidth": 0,
              "ticks": ""
             }
            },
            "type": "scattergl"
           }
          ],
          "scattermapbox": [
           {
            "marker": {
             "colorbar": {
              "outlinewidth": 0,
              "ticks": ""
             }
            },
            "type": "scattermapbox"
           }
          ],
          "scatterpolar": [
           {
            "marker": {
             "colorbar": {
              "outlinewidth": 0,
              "ticks": ""
             }
            },
            "type": "scatterpolar"
           }
          ],
          "scatterpolargl": [
           {
            "marker": {
             "colorbar": {
              "outlinewidth": 0,
              "ticks": ""
             }
            },
            "type": "scatterpolargl"
           }
          ],
          "scatterternary": [
           {
            "marker": {
             "colorbar": {
              "outlinewidth": 0,
              "ticks": ""
             }
            },
            "type": "scatterternary"
           }
          ],
          "surface": [
           {
            "colorbar": {
             "outlinewidth": 0,
             "ticks": ""
            },
            "colorscale": [
             [
              0,
              "#0d0887"
             ],
             [
              0.1111111111111111,
              "#46039f"
             ],
             [
              0.2222222222222222,
              "#7201a8"
             ],
             [
              0.3333333333333333,
              "#9c179e"
             ],
             [
              0.4444444444444444,
              "#bd3786"
             ],
             [
              0.5555555555555556,
              "#d8576b"
             ],
             [
              0.6666666666666666,
              "#ed7953"
             ],
             [
              0.7777777777777778,
              "#fb9f3a"
             ],
             [
              0.8888888888888888,
              "#fdca26"
             ],
             [
              1,
              "#f0f921"
             ]
            ],
            "type": "surface"
           }
          ],
          "table": [
           {
            "cells": {
             "fill": {
              "color": "#EBF0F8"
             },
             "line": {
              "color": "white"
             }
            },
            "header": {
             "fill": {
              "color": "#C8D4E3"
             },
             "line": {
              "color": "white"
             }
            },
            "type": "table"
           }
          ]
         },
         "layout": {
          "annotationdefaults": {
           "arrowcolor": "#2a3f5f",
           "arrowhead": 0,
           "arrowwidth": 1
          },
          "autotypenumbers": "strict",
          "coloraxis": {
           "colorbar": {
            "outlinewidth": 0,
            "ticks": ""
           }
          },
          "colorscale": {
           "diverging": [
            [
             0,
             "#8e0152"
            ],
            [
             0.1,
             "#c51b7d"
            ],
            [
             0.2,
             "#de77ae"
            ],
            [
             0.3,
             "#f1b6da"
            ],
            [
             0.4,
             "#fde0ef"
            ],
            [
             0.5,
             "#f7f7f7"
            ],
            [
             0.6,
             "#e6f5d0"
            ],
            [
             0.7,
             "#b8e186"
            ],
            [
             0.8,
             "#7fbc41"
            ],
            [
             0.9,
             "#4d9221"
            ],
            [
             1,
             "#276419"
            ]
           ],
           "sequential": [
            [
             0,
             "#0d0887"
            ],
            [
             0.1111111111111111,
             "#46039f"
            ],
            [
             0.2222222222222222,
             "#7201a8"
            ],
            [
             0.3333333333333333,
             "#9c179e"
            ],
            [
             0.4444444444444444,
             "#bd3786"
            ],
            [
             0.5555555555555556,
             "#d8576b"
            ],
            [
             0.6666666666666666,
             "#ed7953"
            ],
            [
             0.7777777777777778,
             "#fb9f3a"
            ],
            [
             0.8888888888888888,
             "#fdca26"
            ],
            [
             1,
             "#f0f921"
            ]
           ],
           "sequentialminus": [
            [
             0,
             "#0d0887"
            ],
            [
             0.1111111111111111,
             "#46039f"
            ],
            [
             0.2222222222222222,
             "#7201a8"
            ],
            [
             0.3333333333333333,
             "#9c179e"
            ],
            [
             0.4444444444444444,
             "#bd3786"
            ],
            [
             0.5555555555555556,
             "#d8576b"
            ],
            [
             0.6666666666666666,
             "#ed7953"
            ],
            [
             0.7777777777777778,
             "#fb9f3a"
            ],
            [
             0.8888888888888888,
             "#fdca26"
            ],
            [
             1,
             "#f0f921"
            ]
           ]
          },
          "colorway": [
           "#636efa",
           "#EF553B",
           "#00cc96",
           "#ab63fa",
           "#FFA15A",
           "#19d3f3",
           "#FF6692",
           "#B6E880",
           "#FF97FF",
           "#FECB52"
          ],
          "font": {
           "color": "#2a3f5f"
          },
          "geo": {
           "bgcolor": "white",
           "lakecolor": "white",
           "landcolor": "#E5ECF6",
           "showlakes": true,
           "showland": true,
           "subunitcolor": "white"
          },
          "hoverlabel": {
           "align": "left"
          },
          "hovermode": "closest",
          "mapbox": {
           "style": "light"
          },
          "paper_bgcolor": "white",
          "plot_bgcolor": "#E5ECF6",
          "polar": {
           "angularaxis": {
            "gridcolor": "white",
            "linecolor": "white",
            "ticks": ""
           },
           "bgcolor": "#E5ECF6",
           "radialaxis": {
            "gridcolor": "white",
            "linecolor": "white",
            "ticks": ""
           }
          },
          "scene": {
           "xaxis": {
            "backgroundcolor": "#E5ECF6",
            "gridcolor": "white",
            "gridwidth": 2,
            "linecolor": "white",
            "showbackground": true,
            "ticks": "",
            "zerolinecolor": "white"
           },
           "yaxis": {
            "backgroundcolor": "#E5ECF6",
            "gridcolor": "white",
            "gridwidth": 2,
            "linecolor": "white",
            "showbackground": true,
            "ticks": "",
            "zerolinecolor": "white"
           },
           "zaxis": {
            "backgroundcolor": "#E5ECF6",
            "gridcolor": "white",
            "gridwidth": 2,
            "linecolor": "white",
            "showbackground": true,
            "ticks": "",
            "zerolinecolor": "white"
           }
          },
          "shapedefaults": {
           "line": {
            "color": "#2a3f5f"
           }
          },
          "ternary": {
           "aaxis": {
            "gridcolor": "white",
            "linecolor": "white",
            "ticks": ""
           },
           "baxis": {
            "gridcolor": "white",
            "linecolor": "white",
            "ticks": ""
           },
           "bgcolor": "#E5ECF6",
           "caxis": {
            "gridcolor": "white",
            "linecolor": "white",
            "ticks": ""
           }
          },
          "title": {
           "x": 0.05
          },
          "xaxis": {
           "automargin": true,
           "gridcolor": "white",
           "linecolor": "white",
           "ticks": "",
           "title": {
            "standoff": 15
           },
           "zerolinecolor": "white",
           "zerolinewidth": 2
          },
          "yaxis": {
           "automargin": true,
           "gridcolor": "white",
           "linecolor": "white",
           "ticks": "",
           "title": {
            "standoff": 15
           },
           "zerolinecolor": "white",
           "zerolinewidth": 2
          }
         }
        },
        "title": {
         "text": "ROC Curve (AUC=0.9589)",
         "x": 0.5,
         "xanchor": "center"
        },
        "width": 600,
        "xaxis": {
         "anchor": "y",
         "constrain": "domain",
         "domain": [
          0,
          1
         ],
         "title": {
          "text": "False Positive Rate"
         }
        },
        "yaxis": {
         "anchor": "x",
         "domain": [
          0,
          1
         ],
         "scaleanchor": "x",
         "scaleratio": 1,
         "title": {
          "text": "True Positive Rate"
         }
        }
       }
      }
     },
     "metadata": {},
     "output_type": "display_data"
    }
   ],
   "source": [
    "from eppi_text_classification.predict import predict_probabilities\n",
    "from eppi_text_classification.plotly_roc import plotly_roc\n",
    "\n",
    "y_test_pred_probs = predict_probabilities(model, X_test)\n",
    "plotly_roc(y_test, y_test_pred_probs)"
   ]
  },
  {
   "cell_type": "code",
   "execution_count": 12,
   "metadata": {},
   "outputs": [],
   "source": [
    "from eppi_text_classification.predict import (\n",
    "    get_threshold,\n",
    "    threshold_predict,\n",
    ")\n",
    "\n",
    "\n",
    "threshold = get_threshold(model, X_test, y_test, target_tpr=1)\n",
    "\n",
    "y_test_pred = threshold_predict(model, X_test, threshold)\n",
    "y_train_pred = threshold_predict(model, X_train, threshold)"
   ]
  },
  {
   "cell_type": "code",
   "execution_count": 13,
   "metadata": {},
   "outputs": [
    {
     "data": {
      "application/vnd.plotly.v1+json": {
       "config": {
        "plotlyServerURL": "https://plot.ly"
       },
       "data": [
        {
         "colorscale": [
          [
           0,
           "rgb(247,251,255)"
          ],
          [
           0.125,
           "rgb(222,235,247)"
          ],
          [
           0.25,
           "rgb(198,219,239)"
          ],
          [
           0.375,
           "rgb(158,202,225)"
          ],
          [
           0.5,
           "rgb(107,174,214)"
          ],
          [
           0.625,
           "rgb(66,146,198)"
          ],
          [
           0.75,
           "rgb(33,113,181)"
          ],
          [
           0.875,
           "rgb(8,81,156)"
          ],
          [
           1,
           "rgb(8,48,107)"
          ]
         ],
         "hoverinfo": "text",
         "showscale": false,
         "text": [
          [
           "Truth: Excluded<br>Prediction: Included<br>Total: 14",
           "Truth: Excluded<br>Prediction: Excluded<br>Total: 789"
          ],
          [
           "Truth: Included<br>Prediction: Included<br>Total: 29",
           "Truth: Included<br>Prediction: Excluded<br>Total: 0"
          ]
         ],
         "type": "heatmap",
         "x": [
          "0",
          "1"
         ],
         "xaxis": "x",
         "y": [
          "0",
          "1"
         ],
         "yaxis": "y",
         "z": [
          [
           14,
           789
          ],
          [
           29,
           0
          ]
         ]
        },
        {
         "colorscale": [
          [
           0,
           "rgb(247,251,255)"
          ],
          [
           0.125,
           "rgb(222,235,247)"
          ],
          [
           0.25,
           "rgb(198,219,239)"
          ],
          [
           0.375,
           "rgb(158,202,225)"
          ],
          [
           0.5,
           "rgb(107,174,214)"
          ],
          [
           0.625,
           "rgb(66,146,198)"
          ],
          [
           0.75,
           "rgb(33,113,181)"
          ],
          [
           0.875,
           "rgb(8,81,156)"
          ],
          [
           1,
           "rgb(8,48,107)"
          ]
         ],
         "hoverinfo": "text",
         "showscale": false,
         "text": [
          [
           "Truth: Excluded<br>Prediction: Included<br>Total: 121",
           "Truth: Excluded<br>Prediction: Excluded<br>Total: 280"
          ],
          [
           "Truth: Included<br>Prediction: Included<br>Total: 15",
           "Truth: Included<br>Prediction: Excluded<br>Total: 0"
          ]
         ],
         "type": "heatmap",
         "x": [
          "0",
          "1"
         ],
         "xaxis": "x2",
         "y": [
          "0",
          "1"
         ],
         "yaxis": "y2",
         "z": [
          [
           121,
           280
          ],
          [
           15,
           0
          ]
         ]
        }
       ],
       "layout": {
        "annotations": [
         {
          "font": {
           "size": 18
          },
          "showarrow": false,
          "text": "Training Matrix",
          "x": 0.2125,
          "xanchor": "center",
          "xref": "paper",
          "y": 1.03,
          "yanchor": "bottom",
          "yref": "paper"
         },
         {
          "font": {
           "size": 18
          },
          "showarrow": false,
          "text": "Validation Matrix",
          "x": 0.7875,
          "xanchor": "center",
          "xref": "paper",
          "y": 1.03,
          "yanchor": "bottom",
          "yref": "paper"
         },
         {
          "font": {
           "color": " dark blue"
          },
          "showarrow": false,
          "text": "14",
          "x": "0",
          "xref": "x",
          "y": "0",
          "yref": "y"
         },
         {
          "font": {
           "color": "white"
          },
          "showarrow": false,
          "text": "789",
          "x": "1",
          "xref": "x",
          "y": "0",
          "yref": "y"
         },
         {
          "font": {
           "color": " dark blue"
          },
          "showarrow": false,
          "text": "29",
          "x": "0",
          "xref": "x",
          "y": "1",
          "yref": "y"
         },
         {
          "font": {
           "color": " dark blue"
          },
          "showarrow": false,
          "text": "0",
          "x": "1",
          "xref": "x",
          "y": "1",
          "yref": "y"
         },
         {
          "font": {
           "color": " dark blue"
          },
          "showarrow": false,
          "text": "121",
          "x": "0",
          "xref": "x2",
          "y": "0",
          "yref": "y2"
         },
         {
          "font": {
           "color": "white"
          },
          "showarrow": false,
          "text": "280",
          "x": "1",
          "xref": "x2",
          "y": "0",
          "yref": "y2"
         },
         {
          "font": {
           "color": " dark blue"
          },
          "showarrow": false,
          "text": "15",
          "x": "0",
          "xref": "x2",
          "y": "1",
          "yref": "y2"
         },
         {
          "font": {
           "color": " dark blue"
          },
          "showarrow": false,
          "text": "0",
          "x": "1",
          "xref": "x2",
          "y": "1",
          "yref": "y2"
         }
        ],
        "autosize": false,
        "height": 400,
        "shapes": [
         {
          "line": {
           "color": "black",
           "width": 2
          },
          "type": "rect",
          "x0": -0.5,
          "x1": 1.5,
          "xref": "x",
          "y0": -0.5,
          "y1": 1.5,
          "yref": "y"
         },
         {
          "line": {
           "color": "black",
           "width": 1.5
          },
          "type": "line",
          "x0": -0.5,
          "x1": 1.5,
          "xref": "x",
          "y0": 0.5,
          "y1": 0.5,
          "yref": "y"
         },
         {
          "line": {
           "color": "black",
           "width": 1.5
          },
          "type": "line",
          "x0": 0.5,
          "x1": 0.5,
          "xref": "x",
          "y0": -0.5,
          "y1": 1.5,
          "yref": "y"
         },
         {
          "line": {
           "color": "black",
           "width": 2
          },
          "type": "rect",
          "x0": -0.5,
          "x1": 1.5,
          "xref": "x2",
          "y0": -0.5,
          "y1": 1.5,
          "yref": "y2"
         },
         {
          "line": {
           "color": "black",
           "width": 1.5
          },
          "type": "line",
          "x0": -0.5,
          "x1": 1.5,
          "xref": "x2",
          "y0": 0.5,
          "y1": 0.5,
          "yref": "y2"
         },
         {
          "line": {
           "color": "black",
           "width": 1.5
          },
          "type": "line",
          "x0": 0.5,
          "x1": 0.5,
          "xref": "x2",
          "y0": -0.5,
          "y1": 1.5,
          "yref": "y2"
         }
        ],
        "template": {
         "data": {
          "bar": [
           {
            "error_x": {
             "color": "#2a3f5f"
            },
            "error_y": {
             "color": "#2a3f5f"
            },
            "marker": {
             "line": {
              "color": "#E5ECF6",
              "width": 0.5
             },
             "pattern": {
              "fillmode": "overlay",
              "size": 10,
              "solidity": 0.2
             }
            },
            "type": "bar"
           }
          ],
          "barpolar": [
           {
            "marker": {
             "line": {
              "color": "#E5ECF6",
              "width": 0.5
             },
             "pattern": {
              "fillmode": "overlay",
              "size": 10,
              "solidity": 0.2
             }
            },
            "type": "barpolar"
           }
          ],
          "carpet": [
           {
            "aaxis": {
             "endlinecolor": "#2a3f5f",
             "gridcolor": "white",
             "linecolor": "white",
             "minorgridcolor": "white",
             "startlinecolor": "#2a3f5f"
            },
            "baxis": {
             "endlinecolor": "#2a3f5f",
             "gridcolor": "white",
             "linecolor": "white",
             "minorgridcolor": "white",
             "startlinecolor": "#2a3f5f"
            },
            "type": "carpet"
           }
          ],
          "choropleth": [
           {
            "colorbar": {
             "outlinewidth": 0,
             "ticks": ""
            },
            "type": "choropleth"
           }
          ],
          "contour": [
           {
            "colorbar": {
             "outlinewidth": 0,
             "ticks": ""
            },
            "colorscale": [
             [
              0,
              "#0d0887"
             ],
             [
              0.1111111111111111,
              "#46039f"
             ],
             [
              0.2222222222222222,
              "#7201a8"
             ],
             [
              0.3333333333333333,
              "#9c179e"
             ],
             [
              0.4444444444444444,
              "#bd3786"
             ],
             [
              0.5555555555555556,
              "#d8576b"
             ],
             [
              0.6666666666666666,
              "#ed7953"
             ],
             [
              0.7777777777777778,
              "#fb9f3a"
             ],
             [
              0.8888888888888888,
              "#fdca26"
             ],
             [
              1,
              "#f0f921"
             ]
            ],
            "type": "contour"
           }
          ],
          "contourcarpet": [
           {
            "colorbar": {
             "outlinewidth": 0,
             "ticks": ""
            },
            "type": "contourcarpet"
           }
          ],
          "heatmap": [
           {
            "colorbar": {
             "outlinewidth": 0,
             "ticks": ""
            },
            "colorscale": [
             [
              0,
              "#0d0887"
             ],
             [
              0.1111111111111111,
              "#46039f"
             ],
             [
              0.2222222222222222,
              "#7201a8"
             ],
             [
              0.3333333333333333,
              "#9c179e"
             ],
             [
              0.4444444444444444,
              "#bd3786"
             ],
             [
              0.5555555555555556,
              "#d8576b"
             ],
             [
              0.6666666666666666,
              "#ed7953"
             ],
             [
              0.7777777777777778,
              "#fb9f3a"
             ],
             [
              0.8888888888888888,
              "#fdca26"
             ],
             [
              1,
              "#f0f921"
             ]
            ],
            "type": "heatmap"
           }
          ],
          "heatmapgl": [
           {
            "colorbar": {
             "outlinewidth": 0,
             "ticks": ""
            },
            "colorscale": [
             [
              0,
              "#0d0887"
             ],
             [
              0.1111111111111111,
              "#46039f"
             ],
             [
              0.2222222222222222,
              "#7201a8"
             ],
             [
              0.3333333333333333,
              "#9c179e"
             ],
             [
              0.4444444444444444,
              "#bd3786"
             ],
             [
              0.5555555555555556,
              "#d8576b"
             ],
             [
              0.6666666666666666,
              "#ed7953"
             ],
             [
              0.7777777777777778,
              "#fb9f3a"
             ],
             [
              0.8888888888888888,
              "#fdca26"
             ],
             [
              1,
              "#f0f921"
             ]
            ],
            "type": "heatmapgl"
           }
          ],
          "histogram": [
           {
            "marker": {
             "pattern": {
              "fillmode": "overlay",
              "size": 10,
              "solidity": 0.2
             }
            },
            "type": "histogram"
           }
          ],
          "histogram2d": [
           {
            "colorbar": {
             "outlinewidth": 0,
             "ticks": ""
            },
            "colorscale": [
             [
              0,
              "#0d0887"
             ],
             [
              0.1111111111111111,
              "#46039f"
             ],
             [
              0.2222222222222222,
              "#7201a8"
             ],
             [
              0.3333333333333333,
              "#9c179e"
             ],
             [
              0.4444444444444444,
              "#bd3786"
             ],
             [
              0.5555555555555556,
              "#d8576b"
             ],
             [
              0.6666666666666666,
              "#ed7953"
             ],
             [
              0.7777777777777778,
              "#fb9f3a"
             ],
             [
              0.8888888888888888,
              "#fdca26"
             ],
             [
              1,
              "#f0f921"
             ]
            ],
            "type": "histogram2d"
           }
          ],
          "histogram2dcontour": [
           {
            "colorbar": {
             "outlinewidth": 0,
             "ticks": ""
            },
            "colorscale": [
             [
              0,
              "#0d0887"
             ],
             [
              0.1111111111111111,
              "#46039f"
             ],
             [
              0.2222222222222222,
              "#7201a8"
             ],
             [
              0.3333333333333333,
              "#9c179e"
             ],
             [
              0.4444444444444444,
              "#bd3786"
             ],
             [
              0.5555555555555556,
              "#d8576b"
             ],
             [
              0.6666666666666666,
              "#ed7953"
             ],
             [
              0.7777777777777778,
              "#fb9f3a"
             ],
             [
              0.8888888888888888,
              "#fdca26"
             ],
             [
              1,
              "#f0f921"
             ]
            ],
            "type": "histogram2dcontour"
           }
          ],
          "mesh3d": [
           {
            "colorbar": {
             "outlinewidth": 0,
             "ticks": ""
            },
            "type": "mesh3d"
           }
          ],
          "parcoords": [
           {
            "line": {
             "colorbar": {
              "outlinewidth": 0,
              "ticks": ""
             }
            },
            "type": "parcoords"
           }
          ],
          "pie": [
           {
            "automargin": true,
            "type": "pie"
           }
          ],
          "scatter": [
           {
            "fillpattern": {
             "fillmode": "overlay",
             "size": 10,
             "solidity": 0.2
            },
            "type": "scatter"
           }
          ],
          "scatter3d": [
           {
            "line": {
             "colorbar": {
              "outlinewidth": 0,
              "ticks": ""
             }
            },
            "marker": {
             "colorbar": {
              "outlinewidth": 0,
              "ticks": ""
             }
            },
            "type": "scatter3d"
           }
          ],
          "scattercarpet": [
           {
            "marker": {
             "colorbar": {
              "outlinewidth": 0,
              "ticks": ""
             }
            },
            "type": "scattercarpet"
           }
          ],
          "scattergeo": [
           {
            "marker": {
             "colorbar": {
              "outlinewidth": 0,
              "ticks": ""
             }
            },
            "type": "scattergeo"
           }
          ],
          "scattergl": [
           {
            "marker": {
             "colorbar": {
              "outlinewidth": 0,
              "ticks": ""
             }
            },
            "type": "scattergl"
           }
          ],
          "scattermapbox": [
           {
            "marker": {
             "colorbar": {
              "outlinewidth": 0,
              "ticks": ""
             }
            },
            "type": "scattermapbox"
           }
          ],
          "scatterpolar": [
           {
            "marker": {
             "colorbar": {
              "outlinewidth": 0,
              "ticks": ""
             }
            },
            "type": "scatterpolar"
           }
          ],
          "scatterpolargl": [
           {
            "marker": {
             "colorbar": {
              "outlinewidth": 0,
              "ticks": ""
             }
            },
            "type": "scatterpolargl"
           }
          ],
          "scatterternary": [
           {
            "marker": {
             "colorbar": {
              "outlinewidth": 0,
              "ticks": ""
             }
            },
            "type": "scatterternary"
           }
          ],
          "surface": [
           {
            "colorbar": {
             "outlinewidth": 0,
             "ticks": ""
            },
            "colorscale": [
             [
              0,
              "#0d0887"
             ],
             [
              0.1111111111111111,
              "#46039f"
             ],
             [
              0.2222222222222222,
              "#7201a8"
             ],
             [
              0.3333333333333333,
              "#9c179e"
             ],
             [
              0.4444444444444444,
              "#bd3786"
             ],
             [
              0.5555555555555556,
              "#d8576b"
             ],
             [
              0.6666666666666666,
              "#ed7953"
             ],
             [
              0.7777777777777778,
              "#fb9f3a"
             ],
             [
              0.8888888888888888,
              "#fdca26"
             ],
             [
              1,
              "#f0f921"
             ]
            ],
            "type": "surface"
           }
          ],
          "table": [
           {
            "cells": {
             "fill": {
              "color": "#EBF0F8"
             },
             "line": {
              "color": "white"
             }
            },
            "header": {
             "fill": {
              "color": "#C8D4E3"
             },
             "line": {
              "color": "white"
             }
            },
            "type": "table"
           }
          ]
         },
         "layout": {
          "annotationdefaults": {
           "arrowcolor": "#2a3f5f",
           "arrowhead": 0,
           "arrowwidth": 1
          },
          "autotypenumbers": "strict",
          "coloraxis": {
           "colorbar": {
            "outlinewidth": 0,
            "ticks": ""
           }
          },
          "colorscale": {
           "diverging": [
            [
             0,
             "#8e0152"
            ],
            [
             0.1,
             "#c51b7d"
            ],
            [
             0.2,
             "#de77ae"
            ],
            [
             0.3,
             "#f1b6da"
            ],
            [
             0.4,
             "#fde0ef"
            ],
            [
             0.5,
             "#f7f7f7"
            ],
            [
             0.6,
             "#e6f5d0"
            ],
            [
             0.7,
             "#b8e186"
            ],
            [
             0.8,
             "#7fbc41"
            ],
            [
             0.9,
             "#4d9221"
            ],
            [
             1,
             "#276419"
            ]
           ],
           "sequential": [
            [
             0,
             "#0d0887"
            ],
            [
             0.1111111111111111,
             "#46039f"
            ],
            [
             0.2222222222222222,
             "#7201a8"
            ],
            [
             0.3333333333333333,
             "#9c179e"
            ],
            [
             0.4444444444444444,
             "#bd3786"
            ],
            [
             0.5555555555555556,
             "#d8576b"
            ],
            [
             0.6666666666666666,
             "#ed7953"
            ],
            [
             0.7777777777777778,
             "#fb9f3a"
            ],
            [
             0.8888888888888888,
             "#fdca26"
            ],
            [
             1,
             "#f0f921"
            ]
           ],
           "sequentialminus": [
            [
             0,
             "#0d0887"
            ],
            [
             0.1111111111111111,
             "#46039f"
            ],
            [
             0.2222222222222222,
             "#7201a8"
            ],
            [
             0.3333333333333333,
             "#9c179e"
            ],
            [
             0.4444444444444444,
             "#bd3786"
            ],
            [
             0.5555555555555556,
             "#d8576b"
            ],
            [
             0.6666666666666666,
             "#ed7953"
            ],
            [
             0.7777777777777778,
             "#fb9f3a"
            ],
            [
             0.8888888888888888,
             "#fdca26"
            ],
            [
             1,
             "#f0f921"
            ]
           ]
          },
          "colorway": [
           "#636efa",
           "#EF553B",
           "#00cc96",
           "#ab63fa",
           "#FFA15A",
           "#19d3f3",
           "#FF6692",
           "#B6E880",
           "#FF97FF",
           "#FECB52"
          ],
          "font": {
           "color": "#2a3f5f"
          },
          "geo": {
           "bgcolor": "white",
           "lakecolor": "white",
           "landcolor": "#E5ECF6",
           "showlakes": true,
           "showland": true,
           "subunitcolor": "white"
          },
          "hoverlabel": {
           "align": "left"
          },
          "hovermode": "closest",
          "mapbox": {
           "style": "light"
          },
          "paper_bgcolor": "white",
          "plot_bgcolor": "#E5ECF6",
          "polar": {
           "angularaxis": {
            "gridcolor": "white",
            "linecolor": "white",
            "ticks": ""
           },
           "bgcolor": "#E5ECF6",
           "radialaxis": {
            "gridcolor": "white",
            "linecolor": "white",
            "ticks": ""
           }
          },
          "scene": {
           "xaxis": {
            "backgroundcolor": "#E5ECF6",
            "gridcolor": "white",
            "gridwidth": 2,
            "linecolor": "white",
            "showbackground": true,
            "ticks": "",
            "zerolinecolor": "white"
           },
           "yaxis": {
            "backgroundcolor": "#E5ECF6",
            "gridcolor": "white",
            "gridwidth": 2,
            "linecolor": "white",
            "showbackground": true,
            "ticks": "",
            "zerolinecolor": "white"
           },
           "zaxis": {
            "backgroundcolor": "#E5ECF6",
            "gridcolor": "white",
            "gridwidth": 2,
            "linecolor": "white",
            "showbackground": true,
            "ticks": "",
            "zerolinecolor": "white"
           }
          },
          "shapedefaults": {
           "line": {
            "color": "#2a3f5f"
           }
          },
          "ternary": {
           "aaxis": {
            "gridcolor": "white",
            "linecolor": "white",
            "ticks": ""
           },
           "baxis": {
            "gridcolor": "white",
            "linecolor": "white",
            "ticks": ""
           },
           "bgcolor": "#E5ECF6",
           "caxis": {
            "gridcolor": "white",
            "linecolor": "white",
            "ticks": ""
           }
          },
          "title": {
           "x": 0.05
          },
          "xaxis": {
           "automargin": true,
           "gridcolor": "white",
           "linecolor": "white",
           "ticks": "",
           "title": {
            "standoff": 15
           },
           "zerolinecolor": "white",
           "zerolinewidth": 2
          },
          "yaxis": {
           "automargin": true,
           "gridcolor": "white",
           "linecolor": "white",
           "ticks": "",
           "title": {
            "standoff": 15
           },
           "zerolinecolor": "white",
           "zerolinewidth": 2
          }
         }
        },
        "width": 700,
        "xaxis": {
         "anchor": "y",
         "domain": [
          0,
          0.425
         ],
         "mirror": true,
         "tickcolor": "black",
         "ticklen": 5,
         "tickmode": "array",
         "ticks": "outside",
         "ticktext": [
          "1",
          "0"
         ],
         "tickvals": [
          0,
          1
         ],
         "tickwidth": 1,
         "title": {
          "text": "Prediction"
         }
        },
        "xaxis2": {
         "anchor": "y2",
         "domain": [
          0.575,
          1
         ],
         "mirror": true,
         "tickcolor": "black",
         "ticklen": 5,
         "tickmode": "array",
         "ticks": "outside",
         "ticktext": [
          "1",
          "0"
         ],
         "tickvals": [
          0,
          1
         ],
         "tickwidth": 1,
         "title": {
          "text": "Prediction"
         }
        },
        "yaxis": {
         "anchor": "x",
         "domain": [
          0,
          1
         ],
         "mirror": true,
         "tickcolor": "black",
         "ticklen": 5,
         "tickmode": "array",
         "ticks": "outside",
         "ticktext": [
          "0",
          "1"
         ],
         "tickvals": [
          0,
          1
         ],
         "tickwidth": 1,
         "title": {
          "standoff": 0.3,
          "text": "Truth"
         }
        },
        "yaxis2": {
         "anchor": "x2",
         "domain": [
          0,
          1
         ],
         "mirror": true,
         "tickcolor": "black",
         "ticklen": 5,
         "tickmode": "array",
         "ticks": "outside",
         "ticktext": [
          "0",
          "1"
         ],
         "tickvals": [
          0,
          1
         ],
         "tickwidth": 1,
         "title": {
          "standoff": 0.3,
          "text": "Truth"
         }
        }
       }
      }
     },
     "metadata": {},
     "output_type": "display_data"
    }
   ],
   "source": [
    "from eppi_text_classification import binary_train_valid_confusion_plotly\n",
    "\n",
    "binary_train_valid_confusion_plotly(\n",
    "    y_train,\n",
    "    y_train_pred,\n",
    "    y_test,\n",
    "    y_test_pred,\n",
    "    postive_label=\"Included\",\n",
    "    negative_label=\"Excluded\",\n",
    ")"
   ]
  },
  {
   "cell_type": "code",
   "execution_count": 17,
   "metadata": {},
   "outputs": [
    {
     "data": {
      "image/png": "[encoded data removed]",
      "text/plain": [
       "<Figure size 2000x400 with 2 Axes>"
      ]
     },
     "metadata": {},
     "output_type": "display_data"
    },
    {
     "data": {
      "image/png": "[encoded data removed]",
      "text/plain": [
       "<Figure size 800x550 with 1 Axes>"
      ]
     },
     "metadata": {},
     "output_type": "display_data"
    }
   ],
   "source": [
    "from eppi_text_classification.shap_plotter import ShapPlotter\n",
    "\n",
    "shap_plotter = ShapPlotter(model, X_test, feature_names)\n",
    "\n",
    "shap_plotter.dot_plot(num_display=10)\n",
    "shap_plotter.bar_chart()"
   ]
  },
  {
   "cell_type": "code",
   "execution_count": 18,
   "metadata": {},
   "outputs": [
    {
     "data": {
      "image/png": "[encoded data removed]",
      "text/plain": [
       "<Figure size 800x1110 with 1 Axes>"
      ]
     },
     "metadata": {},
     "output_type": "display_data"
    },
    {
     "data": {
      "image/png": "[encoded data removed]",
      "text/plain": [
       "<Figure size 800x510 with 1 Axes>"
      ]
     },
     "metadata": {},
     "output_type": "display_data"
    },
    {
     "data": {
      "image/png": "[encoded data removed]",
      "text/plain": [
       "<Figure size 800x510 with 1 Axes>"
      ]
     },
     "metadata": {},
     "output_type": "display_data"
    }
   ],
   "source": [
    "shap_plotter = ShapPlotter(model, X_test[:25], feature_names)\n",
    "\n",
    "shap_plotter.decision_plot(threshold=threshold, num_display=25)\n",
    "shap_plotter.decision_plot(threshold=threshold, num_display=10)\n",
    "shap_plotter.single_decision_plot(threshold=threshold, index=0, num_display=10)"
   ]
  }
 ],
 "metadata": {
  "kernelspec": {
   "display_name": "base",
   "language": "python",
   "name": "python3"
  },
  "language_info": {
   "codemirror_mode": {
    "name": "ipython",
    "version": 3
   },
   "file_extension": ".py",
   "mimetype": "text/x-python",
   "name": "python",
   "nbconvert_exporter": "python",
   "pygments_lexer": "ipython3",
   "version": "3.11.8"
  }
 },
 "nbformat": 4,
 "nbformat_minor": 2
}
