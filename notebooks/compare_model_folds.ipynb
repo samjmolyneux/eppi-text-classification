{
 "cells": [
  {
   "cell_type": "code",
   "execution_count": 1,
   "metadata": {},
   "outputs": [],
   "source": [
    "%load_ext autoreload\n",
    "%autoreload 2"
   ]
  },
  {
   "cell_type": "code",
   "execution_count": 2,
   "metadata": {},
   "outputs": [
    {
     "name": "stdout",
     "output_type": "stream",
     "text": [
      "number of processes: 12\n",
      "number of processes: 12\n"
     ]
    }
   ],
   "source": [
    "# GET THE DATAFRAME.\n",
    "\n",
    "import pandas as pd\n",
    "\n",
    "df_path = \"../data/raw/debunking_review.tsv\"\n",
    "# df_path = \"../../data/raw/hedges-all.tsv\"\n",
    "# df_path = \"../../data/raw/studytype_multiclass.tsv\"\n",
    "df = pd.read_csv(df_path, sep=\"\\t\")\n",
    "\n",
    "from eppi_text_classification import (\n",
    "    get_features,\n",
    "    get_labels,\n",
    "    get_tfidf_and_names,\n",
    ")\n",
    "\n",
    "word_features = get_features(\n",
    "    df,\n",
    "    # title_key=\"ti\",\n",
    "    # abstract_key=\"ab\",\n",
    "    # title_key=\"TI\",\n",
    "    # abstract_key=\"AB\",\n",
    ")\n",
    "\n",
    "labels = get_labels(\n",
    "    df,\n",
    "    # label_column_name=\"is_rct\",\n",
    "    # positive_class_value=\"1\",\n",
    "    # label_column_name=\"Class\",\n",
    "    # positive_class_value=\"CaseControlStudies\",\n",
    ")\n",
    "tfidf_scores, feature_names = get_tfidf_and_names(word_features)"
   ]
  },
  {
   "cell_type": "code",
   "execution_count": 3,
   "metadata": {},
   "outputs": [],
   "source": [
    "glm_params = dict(\n",
    "    objective=\"binary:logistic\",\n",
    "    eval_metric=\"logloss\",\n",
    "    # colsample_bytree=1,\n",
    "    n_jobs=-1,\n",
    "    # scale_pos_weight=42,\n",
    "    scale_pos_weight=27,\n",
    "    reg_lambda=0.00007636592766577953,\n",
    "    reg_alpha=0.0000834292094431529,\n",
    "    learning_rate=0.54507787503025981,\n",
    "    # learning_rate=0.0000054507787503025981,\n",
    "    # n_estimators=557,\n",
    "    n_estimators=500,\n",
    "    # min_child_weight=1,\n",
    "    # gamma=6.384905359051449e-10,\n",
    "    # max_depth=10,\n",
    "    # booster=\"gblinear\",\n",
    "    # sample_type=\"weighted\",\n",
    "    # verbosity=2,\n",
    "    validate_parameters=True,\n",
    "    # callbacks=[es],\n",
    "    enable_categorical=False,\n",
    "    booster=\"gblinear\",\n",
    ")\n",
    "\n",
    "lgbm_params = dict(\n",
    "    verbosity=-1,\n",
    "    boosting_type=\"gbdt\",\n",
    "    max_depth=4,\n",
    "    min_child_samples=30,\n",
    "    learning_rate=0.1245928917280467,\n",
    "    num_leaves=6,\n",
    "    n_estimators=1000,\n",
    "    subsample_for_bin=20000,\n",
    "    subsample=1.0,\n",
    "    objective=\"binary\",\n",
    "    scale_pos_weight=27,\n",
    "    min_split_gain=2.52381000405986e-06,\n",
    "    min_child_weight=5.544840854157574e-06,\n",
    "    reg_alpha=3.629909607712911e-05,\n",
    "    reg_lambda=3.671749546766942e-05,\n",
    "    n_jobs=-1,\n",
    "    # linear_tree=True,\n",
    "    metric=\"auc\",\n",
    "    # max_bin=255,\n",
    "    # tree_method=\"exact\",\n",
    "    # grow_policy=\"lossguide\",\n",
    "    # sampling_method=\"uniform\",\n",
    ")\n",
    "\n",
    "rf_params = dict(\n",
    "    class_weight=\"balanced\",\n",
    "    n_estimators=1000,\n",
    "    bootstrap=False,\n",
    "    n_jobs=-1,\n",
    ")"
   ]
  },
  {
   "cell_type": "code",
   "execution_count": 6,
   "metadata": {},
   "outputs": [],
   "source": [
    "from eppi_text_classification.model_stability import predict_cv_metrics_per_model\n",
    "from eppi_text_classification.plots.box_plot import generate_box_plot_html\n",
    "\n",
    "model_list = [\"xgboost\", \"lightgbm\", \"RandomForestClassifier\"]\n",
    "model_params = [glm_params, lgbm_params, rf_params]\n",
    "\n",
    "auc_scores_per_model = predict_cv_metrics_per_model(\n",
    "    tfidf_scores=tfidf_scores,\n",
    "    labels=labels,\n",
    "    model_names=model_list,\n",
    "    model_params_list=model_params,\n",
    "    nfolds=5,\n",
    "    num_cv_repeats=1,\n",
    ")\n"
   ]
  },
  {
   "cell_type": "code",
   "execution_count": 7,
   "metadata": {},
   "outputs": [
    {
     "name": "stdout",
     "output_type": "stream",
     "text": [
      "HTML file saved at: box_plot.html\n"
     ]
    }
   ],
   "source": [
    "model_list2 = [\n",
    "    \"xgboost\",\n",
    "    \"lightgbm\",\n",
    "    \"RandomForestClassifier\",\n",
    "    \"xgboost2\",\n",
    "    \"lightgbm2\",\n",
    "    \"RandomForestClassifier2\",\n",
    "    \"xgboost3\",\n",
    "    \"lightgbm3\",\n",
    "    \"RandomForestClassifier3\",\n",
    "    \"xgboost4\",\n",
    "    \"lightgbm4\",\n",
    "    \"RandomForestClassifier4\",\n",
    "    \"xgboost5\",\n",
    "    \"lightgbm5\",\n",
    "    \"RandomForestClassifier5\",\n",
    "    \"xgboost6\",\n",
    "    \"lightgbm6\",\n",
    "    \"RandomForestClassifier6\",\n",
    "    \"xgboost7\",\n",
    "    \"lightgbm7\",\n",
    "    \"RandomForestClassifier7\",\n",
    "]\n",
    "generate_box_plot_html(\n",
    "    [\n",
    "        *auc_scores_per_model,\n",
    "        *auc_scores_per_model,\n",
    "        *auc_scores_per_model,\n",
    "        *auc_scores_per_model,\n",
    "        *auc_scores_per_model,\n",
    "        *auc_scores_per_model,\n",
    "        *auc_scores_per_model,\n",
    "    ],\n",
    "    model_list2,\n",
    "    \"AUC\",\n",
    "    \"Model\",\n",
    "    \"AUC\",\n",
    "    \"boxplot\",\n",
    "    \"box_plot.html\",\n",
    ")"
   ]
  },
  {
   "cell_type": "code",
   "execution_count": 123,
   "metadata": {},
   "outputs": [
    {
     "name": "stdout",
     "output_type": "stream",
     "text": [
      "HTML file saved at: box_plot.html\n"
     ]
    }
   ],
   "source": [
    "single_model = [\"xgboost\"]\n",
    "\n",
    "generate_box_plot_html(\n",
    "    [\n",
    "        auc_scores_per_model[0],\n",
    "        auc_scores_per_model[2],\n",
    "    ],\n",
    "    [\"xgboost\", \"RandomForest\"],\n",
    "    \"AUC\",\n",
    "    \"Model\",\n",
    "    \"AUC\",\n",
    "    \"boxplot\",\n",
    "    \"box_plot.html\",\n",
    ")"
   ]
  },
  {
   "cell_type": "code",
   "execution_count": 8,
   "metadata": {},
   "outputs": [],
   "source": [
    "from eppi_text_classification.model_stability import predict_cv_scores\n",
    "\n",
    "fold_scores = predict_cv_scores(\n",
    "    tfidf_scores=tfidf_scores,\n",
    "    labels=labels,\n",
    "    model_name=\"xgboost\",\n",
    "    model_params=glm_params,\n",
    "    nfolds=15,\n",
    "    num_cv_repeats=1,\n",
    ")\n",
    "fold_scores = [list(fold) for fold in fold_scores]"
   ]
  },
  {
   "cell_type": "code",
   "execution_count": 9,
   "metadata": {},
   "outputs": [
    {
     "name": "stdout",
     "output_type": "stream",
     "text": [
      "HTML file saved at: box_plot.html\n"
     ]
    }
   ],
   "source": [
    "generate_box_plot_html(\n",
    "    fold_scores,\n",
    "    [\"1\", \"2\", \"3\", \"4\", \"5\", \"6\", \"7\", \"8\", \"9\", \"10\", \"11\", \"12\", \"13\", \"14\", \"15\"],\n",
    "    \"AUC\",\n",
    "    \"Fold\",\n",
    "    \"AUC\",\n",
    "    \"boxplot\",\n",
    "    \"box_plot.html\",\n",
    ")"
   ]
  },
  {
   "cell_type": "code",
   "execution_count": null,
   "metadata": {},
   "outputs": [],
   "source": []
  }
 ],
 "metadata": {
  "kernelspec": {
   "display_name": "v1",
   "language": "python",
   "name": "python3"
  },
  "language_info": {
   "codemirror_mode": {
    "name": "ipython",
    "version": 3
   },
   "file_extension": ".py",
   "mimetype": "text/x-python",
   "name": "python",
   "nbconvert_exporter": "python",
   "pygments_lexer": "ipython3",
   "version": "3.11.8"
  }
 },
 "nbformat": 4,
 "nbformat_minor": 2
}
