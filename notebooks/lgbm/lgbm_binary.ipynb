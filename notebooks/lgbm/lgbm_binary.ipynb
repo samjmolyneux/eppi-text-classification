{
 "cells": [
  {
   "cell_type": "code",
   "execution_count": 1,
   "metadata": {},
   "outputs": [],
   "source": [
    "%load_ext autoreload\n",
    "%autoreload 2"
   ]
  },
  {
   "cell_type": "code",
   "execution_count": 2,
   "metadata": {},
   "outputs": [],
   "source": [
    "# GET THE DATAFRAME.\n",
    "\n",
    "import pandas as pd\n",
    "\n",
    "df_path = \"../../data/raw/debunking_review.tsv\"\n",
    "# df_path = \"../../data/raw/hedges-all.tsv\"\n",
    "# df_path = \"../../data/raw/studytype_multiclass.tsv\"\n",
    "df = pd.read_csv(df_path, sep=\"\\t\")\n",
    "# df = pd.concat([df * 5])"
   ]
  },
  {
   "cell_type": "code",
   "execution_count": 3,
   "metadata": {},
   "outputs": [
    {
     "name": "stdout",
     "output_type": "stream",
     "text": [
      "number of processes: 12\n",
      "number of processes: 12\n"
     ]
    }
   ],
   "source": [
    "# PERFORM DATA PROCESSING (LEMATIZATION ETC), GET TFIDF SCORES AND FEATURE NAMES.\n",
    "# COULD be parallelised\n",
    "from eppi_text_classification import (\n",
    "    get_features,\n",
    "    get_labels,\n",
    "    get_tfidf_and_names,\n",
    ")\n",
    "\n",
    "word_features = get_features(\n",
    "    df,\n",
    "    # title_key=\"ti\",\n",
    "    # abstract_key=\"ab\",\n",
    "    # title_key=\"TI\",\n",
    "    # abstract_key=\"AB\",\n",
    ")\n"
   ]
  },
  {
   "cell_type": "code",
   "execution_count": 4,
   "metadata": {},
   "outputs": [],
   "source": [
    "labels = get_labels(\n",
    "    df,\n",
    "    # label_column_name=\"is_rct\",\n",
    "    # positive_class_value=\"1\",\n",
    "    # label_column_name=\"Class\",\n",
    "    # positive_class_value=\"CaseControlStudies\",\n",
    ")\n",
    "tfidf_scores, feature_names = get_tfidf_and_names(word_features)"
   ]
  },
  {
   "cell_type": "code",
   "execution_count": 5,
   "metadata": {},
   "outputs": [
    {
     "name": "stdout",
     "output_type": "stream",
     "text": [
      "Number of processes: 12\n",
      "sqlite:////Users/sjmolyneux/Documents/EPPI_Classification_Public/eppi_text_classification/optuna.db\n",
      "final ranges: {'max_depth': {'low': 1, 'high': 15, 'log': False, 'suggest_type': 'int'}, 'min_child_samples': {'low': 1, 'high': 30, 'log': False, 'suggest_type': 'int'}, 'num_leaves': {'low': 2, 'high': 50, 'log': False, 'suggest_type': 'int'}, 'n_estimators': {'low': 100, 'high': 500, 'log': False, 'suggest_type': 'int'}, 'learning_rate': {'low': 0.1, 'high': 0.6, 'log': False, 'suggest_type': 'float'}, 'min_split_gain': {'low': 1e-06, 'high': 10, 'log': False, 'suggest_type': 'float'}, 'min_child_weight': {'low': 1e-06, 'high': 0.1, 'log': True, 'suggest_type': 'float'}, 'reg_alpha': {'low': 1e-05, 'high': 10, 'log': True, 'suggest_type': 'float'}, 'reg_lambda': {'low': 1e-05, 'high': 10, 'log': True, 'suggest_type': 'float'}, 'data_sample_strategy': {'value': 'bagging', 'suggest_type': 'singular'}, 'boosting_type': {'value': 'gbdt', 'suggest_type': 'singular'}, 'tree_learner': {'value': 'serial', 'suggest_type': 'singular'}, 'use_quantized_grad': {'value': False, 'suggest_type': 'singular'}, 'subsample': {'value': 1.0, 'suggest_type': 'singular'}, 'subsample_for_bin': {'value': 20000, 'suggest_type': 'singular'}}\n",
      "Positive class weight: 27.363636363636363\n"
     ]
    },
    {
     "name": "stderr",
     "output_type": "stream",
     "text": [
      "[I 2025-02-24 09:09:58,617] A new study created in RDB with name: lgbm_binary\n",
      "/Users/sjmolyneux/Documents/EPPI_Classification_Public/eppi_text_classification/eppi_text_classification/single_process_opt.py:406: ExperimentalWarning: BestValueStagnationEvaluator is experimental (supported from v3.4.0). The interface can change in the future.\n",
      "  improvement_evaluator=BestValueStagnationEvaluator(\n",
      "/Users/sjmolyneux/Documents/EPPI_Classification_Public/eppi_text_classification/eppi_text_classification/single_process_opt.py:409: ExperimentalWarning: StaticErrorEvaluator is experimental (supported from v3.2.0). The interface can change in the future.\n",
      "  error_evaluator=StaticErrorEvaluator(constant=0),\n",
      "/Users/sjmolyneux/Documents/EPPI_Classification_Public/eppi_text_classification/eppi_text_classification/single_process_opt.py:405: ExperimentalWarning: Terminator is experimental (supported from v3.2.0). The interface can change in the future.\n",
      "  terminator = Terminator(\n",
      "/Users/sjmolyneux/Documents/EPPI_Classification_Public/eppi_text_classification/eppi_text_classification/single_process_opt.py:412: ExperimentalWarning: TerminatorCallback is experimental (supported from v3.2.0). The interface can change in the future.\n",
      "  stagnation_termination_callback = TerminatorCallback(terminator=terminator)\n",
      "/Users/sjmolyneux/Documents/EPPI_Classification_Public/eppi_text_classification/eppi_text_classification/single_process_opt.py:417: ExperimentalWarning: RegretBoundEvaluator is experimental (supported from v3.2.0). The interface can change in the future.\n",
      "  improvement_evaluator=RegretBoundEvaluator(),\n",
      "/Users/sjmolyneux/Documents/EPPI_Classification_Public/eppi_text_classification/eppi_text_classification/single_process_opt.py:418: ExperimentalWarning: CrossValidationErrorEvaluator is experimental (supported from v3.2.0). The interface can change in the future.\n",
      "  error_evaluator=CrossValidationErrorEvaluator(),\n",
      "/Users/sjmolyneux/Documents/EPPI_Classification_Public/eppi_text_classification/eppi_text_classification/single_process_opt.py:416: ExperimentalWarning: Terminator is experimental (supported from v3.2.0). The interface can change in the future.\n",
      "  terminator = Terminator(\n",
      "/Users/sjmolyneux/Documents/EPPI_Classification_Public/eppi_text_classification/eppi_text_classification/single_process_opt.py:421: ExperimentalWarning: TerminatorCallback is experimental (supported from v3.2.0). The interface can change in the future.\n",
      "  regret_terminator_callback = TerminatorCallback(terminator=terminator)\n",
      "/Users/sjmolyneux/Documents/EPPI_Classification_Public/eppi_text_classification/eppi_text_classification/single_process_opt.py:406: ExperimentalWarning: BestValueStagnationEvaluator is experimental (supported from v3.4.0). The interface can change in the future.\n",
      "  improvement_evaluator=BestValueStagnationEvaluator(\n",
      "/Users/sjmolyneux/Documents/EPPI_Classification_Public/eppi_text_classification/eppi_text_classification/single_process_opt.py:409: ExperimentalWarning: StaticErrorEvaluator is experimental (supported from v3.2.0). The interface can change in the future.\n",
      "  error_evaluator=StaticErrorEvaluator(constant=0),\n",
      "/Users/sjmolyneux/Documents/EPPI_Classification_Public/eppi_text_classification/eppi_text_classification/single_process_opt.py:405: ExperimentalWarning: Terminator is experimental (supported from v3.2.0). The interface can change in the future.\n",
      "  terminator = Terminator(\n",
      "/Users/sjmolyneux/Documents/EPPI_Classification_Public/eppi_text_classification/eppi_text_classification/single_process_opt.py:412: ExperimentalWarning: TerminatorCallback is experimental (supported from v3.2.0). The interface can change in the future.\n",
      "  stagnation_termination_callback = TerminatorCallback(terminator=terminator)\n",
      "/Users/sjmolyneux/Documents/EPPI_Classification_Public/eppi_text_classification/eppi_text_classification/single_process_opt.py:417: ExperimentalWarning: RegretBoundEvaluator is experimental (supported from v3.2.0). The interface can change in the future.\n",
      "  improvement_evaluator=RegretBoundEvaluator(),\n",
      "/Users/sjmolyneux/Documents/EPPI_Classification_Public/eppi_text_classification/eppi_text_classification/single_process_opt.py:406: ExperimentalWarning: BestValueStagnationEvaluator is experimental (supported from v3.4.0). The interface can change in the future.\n",
      "  improvement_evaluator=BestValueStagnationEvaluator(\n",
      "/Users/sjmolyneux/Documents/EPPI_Classification_Public/eppi_text_classification/eppi_text_classification/single_process_opt.py:409: ExperimentalWarning: StaticErrorEvaluator is experimental (supported from v3.2.0). The interface can change in the future.\n",
      "  error_evaluator=StaticErrorEvaluator(constant=0),\n",
      "/Users/sjmolyneux/Documents/EPPI_Classification_Public/eppi_text_classification/eppi_text_classification/single_process_opt.py:405: ExperimentalWarning: Terminator is experimental (supported from v3.2.0). The interface can change in the future.\n",
      "  terminator = Terminator(\n",
      "/Users/sjmolyneux/Documents/EPPI_Classification_Public/eppi_text_classification/eppi_text_classification/single_process_opt.py:412: ExperimentalWarning: TerminatorCallback is experimental (supported from v3.2.0). The interface can change in the future.\n",
      "  stagnation_termination_callback = TerminatorCallback(terminator=terminator)\n",
      "/Users/sjmolyneux/Documents/EPPI_Classification_Public/eppi_text_classification/eppi_text_classification/single_process_opt.py:417: ExperimentalWarning: RegretBoundEvaluator is experimental (supported from v3.2.0). The interface can change in the future.\n",
      "  improvement_evaluator=RegretBoundEvaluator(),\n",
      "/Users/sjmolyneux/Documents/EPPI_Classification_Public/eppi_text_classification/eppi_text_classification/single_process_opt.py:418: ExperimentalWarning: CrossValidationErrorEvaluator is experimental (supported from v3.2.0). The interface can change in the future.\n",
      "  error_evaluator=CrossValidationErrorEvaluator(),\n",
      "/Users/sjmolyneux/Documents/EPPI_Classification_Public/eppi_text_classification/eppi_text_classification/single_process_opt.py:416: ExperimentalWarning: Terminator is experimental (supported from v3.2.0). The interface can change in the future.\n",
      "  terminator = Terminator(\n",
      "/Users/sjmolyneux/Documents/EPPI_Classification_Public/eppi_text_classification/eppi_text_classification/single_process_opt.py:421: ExperimentalWarning: TerminatorCallback is experimental (supported from v3.2.0). The interface can change in the future.\n",
      "  regret_terminator_callback = TerminatorCallback(terminator=terminator)\n",
      "/Users/sjmolyneux/Documents/EPPI_Classification_Public/eppi_text_classification/eppi_text_classification/single_process_opt.py:418: ExperimentalWarning: CrossValidationErrorEvaluator is experimental (supported from v3.2.0). The interface can change in the future.\n",
      "  error_evaluator=CrossValidationErrorEvaluator(),\n",
      "/Users/sjmolyneux/Documents/EPPI_Classification_Public/eppi_text_classification/eppi_text_classification/single_process_opt.py:416: ExperimentalWarning: Terminator is experimental (supported from v3.2.0). The interface can change in the future.\n",
      "  terminator = Terminator(\n",
      "/Users/sjmolyneux/Documents/EPPI_Classification_Public/eppi_text_classification/eppi_text_classification/single_process_opt.py:421: ExperimentalWarning: TerminatorCallback is experimental (supported from v3.2.0). The interface can change in the future.\n",
      "  regret_terminator_callback = TerminatorCallback(terminator=terminator)\n",
      "/Users/sjmolyneux/Documents/EPPI_Classification_Public/eppi_text_classification/eppi_text_classification/single_process_opt.py:406: ExperimentalWarning: BestValueStagnationEvaluator is experimental (supported from v3.4.0). The interface can change in the future.\n",
      "  improvement_evaluator=BestValueStagnationEvaluator(\n",
      "/Users/sjmolyneux/Documents/EPPI_Classification_Public/eppi_text_classification/eppi_text_classification/single_process_opt.py:409: ExperimentalWarning: StaticErrorEvaluator is experimental (supported from v3.2.0). The interface can change in the future.\n",
      "  error_evaluator=StaticErrorEvaluator(constant=0),\n",
      "/Users/sjmolyneux/Documents/EPPI_Classification_Public/eppi_text_classification/eppi_text_classification/single_process_opt.py:405: ExperimentalWarning: Terminator is experimental (supported from v3.2.0). The interface can change in the future.\n",
      "  terminator = Terminator(\n",
      "/Users/sjmolyneux/Documents/EPPI_Classification_Public/eppi_text_classification/eppi_text_classification/single_process_opt.py:412: ExperimentalWarning: TerminatorCallback is experimental (supported from v3.2.0). The interface can change in the future.\n",
      "  stagnation_termination_callback = TerminatorCallback(terminator=terminator)\n",
      "/Users/sjmolyneux/Documents/EPPI_Classification_Public/eppi_text_classification/eppi_text_classification/single_process_opt.py:417: ExperimentalWarning: RegretBoundEvaluator is experimental (supported from v3.2.0). The interface can change in the future.\n",
      "  improvement_evaluator=RegretBoundEvaluator(),\n",
      "/Users/sjmolyneux/Documents/EPPI_Classification_Public/eppi_text_classification/eppi_text_classification/single_process_opt.py:418: ExperimentalWarning: CrossValidationErrorEvaluator is experimental (supported from v3.2.0). The interface can change in the future.\n",
      "  error_evaluator=CrossValidationErrorEvaluator(),\n",
      "/Users/sjmolyneux/Documents/EPPI_Classification_Public/eppi_text_classification/eppi_text_classification/single_process_opt.py:416: ExperimentalWarning: Terminator is experimental (supported from v3.2.0). The interface can change in the future.\n",
      "  terminator = Terminator(\n",
      "/Users/sjmolyneux/Documents/EPPI_Classification_Public/eppi_text_classification/eppi_text_classification/single_process_opt.py:421: ExperimentalWarning: TerminatorCallback is experimental (supported from v3.2.0). The interface can change in the future.\n",
      "  regret_terminator_callback = TerminatorCallback(terminator=terminator)\n",
      "/Users/sjmolyneux/Documents/EPPI_Classification_Public/eppi_text_classification/eppi_text_classification/single_process_opt.py:406: ExperimentalWarning: BestValueStagnationEvaluator is experimental (supported from v3.4.0). The interface can change in the future.\n",
      "  improvement_evaluator=BestValueStagnationEvaluator(\n",
      "/Users/sjmolyneux/Documents/EPPI_Classification_Public/eppi_text_classification/eppi_text_classification/single_process_opt.py:409: ExperimentalWarning: StaticErrorEvaluator is experimental (supported from v3.2.0). The interface can change in the future.\n",
      "  error_evaluator=StaticErrorEvaluator(constant=0),\n",
      "/Users/sjmolyneux/Documents/EPPI_Classification_Public/eppi_text_classification/eppi_text_classification/single_process_opt.py:405: ExperimentalWarning: Terminator is experimental (supported from v3.2.0). The interface can change in the future.\n",
      "  terminator = Terminator(\n",
      "/Users/sjmolyneux/Documents/EPPI_Classification_Public/eppi_text_classification/eppi_text_classification/single_process_opt.py:412: ExperimentalWarning: TerminatorCallback is experimental (supported from v3.2.0). The interface can change in the future.\n",
      "  stagnation_termination_callback = TerminatorCallback(terminator=terminator)\n",
      "/Users/sjmolyneux/Documents/EPPI_Classification_Public/eppi_text_classification/eppi_text_classification/single_process_opt.py:417: ExperimentalWarning: RegretBoundEvaluator is experimental (supported from v3.2.0). The interface can change in the future.\n",
      "  improvement_evaluator=RegretBoundEvaluator(),\n",
      "/Users/sjmolyneux/Documents/EPPI_Classification_Public/eppi_text_classification/eppi_text_classification/single_process_opt.py:418: ExperimentalWarning: CrossValidationErrorEvaluator is experimental (supported from v3.2.0). The interface can change in the future.\n",
      "  error_evaluator=CrossValidationErrorEvaluator(),\n",
      "/Users/sjmolyneux/Documents/EPPI_Classification_Public/eppi_text_classification/eppi_text_classification/single_process_opt.py:416: ExperimentalWarning: Terminator is experimental (supported from v3.2.0). The interface can change in the future.\n",
      "  terminator = Terminator(\n",
      "/Users/sjmolyneux/Documents/EPPI_Classification_Public/eppi_text_classification/eppi_text_classification/single_process_opt.py:421: ExperimentalWarning: TerminatorCallback is experimental (supported from v3.2.0). The interface can change in the future.\n",
      "  regret_terminator_callback = TerminatorCallback(terminator=terminator)\n",
      "/Users/sjmolyneux/Documents/EPPI_Classification_Public/eppi_text_classification/eppi_text_classification/single_process_opt.py:406: ExperimentalWarning: BestValueStagnationEvaluator is experimental (supported from v3.4.0). The interface can change in the future.\n",
      "  improvement_evaluator=BestValueStagnationEvaluator(\n",
      "/Users/sjmolyneux/Documents/EPPI_Classification_Public/eppi_text_classification/eppi_text_classification/single_process_opt.py:409: ExperimentalWarning: StaticErrorEvaluator is experimental (supported from v3.2.0). The interface can change in the future.\n",
      "  error_evaluator=StaticErrorEvaluator(constant=0),\n",
      "/Users/sjmolyneux/Documents/EPPI_Classification_Public/eppi_text_classification/eppi_text_classification/single_process_opt.py:405: ExperimentalWarning: Terminator is experimental (supported from v3.2.0). The interface can change in the future.\n",
      "  terminator = Terminator(\n",
      "/Users/sjmolyneux/Documents/EPPI_Classification_Public/eppi_text_classification/eppi_text_classification/single_process_opt.py:412: ExperimentalWarning: TerminatorCallback is experimental (supported from v3.2.0). The interface can change in the future.\n",
      "  stagnation_termination_callback = TerminatorCallback(terminator=terminator)\n",
      "/Users/sjmolyneux/Documents/EPPI_Classification_Public/eppi_text_classification/eppi_text_classification/single_process_opt.py:417: ExperimentalWarning: RegretBoundEvaluator is experimental (supported from v3.2.0). The interface can change in the future.\n",
      "  improvement_evaluator=RegretBoundEvaluator(),\n",
      "/Users/sjmolyneux/Documents/EPPI_Classification_Public/eppi_text_classification/eppi_text_classification/single_process_opt.py:418: ExperimentalWarning: CrossValidationErrorEvaluator is experimental (supported from v3.2.0). The interface can change in the future.\n",
      "  error_evaluator=CrossValidationErrorEvaluator(),\n",
      "/Users/sjmolyneux/Documents/EPPI_Classification_Public/eppi_text_classification/eppi_text_classification/single_process_opt.py:416: ExperimentalWarning: Terminator is experimental (supported from v3.2.0). The interface can change in the future.\n",
      "  terminator = Terminator(\n",
      "/Users/sjmolyneux/Documents/EPPI_Classification_Public/eppi_text_classification/eppi_text_classification/single_process_opt.py:421: ExperimentalWarning: TerminatorCallback is experimental (supported from v3.2.0). The interface can change in the future.\n",
      "  regret_terminator_callback = TerminatorCallback(terminator=terminator)\n",
      "/Users/sjmolyneux/Documents/EPPI_Classification_Public/eppi_text_classification/eppi_text_classification/single_process_opt.py:406: ExperimentalWarning: BestValueStagnationEvaluator is experimental (supported from v3.4.0). The interface can change in the future.\n",
      "  improvement_evaluator=BestValueStagnationEvaluator(\n",
      "/Users/sjmolyneux/Documents/EPPI_Classification_Public/eppi_text_classification/eppi_text_classification/single_process_opt.py:409: ExperimentalWarning: StaticErrorEvaluator is experimental (supported from v3.2.0). The interface can change in the future.\n",
      "  error_evaluator=StaticErrorEvaluator(constant=0),\n",
      "/Users/sjmolyneux/Documents/EPPI_Classification_Public/eppi_text_classification/eppi_text_classification/single_process_opt.py:405: ExperimentalWarning: Terminator is experimental (supported from v3.2.0). The interface can change in the future.\n",
      "  terminator = Terminator(\n",
      "/Users/sjmolyneux/Documents/EPPI_Classification_Public/eppi_text_classification/eppi_text_classification/single_process_opt.py:412: ExperimentalWarning: TerminatorCallback is experimental (supported from v3.2.0). The interface can change in the future.\n",
      "  stagnation_termination_callback = TerminatorCallback(terminator=terminator)\n",
      "/Users/sjmolyneux/Documents/EPPI_Classification_Public/eppi_text_classification/eppi_text_classification/single_process_opt.py:417: ExperimentalWarning: RegretBoundEvaluator is experimental (supported from v3.2.0). The interface can change in the future.\n",
      "  improvement_evaluator=RegretBoundEvaluator(),\n",
      "/Users/sjmolyneux/Documents/EPPI_Classification_Public/eppi_text_classification/eppi_text_classification/single_process_opt.py:418: ExperimentalWarning: CrossValidationErrorEvaluator is experimental (supported from v3.2.0). The interface can change in the future.\n",
      "  error_evaluator=CrossValidationErrorEvaluator(),\n",
      "/Users/sjmolyneux/Documents/EPPI_Classification_Public/eppi_text_classification/eppi_text_classification/single_process_opt.py:416: ExperimentalWarning: Terminator is experimental (supported from v3.2.0). The interface can change in the future.\n",
      "  terminator = Terminator(\n",
      "/Users/sjmolyneux/Documents/EPPI_Classification_Public/eppi_text_classification/eppi_text_classification/single_process_opt.py:421: ExperimentalWarning: TerminatorCallback is experimental (supported from v3.2.0). The interface can change in the future.\n",
      "  regret_terminator_callback = TerminatorCallback(terminator=terminator)\n",
      "/Users/sjmolyneux/Documents/EPPI_Classification_Public/eppi_text_classification/eppi_text_classification/single_process_opt.py:406: ExperimentalWarning: BestValueStagnationEvaluator is experimental (supported from v3.4.0). The interface can change in the future.\n",
      "  improvement_evaluator=BestValueStagnationEvaluator(\n",
      "/Users/sjmolyneux/Documents/EPPI_Classification_Public/eppi_text_classification/eppi_text_classification/single_process_opt.py:409: ExperimentalWarning: StaticErrorEvaluator is experimental (supported from v3.2.0). The interface can change in the future.\n",
      "  error_evaluator=StaticErrorEvaluator(constant=0),\n",
      "/Users/sjmolyneux/Documents/EPPI_Classification_Public/eppi_text_classification/eppi_text_classification/single_process_opt.py:405: ExperimentalWarning: Terminator is experimental (supported from v3.2.0). The interface can change in the future.\n",
      "  terminator = Terminator(\n",
      "/Users/sjmolyneux/Documents/EPPI_Classification_Public/eppi_text_classification/eppi_text_classification/single_process_opt.py:412: ExperimentalWarning: TerminatorCallback is experimental (supported from v3.2.0). The interface can change in the future.\n",
      "  stagnation_termination_callback = TerminatorCallback(terminator=terminator)\n",
      "/Users/sjmolyneux/Documents/EPPI_Classification_Public/eppi_text_classification/eppi_text_classification/single_process_opt.py:417: ExperimentalWarning: RegretBoundEvaluator is experimental (supported from v3.2.0). The interface can change in the future.\n",
      "  improvement_evaluator=RegretBoundEvaluator(),\n",
      "/Users/sjmolyneux/Documents/EPPI_Classification_Public/eppi_text_classification/eppi_text_classification/single_process_opt.py:418: ExperimentalWarning: CrossValidationErrorEvaluator is experimental (supported from v3.2.0). The interface can change in the future.\n",
      "  error_evaluator=CrossValidationErrorEvaluator(),\n",
      "/Users/sjmolyneux/Documents/EPPI_Classification_Public/eppi_text_classification/eppi_text_classification/single_process_opt.py:416: ExperimentalWarning: Terminator is experimental (supported from v3.2.0). The interface can change in the future.\n",
      "  terminator = Terminator(\n",
      "/Users/sjmolyneux/Documents/EPPI_Classification_Public/eppi_text_classification/eppi_text_classification/single_process_opt.py:421: ExperimentalWarning: TerminatorCallback is experimental (supported from v3.2.0). The interface can change in the future.\n",
      "  regret_terminator_callback = TerminatorCallback(terminator=terminator)\n",
      "/Users/sjmolyneux/Documents/EPPI_Classification_Public/eppi_text_classification/eppi_text_classification/single_process_opt.py:406: ExperimentalWarning: BestValueStagnationEvaluator is experimental (supported from v3.4.0). The interface can change in the future.\n",
      "  improvement_evaluator=BestValueStagnationEvaluator(\n",
      "/Users/sjmolyneux/Documents/EPPI_Classification_Public/eppi_text_classification/eppi_text_classification/single_process_opt.py:409: ExperimentalWarning: StaticErrorEvaluator is experimental (supported from v3.2.0). The interface can change in the future.\n",
      "  error_evaluator=StaticErrorEvaluator(constant=0),\n",
      "/Users/sjmolyneux/Documents/EPPI_Classification_Public/eppi_text_classification/eppi_text_classification/single_process_opt.py:405: ExperimentalWarning: Terminator is experimental (supported from v3.2.0). The interface can change in the future.\n",
      "  terminator = Terminator(\n",
      "/Users/sjmolyneux/Documents/EPPI_Classification_Public/eppi_text_classification/eppi_text_classification/single_process_opt.py:412: ExperimentalWarning: TerminatorCallback is experimental (supported from v3.2.0). The interface can change in the future.\n",
      "  stagnation_termination_callback = TerminatorCallback(terminator=terminator)\n",
      "/Users/sjmolyneux/Documents/EPPI_Classification_Public/eppi_text_classification/eppi_text_classification/single_process_opt.py:417: ExperimentalWarning: RegretBoundEvaluator is experimental (supported from v3.2.0). The interface can change in the future.\n",
      "  improvement_evaluator=RegretBoundEvaluator(),\n",
      "/Users/sjmolyneux/Documents/EPPI_Classification_Public/eppi_text_classification/eppi_text_classification/single_process_opt.py:406: ExperimentalWarning: BestValueStagnationEvaluator is experimental (supported from v3.4.0). The interface can change in the future.\n",
      "  improvement_evaluator=BestValueStagnationEvaluator(\n",
      "/Users/sjmolyneux/Documents/EPPI_Classification_Public/eppi_text_classification/eppi_text_classification/single_process_opt.py:409: ExperimentalWarning: StaticErrorEvaluator is experimental (supported from v3.2.0). The interface can change in the future.\n",
      "  error_evaluator=StaticErrorEvaluator(constant=0),\n",
      "/Users/sjmolyneux/Documents/EPPI_Classification_Public/eppi_text_classification/eppi_text_classification/single_process_opt.py:405: ExperimentalWarning: Terminator is experimental (supported from v3.2.0). The interface can change in the future.\n",
      "  terminator = Terminator(\n",
      "/Users/sjmolyneux/Documents/EPPI_Classification_Public/eppi_text_classification/eppi_text_classification/single_process_opt.py:412: ExperimentalWarning: TerminatorCallback is experimental (supported from v3.2.0). The interface can change in the future.\n",
      "  stagnation_termination_callback = TerminatorCallback(terminator=terminator)\n",
      "/Users/sjmolyneux/Documents/EPPI_Classification_Public/eppi_text_classification/eppi_text_classification/single_process_opt.py:417: ExperimentalWarning: RegretBoundEvaluator is experimental (supported from v3.2.0). The interface can change in the future.\n",
      "  improvement_evaluator=RegretBoundEvaluator(),\n",
      "/Users/sjmolyneux/Documents/EPPI_Classification_Public/eppi_text_classification/eppi_text_classification/single_process_opt.py:418: ExperimentalWarning: CrossValidationErrorEvaluator is experimental (supported from v3.2.0). The interface can change in the future.\n",
      "  error_evaluator=CrossValidationErrorEvaluator(),\n",
      "/Users/sjmolyneux/Documents/EPPI_Classification_Public/eppi_text_classification/eppi_text_classification/single_process_opt.py:416: ExperimentalWarning: Terminator is experimental (supported from v3.2.0). The interface can change in the future.\n",
      "  terminator = Terminator(\n",
      "/Users/sjmolyneux/Documents/EPPI_Classification_Public/eppi_text_classification/eppi_text_classification/single_process_opt.py:421: ExperimentalWarning: TerminatorCallback is experimental (supported from v3.2.0). The interface can change in the future.\n",
      "  regret_terminator_callback = TerminatorCallback(terminator=terminator)\n",
      "/Users/sjmolyneux/Documents/EPPI_Classification_Public/eppi_text_classification/eppi_text_classification/single_process_opt.py:418: ExperimentalWarning: CrossValidationErrorEvaluator is experimental (supported from v3.2.0). The interface can change in the future.\n",
      "  error_evaluator=CrossValidationErrorEvaluator(),\n",
      "/Users/sjmolyneux/Documents/EPPI_Classification_Public/eppi_text_classification/eppi_text_classification/single_process_opt.py:416: ExperimentalWarning: Terminator is experimental (supported from v3.2.0). The interface can change in the future.\n",
      "  terminator = Terminator(\n",
      "/Users/sjmolyneux/Documents/EPPI_Classification_Public/eppi_text_classification/eppi_text_classification/single_process_opt.py:421: ExperimentalWarning: TerminatorCallback is experimental (supported from v3.2.0). The interface can change in the future.\n",
      "  regret_terminator_callback = TerminatorCallback(terminator=terminator)\n",
      "/Users/sjmolyneux/Documents/EPPI_Classification_Public/eppi_text_classification/eppi_text_classification/single_process_opt.py:406: ExperimentalWarning: BestValueStagnationEvaluator is experimental (supported from v3.4.0). The interface can change in the future.\n",
      "  improvement_evaluator=BestValueStagnationEvaluator(\n",
      "/Users/sjmolyneux/Documents/EPPI_Classification_Public/eppi_text_classification/eppi_text_classification/single_process_opt.py:409: ExperimentalWarning: StaticErrorEvaluator is experimental (supported from v3.2.0). The interface can change in the future.\n",
      "  error_evaluator=StaticErrorEvaluator(constant=0),\n",
      "/Users/sjmolyneux/Documents/EPPI_Classification_Public/eppi_text_classification/eppi_text_classification/single_process_opt.py:405: ExperimentalWarning: Terminator is experimental (supported from v3.2.0). The interface can change in the future.\n",
      "  terminator = Terminator(\n",
      "/Users/sjmolyneux/Documents/EPPI_Classification_Public/eppi_text_classification/eppi_text_classification/single_process_opt.py:412: ExperimentalWarning: TerminatorCallback is experimental (supported from v3.2.0). The interface can change in the future.\n",
      "  stagnation_termination_callback = TerminatorCallback(terminator=terminator)\n",
      "/Users/sjmolyneux/Documents/EPPI_Classification_Public/eppi_text_classification/eppi_text_classification/single_process_opt.py:417: ExperimentalWarning: RegretBoundEvaluator is experimental (supported from v3.2.0). The interface can change in the future.\n",
      "  improvement_evaluator=RegretBoundEvaluator(),\n",
      "/Users/sjmolyneux/Documents/EPPI_Classification_Public/eppi_text_classification/eppi_text_classification/single_process_opt.py:406: ExperimentalWarning: BestValueStagnationEvaluator is experimental (supported from v3.4.0). The interface can change in the future.\n",
      "  improvement_evaluator=BestValueStagnationEvaluator(\n",
      "/Users/sjmolyneux/Documents/EPPI_Classification_Public/eppi_text_classification/eppi_text_classification/single_process_opt.py:409: ExperimentalWarning: StaticErrorEvaluator is experimental (supported from v3.2.0). The interface can change in the future.\n",
      "  error_evaluator=StaticErrorEvaluator(constant=0),\n",
      "/Users/sjmolyneux/Documents/EPPI_Classification_Public/eppi_text_classification/eppi_text_classification/single_process_opt.py:405: ExperimentalWarning: Terminator is experimental (supported from v3.2.0). The interface can change in the future.\n",
      "  terminator = Terminator(\n",
      "/Users/sjmolyneux/Documents/EPPI_Classification_Public/eppi_text_classification/eppi_text_classification/single_process_opt.py:412: ExperimentalWarning: TerminatorCallback is experimental (supported from v3.2.0). The interface can change in the future.\n",
      "  stagnation_termination_callback = TerminatorCallback(terminator=terminator)\n",
      "/Users/sjmolyneux/Documents/EPPI_Classification_Public/eppi_text_classification/eppi_text_classification/single_process_opt.py:417: ExperimentalWarning: RegretBoundEvaluator is experimental (supported from v3.2.0). The interface can change in the future.\n",
      "  improvement_evaluator=RegretBoundEvaluator(),\n",
      "/Users/sjmolyneux/Documents/EPPI_Classification_Public/eppi_text_classification/eppi_text_classification/single_process_opt.py:418: ExperimentalWarning: CrossValidationErrorEvaluator is experimental (supported from v3.2.0). The interface can change in the future.\n",
      "  error_evaluator=CrossValidationErrorEvaluator(),\n",
      "/Users/sjmolyneux/Documents/EPPI_Classification_Public/eppi_text_classification/eppi_text_classification/single_process_opt.py:416: ExperimentalWarning: Terminator is experimental (supported from v3.2.0). The interface can change in the future.\n",
      "  terminator = Terminator(\n",
      "/Users/sjmolyneux/Documents/EPPI_Classification_Public/eppi_text_classification/eppi_text_classification/single_process_opt.py:421: ExperimentalWarning: TerminatorCallback is experimental (supported from v3.2.0). The interface can change in the future.\n",
      "  regret_terminator_callback = TerminatorCallback(terminator=terminator)\n",
      "/Users/sjmolyneux/Documents/EPPI_Classification_Public/eppi_text_classification/eppi_text_classification/single_process_opt.py:418: ExperimentalWarning: CrossValidationErrorEvaluator is experimental (supported from v3.2.0). The interface can change in the future.\n",
      "  error_evaluator=CrossValidationErrorEvaluator(),\n",
      "/Users/sjmolyneux/Documents/EPPI_Classification_Public/eppi_text_classification/eppi_text_classification/single_process_opt.py:416: ExperimentalWarning: Terminator is experimental (supported from v3.2.0). The interface can change in the future.\n",
      "  terminator = Terminator(\n",
      "/Users/sjmolyneux/Documents/EPPI_Classification_Public/eppi_text_classification/eppi_text_classification/single_process_opt.py:421: ExperimentalWarning: TerminatorCallback is experimental (supported from v3.2.0). The interface can change in the future.\n",
      "  regret_terminator_callback = TerminatorCallback(terminator=terminator)\n"
     ]
    },
    {
     "name": "stdout",
     "output_type": "stream",
     "text": [
      "Finished trial with scores: [0.36234413965087287, 0.7467996674979219, 0.6577825159914713]\n",
      "Finished trial with scores: [0.5021612635078969, 0.43524522028262674, 0.855366027007818]\n",
      "Finished trial with scores: [0.6339152119700748, 0.43740648379052366, 0.9304371002132197]\n",
      "Finished trial with scores: [0.8340814630091438, 0.7482128013300082, 0.9341684434968018]\n",
      "Finished trial with scores: [0.9150457190357439, 0.8771404821280133, 0.9694385216773277]\n"
     ]
    },
    {
     "name": "stderr",
     "output_type": "stream",
     "text": [
      "[I 2025-02-24 09:09:59,683] Trial 4 finished with value: 0.5889754410467555 and parameters: {'min_split_gain': 9.997427907547706, 'reg_alpha': 0.0018098156831817724, 'max_depth': 14, 'min_child_weight': 0.018637623632398848, 'num_leaves': 45, 'reg_lambda': 0.0006741563717097696, 'n_estimators': 379, 'min_child_samples': 29, 'learning_rate': 0.5880282588579121}. Best is trial 4 with value: 0.5889754410467555.\n",
      "[I 2025-02-24 09:09:59,707] Trial 2 finished with value: 0.6672529319912727 and parameters: {'max_depth': 11, 'min_child_weight': 0.007400749381902929, 'reg_alpha': 0.15888873771334353, 'num_leaves': 44, 'min_split_gain': 4.723637450178216, 'reg_lambda': 5.593725218315715e-05, 'n_estimators': 112, 'learning_rate': 0.3554294683986816, 'min_child_samples': 22}. Best is trial 2 with value: 0.6672529319912727.\n",
      "[I 2025-02-24 09:09:59,715] Trial 8 finished with value: 0.5975908369327806 and parameters: {'num_leaves': 19, 'learning_rate': 0.48876638247588433, 'min_child_weight': 4.3929200644475995e-05, 'reg_alpha': 0.0046151789309371, 'reg_lambda': 0.007608956206439738, 'min_split_gain': 2.538833309767586, 'max_depth': 8, 'n_estimators': 100, 'min_child_samples': 22}. Best is trial 2 with value: 0.6672529319912727.\n",
      "[I 2025-02-24 09:09:59,820] Trial 9 finished with value: 0.8388209026119847 and parameters: {'max_depth': 6, 'min_split_gain': 9.956426726708738, 'min_child_samples': 30, 'min_child_weight': 0.05837417666365151, 'reg_lambda': 0.023190757620594138, 'learning_rate': 0.31090657653909604, 'num_leaves': 50, 'reg_alpha': 3.035613856249741, 'n_estimators': 210}. Best is trial 9 with value: 0.8388209026119847.\n",
      "[I 2025-02-24 09:09:59,844] Trial 6 finished with value: 0.9205415742803617 and parameters: {'max_depth': 9, 'min_child_weight': 4.341435414734439e-05, 'reg_lambda': 1.3030729322063443, 'learning_rate': 0.15920904269265726, 'min_split_gain': 0.25043319715040285, 'min_child_samples': 28, 'n_estimators': 253, 'num_leaves': 17, 'reg_alpha': 0.025202173182418613}. Best is trial 6 with value: 0.9205415742803617.\n"
     ]
    },
    {
     "name": "stdout",
     "output_type": "stream",
     "text": [
      "Finished trial with scores: [0.8972568578553617, 0.6752285951787199, 0.8781982942430704]\n",
      "Finished trial with scores: [0.9211970074812967, 0.8350789692435578, 0.9516702203269368]\n",
      "Finished trial with scores: [0.9236907730673316, 0.7527847049044056, 0.9253731343283582]\n",
      "Finished trial with scores: [0.7615960099750623, 0.6056525353283458, 0.7860696517412935]\n",
      "Finished trial with scores: [0.9118869492934331, 0.8985868661679136, 0.9589552238805971]\n"
     ]
    },
    {
     "name": "stderr",
     "output_type": "stream",
     "text": [
      "[I 2025-02-24 09:09:59,935] Trial 1 finished with value: 0.8168945824257173 and parameters: {'num_leaves': 24, 'learning_rate': 0.31981011250623415, 'reg_alpha': 0.007221927003134198, 'min_split_gain': 8.01534192227189, 'max_depth': 14, 'reg_lambda': 0.011059386309689927, 'min_child_weight': 0.0012323593491160335, 'min_child_samples': 11, 'n_estimators': 198}. Best is trial 6 with value: 0.9205415742803617.\n",
      "[I 2025-02-24 09:10:00,002] Trial 5 finished with value: 0.9026487323505972 and parameters: {'num_leaves': 7, 'reg_lambda': 0.0001359946570046228, 'reg_alpha': 0.00016495557086898955, 'learning_rate': 0.10314623431941813, 'min_child_samples': 21, 'min_split_gain': 7.8775345510171455, 'min_child_weight': 0.005542420436922564, 'max_depth': 3, 'n_estimators': 242}. Best is trial 6 with value: 0.9205415742803617.\n",
      "[I 2025-02-24 09:10:00,021] Trial 7 finished with value: 0.8672828707666985 and parameters: {'max_depth': 8, 'n_estimators': 222, 'num_leaves': 40, 'min_child_weight': 0.0008132781988050473, 'min_split_gain': 5.711450844949348, 'reg_alpha': 0.0005098946352923804, 'reg_lambda': 0.025668618726123808, 'min_child_samples': 14, 'learning_rate': 0.1306198271524829}. Best is trial 6 with value: 0.9205415742803617.\n",
      "[I 2025-02-24 09:10:00,057] Trial 3 finished with value: 0.717772732348234 and parameters: {'min_split_gain': 7.782935071359248, 'max_depth': 3, 'reg_alpha': 0.0006716635783014152, 'min_child_weight': 0.02453473691348908, 'n_estimators': 404, 'reg_lambda': 0.17833522450194125, 'num_leaves': 9, 'min_child_samples': 16, 'learning_rate': 0.5991437884334918}. Best is trial 6 with value: 0.9205415742803617.\n",
      "[I 2025-02-24 09:10:00,106] Trial 11 finished with value: 0.9231430131139812 and parameters: {'num_leaves': 29, 'learning_rate': 0.16595662511012263, 'min_child_samples': 15, 'reg_alpha': 1.7895012500938104e-05, 'min_split_gain': 2.7436029660152963, 'reg_lambda': 4.4655391639544275, 'min_child_weight': 9.764045920635702e-06, 'n_estimators': 208, 'max_depth': 2}. Best is trial 11 with value: 0.9231430131139812.\n"
     ]
    },
    {
     "name": "stdout",
     "output_type": "stream",
     "text": [
      "Finished trial with scores: [0.829925187032419, 0.6610141313383209, 0.8917910447761195]\n",
      "Finished trial with scores: [0.8194513715710723, 0.8179551122194515, 0.9166666666666666]\n",
      "Finished trial with scores: [0.772236076475478, 0.570573566084788, 0.8049928926794598]\n",
      "Finished trial with scores: [0.9348295926849544, 0.8483790523690773, 0.9479388770433547]\n"
     ]
    },
    {
     "name": "stderr",
     "output_type": "stream",
     "text": [
      "[I 2025-02-24 09:10:00,882] Trial 12 finished with value: 0.8513577168190635 and parameters: {'min_split_gain': 2.056234066265615, 'reg_alpha': 0.012806969621038404, 'max_depth': 9, 'min_child_weight': 0.00022449195093571922, 'num_leaves': 34, 'reg_lambda': 0.000690810138315468, 'n_estimators': 349, 'min_child_samples': 20, 'learning_rate': 0.2666926247833621}. Best is trial 11 with value: 0.9231430131139812.\n",
      "[I 2025-02-24 09:10:00,894] Trial 10 finished with value: 0.7942434543822866 and parameters: {'reg_alpha': 0.00024977369767196307, 'min_split_gain': 0.42937136602120757, 'min_child_samples': 3, 'max_depth': 9, 'min_child_weight': 0.05758612399982487, 'n_estimators': 185, 'learning_rate': 0.45184511303313524, 'reg_lambda': 0.37998347252659553, 'num_leaves': 13}. Best is trial 11 with value: 0.9231430131139812.\n",
      "[I 2025-02-24 09:10:01,020] Trial 14 finished with value: 0.7159341784132419 and parameters: {'num_leaves': 6, 'learning_rate': 0.5279399166769344, 'min_child_weight': 1.0741568789330708e-05, 'reg_alpha': 0.018256872264270484, 'reg_lambda': 0.029069083524145205, 'min_split_gain': 9.628882773640006, 'max_depth': 8, 'n_estimators': 120, 'min_child_samples': 10}. Best is trial 11 with value: 0.9231430131139812.\n",
      "[I 2025-02-24 09:10:01,064] Trial 13 finished with value: 0.9103825073657954 and parameters: {'max_depth': 1, 'min_child_weight': 0.0003292608772447476, 'reg_alpha': 0.011303071357604574, 'num_leaves': 29, 'min_split_gain': 1.1348418124726602, 'reg_lambda': 0.002782678924118642, 'n_estimators': 408, 'learning_rate': 0.29872008780288795, 'min_child_samples': 16}. Best is trial 11 with value: 0.9231430131139812.\n"
     ]
    },
    {
     "name": "stdout",
     "output_type": "stream",
     "text": [
      "Finished trial with scores: [0.559019118869493, 0.6821280133000831, 0.40440653873489696]\n",
      "Finished trial with scores: [0.6870324189526185, 0.5792186201163757, 0.9153340440653874]\n"
     ]
    },
    {
     "name": "stderr",
     "output_type": "stream",
     "text": [
      "[I 2025-02-24 09:10:01,112] Trial 15 finished with value: 0.548517890301491 and parameters: {'max_depth': 4, 'min_split_gain': 8.00133078671205, 'min_child_samples': 26, 'min_child_weight': 4.93096497166008e-06, 'reg_lambda': 0.0002265932966552118, 'learning_rate': 0.5245781627333714, 'num_leaves': 23, 'reg_alpha': 0.00010676613496904764, 'n_estimators': 293}. Best is trial 11 with value: 0.9231430131139812.\n",
      "[I 2025-02-24 09:10:01,204] Trial 16 finished with value: 0.7271950277114606 and parameters: {'max_depth': 2, 'min_child_weight': 0.00018455493915151323, 'reg_lambda': 0.3443119687848161, 'learning_rate': 0.48025925339286246, 'min_split_gain': 7.64235520747533, 'min_child_samples': 18, 'n_estimators': 113, 'num_leaves': 49, 'reg_alpha': 7.197224347440009}. Best is trial 11 with value: 0.9231430131139812.\n"
     ]
    },
    {
     "name": "stdout",
     "output_type": "stream",
     "text": [
      "Finished trial with scores: [0.8298420615128845, 0.7391521197007481, 0.9164001421464109]\n",
      "Finished trial with scores: [0.6916043225270159, 0.6334995843724023, 0.7547974413646055]\n"
     ]
    },
    {
     "name": "stderr",
     "output_type": "stream",
     "text": [
      "[I 2025-02-24 09:10:01,372] Trial 17 finished with value: 0.8284647744533479 and parameters: {'num_leaves': 27, 'learning_rate': 0.31768916686134396, 'reg_alpha': 2.5100280099126005e-05, 'min_split_gain': 1.9619247937242563, 'max_depth': 13, 'reg_lambda': 0.00014252718588450748, 'min_child_weight': 4.394507736105923e-06, 'min_child_samples': 12, 'n_estimators': 192}. Best is trial 11 with value: 0.9231430131139812.\n",
      "[I 2025-02-24 09:10:01,541] Trial 18 finished with value: 0.6933004494213412 and parameters: {'num_leaves': 23, 'reg_lambda': 8.428146883480414e-05, 'reg_alpha': 2.008539285645727e-05, 'learning_rate': 0.5268612683778994, 'min_child_samples': 13, 'min_split_gain': 3.800745591096152, 'min_child_weight': 0.07629483587418376, 'max_depth': 4, 'n_estimators': 289}. Best is trial 11 with value: 0.9231430131139812.\n"
     ]
    },
    {
     "name": "stdout",
     "output_type": "stream",
     "text": [
      "Finished trial with scores: [0.9032418952618454, 0.8074812967581046, 0.937633262260128]\n",
      "Finished trial with scores: [0.7778886118038237, 0.7767248545303408, 0.8473702914001421]\n"
     ]
    },
    {
     "name": "stderr",
     "output_type": "stream",
     "text": [
      "[I 2025-02-24 09:10:02,019] Trial 25 finished with value: 0.882785484760026 and parameters: {'num_leaves': 16, 'learning_rate': 0.19896102627371562, 'min_child_weight': 1.0738359113019606e-06, 'reg_alpha': 1.3364140057084128e-05, 'reg_lambda': 7.636100309799363, 'min_split_gain': 3.3770961612471524, 'max_depth': 12, 'n_estimators': 282, 'min_child_samples': 6}. Best is trial 11 with value: 0.9231430131139812.\n",
      "[I 2025-02-24 09:10:02,055] Trial 0 finished with value: 0.8006612525781022 and parameters: {'min_split_gain': 3.1773217792126602, 'reg_alpha': 0.0071050681696577574, 'reg_lambda': 0.00016125328199260506, 'learning_rate': 0.2918907908012154, 'min_child_samples': 1, 'max_depth': 13, 'num_leaves': 28, 'n_estimators': 468, 'min_child_weight': 1.812232495289604e-05}. Best is trial 11 with value: 0.9231430131139812.\n"
     ]
    },
    {
     "name": "stdout",
     "output_type": "stream",
     "text": [
      "Finished trial with scores: [0.9108894430590191, 0.800166251039069, 0.9289267945984363]\n",
      "Finished trial with scores: [0.9246882793017456, 0.8891105569409808, 0.9484719260838663]\n",
      "Finished trial with scores: [0.8911055694098088, 0.8262676641729012, 0.935856432125089]\n",
      "Finished trial with scores: [0.9064006650041563, 0.7768911055694098, 0.9589552238805971]\n"
     ]
    },
    {
     "name": "stderr",
     "output_type": "stream",
     "text": [
      "[I 2025-02-24 09:10:02,262] Trial 28 finished with value: 0.8799941628988415 and parameters: {'num_leaves': 17, 'learning_rate': 0.1903197050345767, 'reg_alpha': 0.12187360776189417, 'min_split_gain': 3.8396286847913075, 'max_depth': 5, 'reg_lambda': 6.041159238071818, 'min_child_weight': 3.41151958391157e-05, 'min_child_samples': 7, 'n_estimators': 289}. Best is trial 11 with value: 0.9231430131139812.\n",
      "[I 2025-02-24 09:10:02,288] Trial 23 finished with value: 0.920756920775531 and parameters: {'min_split_gain': 0.10041292975839144, 'reg_alpha': 1.626308162115884e-05, 'max_depth': 1, 'min_child_weight': 1.1615740110411502e-06, 'num_leaves': 32, 'reg_lambda': 3.384398066574358, 'n_estimators': 482, 'min_child_samples': 7, 'learning_rate': 0.19929262990202973}. Best is trial 11 with value: 0.9231430131139812.\n",
      "[I 2025-02-24 09:10:02,384] Trial 26 finished with value: 0.8844098885692663 and parameters: {'max_depth': 12, 'min_split_gain': 3.2956721668889712, 'min_child_samples': 5, 'min_child_weight': 1.8547449361139242e-06, 'reg_lambda': 8.88203093801328, 'learning_rate': 0.18767579140679572, 'num_leaves': 15, 'reg_alpha': 0.1925185519436853, 'n_estimators': 293}. Best is trial 11 with value: 0.9231430131139812.\n",
      "[I 2025-02-24 09:10:02,447] Trial 30 finished with value: 0.8807489981513877 and parameters: {'num_leaves': 2, 'learning_rate': 0.21035798319224439, 'min_child_weight': 5.8496760645734276e-05, 'reg_alpha': 0.2927873992866727, 'reg_lambda': 5.576569102770074, 'min_split_gain': 0.050822935888092946, 'max_depth': 6, 'n_estimators': 155, 'min_child_samples': 25}. Best is trial 11 with value: 0.9231430131139812.\n"
     ]
    },
    {
     "name": "stdout",
     "output_type": "stream",
     "text": [
      "Finished trial with scores: [0.8997506234413966, 0.8369077306733167, 0.9481165600568586]\n",
      "Finished trial with scores: [0.8995843724023275, 0.8182876142975893, 0.9227078891257996]\n",
      "Finished trial with scores: [0.9582709891936825, 0.8522028262676642, 0.9509594882729211]\n",
      "Finished trial with scores: [0.9456359102244389, 0.8217788861180382, 0.9482942430703624]\n"
     ]
    },
    {
     "name": "stderr",
     "output_type": "stream",
     "text": [
      "[I 2025-02-24 09:10:02,499] Trial 27 finished with value: 0.8949249713905241 and parameters: {'max_depth': 12, 'min_child_weight': 2.3403275679014324e-06, 'reg_lambda': 8.208924037128837, 'learning_rate': 0.18543018674639472, 'min_split_gain': 3.545065655329548, 'min_child_samples': 5, 'n_estimators': 468, 'num_leaves': 16, 'reg_alpha': 1.0497425791507409e-05}. Best is trial 11 with value: 0.9231430131139812.\n",
      "[I 2025-02-24 09:10:02,565] Trial 24 finished with value: 0.8801932919419055 and parameters: {'max_depth': 12, 'min_child_weight': 1.9967888017252872e-06, 'reg_alpha': 1.0460641508356979e-05, 'num_leaves': 17, 'min_split_gain': 3.4771451159309095, 'reg_lambda': 6.76695728243374, 'n_estimators': 462, 'learning_rate': 0.1891544555091907, 'min_child_samples': 4}. Best is trial 11 with value: 0.9231430131139812.\n",
      "[I 2025-02-24 09:10:02,677] Trial 29 finished with value: 0.9052363464709465 and parameters: {'num_leaves': 16, 'reg_lambda': 5.655048343856535, 'reg_alpha': 0.18866291678310065, 'learning_rate': 0.20290247881988438, 'min_child_samples': 7, 'min_split_gain': 0.16198267510553527, 'min_child_weight': 3.183161226352789e-05, 'max_depth': 6, 'n_estimators': 461}. Best is trial 11 with value: 0.9231430131139812.\n",
      "[I 2025-02-24 09:10:02,700] Trial 22 finished with value: 0.9204777679114226 and parameters: {'reg_alpha': 1.3853365507530358e-05, 'min_split_gain': 0.10527293955900285, 'min_child_samples': 6, 'max_depth': 5, 'min_child_weight': 1.7545030073516261e-06, 'n_estimators': 478, 'learning_rate': 0.20323488463636097, 'reg_lambda': 6.887373419686091, 'num_leaves': 30}. Best is trial 11 with value: 0.9231430131139812.\n",
      "[I 2025-02-24 09:10:02,763] Trial 20 finished with value: 0.8714056188597447 and parameters: {'min_split_gain': 2.141303101010948, 'max_depth': 1, 'reg_alpha': 1.121581858941048e-05, 'min_child_weight': 1.2674221123646806e-06, 'n_estimators': 469, 'reg_lambda': 7.320919471192015, 'num_leaves': 34, 'min_child_samples': 2, 'learning_rate': 0.2403270254048495}. Best is trial 11 with value: 0.9231430131139812.\n"
     ]
    },
    {
     "name": "stdout",
     "output_type": "stream",
     "text": [
      "Finished trial with scores: [0.9015793848711554, 0.770739817123857, 0.9418976545842218]\n",
      "Finished trial with scores: [0.9089775561097256, 0.775893599334996, 0.9596659559346126]\n",
      "Finished trial with scores: [0.9100581878636742, 0.7850374064837906, 0.9418976545842218]\n",
      "Finished trial with scores: [0.9334995843724023, 0.8799667497921861, 0.9541577825159915]\n",
      "Finished trial with scores: [0.9266832917705736, 0.8962593516209477, 0.9502487562189055]\n",
      "Finished trial with scores: [0.9246882793017457, 0.9049044056525354, 0.9459843638948117]\n",
      "Finished trial with scores: [0.9078969243557772, 0.7735660847880299, 0.9447405828002843]\n",
      "Finished trial with scores: [0.9334995843724023, 0.9067331670822942, 0.9449182658137881]\n",
      "Finished trial with scores: [0.9310058187863673, 0.8955943474646717, 0.9500710732054016]\n"
     ]
    },
    {
     "name": "stderr",
     "output_type": "stream",
     "text": [
      "[I 2025-02-24 09:10:03,039] Trial 31 finished with value: 0.8815123704597781 and parameters: {'min_split_gain': 0.21046674601813642, 'reg_alpha': 0.19160250180317623, 'reg_lambda': 4.636841677912448, 'learning_rate': 0.1878798872348443, 'min_child_samples': 25, 'max_depth': 6, 'num_leaves': 2, 'n_estimators': 158, 'min_child_weight': 7.282105165862959e-05}. Best is trial 11 with value: 0.9231430131139812.\n",
      "[I 2025-02-24 09:10:03,055] Trial 21 finished with value: 0.8789977496438955 and parameters: {'num_leaves': 33, 'learning_rate': 0.20916592995616534, 'min_child_samples': 1, 'reg_alpha': 1.414510826516757e-05, 'min_split_gain': 2.162842101314456, 'reg_lambda': 7.000734155765904, 'min_child_weight': 1.0950647396157337e-06, 'n_estimators': 327, 'max_depth': 1}. Best is trial 11 with value: 0.9231430131139812.\n",
      "[I 2025-02-24 09:10:03,084] Trial 33 finished with value: 0.92254137222686 and parameters: {'num_leaves': 35, 'learning_rate': 0.18721224962256527, 'reg_alpha': 0.07127103193723332, 'min_split_gain': 0.27437813520025944, 'max_depth': 1, 'reg_lambda': 1.7296408254324833, 'min_child_weight': 1.3549243332318264e-06, 'min_child_samples': 25, 'n_estimators': 499}. Best is trial 11 with value: 0.9231430131139812.\n",
      "[I 2025-02-24 09:10:03,108] Trial 36 finished with value: 0.9251923496163643 and parameters: {'max_depth': 1, 'min_child_weight': 6.6479157229736936e-06, 'reg_lambda': 1.6295804649607977, 'learning_rate': 0.14060857529759868, 'min_split_gain': 1.0915131649960998, 'min_child_samples': 9, 'n_estimators': 251, 'num_leaves': 33, 'reg_alpha': 6.880345340277888e-05}. Best is trial 36 with value: 0.9251923496163643.\n",
      "[I 2025-02-24 09:10:03,108] Trial 35 finished with value: 0.9243971332034756 and parameters: {'num_leaves': 33, 'learning_rate': 0.14665573044183522, 'min_child_weight': 4.245975421811315e-06, 'reg_alpha': 5.67085533658673e-05, 'reg_lambda': 1.5241827470664016, 'min_split_gain': 1.095126223153149, 'max_depth': 1, 'n_estimators': 480, 'min_child_samples': 9}. Best is trial 36 with value: 0.9251923496163643.\n",
      "[I 2025-02-24 09:10:03,139] Trial 19 finished with value: 0.8754011973146971 and parameters: {'max_depth': 1, 'n_estimators': 465, 'num_leaves': 33, 'min_child_weight': 1.6908918373661161e-06, 'min_split_gain': 1.8737797706506631, 'reg_alpha': 1.4844505269815471e-05, 'reg_lambda': 7.388570885850225, 'min_child_samples': 2, 'learning_rate': 0.23307458446461074}. Best is trial 36 with value: 0.9251923496163643.\n",
      "[I 2025-02-24 09:10:03,172] Trial 34 finished with value: 0.9255570798188136 and parameters: {'max_depth': 1, 'min_split_gain': 1.0859298556045884, 'min_child_samples': 9, 'min_child_weight': 3.954293217234526e-06, 'reg_lambda': 1.1932852466260573, 'learning_rate': 0.149671643361587, 'num_leaves': 34, 'reg_alpha': 7.248659354427292e-05, 'n_estimators': 499}. Best is trial 37 with value: 0.9283836724228283.\n",
      "[I 2025-02-24 09:10:03,174] Trial 37 finished with value: 0.9283836724228283 and parameters: {'max_depth': 1, 'min_child_weight': 8.548607653480329e-06, 'reg_alpha': 7.53608822223588e-05, 'num_leaves': 34, 'min_split_gain': 0.7252426122714628, 'reg_lambda': 1.2470362749015147, 'n_estimators': 250, 'learning_rate': 0.24031214818991922, 'min_child_samples': 8}. Best is trial 37 with value: 0.9283836724228283.\n"
     ]
    },
    {
     "name": "stdout",
     "output_type": "stream",
     "text": [
      "Finished trial with scores: [0.9330008312551954, 0.8849542809642561, 0.9555792466240227]\n",
      "Finished trial with scores: [0.9250207813798836, 0.827930174563591, 0.939587775408671]\n"
     ]
    },
    {
     "name": "stderr",
     "output_type": "stream",
     "text": [
      "[I 2025-02-24 09:10:03,323] Trial 32 finished with value: 0.9245114529478248 and parameters: {'min_split_gain': 0.06789709342603523, 'reg_alpha': 0.07171681749501124, 'max_depth': 1, 'min_child_weight': 1.0538172044593787e-06, 'num_leaves': 34, 'reg_lambda': 2.0743802554711452, 'n_estimators': 465, 'min_child_samples': 25, 'learning_rate': 0.18896152659740134}. Best is trial 37 with value: 0.9283836724228283.\n",
      "[I 2025-02-24 09:10:03,483] Trial 38 finished with value: 0.8975129104507152 and parameters: {'num_leaves': 34, 'reg_lambda': 1.1388375077074451e-05, 'reg_alpha': 6.066159054342559e-05, 'learning_rate': 0.151578813979108, 'min_child_samples': 9, 'min_split_gain': 1.0876505105986771, 'min_child_weight': 1.4107516168301222e-05, 'max_depth': 10, 'n_estimators': 243}. Best is trial 37 with value: 0.9283836724228283.\n"
     ]
    },
    {
     "name": "stdout",
     "output_type": "stream",
     "text": [
      "Finished trial with scores: [0.9256857855361598, 0.9037406483790524, 0.9580668088130775]\n",
      "Finished trial with scores: [0.9310058187863675, 0.9025768911055694, 0.9545131485429993]\n",
      "Finished trial with scores: [0.7644222776392352, 0.6043225270157939, 0.7844705046197583]\n",
      "Finished trial with scores: [0.8058187863674149, 0.8985868661679136, 0.9390547263681592]\n"
     ]
    },
    {
     "name": "stderr",
     "output_type": "stream",
     "text": [
      "[I 2025-02-24 09:10:03,711] Trial 40 finished with value: 0.9291644142427632 and parameters: {'min_split_gain': 1.0410955611054218, 'reg_alpha': 5.51305283453579e-05, 'reg_lambda': 1.1404666507456627, 'learning_rate': 0.13466487662882926, 'min_child_samples': 9, 'max_depth': 2, 'num_leaves': 37, 'n_estimators': 249, 'min_child_weight': 1.1914774983053134e-05}. Best is trial 40 with value: 0.9291644142427632.\n",
      "[I 2025-02-24 09:10:03,726] Trial 41 finished with value: 0.9293652861449787 and parameters: {'num_leaves': 38, 'learning_rate': 0.1385890262369783, 'min_child_samples': 19, 'reg_alpha': 5.7757774535884136e-05, 'min_split_gain': 1.175149846722686, 'reg_lambda': 1.1442496880975912, 'min_child_weight': 9.217890600798202e-06, 'n_estimators': 428, 'max_depth': 2}. Best is trial 41 with value: 0.9293652861449787.\n",
      "[I 2025-02-24 09:10:03,910] Trial 42 finished with value: 0.8811534596344958 and parameters: {'reg_alpha': 5.707229576679062e-05, 'min_split_gain': 1.209156317414701, 'min_child_samples': 10, 'max_depth': 2, 'min_child_weight': 1.1191796075549573e-05, 'n_estimators': 442, 'learning_rate': 0.3647582479986111, 'reg_lambda': 1.4260904098504532, 'num_leaves': 37}. Best is trial 41 with value: 0.9293652861449787.\n",
      "[I 2025-02-24 09:10:03,913] Trial 48 finished with value: 0.7177384364249292 and parameters: {'max_depth': 3, 'min_child_weight': 1.4135784130451286e-05, 'reg_alpha': 6.083561753370912e-05, 'num_leaves': 38, 'min_split_gain': 1.0964555500731106, 'reg_lambda': 0.13119202824918377, 'n_estimators': 426, 'learning_rate': 0.374479592654414, 'min_child_samples': 10}. Best is trial 41 with value: 0.9293652861449787.\n"
     ]
    },
    {
     "name": "stdout",
     "output_type": "stream",
     "text": [
      "Finished trial with scores: [0.9266832917705735, 0.9092269326683291, 0.9570007107320541]\n",
      "Finished trial with scores: [0.7418121363258521, 0.7644222776392353, 0.8509239516702203]\n",
      "Finished trial with scores: [0.9443059019118869, 0.9027431421446384, 0.9731698649609096]\n",
      "Finished trial with scores: [0.9379883624272651, 0.9065669160432253, 0.9689054726368159]\n",
      "Finished trial with scores: [0.9404821280133001, 0.8924355777223608, 0.9690831556503199]\n",
      "Finished trial with scores: [0.9506234413965088, 0.9014131338320864, 0.9790334044065387]\n",
      "Finished trial with scores: [0.9265170407315046, 0.8766417290108063, 0.9617981520966595]\n"
     ]
    },
    {
     "name": "stderr",
     "output_type": "stream",
     "text": [
      "[I 2025-02-24 09:10:03,987] Trial 39 finished with value: 0.9309703117236522 and parameters: {'min_split_gain': 1.1650108063819937, 'max_depth': 2, 'reg_alpha': 5.8286133481991564e-05, 'min_child_weight': 1.0590701114254807e-05, 'n_estimators': 497, 'reg_lambda': 1.6958945421109646, 'num_leaves': 30, 'min_child_samples': 8, 'learning_rate': 0.14427891143414923}. Best is trial 39 with value: 0.9309703117236522.\n",
      "[I 2025-02-24 09:10:04,056] Trial 44 finished with value: 0.7857194552117693 and parameters: {'num_leaves': 38, 'learning_rate': 0.3573219283445356, 'min_child_weight': 1.362065215172535e-05, 'reg_alpha': 4.824287469178415e-05, 'reg_lambda': 0.10773581604352211, 'min_split_gain': 1.1496898107578992, 'max_depth': 3, 'n_estimators': 435, 'min_child_samples': 10}. Best is trial 39 with value: 0.9309703117236522.\n",
      "[I 2025-02-24 09:10:04,063] Trial 46 finished with value: 0.9400729696724782 and parameters: {'max_depth': 3, 'n_estimators': 409, 'num_leaves': 38, 'min_child_weight': 5.679226382088629e-06, 'min_split_gain': 1.3102246363277958, 'reg_alpha': 5.507052421070547e-05, 'reg_lambda': 0.13290290248287537, 'min_child_samples': 10, 'learning_rate': 0.1141261896054952}. Best is trial 46 with value: 0.9400729696724782.\n",
      "[I 2025-02-24 09:10:04,071] Trial 43 finished with value: 0.9378202503691021 and parameters: {'num_leaves': 39, 'learning_rate': 0.1243702912151589, 'reg_alpha': 7.443972909932582e-05, 'min_split_gain': 1.2123675880807163, 'max_depth': 3, 'reg_lambda': 0.09071224759384554, 'min_child_weight': 1.704038819714763e-05, 'min_child_samples': 10, 'n_estimators': 412}. Best is trial 46 with value: 0.9400729696724782.\n",
      "[I 2025-02-24 09:10:04,082] Trial 47 finished with value: 0.9340002871286602 and parameters: {'max_depth': 3, 'min_split_gain': 1.1371851773538297, 'min_child_samples': 10, 'min_child_weight': 1.40251433782649e-05, 'reg_lambda': 0.10060464882398916, 'learning_rate': 0.11122167423203531, 'num_leaves': 38, 'reg_alpha': 8.273831898628805e-05, 'n_estimators': 423}. Best is trial 46 with value: 0.9400729696724782.\n",
      "[I 2025-02-24 09:10:04,114] Trial 50 finished with value: 0.9216523072796569 and parameters: {'num_leaves': 38, 'reg_lambda': 0.10643929820348304, 'reg_alpha': 0.0011582354754855618, 'learning_rate': 0.10876290057341882, 'min_child_samples': 11, 'min_split_gain': 4.864855816151149, 'min_child_weight': 5.588942457846593e-06, 'max_depth': 3, 'n_estimators': 417}. Best is trial 45 with value: 0.9436899932117114.\n",
      "[I 2025-02-24 09:10:04,115] Trial 45 finished with value: 0.9436899932117114 and parameters: {'max_depth': 3, 'min_child_weight': 1.4731679127689735e-05, 'reg_lambda': 0.10477165815624093, 'learning_rate': 0.11158355487383494, 'min_split_gain': 1.1732185447561991, 'min_child_samples': 10, 'n_estimators': 437, 'num_leaves': 37, 'reg_alpha': 5.606283982261616e-05}. Best is trial 45 with value: 0.9436899932117114.\n"
     ]
    },
    {
     "name": "stdout",
     "output_type": "stream",
     "text": [
      "Finished trial with scores: [0.9482959268495428, 0.8984206151288445, 0.9779673063255153]\n",
      "Finished trial with scores: [0.9349958437240232, 0.8566916043225271, 0.9719260838663824]\n",
      "Finished trial with scores: [0.9464671654197839, 0.8921030756442229, 0.9699715707178393]\n",
      "Finished trial with scores: [0.9369908561928512, 0.8834580216126351, 0.96090973702914]\n",
      "Ending process, stopping_event set.\n",
      "Ending process, stopping_event set.\n"
     ]
    },
    {
     "name": "stderr",
     "output_type": "stream",
     "text": [
      "[I 2025-02-24 09:10:04,242] Trial 49 finished with value: 0.9415612827679675 and parameters: {'min_split_gain': 1.1299878942460844, 'reg_alpha': 0.0016082776879674148, 'max_depth': 3, 'min_child_weight': 1.5394336217928243e-05, 'num_leaves': 40, 'reg_lambda': 0.1689733598254991, 'n_estimators': 436, 'min_child_samples': 9, 'learning_rate': 0.10047893032918004}. Best is trial 45 with value: 0.9436899932117114.\n",
      "[I 2025-02-24 09:10:04,271] Trial 52 finished with value: 0.9212045106376442 and parameters: {'num_leaves': 38, 'learning_rate': 0.1164267792320761, 'min_child_samples': 18, 'reg_alpha': 0.0005637789637629271, 'min_split_gain': 1.3916917804536277, 'reg_lambda': 0.6814949493386643, 'min_child_weight': 6.8075089363001096e-06, 'n_estimators': 425, 'max_depth': 3}. Best is trial 45 with value: 0.9436899932117114.\n",
      "[I 2025-02-24 09:10:04,300] The study has been stopped by the terminator.\n",
      "[I 2025-02-24 09:10:04,306] The study has been stopped by the terminator.\n",
      "[I 2025-02-24 09:10:04,378] The study has been stopped by the terminator.\n",
      "[I 2025-02-24 09:10:04,387] Trial 53 finished with value: 0.9271195382782088 and parameters: {'reg_alpha': 0.0009436926104113742, 'min_split_gain': 1.5618391418663766, 'min_child_samples': 18, 'max_depth': 3, 'min_child_weight': 6.530179080636157e-06, 'n_estimators': 257, 'learning_rate': 0.10358010146804675, 'reg_lambda': 0.6929399088868504, 'num_leaves': 42}. Best is trial 45 with value: 0.9436899932117114.\n",
      "[I 2025-02-24 09:10:04,389] Trial 51 finished with value: 0.9361806039272821 and parameters: {'min_split_gain': 1.213810858595427, 'reg_alpha': 0.0014544926858440755, 'reg_lambda': 0.10641466055797048, 'learning_rate': 0.10529556859730017, 'min_child_samples': 11, 'max_depth': 3, 'num_leaves': 38, 'n_estimators': 426, 'min_child_weight': 6.5435291209439325e-06}. Best is trial 45 with value: 0.9436899932117114.\n",
      "[I 2025-02-24 09:10:04,414] The study has been stopped by the terminator.\n"
     ]
    },
    {
     "name": "stdout",
     "output_type": "stream",
     "text": [
      "Finished trial with scores: [0.9369908561928512, 0.8688279301745636, 0.9706823027718551]\n",
      "Ending process, stopping_event set.\n",
      "Finished trial with scores: [0.9085619285120532, 0.8596841230257689, 0.9612651030561479]\n",
      "Ending process, stopping_event set.\n",
      "Finished trial with scores: [0.9338320864505403, 0.8418952618453865, 0.9614427860696517]\n",
      "Ending process, stopping_event set.\n",
      "Finished trial with scores: [0.9348295926849542, 0.8101413133832087, 0.9738805970149255]\n",
      "Ending process, stopping_event set.\n",
      "Finished trial with scores: [0.9256857855361597, 0.8517040731504573, 0.9703269367448472]\n",
      "Ending process, stopping_event set.\n"
     ]
    },
    {
     "name": "stderr",
     "output_type": "stream",
     "text": [
      "[I 2025-02-24 09:10:04,457] Trial 54 finished with value: 0.9255003630464232 and parameters: {'max_depth': 3, 'min_child_weight': 6.127660861154648e-06, 'reg_alpha': 0.00058825687074908, 'num_leaves': 42, 'min_split_gain': 1.5127447157302276, 'reg_lambda': 0.6877948299568106, 'n_estimators': 264, 'learning_rate': 0.10691657231791077, 'min_child_samples': 12}. Best is trial 45 with value: 0.9436899932117114.\n",
      "[I 2025-02-24 09:10:04,489] The study has been stopped by the terminator.\n",
      "[I 2025-02-24 09:10:04,492] The study has been stopped by the terminator.\n",
      "[I 2025-02-24 09:10:04,547] Trial 55 finished with value: 0.9098370515313233 and parameters: {'min_split_gain': 4.751344050108369, 'max_depth': 2, 'reg_alpha': 0.0004065188779663433, 'min_child_weight': 2.478591356939412e-05, 'n_estimators': 376, 'reg_lambda': 0.6763455038141147, 'num_leaves': 41, 'min_child_samples': 18, 'learning_rate': 0.10712818080054112}. Best is trial 45 with value: 0.9436899932117114.\n",
      "[I 2025-02-24 09:10:04,548] The study has been stopped by the terminator.\n",
      "[I 2025-02-24 09:10:04,581] Trial 56 finished with value: 0.9123900447885261 and parameters: {'max_depth': 4, 'n_estimators': 389, 'num_leaves': 44, 'min_child_weight': 2.629200170032808e-05, 'min_split_gain': 2.6930125019264874, 'reg_alpha': 0.00035346740301583197, 'reg_lambda': 0.5247717941205423, 'min_child_samples': 17, 'learning_rate': 0.10206012369831391}. Best is trial 45 with value: 0.9436899932117114.\n",
      "[I 2025-02-24 09:10:04,592] Trial 57 finished with value: 0.9062838343610294 and parameters: {'num_leaves': 43, 'learning_rate': 0.10089191278421539, 'min_child_weight': 2.401000246409472e-05, 'reg_alpha': 0.00024196587762647935, 'reg_lambda': 0.05323328458319741, 'min_split_gain': 2.7417255570689516, 'max_depth': 4, 'n_estimators': 373, 'min_child_samples': 14}. Best is trial 45 with value: 0.9436899932117114.\n",
      "[I 2025-02-24 09:10:04,614] The study has been stopped by the terminator.\n",
      "[I 2025-02-24 09:10:04,632] Trial 59 finished with value: 0.9159055984771546 and parameters: {'max_depth': 4, 'min_split_gain': 2.819375647956803, 'min_child_samples': 13, 'min_child_weight': 2.273822479429819e-05, 'reg_lambda': 0.04309008947619168, 'learning_rate': 0.10207760725454337, 'num_leaves': 43, 'reg_alpha': 0.0002818385374389047, 'n_estimators': 380}. Best is trial 45 with value: 0.9436899932117114.\n"
     ]
    },
    {
     "name": "stdout",
     "output_type": "stream",
     "text": [
      "Finished trial with scores: [0.9246882793017456, 0.8342477140482129, 0.9749466950959489]\n",
      "Ending process, stopping_event set.\n"
     ]
    },
    {
     "name": "stderr",
     "output_type": "stream",
     "text": [
      "[I 2025-02-24 09:10:04,677] Trial 58 finished with value: 0.9112942294819691 and parameters: {'num_leaves': 41, 'learning_rate': 0.10405614019978947, 'reg_alpha': 0.0003243858128540555, 'min_split_gain': 2.852345723736403, 'max_depth': 4, 'reg_lambda': 0.03530859704030308, 'min_child_weight': 0.00012478541555521503, 'min_child_samples': 13, 'n_estimators': 392}. Best is trial 45 with value: 0.9436899932117114.\n",
      "[I 2025-02-24 09:10:04,692] The study has been stopped by the terminator.\n",
      "[I 2025-02-24 09:10:04,699] The study has been stopped by the terminator.\n",
      "[I 2025-02-24 09:10:04,734] The study has been stopped by the terminator.\n",
      "[I 2025-02-24 09:10:04,738] The study has been stopped by the terminator.\n"
     ]
    }
   ],
   "source": [
    "# PERFORM AN OPTUNA HYPERPARAMETER SEARCH, CAN CHANGE THE SEARCH SPACE IN OPT.PY\n",
    "\n",
    "from eppi_text_classification import OptunaHyperparameterOptimisation\n",
    "\n",
    "# hyperparam_ranges = {\n",
    "#     \"min_child_samples\": {\"low\": 1, \"high\": 30, \"log\": False},\n",
    "#     \"learning_rate\": {\"low\": 0.1, \"high\": 0.6, \"log\": False},\n",
    "#     \"num_leaves\": {\"low\": 2, \"high\": 50, \"log\": False},\n",
    "#     \"n_estimators\": {\"low\": 100, \"high\": 100, \"log\": False},\n",
    "#     \"min_split_gain\": {\"low\": 1e-6, \"high\": 10, \"log\": False},\n",
    "#     \"min_child_weight\": {\"low\": 1e-6, \"high\": 1e-1, \"log\": True},\n",
    "#     \"reg_alpha\": {\"low\": 1e-5, \"high\": 10, \"log\": True},\n",
    "#     \"reg_lambda\": {\"low\": 1e-5, \"high\": 10, \"log\": True},\n",
    "#     \"linear_tree\": {\"value\": True},\n",
    "# }\n",
    "\n",
    "hyperparam_ranges = {\n",
    "    \"min_child_samples\": {\"low\": 1, \"high\": 30, \"log\": False, \"suggest_type\": \"int\"},\n",
    "    \"learning_rate\": {\"low\": 0.1, \"high\": 0.6, \"log\": False, \"suggest_type\": \"float\"},\n",
    "    \"num_leaves\": {\"low\": 2, \"high\": 50, \"log\": False, \"suggest_type\": \"int\"},\n",
    "    \"n_estimators\": {\"low\": 100, \"high\": 500, \"log\": False, \"suggest_type\": \"int\"},\n",
    "    \"min_split_gain\": {\"low\": 1e-6, \"high\": 10, \"log\": False, \"suggest_type\": \"float\"},\n",
    "    \"min_child_weight\": {\n",
    "        \"low\": 1e-6,\n",
    "        \"high\": 1e-1,\n",
    "        \"log\": True,\n",
    "        \"suggest_type\": \"float\",\n",
    "    },\n",
    "    \"reg_alpha\": {\"low\": 1e-5, \"high\": 10, \"log\": True, \"suggest_type\": \"float\"},\n",
    "    \"reg_lambda\": {\"low\": 1e-5, \"high\": 10, \"log\": True, \"suggest_type\": \"float\"},\n",
    "}\n",
    "\n",
    "\n",
    "optimiser = OptunaHyperparameterOptimisation(\n",
    "    tfidf_scores,\n",
    "    labels,\n",
    "    \"lightgbm\",\n",
    "    max_n_search_iterations=300,\n",
    "    n_jobs=-1,\n",
    "    nfolds=3,\n",
    "    num_cv_repeats=1,\n",
    "    # db_url=f\"sqlite:////mnt/tmp/optuna.db\", #Use this one on Azure\n",
    "    db_url=None,\n",
    "    timeout=1000,\n",
    "    use_early_terminator=True,\n",
    "    max_stagnation_iterations=1000,\n",
    "    wilcoxon_trial_pruner_threshold=None,\n",
    "    use_worse_than_first_two_pruner=False,\n",
    "    user_selected_hyperparameter_ranges=hyperparam_ranges,\n",
    ")\n",
    "\n",
    "optimiser.delete_optuna_study(\"lgbm_binary\")\n",
    "best_params = optimiser.optimise_hyperparameters(study_name=\"lgbm_binary\")"
   ]
  },
  {
   "cell_type": "code",
   "execution_count": 6,
   "metadata": {},
   "outputs": [
    {
     "name": "stderr",
     "output_type": "stream",
     "text": [
      "[I 2025-02-24 09:10:04,954] Using an existing study with name 'lgbm_binary' instead of creating a new one.\n"
     ]
    }
   ],
   "source": [
    "import optuna\n",
    "\n",
    "study = optuna.create_study(\n",
    "    study_name=\"lgbm_binary\",\n",
    "    storage=\"sqlite:////Users/sjmolyneux/Documents/EPPI_Classification_Public/eppi_text_classification/optuna.db\",\n",
    "    direction=\"maximize\",\n",
    "    load_if_exists=True,\n",
    ")\n",
    "\n",
    "import jsonpickle\n",
    "\n",
    "best_trial = study.best_trial\n",
    "best_params = best_trial.user_attrs[\"all_params\"]\n",
    "best_params = jsonpickle.decode(best_params, keys=True)\n"
   ]
  },
  {
   "cell_type": "code",
   "execution_count": 7,
   "metadata": {},
   "outputs": [],
   "source": [
    "from eppi_text_classification.plots.optuna_plots import create_all_optuna_plots\n",
    "\n",
    "create_all_optuna_plots(study, save_dir=\"optuna_plots\")"
   ]
  },
  {
   "cell_type": "code",
   "execution_count": 8,
   "metadata": {},
   "outputs": [
    {
     "name": "stdout",
     "output_type": "stream",
     "text": [
      "[LightGBM] [Warning] No further splits with positive gain, best gain: -inf\n",
      "[LightGBM] [Warning] No further splits with positive gain, best gain: -inf\n",
      "[LightGBM] [Warning] No further splits with positive gain, best gain: -inf\n",
      "[LightGBM] [Warning] No further splits with positive gain, best gain: -inf\n",
      "[LightGBM] [Warning] No further splits with positive gain, best gain: -inf\n",
      "[LightGBM] [Warning] No further splits with positive gain, best gain: -inf\n",
      "[LightGBM] [Warning] No further splits with positive gain, best gain: -inf\n",
      "[LightGBM] [Warning] No further splits with positive gain, best gain: -inf\n",
      "[LightGBM] [Warning] No further splits with positive gain, best gain: -inf\n",
      "[LightGBM] [Warning] No further splits with positive gain, best gain: -inf\n",
      "[LightGBM] [Warning] No further splits with positive gain, best gain: -inf\n",
      "[LightGBM] [Warning] No further splits with positive gain, best gain: -inf\n",
      "[LightGBM] [Warning] No further splits with positive gain, best gain: -inf\n",
      "[LightGBM] [Warning] No further splits with positive gain, best gain: -inf\n",
      "[LightGBM] [Warning] No further splits with positive gain, best gain: -inf\n",
      "[LightGBM] [Warning] No further splits with positive gain, best gain: -inf\n",
      "[LightGBM] [Warning] No further splits with positive gain, best gain: -inf\n",
      "[LightGBM] [Warning] No further splits with positive gain, best gain: -inf\n",
      "[LightGBM] [Warning] No further splits with positive gain, best gain: -inf\n",
      "[LightGBM] [Warning] No further splits with positive gain, best gain: -inf\n",
      "[LightGBM] [Warning] No further splits with positive gain, best gain: -inf\n",
      "[LightGBM] [Warning] No further splits with positive gain, best gain: -inf\n",
      "[LightGBM] [Warning] No further splits with positive gain, best gain: -inf\n",
      "[LightGBM] [Warning] No further splits with positive gain, best gain: -inf\n",
      "[LightGBM] [Warning] No further splits with positive gain, best gain: -inf\n",
      "[LightGBM] [Warning] No further splits with positive gain, best gain: -inf\n",
      "[LightGBM] [Warning] No further splits with positive gain, best gain: -inf\n",
      "[LightGBM] [Warning] No further splits with positive gain, best gain: -inf\n",
      "[LightGBM] [Warning] No further splits with positive gain, best gain: -inf\n",
      "[LightGBM] [Warning] No further splits with positive gain, best gain: -inf\n",
      "[LightGBM] [Warning] No further splits with positive gain, best gain: -inf\n",
      "[LightGBM] [Warning] No further splits with positive gain, best gain: -inf\n",
      "[LightGBM] [Warning] No further splits with positive gain, best gain: -inf\n",
      "[LightGBM] [Warning] No further splits with positive gain, best gain: -inf\n",
      "[LightGBM] [Warning] No further splits with positive gain, best gain: -inf\n",
      "[LightGBM] [Warning] No further splits with positive gain, best gain: -inf\n",
      "[LightGBM] [Warning] No further splits with positive gain, best gain: -inf\n",
      "[LightGBM] [Warning] No further splits with positive gain, best gain: -inf\n",
      "[LightGBM] [Warning] No further splits with positive gain, best gain: -inf\n",
      "[LightGBM] [Warning] No further splits with positive gain, best gain: -inf\n",
      "[LightGBM] [Warning] No further splits with positive gain, best gain: -inf\n",
      "[LightGBM] [Warning] No further splits with positive gain, best gain: -inf\n",
      "[LightGBM] [Warning] No further splits with positive gain, best gain: -inf\n",
      "[LightGBM] [Warning] No further splits with positive gain, best gain: -inf\n",
      "[LightGBM] [Warning] No further splits with positive gain, best gain: -inf\n",
      "[LightGBM] [Warning] No further splits with positive gain, best gain: -inf\n",
      "[LightGBM] [Warning] No further splits with positive gain, best gain: -inf\n",
      "[LightGBM] [Warning] No further splits with positive gain, best gain: -inf\n",
      "[LightGBM] [Warning] No further splits with positive gain, best gain: -inf\n",
      "[LightGBM] [Warning] No further splits with positive gain, best gain: -inf\n",
      "[LightGBM] [Warning] No further splits with positive gain, best gain: -inf\n",
      "[LightGBM] [Warning] No further splits with positive gain, best gain: -inf\n",
      "[LightGBM] [Warning] No further splits with positive gain, best gain: -inf\n",
      "[LightGBM] [Warning] No further splits with positive gain, best gain: -inf\n",
      "[LightGBM] [Warning] No further splits with positive gain, best gain: -inf\n",
      "[LightGBM] [Warning] No further splits with positive gain, best gain: -inf\n",
      "[LightGBM] [Warning] No further splits with positive gain, best gain: -inf\n",
      "[LightGBM] [Warning] No further splits with positive gain, best gain: -inf\n",
      "[LightGBM] [Warning] No further splits with positive gain, best gain: -inf\n",
      "[LightGBM] [Warning] No further splits with positive gain, best gain: -inf\n",
      "[LightGBM] [Warning] No further splits with positive gain, best gain: -inf\n",
      "[LightGBM] [Warning] No further splits with positive gain, best gain: -inf\n",
      "[LightGBM] [Warning] No further splits with positive gain, best gain: -inf\n",
      "[LightGBM] [Warning] No further splits with positive gain, best gain: -inf\n",
      "[LightGBM] [Warning] No further splits with positive gain, best gain: -inf\n",
      "[LightGBM] [Warning] No further splits with positive gain, best gain: -inf\n",
      "[LightGBM] [Warning] No further splits with positive gain, best gain: -inf\n",
      "[LightGBM] [Warning] No further splits with positive gain, best gain: -inf\n",
      "[LightGBM] [Warning] No further splits with positive gain, best gain: -inf\n",
      "[LightGBM] [Warning] No further splits with positive gain, best gain: -inf\n",
      "[LightGBM] [Warning] No further splits with positive gain, best gain: -inf\n",
      "[LightGBM] [Warning] No further splits with positive gain, best gain: -inf\n",
      "[LightGBM] [Warning] No further splits with positive gain, best gain: -inf\n",
      "[LightGBM] [Warning] No further splits with positive gain, best gain: -inf\n",
      "[LightGBM] [Warning] No further splits with positive gain, best gain: -inf\n",
      "[LightGBM] [Warning] No further splits with positive gain, best gain: -inf\n",
      "[LightGBM] [Warning] No further splits with positive gain, best gain: -inf\n",
      "[LightGBM] [Warning] No further splits with positive gain, best gain: -inf\n",
      "[LightGBM] [Warning] No further splits with positive gain, best gain: -inf\n",
      "[LightGBM] [Warning] No further splits with positive gain, best gain: -inf\n",
      "[LightGBM] [Warning] No further splits with positive gain, best gain: -inf\n",
      "[LightGBM] [Warning] Stopped training because there are no more leaves that meet the split requirements\n",
      "[LightGBM] [Warning] No further splits with positive gain, best gain: -inf\n",
      "[LightGBM] [Warning] Stopped training because there are no more leaves that meet the split requirements\n",
      "[LightGBM] [Warning] No further splits with positive gain, best gain: -inf\n",
      "[LightGBM] [Warning] Stopped training because there are no more leaves that meet the split requirements\n",
      "[LightGBM] [Warning] No further splits with positive gain, best gain: -inf\n",
      "[LightGBM] [Warning] Stopped training because there are no more leaves that meet the split requirements\n",
      "[LightGBM] [Warning] No further splits with positive gain, best gain: -inf\n",
      "[LightGBM] [Warning] Stopped training because there are no more leaves that meet the split requirements\n",
      "[LightGBM] [Warning] No further splits with positive gain, best gain: -inf\n",
      "[LightGBM] [Warning] Stopped training because there are no more leaves that meet the split requirements\n",
      "[LightGBM] [Warning] No further splits with positive gain, best gain: -inf\n",
      "[LightGBM] [Warning] Stopped training because there are no more leaves that meet the split requirements\n",
      "[LightGBM] [Warning] No further splits with positive gain, best gain: -inf\n",
      "[LightGBM] [Warning] Stopped training because there are no more leaves that meet the split requirements\n",
      "[LightGBM] [Warning] No further splits with positive gain, best gain: -inf\n",
      "[LightGBM] [Warning] Stopped training because there are no more leaves that meet the split requirements\n",
      "[LightGBM] [Warning] No further splits with positive gain, best gain: -inf\n",
      "[LightGBM] [Warning] Stopped training because there are no more leaves that meet the split requirements\n",
      "[LightGBM] [Warning] No further splits with positive gain, best gain: -inf\n",
      "[LightGBM] [Warning] Stopped training because there are no more leaves that meet the split requirements\n",
      "[LightGBM] [Warning] No further splits with positive gain, best gain: -inf\n",
      "[LightGBM] [Warning] Stopped training because there are no more leaves that meet the split requirements\n",
      "[LightGBM] [Warning] No further splits with positive gain, best gain: -inf\n",
      "[LightGBM] [Warning] Stopped training because there are no more leaves that meet the split requirements\n",
      "[LightGBM] [Warning] No further splits with positive gain, best gain: -inf\n",
      "[LightGBM] [Warning] Stopped training because there are no more leaves that meet the split requirements\n",
      "[LightGBM] [Warning] No further splits with positive gain, best gain: -inf\n",
      "[LightGBM] [Warning] Stopped training because there are no more leaves that meet the split requirements\n",
      "[LightGBM] [Warning] No further splits with positive gain, best gain: -inf\n",
      "[LightGBM] [Warning] Stopped training because there are no more leaves that meet the split requirements\n",
      "[LightGBM] [Warning] No further splits with positive gain, best gain: -inf\n",
      "[LightGBM] [Warning] Stopped training because there are no more leaves that meet the split requirements\n",
      "[LightGBM] [Warning] No further splits with positive gain, best gain: -inf\n",
      "[LightGBM] [Warning] Stopped training because there are no more leaves that meet the split requirements\n",
      "[LightGBM] [Warning] No further splits with positive gain, best gain: -inf\n",
      "[LightGBM] [Warning] Stopped training because there are no more leaves that meet the split requirements\n",
      "[LightGBM] [Warning] No further splits with positive gain, best gain: -inf\n",
      "[LightGBM] [Warning] Stopped training because there are no more leaves that meet the split requirements\n",
      "[LightGBM] [Warning] No further splits with positive gain, best gain: -inf\n",
      "[LightGBM] [Warning] Stopped training because there are no more leaves that meet the split requirements\n",
      "[LightGBM] [Warning] No further splits with positive gain, best gain: -inf\n",
      "[LightGBM] [Warning] Stopped training because there are no more leaves that meet the split requirements\n",
      "[LightGBM] [Warning] No further splits with positive gain, best gain: -inf\n",
      "[LightGBM] [Warning] Stopped training because there are no more leaves that meet the split requirements\n",
      "[LightGBM] [Warning] No further splits with positive gain, best gain: -inf\n",
      "[LightGBM] [Warning] Stopped training because there are no more leaves that meet the split requirements\n",
      "[LightGBM] [Warning] No further splits with positive gain, best gain: -inf\n",
      "[LightGBM] [Warning] Stopped training because there are no more leaves that meet the split requirements\n",
      "[LightGBM] [Warning] No further splits with positive gain, best gain: -inf\n",
      "[LightGBM] [Warning] Stopped training because there are no more leaves that meet the split requirements\n",
      "[LightGBM] [Warning] No further splits with positive gain, best gain: -inf\n",
      "[LightGBM] [Warning] Stopped training because there are no more leaves that meet the split requirements\n",
      "[LightGBM] [Warning] No further splits with positive gain, best gain: -inf\n",
      "[LightGBM] [Warning] Stopped training because there are no more leaves that meet the split requirements\n",
      "[LightGBM] [Warning] No further splits with positive gain, best gain: -inf\n",
      "[LightGBM] [Warning] Stopped training because there are no more leaves that meet the split requirements\n",
      "[LightGBM] [Warning] No further splits with positive gain, best gain: -inf\n",
      "[LightGBM] [Warning] Stopped training because there are no more leaves that meet the split requirements\n",
      "[LightGBM] [Warning] No further splits with positive gain, best gain: -inf\n",
      "[LightGBM] [Warning] Stopped training because there are no more leaves that meet the split requirements\n",
      "[LightGBM] [Warning] No further splits with positive gain, best gain: -inf\n",
      "[LightGBM] [Warning] Stopped training because there are no more leaves that meet the split requirements\n",
      "[LightGBM] [Warning] No further splits with positive gain, best gain: -inf\n",
      "[LightGBM] [Warning] Stopped training because there are no more leaves that meet the split requirements\n",
      "[LightGBM] [Warning] No further splits with positive gain, best gain: -inf\n",
      "[LightGBM] [Warning] Stopped training because there are no more leaves that meet the split requirements\n",
      "[LightGBM] [Warning] No further splits with positive gain, best gain: -inf\n",
      "[LightGBM] [Warning] Stopped training because there are no more leaves that meet the split requirements\n",
      "[LightGBM] [Warning] No further splits with positive gain, best gain: -inf\n",
      "[LightGBM] [Warning] Stopped training because there are no more leaves that meet the split requirements\n",
      "[LightGBM] [Warning] No further splits with positive gain, best gain: -inf\n",
      "[LightGBM] [Warning] Stopped training because there are no more leaves that meet the split requirements\n",
      "[LightGBM] [Warning] No further splits with positive gain, best gain: -inf\n",
      "[LightGBM] [Warning] Stopped training because there are no more leaves that meet the split requirements\n",
      "[LightGBM] [Warning] No further splits with positive gain, best gain: -inf\n",
      "[LightGBM] [Warning] Stopped training because there are no more leaves that meet the split requirements\n",
      "[LightGBM] [Warning] No further splits with positive gain, best gain: -inf\n",
      "[LightGBM] [Warning] Stopped training because there are no more leaves that meet the split requirements\n",
      "[LightGBM] [Warning] No further splits with positive gain, best gain: -inf\n",
      "[LightGBM] [Warning] Stopped training because there are no more leaves that meet the split requirements\n",
      "[LightGBM] [Warning] No further splits with positive gain, best gain: -inf\n",
      "[LightGBM] [Warning] Stopped training because there are no more leaves that meet the split requirements\n",
      "[LightGBM] [Warning] No further splits with positive gain, best gain: -inf\n",
      "[LightGBM] [Warning] Stopped training because there are no more leaves that meet the split requirements\n",
      "[LightGBM] [Warning] No further splits with positive gain, best gain: -inf\n",
      "[LightGBM] [Warning] Stopped training because there are no more leaves that meet the split requirements\n",
      "[LightGBM] [Warning] No further splits with positive gain, best gain: -inf\n",
      "[LightGBM] [Warning] Stopped training because there are no more leaves that meet the split requirements\n",
      "[LightGBM] [Warning] No further splits with positive gain, best gain: -inf\n",
      "[LightGBM] [Warning] Stopped training because there are no more leaves that meet the split requirements\n",
      "[LightGBM] [Warning] No further splits with positive gain, best gain: -inf\n",
      "[LightGBM] [Warning] Stopped training because there are no more leaves that meet the split requirements\n",
      "[LightGBM] [Warning] No further splits with positive gain, best gain: -inf\n",
      "[LightGBM] [Warning] Stopped training because there are no more leaves that meet the split requirements\n",
      "[LightGBM] [Warning] No further splits with positive gain, best gain: -inf\n",
      "[LightGBM] [Warning] Stopped training because there are no more leaves that meet the split requirements\n",
      "[LightGBM] [Warning] No further splits with positive gain, best gain: -inf\n",
      "[LightGBM] [Warning] Stopped training because there are no more leaves that meet the split requirements\n",
      "[LightGBM] [Warning] No further splits with positive gain, best gain: -inf\n",
      "[LightGBM] [Warning] Stopped training because there are no more leaves that meet the split requirements\n",
      "[LightGBM] [Warning] No further splits with positive gain, best gain: -inf\n",
      "[LightGBM] [Warning] Stopped training because there are no more leaves that meet the split requirements\n",
      "[LightGBM] [Warning] No further splits with positive gain, best gain: -inf\n",
      "[LightGBM] [Warning] Stopped training because there are no more leaves that meet the split requirements\n",
      "[LightGBM] [Warning] No further splits with positive gain, best gain: -inf\n",
      "[LightGBM] [Warning] Stopped training because there are no more leaves that meet the split requirements\n",
      "[LightGBM] [Warning] No further splits with positive gain, best gain: -inf\n",
      "[LightGBM] [Warning] Stopped training because there are no more leaves that meet the split requirements\n",
      "[LightGBM] [Warning] No further splits with positive gain, best gain: -inf\n",
      "[LightGBM] [Warning] Stopped training because there are no more leaves that meet the split requirements\n",
      "[LightGBM] [Warning] No further splits with positive gain, best gain: -inf\n",
      "[LightGBM] [Warning] Stopped training because there are no more leaves that meet the split requirements\n",
      "[LightGBM] [Warning] No further splits with positive gain, best gain: -inf\n",
      "[LightGBM] [Warning] Stopped training because there are no more leaves that meet the split requirements\n",
      "[LightGBM] [Warning] No further splits with positive gain, best gain: -inf\n",
      "[LightGBM] [Warning] Stopped training because there are no more leaves that meet the split requirements\n",
      "[LightGBM] [Warning] No further splits with positive gain, best gain: -inf\n",
      "[LightGBM] [Warning] Stopped training because there are no more leaves that meet the split requirements\n",
      "[LightGBM] [Warning] No further splits with positive gain, best gain: -inf\n",
      "[LightGBM] [Warning] Stopped training because there are no more leaves that meet the split requirements\n",
      "[LightGBM] [Warning] No further splits with positive gain, best gain: -inf\n",
      "[LightGBM] [Warning] Stopped training because there are no more leaves that meet the split requirements\n",
      "[LightGBM] [Warning] No further splits with positive gain, best gain: -inf\n",
      "[LightGBM] [Warning] Stopped training because there are no more leaves that meet the split requirements\n",
      "[LightGBM] [Warning] No further splits with positive gain, best gain: -inf\n",
      "[LightGBM] [Warning] Stopped training because there are no more leaves that meet the split requirements\n",
      "[LightGBM] [Warning] No further splits with positive gain, best gain: -inf\n",
      "[LightGBM] [Warning] Stopped training because there are no more leaves that meet the split requirements\n",
      "[LightGBM] [Warning] No further splits with positive gain, best gain: -inf\n",
      "[LightGBM] [Warning] Stopped training because there are no more leaves that meet the split requirements\n",
      "[LightGBM] [Warning] No further splits with positive gain, best gain: -inf\n",
      "[LightGBM] [Warning] Stopped training because there are no more leaves that meet the split requirements\n",
      "[LightGBM] [Warning] No further splits with positive gain, best gain: -inf\n",
      "[LightGBM] [Warning] Stopped training because there are no more leaves that meet the split requirements\n",
      "[LightGBM] [Warning] No further splits with positive gain, best gain: -inf\n",
      "[LightGBM] [Warning] Stopped training because there are no more leaves that meet the split requirements\n",
      "[LightGBM] [Warning] No further splits with positive gain, best gain: -inf\n",
      "[LightGBM] [Warning] Stopped training because there are no more leaves that meet the split requirements\n",
      "[LightGBM] [Warning] No further splits with positive gain, best gain: -inf\n",
      "[LightGBM] [Warning] Stopped training because there are no more leaves that meet the split requirements\n",
      "[LightGBM] [Warning] No further splits with positive gain, best gain: -inf\n",
      "[LightGBM] [Warning] Stopped training because there are no more leaves that meet the split requirements\n",
      "[LightGBM] [Warning] No further splits with positive gain, best gain: -inf\n",
      "[LightGBM] [Warning] Stopped training because there are no more leaves that meet the split requirements\n",
      "[LightGBM] [Warning] No further splits with positive gain, best gain: -inf\n",
      "[LightGBM] [Warning] Stopped training because there are no more leaves that meet the split requirements\n",
      "[LightGBM] [Warning] No further splits with positive gain, best gain: -inf\n",
      "[LightGBM] [Warning] Stopped training because there are no more leaves that meet the split requirements\n",
      "[LightGBM] [Warning] No further splits with positive gain, best gain: -inf\n",
      "[LightGBM] [Warning] Stopped training because there are no more leaves that meet the split requirements\n",
      "[LightGBM] [Warning] No further splits with positive gain, best gain: -inf\n",
      "[LightGBM] [Warning] Stopped training because there are no more leaves that meet the split requirements\n",
      "[LightGBM] [Warning] No further splits with positive gain, best gain: -inf\n",
      "[LightGBM] [Warning] Stopped training because there are no more leaves that meet the split requirements\n",
      "[LightGBM] [Warning] No further splits with positive gain, best gain: -inf\n",
      "[LightGBM] [Warning] Stopped training because there are no more leaves that meet the split requirements\n",
      "[LightGBM] [Warning] No further splits with positive gain, best gain: -inf\n",
      "[LightGBM] [Warning] Stopped training because there are no more leaves that meet the split requirements\n",
      "[LightGBM] [Warning] No further splits with positive gain, best gain: -inf\n",
      "[LightGBM] [Warning] Stopped training because there are no more leaves that meet the split requirements\n",
      "[LightGBM] [Warning] No further splits with positive gain, best gain: -inf\n",
      "[LightGBM] [Warning] Stopped training because there are no more leaves that meet the split requirements\n",
      "[LightGBM] [Warning] No further splits with positive gain, best gain: -inf\n",
      "[LightGBM] [Warning] Stopped training because there are no more leaves that meet the split requirements\n",
      "[LightGBM] [Warning] No further splits with positive gain, best gain: -inf\n",
      "[LightGBM] [Warning] Stopped training because there are no more leaves that meet the split requirements\n",
      "[LightGBM] [Warning] No further splits with positive gain, best gain: -inf\n",
      "[LightGBM] [Warning] Stopped training because there are no more leaves that meet the split requirements\n",
      "[LightGBM] [Warning] No further splits with positive gain, best gain: -inf\n",
      "[LightGBM] [Warning] Stopped training because there are no more leaves that meet the split requirements\n",
      "[LightGBM] [Warning] No further splits with positive gain, best gain: -inf\n",
      "[LightGBM] [Warning] Stopped training because there are no more leaves that meet the split requirements\n",
      "[LightGBM] [Warning] No further splits with positive gain, best gain: -inf\n",
      "[LightGBM] [Warning] Stopped training because there are no more leaves that meet the split requirements\n",
      "[LightGBM] [Warning] No further splits with positive gain, best gain: -inf\n",
      "[LightGBM] [Warning] Stopped training because there are no more leaves that meet the split requirements\n",
      "[LightGBM] [Warning] No further splits with positive gain, best gain: -inf\n",
      "[LightGBM] [Warning] Stopped training because there are no more leaves that meet the split requirements\n",
      "[LightGBM] [Warning] No further splits with positive gain, best gain: -inf\n",
      "[LightGBM] [Warning] Stopped training because there are no more leaves that meet the split requirements\n",
      "[LightGBM] [Warning] No further splits with positive gain, best gain: -inf\n",
      "[LightGBM] [Warning] Stopped training because there are no more leaves that meet the split requirements\n",
      "[LightGBM] [Warning] No further splits with positive gain, best gain: -inf\n",
      "[LightGBM] [Warning] Stopped training because there are no more leaves that meet the split requirements\n",
      "[LightGBM] [Warning] No further splits with positive gain, best gain: -inf\n",
      "[LightGBM] [Warning] Stopped training because there are no more leaves that meet the split requirements\n",
      "[LightGBM] [Warning] No further splits with positive gain, best gain: -inf\n",
      "[LightGBM] [Warning] Stopped training because there are no more leaves that meet the split requirements\n",
      "[LightGBM] [Warning] No further splits with positive gain, best gain: -inf\n",
      "[LightGBM] [Warning] Stopped training because there are no more leaves that meet the split requirements\n",
      "[LightGBM] [Warning] No further splits with positive gain, best gain: -inf\n",
      "[LightGBM] [Warning] Stopped training because there are no more leaves that meet the split requirements\n",
      "[LightGBM] [Warning] No further splits with positive gain, best gain: -inf\n",
      "[LightGBM] [Warning] Stopped training because there are no more leaves that meet the split requirements\n",
      "[LightGBM] [Warning] No further splits with positive gain, best gain: -inf\n",
      "[LightGBM] [Warning] Stopped training because there are no more leaves that meet the split requirements\n",
      "[LightGBM] [Warning] No further splits with positive gain, best gain: -inf\n",
      "[LightGBM] [Warning] Stopped training because there are no more leaves that meet the split requirements\n",
      "[LightGBM] [Warning] No further splits with positive gain, best gain: -inf\n",
      "[LightGBM] [Warning] Stopped training because there are no more leaves that meet the split requirements\n",
      "[LightGBM] [Warning] No further splits with positive gain, best gain: -inf\n",
      "[LightGBM] [Warning] Stopped training because there are no more leaves that meet the split requirements\n",
      "[LightGBM] [Warning] No further splits with positive gain, best gain: -inf\n",
      "[LightGBM] [Warning] Stopped training because there are no more leaves that meet the split requirements\n",
      "[LightGBM] [Warning] No further splits with positive gain, best gain: -inf\n",
      "[LightGBM] [Warning] Stopped training because there are no more leaves that meet the split requirements\n",
      "[LightGBM] [Warning] No further splits with positive gain, best gain: -inf\n",
      "[LightGBM] [Warning] Stopped training because there are no more leaves that meet the split requirements\n",
      "[LightGBM] [Warning] No further splits with positive gain, best gain: -inf\n",
      "[LightGBM] [Warning] Stopped training because there are no more leaves that meet the split requirements\n",
      "[LightGBM] [Warning] No further splits with positive gain, best gain: -inf\n",
      "[LightGBM] [Warning] Stopped training because there are no more leaves that meet the split requirements\n",
      "[LightGBM] [Warning] No further splits with positive gain, best gain: -inf\n",
      "[LightGBM] [Warning] Stopped training because there are no more leaves that meet the split requirements\n",
      "[LightGBM] [Warning] No further splits with positive gain, best gain: -inf\n",
      "[LightGBM] [Warning] Stopped training because there are no more leaves that meet the split requirements\n",
      "[LightGBM] [Warning] No further splits with positive gain, best gain: -inf\n",
      "[LightGBM] [Warning] Stopped training because there are no more leaves that meet the split requirements\n",
      "[LightGBM] [Warning] No further splits with positive gain, best gain: -inf\n",
      "[LightGBM] [Warning] Stopped training because there are no more leaves that meet the split requirements\n",
      "[LightGBM] [Warning] No further splits with positive gain, best gain: -inf\n",
      "[LightGBM] [Warning] Stopped training because there are no more leaves that meet the split requirements\n",
      "[LightGBM] [Warning] No further splits with positive gain, best gain: -inf\n",
      "[LightGBM] [Warning] Stopped training because there are no more leaves that meet the split requirements\n",
      "[LightGBM] [Warning] No further splits with positive gain, best gain: -inf\n",
      "[LightGBM] [Warning] Stopped training because there are no more leaves that meet the split requirements\n",
      "[LightGBM] [Warning] No further splits with positive gain, best gain: -inf\n",
      "[LightGBM] [Warning] Stopped training because there are no more leaves that meet the split requirements\n",
      "[LightGBM] [Warning] No further splits with positive gain, best gain: -inf\n",
      "[LightGBM] [Warning] Stopped training because there are no more leaves that meet the split requirements\n",
      "[LightGBM] [Warning] No further splits with positive gain, best gain: -inf\n",
      "[LightGBM] [Warning] Stopped training because there are no more leaves that meet the split requirements\n",
      "[LightGBM] [Warning] No further splits with positive gain, best gain: -inf\n",
      "[LightGBM] [Warning] Stopped training because there are no more leaves that meet the split requirements\n",
      "[LightGBM] [Warning] No further splits with positive gain, best gain: -inf\n",
      "[LightGBM] [Warning] Stopped training because there are no more leaves that meet the split requirements\n",
      "[LightGBM] [Warning] No further splits with positive gain, best gain: -inf\n",
      "[LightGBM] [Warning] Stopped training because there are no more leaves that meet the split requirements\n",
      "[LightGBM] [Warning] No further splits with positive gain, best gain: -inf\n",
      "[LightGBM] [Warning] Stopped training because there are no more leaves that meet the split requirements\n",
      "[LightGBM] [Warning] No further splits with positive gain, best gain: -inf\n",
      "[LightGBM] [Warning] Stopped training because there are no more leaves that meet the split requirements\n",
      "[LightGBM] [Warning] No further splits with positive gain, best gain: -inf\n",
      "[LightGBM] [Warning] Stopped training because there are no more leaves that meet the split requirements\n",
      "[LightGBM] [Warning] No further splits with positive gain, best gain: -inf\n",
      "[LightGBM] [Warning] Stopped training because there are no more leaves that meet the split requirements\n",
      "[LightGBM] [Warning] No further splits with positive gain, best gain: -inf\n",
      "[LightGBM] [Warning] Stopped training because there are no more leaves that meet the split requirements\n",
      "[LightGBM] [Warning] No further splits with positive gain, best gain: -inf\n",
      "[LightGBM] [Warning] Stopped training because there are no more leaves that meet the split requirements\n",
      "[LightGBM] [Warning] No further splits with positive gain, best gain: -inf\n",
      "[LightGBM] [Warning] Stopped training because there are no more leaves that meet the split requirements\n",
      "[LightGBM] [Warning] No further splits with positive gain, best gain: -inf\n",
      "[LightGBM] [Warning] Stopped training because there are no more leaves that meet the split requirements\n",
      "[LightGBM] [Warning] No further splits with positive gain, best gain: -inf\n",
      "[LightGBM] [Warning] Stopped training because there are no more leaves that meet the split requirements\n",
      "[LightGBM] [Warning] No further splits with positive gain, best gain: -inf\n",
      "[LightGBM] [Warning] Stopped training because there are no more leaves that meet the split requirements\n",
      "[LightGBM] [Warning] No further splits with positive gain, best gain: -inf\n",
      "[LightGBM] [Warning] Stopped training because there are no more leaves that meet the split requirements\n",
      "[LightGBM] [Warning] No further splits with positive gain, best gain: -inf\n",
      "[LightGBM] [Warning] Stopped training because there are no more leaves that meet the split requirements\n",
      "[LightGBM] [Warning] No further splits with positive gain, best gain: -inf\n",
      "[LightGBM] [Warning] Stopped training because there are no more leaves that meet the split requirements\n",
      "[LightGBM] [Warning] No further splits with positive gain, best gain: -inf\n",
      "[LightGBM] [Warning] Stopped training because there are no more leaves that meet the split requirements\n",
      "[LightGBM] [Warning] No further splits with positive gain, best gain: -inf\n",
      "[LightGBM] [Warning] Stopped training because there are no more leaves that meet the split requirements\n",
      "[LightGBM] [Warning] No further splits with positive gain, best gain: -inf\n",
      "[LightGBM] [Warning] Stopped training because there are no more leaves that meet the split requirements\n",
      "[LightGBM] [Warning] No further splits with positive gain, best gain: -inf\n",
      "[LightGBM] [Warning] Stopped training because there are no more leaves that meet the split requirements\n",
      "[LightGBM] [Warning] No further splits with positive gain, best gain: -inf\n",
      "[LightGBM] [Warning] Stopped training because there are no more leaves that meet the split requirements\n",
      "[LightGBM] [Warning] No further splits with positive gain, best gain: -inf\n",
      "[LightGBM] [Warning] Stopped training because there are no more leaves that meet the split requirements\n",
      "[LightGBM] [Warning] No further splits with positive gain, best gain: -inf\n",
      "[LightGBM] [Warning] Stopped training because there are no more leaves that meet the split requirements\n",
      "[LightGBM] [Warning] No further splits with positive gain, best gain: -inf\n",
      "[LightGBM] [Warning] Stopped training because there are no more leaves that meet the split requirements\n",
      "[LightGBM] [Warning] No further splits with positive gain, best gain: -inf\n",
      "[LightGBM] [Warning] Stopped training because there are no more leaves that meet the split requirements\n",
      "[LightGBM] [Warning] No further splits with positive gain, best gain: -inf\n",
      "[LightGBM] [Warning] Stopped training because there are no more leaves that meet the split requirements\n",
      "[LightGBM] [Warning] No further splits with positive gain, best gain: -inf\n",
      "[LightGBM] [Warning] Stopped training because there are no more leaves that meet the split requirements\n",
      "[LightGBM] [Warning] No further splits with positive gain, best gain: -inf\n",
      "[LightGBM] [Warning] Stopped training because there are no more leaves that meet the split requirements\n",
      "[LightGBM] [Warning] No further splits with positive gain, best gain: -inf\n",
      "[LightGBM] [Warning] Stopped training because there are no more leaves that meet the split requirements\n",
      "[LightGBM] [Warning] No further splits with positive gain, best gain: -inf\n",
      "[LightGBM] [Warning] Stopped training because there are no more leaves that meet the split requirements\n",
      "[LightGBM] [Warning] No further splits with positive gain, best gain: -inf\n",
      "[LightGBM] [Warning] Stopped training because there are no more leaves that meet the split requirements\n",
      "[LightGBM] [Warning] No further splits with positive gain, best gain: -inf\n",
      "[LightGBM] [Warning] Stopped training because there are no more leaves that meet the split requirements\n",
      "[LightGBM] [Warning] No further splits with positive gain, best gain: -inf\n",
      "[LightGBM] [Warning] Stopped training because there are no more leaves that meet the split requirements\n",
      "[LightGBM] [Warning] No further splits with positive gain, best gain: -inf\n",
      "[LightGBM] [Warning] Stopped training because there are no more leaves that meet the split requirements\n",
      "[LightGBM] [Warning] No further splits with positive gain, best gain: -inf\n",
      "[LightGBM] [Warning] Stopped training because there are no more leaves that meet the split requirements\n",
      "[LightGBM] [Warning] No further splits with positive gain, best gain: -inf\n",
      "[LightGBM] [Warning] Stopped training because there are no more leaves that meet the split requirements\n",
      "[LightGBM] [Warning] No further splits with positive gain, best gain: -inf\n",
      "[LightGBM] [Warning] Stopped training because there are no more leaves that meet the split requirements\n",
      "[LightGBM] [Warning] No further splits with positive gain, best gain: -inf\n",
      "[LightGBM] [Warning] Stopped training because there are no more leaves that meet the split requirements\n",
      "[LightGBM] [Warning] No further splits with positive gain, best gain: -inf\n",
      "[LightGBM] [Warning] Stopped training because there are no more leaves that meet the split requirements\n",
      "[LightGBM] [Warning] No further splits with positive gain, best gain: -inf\n",
      "[LightGBM] [Warning] Stopped training because there are no more leaves that meet the split requirements\n",
      "[LightGBM] [Warning] No further splits with positive gain, best gain: -inf\n",
      "[LightGBM] [Warning] Stopped training because there are no more leaves that meet the split requirements\n",
      "[LightGBM] [Warning] No further splits with positive gain, best gain: -inf\n",
      "[LightGBM] [Warning] Stopped training because there are no more leaves that meet the split requirements\n",
      "[LightGBM] [Warning] No further splits with positive gain, best gain: -inf\n",
      "[LightGBM] [Warning] Stopped training because there are no more leaves that meet the split requirements\n",
      "[LightGBM] [Warning] No further splits with positive gain, best gain: -inf\n",
      "[LightGBM] [Warning] Stopped training because there are no more leaves that meet the split requirements\n",
      "[LightGBM] [Warning] No further splits with positive gain, best gain: -inf\n",
      "[LightGBM] [Warning] Stopped training because there are no more leaves that meet the split requirements\n",
      "[LightGBM] [Warning] No further splits with positive gain, best gain: -inf\n",
      "[LightGBM] [Warning] Stopped training because there are no more leaves that meet the split requirements\n",
      "[LightGBM] [Warning] No further splits with positive gain, best gain: -inf\n",
      "[LightGBM] [Warning] Stopped training because there are no more leaves that meet the split requirements\n",
      "[LightGBM] [Warning] No further splits with positive gain, best gain: -inf\n",
      "[LightGBM] [Warning] Stopped training because there are no more leaves that meet the split requirements\n",
      "[LightGBM] [Warning] No further splits with positive gain, best gain: -inf\n",
      "[LightGBM] [Warning] Stopped training because there are no more leaves that meet the split requirements\n",
      "[LightGBM] [Warning] No further splits with positive gain, best gain: -inf\n",
      "[LightGBM] [Warning] Stopped training because there are no more leaves that meet the split requirements\n",
      "[LightGBM] [Warning] No further splits with positive gain, best gain: -inf\n",
      "[LightGBM] [Warning] Stopped training because there are no more leaves that meet the split requirements\n",
      "[LightGBM] [Warning] No further splits with positive gain, best gain: -inf\n",
      "[LightGBM] [Warning] Stopped training because there are no more leaves that meet the split requirements\n",
      "[LightGBM] [Warning] No further splits with positive gain, best gain: -inf\n",
      "[LightGBM] [Warning] Stopped training because there are no more leaves that meet the split requirements\n",
      "[LightGBM] [Warning] No further splits with positive gain, best gain: -inf\n",
      "[LightGBM] [Warning] Stopped training because there are no more leaves that meet the split requirements\n",
      "[LightGBM] [Warning] No further splits with positive gain, best gain: -inf\n",
      "[LightGBM] [Warning] Stopped training because there are no more leaves that meet the split requirements\n",
      "[LightGBM] [Warning] No further splits with positive gain, best gain: -inf\n",
      "[LightGBM] [Warning] Stopped training because there are no more leaves that meet the split requirements\n",
      "[LightGBM] [Warning] No further splits with positive gain, best gain: -inf\n",
      "[LightGBM] [Warning] Stopped training because there are no more leaves that meet the split requirements\n",
      "[LightGBM] [Warning] No further splits with positive gain, best gain: -inf\n",
      "[LightGBM] [Warning] Stopped training because there are no more leaves that meet the split requirements\n",
      "[LightGBM] [Warning] No further splits with positive gain, best gain: -inf\n",
      "[LightGBM] [Warning] Stopped training because there are no more leaves that meet the split requirements\n",
      "[LightGBM] [Warning] No further splits with positive gain, best gain: -inf\n",
      "[LightGBM] [Warning] Stopped training because there are no more leaves that meet the split requirements\n",
      "[LightGBM] [Warning] No further splits with positive gain, best gain: -inf\n",
      "[LightGBM] [Warning] Stopped training because there are no more leaves that meet the split requirements\n",
      "[LightGBM] [Warning] No further splits with positive gain, best gain: -inf\n",
      "[LightGBM] [Warning] Stopped training because there are no more leaves that meet the split requirements\n",
      "[LightGBM] [Warning] No further splits with positive gain, best gain: -inf\n",
      "[LightGBM] [Warning] Stopped training because there are no more leaves that meet the split requirements\n",
      "[LightGBM] [Warning] No further splits with positive gain, best gain: -inf\n",
      "[LightGBM] [Warning] Stopped training because there are no more leaves that meet the split requirements\n",
      "[LightGBM] [Warning] No further splits with positive gain, best gain: -inf\n",
      "[LightGBM] [Warning] Stopped training because there are no more leaves that meet the split requirements\n",
      "[LightGBM] [Warning] No further splits with positive gain, best gain: -inf\n",
      "[LightGBM] [Warning] Stopped training because there are no more leaves that meet the split requirements\n",
      "[LightGBM] [Warning] No further splits with positive gain, best gain: -inf\n",
      "[LightGBM] [Warning] Stopped training because there are no more leaves that meet the split requirements\n",
      "[LightGBM] [Warning] No further splits with positive gain, best gain: -inf\n",
      "[LightGBM] [Warning] Stopped training because there are no more leaves that meet the split requirements\n",
      "[LightGBM] [Warning] No further splits with positive gain, best gain: -inf\n",
      "[LightGBM] [Warning] Stopped training because there are no more leaves that meet the split requirements\n",
      "[LightGBM] [Warning] No further splits with positive gain, best gain: -inf\n",
      "[LightGBM] [Warning] Stopped training because there are no more leaves that meet the split requirements\n",
      "[LightGBM] [Warning] No further splits with positive gain, best gain: -inf\n",
      "[LightGBM] [Warning] Stopped training because there are no more leaves that meet the split requirements\n",
      "[LightGBM] [Warning] No further splits with positive gain, best gain: -inf\n",
      "[LightGBM] [Warning] Stopped training because there are no more leaves that meet the split requirements\n",
      "[LightGBM] [Warning] No further splits with positive gain, best gain: -inf\n",
      "[LightGBM] [Warning] Stopped training because there are no more leaves that meet the split requirements\n",
      "[LightGBM] [Warning] No further splits with positive gain, best gain: -inf\n",
      "[LightGBM] [Warning] Stopped training because there are no more leaves that meet the split requirements\n",
      "[LightGBM] [Warning] No further splits with positive gain, best gain: -inf\n",
      "[LightGBM] [Warning] Stopped training because there are no more leaves that meet the split requirements\n",
      "[LightGBM] [Warning] No further splits with positive gain, best gain: -inf\n",
      "[LightGBM] [Warning] Stopped training because there are no more leaves that meet the split requirements\n",
      "[LightGBM] [Warning] No further splits with positive gain, best gain: -inf\n",
      "[LightGBM] [Warning] Stopped training because there are no more leaves that meet the split requirements\n",
      "[LightGBM] [Warning] No further splits with positive gain, best gain: -inf\n",
      "[LightGBM] [Warning] Stopped training because there are no more leaves that meet the split requirements\n",
      "[LightGBM] [Warning] No further splits with positive gain, best gain: -inf\n",
      "[LightGBM] [Warning] Stopped training because there are no more leaves that meet the split requirements\n",
      "[LightGBM] [Warning] No further splits with positive gain, best gain: -inf\n",
      "[LightGBM] [Warning] Stopped training because there are no more leaves that meet the split requirements\n",
      "[LightGBM] [Warning] No further splits with positive gain, best gain: -inf\n",
      "[LightGBM] [Warning] Stopped training because there are no more leaves that meet the split requirements\n",
      "[LightGBM] [Warning] No further splits with positive gain, best gain: -inf\n",
      "[LightGBM] [Warning] Stopped training because there are no more leaves that meet the split requirements\n",
      "[LightGBM] [Warning] No further splits with positive gain, best gain: -inf\n",
      "[LightGBM] [Warning] Stopped training because there are no more leaves that meet the split requirements\n",
      "[LightGBM] [Warning] No further splits with positive gain, best gain: -inf\n",
      "[LightGBM] [Warning] Stopped training because there are no more leaves that meet the split requirements\n",
      "[LightGBM] [Warning] No further splits with positive gain, best gain: -inf\n",
      "[LightGBM] [Warning] Stopped training because there are no more leaves that meet the split requirements\n",
      "[LightGBM] [Warning] No further splits with positive gain, best gain: -inf\n",
      "[LightGBM] [Warning] Stopped training because there are no more leaves that meet the split requirements\n",
      "[LightGBM] [Warning] No further splits with positive gain, best gain: -inf\n",
      "[LightGBM] [Warning] Stopped training because there are no more leaves that meet the split requirements\n",
      "[LightGBM] [Warning] No further splits with positive gain, best gain: -inf\n",
      "[LightGBM] [Warning] Stopped training because there are no more leaves that meet the split requirements\n",
      "[LightGBM] [Warning] No further splits with positive gain, best gain: -inf\n",
      "[LightGBM] [Warning] Stopped training because there are no more leaves that meet the split requirements\n",
      "[LightGBM] [Warning] No further splits with positive gain, best gain: -inf\n",
      "[LightGBM] [Warning] Stopped training because there are no more leaves that meet the split requirements\n",
      "[LightGBM] [Warning] No further splits with positive gain, best gain: -inf\n",
      "[LightGBM] [Warning] Stopped training because there are no more leaves that meet the split requirements\n",
      "[LightGBM] [Warning] No further splits with positive gain, best gain: -inf\n",
      "[LightGBM] [Warning] Stopped training because there are no more leaves that meet the split requirements\n",
      "[LightGBM] [Warning] No further splits with positive gain, best gain: -inf\n",
      "[LightGBM] [Warning] Stopped training because there are no more leaves that meet the split requirements\n",
      "[LightGBM] [Warning] No further splits with positive gain, best gain: -inf\n",
      "[LightGBM] [Warning] Stopped training because there are no more leaves that meet the split requirements\n",
      "[LightGBM] [Warning] No further splits with positive gain, best gain: -inf\n",
      "[LightGBM] [Warning] Stopped training because there are no more leaves that meet the split requirements\n",
      "[LightGBM] [Warning] No further splits with positive gain, best gain: -inf\n",
      "[LightGBM] [Warning] Stopped training because there are no more leaves that meet the split requirements\n",
      "[LightGBM] [Warning] No further splits with positive gain, best gain: -inf\n",
      "[LightGBM] [Warning] Stopped training because there are no more leaves that meet the split requirements\n",
      "[LightGBM] [Warning] No further splits with positive gain, best gain: -inf\n",
      "[LightGBM] [Warning] Stopped training because there are no more leaves that meet the split requirements\n",
      "[LightGBM] [Warning] No further splits with positive gain, best gain: -inf\n",
      "[LightGBM] [Warning] Stopped training because there are no more leaves that meet the split requirements\n",
      "[LightGBM] [Warning] No further splits with positive gain, best gain: -inf\n",
      "[LightGBM] [Warning] Stopped training because there are no more leaves that meet the split requirements\n",
      "[LightGBM] [Warning] No further splits with positive gain, best gain: -inf\n",
      "[LightGBM] [Warning] Stopped training because there are no more leaves that meet the split requirements\n",
      "[LightGBM] [Warning] No further splits with positive gain, best gain: -inf\n",
      "[LightGBM] [Warning] Stopped training because there are no more leaves that meet the split requirements\n",
      "[LightGBM] [Warning] No further splits with positive gain, best gain: -inf\n",
      "[LightGBM] [Warning] Stopped training because there are no more leaves that meet the split requirements\n",
      "[LightGBM] [Warning] No further splits with positive gain, best gain: -inf\n",
      "[LightGBM] [Warning] Stopped training because there are no more leaves that meet the split requirements\n",
      "[LightGBM] [Warning] No further splits with positive gain, best gain: -inf\n",
      "[LightGBM] [Warning] Stopped training because there are no more leaves that meet the split requirements\n",
      "[LightGBM] [Warning] No further splits with positive gain, best gain: -inf\n",
      "[LightGBM] [Warning] Stopped training because there are no more leaves that meet the split requirements\n",
      "[LightGBM] [Warning] No further splits with positive gain, best gain: -inf\n",
      "[LightGBM] [Warning] Stopped training because there are no more leaves that meet the split requirements\n",
      "[LightGBM] [Warning] No further splits with positive gain, best gain: -inf\n",
      "[LightGBM] [Warning] Stopped training because there are no more leaves that meet the split requirements\n",
      "[LightGBM] [Warning] No further splits with positive gain, best gain: -inf\n",
      "[LightGBM] [Warning] Stopped training because there are no more leaves that meet the split requirements\n",
      "[LightGBM] [Warning] No further splits with positive gain, best gain: -inf\n",
      "[LightGBM] [Warning] Stopped training because there are no more leaves that meet the split requirements\n",
      "[LightGBM] [Warning] No further splits with positive gain, best gain: -inf\n",
      "[LightGBM] [Warning] Stopped training because there are no more leaves that meet the split requirements\n",
      "[LightGBM] [Warning] No further splits with positive gain, best gain: -inf\n",
      "[LightGBM] [Warning] Stopped training because there are no more leaves that meet the split requirements\n",
      "[LightGBM] [Warning] No further splits with positive gain, best gain: -inf\n",
      "[LightGBM] [Warning] Stopped training because there are no more leaves that meet the split requirements\n",
      "[LightGBM] [Warning] No further splits with positive gain, best gain: -inf\n",
      "[LightGBM] [Warning] Stopped training because there are no more leaves that meet the split requirements\n",
      "[LightGBM] [Warning] No further splits with positive gain, best gain: -inf\n",
      "[LightGBM] [Warning] Stopped training because there are no more leaves that meet the split requirements\n",
      "[LightGBM] [Warning] No further splits with positive gain, best gain: -inf\n",
      "[LightGBM] [Warning] Stopped training because there are no more leaves that meet the split requirements\n",
      "[LightGBM] [Warning] No further splits with positive gain, best gain: -inf\n",
      "[LightGBM] [Warning] Stopped training because there are no more leaves that meet the split requirements\n",
      "[LightGBM] [Warning] No further splits with positive gain, best gain: -inf\n",
      "[LightGBM] [Warning] Stopped training because there are no more leaves that meet the split requirements\n",
      "[LightGBM] [Warning] No further splits with positive gain, best gain: -inf\n",
      "[LightGBM] [Warning] Stopped training because there are no more leaves that meet the split requirements\n",
      "[LightGBM] [Warning] No further splits with positive gain, best gain: -inf\n",
      "[LightGBM] [Warning] Stopped training because there are no more leaves that meet the split requirements\n",
      "[LightGBM] [Warning] No further splits with positive gain, best gain: -inf\n",
      "[LightGBM] [Warning] Stopped training because there are no more leaves that meet the split requirements\n",
      "[LightGBM] [Warning] No further splits with positive gain, best gain: -inf\n",
      "[LightGBM] [Warning] Stopped training because there are no more leaves that meet the split requirements\n",
      "[LightGBM] [Warning] No further splits with positive gain, best gain: -inf\n",
      "[LightGBM] [Warning] Stopped training because there are no more leaves that meet the split requirements\n",
      "[LightGBM] [Warning] No further splits with positive gain, best gain: -inf\n",
      "[LightGBM] [Warning] Stopped training because there are no more leaves that meet the split requirements\n",
      "[LightGBM] [Warning] No further splits with positive gain, best gain: -inf\n",
      "[LightGBM] [Warning] Stopped training because there are no more leaves that meet the split requirements\n",
      "[LightGBM] [Warning] No further splits with positive gain, best gain: -inf\n",
      "[LightGBM] [Warning] Stopped training because there are no more leaves that meet the split requirements\n",
      "[LightGBM] [Warning] No further splits with positive gain, best gain: -inf\n",
      "[LightGBM] [Warning] Stopped training because there are no more leaves that meet the split requirements\n",
      "[LightGBM] [Warning] No further splits with positive gain, best gain: -inf\n",
      "[LightGBM] [Warning] Stopped training because there are no more leaves that meet the split requirements\n",
      "[LightGBM] [Warning] No further splits with positive gain, best gain: -inf\n",
      "[LightGBM] [Warning] Stopped training because there are no more leaves that meet the split requirements\n",
      "[LightGBM] [Warning] No further splits with positive gain, best gain: -inf\n",
      "[LightGBM] [Warning] Stopped training because there are no more leaves that meet the split requirements\n",
      "[LightGBM] [Warning] No further splits with positive gain, best gain: -inf\n",
      "[LightGBM] [Warning] Stopped training because there are no more leaves that meet the split requirements\n",
      "[LightGBM] [Warning] No further splits with positive gain, best gain: -inf\n",
      "[LightGBM] [Warning] Stopped training because there are no more leaves that meet the split requirements\n",
      "[LightGBM] [Warning] No further splits with positive gain, best gain: -inf\n",
      "[LightGBM] [Warning] Stopped training because there are no more leaves that meet the split requirements\n",
      "[LightGBM] [Warning] No further splits with positive gain, best gain: -inf\n",
      "[LightGBM] [Warning] Stopped training because there are no more leaves that meet the split requirements\n",
      "[LightGBM] [Warning] No further splits with positive gain, best gain: -inf\n",
      "[LightGBM] [Warning] Stopped training because there are no more leaves that meet the split requirements\n",
      "[LightGBM] [Warning] No further splits with positive gain, best gain: -inf\n",
      "[LightGBM] [Warning] Stopped training because there are no more leaves that meet the split requirements\n",
      "[LightGBM] [Warning] No further splits with positive gain, best gain: -inf\n",
      "[LightGBM] [Warning] Stopped training because there are no more leaves that meet the split requirements\n",
      "[LightGBM] [Warning] No further splits with positive gain, best gain: -inf\n",
      "[LightGBM] [Warning] Stopped training because there are no more leaves that meet the split requirements\n",
      "[LightGBM] [Warning] No further splits with positive gain, best gain: -inf\n",
      "[LightGBM] [Warning] Stopped training because there are no more leaves that meet the split requirements\n",
      "[LightGBM] [Warning] No further splits with positive gain, best gain: -inf\n",
      "[LightGBM] [Warning] Stopped training because there are no more leaves that meet the split requirements\n",
      "[LightGBM] [Warning] No further splits with positive gain, best gain: -inf\n",
      "[LightGBM] [Warning] Stopped training because there are no more leaves that meet the split requirements\n",
      "[LightGBM] [Warning] No further splits with positive gain, best gain: -inf\n",
      "[LightGBM] [Warning] Stopped training because there are no more leaves that meet the split requirements\n",
      "[LightGBM] [Warning] No further splits with positive gain, best gain: -inf\n",
      "[LightGBM] [Warning] Stopped training because there are no more leaves that meet the split requirements\n",
      "[LightGBM] [Warning] No further splits with positive gain, best gain: -inf\n",
      "[LightGBM] [Warning] Stopped training because there are no more leaves that meet the split requirements\n",
      "[LightGBM] [Warning] No further splits with positive gain, best gain: -inf\n",
      "[LightGBM] [Warning] Stopped training because there are no more leaves that meet the split requirements\n",
      "[LightGBM] [Warning] No further splits with positive gain, best gain: -inf\n",
      "[LightGBM] [Warning] Stopped training because there are no more leaves that meet the split requirements\n",
      "[LightGBM] [Warning] No further splits with positive gain, best gain: -inf\n",
      "[LightGBM] [Warning] Stopped training because there are no more leaves that meet the split requirements\n",
      "[LightGBM] [Warning] No further splits with positive gain, best gain: -inf\n",
      "[LightGBM] [Warning] Stopped training because there are no more leaves that meet the split requirements\n",
      "[LightGBM] [Warning] No further splits with positive gain, best gain: -inf\n",
      "[LightGBM] [Warning] Stopped training because there are no more leaves that meet the split requirements\n",
      "[LightGBM] [Warning] No further splits with positive gain, best gain: -inf\n",
      "[LightGBM] [Warning] Stopped training because there are no more leaves that meet the split requirements\n",
      "[LightGBM] [Warning] No further splits with positive gain, best gain: -inf\n",
      "[LightGBM] [Warning] Stopped training because there are no more leaves that meet the split requirements\n",
      "[LightGBM] [Warning] No further splits with positive gain, best gain: -inf\n",
      "[LightGBM] [Warning] Stopped training because there are no more leaves that meet the split requirements\n",
      "[LightGBM] [Warning] No further splits with positive gain, best gain: -inf\n",
      "[LightGBM] [Warning] Stopped training because there are no more leaves that meet the split requirements\n",
      "[LightGBM] [Warning] No further splits with positive gain, best gain: -inf\n",
      "[LightGBM] [Warning] Stopped training because there are no more leaves that meet the split requirements\n",
      "[LightGBM] [Warning] No further splits with positive gain, best gain: -inf\n",
      "[LightGBM] [Warning] Stopped training because there are no more leaves that meet the split requirements\n",
      "[LightGBM] [Warning] No further splits with positive gain, best gain: -inf\n",
      "[LightGBM] [Warning] Stopped training because there are no more leaves that meet the split requirements\n",
      "[LightGBM] [Warning] No further splits with positive gain, best gain: -inf\n",
      "[LightGBM] [Warning] Stopped training because there are no more leaves that meet the split requirements\n",
      "[LightGBM] [Warning] No further splits with positive gain, best gain: -inf\n",
      "[LightGBM] [Warning] Stopped training because there are no more leaves that meet the split requirements\n",
      "[LightGBM] [Warning] No further splits with positive gain, best gain: -inf\n",
      "[LightGBM] [Warning] Stopped training because there are no more leaves that meet the split requirements\n",
      "[LightGBM] [Warning] No further splits with positive gain, best gain: -inf\n",
      "[LightGBM] [Warning] Stopped training because there are no more leaves that meet the split requirements\n",
      "[LightGBM] [Warning] No further splits with positive gain, best gain: -inf\n",
      "[LightGBM] [Warning] Stopped training because there are no more leaves that meet the split requirements\n",
      "[LightGBM] [Warning] No further splits with positive gain, best gain: -inf\n",
      "[LightGBM] [Warning] Stopped training because there are no more leaves that meet the split requirements\n",
      "[LightGBM] [Warning] No further splits with positive gain, best gain: -inf\n",
      "[LightGBM] [Warning] Stopped training because there are no more leaves that meet the split requirements\n",
      "[LightGBM] [Warning] No further splits with positive gain, best gain: -inf\n",
      "[LightGBM] [Warning] Stopped training because there are no more leaves that meet the split requirements\n",
      "[LightGBM] [Warning] No further splits with positive gain, best gain: -inf\n",
      "[LightGBM] [Warning] Stopped training because there are no more leaves that meet the split requirements\n",
      "[LightGBM] [Warning] No further splits with positive gain, best gain: -inf\n",
      "[LightGBM] [Warning] Stopped training because there are no more leaves that meet the split requirements\n",
      "[LightGBM] [Warning] No further splits with positive gain, best gain: -inf\n",
      "[LightGBM] [Warning] Stopped training because there are no more leaves that meet the split requirements\n",
      "[LightGBM] [Warning] No further splits with positive gain, best gain: -inf\n",
      "[LightGBM] [Warning] Stopped training because there are no more leaves that meet the split requirements\n",
      "[LightGBM] [Warning] No further splits with positive gain, best gain: -inf\n",
      "[LightGBM] [Warning] Stopped training because there are no more leaves that meet the split requirements\n",
      "[LightGBM] [Warning] No further splits with positive gain, best gain: -inf\n",
      "[LightGBM] [Warning] Stopped training because there are no more leaves that meet the split requirements\n",
      "[LightGBM] [Warning] No further splits with positive gain, best gain: -inf\n",
      "[LightGBM] [Warning] Stopped training because there are no more leaves that meet the split requirements\n",
      "[LightGBM] [Warning] No further splits with positive gain, best gain: -inf\n",
      "[LightGBM] [Warning] Stopped training because there are no more leaves that meet the split requirements\n",
      "[LightGBM] [Warning] No further splits with positive gain, best gain: -inf\n",
      "[LightGBM] [Warning] Stopped training because there are no more leaves that meet the split requirements\n",
      "[LightGBM] [Warning] No further splits with positive gain, best gain: -inf\n",
      "[LightGBM] [Warning] Stopped training because there are no more leaves that meet the split requirements\n",
      "[LightGBM] [Warning] No further splits with positive gain, best gain: -inf\n",
      "[LightGBM] [Warning] Stopped training because there are no more leaves that meet the split requirements\n",
      "[LightGBM] [Warning] No further splits with positive gain, best gain: -inf\n",
      "[LightGBM] [Warning] Stopped training because there are no more leaves that meet the split requirements\n",
      "[LightGBM] [Warning] No further splits with positive gain, best gain: -inf\n",
      "[LightGBM] [Warning] Stopped training because there are no more leaves that meet the split requirements\n",
      "[LightGBM] [Warning] No further splits with positive gain, best gain: -inf\n",
      "[LightGBM] [Warning] Stopped training because there are no more leaves that meet the split requirements\n",
      "[LightGBM] [Warning] No further splits with positive gain, best gain: -inf\n",
      "[LightGBM] [Warning] Stopped training because there are no more leaves that meet the split requirements\n",
      "[LightGBM] [Warning] No further splits with positive gain, best gain: -inf\n",
      "[LightGBM] [Warning] Stopped training because there are no more leaves that meet the split requirements\n",
      "[LightGBM] [Warning] No further splits with positive gain, best gain: -inf\n",
      "[LightGBM] [Warning] Stopped training because there are no more leaves that meet the split requirements\n",
      "[LightGBM] [Warning] No further splits with positive gain, best gain: -inf\n",
      "[LightGBM] [Warning] Stopped training because there are no more leaves that meet the split requirements\n",
      "[LightGBM] [Warning] No further splits with positive gain, best gain: -inf\n",
      "[LightGBM] [Warning] Stopped training because there are no more leaves that meet the split requirements\n",
      "[LightGBM] [Warning] No further splits with positive gain, best gain: -inf\n",
      "[LightGBM] [Warning] Stopped training because there are no more leaves that meet the split requirements\n",
      "[LightGBM] [Warning] No further splits with positive gain, best gain: -inf\n",
      "[LightGBM] [Warning] Stopped training because there are no more leaves that meet the split requirements\n",
      "[LightGBM] [Warning] No further splits with positive gain, best gain: -inf\n",
      "[LightGBM] [Warning] Stopped training because there are no more leaves that meet the split requirements\n",
      "[LightGBM] [Warning] No further splits with positive gain, best gain: -inf\n",
      "[LightGBM] [Warning] Stopped training because there are no more leaves that meet the split requirements\n",
      "[LightGBM] [Warning] No further splits with positive gain, best gain: -inf\n",
      "[LightGBM] [Warning] Stopped training because there are no more leaves that meet the split requirements\n",
      "[LightGBM] [Warning] No further splits with positive gain, best gain: -inf\n",
      "[LightGBM] [Warning] Stopped training because there are no more leaves that meet the split requirements\n",
      "[LightGBM] [Warning] No further splits with positive gain, best gain: -inf\n",
      "[LightGBM] [Warning] Stopped training because there are no more leaves that meet the split requirements\n",
      "[LightGBM] [Warning] No further splits with positive gain, best gain: -inf\n",
      "[LightGBM] [Warning] Stopped training because there are no more leaves that meet the split requirements\n",
      "[LightGBM] [Warning] No further splits with positive gain, best gain: -inf\n",
      "[LightGBM] [Warning] Stopped training because there are no more leaves that meet the split requirements\n",
      "[LightGBM] [Warning] No further splits with positive gain, best gain: -inf\n",
      "[LightGBM] [Warning] Stopped training because there are no more leaves that meet the split requirements\n",
      "[LightGBM] [Warning] No further splits with positive gain, best gain: -inf\n",
      "[LightGBM] [Warning] Stopped training because there are no more leaves that meet the split requirements\n",
      "[LightGBM] [Warning] No further splits with positive gain, best gain: -inf\n",
      "[LightGBM] [Warning] Stopped training because there are no more leaves that meet the split requirements\n",
      "[LightGBM] [Warning] No further splits with positive gain, best gain: -inf\n",
      "[LightGBM] [Warning] Stopped training because there are no more leaves that meet the split requirements\n",
      "[LightGBM] [Warning] No further splits with positive gain, best gain: -inf\n",
      "[LightGBM] [Warning] Stopped training because there are no more leaves that meet the split requirements\n",
      "[LightGBM] [Warning] No further splits with positive gain, best gain: -inf\n",
      "[LightGBM] [Warning] Stopped training because there are no more leaves that meet the split requirements\n",
      "[LightGBM] [Warning] No further splits with positive gain, best gain: -inf\n",
      "[LightGBM] [Warning] Stopped training because there are no more leaves that meet the split requirements\n",
      "[LightGBM] [Warning] No further splits with positive gain, best gain: -inf\n",
      "[LightGBM] [Warning] Stopped training because there are no more leaves that meet the split requirements\n",
      "[LightGBM] [Warning] No further splits with positive gain, best gain: -inf\n",
      "[LightGBM] [Warning] Stopped training because there are no more leaves that meet the split requirements\n",
      "[LightGBM] [Warning] No further splits with positive gain, best gain: -inf\n",
      "[LightGBM] [Warning] Stopped training because there are no more leaves that meet the split requirements\n",
      "[LightGBM] [Warning] No further splits with positive gain, best gain: -inf\n",
      "[LightGBM] [Warning] Stopped training because there are no more leaves that meet the split requirements\n",
      "[LightGBM] [Warning] No further splits with positive gain, best gain: -inf\n",
      "[LightGBM] [Warning] Stopped training because there are no more leaves that meet the split requirements\n",
      "[LightGBM] [Warning] No further splits with positive gain, best gain: -inf\n",
      "[LightGBM] [Warning] Stopped training because there are no more leaves that meet the split requirements\n",
      "[LightGBM] [Warning] No further splits with positive gain, best gain: -inf\n",
      "[LightGBM] [Warning] Stopped training because there are no more leaves that meet the split requirements\n",
      "[LightGBM] [Warning] No further splits with positive gain, best gain: -inf\n",
      "[LightGBM] [Warning] Stopped training because there are no more leaves that meet the split requirements\n",
      "[LightGBM] [Warning] No further splits with positive gain, best gain: -inf\n",
      "[LightGBM] [Warning] Stopped training because there are no more leaves that meet the split requirements\n",
      "[LightGBM] [Warning] No further splits with positive gain, best gain: -inf\n",
      "[LightGBM] [Warning] Stopped training because there are no more leaves that meet the split requirements\n",
      "[LightGBM] [Warning] No further splits with positive gain, best gain: -inf\n",
      "[LightGBM] [Warning] Stopped training because there are no more leaves that meet the split requirements\n",
      "[LightGBM] [Warning] No further splits with positive gain, best gain: -inf\n",
      "[LightGBM] [Warning] Stopped training because there are no more leaves that meet the split requirements\n",
      "[LightGBM] [Warning] No further splits with positive gain, best gain: -inf\n",
      "[LightGBM] [Warning] Stopped training because there are no more leaves that meet the split requirements\n",
      "[LightGBM] [Warning] No further splits with positive gain, best gain: -inf\n",
      "[LightGBM] [Warning] Stopped training because there are no more leaves that meet the split requirements\n",
      "[LightGBM] [Warning] No further splits with positive gain, best gain: -inf\n",
      "[LightGBM] [Warning] Stopped training because there are no more leaves that meet the split requirements\n",
      "[LightGBM] [Warning] No further splits with positive gain, best gain: -inf\n",
      "[LightGBM] [Warning] Stopped training because there are no more leaves that meet the split requirements\n",
      "[LightGBM] [Warning] No further splits with positive gain, best gain: -inf\n",
      "[LightGBM] [Warning] Stopped training because there are no more leaves that meet the split requirements\n",
      "[LightGBM] [Warning] No further splits with positive gain, best gain: -inf\n",
      "[LightGBM] [Warning] Stopped training because there are no more leaves that meet the split requirements\n",
      "[LightGBM] [Warning] No further splits with positive gain, best gain: -inf\n",
      "[LightGBM] [Warning] Stopped training because there are no more leaves that meet the split requirements\n",
      "[LightGBM] [Warning] No further splits with positive gain, best gain: -inf\n",
      "[LightGBM] [Warning] Stopped training because there are no more leaves that meet the split requirements\n",
      "[LightGBM] [Warning] No further splits with positive gain, best gain: -inf\n",
      "[LightGBM] [Warning] Stopped training because there are no more leaves that meet the split requirements\n",
      "[LightGBM] [Warning] No further splits with positive gain, best gain: -inf\n",
      "[LightGBM] [Warning] Stopped training because there are no more leaves that meet the split requirements\n",
      "[LightGBM] [Warning] No further splits with positive gain, best gain: -inf\n",
      "[LightGBM] [Warning] Stopped training because there are no more leaves that meet the split requirements\n",
      "[LightGBM] [Warning] No further splits with positive gain, best gain: -inf\n",
      "[LightGBM] [Warning] Stopped training because there are no more leaves that meet the split requirements\n",
      "[LightGBM] [Warning] No further splits with positive gain, best gain: -inf\n",
      "[LightGBM] [Warning] Stopped training because there are no more leaves that meet the split requirements\n",
      "[LightGBM] [Warning] No further splits with positive gain, best gain: -inf\n",
      "[LightGBM] [Warning] Stopped training because there are no more leaves that meet the split requirements\n",
      "[LightGBM] [Warning] No further splits with positive gain, best gain: -inf\n",
      "[LightGBM] [Warning] Stopped training because there are no more leaves that meet the split requirements\n",
      "[LightGBM] [Warning] No further splits with positive gain, best gain: -inf\n",
      "[LightGBM] [Warning] Stopped training because there are no more leaves that meet the split requirements\n",
      "[LightGBM] [Warning] No further splits with positive gain, best gain: -inf\n",
      "[LightGBM] [Warning] Stopped training because there are no more leaves that meet the split requirements\n",
      "[LightGBM] [Warning] No further splits with positive gain, best gain: -inf\n",
      "[LightGBM] [Warning] Stopped training because there are no more leaves that meet the split requirements\n",
      "[LightGBM] [Warning] No further splits with positive gain, best gain: -inf\n",
      "[LightGBM] [Warning] Stopped training because there are no more leaves that meet the split requirements\n",
      "[LightGBM] [Warning] No further splits with positive gain, best gain: -inf\n",
      "[LightGBM] [Warning] Stopped training because there are no more leaves that meet the split requirements\n",
      "[LightGBM] [Warning] No further splits with positive gain, best gain: -inf\n",
      "[LightGBM] [Warning] Stopped training because there are no more leaves that meet the split requirements\n",
      "[LightGBM] [Warning] No further splits with positive gain, best gain: -inf\n",
      "[LightGBM] [Warning] Stopped training because there are no more leaves that meet the split requirements\n",
      "[LightGBM] [Warning] No further splits with positive gain, best gain: -inf\n",
      "[LightGBM] [Warning] Stopped training because there are no more leaves that meet the split requirements\n",
      "[LightGBM] [Warning] No further splits with positive gain, best gain: -inf\n",
      "[LightGBM] [Warning] Stopped training because there are no more leaves that meet the split requirements\n",
      "[LightGBM] [Warning] No further splits with positive gain, best gain: -inf\n",
      "[LightGBM] [Warning] Stopped training because there are no more leaves that meet the split requirements\n",
      "[LightGBM] [Warning] No further splits with positive gain, best gain: -inf\n",
      "[LightGBM] [Warning] Stopped training because there are no more leaves that meet the split requirements\n",
      "[LightGBM] [Warning] No further splits with positive gain, best gain: -inf\n",
      "[LightGBM] [Warning] Stopped training because there are no more leaves that meet the split requirements\n",
      "[LightGBM] [Warning] No further splits with positive gain, best gain: -inf\n",
      "[LightGBM] [Warning] Stopped training because there are no more leaves that meet the split requirements\n",
      "[LightGBM] [Warning] No further splits with positive gain, best gain: -inf\n",
      "[LightGBM] [Warning] Stopped training because there are no more leaves that meet the split requirements\n"
     ]
    }
   ],
   "source": [
    "# FIT THE MODEL\n",
    "\n",
    "import lightgbm as lgb\n",
    "import xgboost as xgb\n",
    "from sklearn.model_selection import train_test_split\n",
    "\n",
    "# model = LGBMClassifier(**best_params)\n",
    "\n",
    "# params = dict(\n",
    "#     verbosity=-1,\n",
    "#     boosting_type=\"gbdt\",\n",
    "#     max_depth=4,\n",
    "#     min_child_samples=30,\n",
    "#     learning_rate=0.1245928917280467,\n",
    "#     num_leaves=6,\n",
    "#     n_estimators=1000,\n",
    "#     subsample_for_bin=20000,\n",
    "#     subsample=1.0,\n",
    "#     objective=\"binary\",\n",
    "#     scale_pos_weight=27,\n",
    "#     min_split_gain=2.52381000405986e-06,\n",
    "#     min_child_weight=5.544840854157574e-06,\n",
    "#     reg_alpha=3.629909607712911e-05,\n",
    "#     reg_lambda=3.671749546766942e-05,\n",
    "#     n_jobs=-1,\n",
    "#     # linear_tree=True,\n",
    "#     metric=\"auc\",\n",
    "#     # max_bin=255,\n",
    "#     # tree_method=\"exact\",\n",
    "#     # grow_policy=\"lossguide\",\n",
    "#     # sampling_method=\"uniform\",\n",
    "# )\n",
    "from copy import deepcopy\n",
    "\n",
    "params = deepcopy(best_params)\n",
    "\n",
    "X_train, X_test, y_train, y_test = train_test_split(\n",
    "    tfidf_scores, labels, test_size=0.333, stratify=labels, random_state=8\n",
    ")\n",
    "num_boost_round = params.pop(\"n_estimators\")\n",
    "dtrain = lgb.Dataset(X_train, label=y_train, free_raw_data=True)\n",
    "model = lgb.train(params, dtrain, num_boost_round=num_boost_round)\n"
   ]
  },
  {
   "cell_type": "code",
   "execution_count": 9,
   "metadata": {},
   "outputs": [
    {
     "data": {
      "application/vnd.plotly.v1+json": {
       "config": {
        "plotlyServerURL": "https://plot.ly"
       },
       "data": [
        {
         "customdata": [
          [
           "inf"
          ],
          [
           "5.07"
          ],
          [
           "2.884"
          ],
          [
           "1.027"
          ],
          [
           "0.8905"
          ],
          [
           "-0.6158"
          ],
          [
           "-0.7681"
          ],
          [
           "-0.8651"
          ],
          [
           "-1.041"
          ],
          [
           "-2.816"
          ],
          [
           "-2.873"
          ],
          [
           "-3.447"
          ],
          [
           "-3.478"
          ],
          [
           "-3.698"
          ],
          [
           "-3.726"
          ],
          [
           "-4.362"
          ],
          [
           "-4.376"
          ],
          [
           "-4.413"
          ],
          [
           "-4.418"
          ],
          [
           "-4.805"
          ],
          [
           "-4.814"
          ],
          [
           "-5.083"
          ],
          [
           "-5.093"
          ],
          [
           "-5.151"
          ],
          [
           "-5.169"
          ],
          [
           "-5.734"
          ],
          [
           "-5.761"
          ],
          [
           "-6.035"
          ],
          [
           "-6.04"
          ],
          [
           "-8.89"
          ]
         ],
         "fillpattern": {
          "shape": ""
         },
         "hovertemplate": "False Positive Rate=%{x}<br>True Positive Rate=%{y}<br>Threshold=%{customdata[0]}<extra></extra>",
         "legendgroup": "",
         "line": {
          "color": "#636efa"
         },
         "marker": {
          "symbol": "circle"
         },
         "mode": "lines",
         "name": "",
         "orientation": "v",
         "showlegend": false,
         "stackgroup": "1",
         "type": "scatter",
         "x": {
          "bdata": "AAAAAAAAAAAAAAAAAAAAAAAAAAAAAAAAmRCGTrWkfj+ZEIZOtaR+P1k0zm0U4KE/WTTObRTgoT9mYFk0zm2kP2ZgWTTObaQ/hk61pB7Quj+GTrWkHtC6P13/cN+Cg8I/Xf9w34KDwj9zjOT6h/vGP3OM5PqH+8Y/1QNaw+7q0D/VA1rD7urQPxcclJiBZdE/FxyUmIFl0T/rkM3e82LVP232nhertNU/fO3MT9Pl2D/+Up6IijfZP0Br2F0dstk/hk61pB7Q2j/52pmfpsvhP9uZn6bLMeI/BgclZmBZ5D9L6gGtYXflPwAAAAAAAPA/",
          "dtype": "f8"
         },
         "xaxis": "x",
         "y": {
          "bdata": "AAAAAAAAAAARERERERHBP1VVVVVVVdU/VVVVVVVV1T/e3d3d3d3dP97d3d3d3d0/MzMzMzMz4z8zMzMzMzPjP1VVVVVVVeU/VVVVVVVV5T93d3d3d3fnP3d3d3d3d+c/mpmZmZmZ6T+amZmZmZnpP7y7u7u7u+s/vLu7u7u76z/e3d3d3d3tP97d3d3d3e0/AAAAAAAA8D8AAAAAAADwPwAAAAAAAPA/AAAAAAAA8D8AAAAAAADwPwAAAAAAAPA/AAAAAAAA8D8AAAAAAADwPwAAAAAAAPA/AAAAAAAA8D8AAAAAAADwPwAAAAAAAPA/",
          "dtype": "f8"
         },
         "yaxis": "y"
        }
       ],
       "layout": {
        "height": 600,
        "legend": {
         "tracegroupgap": 0
        },
        "shapes": [
         {
          "line": {
           "color": "grey",
           "dash": "dash"
          },
          "type": "line",
          "x0": 0,
          "x1": 1,
          "y0": 0,
          "y1": 1
         }
        ],
        "template": {
         "data": {
          "bar": [
           {
            "error_x": {
             "color": "#2a3f5f"
            },
            "error_y": {
             "color": "#2a3f5f"
            },
            "marker": {
             "line": {
              "color": "#E5ECF6",
              "width": 0.5
             },
             "pattern": {
              "fillmode": "overlay",
              "size": 10,
              "solidity": 0.2
             }
            },
            "type": "bar"
           }
          ],
          "barpolar": [
           {
            "marker": {
             "line": {
              "color": "#E5ECF6",
              "width": 0.5
             },
             "pattern": {
              "fillmode": "overlay",
              "size": 10,
              "solidity": 0.2
             }
            },
            "type": "barpolar"
           }
          ],
          "carpet": [
           {
            "aaxis": {
             "endlinecolor": "#2a3f5f",
             "gridcolor": "white",
             "linecolor": "white",
             "minorgridcolor": "white",
             "startlinecolor": "#2a3f5f"
            },
            "baxis": {
             "endlinecolor": "#2a3f5f",
             "gridcolor": "white",
             "linecolor": "white",
             "minorgridcolor": "white",
             "startlinecolor": "#2a3f5f"
            },
            "type": "carpet"
           }
          ],
          "choropleth": [
           {
            "colorbar": {
             "outlinewidth": 0,
             "ticks": ""
            },
            "type": "choropleth"
           }
          ],
          "contour": [
           {
            "colorbar": {
             "outlinewidth": 0,
             "ticks": ""
            },
            "colorscale": [
             [
              0,
              "#0d0887"
             ],
             [
              0.1111111111111111,
              "#46039f"
             ],
             [
              0.2222222222222222,
              "#7201a8"
             ],
             [
              0.3333333333333333,
              "#9c179e"
             ],
             [
              0.4444444444444444,
              "#bd3786"
             ],
             [
              0.5555555555555556,
              "#d8576b"
             ],
             [
              0.6666666666666666,
              "#ed7953"
             ],
             [
              0.7777777777777778,
              "#fb9f3a"
             ],
             [
              0.8888888888888888,
              "#fdca26"
             ],
             [
              1,
              "#f0f921"
             ]
            ],
            "type": "contour"
           }
          ],
          "contourcarpet": [
           {
            "colorbar": {
             "outlinewidth": 0,
             "ticks": ""
            },
            "type": "contourcarpet"
           }
          ],
          "heatmap": [
           {
            "colorbar": {
             "outlinewidth": 0,
             "ticks": ""
            },
            "colorscale": [
             [
              0,
              "#0d0887"
             ],
             [
              0.1111111111111111,
              "#46039f"
             ],
             [
              0.2222222222222222,
              "#7201a8"
             ],
             [
              0.3333333333333333,
              "#9c179e"
             ],
             [
              0.4444444444444444,
              "#bd3786"
             ],
             [
              0.5555555555555556,
              "#d8576b"
             ],
             [
              0.6666666666666666,
              "#ed7953"
             ],
             [
              0.7777777777777778,
              "#fb9f3a"
             ],
             [
              0.8888888888888888,
              "#fdca26"
             ],
             [
              1,
              "#f0f921"
             ]
            ],
            "type": "heatmap"
           }
          ],
          "histogram": [
           {
            "marker": {
             "pattern": {
              "fillmode": "overlay",
              "size": 10,
              "solidity": 0.2
             }
            },
            "type": "histogram"
           }
          ],
          "histogram2d": [
           {
            "colorbar": {
             "outlinewidth": 0,
             "ticks": ""
            },
            "colorscale": [
             [
              0,
              "#0d0887"
             ],
             [
              0.1111111111111111,
              "#46039f"
             ],
             [
              0.2222222222222222,
              "#7201a8"
             ],
             [
              0.3333333333333333,
              "#9c179e"
             ],
             [
              0.4444444444444444,
              "#bd3786"
             ],
             [
              0.5555555555555556,
              "#d8576b"
             ],
             [
              0.6666666666666666,
              "#ed7953"
             ],
             [
              0.7777777777777778,
              "#fb9f3a"
             ],
             [
              0.8888888888888888,
              "#fdca26"
             ],
             [
              1,
              "#f0f921"
             ]
            ],
            "type": "histogram2d"
           }
          ],
          "histogram2dcontour": [
           {
            "colorbar": {
             "outlinewidth": 0,
             "ticks": ""
            },
            "colorscale": [
             [
              0,
              "#0d0887"
             ],
             [
              0.1111111111111111,
              "#46039f"
             ],
             [
              0.2222222222222222,
              "#7201a8"
             ],
             [
              0.3333333333333333,
              "#9c179e"
             ],
             [
              0.4444444444444444,
              "#bd3786"
             ],
             [
              0.5555555555555556,
              "#d8576b"
             ],
             [
              0.6666666666666666,
              "#ed7953"
             ],
             [
              0.7777777777777778,
              "#fb9f3a"
             ],
             [
              0.8888888888888888,
              "#fdca26"
             ],
             [
              1,
              "#f0f921"
             ]
            ],
            "type": "histogram2dcontour"
           }
          ],
          "mesh3d": [
           {
            "colorbar": {
             "outlinewidth": 0,
             "ticks": ""
            },
            "type": "mesh3d"
           }
          ],
          "parcoords": [
           {
            "line": {
             "colorbar": {
              "outlinewidth": 0,
              "ticks": ""
             }
            },
            "type": "parcoords"
           }
          ],
          "pie": [
           {
            "automargin": true,
            "type": "pie"
           }
          ],
          "scatter": [
           {
            "fillpattern": {
             "fillmode": "overlay",
             "size": 10,
             "solidity": 0.2
            },
            "type": "scatter"
           }
          ],
          "scatter3d": [
           {
            "line": {
             "colorbar": {
              "outlinewidth": 0,
              "ticks": ""
             }
            },
            "marker": {
             "colorbar": {
              "outlinewidth": 0,
              "ticks": ""
             }
            },
            "type": "scatter3d"
           }
          ],
          "scattercarpet": [
           {
            "marker": {
             "colorbar": {
              "outlinewidth": 0,
              "ticks": ""
             }
            },
            "type": "scattercarpet"
           }
          ],
          "scattergeo": [
           {
            "marker": {
             "colorbar": {
              "outlinewidth": 0,
              "ticks": ""
             }
            },
            "type": "scattergeo"
           }
          ],
          "scattergl": [
           {
            "marker": {
             "colorbar": {
              "outlinewidth": 0,
              "ticks": ""
             }
            },
            "type": "scattergl"
           }
          ],
          "scattermap": [
           {
            "marker": {
             "colorbar": {
              "outlinewidth": 0,
              "ticks": ""
             }
            },
            "type": "scattermap"
           }
          ],
          "scattermapbox": [
           {
            "marker": {
             "colorbar": {
              "outlinewidth": 0,
              "ticks": ""
             }
            },
            "type": "scattermapbox"
           }
          ],
          "scatterpolar": [
           {
            "marker": {
             "colorbar": {
              "outlinewidth": 0,
              "ticks": ""
             }
            },
            "type": "scatterpolar"
           }
          ],
          "scatterpolargl": [
           {
            "marker": {
             "colorbar": {
              "outlinewidth": 0,
              "ticks": ""
             }
            },
            "type": "scatterpolargl"
           }
          ],
          "scatterternary": [
           {
            "marker": {
             "colorbar": {
              "outlinewidth": 0,
              "ticks": ""
             }
            },
            "type": "scatterternary"
           }
          ],
          "surface": [
           {
            "colorbar": {
             "outlinewidth": 0,
             "ticks": ""
            },
            "colorscale": [
             [
              0,
              "#0d0887"
             ],
             [
              0.1111111111111111,
              "#46039f"
             ],
             [
              0.2222222222222222,
              "#7201a8"
             ],
             [
              0.3333333333333333,
              "#9c179e"
             ],
             [
              0.4444444444444444,
              "#bd3786"
             ],
             [
              0.5555555555555556,
              "#d8576b"
             ],
             [
              0.6666666666666666,
              "#ed7953"
             ],
             [
              0.7777777777777778,
              "#fb9f3a"
             ],
             [
              0.8888888888888888,
              "#fdca26"
             ],
             [
              1,
              "#f0f921"
             ]
            ],
            "type": "surface"
           }
          ],
          "table": [
           {
            "cells": {
             "fill": {
              "color": "#EBF0F8"
             },
             "line": {
              "color": "white"
             }
            },
            "header": {
             "fill": {
              "color": "#C8D4E3"
             },
             "line": {
              "color": "white"
             }
            },
            "type": "table"
           }
          ]
         },
         "layout": {
          "annotationdefaults": {
           "arrowcolor": "#2a3f5f",
           "arrowhead": 0,
           "arrowwidth": 1
          },
          "autotypenumbers": "strict",
          "coloraxis": {
           "colorbar": {
            "outlinewidth": 0,
            "ticks": ""
           }
          },
          "colorscale": {
           "diverging": [
            [
             0,
             "#8e0152"
            ],
            [
             0.1,
             "#c51b7d"
            ],
            [
             0.2,
             "#de77ae"
            ],
            [
             0.3,
             "#f1b6da"
            ],
            [
             0.4,
             "#fde0ef"
            ],
            [
             0.5,
             "#f7f7f7"
            ],
            [
             0.6,
             "#e6f5d0"
            ],
            [
             0.7,
             "#b8e186"
            ],
            [
             0.8,
             "#7fbc41"
            ],
            [
             0.9,
             "#4d9221"
            ],
            [
             1,
             "#276419"
            ]
           ],
           "sequential": [
            [
             0,
             "#0d0887"
            ],
            [
             0.1111111111111111,
             "#46039f"
            ],
            [
             0.2222222222222222,
             "#7201a8"
            ],
            [
             0.3333333333333333,
             "#9c179e"
            ],
            [
             0.4444444444444444,
             "#bd3786"
            ],
            [
             0.5555555555555556,
             "#d8576b"
            ],
            [
             0.6666666666666666,
             "#ed7953"
            ],
            [
             0.7777777777777778,
             "#fb9f3a"
            ],
            [
             0.8888888888888888,
             "#fdca26"
            ],
            [
             1,
             "#f0f921"
            ]
           ],
           "sequentialminus": [
            [
             0,
             "#0d0887"
            ],
            [
             0.1111111111111111,
             "#46039f"
            ],
            [
             0.2222222222222222,
             "#7201a8"
            ],
            [
             0.3333333333333333,
             "#9c179e"
            ],
            [
             0.4444444444444444,
             "#bd3786"
            ],
            [
             0.5555555555555556,
             "#d8576b"
            ],
            [
             0.6666666666666666,
             "#ed7953"
            ],
            [
             0.7777777777777778,
             "#fb9f3a"
            ],
            [
             0.8888888888888888,
             "#fdca26"
            ],
            [
             1,
             "#f0f921"
            ]
           ]
          },
          "colorway": [
           "#636efa",
           "#EF553B",
           "#00cc96",
           "#ab63fa",
           "#FFA15A",
           "#19d3f3",
           "#FF6692",
           "#B6E880",
           "#FF97FF",
           "#FECB52"
          ],
          "font": {
           "color": "#2a3f5f"
          },
          "geo": {
           "bgcolor": "white",
           "lakecolor": "white",
           "landcolor": "#E5ECF6",
           "showlakes": true,
           "showland": true,
           "subunitcolor": "white"
          },
          "hoverlabel": {
           "align": "left"
          },
          "hovermode": "closest",
          "mapbox": {
           "style": "light"
          },
          "paper_bgcolor": "white",
          "plot_bgcolor": "#E5ECF6",
          "polar": {
           "angularaxis": {
            "gridcolor": "white",
            "linecolor": "white",
            "ticks": ""
           },
           "bgcolor": "#E5ECF6",
           "radialaxis": {
            "gridcolor": "white",
            "linecolor": "white",
            "ticks": ""
           }
          },
          "scene": {
           "xaxis": {
            "backgroundcolor": "#E5ECF6",
            "gridcolor": "white",
            "gridwidth": 2,
            "linecolor": "white",
            "showbackground": true,
            "ticks": "",
            "zerolinecolor": "white"
           },
           "yaxis": {
            "backgroundcolor": "#E5ECF6",
            "gridcolor": "white",
            "gridwidth": 2,
            "linecolor": "white",
            "showbackground": true,
            "ticks": "",
            "zerolinecolor": "white"
           },
           "zaxis": {
            "backgroundcolor": "#E5ECF6",
            "gridcolor": "white",
            "gridwidth": 2,
            "linecolor": "white",
            "showbackground": true,
            "ticks": "",
            "zerolinecolor": "white"
           }
          },
          "shapedefaults": {
           "line": {
            "color": "#2a3f5f"
           }
          },
          "ternary": {
           "aaxis": {
            "gridcolor": "white",
            "linecolor": "white",
            "ticks": ""
           },
           "baxis": {
            "gridcolor": "white",
            "linecolor": "white",
            "ticks": ""
           },
           "bgcolor": "#E5ECF6",
           "caxis": {
            "gridcolor": "white",
            "linecolor": "white",
            "ticks": ""
           }
          },
          "title": {
           "x": 0.05
          },
          "xaxis": {
           "automargin": true,
           "gridcolor": "white",
           "linecolor": "white",
           "ticks": "",
           "title": {
            "standoff": 15
           },
           "zerolinecolor": "white",
           "zerolinewidth": 2
          },
          "yaxis": {
           "automargin": true,
           "gridcolor": "white",
           "linecolor": "white",
           "ticks": "",
           "title": {
            "standoff": 15
           },
           "zerolinecolor": "white",
           "zerolinewidth": 2
          }
         }
        },
        "title": {
         "text": "ROC Curve (AUC=0.9273)",
         "x": 0.5,
         "xanchor": "center"
        },
        "width": 600,
        "xaxis": {
         "anchor": "y",
         "constrain": "domain",
         "domain": [
          0,
          1
         ],
         "title": {
          "text": "False Positive Rate"
         }
        },
        "yaxis": {
         "anchor": "x",
         "domain": [
          0,
          1
         ],
         "scaleanchor": "x",
         "scaleratio": 1,
         "title": {
          "text": "True Positive Rate"
         }
        }
       }
      }
     },
     "metadata": {},
     "output_type": "display_data"
    }
   ],
   "source": [
    "# CREATE ROC CURVE TO SELECT THRESHOLD p\n",
    "\n",
    "from eppi_text_classification.predict import predict_scores\n",
    "from eppi_text_classification.plots.roc import plotly_roc\n",
    "\n",
    "y_test_pred_probs = predict_scores(model, X_test)\n",
    "# y_test_pred_probs = model.predict(X_test)\n",
    "plotly_roc(y_test, y_test_pred_probs)"
   ]
  },
  {
   "cell_type": "code",
   "execution_count": 10,
   "metadata": {},
   "outputs": [
    {
     "name": "stdout",
     "output_type": "stream",
     "text": [
      "Generated HTML saved to select_threshold_plot.html\n"
     ]
    }
   ],
   "source": [
    "from eppi_text_classification.plots.select_threshold import select_threshold_plot\n",
    "\n",
    "select_threshold_plot(y_test, y_test_pred_probs)"
   ]
  },
  {
   "cell_type": "code",
   "execution_count": 12,
   "metadata": {},
   "outputs": [
    {
     "name": "stdout",
     "output_type": "stream",
     "text": [
      "HTML file saved at pos_neg_hist.html\n",
      "HTML file saved at: box_plot.html\n"
     ]
    }
   ],
   "source": [
    "import jsonpickle\n",
    "\n",
    "from eppi_text_classification.model_stability import (\n",
    "    predict_cv_metrics,\n",
    "    predict_cv_scores,\n",
    ")\n",
    "from eppi_text_classification.plots.box_plot import generate_box_plot_html\n",
    "from eppi_text_classification.plots.histogram import (\n",
    "    create_histogram_html,\n",
    "    postive_negative_scores_histogram_html,\n",
    ")\n",
    "\n",
    "best_trial = study.best_trial\n",
    "best_params = best_trial.user_attrs[\"all_params\"]\n",
    "best_params = jsonpickle.decode(best_params, keys=True)\n",
    "\n",
    "postive_negative_scores_histogram_html(\n",
    "    y_test, y_test_pred_probs, savepath=\"pos_neg_hist.html\"\n",
    ")\n",
    "\n",
    "cv_scores = predict_cv_scores(\n",
    "    tfidf_scores,\n",
    "    labels,\n",
    "    \"lightgbm\",\n",
    "    best_params,\n",
    "    nfolds=5,\n",
    "    num_cv_repeats=1,\n",
    ")\n",
    "generate_box_plot_html(\n",
    "    cv_scores,\n",
    "    [\"Fold 1\", \"Fold 2\", \"Fold 3\", \"Fold 4\", \"Fold 5\"],\n",
    "    \"AUC\",\n",
    "    xaxis_title=\"Fold\",\n",
    "    yaxis_title=\"AUC\",\n",
    "    savepath=\"box_plot.html\",\n",
    ")"
   ]
  },
  {
   "cell_type": "code",
   "execution_count": 15,
   "metadata": {},
   "outputs": [
    {
     "name": "stdout",
     "output_type": "stream",
     "text": [
      "Saved learning curve plot to learning_curve.html\n"
     ]
    }
   ],
   "source": [
    "from eppi_text_classification.plots.learning_curve import create_learning_curve_html\n",
    "\n",
    "create_learning_curve_html(\n",
    "    tfidf_scores,\n",
    "    labels,\n",
    "    \"lightgbm\",\n",
    "    best_params,\n",
    "    savepath=\"learning_curve.html\",\n",
    ")"
   ]
  },
  {
   "cell_type": "code",
   "execution_count": 26,
   "metadata": {},
   "outputs": [],
   "source": [
    "# GET MODEL THRESHOLD FOR CHOSEN TPR, MAKE PREDICTIONS\n",
    "\n",
    "from eppi_text_classification.predict import (\n",
    "    get_raw_threshold,\n",
    "    raw_threshold_predict,\n",
    ")\n",
    "\n",
    "threshold = get_raw_threshold(model, X_test, y_test, target_tpr=0.93)\n",
    "\n",
    "y_test_pred = raw_threshold_predict(model, X_test, threshold)\n",
    "y_train_pred = raw_threshold_predict(model, X_train, threshold)"
   ]
  },
  {
   "cell_type": "code",
   "execution_count": 17,
   "metadata": {},
   "outputs": [
    {
     "name": "stdout",
     "output_type": "stream",
     "text": [
      "HTML file saved at lgbm_auc_hist.html\n",
      "HTML file saved at lgbm_recall_hist.html\n",
      "HTML file saved at lgbm_fpr.html\n"
     ]
    }
   ],
   "source": [
    "from eppi_text_classification.plots.histogram import (\n",
    "    create_histogram_html,\n",
    "    postive_negative_scores_histogram_html,\n",
    ")\n",
    "\n",
    "from eppi_text_classification.model_stability import (\n",
    "    predict_cv_metrics,\n",
    "    predict_cv_scores,\n",
    ")\n",
    "\n",
    "import jsonpickle\n",
    "\n",
    "best_trial = study.best_trial\n",
    "best_params = best_trial.user_attrs[\"all_params\"]\n",
    "best_params = jsonpickle.decode(best_params, keys=True)\n",
    "\n",
    "\n",
    "auc_scores, recall_scores, fpr_scores = predict_cv_metrics(\n",
    "    tfidf_scores,\n",
    "    labels,\n",
    "    \"lightgbm\",\n",
    "    best_params,\n",
    "    nfolds=3,\n",
    "    num_cv_repeats=100,\n",
    "    threshold=threshold,\n",
    ")\n",
    "create_histogram_html(auc_scores, savepath=\"lgbm_auc_hist.html\")\n",
    "create_histogram_html(recall_scores, savepath=\"lgbm_recall_hist.html\")\n",
    "create_histogram_html(fpr_scores, savepath=\"lgbm_fpr.html\")"
   ]
  },
  {
   "cell_type": "code",
   "execution_count": 9,
   "metadata": {},
   "outputs": [
    {
     "data": {
      "image/png": "[encoded data removed]",
      "text/plain": [
       "<Figure size 800x500 with 1 Axes>"
      ]
     },
     "metadata": {},
     "output_type": "display_data"
    }
   ],
   "source": [
    "import matplotlib.pyplot as plt\n",
    "import numpy as np\n",
    "from sklearn.metrics import roc_auc_score\n",
    "\n",
    "dval = lgb.Dataset(X_test, label=y_test, free_raw_data=True)\n",
    "# Define the range of estimators\n",
    "\n",
    "\n",
    "evals_result = {}  # Stores validation results\n",
    "eval_callback = lgb.record_evaluation(evals_result)  # Callback to record results\n",
    "\n",
    "model = lgb.train(\n",
    "    params,\n",
    "    dtrain,\n",
    "    num_boost_round=num_boost_round,  # Maximum boosting rounds\n",
    "    valid_sets=[dval],\n",
    "    valid_names=[\"Validation\"],\n",
    "    callbacks=[eval_callback],  # Stores metrics\n",
    "    # early_stopping_rounds=10,  # Stop if no improvement in 10 rounds\n",
    "    # verbose_eval=False  # Suppress logging\n",
    ")\n",
    "\n",
    "# Extract validation AUC scores\n",
    "iterations = list(range(1, len(evals_result[\"Validation\"][\"auc\"]) + 1))\n",
    "validation_auc = evals_result[\"Validation\"][\"auc\"]\n",
    "\n",
    "# Plot Results\n",
    "plt.figure(figsize=(8, 5))\n",
    "plt.plot(\n",
    "    iterations,\n",
    "    validation_auc,\n",
    "    marker=\"x\",\n",
    "    linestyle=\"-\",\n",
    "    color=\"b\",\n",
    "    label=\"Validation AUC\",\n",
    "    markersize=1,\n",
    ")\n",
    "plt.xlabel(\"Number of Boosting Iterations\")\n",
    "plt.ylabel(\"Validation AUC\")\n",
    "plt.title(\"LightGBM Boosting Iterations vs Validation AUC\")\n",
    "plt.legend()\n",
    "plt.grid(True)\n",
    "plt.show()"
   ]
  },
  {
   "cell_type": "code",
   "execution_count": 15,
   "metadata": {},
   "outputs": [
    {
     "name": "stdout",
     "output_type": "stream",
     "text": [
      "dict_keys(['valid auc-mean', 'valid auc-stdv'])\n"
     ]
    },
    {
     "data": {
      "image/png": "[encoded data removed]",
      "text/plain": [
       "<Figure size 800x500 with 1 Axes>"
      ]
     },
     "metadata": {},
     "output_type": "display_data"
    }
   ],
   "source": [
    "cv_results = lgb.cv(\n",
    "    params,\n",
    "    dtrain,\n",
    "    num_boost_round=1000,  # Maximum number of boosting rounds\n",
    "    nfold=5,  # Number of folds\n",
    "    stratified=True,  # Stratified sampling for classification\n",
    "    shuffle=True,  # Shuffle the data before splitting\n",
    "    # early_stopping_rounds=10,   # Early stopping\n",
    "    # verbose_eval=False,         # Suppress detailed logging\n",
    "    seed=42,  # Reproducibility\n",
    ")\n",
    "\n",
    "# lgb.cv returns a dictionary containing the mean and standard deviation\n",
    "# of the metric values across folds for each boosting iteration.\n",
    "# Usually with metric='auc', you get:\n",
    "# - cv_results[\"auc-mean\"]\n",
    "# - cv_results[\"auc-stdv\"]\n",
    "\n",
    "print(cv_results.keys())\n",
    "# Extract the mean and standard deviation of the AUC across folds\n",
    "mean_auc = cv_results[\"valid auc-mean\"]\n",
    "std_auc = cv_results[\"valid auc-stdv\"]\n",
    "\n",
    "# Create a list of iteration numbers\n",
    "iterations = np.arange(1, len(mean_auc) + 1)\n",
    "\n",
    "# Plot mean AUC vs boosting iterations (with error bars for standard deviation)\n",
    "plt.figure(figsize=(8, 5))\n",
    "plt.errorbar(\n",
    "    iterations,\n",
    "    mean_auc,\n",
    "    yerr=std_auc,\n",
    "    fmt=\"-o\",\n",
    "    ecolor=\"r\",\n",
    "    capsize=3,\n",
    "    label=\"Mean AUC (±1 std)\",\n",
    "    markersize=1,\n",
    ")\n",
    "plt.xlabel(\"Number of Boosting Iterations\")\n",
    "plt.ylabel(\"AUC\")\n",
    "plt.title(\"LightGBM Cross-Validation: Boosting Iterations vs Mean AUC\")\n",
    "plt.grid(True)\n",
    "plt.legend()\n",
    "plt.show()"
   ]
  },
  {
   "cell_type": "code",
   "execution_count": 64,
   "metadata": {},
   "outputs": [
    {
     "data": {
      "application/vnd.plotly.v1+json": {
       "config": {
        "plotlyServerURL": "https://plot.ly"
       },
       "data": [
        {
         "colorscale": [
          [
           0,
           "rgb(247,251,255)"
          ],
          [
           0.125,
           "rgb(222,235,247)"
          ],
          [
           0.25,
           "rgb(198,219,239)"
          ],
          [
           0.375,
           "rgb(158,202,225)"
          ],
          [
           0.5,
           "rgb(107,174,214)"
          ],
          [
           0.625,
           "rgb(66,146,198)"
          ],
          [
           0.75,
           "rgb(33,113,181)"
          ],
          [
           0.875,
           "rgb(8,81,156)"
          ],
          [
           1,
           "rgb(8,48,107)"
          ]
         ],
         "hoverinfo": "text",
         "showscale": false,
         "text": [
          [
           "Truth: Excluded<br>Prediction: Included<br>Total: 194",
           "Truth: Excluded<br>Prediction: Excluded<br>Total: 609"
          ],
          [
           "Truth: Included<br>Prediction: Included<br>Total: 29",
           "Truth: Included<br>Prediction: Excluded<br>Total: 0"
          ]
         ],
         "type": "heatmap",
         "x": [
          "0",
          "1"
         ],
         "xaxis": "x",
         "y": [
          "0",
          "1"
         ],
         "yaxis": "y",
         "z": [
          [
           194,
           609
          ],
          [
           29,
           0
          ]
         ]
        },
        {
         "colorscale": [
          [
           0,
           "rgb(247,251,255)"
          ],
          [
           0.125,
           "rgb(222,235,247)"
          ],
          [
           0.25,
           "rgb(198,219,239)"
          ],
          [
           0.375,
           "rgb(158,202,225)"
          ],
          [
           0.5,
           "rgb(107,174,214)"
          ],
          [
           0.625,
           "rgb(66,146,198)"
          ],
          [
           0.75,
           "rgb(33,113,181)"
          ],
          [
           0.875,
           "rgb(8,81,156)"
          ],
          [
           1,
           "rgb(8,48,107)"
          ]
         ],
         "hoverinfo": "text",
         "showscale": false,
         "text": [
          [
           "Truth: Excluded<br>Prediction: Included<br>Total: 109",
           "Truth: Excluded<br>Prediction: Excluded<br>Total: 292"
          ],
          [
           "Truth: Included<br>Prediction: Included<br>Total: 14",
           "Truth: Included<br>Prediction: Excluded<br>Total: 1"
          ]
         ],
         "type": "heatmap",
         "x": [
          "0",
          "1"
         ],
         "xaxis": "x2",
         "y": [
          "0",
          "1"
         ],
         "yaxis": "y2",
         "z": [
          [
           109,
           292
          ],
          [
           14,
           1
          ]
         ]
        }
       ],
       "layout": {
        "annotations": [
         {
          "font": {
           "size": 18
          },
          "showarrow": false,
          "text": "Training Matrix",
          "x": 0.2125,
          "xanchor": "center",
          "xref": "paper",
          "y": 1.03,
          "yanchor": "bottom",
          "yref": "paper"
         },
         {
          "font": {
           "size": 18
          },
          "showarrow": false,
          "text": "Validation Matrix",
          "x": 0.7875,
          "xanchor": "center",
          "xref": "paper",
          "y": 1.03,
          "yanchor": "bottom",
          "yref": "paper"
         },
         {
          "font": {
           "color": "dark blue"
          },
          "showarrow": false,
          "text": "194",
          "x": "0",
          "xref": "x",
          "y": "0",
          "yref": "y"
         },
         {
          "font": {
           "color": "white"
          },
          "showarrow": false,
          "text": "609",
          "x": "1",
          "xref": "x",
          "y": "0",
          "yref": "y"
         },
         {
          "font": {
           "color": "dark blue"
          },
          "showarrow": false,
          "text": "29",
          "x": "0",
          "xref": "x",
          "y": "1",
          "yref": "y"
         },
         {
          "font": {
           "color": "dark blue"
          },
          "showarrow": false,
          "text": "0",
          "x": "1",
          "xref": "x",
          "y": "1",
          "yref": "y"
         },
         {
          "font": {
           "color": "dark blue"
          },
          "showarrow": false,
          "text": "109",
          "x": "0",
          "xref": "x2",
          "y": "0",
          "yref": "y2"
         },
         {
          "font": {
           "color": "white"
          },
          "showarrow": false,
          "text": "292",
          "x": "1",
          "xref": "x2",
          "y": "0",
          "yref": "y2"
         },
         {
          "font": {
           "color": "dark blue"
          },
          "showarrow": false,
          "text": "14",
          "x": "0",
          "xref": "x2",
          "y": "1",
          "yref": "y2"
         },
         {
          "font": {
           "color": "dark blue"
          },
          "showarrow": false,
          "text": "1",
          "x": "1",
          "xref": "x2",
          "y": "1",
          "yref": "y2"
         }
        ],
        "autosize": false,
        "height": 400,
        "shapes": [
         {
          "line": {
           "color": "black",
           "width": 2
          },
          "type": "rect",
          "x0": -0.5,
          "x1": 1.5,
          "xref": "x",
          "y0": -0.5,
          "y1": 1.5,
          "yref": "y"
         },
         {
          "line": {
           "color": "black",
           "width": 1.5
          },
          "type": "line",
          "x0": -0.5,
          "x1": 1.5,
          "xref": "x",
          "y0": 0.5,
          "y1": 0.5,
          "yref": "y"
         },
         {
          "line": {
           "color": "black",
           "width": 1.5
          },
          "type": "line",
          "x0": 0.5,
          "x1": 0.5,
          "xref": "x",
          "y0": -0.5,
          "y1": 1.5,
          "yref": "y"
         },
         {
          "line": {
           "color": "black",
           "width": 2
          },
          "type": "rect",
          "x0": -0.5,
          "x1": 1.5,
          "xref": "x2",
          "y0": -0.5,
          "y1": 1.5,
          "yref": "y2"
         },
         {
          "line": {
           "color": "black",
           "width": 1.5
          },
          "type": "line",
          "x0": -0.5,
          "x1": 1.5,
          "xref": "x2",
          "y0": 0.5,
          "y1": 0.5,
          "yref": "y2"
         },
         {
          "line": {
           "color": "black",
           "width": 1.5
          },
          "type": "line",
          "x0": 0.5,
          "x1": 0.5,
          "xref": "x2",
          "y0": -0.5,
          "y1": 1.5,
          "yref": "y2"
         }
        ],
        "template": {
         "data": {
          "bar": [
           {
            "error_x": {
             "color": "#2a3f5f"
            },
            "error_y": {
             "color": "#2a3f5f"
            },
            "marker": {
             "line": {
              "color": "#E5ECF6",
              "width": 0.5
             },
             "pattern": {
              "fillmode": "overlay",
              "size": 10,
              "solidity": 0.2
             }
            },
            "type": "bar"
           }
          ],
          "barpolar": [
           {
            "marker": {
             "line": {
              "color": "#E5ECF6",
              "width": 0.5
             },
             "pattern": {
              "fillmode": "overlay",
              "size": 10,
              "solidity": 0.2
             }
            },
            "type": "barpolar"
           }
          ],
          "carpet": [
           {
            "aaxis": {
             "endlinecolor": "#2a3f5f",
             "gridcolor": "white",
             "linecolor": "white",
             "minorgridcolor": "white",
             "startlinecolor": "#2a3f5f"
            },
            "baxis": {
             "endlinecolor": "#2a3f5f",
             "gridcolor": "white",
             "linecolor": "white",
             "minorgridcolor": "white",
             "startlinecolor": "#2a3f5f"
            },
            "type": "carpet"
           }
          ],
          "choropleth": [
           {
            "colorbar": {
             "outlinewidth": 0,
             "ticks": ""
            },
            "type": "choropleth"
           }
          ],
          "contour": [
           {
            "colorbar": {
             "outlinewidth": 0,
             "ticks": ""
            },
            "colorscale": [
             [
              0,
              "#0d0887"
             ],
             [
              0.1111111111111111,
              "#46039f"
             ],
             [
              0.2222222222222222,
              "#7201a8"
             ],
             [
              0.3333333333333333,
              "#9c179e"
             ],
             [
              0.4444444444444444,
              "#bd3786"
             ],
             [
              0.5555555555555556,
              "#d8576b"
             ],
             [
              0.6666666666666666,
              "#ed7953"
             ],
             [
              0.7777777777777778,
              "#fb9f3a"
             ],
             [
              0.8888888888888888,
              "#fdca26"
             ],
             [
              1,
              "#f0f921"
             ]
            ],
            "type": "contour"
           }
          ],
          "contourcarpet": [
           {
            "colorbar": {
             "outlinewidth": 0,
             "ticks": ""
            },
            "type": "contourcarpet"
           }
          ],
          "heatmap": [
           {
            "colorbar": {
             "outlinewidth": 0,
             "ticks": ""
            },
            "colorscale": [
             [
              0,
              "#0d0887"
             ],
             [
              0.1111111111111111,
              "#46039f"
             ],
             [
              0.2222222222222222,
              "#7201a8"
             ],
             [
              0.3333333333333333,
              "#9c179e"
             ],
             [
              0.4444444444444444,
              "#bd3786"
             ],
             [
              0.5555555555555556,
              "#d8576b"
             ],
             [
              0.6666666666666666,
              "#ed7953"
             ],
             [
              0.7777777777777778,
              "#fb9f3a"
             ],
             [
              0.8888888888888888,
              "#fdca26"
             ],
             [
              1,
              "#f0f921"
             ]
            ],
            "type": "heatmap"
           }
          ],
          "heatmapgl": [
           {
            "colorbar": {
             "outlinewidth": 0,
             "ticks": ""
            },
            "colorscale": [
             [
              0,
              "#0d0887"
             ],
             [
              0.1111111111111111,
              "#46039f"
             ],
             [
              0.2222222222222222,
              "#7201a8"
             ],
             [
              0.3333333333333333,
              "#9c179e"
             ],
             [
              0.4444444444444444,
              "#bd3786"
             ],
             [
              0.5555555555555556,
              "#d8576b"
             ],
             [
              0.6666666666666666,
              "#ed7953"
             ],
             [
              0.7777777777777778,
              "#fb9f3a"
             ],
             [
              0.8888888888888888,
              "#fdca26"
             ],
             [
              1,
              "#f0f921"
             ]
            ],
            "type": "heatmapgl"
           }
          ],
          "histogram": [
           {
            "marker": {
             "pattern": {
              "fillmode": "overlay",
              "size": 10,
              "solidity": 0.2
             }
            },
            "type": "histogram"
           }
          ],
          "histogram2d": [
           {
            "colorbar": {
             "outlinewidth": 0,
             "ticks": ""
            },
            "colorscale": [
             [
              0,
              "#0d0887"
             ],
             [
              0.1111111111111111,
              "#46039f"
             ],
             [
              0.2222222222222222,
              "#7201a8"
             ],
             [
              0.3333333333333333,
              "#9c179e"
             ],
             [
              0.4444444444444444,
              "#bd3786"
             ],
             [
              0.5555555555555556,
              "#d8576b"
             ],
             [
              0.6666666666666666,
              "#ed7953"
             ],
             [
              0.7777777777777778,
              "#fb9f3a"
             ],
             [
              0.8888888888888888,
              "#fdca26"
             ],
             [
              1,
              "#f0f921"
             ]
            ],
            "type": "histogram2d"
           }
          ],
          "histogram2dcontour": [
           {
            "colorbar": {
             "outlinewidth": 0,
             "ticks": ""
            },
            "colorscale": [
             [
              0,
              "#0d0887"
             ],
             [
              0.1111111111111111,
              "#46039f"
             ],
             [
              0.2222222222222222,
              "#7201a8"
             ],
             [
              0.3333333333333333,
              "#9c179e"
             ],
             [
              0.4444444444444444,
              "#bd3786"
             ],
             [
              0.5555555555555556,
              "#d8576b"
             ],
             [
              0.6666666666666666,
              "#ed7953"
             ],
             [
              0.7777777777777778,
              "#fb9f3a"
             ],
             [
              0.8888888888888888,
              "#fdca26"
             ],
             [
              1,
              "#f0f921"
             ]
            ],
            "type": "histogram2dcontour"
           }
          ],
          "mesh3d": [
           {
            "colorbar": {
             "outlinewidth": 0,
             "ticks": ""
            },
            "type": "mesh3d"
           }
          ],
          "parcoords": [
           {
            "line": {
             "colorbar": {
              "outlinewidth": 0,
              "ticks": ""
             }
            },
            "type": "parcoords"
           }
          ],
          "pie": [
           {
            "automargin": true,
            "type": "pie"
           }
          ],
          "scatter": [
           {
            "fillpattern": {
             "fillmode": "overlay",
             "size": 10,
             "solidity": 0.2
            },
            "type": "scatter"
           }
          ],
          "scatter3d": [
           {
            "line": {
             "colorbar": {
              "outlinewidth": 0,
              "ticks": ""
             }
            },
            "marker": {
             "colorbar": {
              "outlinewidth": 0,
              "ticks": ""
             }
            },
            "type": "scatter3d"
           }
          ],
          "scattercarpet": [
           {
            "marker": {
             "colorbar": {
              "outlinewidth": 0,
              "ticks": ""
             }
            },
            "type": "scattercarpet"
           }
          ],
          "scattergeo": [
           {
            "marker": {
             "colorbar": {
              "outlinewidth": 0,
              "ticks": ""
             }
            },
            "type": "scattergeo"
           }
          ],
          "scattergl": [
           {
            "marker": {
             "colorbar": {
              "outlinewidth": 0,
              "ticks": ""
             }
            },
            "type": "scattergl"
           }
          ],
          "scattermapbox": [
           {
            "marker": {
             "colorbar": {
              "outlinewidth": 0,
              "ticks": ""
             }
            },
            "type": "scattermapbox"
           }
          ],
          "scatterpolar": [
           {
            "marker": {
             "colorbar": {
              "outlinewidth": 0,
              "ticks": ""
             }
            },
            "type": "scatterpolar"
           }
          ],
          "scatterpolargl": [
           {
            "marker": {
             "colorbar": {
              "outlinewidth": 0,
              "ticks": ""
             }
            },
            "type": "scatterpolargl"
           }
          ],
          "scatterternary": [
           {
            "marker": {
             "colorbar": {
              "outlinewidth": 0,
              "ticks": ""
             }
            },
            "type": "scatterternary"
           }
          ],
          "surface": [
           {
            "colorbar": {
             "outlinewidth": 0,
             "ticks": ""
            },
            "colorscale": [
             [
              0,
              "#0d0887"
             ],
             [
              0.1111111111111111,
              "#46039f"
             ],
             [
              0.2222222222222222,
              "#7201a8"
             ],
             [
              0.3333333333333333,
              "#9c179e"
             ],
             [
              0.4444444444444444,
              "#bd3786"
             ],
             [
              0.5555555555555556,
              "#d8576b"
             ],
             [
              0.6666666666666666,
              "#ed7953"
             ],
             [
              0.7777777777777778,
              "#fb9f3a"
             ],
             [
              0.8888888888888888,
              "#fdca26"
             ],
             [
              1,
              "#f0f921"
             ]
            ],
            "type": "surface"
           }
          ],
          "table": [
           {
            "cells": {
             "fill": {
              "color": "#EBF0F8"
             },
             "line": {
              "color": "white"
             }
            },
            "header": {
             "fill": {
              "color": "#C8D4E3"
             },
             "line": {
              "color": "white"
             }
            },
            "type": "table"
           }
          ]
         },
         "layout": {
          "annotationdefaults": {
           "arrowcolor": "#2a3f5f",
           "arrowhead": 0,
           "arrowwidth": 1
          },
          "autotypenumbers": "strict",
          "coloraxis": {
           "colorbar": {
            "outlinewidth": 0,
            "ticks": ""
           }
          },
          "colorscale": {
           "diverging": [
            [
             0,
             "#8e0152"
            ],
            [
             0.1,
             "#c51b7d"
            ],
            [
             0.2,
             "#de77ae"
            ],
            [
             0.3,
             "#f1b6da"
            ],
            [
             0.4,
             "#fde0ef"
            ],
            [
             0.5,
             "#f7f7f7"
            ],
            [
             0.6,
             "#e6f5d0"
            ],
            [
             0.7,
             "#b8e186"
            ],
            [
             0.8,
             "#7fbc41"
            ],
            [
             0.9,
             "#4d9221"
            ],
            [
             1,
             "#276419"
            ]
           ],
           "sequential": [
            [
             0,
             "#0d0887"
            ],
            [
             0.1111111111111111,
             "#46039f"
            ],
            [
             0.2222222222222222,
             "#7201a8"
            ],
            [
             0.3333333333333333,
             "#9c179e"
            ],
            [
             0.4444444444444444,
             "#bd3786"
            ],
            [
             0.5555555555555556,
             "#d8576b"
            ],
            [
             0.6666666666666666,
             "#ed7953"
            ],
            [
             0.7777777777777778,
             "#fb9f3a"
            ],
            [
             0.8888888888888888,
             "#fdca26"
            ],
            [
             1,
             "#f0f921"
            ]
           ],
           "sequentialminus": [
            [
             0,
             "#0d0887"
            ],
            [
             0.1111111111111111,
             "#46039f"
            ],
            [
             0.2222222222222222,
             "#7201a8"
            ],
            [
             0.3333333333333333,
             "#9c179e"
            ],
            [
             0.4444444444444444,
             "#bd3786"
            ],
            [
             0.5555555555555556,
             "#d8576b"
            ],
            [
             0.6666666666666666,
             "#ed7953"
            ],
            [
             0.7777777777777778,
             "#fb9f3a"
            ],
            [
             0.8888888888888888,
             "#fdca26"
            ],
            [
             1,
             "#f0f921"
            ]
           ]
          },
          "colorway": [
           "#636efa",
           "#EF553B",
           "#00cc96",
           "#ab63fa",
           "#FFA15A",
           "#19d3f3",
           "#FF6692",
           "#B6E880",
           "#FF97FF",
           "#FECB52"
          ],
          "font": {
           "color": "#2a3f5f"
          },
          "geo": {
           "bgcolor": "white",
           "lakecolor": "white",
           "landcolor": "#E5ECF6",
           "showlakes": true,
           "showland": true,
           "subunitcolor": "white"
          },
          "hoverlabel": {
           "align": "left"
          },
          "hovermode": "closest",
          "mapbox": {
           "style": "light"
          },
          "paper_bgcolor": "white",
          "plot_bgcolor": "#E5ECF6",
          "polar": {
           "angularaxis": {
            "gridcolor": "white",
            "linecolor": "white",
            "ticks": ""
           },
           "bgcolor": "#E5ECF6",
           "radialaxis": {
            "gridcolor": "white",
            "linecolor": "white",
            "ticks": ""
           }
          },
          "scene": {
           "xaxis": {
            "backgroundcolor": "#E5ECF6",
            "gridcolor": "white",
            "gridwidth": 2,
            "linecolor": "white",
            "showbackground": true,
            "ticks": "",
            "zerolinecolor": "white"
           },
           "yaxis": {
            "backgroundcolor": "#E5ECF6",
            "gridcolor": "white",
            "gridwidth": 2,
            "linecolor": "white",
            "showbackground": true,
            "ticks": "",
            "zerolinecolor": "white"
           },
           "zaxis": {
            "backgroundcolor": "#E5ECF6",
            "gridcolor": "white",
            "gridwidth": 2,
            "linecolor": "white",
            "showbackground": true,
            "ticks": "",
            "zerolinecolor": "white"
           }
          },
          "shapedefaults": {
           "line": {
            "color": "#2a3f5f"
           }
          },
          "ternary": {
           "aaxis": {
            "gridcolor": "white",
            "linecolor": "white",
            "ticks": ""
           },
           "baxis": {
            "gridcolor": "white",
            "linecolor": "white",
            "ticks": ""
           },
           "bgcolor": "#E5ECF6",
           "caxis": {
            "gridcolor": "white",
            "linecolor": "white",
            "ticks": ""
           }
          },
          "title": {
           "x": 0.05
          },
          "xaxis": {
           "automargin": true,
           "gridcolor": "white",
           "linecolor": "white",
           "ticks": "",
           "title": {
            "standoff": 15
           },
           "zerolinecolor": "white",
           "zerolinewidth": 2
          },
          "yaxis": {
           "automargin": true,
           "gridcolor": "white",
           "linecolor": "white",
           "ticks": "",
           "title": {
            "standoff": 15
           },
           "zerolinecolor": "white",
           "zerolinewidth": 2
          }
         }
        },
        "width": 700,
        "xaxis": {
         "anchor": "y",
         "domain": [
          0,
          0.425
         ],
         "mirror": true,
         "tickcolor": "black",
         "ticklen": 5,
         "tickmode": "array",
         "ticks": "outside",
         "ticktext": [
          "1",
          "0"
         ],
         "tickvals": [
          0,
          1
         ],
         "tickwidth": 1,
         "title": {
          "text": "Prediction"
         }
        },
        "xaxis2": {
         "anchor": "y2",
         "domain": [
          0.575,
          1
         ],
         "mirror": true,
         "tickcolor": "black",
         "ticklen": 5,
         "tickmode": "array",
         "ticks": "outside",
         "ticktext": [
          "1",
          "0"
         ],
         "tickvals": [
          0,
          1
         ],
         "tickwidth": 1,
         "title": {
          "text": "Prediction"
         }
        },
        "yaxis": {
         "anchor": "x",
         "domain": [
          0,
          1
         ],
         "mirror": true,
         "tickcolor": "black",
         "ticklen": 5,
         "tickmode": "array",
         "ticks": "outside",
         "ticktext": [
          "0",
          "1"
         ],
         "tickvals": [
          0,
          1
         ],
         "tickwidth": 1,
         "title": {
          "standoff": 0.3,
          "text": "Truth"
         }
        },
        "yaxis2": {
         "anchor": "x2",
         "domain": [
          0,
          1
         ],
         "mirror": true,
         "tickcolor": "black",
         "ticklen": 5,
         "tickmode": "array",
         "ticks": "outside",
         "ticktext": [
          "0",
          "1"
         ],
         "tickvals": [
          0,
          1
         ],
         "tickwidth": 1,
         "title": {
          "standoff": 0.3,
          "text": "Truth"
         }
        }
       }
      }
     },
     "metadata": {},
     "output_type": "display_data"
    }
   ],
   "source": [
    "from eppi_text_classification import binary_train_valid_confusion_plotly\n",
    "\n",
    "binary_train_valid_confusion_plotly(\n",
    "    y_train,\n",
    "    y_train_pred,\n",
    "    y_test,\n",
    "    y_test_pred,\n",
    "    postive_label=\"Included\",\n",
    "    negative_label=\"Excluded\",\n",
    ")"
   ]
  },
  {
   "cell_type": "code",
   "execution_count": 67,
   "metadata": {},
   "outputs": [
    {
     "data": {
      "image/png": "[encoded data removed]",
      "text/plain": [
       "<Figure size 2000x400 with 2 Axes>"
      ]
     },
     "metadata": {},
     "output_type": "display_data"
    },
    {
     "data": {
      "image/png": "[encoded data removed]",
      "text/plain": [
       "<Figure size 2000x400 with 2 Axes>"
      ]
     },
     "metadata": {},
     "output_type": "display_data"
    },
    {
     "data": {
      "image/png": "[encoded data removed]",
      "text/plain": [
       "<Figure size 800x550 with 1 Axes>"
      ]
     },
     "metadata": {},
     "output_type": "display_data"
    }
   ],
   "source": [
    "from eppi_text_classification import ShapPlotter\n",
    "\n",
    "shap_plotter = ShapPlotter(\n",
    "    model,\n",
    "    X_test,\n",
    "    feature_names,\n",
    ")\n",
    "dot_plot = shap_plotter.dot_plot(num_display=10)\n",
    "dot_plot.show()\n",
    "dot_plot = shap_plotter.dot_plot(num_display=10, log_scale=False)\n",
    "dot_plot.show()\n",
    "bar_plot = shap_plotter.bar_chart()\n",
    "bar_plot.show()"
   ]
  },
  {
   "cell_type": "code",
   "execution_count": 66,
   "metadata": {},
   "outputs": [
    {
     "name": "stdout",
     "output_type": "stream",
     "text": [
      "Truth: 0\n",
      "Prediction: [0]\n",
      "Shap value: -5.96631299534231\n",
      "Prediction score: [-5.966313]\n"
     ]
    },
    {
     "data": {
      "image/png": "[encoded data removed]",
      "text/plain": [
       "<Figure size 800x510 with 1 Axes>"
      ]
     },
     "metadata": {},
     "output_type": "display_data"
    },
    {
     "name": "stdout",
     "output_type": "stream",
     "text": [
      "Truth: 0\n",
      "Prediction: [1]\n",
      "Shap value: -2.380411446023505\n",
      "Prediction score: [-2.38041143]\n"
     ]
    },
    {
     "data": {
      "image/png": "[encoded data removed]",
      "text/plain": [
       "<Figure size 800x510 with 1 Axes>"
      ]
     },
     "metadata": {},
     "output_type": "display_data"
    },
    {
     "name": "stdout",
     "output_type": "stream",
     "text": [
      "Truth: 0\n",
      "Prediction: [0]\n",
      "Shap value: -11.378919225930009\n",
      "Prediction score: [-11.37891915]\n"
     ]
    },
    {
     "data": {
      "image/png": "[encoded data removed]",
      "text/plain": [
       "<Figure size 800x510 with 1 Axes>"
      ]
     },
     "metadata": {},
     "output_type": "display_data"
    },
    {
     "name": "stdout",
     "output_type": "stream",
     "text": [
      "Truth: 0\n",
      "Prediction: [0]\n",
      "Shap value: -8.93967435443658\n",
      "Prediction score: [-8.93967434]\n"
     ]
    },
    {
     "data": {
      "image/png": "[encoded data removed]",
      "text/plain": [
       "<Figure size 800x510 with 1 Axes>"
      ]
     },
     "metadata": {},
     "output_type": "display_data"
    },
    {
     "name": "stdout",
     "output_type": "stream",
     "text": [
      "Truth: 0\n",
      "Prediction: [0]\n",
      "Shap value: -8.267704468964372\n",
      "Prediction score: [-8.26770449]\n"
     ]
    },
    {
     "data": {
      "image/png": "[encoded data removed]",
      "text/plain": [
       "<Figure size 800x510 with 1 Axes>"
      ]
     },
     "metadata": {},
     "output_type": "display_data"
    }
   ],
   "source": [
    "import numpy as np\n",
    "\n",
    "shap_plotter = ShapPlotter(model, X_test[0:10], feature_names)\n",
    "\n",
    "for i in range(5):\n",
    "    print(f\"Truth: {y_test[i]}\")\n",
    "    print(f\"Prediction: {raw_threshold_predict(model, X_test[i], threshold)}\")\n",
    "    print(\n",
    "        f\"Shap value: {shap_plotter.shap_values[i].sum() + shap_plotter.expected_value}\"\n",
    "    )\n",
    "    print(f\"Prediction score: {predict_scores(model, X_test[i])}\")\n",
    "    decision_plot = shap_plotter.single_decision_plot(\n",
    "        threshold=threshold, index=i, num_display=10, log_scale=False\n",
    "    )\n",
    "    decision_plot.show()"
   ]
  },
  {
   "cell_type": "code",
   "execution_count": null,
   "metadata": {},
   "outputs": [],
   "source": []
  }
 ],
 "metadata": {
  "kernelspec": {
   "display_name": "base",
   "language": "python",
   "name": "python3"
  },
  "language_info": {
   "codemirror_mode": {
    "name": "ipython",
    "version": 3
   },
   "file_extension": ".py",
   "mimetype": "text/x-python",
   "name": "python",
   "nbconvert_exporter": "python",
   "pygments_lexer": "ipython3",
   "version": "3.11.11"
  }
 },
 "nbformat": 4,
 "nbformat_minor": 2
}
