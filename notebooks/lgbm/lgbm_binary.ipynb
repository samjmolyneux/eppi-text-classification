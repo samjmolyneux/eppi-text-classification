{
 "cells": [
  {
   "cell_type": "code",
   "execution_count": 13,
   "metadata": {},
   "outputs": [
    {
     "name": "stdout",
     "output_type": "stream",
     "text": [
      "The autoreload extension is already loaded. To reload it, use:\n",
      "  %reload_ext autoreload\n"
     ]
    }
   ],
   "source": [
    "%load_ext autoreload\n",
    "%autoreload 2"
   ]
  },
  {
   "cell_type": "code",
   "execution_count": 14,
   "metadata": {},
   "outputs": [],
   "source": [
    "# GET THE DATAFRAME.\n",
    "\n",
    "import pandas as pd\n",
    "\n",
    "df_path = \"../../data/raw/debunking_review.tsv\"\n",
    "df = pd.read_csv(df_path, sep=\"\\t\")"
   ]
  },
  {
   "cell_type": "code",
   "execution_count": 15,
   "metadata": {},
   "outputs": [],
   "source": [
    "# PERFORM DATA PROCESSING (LEMATIZATION ETC), GET TFIDF SCORES AND FEATURE NAMES.\n",
    "\n",
    "from eppi_text_classification import (\n",
    "    get_features_and_labels,\n",
    "    get_tfidf_and_names,\n",
    ")\n",
    "\n",
    "word_features, labels = get_features_and_labels(df)\n",
    "\n",
    "tfidf_scores, feature_names = get_tfidf_and_names(word_features)"
   ]
  },
  {
   "cell_type": "code",
   "execution_count": 16,
   "metadata": {},
   "outputs": [
    {
     "name": "stdout",
     "output_type": "stream",
     "text": [
      "sqlite:////Users/sjmolyneux/Documents/EPPI_Classification_Public/eppi_text_classification/optuna.db\n"
     ]
    },
    {
     "name": "stderr",
     "output_type": "stream",
     "text": [
      "[I 2024-09-10 17:42:05,577] A new study created in RDB with name: lgbm_binary\n",
      "[I 2024-09-10 17:42:10,069] Trial 1 finished with value: 0.9152436369393976 and parameters: {'max_depth': 8, 'min_child_samples': 15, 'learning_rate': 0.21030120308969755, 'num_leaves': 5, 'n_estimators': 103, 'min_split_gain': 0.009149138299107058, 'min_child_weight': 2.6246507587669235e-06, 'reg_alpha': 0.38754349722480813, 'reg_lambda': 1.0285950164213769e-05}. Best is trial 1 with value: 0.9152436369393976.\n",
      "[I 2024-09-10 17:42:10,889] Trial 2 finished with value: 0.7622439990996212 and parameters: {'max_depth': 4, 'min_child_samples': 24, 'learning_rate': 0.3754818395376641, 'num_leaves': 8, 'n_estimators': 125, 'min_split_gain': 1.0587747495542518e-05, 'min_child_weight': 0.0033733949460549467, 'reg_alpha': 0.0002936654257399595, 'reg_lambda': 0.06791152389130495}. Best is trial 1 with value: 0.9152436369393976.\n",
      "[I 2024-09-10 17:42:11,599] Trial 10 finished with value: 0.7893848652474476 and parameters: {'max_depth': 12, 'min_child_samples': 14, 'learning_rate': 0.4528872730755099, 'num_leaves': 47, 'n_estimators': 227, 'min_split_gain': 2.7564300955775473e-06, 'min_child_weight': 4.495739663920848e-06, 'reg_alpha': 2.9443239855831322, 'reg_lambda': 0.00015565804109757189}. Best is trial 1 with value: 0.9152436369393976.\n",
      "[I 2024-09-10 17:42:12,207] Trial 0 finished with value: 0.9008434847493917 and parameters: {'max_depth': 2, 'min_child_samples': 8, 'learning_rate': 0.3309519082883321, 'num_leaves': 40, 'n_estimators': 120, 'min_split_gain': 0.009947988118471775, 'min_child_weight': 0.0960218322184607, 'reg_alpha': 6.336902336228912e-05, 'reg_lambda': 2.4879952382053155e-05}. Best is trial 1 with value: 0.9152436369393976.\n",
      "[I 2024-09-10 17:42:12,425] Trial 3 finished with value: 0.8224569174079726 and parameters: {'max_depth': 10, 'min_child_samples': 28, 'learning_rate': 0.3236258576835501, 'num_leaves': 18, 'n_estimators': 891, 'min_split_gain': 0.1943022621671597, 'min_child_weight': 2.34994884334107e-06, 'reg_alpha': 1.0670885669875456, 'reg_lambda': 0.0007962160612371226}. Best is trial 1 with value: 0.9152436369393976.\n",
      "[I 2024-09-10 17:42:12,497] Trial 6 finished with value: 0.8682652820684608 and parameters: {'max_depth': 3, 'min_child_samples': 15, 'learning_rate': 0.42818179834314574, 'num_leaves': 40, 'n_estimators': 575, 'min_split_gain': 0.0003144305725592619, 'min_child_weight': 0.010359022183121272, 'reg_alpha': 6.522849877862775, 'reg_lambda': 3.3752119327415038}. Best is trial 1 with value: 0.9152436369393976.\n",
      "[I 2024-09-10 17:42:15,092] Trial 9 finished with value: 0.8401071474358407 and parameters: {'max_depth': 15, 'min_child_samples': 12, 'learning_rate': 0.29213204377906665, 'num_leaves': 21, 'n_estimators': 1097, 'min_split_gain': 0.01650587994220476, 'min_child_weight': 0.08752705387032679, 'reg_alpha': 6.432874037958702, 'reg_lambda': 0.05013121269144704}. Best is trial 1 with value: 0.9152436369393976.\n",
      "[I 2024-09-10 17:42:15,702] Trial 8 finished with value: 0.9070034874907024 and parameters: {'max_depth': 9, 'min_child_samples': 23, 'learning_rate': 0.19430399991772582, 'num_leaves': 29, 'n_estimators': 1074, 'min_split_gain': 0.015977435563777023, 'min_child_weight': 0.028787418837460606, 'reg_alpha': 0.011108972751918252, 'reg_lambda': 0.016071844910612355}. Best is trial 1 with value: 0.9152436369393976.\n",
      "[I 2024-09-10 17:42:17,522] Trial 4 finished with value: 0.5120731693627811 and parameters: {'max_depth': 6, 'min_child_samples': 14, 'learning_rate': 0.5746849505259195, 'num_leaves': 24, 'n_estimators': 1497, 'min_split_gain': 0.0003858092687457441, 'min_child_weight': 1.4438715912383908e-05, 'reg_alpha': 0.005353397736156295, 'reg_lambda': 0.01622140626937244}. Best is trial 1 with value: 0.9152436369393976.\n",
      "[I 2024-09-10 17:42:17,872] Trial 14 finished with value: 0.7054009580408137 and parameters: {'max_depth': 7, 'min_child_samples': 10, 'learning_rate': 0.351249510123694, 'num_leaves': 29, 'n_estimators': 212, 'min_split_gain': 0.01505905535373179, 'min_child_weight': 5.235113919559954e-05, 'reg_alpha': 0.12519089379887569, 'reg_lambda': 0.002362825779998271}. Best is trial 1 with value: 0.9152436369393976.\n",
      "[I 2024-09-10 17:42:18,635] Trial 12 finished with value: 0.6112389158588957 and parameters: {'max_depth': 12, 'min_child_samples': 26, 'learning_rate': 0.561946272144979, 'num_leaves': 39, 'n_estimators': 1510, 'min_split_gain': 0.02311952627024667, 'min_child_weight': 2.3035186477343962e-06, 'reg_alpha': 0.7259490678290262, 'reg_lambda': 0.06941272926806374}. Best is trial 1 with value: 0.9152436369393976.\n",
      "[I 2024-09-10 17:42:20,411] Trial 13 finished with value: 0.9038882596871952 and parameters: {'max_depth': 10, 'min_child_samples': 4, 'learning_rate': 0.10187459368782922, 'num_leaves': 2, 'n_estimators': 206, 'min_split_gain': 0.0003613698843267143, 'min_child_weight': 0.0001621319989158558, 'reg_alpha': 1.3162010928107293, 'reg_lambda': 0.39708318773252294}. Best is trial 1 with value: 0.9152436369393976.\n",
      "[I 2024-09-10 17:42:21,797] Trial 7 finished with value: 0.9169712534583937 and parameters: {'max_depth': 14, 'min_child_samples': 2, 'learning_rate': 0.22743024601583814, 'num_leaves': 42, 'n_estimators': 172, 'min_split_gain': 3.674635058620551e-06, 'min_child_weight': 3.5775699557175285e-05, 'reg_alpha': 0.05446492027067965, 'reg_lambda': 0.10191676336177516}. Best is trial 7 with value: 0.9169712534583937.\n",
      "[I 2024-09-10 17:42:22,000] Trial 19 finished with value: 0.8366152552756937 and parameters: {'max_depth': 12, 'min_child_samples': 22, 'learning_rate': 0.4385834461970246, 'num_leaves': 2, 'n_estimators': 809, 'min_split_gain': 7.628652261560233e-06, 'min_child_weight': 4.070448633029244e-05, 'reg_alpha': 0.37980798702458024, 'reg_lambda': 0.00033832095962311407}. Best is trial 7 with value: 0.9169712534583937.\n",
      "[I 2024-09-10 17:42:24,409] Trial 18 finished with value: 0.8846823949366103 and parameters: {'max_depth': 12, 'min_child_samples': 7, 'learning_rate': 0.18767548220414784, 'num_leaves': 21, 'n_estimators': 540, 'min_split_gain': 4.25404601791422, 'min_child_weight': 2.841845535008556e-06, 'reg_alpha': 0.02218607589954927, 'reg_lambda': 3.2601092425761986}. Best is trial 7 with value: 0.9169712534583937.\n",
      "[I 2024-09-10 17:42:25,654] Trial 5 finished with value: 0.8922424157563921 and parameters: {'max_depth': 12, 'min_child_samples': 5, 'learning_rate': 0.14608313868486342, 'num_leaves': 6, 'n_estimators': 2362, 'min_split_gain': 3.9527818459137425, 'min_child_weight': 0.07266957573424519, 'reg_alpha': 1.78145369126077e-05, 'reg_lambda': 0.032321575572931326}. Best is trial 7 with value: 0.9169712534583937.\n",
      "[I 2024-09-10 17:42:25,760] Trial 15 finished with value: 0.9064434241333411 and parameters: {'max_depth': 15, 'min_child_samples': 4, 'learning_rate': 0.22936158349283284, 'num_leaves': 3, 'n_estimators': 851, 'min_split_gain': 9.119383360199235, 'min_child_weight': 0.035795241465620714, 'reg_alpha': 0.008617943546669143, 'reg_lambda': 3.13275628216176}. Best is trial 7 with value: 0.9169712534583937.\n",
      "[I 2024-09-10 17:42:26,512] Trial 17 finished with value: 0.9123778447744652 and parameters: {'max_depth': 1, 'min_child_samples': 25, 'learning_rate': 0.3039853139267711, 'num_leaves': 37, 'n_estimators': 1904, 'min_split_gain': 2.0570972748230684e-05, 'min_child_weight': 0.00012001253098538415, 'reg_alpha': 0.005141357257987236, 'reg_lambda': 0.01712902971985847}. Best is trial 7 with value: 0.9169712534583937.\n",
      "[I 2024-09-10 17:42:28,456] Trial 16 finished with value: 0.874620558884712 and parameters: {'max_depth': 3, 'min_child_samples': 13, 'learning_rate': 0.3248753389850243, 'num_leaves': 49, 'n_estimators': 2490, 'min_split_gain': 1.3723613484641264, 'min_child_weight': 0.005251095439432048, 'reg_alpha': 9.90186648377502, 'reg_lambda': 0.921240304734856}. Best is trial 7 with value: 0.9169712534583937.\n",
      "[I 2024-09-10 17:42:29,553] Trial 27 finished with value: 0.8719252272067993 and parameters: {'max_depth': 5, 'min_child_samples': 18, 'learning_rate': 0.25782222985782, 'num_leaves': 13, 'n_estimators': 324, 'min_split_gain': 0.1893117759024097, 'min_child_weight': 0.0005168822290879882, 'reg_alpha': 0.06679501205532096, 'reg_lambda': 1.4195705881097894e-05}. Best is trial 7 with value: 0.9169712534583937.\n",
      "[I 2024-09-10 17:42:30,593] Trial 29 finished with value: 0.8982641418250158 and parameters: {'max_depth': 6, 'min_child_samples': 20, 'learning_rate': 0.2515072543695611, 'num_leaves': 13, 'n_estimators': 307, 'min_split_gain': 0.25105030564974085, 'min_child_weight': 0.0012053761270566876, 'reg_alpha': 0.06294268328315651, 'reg_lambda': 3.065995330969791e-05}. Best is trial 7 with value: 0.9169712534583937.\n",
      "[I 2024-09-10 17:42:30,868] Trial 11 finished with value: 0.8658492066446062 and parameters: {'max_depth': 11, 'min_child_samples': 2, 'learning_rate': 0.5068579508122041, 'num_leaves': 35, 'n_estimators': 1744, 'min_split_gain': 2.9561445162160745e-05, 'min_child_weight': 0.0014690086893193004, 'reg_alpha': 0.0027708335443548267, 'reg_lambda': 0.07429315982984913}. Best is trial 7 with value: 0.9169712534583937.\n",
      "[I 2024-09-10 17:42:31,228] Trial 28 finished with value: 0.9028319688813976 and parameters: {'max_depth': 5, 'min_child_samples': 18, 'learning_rate': 0.26031907479824196, 'num_leaves': 13, 'n_estimators': 317, 'min_split_gain': 3.384201827482495e-05, 'min_child_weight': 0.000941829199937709, 'reg_alpha': 0.10640193738544607, 'reg_lambda': 1.086640799263078e-05}. Best is trial 7 with value: 0.9169712534583937.\n",
      "[I 2024-09-10 17:42:32,701] Trial 22 finished with value: 0.9283522123381429 and parameters: {'max_depth': 9, 'min_child_samples': 22, 'learning_rate': 0.1437225446777248, 'num_leaves': 5, 'n_estimators': 2984, 'min_split_gain': 1.9300312769119985, 'min_child_weight': 0.00029805675542133296, 'reg_alpha': 0.021168379766660073, 'reg_lambda': 1.2706546991460967}. Best is trial 22 with value: 0.9283522123381429.\n",
      "[I 2024-09-10 17:42:32,779] Trial 30 finished with value: 0.9079403481346385 and parameters: {'max_depth': 6, 'min_child_samples': 19, 'learning_rate': 0.2528102612005395, 'num_leaves': 15, 'n_estimators': 352, 'min_split_gain': 6.692079263606674e-05, 'min_child_weight': 0.000641714907134564, 'reg_alpha': 0.07203170772837608, 'reg_lambda': 1.550783604066646e-05}. Best is trial 22 with value: 0.9283522123381429.\n",
      "[I 2024-09-10 17:42:34,395] Trial 23 finished with value: 0.851979385816435 and parameters: {'max_depth': 9, 'min_child_samples': 21, 'learning_rate': 0.1841563746025939, 'num_leaves': 12, 'n_estimators': 2670, 'min_split_gain': 6.898162401743663, 'min_child_weight': 0.0008297516160368787, 'reg_alpha': 0.016973338570376178, 'reg_lambda': 1.1416445825999342e-05}. Best is trial 22 with value: 0.9283522123381429.\n",
      "[I 2024-09-10 17:42:34,540] Trial 25 finished with value: 0.808433148944743 and parameters: {'max_depth': 15, 'min_child_samples': 1, 'learning_rate': 0.2254194086311208, 'num_leaves': 14, 'n_estimators': 337, 'min_split_gain': 6.890805330661603, 'min_child_weight': 0.0005552047035691603, 'reg_alpha': 0.04875651907218032, 'reg_lambda': 1.095293765818251e-05}. Best is trial 22 with value: 0.9283522123381429.\n",
      "[I 2024-09-10 17:42:34,943] Trial 24 finished with value: 0.8603328211099827 and parameters: {'max_depth': 15, 'min_child_samples': 1, 'learning_rate': 0.22276327333409462, 'num_leaves': 12, 'n_estimators': 361, 'min_split_gain': 7.273809113342077, 'min_child_weight': 0.0008314140675793293, 'reg_alpha': 0.06307480981946666, 'reg_lambda': 6.559642543778076}. Best is trial 22 with value: 0.9283522123381429.\n",
      "[I 2024-09-10 17:42:35,081] Trial 32 finished with value: 0.9140171662764435 and parameters: {'max_depth': 8, 'min_child_samples': 30, 'learning_rate': 0.19876106498167745, 'num_leaves': 34, 'n_estimators': 105, 'min_split_gain': 6.834861101032566e-05, 'min_child_weight': 1.0441613782552233e-05, 'reg_alpha': 0.0007695217661917484, 'reg_lambda': 0.005411303308339298}. Best is trial 22 with value: 0.9283522123381429.\n",
      "[I 2024-09-10 17:42:36,413] Trial 26 finished with value: 0.9125354405977476 and parameters: {'max_depth': 15, 'min_child_samples': 1, 'learning_rate': 0.2287058761611761, 'num_leaves': 13, 'n_estimators': 336, 'min_split_gain': 7.797641309360907e-05, 'min_child_weight': 0.0006628619904617286, 'reg_alpha': 0.06962774109364886, 'reg_lambda': 1.5972376127502725e-05}. Best is trial 22 with value: 0.9283522123381429.\n",
      "[I 2024-09-10 17:42:37,017] Trial 33 finished with value: 0.9287169425405923 and parameters: {'max_depth': 8, 'min_child_samples': 30, 'learning_rate': 0.10167120316430679, 'num_leaves': 8, 'n_estimators': 152, 'min_split_gain': 0.002168318759617958, 'min_child_weight': 1.0641794019972236e-06, 'reg_alpha': 0.2569162579492289, 'reg_lambda': 0.24963851129859718}. Best is trial 33 with value: 0.9287169425405923.\n",
      "[I 2024-09-10 17:42:38,166] Trial 34 finished with value: 0.9294969163209011 and parameters: {'max_depth': 14, 'min_child_samples': 8, 'learning_rate': 0.1335857777285078, 'num_leaves': 9, 'n_estimators': 139, 'min_split_gain': 0.002847455375419291, 'min_child_weight': 1.7004158193588978e-05, 'reg_alpha': 0.2853553025422683, 'reg_lambda': 0.5250381751310691}. Best is trial 34 with value: 0.9294969163209011.\n",
      "[I 2024-09-10 17:42:38,328] Trial 21 finished with value: 0.9295280514657446 and parameters: {'max_depth': 12, 'min_child_samples': 2, 'learning_rate': 0.1019806961115057, 'num_leaves': 4, 'n_estimators': 2527, 'min_split_gain': 1.1900684605512648, 'min_child_weight': 0.0003827049264012904, 'reg_alpha': 0.09356331449338348, 'reg_lambda': 1.0063734760356311e-05}. Best is trial 21 with value: 0.9295280514657446.\n",
      "[I 2024-09-10 17:42:38,725] Trial 31 finished with value: 0.9341733914443932 and parameters: {'max_depth': 8, 'min_child_samples': 1, 'learning_rate': 0.11024315158795545, 'num_leaves': 35, 'n_estimators': 154, 'min_split_gain': 6.586869562076393e-05, 'min_child_weight': 1.2205549902945493e-05, 'reg_alpha': 0.1395930731620728, 'reg_lambda': 0.0020735846488678295}. Best is trial 31 with value: 0.9341733914443932.\n",
      "[I 2024-09-10 17:42:38,865] Trial 20 finished with value: 0.9223592286755276 and parameters: {'max_depth': 7, 'min_child_samples': 1, 'learning_rate': 0.16115817609174451, 'num_leaves': 26, 'n_estimators': 2711, 'min_split_gain': 0.10860376670819798, 'min_child_weight': 7.365484778261115e-05, 'reg_alpha': 1.3434589360074848e-05, 'reg_lambda': 0.5854505321828846}. Best is trial 31 with value: 0.9341733914443932.\n",
      "[I 2024-09-10 17:42:39,740] Trial 35 finished with value: 0.9331676140140055 and parameters: {'max_depth': 13, 'min_child_samples': 8, 'learning_rate': 0.10480213140849858, 'num_leaves': 7, 'n_estimators': 143, 'min_split_gain': 0.00271287610209, 'min_child_weight': 9.485957067214207e-06, 'reg_alpha': 0.2696279528429381, 'reg_lambda': 5.279970418215143e-05}. Best is trial 31 with value: 0.9341733914443932.\n"
     ]
    }
   ],
   "source": [
    "# PERFORM AN OPTUNA HYPERPARAMETER SEARCH, CAN CHANGE THE SEARCH SPACE IN OPT.PY\n",
    "\n",
    "from eppi_text_classification import OptunaHyperparameterOptimisation\n",
    "\n",
    "optimiser = OptunaHyperparameterOptimisation(\n",
    "    tfidf_scores,\n",
    "    labels,\n",
    "    \"LGBMClassifier\",\n",
    "    n_trials_per_job=3,\n",
    "    n_jobs=-1,\n",
    "    nfolds=3,\n",
    "    num_cv_repeats=1,\n",
    "    # db_url=f\"sqlite:////mnt/tmp/optuna.db\", #Use this one on Azure\n",
    "    db_url=None,\n",
    ")\n",
    "\n",
    "optimiser.delete_optuna_study(\"lgbm_binary\")\n",
    "best_params = optimiser.optimise_hyperparameters(study_name=\"lgbm_binary\")"
   ]
  },
  {
   "cell_type": "code",
   "execution_count": 17,
   "metadata": {},
   "outputs": [
    {
     "data": {
      "text/html": [
       "<style>#sk-container-id-2 {\n",
       "  /* Definition of color scheme common for light and dark mode */\n",
       "  --sklearn-color-text: black;\n",
       "  --sklearn-color-line: gray;\n",
       "  /* Definition of color scheme for unfitted estimators */\n",
       "  --sklearn-color-unfitted-level-0: #fff5e6;\n",
       "  --sklearn-color-unfitted-level-1: #f6e4d2;\n",
       "  --sklearn-color-unfitted-level-2: #ffe0b3;\n",
       "  --sklearn-color-unfitted-level-3: chocolate;\n",
       "  /* Definition of color scheme for fitted estimators */\n",
       "  --sklearn-color-fitted-level-0: #f0f8ff;\n",
       "  --sklearn-color-fitted-level-1: #d4ebff;\n",
       "  --sklearn-color-fitted-level-2: #b3dbfd;\n",
       "  --sklearn-color-fitted-level-3: cornflowerblue;\n",
       "\n",
       "  /* Specific color for light theme */\n",
       "  --sklearn-color-text-on-default-background: var(--sg-text-color, var(--theme-code-foreground, var(--jp-content-font-color1, black)));\n",
       "  --sklearn-color-background: var(--sg-background-color, var(--theme-background, var(--jp-layout-color0, white)));\n",
       "  --sklearn-color-border-box: var(--sg-text-color, var(--theme-code-foreground, var(--jp-content-font-color1, black)));\n",
       "  --sklearn-color-icon: #696969;\n",
       "\n",
       "  @media (prefers-color-scheme: dark) {\n",
       "    /* Redefinition of color scheme for dark theme */\n",
       "    --sklearn-color-text-on-default-background: var(--sg-text-color, var(--theme-code-foreground, var(--jp-content-font-color1, white)));\n",
       "    --sklearn-color-background: var(--sg-background-color, var(--theme-background, var(--jp-layout-color0, #111)));\n",
       "    --sklearn-color-border-box: var(--sg-text-color, var(--theme-code-foreground, var(--jp-content-font-color1, white)));\n",
       "    --sklearn-color-icon: #878787;\n",
       "  }\n",
       "}\n",
       "\n",
       "#sk-container-id-2 {\n",
       "  color: var(--sklearn-color-text);\n",
       "}\n",
       "\n",
       "#sk-container-id-2 pre {\n",
       "  padding: 0;\n",
       "}\n",
       "\n",
       "#sk-container-id-2 input.sk-hidden--visually {\n",
       "  border: 0;\n",
       "  clip: rect(1px 1px 1px 1px);\n",
       "  clip: rect(1px, 1px, 1px, 1px);\n",
       "  height: 1px;\n",
       "  margin: -1px;\n",
       "  overflow: hidden;\n",
       "  padding: 0;\n",
       "  position: absolute;\n",
       "  width: 1px;\n",
       "}\n",
       "\n",
       "#sk-container-id-2 div.sk-dashed-wrapped {\n",
       "  border: 1px dashed var(--sklearn-color-line);\n",
       "  margin: 0 0.4em 0.5em 0.4em;\n",
       "  box-sizing: border-box;\n",
       "  padding-bottom: 0.4em;\n",
       "  background-color: var(--sklearn-color-background);\n",
       "}\n",
       "\n",
       "#sk-container-id-2 div.sk-container {\n",
       "  /* jupyter's `normalize.less` sets `[hidden] { display: none; }`\n",
       "     but bootstrap.min.css set `[hidden] { display: none !important; }`\n",
       "     so we also need the `!important` here to be able to override the\n",
       "     default hidden behavior on the sphinx rendered scikit-learn.org.\n",
       "     See: https://github.com/scikit-learn/scikit-learn/issues/21755 */\n",
       "  display: inline-block !important;\n",
       "  position: relative;\n",
       "}\n",
       "\n",
       "#sk-container-id-2 div.sk-text-repr-fallback {\n",
       "  display: none;\n",
       "}\n",
       "\n",
       "div.sk-parallel-item,\n",
       "div.sk-serial,\n",
       "div.sk-item {\n",
       "  /* draw centered vertical line to link estimators */\n",
       "  background-image: linear-gradient(var(--sklearn-color-text-on-default-background), var(--sklearn-color-text-on-default-background));\n",
       "  background-size: 2px 100%;\n",
       "  background-repeat: no-repeat;\n",
       "  background-position: center center;\n",
       "}\n",
       "\n",
       "/* Parallel-specific style estimator block */\n",
       "\n",
       "#sk-container-id-2 div.sk-parallel-item::after {\n",
       "  content: \"\";\n",
       "  width: 100%;\n",
       "  border-bottom: 2px solid var(--sklearn-color-text-on-default-background);\n",
       "  flex-grow: 1;\n",
       "}\n",
       "\n",
       "#sk-container-id-2 div.sk-parallel {\n",
       "  display: flex;\n",
       "  align-items: stretch;\n",
       "  justify-content: center;\n",
       "  background-color: var(--sklearn-color-background);\n",
       "  position: relative;\n",
       "}\n",
       "\n",
       "#sk-container-id-2 div.sk-parallel-item {\n",
       "  display: flex;\n",
       "  flex-direction: column;\n",
       "}\n",
       "\n",
       "#sk-container-id-2 div.sk-parallel-item:first-child::after {\n",
       "  align-self: flex-end;\n",
       "  width: 50%;\n",
       "}\n",
       "\n",
       "#sk-container-id-2 div.sk-parallel-item:last-child::after {\n",
       "  align-self: flex-start;\n",
       "  width: 50%;\n",
       "}\n",
       "\n",
       "#sk-container-id-2 div.sk-parallel-item:only-child::after {\n",
       "  width: 0;\n",
       "}\n",
       "\n",
       "/* Serial-specific style estimator block */\n",
       "\n",
       "#sk-container-id-2 div.sk-serial {\n",
       "  display: flex;\n",
       "  flex-direction: column;\n",
       "  align-items: center;\n",
       "  background-color: var(--sklearn-color-background);\n",
       "  padding-right: 1em;\n",
       "  padding-left: 1em;\n",
       "}\n",
       "\n",
       "\n",
       "/* Toggleable style: style used for estimator/Pipeline/ColumnTransformer box that is\n",
       "clickable and can be expanded/collapsed.\n",
       "- Pipeline and ColumnTransformer use this feature and define the default style\n",
       "- Estimators will overwrite some part of the style using the `sk-estimator` class\n",
       "*/\n",
       "\n",
       "/* Pipeline and ColumnTransformer style (default) */\n",
       "\n",
       "#sk-container-id-2 div.sk-toggleable {\n",
       "  /* Default theme specific background. It is overwritten whether we have a\n",
       "  specific estimator or a Pipeline/ColumnTransformer */\n",
       "  background-color: var(--sklearn-color-background);\n",
       "}\n",
       "\n",
       "/* Toggleable label */\n",
       "#sk-container-id-2 label.sk-toggleable__label {\n",
       "  cursor: pointer;\n",
       "  display: block;\n",
       "  width: 100%;\n",
       "  margin-bottom: 0;\n",
       "  padding: 0.5em;\n",
       "  box-sizing: border-box;\n",
       "  text-align: center;\n",
       "}\n",
       "\n",
       "#sk-container-id-2 label.sk-toggleable__label-arrow:before {\n",
       "  /* Arrow on the left of the label */\n",
       "  content: \"▸\";\n",
       "  float: left;\n",
       "  margin-right: 0.25em;\n",
       "  color: var(--sklearn-color-icon);\n",
       "}\n",
       "\n",
       "#sk-container-id-2 label.sk-toggleable__label-arrow:hover:before {\n",
       "  color: var(--sklearn-color-text);\n",
       "}\n",
       "\n",
       "/* Toggleable content - dropdown */\n",
       "\n",
       "#sk-container-id-2 div.sk-toggleable__content {\n",
       "  max-height: 0;\n",
       "  max-width: 0;\n",
       "  overflow: hidden;\n",
       "  text-align: left;\n",
       "  /* unfitted */\n",
       "  background-color: var(--sklearn-color-unfitted-level-0);\n",
       "}\n",
       "\n",
       "#sk-container-id-2 div.sk-toggleable__content.fitted {\n",
       "  /* fitted */\n",
       "  background-color: var(--sklearn-color-fitted-level-0);\n",
       "}\n",
       "\n",
       "#sk-container-id-2 div.sk-toggleable__content pre {\n",
       "  margin: 0.2em;\n",
       "  border-radius: 0.25em;\n",
       "  color: var(--sklearn-color-text);\n",
       "  /* unfitted */\n",
       "  background-color: var(--sklearn-color-unfitted-level-0);\n",
       "}\n",
       "\n",
       "#sk-container-id-2 div.sk-toggleable__content.fitted pre {\n",
       "  /* unfitted */\n",
       "  background-color: var(--sklearn-color-fitted-level-0);\n",
       "}\n",
       "\n",
       "#sk-container-id-2 input.sk-toggleable__control:checked~div.sk-toggleable__content {\n",
       "  /* Expand drop-down */\n",
       "  max-height: 200px;\n",
       "  max-width: 100%;\n",
       "  overflow: auto;\n",
       "}\n",
       "\n",
       "#sk-container-id-2 input.sk-toggleable__control:checked~label.sk-toggleable__label-arrow:before {\n",
       "  content: \"▾\";\n",
       "}\n",
       "\n",
       "/* Pipeline/ColumnTransformer-specific style */\n",
       "\n",
       "#sk-container-id-2 div.sk-label input.sk-toggleable__control:checked~label.sk-toggleable__label {\n",
       "  color: var(--sklearn-color-text);\n",
       "  background-color: var(--sklearn-color-unfitted-level-2);\n",
       "}\n",
       "\n",
       "#sk-container-id-2 div.sk-label.fitted input.sk-toggleable__control:checked~label.sk-toggleable__label {\n",
       "  background-color: var(--sklearn-color-fitted-level-2);\n",
       "}\n",
       "\n",
       "/* Estimator-specific style */\n",
       "\n",
       "/* Colorize estimator box */\n",
       "#sk-container-id-2 div.sk-estimator input.sk-toggleable__control:checked~label.sk-toggleable__label {\n",
       "  /* unfitted */\n",
       "  background-color: var(--sklearn-color-unfitted-level-2);\n",
       "}\n",
       "\n",
       "#sk-container-id-2 div.sk-estimator.fitted input.sk-toggleable__control:checked~label.sk-toggleable__label {\n",
       "  /* fitted */\n",
       "  background-color: var(--sklearn-color-fitted-level-2);\n",
       "}\n",
       "\n",
       "#sk-container-id-2 div.sk-label label.sk-toggleable__label,\n",
       "#sk-container-id-2 div.sk-label label {\n",
       "  /* The background is the default theme color */\n",
       "  color: var(--sklearn-color-text-on-default-background);\n",
       "}\n",
       "\n",
       "/* On hover, darken the color of the background */\n",
       "#sk-container-id-2 div.sk-label:hover label.sk-toggleable__label {\n",
       "  color: var(--sklearn-color-text);\n",
       "  background-color: var(--sklearn-color-unfitted-level-2);\n",
       "}\n",
       "\n",
       "/* Label box, darken color on hover, fitted */\n",
       "#sk-container-id-2 div.sk-label.fitted:hover label.sk-toggleable__label.fitted {\n",
       "  color: var(--sklearn-color-text);\n",
       "  background-color: var(--sklearn-color-fitted-level-2);\n",
       "}\n",
       "\n",
       "/* Estimator label */\n",
       "\n",
       "#sk-container-id-2 div.sk-label label {\n",
       "  font-family: monospace;\n",
       "  font-weight: bold;\n",
       "  display: inline-block;\n",
       "  line-height: 1.2em;\n",
       "}\n",
       "\n",
       "#sk-container-id-2 div.sk-label-container {\n",
       "  text-align: center;\n",
       "}\n",
       "\n",
       "/* Estimator-specific */\n",
       "#sk-container-id-2 div.sk-estimator {\n",
       "  font-family: monospace;\n",
       "  border: 1px dotted var(--sklearn-color-border-box);\n",
       "  border-radius: 0.25em;\n",
       "  box-sizing: border-box;\n",
       "  margin-bottom: 0.5em;\n",
       "  /* unfitted */\n",
       "  background-color: var(--sklearn-color-unfitted-level-0);\n",
       "}\n",
       "\n",
       "#sk-container-id-2 div.sk-estimator.fitted {\n",
       "  /* fitted */\n",
       "  background-color: var(--sklearn-color-fitted-level-0);\n",
       "}\n",
       "\n",
       "/* on hover */\n",
       "#sk-container-id-2 div.sk-estimator:hover {\n",
       "  /* unfitted */\n",
       "  background-color: var(--sklearn-color-unfitted-level-2);\n",
       "}\n",
       "\n",
       "#sk-container-id-2 div.sk-estimator.fitted:hover {\n",
       "  /* fitted */\n",
       "  background-color: var(--sklearn-color-fitted-level-2);\n",
       "}\n",
       "\n",
       "/* Specification for estimator info (e.g. \"i\" and \"?\") */\n",
       "\n",
       "/* Common style for \"i\" and \"?\" */\n",
       "\n",
       ".sk-estimator-doc-link,\n",
       "a:link.sk-estimator-doc-link,\n",
       "a:visited.sk-estimator-doc-link {\n",
       "  float: right;\n",
       "  font-size: smaller;\n",
       "  line-height: 1em;\n",
       "  font-family: monospace;\n",
       "  background-color: var(--sklearn-color-background);\n",
       "  border-radius: 1em;\n",
       "  height: 1em;\n",
       "  width: 1em;\n",
       "  text-decoration: none !important;\n",
       "  margin-left: 1ex;\n",
       "  /* unfitted */\n",
       "  border: var(--sklearn-color-unfitted-level-1) 1pt solid;\n",
       "  color: var(--sklearn-color-unfitted-level-1);\n",
       "}\n",
       "\n",
       ".sk-estimator-doc-link.fitted,\n",
       "a:link.sk-estimator-doc-link.fitted,\n",
       "a:visited.sk-estimator-doc-link.fitted {\n",
       "  /* fitted */\n",
       "  border: var(--sklearn-color-fitted-level-1) 1pt solid;\n",
       "  color: var(--sklearn-color-fitted-level-1);\n",
       "}\n",
       "\n",
       "/* On hover */\n",
       "div.sk-estimator:hover .sk-estimator-doc-link:hover,\n",
       ".sk-estimator-doc-link:hover,\n",
       "div.sk-label-container:hover .sk-estimator-doc-link:hover,\n",
       ".sk-estimator-doc-link:hover {\n",
       "  /* unfitted */\n",
       "  background-color: var(--sklearn-color-unfitted-level-3);\n",
       "  color: var(--sklearn-color-background);\n",
       "  text-decoration: none;\n",
       "}\n",
       "\n",
       "div.sk-estimator.fitted:hover .sk-estimator-doc-link.fitted:hover,\n",
       ".sk-estimator-doc-link.fitted:hover,\n",
       "div.sk-label-container:hover .sk-estimator-doc-link.fitted:hover,\n",
       ".sk-estimator-doc-link.fitted:hover {\n",
       "  /* fitted */\n",
       "  background-color: var(--sklearn-color-fitted-level-3);\n",
       "  color: var(--sklearn-color-background);\n",
       "  text-decoration: none;\n",
       "}\n",
       "\n",
       "/* Span, style for the box shown on hovering the info icon */\n",
       ".sk-estimator-doc-link span {\n",
       "  display: none;\n",
       "  z-index: 9999;\n",
       "  position: relative;\n",
       "  font-weight: normal;\n",
       "  right: .2ex;\n",
       "  padding: .5ex;\n",
       "  margin: .5ex;\n",
       "  width: min-content;\n",
       "  min-width: 20ex;\n",
       "  max-width: 50ex;\n",
       "  color: var(--sklearn-color-text);\n",
       "  box-shadow: 2pt 2pt 4pt #999;\n",
       "  /* unfitted */\n",
       "  background: var(--sklearn-color-unfitted-level-0);\n",
       "  border: .5pt solid var(--sklearn-color-unfitted-level-3);\n",
       "}\n",
       "\n",
       ".sk-estimator-doc-link.fitted span {\n",
       "  /* fitted */\n",
       "  background: var(--sklearn-color-fitted-level-0);\n",
       "  border: var(--sklearn-color-fitted-level-3);\n",
       "}\n",
       "\n",
       ".sk-estimator-doc-link:hover span {\n",
       "  display: block;\n",
       "}\n",
       "\n",
       "/* \"?\"-specific style due to the `<a>` HTML tag */\n",
       "\n",
       "#sk-container-id-2 a.estimator_doc_link {\n",
       "  float: right;\n",
       "  font-size: 1rem;\n",
       "  line-height: 1em;\n",
       "  font-family: monospace;\n",
       "  background-color: var(--sklearn-color-background);\n",
       "  border-radius: 1rem;\n",
       "  height: 1rem;\n",
       "  width: 1rem;\n",
       "  text-decoration: none;\n",
       "  /* unfitted */\n",
       "  color: var(--sklearn-color-unfitted-level-1);\n",
       "  border: var(--sklearn-color-unfitted-level-1) 1pt solid;\n",
       "}\n",
       "\n",
       "#sk-container-id-2 a.estimator_doc_link.fitted {\n",
       "  /* fitted */\n",
       "  border: var(--sklearn-color-fitted-level-1) 1pt solid;\n",
       "  color: var(--sklearn-color-fitted-level-1);\n",
       "}\n",
       "\n",
       "/* On hover */\n",
       "#sk-container-id-2 a.estimator_doc_link:hover {\n",
       "  /* unfitted */\n",
       "  background-color: var(--sklearn-color-unfitted-level-3);\n",
       "  color: var(--sklearn-color-background);\n",
       "  text-decoration: none;\n",
       "}\n",
       "\n",
       "#sk-container-id-2 a.estimator_doc_link.fitted:hover {\n",
       "  /* fitted */\n",
       "  background-color: var(--sklearn-color-fitted-level-3);\n",
       "}\n",
       "</style><div id=\"sk-container-id-2\" class=\"sk-top-container\"><div class=\"sk-text-repr-fallback\"><pre>LGBMClassifier(learning_rate=0.1245928917280467, max_depth=4,\n",
       "               min_child_samples=30, min_child_weight=5.544840854157574e-06,\n",
       "               min_split_gain=2.52381000405986e-06, n_estimators=2455, n_jobs=1,\n",
       "               num_leaves=6, objective=&#x27;binary&#x27;,\n",
       "               reg_alpha=3.629909607712911e-05,\n",
       "               reg_lambda=3.671749546766942e-05, scale_pos_weight=27,\n",
       "               subsample_for_bin=20000, verbosity=-1)</pre><b>In a Jupyter environment, please rerun this cell to show the HTML representation or trust the notebook. <br />On GitHub, the HTML representation is unable to render, please try loading this page with nbviewer.org.</b></div><div class=\"sk-container\" hidden><div class=\"sk-item\"><div class=\"sk-estimator fitted sk-toggleable\"><input class=\"sk-toggleable__control sk-hidden--visually\" id=\"sk-estimator-id-2\" type=\"checkbox\" checked><label for=\"sk-estimator-id-2\" class=\"sk-toggleable__label fitted sk-toggleable__label-arrow fitted\">&nbsp;LGBMClassifier<span class=\"sk-estimator-doc-link fitted\">i<span>Fitted</span></span></label><div class=\"sk-toggleable__content fitted\"><pre>LGBMClassifier(learning_rate=0.1245928917280467, max_depth=4,\n",
       "               min_child_samples=30, min_child_weight=5.544840854157574e-06,\n",
       "               min_split_gain=2.52381000405986e-06, n_estimators=2455, n_jobs=1,\n",
       "               num_leaves=6, objective=&#x27;binary&#x27;,\n",
       "               reg_alpha=3.629909607712911e-05,\n",
       "               reg_lambda=3.671749546766942e-05, scale_pos_weight=27,\n",
       "               subsample_for_bin=20000, verbosity=-1)</pre></div> </div></div></div></div>"
      ],
      "text/plain": [
       "LGBMClassifier(learning_rate=0.1245928917280467, max_depth=4,\n",
       "               min_child_samples=30, min_child_weight=5.544840854157574e-06,\n",
       "               min_split_gain=2.52381000405986e-06, n_estimators=2455, n_jobs=1,\n",
       "               num_leaves=6, objective='binary',\n",
       "               reg_alpha=3.629909607712911e-05,\n",
       "               reg_lambda=3.671749546766942e-05, scale_pos_weight=27,\n",
       "               subsample_for_bin=20000, verbosity=-1)"
      ]
     },
     "execution_count": 17,
     "metadata": {},
     "output_type": "execute_result"
    }
   ],
   "source": [
    "# FIT THE MODEL\n",
    "\n",
    "from lightgbm import LGBMClassifier\n",
    "from sklearn.model_selection import train_test_split\n",
    "\n",
    "# model = LGBMClassifier(**best_params)\n",
    "\n",
    "model = LGBMClassifier(\n",
    "    verbosity=-1,\n",
    "    boosting_type=\"gbdt\",\n",
    "    max_depth=4,\n",
    "    min_child_samples=30,\n",
    "    learning_rate=0.1245928917280467,\n",
    "    num_leaves=6,\n",
    "    n_estimators=2455,\n",
    "    subsample_for_bin=20000,\n",
    "    subsample=1.0,\n",
    "    objective=\"binary\",\n",
    "    scale_pos_weight=27,\n",
    "    min_split_gain=2.52381000405986e-06,\n",
    "    min_child_weight=5.544840854157574e-06,\n",
    "    reg_alpha=3.629909607712911e-05,\n",
    "    reg_lambda=3.671749546766942e-05,\n",
    "    n_jobs=1,\n",
    ")\n",
    "\n",
    "X_train, X_test, y_train, y_test = train_test_split(\n",
    "    tfidf_scores, labels, test_size=0.333, stratify=labels, random_state=8\n",
    ")\n",
    "\n",
    "model.fit(X_train, y_train)"
   ]
  },
  {
   "cell_type": "code",
   "execution_count": 18,
   "metadata": {},
   "outputs": [
    {
     "data": {
      "application/vnd.plotly.v1+json": {
       "config": {
        "plotlyServerURL": "https://plot.ly"
       },
       "data": [
        {
         "customdata": [
          [
           "inf"
          ],
          [
           "15.18"
          ],
          [
           "5.518"
          ],
          [
           "4.859"
          ],
          [
           "0.04137"
          ],
          [
           "-0.1422"
          ],
          [
           "-1.569"
          ],
          [
           "-4.997"
          ],
          [
           "-5.254"
          ],
          [
           "-6.461"
          ],
          [
           "-6.794"
          ],
          [
           "-8.012"
          ],
          [
           "-8.029"
          ],
          [
           "-8.335"
          ],
          [
           "-8.476"
          ],
          [
           "-13.59"
          ],
          [
           "-13.6"
          ],
          [
           "-13.9"
          ],
          [
           "-13.91"
          ],
          [
           "-14.99"
          ],
          [
           "-15.01"
          ],
          [
           "-20.76"
          ],
          [
           "-20.77"
          ],
          [
           "-22.97"
          ],
          [
           "-23.03"
          ],
          [
           "-23.7"
          ],
          [
           "-23.77"
          ],
          [
           "-29.99"
          ]
         ],
         "fillpattern": {
          "shape": ""
         },
         "hovertemplate": "False Positive Rate=%{x}<br>True Positive Rate=%{y}<br>Threshold=%{customdata[0]}<extra></extra>",
         "legendgroup": "",
         "line": {
          "color": "#636efa"
         },
         "marker": {
          "symbol": "circle"
         },
         "mode": "lines",
         "name": "",
         "orientation": "v",
         "showlegend": false,
         "stackgroup": "1",
         "type": "scatter",
         "x": [
          0,
          0,
          0,
          0.0024937655860349127,
          0.0024937655860349127,
          0.004987531172069825,
          0.004987531172069825,
          0.029925187032418952,
          0.029925187032418952,
          0.03740648379052369,
          0.03740648379052369,
          0.05236907730673317,
          0.05236907730673317,
          0.059850374064837904,
          0.059850374064837904,
          0.16209476309226933,
          0.16209476309226933,
          0.17955112219451372,
          0.17955112219451372,
          0.2169576059850374,
          0.2169576059850374,
          0.6309226932668329,
          0.6408977556109726,
          0.7506234413965087,
          0.7581047381546134,
          0.8029925187032418,
          0.8329177057356608,
          1
         ],
         "xaxis": "x",
         "y": [
          0,
          0.13333333333333333,
          0.3333333333333333,
          0.3333333333333333,
          0.4666666666666667,
          0.4666666666666667,
          0.5333333333333333,
          0.5333333333333333,
          0.6,
          0.6,
          0.6666666666666666,
          0.6666666666666666,
          0.7333333333333333,
          0.7333333333333333,
          0.8,
          0.8,
          0.8666666666666667,
          0.8666666666666667,
          0.9333333333333333,
          0.9333333333333333,
          1,
          1,
          1,
          1,
          1,
          1,
          1,
          1
         ],
         "yaxis": "y"
        }
       ],
       "layout": {
        "height": 600,
        "legend": {
         "tracegroupgap": 0
        },
        "shapes": [
         {
          "line": {
           "color": "grey",
           "dash": "dash"
          },
          "type": "line",
          "x0": 0,
          "x1": 1,
          "y0": 0,
          "y1": 1
         }
        ],
        "template": {
         "data": {
          "bar": [
           {
            "error_x": {
             "color": "#2a3f5f"
            },
            "error_y": {
             "color": "#2a3f5f"
            },
            "marker": {
             "line": {
              "color": "#E5ECF6",
              "width": 0.5
             },
             "pattern": {
              "fillmode": "overlay",
              "size": 10,
              "solidity": 0.2
             }
            },
            "type": "bar"
           }
          ],
          "barpolar": [
           {
            "marker": {
             "line": {
              "color": "#E5ECF6",
              "width": 0.5
             },
             "pattern": {
              "fillmode": "overlay",
              "size": 10,
              "solidity": 0.2
             }
            },
            "type": "barpolar"
           }
          ],
          "carpet": [
           {
            "aaxis": {
             "endlinecolor": "#2a3f5f",
             "gridcolor": "white",
             "linecolor": "white",
             "minorgridcolor": "white",
             "startlinecolor": "#2a3f5f"
            },
            "baxis": {
             "endlinecolor": "#2a3f5f",
             "gridcolor": "white",
             "linecolor": "white",
             "minorgridcolor": "white",
             "startlinecolor": "#2a3f5f"
            },
            "type": "carpet"
           }
          ],
          "choropleth": [
           {
            "colorbar": {
             "outlinewidth": 0,
             "ticks": ""
            },
            "type": "choropleth"
           }
          ],
          "contour": [
           {
            "colorbar": {
             "outlinewidth": 0,
             "ticks": ""
            },
            "colorscale": [
             [
              0,
              "#0d0887"
             ],
             [
              0.1111111111111111,
              "#46039f"
             ],
             [
              0.2222222222222222,
              "#7201a8"
             ],
             [
              0.3333333333333333,
              "#9c179e"
             ],
             [
              0.4444444444444444,
              "#bd3786"
             ],
             [
              0.5555555555555556,
              "#d8576b"
             ],
             [
              0.6666666666666666,
              "#ed7953"
             ],
             [
              0.7777777777777778,
              "#fb9f3a"
             ],
             [
              0.8888888888888888,
              "#fdca26"
             ],
             [
              1,
              "#f0f921"
             ]
            ],
            "type": "contour"
           }
          ],
          "contourcarpet": [
           {
            "colorbar": {
             "outlinewidth": 0,
             "ticks": ""
            },
            "type": "contourcarpet"
           }
          ],
          "heatmap": [
           {
            "colorbar": {
             "outlinewidth": 0,
             "ticks": ""
            },
            "colorscale": [
             [
              0,
              "#0d0887"
             ],
             [
              0.1111111111111111,
              "#46039f"
             ],
             [
              0.2222222222222222,
              "#7201a8"
             ],
             [
              0.3333333333333333,
              "#9c179e"
             ],
             [
              0.4444444444444444,
              "#bd3786"
             ],
             [
              0.5555555555555556,
              "#d8576b"
             ],
             [
              0.6666666666666666,
              "#ed7953"
             ],
             [
              0.7777777777777778,
              "#fb9f3a"
             ],
             [
              0.8888888888888888,
              "#fdca26"
             ],
             [
              1,
              "#f0f921"
             ]
            ],
            "type": "heatmap"
           }
          ],
          "heatmapgl": [
           {
            "colorbar": {
             "outlinewidth": 0,
             "ticks": ""
            },
            "colorscale": [
             [
              0,
              "#0d0887"
             ],
             [
              0.1111111111111111,
              "#46039f"
             ],
             [
              0.2222222222222222,
              "#7201a8"
             ],
             [
              0.3333333333333333,
              "#9c179e"
             ],
             [
              0.4444444444444444,
              "#bd3786"
             ],
             [
              0.5555555555555556,
              "#d8576b"
             ],
             [
              0.6666666666666666,
              "#ed7953"
             ],
             [
              0.7777777777777778,
              "#fb9f3a"
             ],
             [
              0.8888888888888888,
              "#fdca26"
             ],
             [
              1,
              "#f0f921"
             ]
            ],
            "type": "heatmapgl"
           }
          ],
          "histogram": [
           {
            "marker": {
             "pattern": {
              "fillmode": "overlay",
              "size": 10,
              "solidity": 0.2
             }
            },
            "type": "histogram"
           }
          ],
          "histogram2d": [
           {
            "colorbar": {
             "outlinewidth": 0,
             "ticks": ""
            },
            "colorscale": [
             [
              0,
              "#0d0887"
             ],
             [
              0.1111111111111111,
              "#46039f"
             ],
             [
              0.2222222222222222,
              "#7201a8"
             ],
             [
              0.3333333333333333,
              "#9c179e"
             ],
             [
              0.4444444444444444,
              "#bd3786"
             ],
             [
              0.5555555555555556,
              "#d8576b"
             ],
             [
              0.6666666666666666,
              "#ed7953"
             ],
             [
              0.7777777777777778,
              "#fb9f3a"
             ],
             [
              0.8888888888888888,
              "#fdca26"
             ],
             [
              1,
              "#f0f921"
             ]
            ],
            "type": "histogram2d"
           }
          ],
          "histogram2dcontour": [
           {
            "colorbar": {
             "outlinewidth": 0,
             "ticks": ""
            },
            "colorscale": [
             [
              0,
              "#0d0887"
             ],
             [
              0.1111111111111111,
              "#46039f"
             ],
             [
              0.2222222222222222,
              "#7201a8"
             ],
             [
              0.3333333333333333,
              "#9c179e"
             ],
             [
              0.4444444444444444,
              "#bd3786"
             ],
             [
              0.5555555555555556,
              "#d8576b"
             ],
             [
              0.6666666666666666,
              "#ed7953"
             ],
             [
              0.7777777777777778,
              "#fb9f3a"
             ],
             [
              0.8888888888888888,
              "#fdca26"
             ],
             [
              1,
              "#f0f921"
             ]
            ],
            "type": "histogram2dcontour"
           }
          ],
          "mesh3d": [
           {
            "colorbar": {
             "outlinewidth": 0,
             "ticks": ""
            },
            "type": "mesh3d"
           }
          ],
          "parcoords": [
           {
            "line": {
             "colorbar": {
              "outlinewidth": 0,
              "ticks": ""
             }
            },
            "type": "parcoords"
           }
          ],
          "pie": [
           {
            "automargin": true,
            "type": "pie"
           }
          ],
          "scatter": [
           {
            "fillpattern": {
             "fillmode": "overlay",
             "size": 10,
             "solidity": 0.2
            },
            "type": "scatter"
           }
          ],
          "scatter3d": [
           {
            "line": {
             "colorbar": {
              "outlinewidth": 0,
              "ticks": ""
             }
            },
            "marker": {
             "colorbar": {
              "outlinewidth": 0,
              "ticks": ""
             }
            },
            "type": "scatter3d"
           }
          ],
          "scattercarpet": [
           {
            "marker": {
             "colorbar": {
              "outlinewidth": 0,
              "ticks": ""
             }
            },
            "type": "scattercarpet"
           }
          ],
          "scattergeo": [
           {
            "marker": {
             "colorbar": {
              "outlinewidth": 0,
              "ticks": ""
             }
            },
            "type": "scattergeo"
           }
          ],
          "scattergl": [
           {
            "marker": {
             "colorbar": {
              "outlinewidth": 0,
              "ticks": ""
             }
            },
            "type": "scattergl"
           }
          ],
          "scattermapbox": [
           {
            "marker": {
             "colorbar": {
              "outlinewidth": 0,
              "ticks": ""
             }
            },
            "type": "scattermapbox"
           }
          ],
          "scatterpolar": [
           {
            "marker": {
             "colorbar": {
              "outlinewidth": 0,
              "ticks": ""
             }
            },
            "type": "scatterpolar"
           }
          ],
          "scatterpolargl": [
           {
            "marker": {
             "colorbar": {
              "outlinewidth": 0,
              "ticks": ""
             }
            },
            "type": "scatterpolargl"
           }
          ],
          "scatterternary": [
           {
            "marker": {
             "colorbar": {
              "outlinewidth": 0,
              "ticks": ""
             }
            },
            "type": "scatterternary"
           }
          ],
          "surface": [
           {
            "colorbar": {
             "outlinewidth": 0,
             "ticks": ""
            },
            "colorscale": [
             [
              0,
              "#0d0887"
             ],
             [
              0.1111111111111111,
              "#46039f"
             ],
             [
              0.2222222222222222,
              "#7201a8"
             ],
             [
              0.3333333333333333,
              "#9c179e"
             ],
             [
              0.4444444444444444,
              "#bd3786"
             ],
             [
              0.5555555555555556,
              "#d8576b"
             ],
             [
              0.6666666666666666,
              "#ed7953"
             ],
             [
              0.7777777777777778,
              "#fb9f3a"
             ],
             [
              0.8888888888888888,
              "#fdca26"
             ],
             [
              1,
              "#f0f921"
             ]
            ],
            "type": "surface"
           }
          ],
          "table": [
           {
            "cells": {
             "fill": {
              "color": "#EBF0F8"
             },
             "line": {
              "color": "white"
             }
            },
            "header": {
             "fill": {
              "color": "#C8D4E3"
             },
             "line": {
              "color": "white"
             }
            },
            "type": "table"
           }
          ]
         },
         "layout": {
          "annotationdefaults": {
           "arrowcolor": "#2a3f5f",
           "arrowhead": 0,
           "arrowwidth": 1
          },
          "autotypenumbers": "strict",
          "coloraxis": {
           "colorbar": {
            "outlinewidth": 0,
            "ticks": ""
           }
          },
          "colorscale": {
           "diverging": [
            [
             0,
             "#8e0152"
            ],
            [
             0.1,
             "#c51b7d"
            ],
            [
             0.2,
             "#de77ae"
            ],
            [
             0.3,
             "#f1b6da"
            ],
            [
             0.4,
             "#fde0ef"
            ],
            [
             0.5,
             "#f7f7f7"
            ],
            [
             0.6,
             "#e6f5d0"
            ],
            [
             0.7,
             "#b8e186"
            ],
            [
             0.8,
             "#7fbc41"
            ],
            [
             0.9,
             "#4d9221"
            ],
            [
             1,
             "#276419"
            ]
           ],
           "sequential": [
            [
             0,
             "#0d0887"
            ],
            [
             0.1111111111111111,
             "#46039f"
            ],
            [
             0.2222222222222222,
             "#7201a8"
            ],
            [
             0.3333333333333333,
             "#9c179e"
            ],
            [
             0.4444444444444444,
             "#bd3786"
            ],
            [
             0.5555555555555556,
             "#d8576b"
            ],
            [
             0.6666666666666666,
             "#ed7953"
            ],
            [
             0.7777777777777778,
             "#fb9f3a"
            ],
            [
             0.8888888888888888,
             "#fdca26"
            ],
            [
             1,
             "#f0f921"
            ]
           ],
           "sequentialminus": [
            [
             0,
             "#0d0887"
            ],
            [
             0.1111111111111111,
             "#46039f"
            ],
            [
             0.2222222222222222,
             "#7201a8"
            ],
            [
             0.3333333333333333,
             "#9c179e"
            ],
            [
             0.4444444444444444,
             "#bd3786"
            ],
            [
             0.5555555555555556,
             "#d8576b"
            ],
            [
             0.6666666666666666,
             "#ed7953"
            ],
            [
             0.7777777777777778,
             "#fb9f3a"
            ],
            [
             0.8888888888888888,
             "#fdca26"
            ],
            [
             1,
             "#f0f921"
            ]
           ]
          },
          "colorway": [
           "#636efa",
           "#EF553B",
           "#00cc96",
           "#ab63fa",
           "#FFA15A",
           "#19d3f3",
           "#FF6692",
           "#B6E880",
           "#FF97FF",
           "#FECB52"
          ],
          "font": {
           "color": "#2a3f5f"
          },
          "geo": {
           "bgcolor": "white",
           "lakecolor": "white",
           "landcolor": "#E5ECF6",
           "showlakes": true,
           "showland": true,
           "subunitcolor": "white"
          },
          "hoverlabel": {
           "align": "left"
          },
          "hovermode": "closest",
          "mapbox": {
           "style": "light"
          },
          "paper_bgcolor": "white",
          "plot_bgcolor": "#E5ECF6",
          "polar": {
           "angularaxis": {
            "gridcolor": "white",
            "linecolor": "white",
            "ticks": ""
           },
           "bgcolor": "#E5ECF6",
           "radialaxis": {
            "gridcolor": "white",
            "linecolor": "white",
            "ticks": ""
           }
          },
          "scene": {
           "xaxis": {
            "backgroundcolor": "#E5ECF6",
            "gridcolor": "white",
            "gridwidth": 2,
            "linecolor": "white",
            "showbackground": true,
            "ticks": "",
            "zerolinecolor": "white"
           },
           "yaxis": {
            "backgroundcolor": "#E5ECF6",
            "gridcolor": "white",
            "gridwidth": 2,
            "linecolor": "white",
            "showbackground": true,
            "ticks": "",
            "zerolinecolor": "white"
           },
           "zaxis": {
            "backgroundcolor": "#E5ECF6",
            "gridcolor": "white",
            "gridwidth": 2,
            "linecolor": "white",
            "showbackground": true,
            "ticks": "",
            "zerolinecolor": "white"
           }
          },
          "shapedefaults": {
           "line": {
            "color": "#2a3f5f"
           }
          },
          "ternary": {
           "aaxis": {
            "gridcolor": "white",
            "linecolor": "white",
            "ticks": ""
           },
           "baxis": {
            "gridcolor": "white",
            "linecolor": "white",
            "ticks": ""
           },
           "bgcolor": "#E5ECF6",
           "caxis": {
            "gridcolor": "white",
            "linecolor": "white",
            "ticks": ""
           }
          },
          "title": {
           "x": 0.05
          },
          "xaxis": {
           "automargin": true,
           "gridcolor": "white",
           "linecolor": "white",
           "ticks": "",
           "title": {
            "standoff": 15
           },
           "zerolinecolor": "white",
           "zerolinewidth": 2
          },
          "yaxis": {
           "automargin": true,
           "gridcolor": "white",
           "linecolor": "white",
           "ticks": "",
           "title": {
            "standoff": 15
           },
           "zerolinecolor": "white",
           "zerolinewidth": 2
          }
         }
        },
        "title": {
         "text": "ROC Curve (AUC=0.9501)",
         "x": 0.5,
         "xanchor": "center"
        },
        "width": 600,
        "xaxis": {
         "anchor": "y",
         "constrain": "domain",
         "domain": [
          0,
          1
         ],
         "title": {
          "text": "False Positive Rate"
         }
        },
        "yaxis": {
         "anchor": "x",
         "domain": [
          0,
          1
         ],
         "scaleanchor": "x",
         "scaleratio": 1,
         "title": {
          "text": "True Positive Rate"
         }
        }
       }
      }
     },
     "metadata": {},
     "output_type": "display_data"
    }
   ],
   "source": [
    "# CREATE ROC CURVE TO SELECT THRESHOLD p\n",
    "\n",
    "from eppi_text_classification.predict import predict_scores\n",
    "from eppi_text_classification.plotly_roc import plotly_roc\n",
    "\n",
    "y_test_pred_probs = predict_scores(model, X_test)\n",
    "plotly_roc(y_test, y_test_pred_probs)"
   ]
  },
  {
   "cell_type": "code",
   "execution_count": 19,
   "metadata": {},
   "outputs": [],
   "source": [
    "# GET MODEL THRESHOLD FOR CHOSEN TPR, MAKE PREDICTIONS\n",
    "\n",
    "from eppi_text_classification.predict import (\n",
    "    get_raw_threshold,\n",
    "    raw_threshold_predict,\n",
    ")\n",
    "\n",
    "threshold = get_raw_threshold(model, X_test, y_test, target_tpr=1)\n",
    "\n",
    "y_test_pred = raw_threshold_predict(model, X_test, threshold)\n",
    "y_train_pred = raw_threshold_predict(model, X_train, threshold)"
   ]
  },
  {
   "cell_type": "code",
   "execution_count": 27,
   "metadata": {},
   "outputs": [
    {
     "data": {
      "application/vnd.plotly.v1+json": {
       "config": {
        "plotlyServerURL": "https://plot.ly"
       },
       "data": [
        {
         "colorscale": [
          [
           0,
           "rgb(247,251,255)"
          ],
          [
           0.125,
           "rgb(222,235,247)"
          ],
          [
           0.25,
           "rgb(198,219,239)"
          ],
          [
           0.375,
           "rgb(158,202,225)"
          ],
          [
           0.5,
           "rgb(107,174,214)"
          ],
          [
           0.625,
           "rgb(66,146,198)"
          ],
          [
           0.75,
           "rgb(33,113,181)"
          ],
          [
           0.875,
           "rgb(8,81,156)"
          ],
          [
           1,
           "rgb(8,48,107)"
          ]
         ],
         "hoverinfo": "text",
         "showscale": false,
         "text": [
          [
           "Truth: Excluded<br>Prediction: Included<br>Total: 141",
           "Truth: Excluded<br>Prediction: Excluded<br>Total: 662"
          ],
          [
           "Truth: Included<br>Prediction: Included<br>Total: 29",
           "Truth: Included<br>Prediction: Excluded<br>Total: 0"
          ]
         ],
         "type": "heatmap",
         "x": [
          "0",
          "1"
         ],
         "xaxis": "x",
         "y": [
          "0",
          "1"
         ],
         "yaxis": "y",
         "z": [
          [
           141,
           662
          ],
          [
           29,
           0
          ]
         ]
        },
        {
         "colorscale": [
          [
           0,
           "rgb(247,251,255)"
          ],
          [
           0.125,
           "rgb(222,235,247)"
          ],
          [
           0.25,
           "rgb(198,219,239)"
          ],
          [
           0.375,
           "rgb(158,202,225)"
          ],
          [
           0.5,
           "rgb(107,174,214)"
          ],
          [
           0.625,
           "rgb(66,146,198)"
          ],
          [
           0.75,
           "rgb(33,113,181)"
          ],
          [
           0.875,
           "rgb(8,81,156)"
          ],
          [
           1,
           "rgb(8,48,107)"
          ]
         ],
         "hoverinfo": "text",
         "showscale": false,
         "text": [
          [
           "Truth: Excluded<br>Prediction: Included<br>Total: 87",
           "Truth: Excluded<br>Prediction: Excluded<br>Total: 314"
          ],
          [
           "Truth: Included<br>Prediction: Included<br>Total: 15",
           "Truth: Included<br>Prediction: Excluded<br>Total: 0"
          ]
         ],
         "type": "heatmap",
         "x": [
          "0",
          "1"
         ],
         "xaxis": "x2",
         "y": [
          "0",
          "1"
         ],
         "yaxis": "y2",
         "z": [
          [
           87,
           314
          ],
          [
           15,
           0
          ]
         ]
        }
       ],
       "layout": {
        "annotations": [
         {
          "font": {
           "size": 18
          },
          "showarrow": false,
          "text": "Training Matrix",
          "x": 0.2125,
          "xanchor": "center",
          "xref": "paper",
          "y": 1.03,
          "yanchor": "bottom",
          "yref": "paper"
         },
         {
          "font": {
           "size": 18
          },
          "showarrow": false,
          "text": "Validation Matrix",
          "x": 0.7875,
          "xanchor": "center",
          "xref": "paper",
          "y": 1.03,
          "yanchor": "bottom",
          "yref": "paper"
         },
         {
          "font": {
           "color": "dark blue"
          },
          "showarrow": false,
          "text": "141",
          "x": "0",
          "xref": "x",
          "y": "0",
          "yref": "y"
         },
         {
          "font": {
           "color": "white"
          },
          "showarrow": false,
          "text": "662",
          "x": "1",
          "xref": "x",
          "y": "0",
          "yref": "y"
         },
         {
          "font": {
           "color": "dark blue"
          },
          "showarrow": false,
          "text": "29",
          "x": "0",
          "xref": "x",
          "y": "1",
          "yref": "y"
         },
         {
          "font": {
           "color": "dark blue"
          },
          "showarrow": false,
          "text": "0",
          "x": "1",
          "xref": "x",
          "y": "1",
          "yref": "y"
         },
         {
          "font": {
           "color": "dark blue"
          },
          "showarrow": false,
          "text": "87",
          "x": "0",
          "xref": "x2",
          "y": "0",
          "yref": "y2"
         },
         {
          "font": {
           "color": "white"
          },
          "showarrow": false,
          "text": "314",
          "x": "1",
          "xref": "x2",
          "y": "0",
          "yref": "y2"
         },
         {
          "font": {
           "color": "dark blue"
          },
          "showarrow": false,
          "text": "15",
          "x": "0",
          "xref": "x2",
          "y": "1",
          "yref": "y2"
         },
         {
          "font": {
           "color": "dark blue"
          },
          "showarrow": false,
          "text": "0",
          "x": "1",
          "xref": "x2",
          "y": "1",
          "yref": "y2"
         }
        ],
        "autosize": false,
        "height": 400,
        "shapes": [
         {
          "line": {
           "color": "black",
           "width": 2
          },
          "type": "rect",
          "x0": -0.5,
          "x1": 1.5,
          "xref": "x",
          "y0": -0.5,
          "y1": 1.5,
          "yref": "y"
         },
         {
          "line": {
           "color": "black",
           "width": 1.5
          },
          "type": "line",
          "x0": -0.5,
          "x1": 1.5,
          "xref": "x",
          "y0": 0.5,
          "y1": 0.5,
          "yref": "y"
         },
         {
          "line": {
           "color": "black",
           "width": 1.5
          },
          "type": "line",
          "x0": 0.5,
          "x1": 0.5,
          "xref": "x",
          "y0": -0.5,
          "y1": 1.5,
          "yref": "y"
         },
         {
          "line": {
           "color": "black",
           "width": 2
          },
          "type": "rect",
          "x0": -0.5,
          "x1": 1.5,
          "xref": "x2",
          "y0": -0.5,
          "y1": 1.5,
          "yref": "y2"
         },
         {
          "line": {
           "color": "black",
           "width": 1.5
          },
          "type": "line",
          "x0": -0.5,
          "x1": 1.5,
          "xref": "x2",
          "y0": 0.5,
          "y1": 0.5,
          "yref": "y2"
         },
         {
          "line": {
           "color": "black",
           "width": 1.5
          },
          "type": "line",
          "x0": 0.5,
          "x1": 0.5,
          "xref": "x2",
          "y0": -0.5,
          "y1": 1.5,
          "yref": "y2"
         }
        ],
        "template": {
         "data": {
          "bar": [
           {
            "error_x": {
             "color": "#2a3f5f"
            },
            "error_y": {
             "color": "#2a3f5f"
            },
            "marker": {
             "line": {
              "color": "#E5ECF6",
              "width": 0.5
             },
             "pattern": {
              "fillmode": "overlay",
              "size": 10,
              "solidity": 0.2
             }
            },
            "type": "bar"
           }
          ],
          "barpolar": [
           {
            "marker": {
             "line": {
              "color": "#E5ECF6",
              "width": 0.5
             },
             "pattern": {
              "fillmode": "overlay",
              "size": 10,
              "solidity": 0.2
             }
            },
            "type": "barpolar"
           }
          ],
          "carpet": [
           {
            "aaxis": {
             "endlinecolor": "#2a3f5f",
             "gridcolor": "white",
             "linecolor": "white",
             "minorgridcolor": "white",
             "startlinecolor": "#2a3f5f"
            },
            "baxis": {
             "endlinecolor": "#2a3f5f",
             "gridcolor": "white",
             "linecolor": "white",
             "minorgridcolor": "white",
             "startlinecolor": "#2a3f5f"
            },
            "type": "carpet"
           }
          ],
          "choropleth": [
           {
            "colorbar": {
             "outlinewidth": 0,
             "ticks": ""
            },
            "type": "choropleth"
           }
          ],
          "contour": [
           {
            "colorbar": {
             "outlinewidth": 0,
             "ticks": ""
            },
            "colorscale": [
             [
              0,
              "#0d0887"
             ],
             [
              0.1111111111111111,
              "#46039f"
             ],
             [
              0.2222222222222222,
              "#7201a8"
             ],
             [
              0.3333333333333333,
              "#9c179e"
             ],
             [
              0.4444444444444444,
              "#bd3786"
             ],
             [
              0.5555555555555556,
              "#d8576b"
             ],
             [
              0.6666666666666666,
              "#ed7953"
             ],
             [
              0.7777777777777778,
              "#fb9f3a"
             ],
             [
              0.8888888888888888,
              "#fdca26"
             ],
             [
              1,
              "#f0f921"
             ]
            ],
            "type": "contour"
           }
          ],
          "contourcarpet": [
           {
            "colorbar": {
             "outlinewidth": 0,
             "ticks": ""
            },
            "type": "contourcarpet"
           }
          ],
          "heatmap": [
           {
            "colorbar": {
             "outlinewidth": 0,
             "ticks": ""
            },
            "colorscale": [
             [
              0,
              "#0d0887"
             ],
             [
              0.1111111111111111,
              "#46039f"
             ],
             [
              0.2222222222222222,
              "#7201a8"
             ],
             [
              0.3333333333333333,
              "#9c179e"
             ],
             [
              0.4444444444444444,
              "#bd3786"
             ],
             [
              0.5555555555555556,
              "#d8576b"
             ],
             [
              0.6666666666666666,
              "#ed7953"
             ],
             [
              0.7777777777777778,
              "#fb9f3a"
             ],
             [
              0.8888888888888888,
              "#fdca26"
             ],
             [
              1,
              "#f0f921"
             ]
            ],
            "type": "heatmap"
           }
          ],
          "heatmapgl": [
           {
            "colorbar": {
             "outlinewidth": 0,
             "ticks": ""
            },
            "colorscale": [
             [
              0,
              "#0d0887"
             ],
             [
              0.1111111111111111,
              "#46039f"
             ],
             [
              0.2222222222222222,
              "#7201a8"
             ],
             [
              0.3333333333333333,
              "#9c179e"
             ],
             [
              0.4444444444444444,
              "#bd3786"
             ],
             [
              0.5555555555555556,
              "#d8576b"
             ],
             [
              0.6666666666666666,
              "#ed7953"
             ],
             [
              0.7777777777777778,
              "#fb9f3a"
             ],
             [
              0.8888888888888888,
              "#fdca26"
             ],
             [
              1,
              "#f0f921"
             ]
            ],
            "type": "heatmapgl"
           }
          ],
          "histogram": [
           {
            "marker": {
             "pattern": {
              "fillmode": "overlay",
              "size": 10,
              "solidity": 0.2
             }
            },
            "type": "histogram"
           }
          ],
          "histogram2d": [
           {
            "colorbar": {
             "outlinewidth": 0,
             "ticks": ""
            },
            "colorscale": [
             [
              0,
              "#0d0887"
             ],
             [
              0.1111111111111111,
              "#46039f"
             ],
             [
              0.2222222222222222,
              "#7201a8"
             ],
             [
              0.3333333333333333,
              "#9c179e"
             ],
             [
              0.4444444444444444,
              "#bd3786"
             ],
             [
              0.5555555555555556,
              "#d8576b"
             ],
             [
              0.6666666666666666,
              "#ed7953"
             ],
             [
              0.7777777777777778,
              "#fb9f3a"
             ],
             [
              0.8888888888888888,
              "#fdca26"
             ],
             [
              1,
              "#f0f921"
             ]
            ],
            "type": "histogram2d"
           }
          ],
          "histogram2dcontour": [
           {
            "colorbar": {
             "outlinewidth": 0,
             "ticks": ""
            },
            "colorscale": [
             [
              0,
              "#0d0887"
             ],
             [
              0.1111111111111111,
              "#46039f"
             ],
             [
              0.2222222222222222,
              "#7201a8"
             ],
             [
              0.3333333333333333,
              "#9c179e"
             ],
             [
              0.4444444444444444,
              "#bd3786"
             ],
             [
              0.5555555555555556,
              "#d8576b"
             ],
             [
              0.6666666666666666,
              "#ed7953"
             ],
             [
              0.7777777777777778,
              "#fb9f3a"
             ],
             [
              0.8888888888888888,
              "#fdca26"
             ],
             [
              1,
              "#f0f921"
             ]
            ],
            "type": "histogram2dcontour"
           }
          ],
          "mesh3d": [
           {
            "colorbar": {
             "outlinewidth": 0,
             "ticks": ""
            },
            "type": "mesh3d"
           }
          ],
          "parcoords": [
           {
            "line": {
             "colorbar": {
              "outlinewidth": 0,
              "ticks": ""
             }
            },
            "type": "parcoords"
           }
          ],
          "pie": [
           {
            "automargin": true,
            "type": "pie"
           }
          ],
          "scatter": [
           {
            "fillpattern": {
             "fillmode": "overlay",
             "size": 10,
             "solidity": 0.2
            },
            "type": "scatter"
           }
          ],
          "scatter3d": [
           {
            "line": {
             "colorbar": {
              "outlinewidth": 0,
              "ticks": ""
             }
            },
            "marker": {
             "colorbar": {
              "outlinewidth": 0,
              "ticks": ""
             }
            },
            "type": "scatter3d"
           }
          ],
          "scattercarpet": [
           {
            "marker": {
             "colorbar": {
              "outlinewidth": 0,
              "ticks": ""
             }
            },
            "type": "scattercarpet"
           }
          ],
          "scattergeo": [
           {
            "marker": {
             "colorbar": {
              "outlinewidth": 0,
              "ticks": ""
             }
            },
            "type": "scattergeo"
           }
          ],
          "scattergl": [
           {
            "marker": {
             "colorbar": {
              "outlinewidth": 0,
              "ticks": ""
             }
            },
            "type": "scattergl"
           }
          ],
          "scattermapbox": [
           {
            "marker": {
             "colorbar": {
              "outlinewidth": 0,
              "ticks": ""
             }
            },
            "type": "scattermapbox"
           }
          ],
          "scatterpolar": [
           {
            "marker": {
             "colorbar": {
              "outlinewidth": 0,
              "ticks": ""
             }
            },
            "type": "scatterpolar"
           }
          ],
          "scatterpolargl": [
           {
            "marker": {
             "colorbar": {
              "outlinewidth": 0,
              "ticks": ""
             }
            },
            "type": "scatterpolargl"
           }
          ],
          "scatterternary": [
           {
            "marker": {
             "colorbar": {
              "outlinewidth": 0,
              "ticks": ""
             }
            },
            "type": "scatterternary"
           }
          ],
          "surface": [
           {
            "colorbar": {
             "outlinewidth": 0,
             "ticks": ""
            },
            "colorscale": [
             [
              0,
              "#0d0887"
             ],
             [
              0.1111111111111111,
              "#46039f"
             ],
             [
              0.2222222222222222,
              "#7201a8"
             ],
             [
              0.3333333333333333,
              "#9c179e"
             ],
             [
              0.4444444444444444,
              "#bd3786"
             ],
             [
              0.5555555555555556,
              "#d8576b"
             ],
             [
              0.6666666666666666,
              "#ed7953"
             ],
             [
              0.7777777777777778,
              "#fb9f3a"
             ],
             [
              0.8888888888888888,
              "#fdca26"
             ],
             [
              1,
              "#f0f921"
             ]
            ],
            "type": "surface"
           }
          ],
          "table": [
           {
            "cells": {
             "fill": {
              "color": "#EBF0F8"
             },
             "line": {
              "color": "white"
             }
            },
            "header": {
             "fill": {
              "color": "#C8D4E3"
             },
             "line": {
              "color": "white"
             }
            },
            "type": "table"
           }
          ]
         },
         "layout": {
          "annotationdefaults": {
           "arrowcolor": "#2a3f5f",
           "arrowhead": 0,
           "arrowwidth": 1
          },
          "autotypenumbers": "strict",
          "coloraxis": {
           "colorbar": {
            "outlinewidth": 0,
            "ticks": ""
           }
          },
          "colorscale": {
           "diverging": [
            [
             0,
             "#8e0152"
            ],
            [
             0.1,
             "#c51b7d"
            ],
            [
             0.2,
             "#de77ae"
            ],
            [
             0.3,
             "#f1b6da"
            ],
            [
             0.4,
             "#fde0ef"
            ],
            [
             0.5,
             "#f7f7f7"
            ],
            [
             0.6,
             "#e6f5d0"
            ],
            [
             0.7,
             "#b8e186"
            ],
            [
             0.8,
             "#7fbc41"
            ],
            [
             0.9,
             "#4d9221"
            ],
            [
             1,
             "#276419"
            ]
           ],
           "sequential": [
            [
             0,
             "#0d0887"
            ],
            [
             0.1111111111111111,
             "#46039f"
            ],
            [
             0.2222222222222222,
             "#7201a8"
            ],
            [
             0.3333333333333333,
             "#9c179e"
            ],
            [
             0.4444444444444444,
             "#bd3786"
            ],
            [
             0.5555555555555556,
             "#d8576b"
            ],
            [
             0.6666666666666666,
             "#ed7953"
            ],
            [
             0.7777777777777778,
             "#fb9f3a"
            ],
            [
             0.8888888888888888,
             "#fdca26"
            ],
            [
             1,
             "#f0f921"
            ]
           ],
           "sequentialminus": [
            [
             0,
             "#0d0887"
            ],
            [
             0.1111111111111111,
             "#46039f"
            ],
            [
             0.2222222222222222,
             "#7201a8"
            ],
            [
             0.3333333333333333,
             "#9c179e"
            ],
            [
             0.4444444444444444,
             "#bd3786"
            ],
            [
             0.5555555555555556,
             "#d8576b"
            ],
            [
             0.6666666666666666,
             "#ed7953"
            ],
            [
             0.7777777777777778,
             "#fb9f3a"
            ],
            [
             0.8888888888888888,
             "#fdca26"
            ],
            [
             1,
             "#f0f921"
            ]
           ]
          },
          "colorway": [
           "#636efa",
           "#EF553B",
           "#00cc96",
           "#ab63fa",
           "#FFA15A",
           "#19d3f3",
           "#FF6692",
           "#B6E880",
           "#FF97FF",
           "#FECB52"
          ],
          "font": {
           "color": "#2a3f5f"
          },
          "geo": {
           "bgcolor": "white",
           "lakecolor": "white",
           "landcolor": "#E5ECF6",
           "showlakes": true,
           "showland": true,
           "subunitcolor": "white"
          },
          "hoverlabel": {
           "align": "left"
          },
          "hovermode": "closest",
          "mapbox": {
           "style": "light"
          },
          "paper_bgcolor": "white",
          "plot_bgcolor": "#E5ECF6",
          "polar": {
           "angularaxis": {
            "gridcolor": "white",
            "linecolor": "white",
            "ticks": ""
           },
           "bgcolor": "#E5ECF6",
           "radialaxis": {
            "gridcolor": "white",
            "linecolor": "white",
            "ticks": ""
           }
          },
          "scene": {
           "xaxis": {
            "backgroundcolor": "#E5ECF6",
            "gridcolor": "white",
            "gridwidth": 2,
            "linecolor": "white",
            "showbackground": true,
            "ticks": "",
            "zerolinecolor": "white"
           },
           "yaxis": {
            "backgroundcolor": "#E5ECF6",
            "gridcolor": "white",
            "gridwidth": 2,
            "linecolor": "white",
            "showbackground": true,
            "ticks": "",
            "zerolinecolor": "white"
           },
           "zaxis": {
            "backgroundcolor": "#E5ECF6",
            "gridcolor": "white",
            "gridwidth": 2,
            "linecolor": "white",
            "showbackground": true,
            "ticks": "",
            "zerolinecolor": "white"
           }
          },
          "shapedefaults": {
           "line": {
            "color": "#2a3f5f"
           }
          },
          "ternary": {
           "aaxis": {
            "gridcolor": "white",
            "linecolor": "white",
            "ticks": ""
           },
           "baxis": {
            "gridcolor": "white",
            "linecolor": "white",
            "ticks": ""
           },
           "bgcolor": "#E5ECF6",
           "caxis": {
            "gridcolor": "white",
            "linecolor": "white",
            "ticks": ""
           }
          },
          "title": {
           "x": 0.05
          },
          "xaxis": {
           "automargin": true,
           "gridcolor": "white",
           "linecolor": "white",
           "ticks": "",
           "title": {
            "standoff": 15
           },
           "zerolinecolor": "white",
           "zerolinewidth": 2
          },
          "yaxis": {
           "automargin": true,
           "gridcolor": "white",
           "linecolor": "white",
           "ticks": "",
           "title": {
            "standoff": 15
           },
           "zerolinecolor": "white",
           "zerolinewidth": 2
          }
         }
        },
        "width": 700,
        "xaxis": {
         "anchor": "y",
         "domain": [
          0,
          0.425
         ],
         "mirror": true,
         "tickcolor": "black",
         "ticklen": 5,
         "tickmode": "array",
         "ticks": "outside",
         "ticktext": [
          "1",
          "0"
         ],
         "tickvals": [
          0,
          1
         ],
         "tickwidth": 1,
         "title": {
          "text": "Prediction"
         }
        },
        "xaxis2": {
         "anchor": "y2",
         "domain": [
          0.575,
          1
         ],
         "mirror": true,
         "tickcolor": "black",
         "ticklen": 5,
         "tickmode": "array",
         "ticks": "outside",
         "ticktext": [
          "1",
          "0"
         ],
         "tickvals": [
          0,
          1
         ],
         "tickwidth": 1,
         "title": {
          "text": "Prediction"
         }
        },
        "yaxis": {
         "anchor": "x",
         "domain": [
          0,
          1
         ],
         "mirror": true,
         "tickcolor": "black",
         "ticklen": 5,
         "tickmode": "array",
         "ticks": "outside",
         "ticktext": [
          "0",
          "1"
         ],
         "tickvals": [
          0,
          1
         ],
         "tickwidth": 1,
         "title": {
          "standoff": 0.3,
          "text": "Truth"
         }
        },
        "yaxis2": {
         "anchor": "x2",
         "domain": [
          0,
          1
         ],
         "mirror": true,
         "tickcolor": "black",
         "ticklen": 5,
         "tickmode": "array",
         "ticks": "outside",
         "ticktext": [
          "0",
          "1"
         ],
         "tickvals": [
          0,
          1
         ],
         "tickwidth": 1,
         "title": {
          "standoff": 0.3,
          "text": "Truth"
         }
        }
       }
      }
     },
     "metadata": {},
     "output_type": "display_data"
    }
   ],
   "source": [
    "from eppi_text_classification import binary_train_valid_confusion_plotly\n",
    "\n",
    "binary_train_valid_confusion_plotly(\n",
    "    y_train,\n",
    "    y_train_pred,\n",
    "    y_test,\n",
    "    y_test_pred,\n",
    "    postive_label=\"Included\",\n",
    "    negative_label=\"Excluded\",\n",
    ")"
   ]
  },
  {
   "cell_type": "code",
   "execution_count": 24,
   "metadata": {},
   "outputs": [
    {
     "data": {
      "image/png": "[encoded data removed]",
      "text/plain": [
       "<Figure size 2000x400 with 2 Axes>"
      ]
     },
     "metadata": {},
     "output_type": "display_data"
    },
    {
     "data": {
      "image/png": "[encoded data removed]",
      "text/plain": [
       "<Figure size 2000x400 with 2 Axes>"
      ]
     },
     "metadata": {},
     "output_type": "display_data"
    }
   ],
   "source": [
    "from eppi_text_classification import ShapPlotter\n",
    "\n",
    "shap_plotter = ShapPlotter(\n",
    "    model,\n",
    "    X_test[:10],\n",
    "    feature_names,\n",
    ")\n",
    "dot_plot = shap_plotter.dot_plot(num_display=10)\n",
    "dot_plot.show()\n",
    "dot_plot = shap_plotter.dot_plot(num_display=10, log_scale=False)\n",
    "dot_plot.show()\n",
    "bar_plot = shap_plotter.bar_chart()"
   ]
  },
  {
   "cell_type": "code",
   "execution_count": 25,
   "metadata": {},
   "outputs": [
    {
     "name": "stdout",
     "output_type": "stream",
     "text": [
      "Truth: 0\n",
      "Prediction: [0]\n",
      "Shap value: -20.17600657675702\n",
      "Prediction score: [-20.17600658]\n"
     ]
    },
    {
     "data": {
      "image/png": "[encoded data removed]",
      "text/plain": [
       "<Figure size 800x510 with 1 Axes>"
      ]
     },
     "metadata": {},
     "output_type": "display_data"
    },
    {
     "name": "stdout",
     "output_type": "stream",
     "text": [
      "Truth: 0\n",
      "Prediction: [1]\n",
      "Shap value: -4.616688695926907\n",
      "Prediction score: [-4.6166887]\n"
     ]
    },
    {
     "data": {
      "image/png": "[encoded data removed]",
      "text/plain": [
       "<Figure size 800x510 with 1 Axes>"
      ]
     },
     "metadata": {},
     "output_type": "display_data"
    },
    {
     "name": "stdout",
     "output_type": "stream",
     "text": [
      "Truth: 0\n",
      "Prediction: [0]\n",
      "Shap value: -26.435449852322588\n",
      "Prediction score: [-26.43544985]\n"
     ]
    },
    {
     "data": {
      "image/png": "[encoded data removed]",
      "text/plain": [
       "<Figure size 800x510 with 1 Axes>"
      ]
     },
     "metadata": {},
     "output_type": "display_data"
    },
    {
     "name": "stdout",
     "output_type": "stream",
     "text": [
      "Truth: 0\n",
      "Prediction: [0]\n",
      "Shap value: -25.180047085786168\n",
      "Prediction score: [-25.18004709]\n"
     ]
    },
    {
     "data": {
      "image/png": "[encoded data removed]",
      "text/plain": [
       "<Figure size 800x510 with 1 Axes>"
      ]
     },
     "metadata": {},
     "output_type": "display_data"
    },
    {
     "name": "stdout",
     "output_type": "stream",
     "text": [
      "Truth: 0\n",
      "Prediction: [1]\n",
      "Shap value: -14.584450806452827\n",
      "Prediction score: [-14.58445081]\n"
     ]
    },
    {
     "data": {
      "image/png": "[encoded data removed]",
      "text/plain": [
       "<Figure size 800x510 with 1 Axes>"
      ]
     },
     "metadata": {},
     "output_type": "display_data"
    }
   ],
   "source": [
    "import numpy as np\n",
    "\n",
    "shap_plotter = ShapPlotter(model, X_test[0:10], feature_names)\n",
    "\n",
    "for i in range(5):\n",
    "    print(f\"Truth: {y_test[i]}\")\n",
    "    print(f\"Prediction: {raw_threshold_predict(model, X_test[i], threshold)}\")\n",
    "    print(\n",
    "        f\"Shap value: {shap_plotter.shap_values[i].sum() + shap_plotter.expected_value}\"\n",
    "    )\n",
    "    print(f\"Prediction score: {predict_scores(model, X_test[i])}\")\n",
    "    decision_plot = shap_plotter.single_decision_plot(\n",
    "        threshold=threshold, index=i, num_display=10, log_scale=False\n",
    "    )\n",
    "    decision_plot.show()"
   ]
  }
 ],
 "metadata": {
  "kernelspec": {
   "display_name": "base",
   "language": "python",
   "name": "python3"
  },
  "language_info": {
   "codemirror_mode": {
    "name": "ipython",
    "version": 3
   },
   "file_extension": ".py",
   "mimetype": "text/x-python",
   "name": "python",
   "nbconvert_exporter": "python",
   "pygments_lexer": "ipython3",
   "version": "3.11.8"
  }
 },
 "nbformat": 4,
 "nbformat_minor": 2
}
