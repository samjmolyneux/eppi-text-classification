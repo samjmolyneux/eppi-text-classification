{
 "cells": [
  {
   "cell_type": "code",
   "execution_count": 1,
   "metadata": {},
   "outputs": [],
   "source": [
    "%load_ext autoreload\n",
    "%autoreload 2"
   ]
  },
  {
   "cell_type": "code",
   "execution_count": 2,
   "metadata": {},
   "outputs": [],
   "source": [
    "# GET THE DATAFRAME.\n",
    "\n",
    "import pandas as pd\n",
    "\n",
    "df_path = \"../../data/raw/debunking_review.tsv\"\n",
    "# df_path = \"../../data/raw/hedges-all.tsv\"\n",
    "# df_path = \"../../data/raw/studytype_multiclass.tsv\"\n",
    "df = pd.read_csv(df_path, sep=\"\\t\")\n",
    "# df = pd.concat([df * 5])"
   ]
  },
  {
   "cell_type": "code",
   "execution_count": 3,
   "metadata": {},
   "outputs": [
    {
     "name": "stdout",
     "output_type": "stream",
     "text": [
      "number of processes: 12\n",
      "number of processes: 12\n"
     ]
    }
   ],
   "source": [
    "# PERFORM DATA PROCESSING (LEMATIZATION ETC), GET TFIDF SCORES AND FEATURE NAMES.\n",
    "# COULD be parallelised\n",
    "from eppi_text_classification import (\n",
    "    get_features,\n",
    "    get_labels,\n",
    "    get_tfidf_and_names,\n",
    ")\n",
    "\n",
    "word_features = get_features(\n",
    "    df,\n",
    "    # title_key=\"ti\",\n",
    "    # abstract_key=\"ab\",\n",
    "    # title_key=\"TI\",\n",
    "    # abstract_key=\"AB\",\n",
    ")\n"
   ]
  },
  {
   "cell_type": "code",
   "execution_count": 4,
   "metadata": {},
   "outputs": [],
   "source": [
    "labels = get_labels(\n",
    "    df,\n",
    "    # label_column_name=\"is_rct\",\n",
    "    # positive_class_value=\"1\",\n",
    "    # label_column_name=\"Class\",\n",
    "    # positive_class_value=\"CaseControlStudies\",\n",
    ")\n",
    "tfidf_scores, feature_names = get_tfidf_and_names(word_features)"
   ]
  },
  {
   "cell_type": "code",
   "execution_count": 5,
   "metadata": {},
   "outputs": [
    {
     "name": "stdout",
     "output_type": "stream",
     "text": [
      "Number of processes: 12\n",
      "sqlite:////Users/sjmolyneux/Documents/EPPI_Classification_Public/eppi_text_classification/optuna.db\n",
      "final ranges: {'max_depth': {'low': 1, 'high': 15, 'log': False, 'suggest_type': 'int'}, 'min_child_samples': {'low': 1, 'high': 30, 'log': False, 'suggest_type': 'int'}, 'num_leaves': {'low': 2, 'high': 50, 'log': False, 'suggest_type': 'int'}, 'n_estimators': {'low': 100, 'high': 500, 'log': False, 'suggest_type': 'int'}, 'learning_rate': {'low': 0.1, 'high': 0.6, 'log': False, 'suggest_type': 'float'}, 'min_split_gain': {'low': 1e-06, 'high': 10, 'log': False, 'suggest_type': 'float'}, 'min_child_weight': {'low': 1e-06, 'high': 0.1, 'log': True, 'suggest_type': 'float'}, 'reg_alpha': {'low': 1e-05, 'high': 10, 'log': True, 'suggest_type': 'float'}, 'reg_lambda': {'low': 1e-05, 'high': 10, 'log': True, 'suggest_type': 'float'}, 'data_sample_strategy': {'value': 'bagging', 'suggest_type': 'singular'}, 'boosting_type': {'value': 'gbdt', 'suggest_type': 'singular'}, 'tree_learner': {'value': 'serial', 'suggest_type': 'singular'}, 'use_quantized_grad': {'value': False, 'suggest_type': 'singular'}, 'subsample': {'value': 1.0, 'suggest_type': 'singular'}, 'subsample_for_bin': {'value': 20000, 'suggest_type': 'singular'}}\n",
      "Positive class weight: 27.363636363636363\n"
     ]
    },
    {
     "name": "stderr",
     "output_type": "stream",
     "text": [
      "[I 2025-02-23 13:51:47,019] A new study created in RDB with name: lgbm_binary\n",
      "/Users/sjmolyneux/Documents/EPPI_Classification_Public/eppi_text_classification/eppi_text_classification/single_process_opt.py:404: ExperimentalWarning: BestValueStagnationEvaluator is experimental (supported from v3.4.0). The interface can change in the future.\n",
      "  improvement_evaluator=BestValueStagnationEvaluator(\n",
      "/Users/sjmolyneux/Documents/EPPI_Classification_Public/eppi_text_classification/eppi_text_classification/single_process_opt.py:407: ExperimentalWarning: StaticErrorEvaluator is experimental (supported from v3.2.0). The interface can change in the future.\n",
      "  error_evaluator=StaticErrorEvaluator(constant=0),\n",
      "/Users/sjmolyneux/Documents/EPPI_Classification_Public/eppi_text_classification/eppi_text_classification/single_process_opt.py:403: ExperimentalWarning: Terminator is experimental (supported from v3.2.0). The interface can change in the future.\n",
      "  terminator = Terminator(\n",
      "/Users/sjmolyneux/Documents/EPPI_Classification_Public/eppi_text_classification/eppi_text_classification/single_process_opt.py:410: ExperimentalWarning: TerminatorCallback is experimental (supported from v3.2.0). The interface can change in the future.\n",
      "  stagnation_termination_callback = TerminatorCallback(terminator=terminator)\n",
      "/Users/sjmolyneux/Documents/EPPI_Classification_Public/eppi_text_classification/eppi_text_classification/single_process_opt.py:415: ExperimentalWarning: RegretBoundEvaluator is experimental (supported from v3.2.0). The interface can change in the future.\n",
      "  improvement_evaluator=RegretBoundEvaluator(),\n",
      "/Users/sjmolyneux/Documents/EPPI_Classification_Public/eppi_text_classification/eppi_text_classification/single_process_opt.py:416: ExperimentalWarning: CrossValidationErrorEvaluator is experimental (supported from v3.2.0). The interface can change in the future.\n",
      "  error_evaluator=CrossValidationErrorEvaluator(),\n",
      "/Users/sjmolyneux/Documents/EPPI_Classification_Public/eppi_text_classification/eppi_text_classification/single_process_opt.py:414: ExperimentalWarning: Terminator is experimental (supported from v3.2.0). The interface can change in the future.\n",
      "  terminator = Terminator(\n",
      "/Users/sjmolyneux/Documents/EPPI_Classification_Public/eppi_text_classification/eppi_text_classification/single_process_opt.py:419: ExperimentalWarning: TerminatorCallback is experimental (supported from v3.2.0). The interface can change in the future.\n",
      "  regret_terminator_callback = TerminatorCallback(terminator=terminator)\n",
      "/Users/sjmolyneux/Documents/EPPI_Classification_Public/eppi_text_classification/eppi_text_classification/single_process_opt.py:404: ExperimentalWarning: BestValueStagnationEvaluator is experimental (supported from v3.4.0). The interface can change in the future.\n",
      "  improvement_evaluator=BestValueStagnationEvaluator(\n",
      "/Users/sjmolyneux/Documents/EPPI_Classification_Public/eppi_text_classification/eppi_text_classification/single_process_opt.py:407: ExperimentalWarning: StaticErrorEvaluator is experimental (supported from v3.2.0). The interface can change in the future.\n",
      "  error_evaluator=StaticErrorEvaluator(constant=0),\n",
      "/Users/sjmolyneux/Documents/EPPI_Classification_Public/eppi_text_classification/eppi_text_classification/single_process_opt.py:403: ExperimentalWarning: Terminator is experimental (supported from v3.2.0). The interface can change in the future.\n",
      "  terminator = Terminator(\n",
      "/Users/sjmolyneux/Documents/EPPI_Classification_Public/eppi_text_classification/eppi_text_classification/single_process_opt.py:410: ExperimentalWarning: TerminatorCallback is experimental (supported from v3.2.0). The interface can change in the future.\n",
      "  stagnation_termination_callback = TerminatorCallback(terminator=terminator)\n",
      "/Users/sjmolyneux/Documents/EPPI_Classification_Public/eppi_text_classification/eppi_text_classification/single_process_opt.py:415: ExperimentalWarning: RegretBoundEvaluator is experimental (supported from v3.2.0). The interface can change in the future.\n",
      "  improvement_evaluator=RegretBoundEvaluator(),\n",
      "/Users/sjmolyneux/Documents/EPPI_Classification_Public/eppi_text_classification/eppi_text_classification/single_process_opt.py:416: ExperimentalWarning: CrossValidationErrorEvaluator is experimental (supported from v3.2.0). The interface can change in the future.\n",
      "  error_evaluator=CrossValidationErrorEvaluator(),\n",
      "/Users/sjmolyneux/Documents/EPPI_Classification_Public/eppi_text_classification/eppi_text_classification/single_process_opt.py:414: ExperimentalWarning: Terminator is experimental (supported from v3.2.0). The interface can change in the future.\n",
      "  terminator = Terminator(\n",
      "/Users/sjmolyneux/Documents/EPPI_Classification_Public/eppi_text_classification/eppi_text_classification/single_process_opt.py:419: ExperimentalWarning: TerminatorCallback is experimental (supported from v3.2.0). The interface can change in the future.\n",
      "  regret_terminator_callback = TerminatorCallback(terminator=terminator)\n",
      "/Users/sjmolyneux/Documents/EPPI_Classification_Public/eppi_text_classification/eppi_text_classification/single_process_opt.py:404: ExperimentalWarning: BestValueStagnationEvaluator is experimental (supported from v3.4.0). The interface can change in the future.\n",
      "  improvement_evaluator=BestValueStagnationEvaluator(\n",
      "/Users/sjmolyneux/Documents/EPPI_Classification_Public/eppi_text_classification/eppi_text_classification/single_process_opt.py:407: ExperimentalWarning: StaticErrorEvaluator is experimental (supported from v3.2.0). The interface can change in the future.\n",
      "  error_evaluator=StaticErrorEvaluator(constant=0),\n",
      "/Users/sjmolyneux/Documents/EPPI_Classification_Public/eppi_text_classification/eppi_text_classification/single_process_opt.py:403: ExperimentalWarning: Terminator is experimental (supported from v3.2.0). The interface can change in the future.\n",
      "  terminator = Terminator(\n",
      "/Users/sjmolyneux/Documents/EPPI_Classification_Public/eppi_text_classification/eppi_text_classification/single_process_opt.py:410: ExperimentalWarning: TerminatorCallback is experimental (supported from v3.2.0). The interface can change in the future.\n",
      "  stagnation_termination_callback = TerminatorCallback(terminator=terminator)\n",
      "/Users/sjmolyneux/Documents/EPPI_Classification_Public/eppi_text_classification/eppi_text_classification/single_process_opt.py:415: ExperimentalWarning: RegretBoundEvaluator is experimental (supported from v3.2.0). The interface can change in the future.\n",
      "  improvement_evaluator=RegretBoundEvaluator(),\n",
      "/Users/sjmolyneux/Documents/EPPI_Classification_Public/eppi_text_classification/eppi_text_classification/single_process_opt.py:416: ExperimentalWarning: CrossValidationErrorEvaluator is experimental (supported from v3.2.0). The interface can change in the future.\n",
      "  error_evaluator=CrossValidationErrorEvaluator(),\n",
      "/Users/sjmolyneux/Documents/EPPI_Classification_Public/eppi_text_classification/eppi_text_classification/single_process_opt.py:414: ExperimentalWarning: Terminator is experimental (supported from v3.2.0). The interface can change in the future.\n",
      "  terminator = Terminator(\n",
      "/Users/sjmolyneux/Documents/EPPI_Classification_Public/eppi_text_classification/eppi_text_classification/single_process_opt.py:419: ExperimentalWarning: TerminatorCallback is experimental (supported from v3.2.0). The interface can change in the future.\n",
      "  regret_terminator_callback = TerminatorCallback(terminator=terminator)\n",
      "/Users/sjmolyneux/Documents/EPPI_Classification_Public/eppi_text_classification/eppi_text_classification/single_process_opt.py:404: ExperimentalWarning: BestValueStagnationEvaluator is experimental (supported from v3.4.0). The interface can change in the future.\n",
      "  improvement_evaluator=BestValueStagnationEvaluator(\n",
      "/Users/sjmolyneux/Documents/EPPI_Classification_Public/eppi_text_classification/eppi_text_classification/single_process_opt.py:407: ExperimentalWarning: StaticErrorEvaluator is experimental (supported from v3.2.0). The interface can change in the future.\n",
      "  error_evaluator=StaticErrorEvaluator(constant=0),\n",
      "/Users/sjmolyneux/Documents/EPPI_Classification_Public/eppi_text_classification/eppi_text_classification/single_process_opt.py:403: ExperimentalWarning: Terminator is experimental (supported from v3.2.0). The interface can change in the future.\n",
      "  terminator = Terminator(\n",
      "/Users/sjmolyneux/Documents/EPPI_Classification_Public/eppi_text_classification/eppi_text_classification/single_process_opt.py:410: ExperimentalWarning: TerminatorCallback is experimental (supported from v3.2.0). The interface can change in the future.\n",
      "  stagnation_termination_callback = TerminatorCallback(terminator=terminator)\n",
      "/Users/sjmolyneux/Documents/EPPI_Classification_Public/eppi_text_classification/eppi_text_classification/single_process_opt.py:415: ExperimentalWarning: RegretBoundEvaluator is experimental (supported from v3.2.0). The interface can change in the future.\n",
      "  improvement_evaluator=RegretBoundEvaluator(),\n",
      "/Users/sjmolyneux/Documents/EPPI_Classification_Public/eppi_text_classification/eppi_text_classification/single_process_opt.py:416: ExperimentalWarning: CrossValidationErrorEvaluator is experimental (supported from v3.2.0). The interface can change in the future.\n",
      "  error_evaluator=CrossValidationErrorEvaluator(),\n",
      "/Users/sjmolyneux/Documents/EPPI_Classification_Public/eppi_text_classification/eppi_text_classification/single_process_opt.py:414: ExperimentalWarning: Terminator is experimental (supported from v3.2.0). The interface can change in the future.\n",
      "  terminator = Terminator(\n",
      "/Users/sjmolyneux/Documents/EPPI_Classification_Public/eppi_text_classification/eppi_text_classification/single_process_opt.py:404: ExperimentalWarning: BestValueStagnationEvaluator is experimental (supported from v3.4.0). The interface can change in the future.\n",
      "  improvement_evaluator=BestValueStagnationEvaluator(\n",
      "/Users/sjmolyneux/Documents/EPPI_Classification_Public/eppi_text_classification/eppi_text_classification/single_process_opt.py:419: ExperimentalWarning: TerminatorCallback is experimental (supported from v3.2.0). The interface can change in the future.\n",
      "  regret_terminator_callback = TerminatorCallback(terminator=terminator)\n",
      "/Users/sjmolyneux/Documents/EPPI_Classification_Public/eppi_text_classification/eppi_text_classification/single_process_opt.py:407: ExperimentalWarning: StaticErrorEvaluator is experimental (supported from v3.2.0). The interface can change in the future.\n",
      "  error_evaluator=StaticErrorEvaluator(constant=0),\n",
      "/Users/sjmolyneux/Documents/EPPI_Classification_Public/eppi_text_classification/eppi_text_classification/single_process_opt.py:403: ExperimentalWarning: Terminator is experimental (supported from v3.2.0). The interface can change in the future.\n",
      "  terminator = Terminator(\n",
      "/Users/sjmolyneux/Documents/EPPI_Classification_Public/eppi_text_classification/eppi_text_classification/single_process_opt.py:410: ExperimentalWarning: TerminatorCallback is experimental (supported from v3.2.0). The interface can change in the future.\n",
      "  stagnation_termination_callback = TerminatorCallback(terminator=terminator)\n",
      "/Users/sjmolyneux/Documents/EPPI_Classification_Public/eppi_text_classification/eppi_text_classification/single_process_opt.py:415: ExperimentalWarning: RegretBoundEvaluator is experimental (supported from v3.2.0). The interface can change in the future.\n",
      "  improvement_evaluator=RegretBoundEvaluator(),\n",
      "/Users/sjmolyneux/Documents/EPPI_Classification_Public/eppi_text_classification/eppi_text_classification/single_process_opt.py:416: ExperimentalWarning: CrossValidationErrorEvaluator is experimental (supported from v3.2.0). The interface can change in the future.\n",
      "  error_evaluator=CrossValidationErrorEvaluator(),\n",
      "/Users/sjmolyneux/Documents/EPPI_Classification_Public/eppi_text_classification/eppi_text_classification/single_process_opt.py:414: ExperimentalWarning: Terminator is experimental (supported from v3.2.0). The interface can change in the future.\n",
      "  terminator = Terminator(\n",
      "/Users/sjmolyneux/Documents/EPPI_Classification_Public/eppi_text_classification/eppi_text_classification/single_process_opt.py:419: ExperimentalWarning: TerminatorCallback is experimental (supported from v3.2.0). The interface can change in the future.\n",
      "  regret_terminator_callback = TerminatorCallback(terminator=terminator)\n",
      "/Users/sjmolyneux/Documents/EPPI_Classification_Public/eppi_text_classification/eppi_text_classification/single_process_opt.py:404: ExperimentalWarning: BestValueStagnationEvaluator is experimental (supported from v3.4.0). The interface can change in the future.\n",
      "  improvement_evaluator=BestValueStagnationEvaluator(\n",
      "/Users/sjmolyneux/Documents/EPPI_Classification_Public/eppi_text_classification/eppi_text_classification/single_process_opt.py:407: ExperimentalWarning: StaticErrorEvaluator is experimental (supported from v3.2.0). The interface can change in the future.\n",
      "  error_evaluator=StaticErrorEvaluator(constant=0),\n",
      "/Users/sjmolyneux/Documents/EPPI_Classification_Public/eppi_text_classification/eppi_text_classification/single_process_opt.py:403: ExperimentalWarning: Terminator is experimental (supported from v3.2.0). The interface can change in the future.\n",
      "  terminator = Terminator(\n",
      "/Users/sjmolyneux/Documents/EPPI_Classification_Public/eppi_text_classification/eppi_text_classification/single_process_opt.py:410: ExperimentalWarning: TerminatorCallback is experimental (supported from v3.2.0). The interface can change in the future.\n",
      "  stagnation_termination_callback = TerminatorCallback(terminator=terminator)\n",
      "/Users/sjmolyneux/Documents/EPPI_Classification_Public/eppi_text_classification/eppi_text_classification/single_process_opt.py:415: ExperimentalWarning: RegretBoundEvaluator is experimental (supported from v3.2.0). The interface can change in the future.\n",
      "  improvement_evaluator=RegretBoundEvaluator(),\n",
      "/Users/sjmolyneux/Documents/EPPI_Classification_Public/eppi_text_classification/eppi_text_classification/single_process_opt.py:416: ExperimentalWarning: CrossValidationErrorEvaluator is experimental (supported from v3.2.0). The interface can change in the future.\n",
      "  error_evaluator=CrossValidationErrorEvaluator(),\n",
      "/Users/sjmolyneux/Documents/EPPI_Classification_Public/eppi_text_classification/eppi_text_classification/single_process_opt.py:414: ExperimentalWarning: Terminator is experimental (supported from v3.2.0). The interface can change in the future.\n",
      "  terminator = Terminator(\n",
      "/Users/sjmolyneux/Documents/EPPI_Classification_Public/eppi_text_classification/eppi_text_classification/single_process_opt.py:419: ExperimentalWarning: TerminatorCallback is experimental (supported from v3.2.0). The interface can change in the future.\n",
      "  regret_terminator_callback = TerminatorCallback(terminator=terminator)\n",
      "/Users/sjmolyneux/Documents/EPPI_Classification_Public/eppi_text_classification/eppi_text_classification/single_process_opt.py:404: ExperimentalWarning: BestValueStagnationEvaluator is experimental (supported from v3.4.0). The interface can change in the future.\n",
      "  improvement_evaluator=BestValueStagnationEvaluator(\n",
      "/Users/sjmolyneux/Documents/EPPI_Classification_Public/eppi_text_classification/eppi_text_classification/single_process_opt.py:407: ExperimentalWarning: StaticErrorEvaluator is experimental (supported from v3.2.0). The interface can change in the future.\n",
      "  error_evaluator=StaticErrorEvaluator(constant=0),\n",
      "/Users/sjmolyneux/Documents/EPPI_Classification_Public/eppi_text_classification/eppi_text_classification/single_process_opt.py:403: ExperimentalWarning: Terminator is experimental (supported from v3.2.0). The interface can change in the future.\n",
      "  terminator = Terminator(\n",
      "/Users/sjmolyneux/Documents/EPPI_Classification_Public/eppi_text_classification/eppi_text_classification/single_process_opt.py:410: ExperimentalWarning: TerminatorCallback is experimental (supported from v3.2.0). The interface can change in the future.\n",
      "  stagnation_termination_callback = TerminatorCallback(terminator=terminator)\n",
      "/Users/sjmolyneux/Documents/EPPI_Classification_Public/eppi_text_classification/eppi_text_classification/single_process_opt.py:415: ExperimentalWarning: RegretBoundEvaluator is experimental (supported from v3.2.0). The interface can change in the future.\n",
      "  improvement_evaluator=RegretBoundEvaluator(),\n",
      "/Users/sjmolyneux/Documents/EPPI_Classification_Public/eppi_text_classification/eppi_text_classification/single_process_opt.py:404: ExperimentalWarning: BestValueStagnationEvaluator is experimental (supported from v3.4.0). The interface can change in the future.\n",
      "  improvement_evaluator=BestValueStagnationEvaluator(\n",
      "/Users/sjmolyneux/Documents/EPPI_Classification_Public/eppi_text_classification/eppi_text_classification/single_process_opt.py:407: ExperimentalWarning: StaticErrorEvaluator is experimental (supported from v3.2.0). The interface can change in the future.\n",
      "  error_evaluator=StaticErrorEvaluator(constant=0),\n",
      "/Users/sjmolyneux/Documents/EPPI_Classification_Public/eppi_text_classification/eppi_text_classification/single_process_opt.py:403: ExperimentalWarning: Terminator is experimental (supported from v3.2.0). The interface can change in the future.\n",
      "  terminator = Terminator(\n",
      "/Users/sjmolyneux/Documents/EPPI_Classification_Public/eppi_text_classification/eppi_text_classification/single_process_opt.py:410: ExperimentalWarning: TerminatorCallback is experimental (supported from v3.2.0). The interface can change in the future.\n",
      "  stagnation_termination_callback = TerminatorCallback(terminator=terminator)\n",
      "/Users/sjmolyneux/Documents/EPPI_Classification_Public/eppi_text_classification/eppi_text_classification/single_process_opt.py:415: ExperimentalWarning: RegretBoundEvaluator is experimental (supported from v3.2.0). The interface can change in the future.\n",
      "  improvement_evaluator=RegretBoundEvaluator(),\n",
      "/Users/sjmolyneux/Documents/EPPI_Classification_Public/eppi_text_classification/eppi_text_classification/single_process_opt.py:416: ExperimentalWarning: CrossValidationErrorEvaluator is experimental (supported from v3.2.0). The interface can change in the future.\n",
      "  error_evaluator=CrossValidationErrorEvaluator(),\n",
      "/Users/sjmolyneux/Documents/EPPI_Classification_Public/eppi_text_classification/eppi_text_classification/single_process_opt.py:414: ExperimentalWarning: Terminator is experimental (supported from v3.2.0). The interface can change in the future.\n",
      "  terminator = Terminator(\n",
      "/Users/sjmolyneux/Documents/EPPI_Classification_Public/eppi_text_classification/eppi_text_classification/single_process_opt.py:419: ExperimentalWarning: TerminatorCallback is experimental (supported from v3.2.0). The interface can change in the future.\n",
      "  regret_terminator_callback = TerminatorCallback(terminator=terminator)\n",
      "/Users/sjmolyneux/Documents/EPPI_Classification_Public/eppi_text_classification/eppi_text_classification/single_process_opt.py:416: ExperimentalWarning: CrossValidationErrorEvaluator is experimental (supported from v3.2.0). The interface can change in the future.\n",
      "  error_evaluator=CrossValidationErrorEvaluator(),\n",
      "/Users/sjmolyneux/Documents/EPPI_Classification_Public/eppi_text_classification/eppi_text_classification/single_process_opt.py:414: ExperimentalWarning: Terminator is experimental (supported from v3.2.0). The interface can change in the future.\n",
      "  terminator = Terminator(\n",
      "/Users/sjmolyneux/Documents/EPPI_Classification_Public/eppi_text_classification/eppi_text_classification/single_process_opt.py:419: ExperimentalWarning: TerminatorCallback is experimental (supported from v3.2.0). The interface can change in the future.\n",
      "  regret_terminator_callback = TerminatorCallback(terminator=terminator)\n",
      "/Users/sjmolyneux/Documents/EPPI_Classification_Public/eppi_text_classification/eppi_text_classification/single_process_opt.py:404: ExperimentalWarning: BestValueStagnationEvaluator is experimental (supported from v3.4.0). The interface can change in the future.\n",
      "  improvement_evaluator=BestValueStagnationEvaluator(\n",
      "/Users/sjmolyneux/Documents/EPPI_Classification_Public/eppi_text_classification/eppi_text_classification/single_process_opt.py:407: ExperimentalWarning: StaticErrorEvaluator is experimental (supported from v3.2.0). The interface can change in the future.\n",
      "  error_evaluator=StaticErrorEvaluator(constant=0),\n",
      "/Users/sjmolyneux/Documents/EPPI_Classification_Public/eppi_text_classification/eppi_text_classification/single_process_opt.py:403: ExperimentalWarning: Terminator is experimental (supported from v3.2.0). The interface can change in the future.\n",
      "  terminator = Terminator(\n",
      "/Users/sjmolyneux/Documents/EPPI_Classification_Public/eppi_text_classification/eppi_text_classification/single_process_opt.py:410: ExperimentalWarning: TerminatorCallback is experimental (supported from v3.2.0). The interface can change in the future.\n",
      "  stagnation_termination_callback = TerminatorCallback(terminator=terminator)\n",
      "/Users/sjmolyneux/Documents/EPPI_Classification_Public/eppi_text_classification/eppi_text_classification/single_process_opt.py:415: ExperimentalWarning: RegretBoundEvaluator is experimental (supported from v3.2.0). The interface can change in the future.\n",
      "  improvement_evaluator=RegretBoundEvaluator(),\n",
      "/Users/sjmolyneux/Documents/EPPI_Classification_Public/eppi_text_classification/eppi_text_classification/single_process_opt.py:416: ExperimentalWarning: CrossValidationErrorEvaluator is experimental (supported from v3.2.0). The interface can change in the future.\n",
      "  error_evaluator=CrossValidationErrorEvaluator(),\n",
      "/Users/sjmolyneux/Documents/EPPI_Classification_Public/eppi_text_classification/eppi_text_classification/single_process_opt.py:414: ExperimentalWarning: Terminator is experimental (supported from v3.2.0). The interface can change in the future.\n",
      "  terminator = Terminator(\n",
      "/Users/sjmolyneux/Documents/EPPI_Classification_Public/eppi_text_classification/eppi_text_classification/single_process_opt.py:419: ExperimentalWarning: TerminatorCallback is experimental (supported from v3.2.0). The interface can change in the future.\n",
      "  regret_terminator_callback = TerminatorCallback(terminator=terminator)\n",
      "/Users/sjmolyneux/Documents/EPPI_Classification_Public/eppi_text_classification/eppi_text_classification/single_process_opt.py:404: ExperimentalWarning: BestValueStagnationEvaluator is experimental (supported from v3.4.0). The interface can change in the future.\n",
      "  improvement_evaluator=BestValueStagnationEvaluator(\n",
      "/Users/sjmolyneux/Documents/EPPI_Classification_Public/eppi_text_classification/eppi_text_classification/single_process_opt.py:404: ExperimentalWarning: BestValueStagnationEvaluator is experimental (supported from v3.4.0). The interface can change in the future.\n",
      "  improvement_evaluator=BestValueStagnationEvaluator(\n",
      "/Users/sjmolyneux/Documents/EPPI_Classification_Public/eppi_text_classification/eppi_text_classification/single_process_opt.py:407: ExperimentalWarning: StaticErrorEvaluator is experimental (supported from v3.2.0). The interface can change in the future.\n",
      "  error_evaluator=StaticErrorEvaluator(constant=0),\n",
      "/Users/sjmolyneux/Documents/EPPI_Classification_Public/eppi_text_classification/eppi_text_classification/single_process_opt.py:407: ExperimentalWarning: StaticErrorEvaluator is experimental (supported from v3.2.0). The interface can change in the future.\n",
      "  error_evaluator=StaticErrorEvaluator(constant=0),\n",
      "/Users/sjmolyneux/Documents/EPPI_Classification_Public/eppi_text_classification/eppi_text_classification/single_process_opt.py:403: ExperimentalWarning: Terminator is experimental (supported from v3.2.0). The interface can change in the future.\n",
      "  terminator = Terminator(\n",
      "/Users/sjmolyneux/Documents/EPPI_Classification_Public/eppi_text_classification/eppi_text_classification/single_process_opt.py:403: ExperimentalWarning: Terminator is experimental (supported from v3.2.0). The interface can change in the future.\n",
      "  terminator = Terminator(\n",
      "/Users/sjmolyneux/Documents/EPPI_Classification_Public/eppi_text_classification/eppi_text_classification/single_process_opt.py:410: ExperimentalWarning: TerminatorCallback is experimental (supported from v3.2.0). The interface can change in the future.\n",
      "  stagnation_termination_callback = TerminatorCallback(terminator=terminator)\n",
      "/Users/sjmolyneux/Documents/EPPI_Classification_Public/eppi_text_classification/eppi_text_classification/single_process_opt.py:410: ExperimentalWarning: TerminatorCallback is experimental (supported from v3.2.0). The interface can change in the future.\n",
      "  stagnation_termination_callback = TerminatorCallback(terminator=terminator)\n",
      "/Users/sjmolyneux/Documents/EPPI_Classification_Public/eppi_text_classification/eppi_text_classification/single_process_opt.py:415: ExperimentalWarning: RegretBoundEvaluator is experimental (supported from v3.2.0). The interface can change in the future.\n",
      "  improvement_evaluator=RegretBoundEvaluator(),\n",
      "/Users/sjmolyneux/Documents/EPPI_Classification_Public/eppi_text_classification/eppi_text_classification/single_process_opt.py:415: ExperimentalWarning: RegretBoundEvaluator is experimental (supported from v3.2.0). The interface can change in the future.\n",
      "  improvement_evaluator=RegretBoundEvaluator(),\n",
      "/Users/sjmolyneux/Documents/EPPI_Classification_Public/eppi_text_classification/eppi_text_classification/single_process_opt.py:416: ExperimentalWarning: CrossValidationErrorEvaluator is experimental (supported from v3.2.0). The interface can change in the future.\n",
      "  error_evaluator=CrossValidationErrorEvaluator(),\n",
      "/Users/sjmolyneux/Documents/EPPI_Classification_Public/eppi_text_classification/eppi_text_classification/single_process_opt.py:414: ExperimentalWarning: Terminator is experimental (supported from v3.2.0). The interface can change in the future.\n",
      "  terminator = Terminator(\n",
      "/Users/sjmolyneux/Documents/EPPI_Classification_Public/eppi_text_classification/eppi_text_classification/single_process_opt.py:419: ExperimentalWarning: TerminatorCallback is experimental (supported from v3.2.0). The interface can change in the future.\n",
      "  regret_terminator_callback = TerminatorCallback(terminator=terminator)\n",
      "/Users/sjmolyneux/Documents/EPPI_Classification_Public/eppi_text_classification/eppi_text_classification/single_process_opt.py:416: ExperimentalWarning: CrossValidationErrorEvaluator is experimental (supported from v3.2.0). The interface can change in the future.\n",
      "  error_evaluator=CrossValidationErrorEvaluator(),\n",
      "/Users/sjmolyneux/Documents/EPPI_Classification_Public/eppi_text_classification/eppi_text_classification/single_process_opt.py:414: ExperimentalWarning: Terminator is experimental (supported from v3.2.0). The interface can change in the future.\n",
      "  terminator = Terminator(\n",
      "/Users/sjmolyneux/Documents/EPPI_Classification_Public/eppi_text_classification/eppi_text_classification/single_process_opt.py:419: ExperimentalWarning: TerminatorCallback is experimental (supported from v3.2.0). The interface can change in the future.\n",
      "  regret_terminator_callback = TerminatorCallback(terminator=terminator)\n",
      "/Users/sjmolyneux/Documents/EPPI_Classification_Public/eppi_text_classification/eppi_text_classification/single_process_opt.py:404: ExperimentalWarning: BestValueStagnationEvaluator is experimental (supported from v3.4.0). The interface can change in the future.\n",
      "  improvement_evaluator=BestValueStagnationEvaluator(\n",
      "/Users/sjmolyneux/Documents/EPPI_Classification_Public/eppi_text_classification/eppi_text_classification/single_process_opt.py:407: ExperimentalWarning: StaticErrorEvaluator is experimental (supported from v3.2.0). The interface can change in the future.\n",
      "  error_evaluator=StaticErrorEvaluator(constant=0),\n",
      "/Users/sjmolyneux/Documents/EPPI_Classification_Public/eppi_text_classification/eppi_text_classification/single_process_opt.py:403: ExperimentalWarning: Terminator is experimental (supported from v3.2.0). The interface can change in the future.\n",
      "  terminator = Terminator(\n",
      "/Users/sjmolyneux/Documents/EPPI_Classification_Public/eppi_text_classification/eppi_text_classification/single_process_opt.py:410: ExperimentalWarning: TerminatorCallback is experimental (supported from v3.2.0). The interface can change in the future.\n",
      "  stagnation_termination_callback = TerminatorCallback(terminator=terminator)\n",
      "/Users/sjmolyneux/Documents/EPPI_Classification_Public/eppi_text_classification/eppi_text_classification/single_process_opt.py:415: ExperimentalWarning: RegretBoundEvaluator is experimental (supported from v3.2.0). The interface can change in the future.\n",
      "  improvement_evaluator=RegretBoundEvaluator(),\n",
      "/Users/sjmolyneux/Documents/EPPI_Classification_Public/eppi_text_classification/eppi_text_classification/single_process_opt.py:416: ExperimentalWarning: CrossValidationErrorEvaluator is experimental (supported from v3.2.0). The interface can change in the future.\n",
      "  error_evaluator=CrossValidationErrorEvaluator(),\n",
      "/Users/sjmolyneux/Documents/EPPI_Classification_Public/eppi_text_classification/eppi_text_classification/single_process_opt.py:414: ExperimentalWarning: Terminator is experimental (supported from v3.2.0). The interface can change in the future.\n",
      "  terminator = Terminator(\n",
      "/Users/sjmolyneux/Documents/EPPI_Classification_Public/eppi_text_classification/eppi_text_classification/single_process_opt.py:419: ExperimentalWarning: TerminatorCallback is experimental (supported from v3.2.0). The interface can change in the future.\n",
      "  regret_terminator_callback = TerminatorCallback(terminator=terminator)\n"
     ]
    },
    {
     "name": "stdout",
     "output_type": "stream",
     "text": [
      "Finished trial with scores: [0.899002493765586, 0.8889443059019119, 0.9546908315565031]\n",
      "Finished trial with scores: [0.9238570241064007, 0.8347464671654197, 0.9378997867803838]\n"
     ]
    },
    {
     "name": "stderr",
     "output_type": "stream",
     "text": [
      "[I 2025-02-23 13:51:47,930] Trial 1 finished with value: 0.9142125437413336 and parameters: {'max_depth': 2, 'min_child_weight': 1.01697346361078e-06, 'num_leaves': 6, 'reg_alpha': 3.797228617135805, 'n_estimators': 304, 'learning_rate': 0.1980863644157955, 'min_split_gain': 1.7086280623851469, 'reg_lambda': 1.22457186147429, 'min_child_samples': 27}. Best is trial 1 with value: 0.9142125437413336.\n",
      "[I 2025-02-23 13:51:48,014] Trial 7 finished with value: 0.8988344260174014 and parameters: {'learning_rate': 0.3343579198708323, 'num_leaves': 20, 'n_estimators': 104, 'min_child_weight': 0.00024642826328433133, 'reg_lambda': 2.128588275177813e-05, 'max_depth': 1, 'min_split_gain': 7.4202481029757825, 'min_child_samples': 18, 'reg_alpha': 0.0516388553903958}. Best is trial 1 with value: 0.9142125437413336.\n"
     ]
    },
    {
     "name": "stdout",
     "output_type": "stream",
     "text": [
      "Finished trial with scores: [0.640149625935162, 0.5655860349127182, 0.7269012082444918]\n",
      "Finished trial with scores: [0.8179551122194514, 0.7901911886949293, 0.896499644633973]\n",
      "Finished trial with scores: [0.8630922693266834, 0.8051537822111389, 0.9433191186922529]\n",
      "Finished trial with scores: [0.8507065669160432, 0.7747298420615129, 0.916133617626155]\n",
      "Finished trial with scores: [0.9019118869492934, 0.8763092269326684, 0.9342572850035537]\n"
     ]
    },
    {
     "name": "stderr",
     "output_type": "stream",
     "text": [
      "[I 2025-02-23 13:51:48,199] Trial 8 finished with value: 0.6442122896974573 and parameters: {'n_estimators': 462, 'min_split_gain': 9.719965017129825, 'reg_alpha': 0.12195634326292004, 'max_depth': 11, 'min_child_weight': 6.817572414697349e-06, 'learning_rate': 0.5796476213319742, 'min_child_samples': 19, 'num_leaves': 35, 'reg_lambda': 0.0113481232161062}. Best is trial 1 with value: 0.9142125437413336.\n",
      "[I 2025-02-23 13:51:48,209] Trial 2 finished with value: 0.8348819818494512 and parameters: {'learning_rate': 0.38515704428821995, 'num_leaves': 44, 'reg_alpha': 1.545724952864946, 'min_child_samples': 21, 'n_estimators': 457, 'min_child_weight': 2.4218043722504486e-05, 'min_split_gain': 3.2693815820483727, 'reg_lambda': 0.85914419244034, 'max_depth': 3}. Best is trial 1 with value: 0.9142125437413336.\n",
      "[I 2025-02-23 13:51:48,311] Trial 6 finished with value: 0.870521723410025 and parameters: {'reg_lambda': 0.016491003041626998, 'num_leaves': 45, 'min_split_gain': 5.700423464118205, 'n_estimators': 452, 'max_depth': 15, 'learning_rate': 0.2858978144617944, 'reg_alpha': 0.6183271030211105, 'min_child_samples': 24, 'min_child_weight': 4.162243764710313e-05}. Best is trial 1 with value: 0.9142125437413336.\n",
      "[I 2025-02-23 13:51:48,367] Trial 5 finished with value: 0.8471900088679036 and parameters: {'min_child_weight': 0.021244630980374546, 'learning_rate': 0.5112247242057716, 'reg_alpha': 0.07928899766549205, 'max_depth': 11, 'min_child_samples': 10, 'n_estimators': 414, 'min_split_gain': 5.815487209354471, 'reg_lambda': 9.084942124578445, 'num_leaves': 23}. Best is trial 1 with value: 0.9142125437413336.\n",
      "[I 2025-02-23 13:51:48,395] Trial 9 finished with value: 0.9041594662951719 and parameters: {'reg_lambda': 2.898423584189797, 'learning_rate': 0.271760199905017, 'min_child_weight': 5.0937647665983084e-05, 'reg_alpha': 0.00041127900187752685, 'max_depth': 11, 'n_estimators': 281, 'min_split_gain': 5.088654736331943, 'min_child_samples': 12, 'num_leaves': 4}. Best is trial 1 with value: 0.9142125437413336.\n"
     ]
    },
    {
     "name": "stdout",
     "output_type": "stream",
     "text": [
      "Finished trial with scores: [0.7474646716541979, 0.8457190357439734, 0.9470504619758351]\n",
      "Finished trial with scores: [0.8671654197838736, 0.7729842061512886, 0.9255508173418621]\n",
      "Finished trial with scores: [0.9086450540315876, 0.7775561097256859, 0.9347903340440654]\n",
      "Finished trial with scores: [0.8314214463840399, 0.7479634247714048, 0.8961442786069651]\n"
     ]
    },
    {
     "name": "stderr",
     "output_type": "stream",
     "text": [
      "[I 2025-02-23 13:51:48,457] Trial 11 finished with value: 0.8467447231246688 and parameters: {'min_child_weight': 1.9440466174343724e-06, 'learning_rate': 0.35306324693284663, 'max_depth': 15, 'reg_lambda': 0.6075588944914161, 'num_leaves': 8, 'min_split_gain': 0.30265913928073107, 'reg_alpha': 0.002782591407742363, 'min_child_samples': 19, 'n_estimators': 470}. Best is trial 1 with value: 0.9142125437413336.\n",
      "[I 2025-02-23 13:51:48,525] Trial 10 finished with value: 0.8552334810923415 and parameters: {'min_child_weight': 0.04161625419516286, 'max_depth': 8, 'reg_lambda': 5.2212597473127255e-05, 'n_estimators': 326, 'reg_alpha': 9.358177976727946, 'learning_rate': 0.20356152342426556, 'num_leaves': 42, 'min_split_gain': 2.9421711784040125, 'min_child_samples': 12}. Best is trial 1 with value: 0.9142125437413336.\n",
      "[I 2025-02-23 13:51:48,541] Trial 0 finished with value: 0.8736638326004463 and parameters: {'max_depth': 2, 'min_child_samples': 7, 'reg_alpha': 6.699532298868397e-05, 'learning_rate': 0.24357091231776176, 'reg_lambda': 0.276460685844552, 'num_leaves': 26, 'min_split_gain': 6.493435958709297, 'min_child_weight': 0.01002798909920389, 'n_estimators': 238}. Best is trial 1 with value: 0.9142125437413336.\n",
      "[I 2025-02-23 13:51:48,541] Trial 4 finished with value: 0.8251763832541367 and parameters: {'max_depth': 12, 'min_child_samples': 15, 'reg_lambda': 0.0012039159646519276, 'min_split_gain': 4.492443051931338, 'reg_alpha': 0.0011225859925371516, 'learning_rate': 0.32120165220369856, 'num_leaves': 4, 'n_estimators': 460, 'min_child_weight': 0.002931682565104986}. Best is trial 1 with value: 0.9142125437413336.\n"
     ]
    },
    {
     "name": "stdout",
     "output_type": "stream",
     "text": [
      "Finished trial with scores: [0.7192019950124687, 0.7837073981712386, 0.6302416488983653]\n"
     ]
    },
    {
     "name": "stderr",
     "output_type": "stream",
     "text": [
      "[I 2025-02-23 13:51:48,708] Trial 13 finished with value: 0.711050347360691 and parameters: {'learning_rate': 0.4383552162303649, 'num_leaves': 32, 'n_estimators': 100, 'min_child_weight': 0.0004978264595678147, 'reg_lambda': 0.028503478025108404, 'max_depth': 14, 'min_split_gain': 0.7219903661326901, 'min_child_samples': 27, 'reg_alpha': 0.01612016927030217}. Best is trial 1 with value: 0.9142125437413336.\n"
     ]
    },
    {
     "name": "stdout",
     "output_type": "stream",
     "text": [
      "Finished trial with scores: [0.7403158769742312, 0.726267664172901, 0.9466950959488273]\n",
      "Finished trial with scores: [0.8661679135494597, 0.8605153782211139, 0.9484719260838663]\n"
     ]
    },
    {
     "name": "stderr",
     "output_type": "stream",
     "text": [
      "[I 2025-02-23 13:51:49,163] Trial 12 finished with value: 0.8044262123653199 and parameters: {'max_depth': 8, 'min_child_weight': 0.0016120497658445696, 'num_leaves': 9, 'reg_alpha': 0.002321310935847109, 'n_estimators': 323, 'learning_rate': 0.3398739111257184, 'min_split_gain': 1.020307810026054, 'reg_lambda': 0.3131024937183061, 'min_child_samples': 12}. Best is trial 1 with value: 0.9142125437413336.\n",
      "[I 2025-02-23 13:51:49,290] Trial 14 finished with value: 0.8917184059514799 and parameters: {'n_estimators': 258, 'min_split_gain': 1.3051289776456534, 'reg_alpha': 1.1231367956142955, 'max_depth': 11, 'min_child_weight': 0.0031211155556886655, 'learning_rate': 0.26964103070169365, 'min_child_samples': 21, 'num_leaves': 5, 'reg_lambda': 0.3564117452656329}. Best is trial 1 with value: 0.9142125437413336.\n"
     ]
    },
    {
     "name": "stdout",
     "output_type": "stream",
     "text": [
      "Finished trial with scores: [0.7417290108063175, 0.6379052369077307, 0.5245202558635395]\n",
      "Finished trial with scores: [0.8364921030756443, 0.8072319201995012, 0.9163113006396588]\n",
      "Finished trial with scores: [0.9040731504571904, 0.8802992518703242, 0.9145344705046198]\n",
      "Finished trial with scores: [0.9374896093100582, 0.8039900249376559, 0.9625088841506751]\n"
     ]
    },
    {
     "name": "stderr",
     "output_type": "stream",
     "text": [
      "[I 2025-02-23 13:51:49,412] Trial 16 finished with value: 0.6347181678591959 and parameters: {'reg_lambda': 0.0009666950597496854, 'num_leaves': 38, 'min_split_gain': 3.1450369368161235, 'n_estimators': 151, 'max_depth': 8, 'learning_rate': 0.5244081630049143, 'reg_alpha': 0.00010317102623565177, 'min_child_samples': 18, 'min_child_weight': 0.00290774421603299}. Best is trial 1 with value: 0.9142125437413336.\n",
      "[I 2025-02-23 13:51:49,463] Trial 18 finished with value: 0.8533451079716015 and parameters: {'reg_lambda': 0.00025581002629642736, 'learning_rate': 0.25366931439513696, 'min_child_weight': 0.09334832077863822, 'reg_alpha': 0.00013566233783802932, 'max_depth': 3, 'n_estimators': 333, 'min_split_gain': 6.50969720696879, 'min_child_samples': 27, 'num_leaves': 18}. Best is trial 1 with value: 0.9142125437413336.\n",
      "[I 2025-02-23 13:51:49,471] Trial 15 finished with value: 0.8996356242773782 and parameters: {'learning_rate': 0.2875395624285251, 'num_leaves': 15, 'reg_alpha': 0.01373090776320811, 'min_child_samples': 11, 'n_estimators': 358, 'min_child_weight': 0.04239592670630003, 'min_split_gain': 1.700068996878861, 'reg_lambda': 1.2465441399659312, 'max_depth': 7}. Best is trial 1 with value: 0.9142125437413336.\n",
      "[I 2025-02-23 13:51:49,591] Trial 19 finished with value: 0.9013295061327965 and parameters: {'min_child_weight': 0.0016781415867631881, 'learning_rate': 0.12408155722096499, 'max_depth': 5, 'reg_lambda': 0.0012874755942497394, 'num_leaves': 14, 'min_split_gain': 0.689369597681017, 'reg_alpha': 1.0803539714942117e-05, 'min_child_samples': 29, 'n_estimators': 171}. Best is trial 1 with value: 0.9142125437413336.\n"
     ]
    },
    {
     "name": "stdout",
     "output_type": "stream",
     "text": [
      "Finished trial with scores: [0.8093100581878637, 0.6530340814630091, 0.7405828002842929]\n",
      "Finished trial with scores: [0.9496259351620948, 0.8944305901911888, 0.9653518123667377]\n",
      "Finished trial with scores: [0.9596009975062345, 0.9077306733167082, 0.9614427860696517]\n",
      "Finished trial with scores: [0.8911886949293433, 0.7012468827930175, 0.876954513148543]\n",
      "Finished trial with scores: [0.900665004156276, 0.887448046550291, 0.9577114427860697]\n"
     ]
    },
    {
     "name": "stderr",
     "output_type": "stream",
     "text": [
      "[I 2025-02-23 13:51:49,712] Trial 17 finished with value: 0.7343089799783886 and parameters: {'min_child_weight': 0.01920090685233176, 'learning_rate': 0.42882816452059547, 'reg_alpha': 0.0017852510555754191, 'max_depth': 10, 'min_child_samples': 18, 'n_estimators': 472, 'min_split_gain': 1.9974072877199691, 'reg_lambda': 0.005609656519695088, 'num_leaves': 4}. Best is trial 1 with value: 0.9142125437413336.\n",
      "[I 2025-02-23 13:51:49,720] Trial 21 finished with value: 0.9364694459066737 and parameters: {'max_depth': 6, 'min_child_samples': 30, 'reg_lambda': 5.7705096632805075, 'min_split_gain': 0.17913132197081882, 'reg_alpha': 1.2119834705253017e-05, 'learning_rate': 0.15260306798272305, 'num_leaves': 12, 'n_estimators': 276, 'min_child_weight': 1.7328894644817712e-06}. Best is trial 21 with value: 0.9364694459066737.\n",
      "[I 2025-02-23 13:51:49,739] Trial 20 finished with value: 0.942924818964198 and parameters: {'min_child_weight': 1.0454947768751088e-06, 'max_depth': 6, 'reg_lambda': 9.953510950176858, 'n_estimators': 266, 'reg_alpha': 1.092091817499384e-05, 'learning_rate': 0.10509456490811075, 'num_leaves': 14, 'min_split_gain': 0.18478035552451733, 'min_child_samples': 30}. Best is trial 20 with value: 0.942924818964198.\n",
      "[I 2025-02-23 13:51:49,866] Trial 26 finished with value: 0.9152748311642123 and parameters: {'reg_lambda': 8.913611782293868, 'num_leaves': 11, 'min_split_gain': 4.328018723652007, 'n_estimators': 247, 'max_depth': 6, 'learning_rate': 0.13278674956475245, 'reg_alpha': 1.6936727963340014e-05, 'min_child_samples': 30, 'min_child_weight': 1.3115243039545342e-06}. Best is trial 20 with value: 0.942924818964198.\n",
      "[I 2025-02-23 13:51:49,881] Trial 3 finished with value: 0.8231300302903012 and parameters: {'min_child_weight': 7.758713419981527e-05, 'reg_lambda': 0.0009108131473464732, 'min_child_samples': 2, 'num_leaves': 25, 'n_estimators': 261, 'reg_alpha': 0.01553833282125284, 'max_depth': 14, 'learning_rate': 0.1529885016494634, 'min_split_gain': 9.026294056878845}. Best is trial 20 with value: 0.942924818964198.\n"
     ]
    },
    {
     "name": "stdout",
     "output_type": "stream",
     "text": [
      "Finished trial with scores: [0.9093931837073983, 0.826101413133832, 0.9538024164889837]\n",
      "Finished trial with scores: [0.9368246051537823, 0.8768079800498754, 0.9658848614072494]\n",
      "Finished trial with scores: [0.9336658354114713, 0.9293433083956775, 0.9639303482587065]\n",
      "Finished trial with scores: [0.9496259351620948, 0.9110556940980882, 0.9626865671641791]\n"
     ]
    },
    {
     "name": "stderr",
     "output_type": "stream",
     "text": [
      "[I 2025-02-23 13:51:50,095] Trial 27 finished with value: 0.896432337776738 and parameters: {'learning_rate': 0.1544148859661582, 'num_leaves': 2, 'reg_alpha': 0.00040850363082785995, 'min_child_samples': 14, 'n_estimators': 259, 'min_child_weight': 1.8667078089866164e-06, 'min_split_gain': 4.372795896846499, 'reg_lambda': 9.96230991191718, 'max_depth': 5}. Best is trial 20 with value: 0.942924818964198.\n",
      "[I 2025-02-23 13:51:50,196] Trial 32 finished with value: 0.9265058155369691 and parameters: {'min_child_weight': 1.2840988386469815e-06, 'learning_rate': 0.11078739092072454, 'reg_alpha': 1.6325905064449872e-05, 'max_depth': 5, 'min_child_samples': 30, 'n_estimators': 220, 'min_split_gain': 2.2995332130455015, 'reg_lambda': 5.432773651923399, 'num_leaves': 13}. Best is trial 20 with value: 0.942924818964198.\n",
      "[I 2025-02-23 13:51:50,290] Trial 30 finished with value: 0.9411227321414541 and parameters: {'max_depth': 5, 'min_child_samples': 30, 'reg_lambda': 6.902119051102629, 'min_split_gain': 0.09029989125897687, 'reg_alpha': 1.2914655568740783e-05, 'learning_rate': 0.10199799731717242, 'num_leaves': 12, 'n_estimators': 214, 'min_child_weight': 1.0760198020511949e-06}. Best is trial 20 with value: 0.942924818964198.\n",
      "[I 2025-02-23 13:51:50,291] Trial 31 finished with value: 0.9423131640219516 and parameters: {'min_child_weight': 1.1485472040758685e-06, 'max_depth': 5, 'reg_lambda': 7.763501110234094, 'n_estimators': 230, 'reg_alpha': 1.760983703644315e-05, 'learning_rate': 0.10148550241826898, 'num_leaves': 11, 'min_split_gain': 0.17562174085806848, 'min_child_samples': 30}. Best is trial 20 with value: 0.942924818964198.\n"
     ]
    },
    {
     "name": "stdout",
     "output_type": "stream",
     "text": [
      "Finished trial with scores: [0.9122194513715711, 0.8108063175394846, 0.9598436389481165]\n",
      "Finished trial with scores: [0.9492934330839568, 0.9246882793017457, 0.9587775408670931]\n",
      "Finished trial with scores: [0.9344970906068163, 0.8312551953449709, 0.9406538734896944]\n",
      "Finished trial with scores: [0.9326683291770573, 0.8347464671654198, 0.9381663113006397]\n"
     ]
    },
    {
     "name": "stderr",
     "output_type": "stream",
     "text": [
      "[I 2025-02-23 13:51:50,455] Trial 34 finished with value: 0.8942898026197241 and parameters: {'learning_rate': 0.11717482999092504, 'num_leaves': 12, 'reg_alpha': 1.0316851157882907e-05, 'min_child_samples': 29, 'n_estimators': 202, 'min_child_weight': 7.294719037995932e-06, 'min_split_gain': 2.4368560501555874, 'reg_lambda': 0.07178508433456648, 'max_depth': 6}. Best is trial 20 with value: 0.942924818964198.\n",
      "[I 2025-02-23 13:51:50,546] Trial 28 finished with value: 0.9021353864804939 and parameters: {'reg_lambda': 9.702718620382528, 'learning_rate': 0.13528043428603254, 'min_child_weight': 1.0110009278369662e-06, 'reg_alpha': 0.0008431962553735147, 'max_depth': 6, 'n_estimators': 253, 'min_split_gain': 4.557175538313926, 'min_child_samples': 4, 'num_leaves': 11}. Best is trial 33 with value: 0.9442530844175986.\n",
      "[I 2025-02-23 13:51:50,551] Trial 33 finished with value: 0.9442530844175986 and parameters: {'reg_lambda': 7.730897567460684, 'num_leaves': 12, 'min_split_gain': 0.0057354208214899505, 'n_estimators': 218, 'max_depth': 6, 'learning_rate': 0.10610771872213046, 'reg_alpha': 2.2234805123707786e-05, 'min_child_samples': 30, 'min_child_weight': 5.342056474733244e-06}. Best is trial 33 with value: 0.9442530844175986.\n",
      "[I 2025-02-23 13:51:50,628] Trial 36 finished with value: 0.9018603692143722 and parameters: {'min_child_weight': 6.230959042310924e-06, 'learning_rate': 0.10351782428669336, 'reg_alpha': 2.572714087755812e-05, 'max_depth': 5, 'min_child_samples': 24, 'n_estimators': 207, 'min_split_gain': 2.5791999760795723, 'reg_lambda': 0.10097486163655198, 'num_leaves': 14}. Best is trial 33 with value: 0.9442530844175986.\n"
     ]
    },
    {
     "name": "stdout",
     "output_type": "stream",
     "text": [
      "Finished trial with scores: [0.9592684954280964, 0.8749792186201164, 0.9568230277185502]\n",
      "Finished trial with scores: [0.9090606816292601, 0.7539484621778886, 0.9573560767590619]\n",
      "Finished trial with scores: [0.9406483790523692, 0.8457190357439733, 0.9426083866382374]\n",
      "Finished trial with scores: [0.9453034081463009, 0.8430590191188695, 0.9667732764747691]\n",
      "Finished trial with scores: [0.9364921030756442, 0.8350789692435577, 0.9742359630419332]\n"
     ]
    },
    {
     "name": "stderr",
     "output_type": "stream",
     "text": [
      "[I 2025-02-23 13:51:50,695] Trial 35 finished with value: 0.9303569139222544 and parameters: {'min_child_weight': 8.360042740219034e-06, 'reg_lambda': 0.08293627613133768, 'min_child_samples': 30, 'num_leaves': 13, 'n_estimators': 215, 'reg_alpha': 1.2437719546071053e-05, 'max_depth': 6, 'learning_rate': 0.1017347620286839, 'min_split_gain': 0.07495854284299952}. Best is trial 33 with value: 0.9442530844175986.\n",
      "[I 2025-02-23 13:51:50,701] Trial 37 finished with value: 0.8734550735220701 and parameters: {'max_depth': 4, 'min_child_samples': 24, 'reg_lambda': 0.13940284314246082, 'min_split_gain': 2.553234869215742, 'reg_alpha': 3.641881427389057e-05, 'learning_rate': 0.1946118037520471, 'num_leaves': 50, 'n_estimators': 193, 'min_child_weight': 6.450589566172997e-06}. Best is trial 33 with value: 0.9442530844175986.\n",
      "[I 2025-02-23 13:51:50,742] Trial 25 finished with value: 0.9096586004781932 and parameters: {'n_estimators': 191, 'min_split_gain': 3.9982759002353943, 'reg_alpha': 1.2704953137069344e-05, 'max_depth': 5, 'min_child_weight': 1.3824286100504712e-06, 'learning_rate': 0.12601219284801699, 'min_child_samples': 1, 'num_leaves': 16, 'reg_lambda': 8.054073545136903}. Best is trial 33 with value: 0.9442530844175986.\n",
      "[I 2025-02-23 13:51:50,829] Trial 22 finished with value: 0.9183785679133131 and parameters: {'learning_rate': 0.12098732865022499, 'num_leaves': 13, 'n_estimators': 261, 'min_child_weight': 1.3163982607349928e-06, 'reg_lambda': 9.636860127885841, 'max_depth': 6, 'min_split_gain': 2.137821473891816, 'min_child_samples': 1, 'reg_alpha': 6.42304479688719e-05}. Best is trial 33 with value: 0.9442530844175986.\n",
      "[I 2025-02-23 13:51:50,863] Trial 38 finished with value: 0.915269011787045 and parameters: {'min_child_weight': 7.761518690531892e-06, 'max_depth': 4, 'reg_lambda': 0.08618934438347461, 'n_estimators': 203, 'reg_alpha': 4.378199564825123e-05, 'learning_rate': 0.19903146381627573, 'num_leaves': 18, 'min_split_gain': 0.2268056575037845, 'min_child_samples': 25}. Best is trial 33 with value: 0.9442530844175986.\n"
     ]
    },
    {
     "name": "stdout",
     "output_type": "stream",
     "text": [
      "Finished trial with scores: [0.9508728179551122, 0.8337489609310058, 0.9578891257995736]\n",
      "Finished trial with scores: [0.9512884455527848, 0.8535328345802161, 0.9523809523809523]\n",
      "Finished trial with scores: [0.8975893599334996, 0.7700748129675811, 0.9593105899076048]\n",
      "Finished trial with scores: [0.9522859517871987, 0.8389027431421446, 0.9598436389481166]\n",
      "Finished trial with scores: [0.9152950955943475, 0.7866999168744805, 0.939410092395167]\n",
      "Finished trial with scores: [0.943973399833749, 0.8630091438071488, 0.9427860696517413]\n",
      "Finished trial with scores: [0.9499584372402328, 0.8651704073150458, 0.9678393745557925]\n"
     ]
    },
    {
     "name": "stderr",
     "output_type": "stream",
     "text": [
      "[I 2025-02-23 13:51:50,945] Trial 24 finished with value: 0.9141703015618973 and parameters: {'max_depth': 6, 'min_child_weight': 1.3513220612644335e-06, 'num_leaves': 13, 'reg_alpha': 1.5195026757600038e-05, 'n_estimators': 238, 'learning_rate': 0.1531880490819464, 'min_split_gain': 2.4651275495033214, 'reg_lambda': 7.434736301616613, 'min_child_samples': 1}. Best is trial 33 with value: 0.9442530844175986.\n",
      "[I 2025-02-23 13:51:50,972] Trial 39 finished with value: 0.9190674108379845 and parameters: {'learning_rate': 0.19777949738811396, 'num_leaves': 18, 'reg_alpha': 4.033623613822887e-05, 'min_child_samples': 25, 'n_estimators': 188, 'min_child_weight': 6.235104515720432e-06, 'min_split_gain': 0.03624892316962707, 'reg_lambda': 2.3017102985939, 'max_depth': 3}. Best is trial 33 with value: 0.9442530844175986.\n",
      "[I 2025-02-23 13:51:51,016] Trial 40 finished with value: 0.8756582542695619 and parameters: {'reg_lambda': 0.09904030627006966, 'num_leaves': 28, 'min_split_gain': 1.3800797872108177, 'n_estimators': 187, 'max_depth': 4, 'learning_rate': 0.1999103201327248, 'reg_alpha': 4.297208048810886e-05, 'min_child_samples': 24, 'min_child_weight': 5.735155910027614e-06}. Best is trial 33 with value: 0.9442530844175986.\n",
      "[I 2025-02-23 13:51:51,022] Trial 23 finished with value: 0.9170107779591534 and parameters: {'max_depth': 5, 'min_child_samples': 1, 'reg_alpha': 4.632957558539571e-05, 'learning_rate': 0.11973409298853632, 'reg_lambda': 7.138742487704947, 'num_leaves': 16, 'min_split_gain': 2.7128653446013944, 'min_child_weight': 1.0251678644468163e-06, 'n_estimators': 255}. Best is trial 33 with value: 0.9442530844175986.\n",
      "[I 2025-02-23 13:51:51,027] Trial 41 finished with value: 0.8804683682879983 and parameters: {'reg_lambda': 0.15111133826797862, 'learning_rate': 0.21289746733985943, 'min_child_weight': 5.238902475017405e-06, 'reg_alpha': 4.833049313442018e-05, 'max_depth': 4, 'n_estimators': 184, 'min_split_gain': 1.206797309244882, 'min_child_samples': 24, 'num_leaves': 29}. Best is trial 33 with value: 0.9442530844175986.\n"
     ]
    },
    {
     "name": "stdout",
     "output_type": "stream",
     "text": [
      "Finished trial with scores: [0.9276807980049875, 0.8716541978387364, 0.9411869225302061]\n",
      "Finished trial with scores: [0.9346633416458853, 0.829592684954281, 0.9465174129353234]\n",
      "Finished trial with scores: [0.9339152119700748, 0.8816292601828761, 0.9520255863539445]\n",
      "Finished trial with scores: [0.9354114713216958, 0.8773067331670823, 0.9456289978678039]\n",
      "Finished trial with scores: [0.9371571072319203, 0.7915211970074814, 0.9369225302061123]\n"
     ]
    },
    {
     "name": "stderr",
     "output_type": "stream",
     "text": [
      "[I 2025-02-23 13:51:51,147] Trial 42 finished with value: 0.9165895377642129 and parameters: {'min_child_weight': 3.904610881433118e-06, 'learning_rate': 0.18744599950171353, 'reg_alpha': 5.574571392095625e-05, 'max_depth': 3, 'min_child_samples': 26, 'n_estimators': 153, 'min_split_gain': 1.152616906650921, 'reg_lambda': 2.1432508343247156, 'num_leaves': 19}. Best is trial 33 with value: 0.9442530844175986.\n",
      "[I 2025-02-23 13:51:51,197] Trial 45 finished with value: 0.9135073061246434 and parameters: {'n_estimators': 145, 'min_split_gain': 1.4252507237240601, 'reg_alpha': 5.34753884417157e-05, 'max_depth': 3, 'min_child_weight': 3.3904094995418944e-06, 'learning_rate': 0.19003084365967804, 'min_child_samples': 26, 'num_leaves': 21, 'reg_lambda': 2.1298525227521705}. Best is trial 33 with value: 0.9442530844175986.\n",
      "[I 2025-02-23 13:51:51,215] Trial 46 finished with value: 0.9225233528356318 and parameters: {'learning_rate': 0.17287046675763665, 'num_leaves': 28, 'n_estimators': 140, 'min_child_weight': 2.795403315336816e-06, 'reg_lambda': 2.139622444652131, 'max_depth': 3, 'min_split_gain': 1.497544397291077, 'min_child_samples': 26, 'reg_alpha': 0.00026454344556814646}. Best is trial 33 with value: 0.9442530844175986.\n",
      "[I 2025-02-23 13:51:51,219] Trial 44 finished with value: 0.9276560730370237 and parameters: {'min_child_weight': 3.034388150548639e-06, 'reg_lambda': 1.3054290526989358, 'min_child_samples': 26, 'num_leaves': 21, 'n_estimators': 135, 'reg_alpha': 5.224666392273891e-05, 'max_depth': 3, 'learning_rate': 0.1958567815445049, 'min_split_gain': 1.1578437564604118}. Best is trial 33 with value: 0.9442530844175986.\n",
      "[I 2025-02-23 13:51:51,266] Trial 47 finished with value: 0.9194490674521939 and parameters: {'min_child_weight': 3.3000941415088095e-06, 'max_depth': 3, 'reg_lambda': 2.1415320832383213, 'n_estimators': 145, 'reg_alpha': 0.00014773815370514135, 'learning_rate': 0.17940410130549855, 'num_leaves': 23, 'min_split_gain': 1.4095728100643101, 'min_child_samples': 26}. Best is trial 33 with value: 0.9442530844175986.\n",
      "[I 2025-02-23 13:51:51,268] Trial 29 finished with value: 0.888533611481838 and parameters: {'min_child_weight': 1.1057640875296392e-06, 'learning_rate': 0.1605018060045018, 'max_depth': 5, 'reg_lambda': 7.90995173435981, 'num_leaves': 11, 'min_split_gain': 8.2476611549504, 'reg_alpha': 0.0005632808668435342, 'min_child_samples': 1, 'n_estimators': 260}. Best is trial 33 with value: 0.9442530844175986.\n",
      "[I 2025-02-23 13:51:51,310] Trial 43 finished with value: 0.9035911465118298 and parameters: {'max_depth': 2, 'min_child_samples': 26, 'reg_lambda': 2.1459184709209795, 'min_split_gain': 1.3931425516741962, 'reg_alpha': 5.164783045717936e-05, 'learning_rate': 0.18987230196610896, 'num_leaves': 21, 'n_estimators': 144, 'min_child_weight': 3.2639328569158776e-06}. Best is trial 33 with value: 0.9442530844175986.\n"
     ]
    },
    {
     "name": "stdout",
     "output_type": "stream",
     "text": [
      "Finished trial with scores: [0.9328345802161263, 0.8793017456359102, 0.9378109452736318]\n",
      "Finished trial with scores: [0.9213632585203657, 0.8887780548628429, 0.9637526652452025]\n",
      "Finished trial with scores: [0.9315045719035744, 0.8731504571903573, 0.9443852167732765]\n",
      "Finished trial with scores: [0.9433083956774729, 0.8884455527847049, 0.9523809523809524]\n",
      "Finished trial with scores: [0.9285120532003325, 0.8927680798004988, 0.9610874200426439]\n"
     ]
    },
    {
     "name": "stderr",
     "output_type": "stream",
     "text": [
      "[I 2025-02-23 13:51:51,426] Trial 49 finished with value: 0.9246313262094703 and parameters: {'max_depth': 9, 'min_child_weight': 2.992519165824608e-06, 'num_leaves': 8, 'reg_alpha': 0.00017641730363818984, 'n_estimators': 283, 'learning_rate': 0.17251641213564273, 'min_split_gain': 0.838669941334479, 'reg_lambda': 3.0793841884932727, 'min_child_samples': 28}. Best is trial 33 with value: 0.9442530844175986.\n",
      "[I 2025-02-23 13:51:51,432] Trial 48 finished with value: 0.9166490903752228 and parameters: {'learning_rate': 0.16878849864078285, 'num_leaves': 22, 'reg_alpha': 0.0002107525973738462, 'min_child_samples': 27, 'n_estimators': 285, 'min_child_weight': 3.253025922675148e-06, 'min_split_gain': 0.7644272853396498, 'reg_lambda': 2.628319202495143, 'max_depth': 7}. Best is trial 33 with value: 0.9442530844175986.\n",
      "[I 2025-02-23 13:51:51,482] Trial 50 finished with value: 0.9163467486224027 and parameters: {'reg_lambda': 2.6674513920167655, 'num_leaves': 22, 'min_split_gain': 0.6406101137123557, 'n_estimators': 288, 'max_depth': 7, 'learning_rate': 0.16759314680063733, 'reg_alpha': 0.00017351014799658781, 'min_child_samples': 27, 'min_child_weight': 2.7029644110456627e-06}. Best is trial 33 with value: 0.9442530844175986.\n",
      "[I 2025-02-23 13:51:51,499] Trial 51 finished with value: 0.9280449669477101 and parameters: {'max_depth': 7, 'min_child_samples': 27, 'reg_alpha': 0.00014339382116853537, 'learning_rate': 0.16890223234163249, 'reg_lambda': 2.38201053324047, 'num_leaves': 22, 'min_split_gain': 0.5224891875005939, 'min_child_weight': 3.1299389821240137e-06, 'n_estimators': 297}. Best is trial 33 with value: 0.9442530844175986.\n",
      "[I 2025-02-23 13:51:51,506] Trial 52 finished with value: 0.9274558510144918 and parameters: {'reg_lambda': 1.9489061049731813, 'learning_rate': 0.16675176698814026, 'min_child_weight': 3.083249891170021e-06, 'reg_alpha': 0.0001444068348417688, 'max_depth': 7, 'n_estimators': 283, 'min_split_gain': 0.7166004890167428, 'min_child_samples': 27, 'num_leaves': 8}. Best is trial 33 with value: 0.9442530844175986.\n"
     ]
    },
    {
     "name": "stdout",
     "output_type": "stream",
     "text": [
      "Finished trial with scores: [0.9075644222776392, 0.743640897755611, 0.945273631840796]\n",
      "Finished trial with scores: [0.9157107231920198, 0.8894430590191189, 0.9582444918265813]\n",
      "Ending process, stopping_event set.\n",
      "Finished trial with scores: [0.9295095594347464, 0.8721529509559435, 0.9504264392324093]\n",
      "Ending process, stopping_event set.\n",
      "Finished trial with scores: [0.9343308395677474, 0.8631753948462179, 0.9529140014214641]\n",
      "Ending process, stopping_event set.\n",
      "Finished trial with scores: [0.91571072319202, 0.7787198669991686, 0.9578891257995735]\n",
      "Ending process, stopping_event set.\n",
      "Finished trial with scores: [0.8994181213632585, 0.7857024106400664, 0.9554015636105189]\n",
      "Ending process, stopping_event set.\n",
      "Finished trial with scores: [0.9023275145469659, 0.7881961762261015, 0.9548685145700071]\n",
      "Ending process, stopping_event set.\n"
     ]
    },
    {
     "name": "stderr",
     "output_type": "stream",
     "text": [
      "[I 2025-02-23 13:51:51,631] Trial 56 finished with value: 0.8654929839580153 and parameters: {'learning_rate': 0.2360488028550504, 'num_leaves': 9, 'n_estimators': 289, 'min_child_weight': 1.3309401739532236e-05, 'reg_lambda': 0.667372743041262, 'max_depth': 7, 'min_split_gain': 0.6625090283341885, 'min_child_samples': 28, 'reg_alpha': 2.185442793251118e-05}. Best is trial 33 with value: 0.9442530844175986.\n",
      "[I 2025-02-23 13:51:51,648] The study has been stopped by the terminator.\n",
      "[I 2025-02-23 13:51:51,648] The study has been stopped by the terminator.\n",
      "[I 2025-02-23 13:51:51,652] The study has been stopped by the terminator.\n",
      "[I 2025-02-23 13:51:51,653] The study has been stopped by the terminator.\n",
      "[I 2025-02-23 13:51:51,658] The study has been stopped by the terminator.\n",
      "[I 2025-02-23 13:51:51,659] Trial 53 finished with value: 0.9211327580125733 and parameters: {'min_child_weight': 2.09244300211834e-05, 'reg_lambda': 4.39725782023667, 'min_child_samples': 28, 'num_leaves': 8, 'n_estimators': 298, 'reg_alpha': 2.2858015652008776e-05, 'max_depth': 7, 'learning_rate': 0.22544443317837015, 'min_split_gain': 0.6561457561372182}. Best is trial 33 with value: 0.9442530844175986.\n",
      "[I 2025-02-23 13:51:51,697] Trial 55 finished with value: 0.9173629832076998 and parameters: {'n_estimators': 305, 'min_split_gain': 0.5971864882195991, 'reg_alpha': 0.00021094556030280676, 'max_depth': 7, 'min_child_weight': 1.6987182499323655e-05, 'learning_rate': 0.14605537135063548, 'min_child_samples': 28, 'num_leaves': 8, 'reg_lambda': 4.111403602818369}. Best is trial 33 with value: 0.9442530844175986.\n",
      "[I 2025-02-23 13:51:51,717] Trial 54 finished with value: 0.9168067452784765 and parameters: {'min_child_weight': 2.242293447824635e-05, 'learning_rate': 0.1434177286399792, 'reg_alpha': 2.3862930440214248e-05, 'max_depth': 7, 'min_child_samples': 28, 'n_estimators': 290, 'min_split_gain': 0.5630512152767484, 'reg_lambda': 3.724695795466805, 'num_leaves': 8}. Best is trial 33 with value: 0.9442530844175986.\n",
      "[I 2025-02-23 13:51:51,731] The study has been stopped by the terminator.\n",
      "[I 2025-02-23 13:51:51,738] The study has been stopped by the terminator.\n",
      "[I 2025-02-23 13:51:51,756] Trial 57 finished with value: 0.8841065719969207 and parameters: {'min_child_weight': 1.423973547863892e-05, 'max_depth': 7, 'reg_lambda': 0.6545615219427153, 'n_estimators': 304, 'reg_alpha': 2.3838639535902834e-05, 'learning_rate': 0.22621486701501847, 'num_leaves': 8, 'min_split_gain': 0.6103032043937318, 'min_child_samples': 28}. Best is trial 33 with value: 0.9442530844175986.\n",
      "[I 2025-02-23 13:51:51,767] Trial 59 finished with value: 0.8801740318712813 and parameters: {'min_child_weight': 1.973965338244588e-05, 'learning_rate': 0.2268685909566054, 'max_depth': 7, 'reg_lambda': 0.6203191260180843, 'num_leaves': 8, 'min_split_gain': 0.6187515520733893, 'reg_alpha': 2.3974689405180297e-05, 'min_child_samples': 28, 'n_estimators': 288}. Best is trial 33 with value: 0.9442530844175986.\n",
      "[I 2025-02-23 13:51:51,771] The study has been stopped by the terminator.\n",
      "[I 2025-02-23 13:51:51,779] The study has been stopped by the terminator.\n",
      "[I 2025-02-23 13:51:51,798] Trial 58 finished with value: 0.8817974017810247 and parameters: {'max_depth': 7, 'min_child_samples': 28, 'reg_lambda': 0.7366901252109331, 'min_split_gain': 0.6191763054200685, 'reg_alpha': 0.00018336889642132462, 'learning_rate': 0.22671176044807162, 'num_leaves': 8, 'n_estimators': 284, 'min_child_weight': 3.3155362403567696e-05}. Best is trial 33 with value: 0.9442530844175986.\n",
      "[I 2025-02-23 13:51:51,816] The study has been stopped by the terminator.\n",
      "[I 2025-02-23 13:51:51,824] The study has been stopped by the terminator.\n"
     ]
    }
   ],
   "source": [
    "# PERFORM AN OPTUNA HYPERPARAMETER SEARCH, CAN CHANGE THE SEARCH SPACE IN OPT.PY\n",
    "\n",
    "from eppi_text_classification import OptunaHyperparameterOptimisation\n",
    "\n",
    "# hyperparam_ranges = {\n",
    "#     \"min_child_samples\": {\"low\": 1, \"high\": 30, \"log\": False},\n",
    "#     \"learning_rate\": {\"low\": 0.1, \"high\": 0.6, \"log\": False},\n",
    "#     \"num_leaves\": {\"low\": 2, \"high\": 50, \"log\": False},\n",
    "#     \"n_estimators\": {\"low\": 100, \"high\": 100, \"log\": False},\n",
    "#     \"min_split_gain\": {\"low\": 1e-6, \"high\": 10, \"log\": False},\n",
    "#     \"min_child_weight\": {\"low\": 1e-6, \"high\": 1e-1, \"log\": True},\n",
    "#     \"reg_alpha\": {\"low\": 1e-5, \"high\": 10, \"log\": True},\n",
    "#     \"reg_lambda\": {\"low\": 1e-5, \"high\": 10, \"log\": True},\n",
    "#     \"linear_tree\": {\"value\": True},\n",
    "# }\n",
    "\n",
    "hyperparam_ranges = {\n",
    "    \"min_child_samples\": {\"low\": 1, \"high\": 30, \"log\": False, \"suggest_type\": \"int\"},\n",
    "    \"learning_rate\": {\"low\": 0.1, \"high\": 0.6, \"log\": False, \"suggest_type\": \"float\"},\n",
    "    \"num_leaves\": {\"low\": 2, \"high\": 50, \"log\": False, \"suggest_type\": \"int\"},\n",
    "    \"n_estimators\": {\"low\": 100, \"high\": 500, \"log\": False, \"suggest_type\": \"int\"},\n",
    "    \"min_split_gain\": {\"low\": 1e-6, \"high\": 10, \"log\": False, \"suggest_type\": \"float\"},\n",
    "    \"min_child_weight\": {\n",
    "        \"low\": 1e-6,\n",
    "        \"high\": 1e-1,\n",
    "        \"log\": True,\n",
    "        \"suggest_type\": \"float\",\n",
    "    },\n",
    "    \"reg_alpha\": {\"low\": 1e-5, \"high\": 10, \"log\": True, \"suggest_type\": \"float\"},\n",
    "    \"reg_lambda\": {\"low\": 1e-5, \"high\": 10, \"log\": True, \"suggest_type\": \"float\"},\n",
    "}\n",
    "\n",
    "\n",
    "optimiser = OptunaHyperparameterOptimisation(\n",
    "    tfidf_scores,\n",
    "    labels,\n",
    "    \"lightgbm\",\n",
    "    max_n_search_iterations=300,\n",
    "    n_jobs=-1,\n",
    "    nfolds=3,\n",
    "    num_cv_repeats=1,\n",
    "    # db_url=f\"sqlite:////mnt/tmp/optuna.db\", #Use this one on Azure\n",
    "    db_url=None,\n",
    "    timeout=1000,\n",
    "    use_early_terminator=True,\n",
    "    max_stagnation_iterations=1000,\n",
    "    wilcoxon_trial_pruner_threshold=None,\n",
    "    use_worse_than_first_two_pruner=False,\n",
    "    user_selected_hyperparameter_ranges=hyperparam_ranges,\n",
    ")\n",
    "\n",
    "optimiser.delete_optuna_study(\"lgbm_binary\")\n",
    "best_params = optimiser.optimise_hyperparameters(study_name=\"lgbm_binary\")"
   ]
  },
  {
   "cell_type": "code",
   "execution_count": 6,
   "metadata": {},
   "outputs": [
    {
     "name": "stderr",
     "output_type": "stream",
     "text": [
      "[I 2025-02-23 13:52:25,733] Using an existing study with name 'lgbm_binary' instead of creating a new one.\n"
     ]
    }
   ],
   "source": [
    "import optuna\n",
    "\n",
    "study = optuna.create_study(\n",
    "    study_name=\"lgbm_binary\",\n",
    "    storage=\"sqlite:////Users/sjmolyneux/Documents/EPPI_Classification_Public/eppi_text_classification/optuna.db\",\n",
    "    direction=\"maximize\",\n",
    "    load_if_exists=True,\n",
    ")"
   ]
  },
  {
   "cell_type": "code",
   "execution_count": 12,
   "metadata": {},
   "outputs": [
    {
     "name": "stderr",
     "output_type": "stream",
     "text": [
      "/Users/sjmolyneux/Documents/EPPI_Classification_Public/eppi_text_classification/eppi_text_classification/plots/optuna_plots.py:137: ExperimentalWarning:\n",
      "\n",
      "plot_timeline is experimental (supported from v3.2.0). The interface can change in the future.\n",
      "\n"
     ]
    }
   ],
   "source": [
    "from eppi_text_classification.plots.optuna_plots import create_all_optuna_plots\n",
    "\n",
    "create_all_optuna_plots(study, save_dir=\"optuna_plots\")"
   ]
  },
  {
   "cell_type": "markdown",
   "metadata": {},
   "source": []
  },
  {
   "cell_type": "code",
   "execution_count": 7,
   "metadata": {},
   "outputs": [
    {
     "name": "stdout",
     "output_type": "stream",
     "text": [
      "[LightGBM] [Warning] No further splits with positive gain, best gain: -inf\n",
      "[LightGBM] [Warning] No further splits with positive gain, best gain: -inf\n",
      "[LightGBM] [Warning] No further splits with positive gain, best gain: -inf\n",
      "[LightGBM] [Warning] No further splits with positive gain, best gain: -inf\n",
      "[LightGBM] [Warning] No further splits with positive gain, best gain: -inf\n",
      "[LightGBM] [Warning] No further splits with positive gain, best gain: -inf\n",
      "[LightGBM] [Warning] No further splits with positive gain, best gain: -inf\n",
      "[LightGBM] [Warning] No further splits with positive gain, best gain: -inf\n",
      "[LightGBM] [Warning] No further splits with positive gain, best gain: -inf\n",
      "[LightGBM] [Warning] No further splits with positive gain, best gain: -inf\n",
      "[LightGBM] [Warning] No further splits with positive gain, best gain: -inf\n",
      "[LightGBM] [Warning] No further splits with positive gain, best gain: -inf\n",
      "[LightGBM] [Warning] No further splits with positive gain, best gain: -inf\n",
      "[LightGBM] [Warning] No further splits with positive gain, best gain: -inf\n",
      "[LightGBM] [Warning] No further splits with positive gain, best gain: -inf\n",
      "[LightGBM] [Warning] No further splits with positive gain, best gain: -inf\n",
      "[LightGBM] [Warning] No further splits with positive gain, best gain: -inf\n",
      "[LightGBM] [Warning] No further splits with positive gain, best gain: -inf\n",
      "[LightGBM] [Warning] No further splits with positive gain, best gain: -inf\n",
      "[LightGBM] [Warning] No further splits with positive gain, best gain: -inf\n",
      "[LightGBM] [Warning] No further splits with positive gain, best gain: -inf\n",
      "[LightGBM] [Warning] No further splits with positive gain, best gain: -inf\n",
      "[LightGBM] [Warning] No further splits with positive gain, best gain: -inf\n",
      "[LightGBM] [Warning] No further splits with positive gain, best gain: -inf\n",
      "[LightGBM] [Warning] No further splits with positive gain, best gain: -inf\n",
      "[LightGBM] [Warning] No further splits with positive gain, best gain: -inf\n",
      "[LightGBM] [Warning] No further splits with positive gain, best gain: -inf\n",
      "[LightGBM] [Warning] No further splits with positive gain, best gain: -inf\n",
      "[LightGBM] [Warning] No further splits with positive gain, best gain: -inf\n",
      "[LightGBM] [Warning] No further splits with positive gain, best gain: -inf\n",
      "[LightGBM] [Warning] No further splits with positive gain, best gain: -inf\n",
      "[LightGBM] [Warning] No further splits with positive gain, best gain: -inf\n",
      "[LightGBM] [Warning] No further splits with positive gain, best gain: -inf\n",
      "[LightGBM] [Warning] No further splits with positive gain, best gain: -inf\n",
      "[LightGBM] [Warning] No further splits with positive gain, best gain: -inf\n",
      "[LightGBM] [Warning] No further splits with positive gain, best gain: -inf\n",
      "[LightGBM] [Warning] No further splits with positive gain, best gain: -inf\n",
      "[LightGBM] [Warning] No further splits with positive gain, best gain: -inf\n",
      "[LightGBM] [Warning] No further splits with positive gain, best gain: -inf\n",
      "[LightGBM] [Warning] No further splits with positive gain, best gain: -inf\n",
      "[LightGBM] [Warning] No further splits with positive gain, best gain: -inf\n",
      "[LightGBM] [Warning] No further splits with positive gain, best gain: -inf\n",
      "[LightGBM] [Warning] No further splits with positive gain, best gain: -inf\n",
      "[LightGBM] [Warning] No further splits with positive gain, best gain: -inf\n",
      "[LightGBM] [Warning] No further splits with positive gain, best gain: -inf\n",
      "[LightGBM] [Warning] No further splits with positive gain, best gain: -inf\n",
      "[LightGBM] [Warning] No further splits with positive gain, best gain: -inf\n",
      "[LightGBM] [Warning] No further splits with positive gain, best gain: -inf\n",
      "[LightGBM] [Warning] No further splits with positive gain, best gain: -inf\n",
      "[LightGBM] [Warning] No further splits with positive gain, best gain: -inf\n",
      "[LightGBM] [Warning] No further splits with positive gain, best gain: -inf\n",
      "[LightGBM] [Warning] No further splits with positive gain, best gain: -inf\n",
      "[LightGBM] [Warning] No further splits with positive gain, best gain: -inf\n",
      "[LightGBM] [Warning] No further splits with positive gain, best gain: -inf\n",
      "[LightGBM] [Warning] No further splits with positive gain, best gain: -inf\n",
      "[LightGBM] [Warning] No further splits with positive gain, best gain: -inf\n",
      "[LightGBM] [Warning] No further splits with positive gain, best gain: -inf\n",
      "[LightGBM] [Warning] No further splits with positive gain, best gain: -inf\n",
      "[LightGBM] [Warning] No further splits with positive gain, best gain: -inf\n",
      "[LightGBM] [Warning] No further splits with positive gain, best gain: -inf\n",
      "[LightGBM] [Warning] No further splits with positive gain, best gain: -inf\n",
      "[LightGBM] [Warning] No further splits with positive gain, best gain: -inf\n",
      "[LightGBM] [Warning] No further splits with positive gain, best gain: -inf\n",
      "[LightGBM] [Warning] No further splits with positive gain, best gain: -inf\n",
      "[LightGBM] [Warning] No further splits with positive gain, best gain: -inf\n",
      "[LightGBM] [Warning] No further splits with positive gain, best gain: -inf\n",
      "[LightGBM] [Warning] No further splits with positive gain, best gain: -inf\n",
      "[LightGBM] [Warning] No further splits with positive gain, best gain: -inf\n",
      "[LightGBM] [Warning] No further splits with positive gain, best gain: -inf\n",
      "[LightGBM] [Warning] No further splits with positive gain, best gain: -inf\n",
      "[LightGBM] [Warning] No further splits with positive gain, best gain: -inf\n",
      "[LightGBM] [Warning] No further splits with positive gain, best gain: -inf\n",
      "[LightGBM] [Warning] No further splits with positive gain, best gain: -inf\n",
      "[LightGBM] [Warning] No further splits with positive gain, best gain: -inf\n",
      "[LightGBM] [Warning] No further splits with positive gain, best gain: -inf\n",
      "[LightGBM] [Warning] No further splits with positive gain, best gain: -inf\n",
      "[LightGBM] [Warning] No further splits with positive gain, best gain: -inf\n",
      "[LightGBM] [Warning] No further splits with positive gain, best gain: -inf\n",
      "[LightGBM] [Warning] No further splits with positive gain, best gain: -inf\n",
      "[LightGBM] [Warning] No further splits with positive gain, best gain: -inf\n",
      "[LightGBM] [Warning] No further splits with positive gain, best gain: -inf\n",
      "[LightGBM] [Warning] No further splits with positive gain, best gain: -inf\n",
      "[LightGBM] [Warning] No further splits with positive gain, best gain: -inf\n",
      "[LightGBM] [Warning] No further splits with positive gain, best gain: -inf\n",
      "[LightGBM] [Warning] No further splits with positive gain, best gain: -inf\n",
      "[LightGBM] [Warning] No further splits with positive gain, best gain: -inf\n",
      "[LightGBM] [Warning] No further splits with positive gain, best gain: -inf\n",
      "[LightGBM] [Warning] No further splits with positive gain, best gain: -inf\n",
      "[LightGBM] [Warning] No further splits with positive gain, best gain: -inf\n",
      "[LightGBM] [Warning] No further splits with positive gain, best gain: -inf\n",
      "[LightGBM] [Warning] No further splits with positive gain, best gain: -inf\n",
      "[LightGBM] [Warning] No further splits with positive gain, best gain: -inf\n",
      "[LightGBM] [Warning] No further splits with positive gain, best gain: -inf\n",
      "[LightGBM] [Warning] No further splits with positive gain, best gain: -inf\n",
      "[LightGBM] [Warning] No further splits with positive gain, best gain: -inf\n",
      "[LightGBM] [Warning] No further splits with positive gain, best gain: -inf\n",
      "[LightGBM] [Warning] No further splits with positive gain, best gain: -inf\n",
      "[LightGBM] [Warning] No further splits with positive gain, best gain: -inf\n",
      "[LightGBM] [Warning] No further splits with positive gain, best gain: -inf\n",
      "[LightGBM] [Warning] No further splits with positive gain, best gain: -inf\n",
      "[LightGBM] [Warning] No further splits with positive gain, best gain: -inf\n",
      "[LightGBM] [Warning] No further splits with positive gain, best gain: -inf\n",
      "[LightGBM] [Warning] No further splits with positive gain, best gain: -inf\n",
      "[LightGBM] [Warning] No further splits with positive gain, best gain: -inf\n",
      "[LightGBM] [Warning] No further splits with positive gain, best gain: -inf\n",
      "[LightGBM] [Warning] No further splits with positive gain, best gain: -inf\n",
      "[LightGBM] [Warning] No further splits with positive gain, best gain: -inf\n",
      "[LightGBM] [Warning] No further splits with positive gain, best gain: -inf\n",
      "[LightGBM] [Warning] No further splits with positive gain, best gain: -inf\n",
      "[LightGBM] [Warning] No further splits with positive gain, best gain: -inf\n",
      "[LightGBM] [Warning] No further splits with positive gain, best gain: -inf\n",
      "[LightGBM] [Warning] No further splits with positive gain, best gain: -inf\n",
      "[LightGBM] [Warning] No further splits with positive gain, best gain: -inf\n",
      "[LightGBM] [Warning] No further splits with positive gain, best gain: -inf\n",
      "[LightGBM] [Warning] No further splits with positive gain, best gain: -inf\n",
      "[LightGBM] [Warning] No further splits with positive gain, best gain: -inf\n",
      "[LightGBM] [Warning] No further splits with positive gain, best gain: -inf\n",
      "[LightGBM] [Warning] No further splits with positive gain, best gain: -inf\n",
      "[LightGBM] [Warning] No further splits with positive gain, best gain: -inf\n",
      "[LightGBM] [Warning] No further splits with positive gain, best gain: -inf\n",
      "[LightGBM] [Warning] No further splits with positive gain, best gain: -inf\n",
      "[LightGBM] [Warning] No further splits with positive gain, best gain: -inf\n",
      "[LightGBM] [Warning] No further splits with positive gain, best gain: -inf\n",
      "[LightGBM] [Warning] No further splits with positive gain, best gain: -inf\n",
      "[LightGBM] [Warning] No further splits with positive gain, best gain: -inf\n",
      "[LightGBM] [Warning] No further splits with positive gain, best gain: -inf\n",
      "[LightGBM] [Warning] No further splits with positive gain, best gain: -inf\n",
      "[LightGBM] [Warning] No further splits with positive gain, best gain: -inf\n",
      "[LightGBM] [Warning] No further splits with positive gain, best gain: -inf\n",
      "[LightGBM] [Warning] No further splits with positive gain, best gain: -inf\n",
      "[LightGBM] [Warning] No further splits with positive gain, best gain: -inf\n",
      "[LightGBM] [Warning] No further splits with positive gain, best gain: -inf\n",
      "[LightGBM] [Warning] No further splits with positive gain, best gain: -inf\n",
      "[LightGBM] [Warning] No further splits with positive gain, best gain: -inf\n",
      "[LightGBM] [Warning] No further splits with positive gain, best gain: -inf\n",
      "[LightGBM] [Warning] No further splits with positive gain, best gain: -inf\n",
      "[LightGBM] [Warning] No further splits with positive gain, best gain: -inf\n",
      "[LightGBM] [Warning] No further splits with positive gain, best gain: -inf\n",
      "[LightGBM] [Warning] No further splits with positive gain, best gain: -inf\n",
      "[LightGBM] [Warning] No further splits with positive gain, best gain: -inf\n",
      "[LightGBM] [Warning] No further splits with positive gain, best gain: -inf\n",
      "[LightGBM] [Warning] No further splits with positive gain, best gain: -inf\n",
      "[LightGBM] [Warning] No further splits with positive gain, best gain: -inf\n",
      "[LightGBM] [Warning] No further splits with positive gain, best gain: -inf\n",
      "[LightGBM] [Warning] No further splits with positive gain, best gain: -inf\n",
      "[LightGBM] [Warning] No further splits with positive gain, best gain: -inf\n",
      "[LightGBM] [Warning] No further splits with positive gain, best gain: -inf\n",
      "[LightGBM] [Warning] No further splits with positive gain, best gain: -inf\n",
      "[LightGBM] [Warning] No further splits with positive gain, best gain: -inf\n",
      "[LightGBM] [Warning] No further splits with positive gain, best gain: -inf\n",
      "[LightGBM] [Warning] No further splits with positive gain, best gain: -inf\n",
      "[LightGBM] [Warning] No further splits with positive gain, best gain: -inf\n",
      "[LightGBM] [Warning] No further splits with positive gain, best gain: -inf\n",
      "[LightGBM] [Warning] No further splits with positive gain, best gain: -inf\n",
      "[LightGBM] [Warning] No further splits with positive gain, best gain: -inf\n",
      "[LightGBM] [Warning] No further splits with positive gain, best gain: -inf\n",
      "[LightGBM] [Warning] No further splits with positive gain, best gain: -inf\n",
      "[LightGBM] [Warning] No further splits with positive gain, best gain: -inf\n",
      "[LightGBM] [Warning] No further splits with positive gain, best gain: -inf\n",
      "[LightGBM] [Warning] No further splits with positive gain, best gain: -inf\n",
      "[LightGBM] [Warning] No further splits with positive gain, best gain: -inf\n",
      "[LightGBM] [Warning] No further splits with positive gain, best gain: -inf\n",
      "[LightGBM] [Warning] No further splits with positive gain, best gain: -inf\n",
      "[LightGBM] [Warning] No further splits with positive gain, best gain: -inf\n",
      "[LightGBM] [Warning] No further splits with positive gain, best gain: -inf\n",
      "[LightGBM] [Warning] No further splits with positive gain, best gain: -inf\n",
      "[LightGBM] [Warning] No further splits with positive gain, best gain: -inf\n",
      "[LightGBM] [Warning] No further splits with positive gain, best gain: -inf\n",
      "[LightGBM] [Warning] No further splits with positive gain, best gain: -inf\n",
      "[LightGBM] [Warning] No further splits with positive gain, best gain: -inf\n",
      "[LightGBM] [Warning] No further splits with positive gain, best gain: -inf\n",
      "[LightGBM] [Warning] No further splits with positive gain, best gain: -inf\n",
      "[LightGBM] [Warning] No further splits with positive gain, best gain: -inf\n",
      "[LightGBM] [Warning] No further splits with positive gain, best gain: -inf\n",
      "[LightGBM] [Warning] No further splits with positive gain, best gain: -inf\n",
      "[LightGBM] [Warning] No further splits with positive gain, best gain: -inf\n",
      "[LightGBM] [Warning] No further splits with positive gain, best gain: -inf\n",
      "[LightGBM] [Warning] No further splits with positive gain, best gain: -inf\n",
      "[LightGBM] [Warning] No further splits with positive gain, best gain: -inf\n",
      "[LightGBM] [Warning] No further splits with positive gain, best gain: -inf\n",
      "[LightGBM] [Warning] No further splits with positive gain, best gain: -inf\n",
      "[LightGBM] [Warning] No further splits with positive gain, best gain: -inf\n",
      "[LightGBM] [Warning] No further splits with positive gain, best gain: -inf\n",
      "[LightGBM] [Warning] No further splits with positive gain, best gain: -inf\n",
      "[LightGBM] [Warning] No further splits with positive gain, best gain: -inf\n",
      "[LightGBM] [Warning] No further splits with positive gain, best gain: -inf\n",
      "[LightGBM] [Warning] No further splits with positive gain, best gain: -inf\n",
      "[LightGBM] [Warning] No further splits with positive gain, best gain: -inf\n",
      "[LightGBM] [Warning] No further splits with positive gain, best gain: -inf\n",
      "[LightGBM] [Warning] No further splits with positive gain, best gain: -inf\n",
      "[LightGBM] [Warning] No further splits with positive gain, best gain: -inf\n",
      "[LightGBM] [Warning] No further splits with positive gain, best gain: -inf\n",
      "[LightGBM] [Warning] No further splits with positive gain, best gain: -inf\n",
      "[LightGBM] [Warning] No further splits with positive gain, best gain: -inf\n",
      "[LightGBM] [Warning] No further splits with positive gain, best gain: -inf\n",
      "[LightGBM] [Warning] No further splits with positive gain, best gain: -inf\n",
      "[LightGBM] [Warning] No further splits with positive gain, best gain: -inf\n",
      "[LightGBM] [Warning] No further splits with positive gain, best gain: -inf\n",
      "[LightGBM] [Warning] No further splits with positive gain, best gain: -inf\n",
      "[LightGBM] [Warning] No further splits with positive gain, best gain: -inf\n",
      "[LightGBM] [Warning] No further splits with positive gain, best gain: -inf\n",
      "[LightGBM] [Warning] No further splits with positive gain, best gain: -inf\n",
      "[LightGBM] [Warning] No further splits with positive gain, best gain: -inf\n",
      "[LightGBM] [Warning] No further splits with positive gain, best gain: -inf\n",
      "[LightGBM] [Warning] No further splits with positive gain, best gain: -inf\n",
      "[LightGBM] [Warning] No further splits with positive gain, best gain: -inf\n",
      "[LightGBM] [Warning] No further splits with positive gain, best gain: -inf\n",
      "[LightGBM] [Warning] No further splits with positive gain, best gain: -inf\n",
      "[LightGBM] [Warning] No further splits with positive gain, best gain: -inf\n",
      "[LightGBM] [Warning] No further splits with positive gain, best gain: -inf\n",
      "[LightGBM] [Warning] No further splits with positive gain, best gain: -inf\n",
      "[LightGBM] [Warning] No further splits with positive gain, best gain: -inf\n",
      "[LightGBM] [Warning] No further splits with positive gain, best gain: -inf\n",
      "[LightGBM] [Warning] No further splits with positive gain, best gain: -inf\n",
      "[LightGBM] [Warning] No further splits with positive gain, best gain: -inf\n",
      "[LightGBM] [Warning] No further splits with positive gain, best gain: -inf\n",
      "[LightGBM] [Warning] No further splits with positive gain, best gain: -inf\n"
     ]
    }
   ],
   "source": [
    "# FIT THE MODEL\n",
    "\n",
    "import lightgbm as lgb\n",
    "import xgboost as xgb\n",
    "from sklearn.model_selection import train_test_split\n",
    "\n",
    "# model = LGBMClassifier(**best_params)\n",
    "\n",
    "# params = dict(\n",
    "#     verbosity=-1,\n",
    "#     boosting_type=\"gbdt\",\n",
    "#     max_depth=4,\n",
    "#     min_child_samples=30,\n",
    "#     learning_rate=0.1245928917280467,\n",
    "#     num_leaves=6,\n",
    "#     n_estimators=1000,\n",
    "#     subsample_for_bin=20000,\n",
    "#     subsample=1.0,\n",
    "#     objective=\"binary\",\n",
    "#     scale_pos_weight=27,\n",
    "#     min_split_gain=2.52381000405986e-06,\n",
    "#     min_child_weight=5.544840854157574e-06,\n",
    "#     reg_alpha=3.629909607712911e-05,\n",
    "#     reg_lambda=3.671749546766942e-05,\n",
    "#     n_jobs=-1,\n",
    "#     # linear_tree=True,\n",
    "#     metric=\"auc\",\n",
    "#     # max_bin=255,\n",
    "#     # tree_method=\"exact\",\n",
    "#     # grow_policy=\"lossguide\",\n",
    "#     # sampling_method=\"uniform\",\n",
    "# )\n",
    "params = best_params\n",
    "\n",
    "X_train, X_test, y_train, y_test = train_test_split(\n",
    "    tfidf_scores, labels, test_size=0.333, stratify=labels, random_state=8\n",
    ")\n",
    "num_boost_round = params.pop(\"n_estimators\")\n",
    "dtrain = lgb.Dataset(X_train, label=y_train, free_raw_data=True)\n",
    "model = lgb.train(params, dtrain, num_boost_round=num_boost_round)\n"
   ]
  },
  {
   "cell_type": "code",
   "execution_count": 8,
   "metadata": {},
   "outputs": [
    {
     "data": {
      "application/vnd.plotly.v1+json": {
       "config": {
        "plotlyServerURL": "https://plot.ly"
       },
       "data": [
        {
         "customdata": [
          [
           "inf"
          ],
          [
           "6.24"
          ],
          [
           "6.069"
          ],
          [
           "5.797"
          ],
          [
           "1.753"
          ],
          [
           "0.663"
          ],
          [
           "-1.055"
          ],
          [
           "-1.227"
          ],
          [
           "-1.452"
          ],
          [
           "-1.529"
          ],
          [
           "-1.695"
          ],
          [
           "-1.713"
          ],
          [
           "-3.179"
          ],
          [
           "-3.268"
          ],
          [
           "-5.655"
          ],
          [
           "-5.655"
          ],
          [
           "-5.883"
          ],
          [
           "-5.904"
          ],
          [
           "-6.235"
          ],
          [
           "-6.281"
          ],
          [
           "-8.806"
          ],
          [
           "-8.821"
          ],
          [
           "-9.455"
          ],
          [
           "-9.529"
          ],
          [
           "-9.623"
          ],
          [
           "-9.64"
          ],
          [
           "-12.01"
          ]
         ],
         "fillpattern": {
          "shape": ""
         },
         "hovertemplate": "False Positive Rate=%{x}<br>True Positive Rate=%{y}<br>Threshold=%{customdata[0]}<extra></extra>",
         "legendgroup": "",
         "line": {
          "color": "#636efa"
         },
         "marker": {
          "symbol": "circle"
         },
         "mode": "lines",
         "name": "",
         "orientation": "v",
         "showlegend": false,
         "stackgroup": "1",
         "type": "scatter",
         "x": [
          0,
          0,
          0,
          0,
          0.0024937655860349127,
          0.0024937655860349127,
          0.02743142144638404,
          0.02743142144638404,
          0.029925187032418952,
          0.029925187032418952,
          0.03740648379052369,
          0.03740648379052369,
          0.08728179551122195,
          0.08728179551122195,
          0.2543640897755611,
          0.2543640897755611,
          0.2718204488778055,
          0.2718204488778055,
          0.3316708229426434,
          0.3316708229426434,
          0.7182044887780549,
          0.7281795511221946,
          0.7880299251870324,
          0.800498753117207,
          0.8129675810473815,
          0.8478802992518704,
          1
         ],
         "xaxis": "x",
         "y": [
          0,
          0.06666666666666667,
          0.2,
          0.26666666666666666,
          0.26666666666666666,
          0.4666666666666667,
          0.4666666666666667,
          0.5333333333333333,
          0.5333333333333333,
          0.6,
          0.6,
          0.6666666666666666,
          0.6666666666666666,
          0.8,
          0.8,
          0.8666666666666667,
          0.8666666666666667,
          0.9333333333333333,
          0.9333333333333333,
          1,
          1,
          1,
          1,
          1,
          1,
          1,
          1
         ],
         "yaxis": "y"
        }
       ],
       "layout": {
        "height": 600,
        "legend": {
         "tracegroupgap": 0
        },
        "shapes": [
         {
          "line": {
           "color": "grey",
           "dash": "dash"
          },
          "type": "line",
          "x0": 0,
          "x1": 1,
          "y0": 0,
          "y1": 1
         }
        ],
        "template": {
         "data": {
          "bar": [
           {
            "error_x": {
             "color": "#2a3f5f"
            },
            "error_y": {
             "color": "#2a3f5f"
            },
            "marker": {
             "line": {
              "color": "#E5ECF6",
              "width": 0.5
             },
             "pattern": {
              "fillmode": "overlay",
              "size": 10,
              "solidity": 0.2
             }
            },
            "type": "bar"
           }
          ],
          "barpolar": [
           {
            "marker": {
             "line": {
              "color": "#E5ECF6",
              "width": 0.5
             },
             "pattern": {
              "fillmode": "overlay",
              "size": 10,
              "solidity": 0.2
             }
            },
            "type": "barpolar"
           }
          ],
          "carpet": [
           {
            "aaxis": {
             "endlinecolor": "#2a3f5f",
             "gridcolor": "white",
             "linecolor": "white",
             "minorgridcolor": "white",
             "startlinecolor": "#2a3f5f"
            },
            "baxis": {
             "endlinecolor": "#2a3f5f",
             "gridcolor": "white",
             "linecolor": "white",
             "minorgridcolor": "white",
             "startlinecolor": "#2a3f5f"
            },
            "type": "carpet"
           }
          ],
          "choropleth": [
           {
            "colorbar": {
             "outlinewidth": 0,
             "ticks": ""
            },
            "type": "choropleth"
           }
          ],
          "contour": [
           {
            "colorbar": {
             "outlinewidth": 0,
             "ticks": ""
            },
            "colorscale": [
             [
              0,
              "#0d0887"
             ],
             [
              0.1111111111111111,
              "#46039f"
             ],
             [
              0.2222222222222222,
              "#7201a8"
             ],
             [
              0.3333333333333333,
              "#9c179e"
             ],
             [
              0.4444444444444444,
              "#bd3786"
             ],
             [
              0.5555555555555556,
              "#d8576b"
             ],
             [
              0.6666666666666666,
              "#ed7953"
             ],
             [
              0.7777777777777778,
              "#fb9f3a"
             ],
             [
              0.8888888888888888,
              "#fdca26"
             ],
             [
              1,
              "#f0f921"
             ]
            ],
            "type": "contour"
           }
          ],
          "contourcarpet": [
           {
            "colorbar": {
             "outlinewidth": 0,
             "ticks": ""
            },
            "type": "contourcarpet"
           }
          ],
          "heatmap": [
           {
            "colorbar": {
             "outlinewidth": 0,
             "ticks": ""
            },
            "colorscale": [
             [
              0,
              "#0d0887"
             ],
             [
              0.1111111111111111,
              "#46039f"
             ],
             [
              0.2222222222222222,
              "#7201a8"
             ],
             [
              0.3333333333333333,
              "#9c179e"
             ],
             [
              0.4444444444444444,
              "#bd3786"
             ],
             [
              0.5555555555555556,
              "#d8576b"
             ],
             [
              0.6666666666666666,
              "#ed7953"
             ],
             [
              0.7777777777777778,
              "#fb9f3a"
             ],
             [
              0.8888888888888888,
              "#fdca26"
             ],
             [
              1,
              "#f0f921"
             ]
            ],
            "type": "heatmap"
           }
          ],
          "heatmapgl": [
           {
            "colorbar": {
             "outlinewidth": 0,
             "ticks": ""
            },
            "colorscale": [
             [
              0,
              "#0d0887"
             ],
             [
              0.1111111111111111,
              "#46039f"
             ],
             [
              0.2222222222222222,
              "#7201a8"
             ],
             [
              0.3333333333333333,
              "#9c179e"
             ],
             [
              0.4444444444444444,
              "#bd3786"
             ],
             [
              0.5555555555555556,
              "#d8576b"
             ],
             [
              0.6666666666666666,
              "#ed7953"
             ],
             [
              0.7777777777777778,
              "#fb9f3a"
             ],
             [
              0.8888888888888888,
              "#fdca26"
             ],
             [
              1,
              "#f0f921"
             ]
            ],
            "type": "heatmapgl"
           }
          ],
          "histogram": [
           {
            "marker": {
             "pattern": {
              "fillmode": "overlay",
              "size": 10,
              "solidity": 0.2
             }
            },
            "type": "histogram"
           }
          ],
          "histogram2d": [
           {
            "colorbar": {
             "outlinewidth": 0,
             "ticks": ""
            },
            "colorscale": [
             [
              0,
              "#0d0887"
             ],
             [
              0.1111111111111111,
              "#46039f"
             ],
             [
              0.2222222222222222,
              "#7201a8"
             ],
             [
              0.3333333333333333,
              "#9c179e"
             ],
             [
              0.4444444444444444,
              "#bd3786"
             ],
             [
              0.5555555555555556,
              "#d8576b"
             ],
             [
              0.6666666666666666,
              "#ed7953"
             ],
             [
              0.7777777777777778,
              "#fb9f3a"
             ],
             [
              0.8888888888888888,
              "#fdca26"
             ],
             [
              1,
              "#f0f921"
             ]
            ],
            "type": "histogram2d"
           }
          ],
          "histogram2dcontour": [
           {
            "colorbar": {
             "outlinewidth": 0,
             "ticks": ""
            },
            "colorscale": [
             [
              0,
              "#0d0887"
             ],
             [
              0.1111111111111111,
              "#46039f"
             ],
             [
              0.2222222222222222,
              "#7201a8"
             ],
             [
              0.3333333333333333,
              "#9c179e"
             ],
             [
              0.4444444444444444,
              "#bd3786"
             ],
             [
              0.5555555555555556,
              "#d8576b"
             ],
             [
              0.6666666666666666,
              "#ed7953"
             ],
             [
              0.7777777777777778,
              "#fb9f3a"
             ],
             [
              0.8888888888888888,
              "#fdca26"
             ],
             [
              1,
              "#f0f921"
             ]
            ],
            "type": "histogram2dcontour"
           }
          ],
          "mesh3d": [
           {
            "colorbar": {
             "outlinewidth": 0,
             "ticks": ""
            },
            "type": "mesh3d"
           }
          ],
          "parcoords": [
           {
            "line": {
             "colorbar": {
              "outlinewidth": 0,
              "ticks": ""
             }
            },
            "type": "parcoords"
           }
          ],
          "pie": [
           {
            "automargin": true,
            "type": "pie"
           }
          ],
          "scatter": [
           {
            "fillpattern": {
             "fillmode": "overlay",
             "size": 10,
             "solidity": 0.2
            },
            "type": "scatter"
           }
          ],
          "scatter3d": [
           {
            "line": {
             "colorbar": {
              "outlinewidth": 0,
              "ticks": ""
             }
            },
            "marker": {
             "colorbar": {
              "outlinewidth": 0,
              "ticks": ""
             }
            },
            "type": "scatter3d"
           }
          ],
          "scattercarpet": [
           {
            "marker": {
             "colorbar": {
              "outlinewidth": 0,
              "ticks": ""
             }
            },
            "type": "scattercarpet"
           }
          ],
          "scattergeo": [
           {
            "marker": {
             "colorbar": {
              "outlinewidth": 0,
              "ticks": ""
             }
            },
            "type": "scattergeo"
           }
          ],
          "scattergl": [
           {
            "marker": {
             "colorbar": {
              "outlinewidth": 0,
              "ticks": ""
             }
            },
            "type": "scattergl"
           }
          ],
          "scattermapbox": [
           {
            "marker": {
             "colorbar": {
              "outlinewidth": 0,
              "ticks": ""
             }
            },
            "type": "scattermapbox"
           }
          ],
          "scatterpolar": [
           {
            "marker": {
             "colorbar": {
              "outlinewidth": 0,
              "ticks": ""
             }
            },
            "type": "scatterpolar"
           }
          ],
          "scatterpolargl": [
           {
            "marker": {
             "colorbar": {
              "outlinewidth": 0,
              "ticks": ""
             }
            },
            "type": "scatterpolargl"
           }
          ],
          "scatterternary": [
           {
            "marker": {
             "colorbar": {
              "outlinewidth": 0,
              "ticks": ""
             }
            },
            "type": "scatterternary"
           }
          ],
          "surface": [
           {
            "colorbar": {
             "outlinewidth": 0,
             "ticks": ""
            },
            "colorscale": [
             [
              0,
              "#0d0887"
             ],
             [
              0.1111111111111111,
              "#46039f"
             ],
             [
              0.2222222222222222,
              "#7201a8"
             ],
             [
              0.3333333333333333,
              "#9c179e"
             ],
             [
              0.4444444444444444,
              "#bd3786"
             ],
             [
              0.5555555555555556,
              "#d8576b"
             ],
             [
              0.6666666666666666,
              "#ed7953"
             ],
             [
              0.7777777777777778,
              "#fb9f3a"
             ],
             [
              0.8888888888888888,
              "#fdca26"
             ],
             [
              1,
              "#f0f921"
             ]
            ],
            "type": "surface"
           }
          ],
          "table": [
           {
            "cells": {
             "fill": {
              "color": "#EBF0F8"
             },
             "line": {
              "color": "white"
             }
            },
            "header": {
             "fill": {
              "color": "#C8D4E3"
             },
             "line": {
              "color": "white"
             }
            },
            "type": "table"
           }
          ]
         },
         "layout": {
          "annotationdefaults": {
           "arrowcolor": "#2a3f5f",
           "arrowhead": 0,
           "arrowwidth": 1
          },
          "autotypenumbers": "strict",
          "coloraxis": {
           "colorbar": {
            "outlinewidth": 0,
            "ticks": ""
           }
          },
          "colorscale": {
           "diverging": [
            [
             0,
             "#8e0152"
            ],
            [
             0.1,
             "#c51b7d"
            ],
            [
             0.2,
             "#de77ae"
            ],
            [
             0.3,
             "#f1b6da"
            ],
            [
             0.4,
             "#fde0ef"
            ],
            [
             0.5,
             "#f7f7f7"
            ],
            [
             0.6,
             "#e6f5d0"
            ],
            [
             0.7,
             "#b8e186"
            ],
            [
             0.8,
             "#7fbc41"
            ],
            [
             0.9,
             "#4d9221"
            ],
            [
             1,
             "#276419"
            ]
           ],
           "sequential": [
            [
             0,
             "#0d0887"
            ],
            [
             0.1111111111111111,
             "#46039f"
            ],
            [
             0.2222222222222222,
             "#7201a8"
            ],
            [
             0.3333333333333333,
             "#9c179e"
            ],
            [
             0.4444444444444444,
             "#bd3786"
            ],
            [
             0.5555555555555556,
             "#d8576b"
            ],
            [
             0.6666666666666666,
             "#ed7953"
            ],
            [
             0.7777777777777778,
             "#fb9f3a"
            ],
            [
             0.8888888888888888,
             "#fdca26"
            ],
            [
             1,
             "#f0f921"
            ]
           ],
           "sequentialminus": [
            [
             0,
             "#0d0887"
            ],
            [
             0.1111111111111111,
             "#46039f"
            ],
            [
             0.2222222222222222,
             "#7201a8"
            ],
            [
             0.3333333333333333,
             "#9c179e"
            ],
            [
             0.4444444444444444,
             "#bd3786"
            ],
            [
             0.5555555555555556,
             "#d8576b"
            ],
            [
             0.6666666666666666,
             "#ed7953"
            ],
            [
             0.7777777777777778,
             "#fb9f3a"
            ],
            [
             0.8888888888888888,
             "#fdca26"
            ],
            [
             1,
             "#f0f921"
            ]
           ]
          },
          "colorway": [
           "#636efa",
           "#EF553B",
           "#00cc96",
           "#ab63fa",
           "#FFA15A",
           "#19d3f3",
           "#FF6692",
           "#B6E880",
           "#FF97FF",
           "#FECB52"
          ],
          "font": {
           "color": "#2a3f5f"
          },
          "geo": {
           "bgcolor": "white",
           "lakecolor": "white",
           "landcolor": "#E5ECF6",
           "showlakes": true,
           "showland": true,
           "subunitcolor": "white"
          },
          "hoverlabel": {
           "align": "left"
          },
          "hovermode": "closest",
          "mapbox": {
           "style": "light"
          },
          "paper_bgcolor": "white",
          "plot_bgcolor": "#E5ECF6",
          "polar": {
           "angularaxis": {
            "gridcolor": "white",
            "linecolor": "white",
            "ticks": ""
           },
           "bgcolor": "#E5ECF6",
           "radialaxis": {
            "gridcolor": "white",
            "linecolor": "white",
            "ticks": ""
           }
          },
          "scene": {
           "xaxis": {
            "backgroundcolor": "#E5ECF6",
            "gridcolor": "white",
            "gridwidth": 2,
            "linecolor": "white",
            "showbackground": true,
            "ticks": "",
            "zerolinecolor": "white"
           },
           "yaxis": {
            "backgroundcolor": "#E5ECF6",
            "gridcolor": "white",
            "gridwidth": 2,
            "linecolor": "white",
            "showbackground": true,
            "ticks": "",
            "zerolinecolor": "white"
           },
           "zaxis": {
            "backgroundcolor": "#E5ECF6",
            "gridcolor": "white",
            "gridwidth": 2,
            "linecolor": "white",
            "showbackground": true,
            "ticks": "",
            "zerolinecolor": "white"
           }
          },
          "shapedefaults": {
           "line": {
            "color": "#2a3f5f"
           }
          },
          "ternary": {
           "aaxis": {
            "gridcolor": "white",
            "linecolor": "white",
            "ticks": ""
           },
           "baxis": {
            "gridcolor": "white",
            "linecolor": "white",
            "ticks": ""
           },
           "bgcolor": "#E5ECF6",
           "caxis": {
            "gridcolor": "white",
            "linecolor": "white",
            "ticks": ""
           }
          },
          "title": {
           "x": 0.05
          },
          "xaxis": {
           "automargin": true,
           "gridcolor": "white",
           "linecolor": "white",
           "ticks": "",
           "title": {
            "standoff": 15
           },
           "zerolinecolor": "white",
           "zerolinewidth": 2
          },
          "yaxis": {
           "automargin": true,
           "gridcolor": "white",
           "linecolor": "white",
           "ticks": "",
           "title": {
            "standoff": 15
           },
           "zerolinecolor": "white",
           "zerolinewidth": 2
          }
         }
        },
        "title": {
         "text": "ROC Curve (AUC=0.9244)",
         "x": 0.5,
         "xanchor": "center"
        },
        "width": 600,
        "xaxis": {
         "anchor": "y",
         "constrain": "domain",
         "domain": [
          0,
          1
         ],
         "title": {
          "text": "False Positive Rate"
         }
        },
        "yaxis": {
         "anchor": "x",
         "domain": [
          0,
          1
         ],
         "scaleanchor": "x",
         "scaleratio": 1,
         "title": {
          "text": "True Positive Rate"
         }
        }
       }
      }
     },
     "metadata": {},
     "output_type": "display_data"
    }
   ],
   "source": [
    "# CREATE ROC CURVE TO SELECT THRESHOLD p\n",
    "\n",
    "from eppi_text_classification.predict import predict_scores\n",
    "from eppi_text_classification.plots.roc import plotly_roc\n",
    "\n",
    "y_test_pred_probs = predict_scores(model, X_test)\n",
    "# y_test_pred_probs = model.predict(X_test)\n",
    "plotly_roc(y_test, y_test_pred_probs)"
   ]
  },
  {
   "cell_type": "code",
   "execution_count": 33,
   "metadata": {},
   "outputs": [
    {
     "name": "stdout",
     "output_type": "stream",
     "text": [
      "Generated HTML saved to select_threshold_plot.html\n"
     ]
    }
   ],
   "source": [
    "from eppi_text_classification.plots.select_threshold import select_threshold_plot\n",
    "\n",
    "select_threshold_plot(y_test, y_test_pred_probs)"
   ]
  },
  {
   "cell_type": "code",
   "execution_count": 55,
   "metadata": {},
   "outputs": [
    {
     "name": "stdout",
     "output_type": "stream",
     "text": [
      "HTML file saved at pos_neg_hist.html\n",
      "HTML file saved at: box_plot.html\n"
     ]
    }
   ],
   "source": [
    "import jsonpickle\n",
    "\n",
    "from eppi_text_classification.model_stability import (\n",
    "    predict_cv_metrics,\n",
    "    predict_cv_scores,\n",
    ")\n",
    "from eppi_text_classification.plots.box_plot import generate_box_plot_html\n",
    "from eppi_text_classification.plots.histogram import (\n",
    "    create_histogram_html,\n",
    "    postive_negative_scores_histogram_html,\n",
    ")\n",
    "\n",
    "best_trial = study.best_trial\n",
    "best_params = best_trial.user_attrs[\"all_params\"]\n",
    "best_params = jsonpickle.decode(best_params, keys=True)\n",
    "\n",
    "postive_negative_scores_histogram_html(\n",
    "    y_test, y_test_pred_probs, savepath=\"pos_neg_hist.html\"\n",
    ")\n",
    "\n",
    "cv_scores = predict_cv_scores(\n",
    "    tfidf_scores,\n",
    "    labels,\n",
    "    \"lightgbm\",\n",
    "    best_params,\n",
    "    nfolds=5,\n",
    "    num_cv_repeats=1,\n",
    ")\n",
    "cv_scores = [list(fold) for fold in cv_scores]\n",
    "generate_box_plot_html(\n",
    "    cv_scores,\n",
    "    [\"Fold 1\", \"Fold 2\", \"Fold 3\", \"Fold 4\", \"Fold 5\"],\n",
    "    \"AUC\",\n",
    "    xaxis_title=\"Fold\",\n",
    "    yaxis_title=\"AUC\",\n",
    "    savepath=\"box_plot.html\",\n",
    ")"
   ]
  },
  {
   "cell_type": "code",
   "execution_count": 62,
   "metadata": {},
   "outputs": [
    {
     "name": "stdout",
     "output_type": "stream",
     "text": [
      "Saved learning curve plot to learning_curve.html\n"
     ]
    }
   ],
   "source": [
    "from eppi_text_classification.plots.learning_curve import create_learning_curve_html\n",
    "\n",
    "create_learning_curve_html(\n",
    "    tfidf_scores,\n",
    "    labels,\n",
    "    \"lightgbm\",\n",
    "    best_params,\n",
    "    savepath=\"learning_curve.html\",\n",
    ")"
   ]
  },
  {
   "cell_type": "code",
   "execution_count": 63,
   "metadata": {},
   "outputs": [],
   "source": [
    "# GET MODEL THRESHOLD FOR CHOSEN TPR, MAKE PREDICTIONS\n",
    "\n",
    "from eppi_text_classification.predict import (\n",
    "    get_raw_threshold,\n",
    "    raw_threshold_predict,\n",
    ")\n",
    "\n",
    "threshold = get_raw_threshold(model, X_test, y_test, target_tpr=0.93)\n",
    "\n",
    "y_test_pred = raw_threshold_predict(model, X_test, threshold)\n",
    "y_train_pred = raw_threshold_predict(model, X_train, threshold)"
   ]
  },
  {
   "cell_type": "code",
   "execution_count": 17,
   "metadata": {},
   "outputs": [
    {
     "name": "stdout",
     "output_type": "stream",
     "text": [
      "HTML file saved at lgbm_auc_hist.html\n",
      "HTML file saved at lgbm_recall_hist.html\n",
      "HTML file saved at lgbm_fpr.html\n"
     ]
    }
   ],
   "source": [
    "from eppi_text_classification.plots.histogram import (\n",
    "    create_histogram_html,\n",
    "    postive_negative_scores_histogram_html,\n",
    ")\n",
    "\n",
    "from eppi_text_classification.model_stability import (\n",
    "    predict_cv_metrics,\n",
    "    predict_cv_scores,\n",
    ")\n",
    "\n",
    "import jsonpickle\n",
    "\n",
    "best_trial = study.best_trial\n",
    "best_params = best_trial.user_attrs[\"all_params\"]\n",
    "best_params = jsonpickle.decode(best_params, keys=True)\n",
    "\n",
    "\n",
    "auc_scores, recall_scores, fpr_scores = predict_cv_metrics(\n",
    "    tfidf_scores,\n",
    "    labels,\n",
    "    \"lightgbm\",\n",
    "    best_params,\n",
    "    nfolds=3,\n",
    "    num_cv_repeats=100,\n",
    "    threshold=threshold,\n",
    ")\n",
    "create_histogram_html(auc_scores, savepath=\"lgbm_auc_hist.html\")\n",
    "create_histogram_html(recall_scores, savepath=\"lgbm_recall_hist.html\")\n",
    "create_histogram_html(fpr_scores, savepath=\"lgbm_fpr.html\")"
   ]
  },
  {
   "cell_type": "code",
   "execution_count": 9,
   "metadata": {},
   "outputs": [
    {
     "data": {
      "image/png": "[encoded data removed]",
      "text/plain": [
       "<Figure size 800x500 with 1 Axes>"
      ]
     },
     "metadata": {},
     "output_type": "display_data"
    }
   ],
   "source": [
    "import matplotlib.pyplot as plt\n",
    "import numpy as np\n",
    "from sklearn.metrics import roc_auc_score\n",
    "\n",
    "dval = lgb.Dataset(X_test, label=y_test, free_raw_data=True)\n",
    "# Define the range of estimators\n",
    "\n",
    "\n",
    "evals_result = {}  # Stores validation results\n",
    "eval_callback = lgb.record_evaluation(evals_result)  # Callback to record results\n",
    "\n",
    "model = lgb.train(\n",
    "    params,\n",
    "    dtrain,\n",
    "    num_boost_round=num_boost_round,  # Maximum boosting rounds\n",
    "    valid_sets=[dval],\n",
    "    valid_names=[\"Validation\"],\n",
    "    callbacks=[eval_callback],  # Stores metrics\n",
    "    # early_stopping_rounds=10,  # Stop if no improvement in 10 rounds\n",
    "    # verbose_eval=False  # Suppress logging\n",
    ")\n",
    "\n",
    "# Extract validation AUC scores\n",
    "iterations = list(range(1, len(evals_result[\"Validation\"][\"auc\"]) + 1))\n",
    "validation_auc = evals_result[\"Validation\"][\"auc\"]\n",
    "\n",
    "# Plot Results\n",
    "plt.figure(figsize=(8, 5))\n",
    "plt.plot(\n",
    "    iterations,\n",
    "    validation_auc,\n",
    "    marker=\"x\",\n",
    "    linestyle=\"-\",\n",
    "    color=\"b\",\n",
    "    label=\"Validation AUC\",\n",
    "    markersize=1,\n",
    ")\n",
    "plt.xlabel(\"Number of Boosting Iterations\")\n",
    "plt.ylabel(\"Validation AUC\")\n",
    "plt.title(\"LightGBM Boosting Iterations vs Validation AUC\")\n",
    "plt.legend()\n",
    "plt.grid(True)\n",
    "plt.show()"
   ]
  },
  {
   "cell_type": "code",
   "execution_count": 15,
   "metadata": {},
   "outputs": [
    {
     "name": "stdout",
     "output_type": "stream",
     "text": [
      "dict_keys(['valid auc-mean', 'valid auc-stdv'])\n"
     ]
    },
    {
     "data": {
      "image/png": "[encoded data removed]",
      "text/plain": [
       "<Figure size 800x500 with 1 Axes>"
      ]
     },
     "metadata": {},
     "output_type": "display_data"
    }
   ],
   "source": [
    "cv_results = lgb.cv(\n",
    "    params,\n",
    "    dtrain,\n",
    "    num_boost_round=1000,  # Maximum number of boosting rounds\n",
    "    nfold=5,  # Number of folds\n",
    "    stratified=True,  # Stratified sampling for classification\n",
    "    shuffle=True,  # Shuffle the data before splitting\n",
    "    # early_stopping_rounds=10,   # Early stopping\n",
    "    # verbose_eval=False,         # Suppress detailed logging\n",
    "    seed=42,  # Reproducibility\n",
    ")\n",
    "\n",
    "# lgb.cv returns a dictionary containing the mean and standard deviation\n",
    "# of the metric values across folds for each boosting iteration.\n",
    "# Usually with metric='auc', you get:\n",
    "# - cv_results[\"auc-mean\"]\n",
    "# - cv_results[\"auc-stdv\"]\n",
    "\n",
    "print(cv_results.keys())\n",
    "# Extract the mean and standard deviation of the AUC across folds\n",
    "mean_auc = cv_results[\"valid auc-mean\"]\n",
    "std_auc = cv_results[\"valid auc-stdv\"]\n",
    "\n",
    "# Create a list of iteration numbers\n",
    "iterations = np.arange(1, len(mean_auc) + 1)\n",
    "\n",
    "# Plot mean AUC vs boosting iterations (with error bars for standard deviation)\n",
    "plt.figure(figsize=(8, 5))\n",
    "plt.errorbar(\n",
    "    iterations,\n",
    "    mean_auc,\n",
    "    yerr=std_auc,\n",
    "    fmt=\"-o\",\n",
    "    ecolor=\"r\",\n",
    "    capsize=3,\n",
    "    label=\"Mean AUC (±1 std)\",\n",
    "    markersize=1,\n",
    ")\n",
    "plt.xlabel(\"Number of Boosting Iterations\")\n",
    "plt.ylabel(\"AUC\")\n",
    "plt.title(\"LightGBM Cross-Validation: Boosting Iterations vs Mean AUC\")\n",
    "plt.grid(True)\n",
    "plt.legend()\n",
    "plt.show()"
   ]
  },
  {
   "cell_type": "code",
   "execution_count": 64,
   "metadata": {},
   "outputs": [
    {
     "data": {
      "application/vnd.plotly.v1+json": {
       "config": {
        "plotlyServerURL": "https://plot.ly"
       },
       "data": [
        {
         "colorscale": [
          [
           0,
           "rgb(247,251,255)"
          ],
          [
           0.125,
           "rgb(222,235,247)"
          ],
          [
           0.25,
           "rgb(198,219,239)"
          ],
          [
           0.375,
           "rgb(158,202,225)"
          ],
          [
           0.5,
           "rgb(107,174,214)"
          ],
          [
           0.625,
           "rgb(66,146,198)"
          ],
          [
           0.75,
           "rgb(33,113,181)"
          ],
          [
           0.875,
           "rgb(8,81,156)"
          ],
          [
           1,
           "rgb(8,48,107)"
          ]
         ],
         "hoverinfo": "text",
         "showscale": false,
         "text": [
          [
           "Truth: Excluded<br>Prediction: Included<br>Total: 194",
           "Truth: Excluded<br>Prediction: Excluded<br>Total: 609"
          ],
          [
           "Truth: Included<br>Prediction: Included<br>Total: 29",
           "Truth: Included<br>Prediction: Excluded<br>Total: 0"
          ]
         ],
         "type": "heatmap",
         "x": [
          "0",
          "1"
         ],
         "xaxis": "x",
         "y": [
          "0",
          "1"
         ],
         "yaxis": "y",
         "z": [
          [
           194,
           609
          ],
          [
           29,
           0
          ]
         ]
        },
        {
         "colorscale": [
          [
           0,
           "rgb(247,251,255)"
          ],
          [
           0.125,
           "rgb(222,235,247)"
          ],
          [
           0.25,
           "rgb(198,219,239)"
          ],
          [
           0.375,
           "rgb(158,202,225)"
          ],
          [
           0.5,
           "rgb(107,174,214)"
          ],
          [
           0.625,
           "rgb(66,146,198)"
          ],
          [
           0.75,
           "rgb(33,113,181)"
          ],
          [
           0.875,
           "rgb(8,81,156)"
          ],
          [
           1,
           "rgb(8,48,107)"
          ]
         ],
         "hoverinfo": "text",
         "showscale": false,
         "text": [
          [
           "Truth: Excluded<br>Prediction: Included<br>Total: 109",
           "Truth: Excluded<br>Prediction: Excluded<br>Total: 292"
          ],
          [
           "Truth: Included<br>Prediction: Included<br>Total: 14",
           "Truth: Included<br>Prediction: Excluded<br>Total: 1"
          ]
         ],
         "type": "heatmap",
         "x": [
          "0",
          "1"
         ],
         "xaxis": "x2",
         "y": [
          "0",
          "1"
         ],
         "yaxis": "y2",
         "z": [
          [
           109,
           292
          ],
          [
           14,
           1
          ]
         ]
        }
       ],
       "layout": {
        "annotations": [
         {
          "font": {
           "size": 18
          },
          "showarrow": false,
          "text": "Training Matrix",
          "x": 0.2125,
          "xanchor": "center",
          "xref": "paper",
          "y": 1.03,
          "yanchor": "bottom",
          "yref": "paper"
         },
         {
          "font": {
           "size": 18
          },
          "showarrow": false,
          "text": "Validation Matrix",
          "x": 0.7875,
          "xanchor": "center",
          "xref": "paper",
          "y": 1.03,
          "yanchor": "bottom",
          "yref": "paper"
         },
         {
          "font": {
           "color": "dark blue"
          },
          "showarrow": false,
          "text": "194",
          "x": "0",
          "xref": "x",
          "y": "0",
          "yref": "y"
         },
         {
          "font": {
           "color": "white"
          },
          "showarrow": false,
          "text": "609",
          "x": "1",
          "xref": "x",
          "y": "0",
          "yref": "y"
         },
         {
          "font": {
           "color": "dark blue"
          },
          "showarrow": false,
          "text": "29",
          "x": "0",
          "xref": "x",
          "y": "1",
          "yref": "y"
         },
         {
          "font": {
           "color": "dark blue"
          },
          "showarrow": false,
          "text": "0",
          "x": "1",
          "xref": "x",
          "y": "1",
          "yref": "y"
         },
         {
          "font": {
           "color": "dark blue"
          },
          "showarrow": false,
          "text": "109",
          "x": "0",
          "xref": "x2",
          "y": "0",
          "yref": "y2"
         },
         {
          "font": {
           "color": "white"
          },
          "showarrow": false,
          "text": "292",
          "x": "1",
          "xref": "x2",
          "y": "0",
          "yref": "y2"
         },
         {
          "font": {
           "color": "dark blue"
          },
          "showarrow": false,
          "text": "14",
          "x": "0",
          "xref": "x2",
          "y": "1",
          "yref": "y2"
         },
         {
          "font": {
           "color": "dark blue"
          },
          "showarrow": false,
          "text": "1",
          "x": "1",
          "xref": "x2",
          "y": "1",
          "yref": "y2"
         }
        ],
        "autosize": false,
        "height": 400,
        "shapes": [
         {
          "line": {
           "color": "black",
           "width": 2
          },
          "type": "rect",
          "x0": -0.5,
          "x1": 1.5,
          "xref": "x",
          "y0": -0.5,
          "y1": 1.5,
          "yref": "y"
         },
         {
          "line": {
           "color": "black",
           "width": 1.5
          },
          "type": "line",
          "x0": -0.5,
          "x1": 1.5,
          "xref": "x",
          "y0": 0.5,
          "y1": 0.5,
          "yref": "y"
         },
         {
          "line": {
           "color": "black",
           "width": 1.5
          },
          "type": "line",
          "x0": 0.5,
          "x1": 0.5,
          "xref": "x",
          "y0": -0.5,
          "y1": 1.5,
          "yref": "y"
         },
         {
          "line": {
           "color": "black",
           "width": 2
          },
          "type": "rect",
          "x0": -0.5,
          "x1": 1.5,
          "xref": "x2",
          "y0": -0.5,
          "y1": 1.5,
          "yref": "y2"
         },
         {
          "line": {
           "color": "black",
           "width": 1.5
          },
          "type": "line",
          "x0": -0.5,
          "x1": 1.5,
          "xref": "x2",
          "y0": 0.5,
          "y1": 0.5,
          "yref": "y2"
         },
         {
          "line": {
           "color": "black",
           "width": 1.5
          },
          "type": "line",
          "x0": 0.5,
          "x1": 0.5,
          "xref": "x2",
          "y0": -0.5,
          "y1": 1.5,
          "yref": "y2"
         }
        ],
        "template": {
         "data": {
          "bar": [
           {
            "error_x": {
             "color": "#2a3f5f"
            },
            "error_y": {
             "color": "#2a3f5f"
            },
            "marker": {
             "line": {
              "color": "#E5ECF6",
              "width": 0.5
             },
             "pattern": {
              "fillmode": "overlay",
              "size": 10,
              "solidity": 0.2
             }
            },
            "type": "bar"
           }
          ],
          "barpolar": [
           {
            "marker": {
             "line": {
              "color": "#E5ECF6",
              "width": 0.5
             },
             "pattern": {
              "fillmode": "overlay",
              "size": 10,
              "solidity": 0.2
             }
            },
            "type": "barpolar"
           }
          ],
          "carpet": [
           {
            "aaxis": {
             "endlinecolor": "#2a3f5f",
             "gridcolor": "white",
             "linecolor": "white",
             "minorgridcolor": "white",
             "startlinecolor": "#2a3f5f"
            },
            "baxis": {
             "endlinecolor": "#2a3f5f",
             "gridcolor": "white",
             "linecolor": "white",
             "minorgridcolor": "white",
             "startlinecolor": "#2a3f5f"
            },
            "type": "carpet"
           }
          ],
          "choropleth": [
           {
            "colorbar": {
             "outlinewidth": 0,
             "ticks": ""
            },
            "type": "choropleth"
           }
          ],
          "contour": [
           {
            "colorbar": {
             "outlinewidth": 0,
             "ticks": ""
            },
            "colorscale": [
             [
              0,
              "#0d0887"
             ],
             [
              0.1111111111111111,
              "#46039f"
             ],
             [
              0.2222222222222222,
              "#7201a8"
             ],
             [
              0.3333333333333333,
              "#9c179e"
             ],
             [
              0.4444444444444444,
              "#bd3786"
             ],
             [
              0.5555555555555556,
              "#d8576b"
             ],
             [
              0.6666666666666666,
              "#ed7953"
             ],
             [
              0.7777777777777778,
              "#fb9f3a"
             ],
             [
              0.8888888888888888,
              "#fdca26"
             ],
             [
              1,
              "#f0f921"
             ]
            ],
            "type": "contour"
           }
          ],
          "contourcarpet": [
           {
            "colorbar": {
             "outlinewidth": 0,
             "ticks": ""
            },
            "type": "contourcarpet"
           }
          ],
          "heatmap": [
           {
            "colorbar": {
             "outlinewidth": 0,
             "ticks": ""
            },
            "colorscale": [
             [
              0,
              "#0d0887"
             ],
             [
              0.1111111111111111,
              "#46039f"
             ],
             [
              0.2222222222222222,
              "#7201a8"
             ],
             [
              0.3333333333333333,
              "#9c179e"
             ],
             [
              0.4444444444444444,
              "#bd3786"
             ],
             [
              0.5555555555555556,
              "#d8576b"
             ],
             [
              0.6666666666666666,
              "#ed7953"
             ],
             [
              0.7777777777777778,
              "#fb9f3a"
             ],
             [
              0.8888888888888888,
              "#fdca26"
             ],
             [
              1,
              "#f0f921"
             ]
            ],
            "type": "heatmap"
           }
          ],
          "heatmapgl": [
           {
            "colorbar": {
             "outlinewidth": 0,
             "ticks": ""
            },
            "colorscale": [
             [
              0,
              "#0d0887"
             ],
             [
              0.1111111111111111,
              "#46039f"
             ],
             [
              0.2222222222222222,
              "#7201a8"
             ],
             [
              0.3333333333333333,
              "#9c179e"
             ],
             [
              0.4444444444444444,
              "#bd3786"
             ],
             [
              0.5555555555555556,
              "#d8576b"
             ],
             [
              0.6666666666666666,
              "#ed7953"
             ],
             [
              0.7777777777777778,
              "#fb9f3a"
             ],
             [
              0.8888888888888888,
              "#fdca26"
             ],
             [
              1,
              "#f0f921"
             ]
            ],
            "type": "heatmapgl"
           }
          ],
          "histogram": [
           {
            "marker": {
             "pattern": {
              "fillmode": "overlay",
              "size": 10,
              "solidity": 0.2
             }
            },
            "type": "histogram"
           }
          ],
          "histogram2d": [
           {
            "colorbar": {
             "outlinewidth": 0,
             "ticks": ""
            },
            "colorscale": [
             [
              0,
              "#0d0887"
             ],
             [
              0.1111111111111111,
              "#46039f"
             ],
             [
              0.2222222222222222,
              "#7201a8"
             ],
             [
              0.3333333333333333,
              "#9c179e"
             ],
             [
              0.4444444444444444,
              "#bd3786"
             ],
             [
              0.5555555555555556,
              "#d8576b"
             ],
             [
              0.6666666666666666,
              "#ed7953"
             ],
             [
              0.7777777777777778,
              "#fb9f3a"
             ],
             [
              0.8888888888888888,
              "#fdca26"
             ],
             [
              1,
              "#f0f921"
             ]
            ],
            "type": "histogram2d"
           }
          ],
          "histogram2dcontour": [
           {
            "colorbar": {
             "outlinewidth": 0,
             "ticks": ""
            },
            "colorscale": [
             [
              0,
              "#0d0887"
             ],
             [
              0.1111111111111111,
              "#46039f"
             ],
             [
              0.2222222222222222,
              "#7201a8"
             ],
             [
              0.3333333333333333,
              "#9c179e"
             ],
             [
              0.4444444444444444,
              "#bd3786"
             ],
             [
              0.5555555555555556,
              "#d8576b"
             ],
             [
              0.6666666666666666,
              "#ed7953"
             ],
             [
              0.7777777777777778,
              "#fb9f3a"
             ],
             [
              0.8888888888888888,
              "#fdca26"
             ],
             [
              1,
              "#f0f921"
             ]
            ],
            "type": "histogram2dcontour"
           }
          ],
          "mesh3d": [
           {
            "colorbar": {
             "outlinewidth": 0,
             "ticks": ""
            },
            "type": "mesh3d"
           }
          ],
          "parcoords": [
           {
            "line": {
             "colorbar": {
              "outlinewidth": 0,
              "ticks": ""
             }
            },
            "type": "parcoords"
           }
          ],
          "pie": [
           {
            "automargin": true,
            "type": "pie"
           }
          ],
          "scatter": [
           {
            "fillpattern": {
             "fillmode": "overlay",
             "size": 10,
             "solidity": 0.2
            },
            "type": "scatter"
           }
          ],
          "scatter3d": [
           {
            "line": {
             "colorbar": {
              "outlinewidth": 0,
              "ticks": ""
             }
            },
            "marker": {
             "colorbar": {
              "outlinewidth": 0,
              "ticks": ""
             }
            },
            "type": "scatter3d"
           }
          ],
          "scattercarpet": [
           {
            "marker": {
             "colorbar": {
              "outlinewidth": 0,
              "ticks": ""
             }
            },
            "type": "scattercarpet"
           }
          ],
          "scattergeo": [
           {
            "marker": {
             "colorbar": {
              "outlinewidth": 0,
              "ticks": ""
             }
            },
            "type": "scattergeo"
           }
          ],
          "scattergl": [
           {
            "marker": {
             "colorbar": {
              "outlinewidth": 0,
              "ticks": ""
             }
            },
            "type": "scattergl"
           }
          ],
          "scattermapbox": [
           {
            "marker": {
             "colorbar": {
              "outlinewidth": 0,
              "ticks": ""
             }
            },
            "type": "scattermapbox"
           }
          ],
          "scatterpolar": [
           {
            "marker": {
             "colorbar": {
              "outlinewidth": 0,
              "ticks": ""
             }
            },
            "type": "scatterpolar"
           }
          ],
          "scatterpolargl": [
           {
            "marker": {
             "colorbar": {
              "outlinewidth": 0,
              "ticks": ""
             }
            },
            "type": "scatterpolargl"
           }
          ],
          "scatterternary": [
           {
            "marker": {
             "colorbar": {
              "outlinewidth": 0,
              "ticks": ""
             }
            },
            "type": "scatterternary"
           }
          ],
          "surface": [
           {
            "colorbar": {
             "outlinewidth": 0,
             "ticks": ""
            },
            "colorscale": [
             [
              0,
              "#0d0887"
             ],
             [
              0.1111111111111111,
              "#46039f"
             ],
             [
              0.2222222222222222,
              "#7201a8"
             ],
             [
              0.3333333333333333,
              "#9c179e"
             ],
             [
              0.4444444444444444,
              "#bd3786"
             ],
             [
              0.5555555555555556,
              "#d8576b"
             ],
             [
              0.6666666666666666,
              "#ed7953"
             ],
             [
              0.7777777777777778,
              "#fb9f3a"
             ],
             [
              0.8888888888888888,
              "#fdca26"
             ],
             [
              1,
              "#f0f921"
             ]
            ],
            "type": "surface"
           }
          ],
          "table": [
           {
            "cells": {
             "fill": {
              "color": "#EBF0F8"
             },
             "line": {
              "color": "white"
             }
            },
            "header": {
             "fill": {
              "color": "#C8D4E3"
             },
             "line": {
              "color": "white"
             }
            },
            "type": "table"
           }
          ]
         },
         "layout": {
          "annotationdefaults": {
           "arrowcolor": "#2a3f5f",
           "arrowhead": 0,
           "arrowwidth": 1
          },
          "autotypenumbers": "strict",
          "coloraxis": {
           "colorbar": {
            "outlinewidth": 0,
            "ticks": ""
           }
          },
          "colorscale": {
           "diverging": [
            [
             0,
             "#8e0152"
            ],
            [
             0.1,
             "#c51b7d"
            ],
            [
             0.2,
             "#de77ae"
            ],
            [
             0.3,
             "#f1b6da"
            ],
            [
             0.4,
             "#fde0ef"
            ],
            [
             0.5,
             "#f7f7f7"
            ],
            [
             0.6,
             "#e6f5d0"
            ],
            [
             0.7,
             "#b8e186"
            ],
            [
             0.8,
             "#7fbc41"
            ],
            [
             0.9,
             "#4d9221"
            ],
            [
             1,
             "#276419"
            ]
           ],
           "sequential": [
            [
             0,
             "#0d0887"
            ],
            [
             0.1111111111111111,
             "#46039f"
            ],
            [
             0.2222222222222222,
             "#7201a8"
            ],
            [
             0.3333333333333333,
             "#9c179e"
            ],
            [
             0.4444444444444444,
             "#bd3786"
            ],
            [
             0.5555555555555556,
             "#d8576b"
            ],
            [
             0.6666666666666666,
             "#ed7953"
            ],
            [
             0.7777777777777778,
             "#fb9f3a"
            ],
            [
             0.8888888888888888,
             "#fdca26"
            ],
            [
             1,
             "#f0f921"
            ]
           ],
           "sequentialminus": [
            [
             0,
             "#0d0887"
            ],
            [
             0.1111111111111111,
             "#46039f"
            ],
            [
             0.2222222222222222,
             "#7201a8"
            ],
            [
             0.3333333333333333,
             "#9c179e"
            ],
            [
             0.4444444444444444,
             "#bd3786"
            ],
            [
             0.5555555555555556,
             "#d8576b"
            ],
            [
             0.6666666666666666,
             "#ed7953"
            ],
            [
             0.7777777777777778,
             "#fb9f3a"
            ],
            [
             0.8888888888888888,
             "#fdca26"
            ],
            [
             1,
             "#f0f921"
            ]
           ]
          },
          "colorway": [
           "#636efa",
           "#EF553B",
           "#00cc96",
           "#ab63fa",
           "#FFA15A",
           "#19d3f3",
           "#FF6692",
           "#B6E880",
           "#FF97FF",
           "#FECB52"
          ],
          "font": {
           "color": "#2a3f5f"
          },
          "geo": {
           "bgcolor": "white",
           "lakecolor": "white",
           "landcolor": "#E5ECF6",
           "showlakes": true,
           "showland": true,
           "subunitcolor": "white"
          },
          "hoverlabel": {
           "align": "left"
          },
          "hovermode": "closest",
          "mapbox": {
           "style": "light"
          },
          "paper_bgcolor": "white",
          "plot_bgcolor": "#E5ECF6",
          "polar": {
           "angularaxis": {
            "gridcolor": "white",
            "linecolor": "white",
            "ticks": ""
           },
           "bgcolor": "#E5ECF6",
           "radialaxis": {
            "gridcolor": "white",
            "linecolor": "white",
            "ticks": ""
           }
          },
          "scene": {
           "xaxis": {
            "backgroundcolor": "#E5ECF6",
            "gridcolor": "white",
            "gridwidth": 2,
            "linecolor": "white",
            "showbackground": true,
            "ticks": "",
            "zerolinecolor": "white"
           },
           "yaxis": {
            "backgroundcolor": "#E5ECF6",
            "gridcolor": "white",
            "gridwidth": 2,
            "linecolor": "white",
            "showbackground": true,
            "ticks": "",
            "zerolinecolor": "white"
           },
           "zaxis": {
            "backgroundcolor": "#E5ECF6",
            "gridcolor": "white",
            "gridwidth": 2,
            "linecolor": "white",
            "showbackground": true,
            "ticks": "",
            "zerolinecolor": "white"
           }
          },
          "shapedefaults": {
           "line": {
            "color": "#2a3f5f"
           }
          },
          "ternary": {
           "aaxis": {
            "gridcolor": "white",
            "linecolor": "white",
            "ticks": ""
           },
           "baxis": {
            "gridcolor": "white",
            "linecolor": "white",
            "ticks": ""
           },
           "bgcolor": "#E5ECF6",
           "caxis": {
            "gridcolor": "white",
            "linecolor": "white",
            "ticks": ""
           }
          },
          "title": {
           "x": 0.05
          },
          "xaxis": {
           "automargin": true,
           "gridcolor": "white",
           "linecolor": "white",
           "ticks": "",
           "title": {
            "standoff": 15
           },
           "zerolinecolor": "white",
           "zerolinewidth": 2
          },
          "yaxis": {
           "automargin": true,
           "gridcolor": "white",
           "linecolor": "white",
           "ticks": "",
           "title": {
            "standoff": 15
           },
           "zerolinecolor": "white",
           "zerolinewidth": 2
          }
         }
        },
        "width": 700,
        "xaxis": {
         "anchor": "y",
         "domain": [
          0,
          0.425
         ],
         "mirror": true,
         "tickcolor": "black",
         "ticklen": 5,
         "tickmode": "array",
         "ticks": "outside",
         "ticktext": [
          "1",
          "0"
         ],
         "tickvals": [
          0,
          1
         ],
         "tickwidth": 1,
         "title": {
          "text": "Prediction"
         }
        },
        "xaxis2": {
         "anchor": "y2",
         "domain": [
          0.575,
          1
         ],
         "mirror": true,
         "tickcolor": "black",
         "ticklen": 5,
         "tickmode": "array",
         "ticks": "outside",
         "ticktext": [
          "1",
          "0"
         ],
         "tickvals": [
          0,
          1
         ],
         "tickwidth": 1,
         "title": {
          "text": "Prediction"
         }
        },
        "yaxis": {
         "anchor": "x",
         "domain": [
          0,
          1
         ],
         "mirror": true,
         "tickcolor": "black",
         "ticklen": 5,
         "tickmode": "array",
         "ticks": "outside",
         "ticktext": [
          "0",
          "1"
         ],
         "tickvals": [
          0,
          1
         ],
         "tickwidth": 1,
         "title": {
          "standoff": 0.3,
          "text": "Truth"
         }
        },
        "yaxis2": {
         "anchor": "x2",
         "domain": [
          0,
          1
         ],
         "mirror": true,
         "tickcolor": "black",
         "ticklen": 5,
         "tickmode": "array",
         "ticks": "outside",
         "ticktext": [
          "0",
          "1"
         ],
         "tickvals": [
          0,
          1
         ],
         "tickwidth": 1,
         "title": {
          "standoff": 0.3,
          "text": "Truth"
         }
        }
       }
      }
     },
     "metadata": {},
     "output_type": "display_data"
    }
   ],
   "source": [
    "from eppi_text_classification import binary_train_valid_confusion_plotly\n",
    "\n",
    "binary_train_valid_confusion_plotly(\n",
    "    y_train,\n",
    "    y_train_pred,\n",
    "    y_test,\n",
    "    y_test_pred,\n",
    "    postive_label=\"Included\",\n",
    "    negative_label=\"Excluded\",\n",
    ")"
   ]
  },
  {
   "cell_type": "code",
   "execution_count": 65,
   "metadata": {},
   "outputs": [
    {
     "data": {
      "image/png": "[encoded data removed]",
      "text/plain": [
       "<Figure size 2000x400 with 2 Axes>"
      ]
     },
     "metadata": {},
     "output_type": "display_data"
    },
    {
     "data": {
      "image/png": "[encoded data removed]",
      "text/plain": [
       "<Figure size 2000x400 with 2 Axes>"
      ]
     },
     "metadata": {},
     "output_type": "display_data"
    }
   ],
   "source": [
    "from eppi_text_classification import ShapPlotter\n",
    "\n",
    "shap_plotter = ShapPlotter(\n",
    "    model,\n",
    "    X_test,\n",
    "    feature_names,\n",
    ")\n",
    "dot_plot = shap_plotter.dot_plot(num_display=10)\n",
    "dot_plot.show()\n",
    "dot_plot = shap_plotter.dot_plot(num_display=10, log_scale=False)\n",
    "dot_plot.show()\n",
    "bar_plot = shap_plotter.bar_chart()\n",
    "bar_plot.show()"
   ]
  },
  {
   "cell_type": "code",
   "execution_count": 66,
   "metadata": {},
   "outputs": [
    {
     "name": "stdout",
     "output_type": "stream",
     "text": [
      "Truth: 0\n",
      "Prediction: [0]\n",
      "Shap value: -5.96631299534231\n",
      "Prediction score: [-5.966313]\n"
     ]
    },
    {
     "data": {
      "image/png": "[encoded data removed]",
      "text/plain": [
       "<Figure size 800x510 with 1 Axes>"
      ]
     },
     "metadata": {},
     "output_type": "display_data"
    },
    {
     "name": "stdout",
     "output_type": "stream",
     "text": [
      "Truth: 0\n",
      "Prediction: [1]\n",
      "Shap value: -2.380411446023505\n",
      "Prediction score: [-2.38041143]\n"
     ]
    },
    {
     "data": {
      "image/png": "[encoded data removed]",
      "text/plain": [
       "<Figure size 800x510 with 1 Axes>"
      ]
     },
     "metadata": {},
     "output_type": "display_data"
    },
    {
     "name": "stdout",
     "output_type": "stream",
     "text": [
      "Truth: 0\n",
      "Prediction: [0]\n",
      "Shap value: -11.378919225930009\n",
      "Prediction score: [-11.37891915]\n"
     ]
    },
    {
     "data": {
      "image/png": "[encoded data removed]",
      "text/plain": [
       "<Figure size 800x510 with 1 Axes>"
      ]
     },
     "metadata": {},
     "output_type": "display_data"
    },
    {
     "name": "stdout",
     "output_type": "stream",
     "text": [
      "Truth: 0\n",
      "Prediction: [0]\n",
      "Shap value: -8.93967435443658\n",
      "Prediction score: [-8.93967434]\n"
     ]
    },
    {
     "data": {
      "image/png": "[encoded data removed]",
      "text/plain": [
       "<Figure size 800x510 with 1 Axes>"
      ]
     },
     "metadata": {},
     "output_type": "display_data"
    },
    {
     "name": "stdout",
     "output_type": "stream",
     "text": [
      "Truth: 0\n",
      "Prediction: [0]\n",
      "Shap value: -8.267704468964372\n",
      "Prediction score: [-8.26770449]\n"
     ]
    },
    {
     "data": {
      "image/png": "[encoded data removed]",
      "text/plain": [
       "<Figure size 800x510 with 1 Axes>"
      ]
     },
     "metadata": {},
     "output_type": "display_data"
    }
   ],
   "source": [
    "import numpy as np\n",
    "\n",
    "shap_plotter = ShapPlotter(model, X_test[0:10], feature_names)\n",
    "\n",
    "for i in range(5):\n",
    "    print(f\"Truth: {y_test[i]}\")\n",
    "    print(f\"Prediction: {raw_threshold_predict(model, X_test[i], threshold)}\")\n",
    "    print(\n",
    "        f\"Shap value: {shap_plotter.shap_values[i].sum() + shap_plotter.expected_value}\"\n",
    "    )\n",
    "    print(f\"Prediction score: {predict_scores(model, X_test[i])}\")\n",
    "    decision_plot = shap_plotter.single_decision_plot(\n",
    "        threshold=threshold, index=i, num_display=10, log_scale=False\n",
    "    )\n",
    "    decision_plot.show()"
   ]
  },
  {
   "cell_type": "code",
   "execution_count": null,
   "metadata": {},
   "outputs": [],
   "source": []
  }
 ],
 "metadata": {
  "kernelspec": {
   "display_name": "base",
   "language": "python",
   "name": "python3"
  },
  "language_info": {
   "codemirror_mode": {
    "name": "ipython",
    "version": 3
   },
   "file_extension": ".py",
   "mimetype": "text/x-python",
   "name": "python",
   "nbconvert_exporter": "python",
   "pygments_lexer": "ipython3",
   "version": "3.11.8"
  }
 },
 "nbformat": 4,
 "nbformat_minor": 2
}
