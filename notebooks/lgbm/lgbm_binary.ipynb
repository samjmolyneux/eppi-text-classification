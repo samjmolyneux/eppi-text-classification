{
 "cells": [
  {
   "cell_type": "code",
   "execution_count": 1,
   "metadata": {},
   "outputs": [],
   "source": [
    "%load_ext autoreload\n",
    "%autoreload 2"
   ]
  },
  {
   "cell_type": "code",
   "execution_count": 1,
   "metadata": {},
   "outputs": [],
   "source": [
    "import pandas as pd\n",
    "\n",
    "df_path = \"../../data/raw/debunking_review.tsv\"\n",
    "df = pd.read_csv(df_path, sep=\"\\t\")"
   ]
  },
  {
   "cell_type": "code",
   "execution_count": 2,
   "metadata": {},
   "outputs": [],
   "source": [
    "from eppi_text_classification import (\n",
    "    get_features_and_labels,\n",
    "    get_tfidf_and_names,\n",
    ")\n",
    "\n",
    "word_features, labels = get_features_and_labels(df)\n",
    "\n",
    "tfidf_scores, feature_names = get_tfidf_and_names(word_features)"
   ]
  },
  {
   "cell_type": "code",
   "execution_count": null,
   "metadata": {},
   "outputs": [
    {
     "name": "stderr",
     "output_type": "stream",
     "text": [
      "[I 2024-06-15 22:31:16,447] A new study created in RDB with name: lgbm_binary\n"
     ]
    },
    {
     "ename": "KeyboardInterrupt",
     "evalue": "",
     "output_type": "error",
     "traceback": [
      "\u001b[0;31m---------------------------------------------------------------------------\u001b[0m",
      "\u001b[0;31mKeyboardInterrupt\u001b[0m                         Traceback (most recent call last)",
      "Cell \u001b[0;32mIn[4], line 15\u001b[0m\n\u001b[1;32m      4\u001b[0m optimiser \u001b[38;5;241m=\u001b[39m OptunaHyperparameterOptimisation(\n\u001b[1;32m      5\u001b[0m     tfidf_scores,\n\u001b[1;32m      6\u001b[0m     labels,\n\u001b[0;32m   (...)\u001b[0m\n\u001b[1;32m     11\u001b[0m     num_cv_repeats\u001b[38;5;241m=\u001b[39m\u001b[38;5;241m1\u001b[39m,\n\u001b[1;32m     12\u001b[0m )\n\u001b[1;32m     14\u001b[0m delete_optuna_study(\u001b[38;5;124m\"\u001b[39m\u001b[38;5;124mlgbm_binary\u001b[39m\u001b[38;5;124m\"\u001b[39m)\n\u001b[0;32m---> 15\u001b[0m best_params \u001b[38;5;241m=\u001b[39m optimiser\u001b[38;5;241m.\u001b[39moptimise_hyperparameters(study_name\u001b[38;5;241m=\u001b[39m\u001b[38;5;124m\"\u001b[39m\u001b[38;5;124mlgbm_binary\u001b[39m\u001b[38;5;124m\"\u001b[39m)\n",
      "File \u001b[0;32m~/Documents/EPPI_Classification_Public/eppi_text_classification/eppi_text_classification/opt.py:89\u001b[0m, in \u001b[0;36mOptunaHyperparameterOptimisation.optimise_hyperparameters\u001b[0;34m(self, study_name)\u001b[0m\n\u001b[1;32m     81\u001b[0m study \u001b[38;5;241m=\u001b[39m optuna\u001b[38;5;241m.\u001b[39mcreate_study(\n\u001b[1;32m     82\u001b[0m     study_name\u001b[38;5;241m=\u001b[39mstudy_name,\n\u001b[1;32m     83\u001b[0m     storage\u001b[38;5;241m=\u001b[39m\u001b[38;5;28mself\u001b[39m\u001b[38;5;241m.\u001b[39mdb_storage_url,\n\u001b[1;32m     84\u001b[0m     direction\u001b[38;5;241m=\u001b[39m\u001b[38;5;124m\"\u001b[39m\u001b[38;5;124mmaximize\u001b[39m\u001b[38;5;124m\"\u001b[39m,\n\u001b[1;32m     85\u001b[0m     load_if_exists\u001b[38;5;241m=\u001b[39m\u001b[38;5;28;01mTrue\u001b[39;00m,\n\u001b[1;32m     86\u001b[0m )\n\u001b[1;32m     88\u001b[0m \u001b[38;5;66;03m# TO DO: try and remove the square brackets\u001b[39;00m\n\u001b[0;32m---> 89\u001b[0m Parallel(n_jobs\u001b[38;5;241m=\u001b[39m\u001b[38;5;241m-\u001b[39m\u001b[38;5;241m1\u001b[39m)(\n\u001b[1;32m     90\u001b[0m     [\n\u001b[1;32m     91\u001b[0m         delayed(\u001b[38;5;28mself\u001b[39m\u001b[38;5;241m.\u001b[39moptimise_on_single)(\u001b[38;5;28mself\u001b[39m\u001b[38;5;241m.\u001b[39mn_trials_per_job, study_name)\n\u001b[1;32m     92\u001b[0m         \u001b[38;5;28;01mfor\u001b[39;00m _ \u001b[38;5;129;01min\u001b[39;00m \u001b[38;5;28mrange\u001b[39m(\u001b[38;5;28mself\u001b[39m\u001b[38;5;241m.\u001b[39mn_jobs)\n\u001b[1;32m     93\u001b[0m     ]\n\u001b[1;32m     94\u001b[0m )\n\u001b[1;32m     96\u001b[0m best_trial \u001b[38;5;241m=\u001b[39m study\u001b[38;5;241m.\u001b[39mbest_trial\n\u001b[1;32m     97\u001b[0m best_params \u001b[38;5;241m=\u001b[39m best_trial\u001b[38;5;241m.\u001b[39muser_attrs[\u001b[38;5;124m\"\u001b[39m\u001b[38;5;124mall_params\u001b[39m\u001b[38;5;124m\"\u001b[39m]\n",
      "File \u001b[0;32m/opt/anaconda3/lib/python3.11/site-packages/joblib/parallel.py:2007\u001b[0m, in \u001b[0;36mParallel.__call__\u001b[0;34m(self, iterable)\u001b[0m\n\u001b[1;32m   2001\u001b[0m \u001b[38;5;66;03m# The first item from the output is blank, but it makes the interpreter\u001b[39;00m\n\u001b[1;32m   2002\u001b[0m \u001b[38;5;66;03m# progress until it enters the Try/Except block of the generator and\u001b[39;00m\n\u001b[1;32m   2003\u001b[0m \u001b[38;5;66;03m# reach the first `yield` statement. This starts the aynchronous\u001b[39;00m\n\u001b[1;32m   2004\u001b[0m \u001b[38;5;66;03m# dispatch of the tasks to the workers.\u001b[39;00m\n\u001b[1;32m   2005\u001b[0m \u001b[38;5;28mnext\u001b[39m(output)\n\u001b[0;32m-> 2007\u001b[0m \u001b[38;5;28;01mreturn\u001b[39;00m output \u001b[38;5;28;01mif\u001b[39;00m \u001b[38;5;28mself\u001b[39m\u001b[38;5;241m.\u001b[39mreturn_generator \u001b[38;5;28;01melse\u001b[39;00m \u001b[38;5;28mlist\u001b[39m(output)\n",
      "File \u001b[0;32m/opt/anaconda3/lib/python3.11/site-packages/joblib/parallel.py:1650\u001b[0m, in \u001b[0;36mParallel._get_outputs\u001b[0;34m(self, iterator, pre_dispatch)\u001b[0m\n\u001b[1;32m   1647\u001b[0m     \u001b[38;5;28;01myield\u001b[39;00m\n\u001b[1;32m   1649\u001b[0m     \u001b[38;5;28;01mwith\u001b[39;00m \u001b[38;5;28mself\u001b[39m\u001b[38;5;241m.\u001b[39m_backend\u001b[38;5;241m.\u001b[39mretrieval_context():\n\u001b[0;32m-> 1650\u001b[0m         \u001b[38;5;28;01myield from\u001b[39;00m \u001b[38;5;28mself\u001b[39m\u001b[38;5;241m.\u001b[39m_retrieve()\n\u001b[1;32m   1652\u001b[0m \u001b[38;5;28;01mexcept\u001b[39;00m \u001b[38;5;167;01mGeneratorExit\u001b[39;00m:\n\u001b[1;32m   1653\u001b[0m     \u001b[38;5;66;03m# The generator has been garbage collected before being fully\u001b[39;00m\n\u001b[1;32m   1654\u001b[0m     \u001b[38;5;66;03m# consumed. This aborts the remaining tasks if possible and warn\u001b[39;00m\n\u001b[1;32m   1655\u001b[0m     \u001b[38;5;66;03m# the user if necessary.\u001b[39;00m\n\u001b[1;32m   1656\u001b[0m     \u001b[38;5;28mself\u001b[39m\u001b[38;5;241m.\u001b[39m_exception \u001b[38;5;241m=\u001b[39m \u001b[38;5;28;01mTrue\u001b[39;00m\n",
      "File \u001b[0;32m/opt/anaconda3/lib/python3.11/site-packages/joblib/parallel.py:1762\u001b[0m, in \u001b[0;36mParallel._retrieve\u001b[0;34m(self)\u001b[0m\n\u001b[1;32m   1757\u001b[0m \u001b[38;5;66;03m# If the next job is not ready for retrieval yet, we just wait for\u001b[39;00m\n\u001b[1;32m   1758\u001b[0m \u001b[38;5;66;03m# async callbacks to progress.\u001b[39;00m\n\u001b[1;32m   1759\u001b[0m \u001b[38;5;28;01mif\u001b[39;00m ((\u001b[38;5;28mlen\u001b[39m(\u001b[38;5;28mself\u001b[39m\u001b[38;5;241m.\u001b[39m_jobs) \u001b[38;5;241m==\u001b[39m \u001b[38;5;241m0\u001b[39m) \u001b[38;5;129;01mor\u001b[39;00m\n\u001b[1;32m   1760\u001b[0m     (\u001b[38;5;28mself\u001b[39m\u001b[38;5;241m.\u001b[39m_jobs[\u001b[38;5;241m0\u001b[39m]\u001b[38;5;241m.\u001b[39mget_status(\n\u001b[1;32m   1761\u001b[0m         timeout\u001b[38;5;241m=\u001b[39m\u001b[38;5;28mself\u001b[39m\u001b[38;5;241m.\u001b[39mtimeout) \u001b[38;5;241m==\u001b[39m TASK_PENDING)):\n\u001b[0;32m-> 1762\u001b[0m     time\u001b[38;5;241m.\u001b[39msleep(\u001b[38;5;241m0.01\u001b[39m)\n\u001b[1;32m   1763\u001b[0m     \u001b[38;5;28;01mcontinue\u001b[39;00m\n\u001b[1;32m   1765\u001b[0m \u001b[38;5;66;03m# We need to be careful: the job list can be filling up as\u001b[39;00m\n\u001b[1;32m   1766\u001b[0m \u001b[38;5;66;03m# we empty it and Python list are not thread-safe by\u001b[39;00m\n\u001b[1;32m   1767\u001b[0m \u001b[38;5;66;03m# default hence the use of the lock\u001b[39;00m\n",
      "\u001b[0;31mKeyboardInterrupt\u001b[0m: "
     ]
    }
   ],
   "source": [
    "from eppi_text_classification import OptunaHyperparameterOptimisation\n",
    "from eppi_text_classification.utils import delete_optuna_study\n",
    "\n",
    "optimiser = OptunaHyperparameterOptimisation(\n",
    "    tfidf_scores,\n",
    "    labels,\n",
    "    \"LGBMClassifier\",\n",
    "    n_trials_per_job=10,\n",
    "    n_jobs=-1,\n",
    "    nfolds=3,\n",
    "    num_cv_repeats=1,\n",
    ")\n",
    "\n",
    "delete_optuna_study(\"lgbm_binary\")\n",
    "best_params = optimiser.optimise_hyperparameters(study_name=\"lgbm_binary\")"
   ]
  },
  {
   "cell_type": "code",
   "execution_count": 3,
   "metadata": {},
   "outputs": [
    {
     "data": {
      "text/html": [
       "<style>#sk-container-id-1 {\n",
       "  /* Definition of color scheme common for light and dark mode */\n",
       "  --sklearn-color-text: black;\n",
       "  --sklearn-color-line: gray;\n",
       "  /* Definition of color scheme for unfitted estimators */\n",
       "  --sklearn-color-unfitted-level-0: #fff5e6;\n",
       "  --sklearn-color-unfitted-level-1: #f6e4d2;\n",
       "  --sklearn-color-unfitted-level-2: #ffe0b3;\n",
       "  --sklearn-color-unfitted-level-3: chocolate;\n",
       "  /* Definition of color scheme for fitted estimators */\n",
       "  --sklearn-color-fitted-level-0: #f0f8ff;\n",
       "  --sklearn-color-fitted-level-1: #d4ebff;\n",
       "  --sklearn-color-fitted-level-2: #b3dbfd;\n",
       "  --sklearn-color-fitted-level-3: cornflowerblue;\n",
       "\n",
       "  /* Specific color for light theme */\n",
       "  --sklearn-color-text-on-default-background: var(--sg-text-color, var(--theme-code-foreground, var(--jp-content-font-color1, black)));\n",
       "  --sklearn-color-background: var(--sg-background-color, var(--theme-background, var(--jp-layout-color0, white)));\n",
       "  --sklearn-color-border-box: var(--sg-text-color, var(--theme-code-foreground, var(--jp-content-font-color1, black)));\n",
       "  --sklearn-color-icon: #696969;\n",
       "\n",
       "  @media (prefers-color-scheme: dark) {\n",
       "    /* Redefinition of color scheme for dark theme */\n",
       "    --sklearn-color-text-on-default-background: var(--sg-text-color, var(--theme-code-foreground, var(--jp-content-font-color1, white)));\n",
       "    --sklearn-color-background: var(--sg-background-color, var(--theme-background, var(--jp-layout-color0, #111)));\n",
       "    --sklearn-color-border-box: var(--sg-text-color, var(--theme-code-foreground, var(--jp-content-font-color1, white)));\n",
       "    --sklearn-color-icon: #878787;\n",
       "  }\n",
       "}\n",
       "\n",
       "#sk-container-id-1 {\n",
       "  color: var(--sklearn-color-text);\n",
       "}\n",
       "\n",
       "#sk-container-id-1 pre {\n",
       "  padding: 0;\n",
       "}\n",
       "\n",
       "#sk-container-id-1 input.sk-hidden--visually {\n",
       "  border: 0;\n",
       "  clip: rect(1px 1px 1px 1px);\n",
       "  clip: rect(1px, 1px, 1px, 1px);\n",
       "  height: 1px;\n",
       "  margin: -1px;\n",
       "  overflow: hidden;\n",
       "  padding: 0;\n",
       "  position: absolute;\n",
       "  width: 1px;\n",
       "}\n",
       "\n",
       "#sk-container-id-1 div.sk-dashed-wrapped {\n",
       "  border: 1px dashed var(--sklearn-color-line);\n",
       "  margin: 0 0.4em 0.5em 0.4em;\n",
       "  box-sizing: border-box;\n",
       "  padding-bottom: 0.4em;\n",
       "  background-color: var(--sklearn-color-background);\n",
       "}\n",
       "\n",
       "#sk-container-id-1 div.sk-container {\n",
       "  /* jupyter's `normalize.less` sets `[hidden] { display: none; }`\n",
       "     but bootstrap.min.css set `[hidden] { display: none !important; }`\n",
       "     so we also need the `!important` here to be able to override the\n",
       "     default hidden behavior on the sphinx rendered scikit-learn.org.\n",
       "     See: https://github.com/scikit-learn/scikit-learn/issues/21755 */\n",
       "  display: inline-block !important;\n",
       "  position: relative;\n",
       "}\n",
       "\n",
       "#sk-container-id-1 div.sk-text-repr-fallback {\n",
       "  display: none;\n",
       "}\n",
       "\n",
       "div.sk-parallel-item,\n",
       "div.sk-serial,\n",
       "div.sk-item {\n",
       "  /* draw centered vertical line to link estimators */\n",
       "  background-image: linear-gradient(var(--sklearn-color-text-on-default-background), var(--sklearn-color-text-on-default-background));\n",
       "  background-size: 2px 100%;\n",
       "  background-repeat: no-repeat;\n",
       "  background-position: center center;\n",
       "}\n",
       "\n",
       "/* Parallel-specific style estimator block */\n",
       "\n",
       "#sk-container-id-1 div.sk-parallel-item::after {\n",
       "  content: \"\";\n",
       "  width: 100%;\n",
       "  border-bottom: 2px solid var(--sklearn-color-text-on-default-background);\n",
       "  flex-grow: 1;\n",
       "}\n",
       "\n",
       "#sk-container-id-1 div.sk-parallel {\n",
       "  display: flex;\n",
       "  align-items: stretch;\n",
       "  justify-content: center;\n",
       "  background-color: var(--sklearn-color-background);\n",
       "  position: relative;\n",
       "}\n",
       "\n",
       "#sk-container-id-1 div.sk-parallel-item {\n",
       "  display: flex;\n",
       "  flex-direction: column;\n",
       "}\n",
       "\n",
       "#sk-container-id-1 div.sk-parallel-item:first-child::after {\n",
       "  align-self: flex-end;\n",
       "  width: 50%;\n",
       "}\n",
       "\n",
       "#sk-container-id-1 div.sk-parallel-item:last-child::after {\n",
       "  align-self: flex-start;\n",
       "  width: 50%;\n",
       "}\n",
       "\n",
       "#sk-container-id-1 div.sk-parallel-item:only-child::after {\n",
       "  width: 0;\n",
       "}\n",
       "\n",
       "/* Serial-specific style estimator block */\n",
       "\n",
       "#sk-container-id-1 div.sk-serial {\n",
       "  display: flex;\n",
       "  flex-direction: column;\n",
       "  align-items: center;\n",
       "  background-color: var(--sklearn-color-background);\n",
       "  padding-right: 1em;\n",
       "  padding-left: 1em;\n",
       "}\n",
       "\n",
       "\n",
       "/* Toggleable style: style used for estimator/Pipeline/ColumnTransformer box that is\n",
       "clickable and can be expanded/collapsed.\n",
       "- Pipeline and ColumnTransformer use this feature and define the default style\n",
       "- Estimators will overwrite some part of the style using the `sk-estimator` class\n",
       "*/\n",
       "\n",
       "/* Pipeline and ColumnTransformer style (default) */\n",
       "\n",
       "#sk-container-id-1 div.sk-toggleable {\n",
       "  /* Default theme specific background. It is overwritten whether we have a\n",
       "  specific estimator or a Pipeline/ColumnTransformer */\n",
       "  background-color: var(--sklearn-color-background);\n",
       "}\n",
       "\n",
       "/* Toggleable label */\n",
       "#sk-container-id-1 label.sk-toggleable__label {\n",
       "  cursor: pointer;\n",
       "  display: block;\n",
       "  width: 100%;\n",
       "  margin-bottom: 0;\n",
       "  padding: 0.5em;\n",
       "  box-sizing: border-box;\n",
       "  text-align: center;\n",
       "}\n",
       "\n",
       "#sk-container-id-1 label.sk-toggleable__label-arrow:before {\n",
       "  /* Arrow on the left of the label */\n",
       "  content: \"▸\";\n",
       "  float: left;\n",
       "  margin-right: 0.25em;\n",
       "  color: var(--sklearn-color-icon);\n",
       "}\n",
       "\n",
       "#sk-container-id-1 label.sk-toggleable__label-arrow:hover:before {\n",
       "  color: var(--sklearn-color-text);\n",
       "}\n",
       "\n",
       "/* Toggleable content - dropdown */\n",
       "\n",
       "#sk-container-id-1 div.sk-toggleable__content {\n",
       "  max-height: 0;\n",
       "  max-width: 0;\n",
       "  overflow: hidden;\n",
       "  text-align: left;\n",
       "  /* unfitted */\n",
       "  background-color: var(--sklearn-color-unfitted-level-0);\n",
       "}\n",
       "\n",
       "#sk-container-id-1 div.sk-toggleable__content.fitted {\n",
       "  /* fitted */\n",
       "  background-color: var(--sklearn-color-fitted-level-0);\n",
       "}\n",
       "\n",
       "#sk-container-id-1 div.sk-toggleable__content pre {\n",
       "  margin: 0.2em;\n",
       "  border-radius: 0.25em;\n",
       "  color: var(--sklearn-color-text);\n",
       "  /* unfitted */\n",
       "  background-color: var(--sklearn-color-unfitted-level-0);\n",
       "}\n",
       "\n",
       "#sk-container-id-1 div.sk-toggleable__content.fitted pre {\n",
       "  /* unfitted */\n",
       "  background-color: var(--sklearn-color-fitted-level-0);\n",
       "}\n",
       "\n",
       "#sk-container-id-1 input.sk-toggleable__control:checked~div.sk-toggleable__content {\n",
       "  /* Expand drop-down */\n",
       "  max-height: 200px;\n",
       "  max-width: 100%;\n",
       "  overflow: auto;\n",
       "}\n",
       "\n",
       "#sk-container-id-1 input.sk-toggleable__control:checked~label.sk-toggleable__label-arrow:before {\n",
       "  content: \"▾\";\n",
       "}\n",
       "\n",
       "/* Pipeline/ColumnTransformer-specific style */\n",
       "\n",
       "#sk-container-id-1 div.sk-label input.sk-toggleable__control:checked~label.sk-toggleable__label {\n",
       "  color: var(--sklearn-color-text);\n",
       "  background-color: var(--sklearn-color-unfitted-level-2);\n",
       "}\n",
       "\n",
       "#sk-container-id-1 div.sk-label.fitted input.sk-toggleable__control:checked~label.sk-toggleable__label {\n",
       "  background-color: var(--sklearn-color-fitted-level-2);\n",
       "}\n",
       "\n",
       "/* Estimator-specific style */\n",
       "\n",
       "/* Colorize estimator box */\n",
       "#sk-container-id-1 div.sk-estimator input.sk-toggleable__control:checked~label.sk-toggleable__label {\n",
       "  /* unfitted */\n",
       "  background-color: var(--sklearn-color-unfitted-level-2);\n",
       "}\n",
       "\n",
       "#sk-container-id-1 div.sk-estimator.fitted input.sk-toggleable__control:checked~label.sk-toggleable__label {\n",
       "  /* fitted */\n",
       "  background-color: var(--sklearn-color-fitted-level-2);\n",
       "}\n",
       "\n",
       "#sk-container-id-1 div.sk-label label.sk-toggleable__label,\n",
       "#sk-container-id-1 div.sk-label label {\n",
       "  /* The background is the default theme color */\n",
       "  color: var(--sklearn-color-text-on-default-background);\n",
       "}\n",
       "\n",
       "/* On hover, darken the color of the background */\n",
       "#sk-container-id-1 div.sk-label:hover label.sk-toggleable__label {\n",
       "  color: var(--sklearn-color-text);\n",
       "  background-color: var(--sklearn-color-unfitted-level-2);\n",
       "}\n",
       "\n",
       "/* Label box, darken color on hover, fitted */\n",
       "#sk-container-id-1 div.sk-label.fitted:hover label.sk-toggleable__label.fitted {\n",
       "  color: var(--sklearn-color-text);\n",
       "  background-color: var(--sklearn-color-fitted-level-2);\n",
       "}\n",
       "\n",
       "/* Estimator label */\n",
       "\n",
       "#sk-container-id-1 div.sk-label label {\n",
       "  font-family: monospace;\n",
       "  font-weight: bold;\n",
       "  display: inline-block;\n",
       "  line-height: 1.2em;\n",
       "}\n",
       "\n",
       "#sk-container-id-1 div.sk-label-container {\n",
       "  text-align: center;\n",
       "}\n",
       "\n",
       "/* Estimator-specific */\n",
       "#sk-container-id-1 div.sk-estimator {\n",
       "  font-family: monospace;\n",
       "  border: 1px dotted var(--sklearn-color-border-box);\n",
       "  border-radius: 0.25em;\n",
       "  box-sizing: border-box;\n",
       "  margin-bottom: 0.5em;\n",
       "  /* unfitted */\n",
       "  background-color: var(--sklearn-color-unfitted-level-0);\n",
       "}\n",
       "\n",
       "#sk-container-id-1 div.sk-estimator.fitted {\n",
       "  /* fitted */\n",
       "  background-color: var(--sklearn-color-fitted-level-0);\n",
       "}\n",
       "\n",
       "/* on hover */\n",
       "#sk-container-id-1 div.sk-estimator:hover {\n",
       "  /* unfitted */\n",
       "  background-color: var(--sklearn-color-unfitted-level-2);\n",
       "}\n",
       "\n",
       "#sk-container-id-1 div.sk-estimator.fitted:hover {\n",
       "  /* fitted */\n",
       "  background-color: var(--sklearn-color-fitted-level-2);\n",
       "}\n",
       "\n",
       "/* Specification for estimator info (e.g. \"i\" and \"?\") */\n",
       "\n",
       "/* Common style for \"i\" and \"?\" */\n",
       "\n",
       ".sk-estimator-doc-link,\n",
       "a:link.sk-estimator-doc-link,\n",
       "a:visited.sk-estimator-doc-link {\n",
       "  float: right;\n",
       "  font-size: smaller;\n",
       "  line-height: 1em;\n",
       "  font-family: monospace;\n",
       "  background-color: var(--sklearn-color-background);\n",
       "  border-radius: 1em;\n",
       "  height: 1em;\n",
       "  width: 1em;\n",
       "  text-decoration: none !important;\n",
       "  margin-left: 1ex;\n",
       "  /* unfitted */\n",
       "  border: var(--sklearn-color-unfitted-level-1) 1pt solid;\n",
       "  color: var(--sklearn-color-unfitted-level-1);\n",
       "}\n",
       "\n",
       ".sk-estimator-doc-link.fitted,\n",
       "a:link.sk-estimator-doc-link.fitted,\n",
       "a:visited.sk-estimator-doc-link.fitted {\n",
       "  /* fitted */\n",
       "  border: var(--sklearn-color-fitted-level-1) 1pt solid;\n",
       "  color: var(--sklearn-color-fitted-level-1);\n",
       "}\n",
       "\n",
       "/* On hover */\n",
       "div.sk-estimator:hover .sk-estimator-doc-link:hover,\n",
       ".sk-estimator-doc-link:hover,\n",
       "div.sk-label-container:hover .sk-estimator-doc-link:hover,\n",
       ".sk-estimator-doc-link:hover {\n",
       "  /* unfitted */\n",
       "  background-color: var(--sklearn-color-unfitted-level-3);\n",
       "  color: var(--sklearn-color-background);\n",
       "  text-decoration: none;\n",
       "}\n",
       "\n",
       "div.sk-estimator.fitted:hover .sk-estimator-doc-link.fitted:hover,\n",
       ".sk-estimator-doc-link.fitted:hover,\n",
       "div.sk-label-container:hover .sk-estimator-doc-link.fitted:hover,\n",
       ".sk-estimator-doc-link.fitted:hover {\n",
       "  /* fitted */\n",
       "  background-color: var(--sklearn-color-fitted-level-3);\n",
       "  color: var(--sklearn-color-background);\n",
       "  text-decoration: none;\n",
       "}\n",
       "\n",
       "/* Span, style for the box shown on hovering the info icon */\n",
       ".sk-estimator-doc-link span {\n",
       "  display: none;\n",
       "  z-index: 9999;\n",
       "  position: relative;\n",
       "  font-weight: normal;\n",
       "  right: .2ex;\n",
       "  padding: .5ex;\n",
       "  margin: .5ex;\n",
       "  width: min-content;\n",
       "  min-width: 20ex;\n",
       "  max-width: 50ex;\n",
       "  color: var(--sklearn-color-text);\n",
       "  box-shadow: 2pt 2pt 4pt #999;\n",
       "  /* unfitted */\n",
       "  background: var(--sklearn-color-unfitted-level-0);\n",
       "  border: .5pt solid var(--sklearn-color-unfitted-level-3);\n",
       "}\n",
       "\n",
       ".sk-estimator-doc-link.fitted span {\n",
       "  /* fitted */\n",
       "  background: var(--sklearn-color-fitted-level-0);\n",
       "  border: var(--sklearn-color-fitted-level-3);\n",
       "}\n",
       "\n",
       ".sk-estimator-doc-link:hover span {\n",
       "  display: block;\n",
       "}\n",
       "\n",
       "/* \"?\"-specific style due to the `<a>` HTML tag */\n",
       "\n",
       "#sk-container-id-1 a.estimator_doc_link {\n",
       "  float: right;\n",
       "  font-size: 1rem;\n",
       "  line-height: 1em;\n",
       "  font-family: monospace;\n",
       "  background-color: var(--sklearn-color-background);\n",
       "  border-radius: 1rem;\n",
       "  height: 1rem;\n",
       "  width: 1rem;\n",
       "  text-decoration: none;\n",
       "  /* unfitted */\n",
       "  color: var(--sklearn-color-unfitted-level-1);\n",
       "  border: var(--sklearn-color-unfitted-level-1) 1pt solid;\n",
       "}\n",
       "\n",
       "#sk-container-id-1 a.estimator_doc_link.fitted {\n",
       "  /* fitted */\n",
       "  border: var(--sklearn-color-fitted-level-1) 1pt solid;\n",
       "  color: var(--sklearn-color-fitted-level-1);\n",
       "}\n",
       "\n",
       "/* On hover */\n",
       "#sk-container-id-1 a.estimator_doc_link:hover {\n",
       "  /* unfitted */\n",
       "  background-color: var(--sklearn-color-unfitted-level-3);\n",
       "  color: var(--sklearn-color-background);\n",
       "  text-decoration: none;\n",
       "}\n",
       "\n",
       "#sk-container-id-1 a.estimator_doc_link.fitted:hover {\n",
       "  /* fitted */\n",
       "  background-color: var(--sklearn-color-fitted-level-3);\n",
       "}\n",
       "</style><div id=\"sk-container-id-1\" class=\"sk-top-container\"><div class=\"sk-text-repr-fallback\"><pre>LGBMClassifier(learning_rate=0.1245928917280467, max_depth=4,\n",
       "               min_child_samples=30, min_child_weight=5.544840854157574e-06,\n",
       "               min_split_gain=2.52381000405986e-06, n_estimators=2455,\n",
       "               num_leaves=6, objective=&#x27;binary&#x27;,\n",
       "               reg_alpha=3.629909607712911e-05,\n",
       "               reg_lambda=3.671749546766942e-05, scale_pos_weight=27,\n",
       "               subsample_for_bin=20000, verbosity=-1)</pre><b>In a Jupyter environment, please rerun this cell to show the HTML representation or trust the notebook. <br />On GitHub, the HTML representation is unable to render, please try loading this page with nbviewer.org.</b></div><div class=\"sk-container\" hidden><div class=\"sk-item\"><div class=\"sk-estimator fitted sk-toggleable\"><input class=\"sk-toggleable__control sk-hidden--visually\" id=\"sk-estimator-id-1\" type=\"checkbox\" checked><label for=\"sk-estimator-id-1\" class=\"sk-toggleable__label fitted sk-toggleable__label-arrow fitted\">&nbsp;LGBMClassifier<span class=\"sk-estimator-doc-link fitted\">i<span>Fitted</span></span></label><div class=\"sk-toggleable__content fitted\"><pre>LGBMClassifier(learning_rate=0.1245928917280467, max_depth=4,\n",
       "               min_child_samples=30, min_child_weight=5.544840854157574e-06,\n",
       "               min_split_gain=2.52381000405986e-06, n_estimators=2455,\n",
       "               num_leaves=6, objective=&#x27;binary&#x27;,\n",
       "               reg_alpha=3.629909607712911e-05,\n",
       "               reg_lambda=3.671749546766942e-05, scale_pos_weight=27,\n",
       "               subsample_for_bin=20000, verbosity=-1)</pre></div> </div></div></div></div>"
      ],
      "text/plain": [
       "LGBMClassifier(learning_rate=0.1245928917280467, max_depth=4,\n",
       "               min_child_samples=30, min_child_weight=5.544840854157574e-06,\n",
       "               min_split_gain=2.52381000405986e-06, n_estimators=2455,\n",
       "               num_leaves=6, objective='binary',\n",
       "               reg_alpha=3.629909607712911e-05,\n",
       "               reg_lambda=3.671749546766942e-05, scale_pos_weight=27,\n",
       "               subsample_for_bin=20000, verbosity=-1)"
      ]
     },
     "execution_count": 3,
     "metadata": {},
     "output_type": "execute_result"
    }
   ],
   "source": [
    "from lightgbm import LGBMClassifier\n",
    "from sklearn.model_selection import train_test_split\n",
    "\n",
    "# model = LGBMClassifier(**best_params)\n",
    "\n",
    "model = LGBMClassifier(\n",
    "    verbosity=-1,\n",
    "    boosting_type=\"gbdt\",\n",
    "    max_depth=4,\n",
    "    min_child_samples=30,\n",
    "    learning_rate=0.1245928917280467,\n",
    "    num_leaves=6,\n",
    "    n_estimators=2455,\n",
    "    subsample_for_bin=20000,\n",
    "    subsample=1.0,\n",
    "    objective=\"binary\",\n",
    "    scale_pos_weight=27,\n",
    "    min_split_gain=2.52381000405986e-06,\n",
    "    min_child_weight=5.544840854157574e-06,\n",
    "    reg_alpha=3.629909607712911e-05,\n",
    "    reg_lambda=3.671749546766942e-05,\n",
    ")\n",
    "\n",
    "X_train, X_test, y_train, y_test = train_test_split(\n",
    "    tfidf_scores, labels, test_size=0.333, stratify=labels, random_state=7\n",
    ")\n",
    "\n",
    "model.fit(X_train, y_train)"
   ]
  },
  {
   "cell_type": "code",
   "execution_count": 4,
   "metadata": {},
   "outputs": [],
   "source": [
    "from eppi_text_classification.predict import (\n",
    "    get_threshold,\n",
    "    predict_probabilities,\n",
    "    threshold_predict,\n",
    ")\n",
    "\n",
    "threshold = get_threshold(model, X_test, y_test, target_tpr=1)\n",
    "\n",
    "y_test_pred = threshold_predict(model, X_test, threshold)\n",
    "y_train_pred = threshold_predict(model, X_train, threshold)"
   ]
  },
  {
   "cell_type": "code",
   "execution_count": 5,
   "metadata": {},
   "outputs": [
    {
     "data": {
      "image/png": "[encoded data removed]",
      "text/plain": [
       "<Figure size 3600x1500 with 4 Axes>"
      ]
     },
     "metadata": {},
     "output_type": "display_data"
    }
   ],
   "source": [
    "from eppi_text_classification.plots import binary_train_valid_confusion_plot\n",
    "\n",
    "binary_train_valid_confusion_plot(\n",
    "    y_train,\n",
    "    y_train_pred,\n",
    "    y_test,\n",
    "    y_test_pred,\n",
    ")"
   ]
  },
  {
   "cell_type": "code",
   "execution_count": 8,
   "metadata": {},
   "outputs": [
    {
     "data": {
      "application/vnd.plotly.v1+json": {
       "config": {
        "plotlyServerURL": "https://plot.ly"
       },
       "data": [
        {
         "colorscale": [
          [
           0,
           "rgb(247,251,255)"
          ],
          [
           0.125,
           "rgb(222,235,247)"
          ],
          [
           0.25,
           "rgb(198,219,239)"
          ],
          [
           0.375,
           "rgb(158,202,225)"
          ],
          [
           0.5,
           "rgb(107,174,214)"
          ],
          [
           0.625,
           "rgb(66,146,198)"
          ],
          [
           0.75,
           "rgb(33,113,181)"
          ],
          [
           0.875,
           "rgb(8,81,156)"
          ],
          [
           1,
           "rgb(8,48,107)"
          ]
         ],
         "showscale": true,
         "type": "heatmap",
         "x": [
          "0",
          "1"
         ],
         "y": [
          "0",
          "1"
         ],
         "z": [
          [
           599,
           204
          ],
          [
           0,
           29
          ]
         ]
        }
       ],
       "layout": {
        "annotations": [
         {
          "font": {
           "color": "white"
          },
          "showarrow": false,
          "text": "599",
          "x": "0",
          "xref": "x",
          "y": "0",
          "yref": "y"
         },
         {
          "font": {
           "color": " dark blue"
          },
          "showarrow": false,
          "text": "204",
          "x": "1",
          "xref": "x",
          "y": "0",
          "yref": "y"
         },
         {
          "font": {
           "color": " dark blue"
          },
          "showarrow": false,
          "text": "0",
          "x": "0",
          "xref": "x",
          "y": "1",
          "yref": "y"
         },
         {
          "font": {
           "color": " dark blue"
          },
          "showarrow": false,
          "text": "29",
          "x": "1",
          "xref": "x",
          "y": "1",
          "yref": "y"
         }
        ],
        "autosize": false,
        "height": 500,
        "shapes": [
         {
          "line": {
           "color": "black",
           "width": 2
          },
          "type": "rect",
          "x0": -0.5,
          "x1": 1.5,
          "xref": "x",
          "y0": -0.5,
          "y1": 1.5,
          "yref": "y"
         },
         {
          "line": {
           "color": "black",
           "width": 1.5
          },
          "type": "line",
          "x0": -0.5,
          "x1": 1.5,
          "xref": "x",
          "y0": 0.5,
          "y1": 0.5,
          "yref": "y"
         },
         {
          "line": {
           "color": "black",
           "width": 1.5
          },
          "type": "line",
          "x0": 0.5,
          "x1": 0.5,
          "xref": "x",
          "y0": -0.5,
          "y1": 1.5,
          "yref": "y"
         }
        ],
        "template": {
         "data": {
          "bar": [
           {
            "error_x": {
             "color": "#2a3f5f"
            },
            "error_y": {
             "color": "#2a3f5f"
            },
            "marker": {
             "line": {
              "color": "#E5ECF6",
              "width": 0.5
             },
             "pattern": {
              "fillmode": "overlay",
              "size": 10,
              "solidity": 0.2
             }
            },
            "type": "bar"
           }
          ],
          "barpolar": [
           {
            "marker": {
             "line": {
              "color": "#E5ECF6",
              "width": 0.5
             },
             "pattern": {
              "fillmode": "overlay",
              "size": 10,
              "solidity": 0.2
             }
            },
            "type": "barpolar"
           }
          ],
          "carpet": [
           {
            "aaxis": {
             "endlinecolor": "#2a3f5f",
             "gridcolor": "white",
             "linecolor": "white",
             "minorgridcolor": "white",
             "startlinecolor": "#2a3f5f"
            },
            "baxis": {
             "endlinecolor": "#2a3f5f",
             "gridcolor": "white",
             "linecolor": "white",
             "minorgridcolor": "white",
             "startlinecolor": "#2a3f5f"
            },
            "type": "carpet"
           }
          ],
          "choropleth": [
           {
            "colorbar": {
             "outlinewidth": 0,
             "ticks": ""
            },
            "type": "choropleth"
           }
          ],
          "contour": [
           {
            "colorbar": {
             "outlinewidth": 0,
             "ticks": ""
            },
            "colorscale": [
             [
              0,
              "#0d0887"
             ],
             [
              0.1111111111111111,
              "#46039f"
             ],
             [
              0.2222222222222222,
              "#7201a8"
             ],
             [
              0.3333333333333333,
              "#9c179e"
             ],
             [
              0.4444444444444444,
              "#bd3786"
             ],
             [
              0.5555555555555556,
              "#d8576b"
             ],
             [
              0.6666666666666666,
              "#ed7953"
             ],
             [
              0.7777777777777778,
              "#fb9f3a"
             ],
             [
              0.8888888888888888,
              "#fdca26"
             ],
             [
              1,
              "#f0f921"
             ]
            ],
            "type": "contour"
           }
          ],
          "contourcarpet": [
           {
            "colorbar": {
             "outlinewidth": 0,
             "ticks": ""
            },
            "type": "contourcarpet"
           }
          ],
          "heatmap": [
           {
            "colorbar": {
             "outlinewidth": 0,
             "ticks": ""
            },
            "colorscale": [
             [
              0,
              "#0d0887"
             ],
             [
              0.1111111111111111,
              "#46039f"
             ],
             [
              0.2222222222222222,
              "#7201a8"
             ],
             [
              0.3333333333333333,
              "#9c179e"
             ],
             [
              0.4444444444444444,
              "#bd3786"
             ],
             [
              0.5555555555555556,
              "#d8576b"
             ],
             [
              0.6666666666666666,
              "#ed7953"
             ],
             [
              0.7777777777777778,
              "#fb9f3a"
             ],
             [
              0.8888888888888888,
              "#fdca26"
             ],
             [
              1,
              "#f0f921"
             ]
            ],
            "type": "heatmap"
           }
          ],
          "heatmapgl": [
           {
            "colorbar": {
             "outlinewidth": 0,
             "ticks": ""
            },
            "colorscale": [
             [
              0,
              "#0d0887"
             ],
             [
              0.1111111111111111,
              "#46039f"
             ],
             [
              0.2222222222222222,
              "#7201a8"
             ],
             [
              0.3333333333333333,
              "#9c179e"
             ],
             [
              0.4444444444444444,
              "#bd3786"
             ],
             [
              0.5555555555555556,
              "#d8576b"
             ],
             [
              0.6666666666666666,
              "#ed7953"
             ],
             [
              0.7777777777777778,
              "#fb9f3a"
             ],
             [
              0.8888888888888888,
              "#fdca26"
             ],
             [
              1,
              "#f0f921"
             ]
            ],
            "type": "heatmapgl"
           }
          ],
          "histogram": [
           {
            "marker": {
             "pattern": {
              "fillmode": "overlay",
              "size": 10,
              "solidity": 0.2
             }
            },
            "type": "histogram"
           }
          ],
          "histogram2d": [
           {
            "colorbar": {
             "outlinewidth": 0,
             "ticks": ""
            },
            "colorscale": [
             [
              0,
              "#0d0887"
             ],
             [
              0.1111111111111111,
              "#46039f"
             ],
             [
              0.2222222222222222,
              "#7201a8"
             ],
             [
              0.3333333333333333,
              "#9c179e"
             ],
             [
              0.4444444444444444,
              "#bd3786"
             ],
             [
              0.5555555555555556,
              "#d8576b"
             ],
             [
              0.6666666666666666,
              "#ed7953"
             ],
             [
              0.7777777777777778,
              "#fb9f3a"
             ],
             [
              0.8888888888888888,
              "#fdca26"
             ],
             [
              1,
              "#f0f921"
             ]
            ],
            "type": "histogram2d"
           }
          ],
          "histogram2dcontour": [
           {
            "colorbar": {
             "outlinewidth": 0,
             "ticks": ""
            },
            "colorscale": [
             [
              0,
              "#0d0887"
             ],
             [
              0.1111111111111111,
              "#46039f"
             ],
             [
              0.2222222222222222,
              "#7201a8"
             ],
             [
              0.3333333333333333,
              "#9c179e"
             ],
             [
              0.4444444444444444,
              "#bd3786"
             ],
             [
              0.5555555555555556,
              "#d8576b"
             ],
             [
              0.6666666666666666,
              "#ed7953"
             ],
             [
              0.7777777777777778,
              "#fb9f3a"
             ],
             [
              0.8888888888888888,
              "#fdca26"
             ],
             [
              1,
              "#f0f921"
             ]
            ],
            "type": "histogram2dcontour"
           }
          ],
          "mesh3d": [
           {
            "colorbar": {
             "outlinewidth": 0,
             "ticks": ""
            },
            "type": "mesh3d"
           }
          ],
          "parcoords": [
           {
            "line": {
             "colorbar": {
              "outlinewidth": 0,
              "ticks": ""
             }
            },
            "type": "parcoords"
           }
          ],
          "pie": [
           {
            "automargin": true,
            "type": "pie"
           }
          ],
          "scatter": [
           {
            "fillpattern": {
             "fillmode": "overlay",
             "size": 10,
             "solidity": 0.2
            },
            "type": "scatter"
           }
          ],
          "scatter3d": [
           {
            "line": {
             "colorbar": {
              "outlinewidth": 0,
              "ticks": ""
             }
            },
            "marker": {
             "colorbar": {
              "outlinewidth": 0,
              "ticks": ""
             }
            },
            "type": "scatter3d"
           }
          ],
          "scattercarpet": [
           {
            "marker": {
             "colorbar": {
              "outlinewidth": 0,
              "ticks": ""
             }
            },
            "type": "scattercarpet"
           }
          ],
          "scattergeo": [
           {
            "marker": {
             "colorbar": {
              "outlinewidth": 0,
              "ticks": ""
             }
            },
            "type": "scattergeo"
           }
          ],
          "scattergl": [
           {
            "marker": {
             "colorbar": {
              "outlinewidth": 0,
              "ticks": ""
             }
            },
            "type": "scattergl"
           }
          ],
          "scattermapbox": [
           {
            "marker": {
             "colorbar": {
              "outlinewidth": 0,
              "ticks": ""
             }
            },
            "type": "scattermapbox"
           }
          ],
          "scatterpolar": [
           {
            "marker": {
             "colorbar": {
              "outlinewidth": 0,
              "ticks": ""
             }
            },
            "type": "scatterpolar"
           }
          ],
          "scatterpolargl": [
           {
            "marker": {
             "colorbar": {
              "outlinewidth": 0,
              "ticks": ""
             }
            },
            "type": "scatterpolargl"
           }
          ],
          "scatterternary": [
           {
            "marker": {
             "colorbar": {
              "outlinewidth": 0,
              "ticks": ""
             }
            },
            "type": "scatterternary"
           }
          ],
          "surface": [
           {
            "colorbar": {
             "outlinewidth": 0,
             "ticks": ""
            },
            "colorscale": [
             [
              0,
              "#0d0887"
             ],
             [
              0.1111111111111111,
              "#46039f"
             ],
             [
              0.2222222222222222,
              "#7201a8"
             ],
             [
              0.3333333333333333,
              "#9c179e"
             ],
             [
              0.4444444444444444,
              "#bd3786"
             ],
             [
              0.5555555555555556,
              "#d8576b"
             ],
             [
              0.6666666666666666,
              "#ed7953"
             ],
             [
              0.7777777777777778,
              "#fb9f3a"
             ],
             [
              0.8888888888888888,
              "#fdca26"
             ],
             [
              1,
              "#f0f921"
             ]
            ],
            "type": "surface"
           }
          ],
          "table": [
           {
            "cells": {
             "fill": {
              "color": "#EBF0F8"
             },
             "line": {
              "color": "white"
             }
            },
            "header": {
             "fill": {
              "color": "#C8D4E3"
             },
             "line": {
              "color": "white"
             }
            },
            "type": "table"
           }
          ]
         },
         "layout": {
          "annotationdefaults": {
           "arrowcolor": "#2a3f5f",
           "arrowhead": 0,
           "arrowwidth": 1
          },
          "autotypenumbers": "strict",
          "coloraxis": {
           "colorbar": {
            "outlinewidth": 0,
            "ticks": ""
           }
          },
          "colorscale": {
           "diverging": [
            [
             0,
             "#8e0152"
            ],
            [
             0.1,
             "#c51b7d"
            ],
            [
             0.2,
             "#de77ae"
            ],
            [
             0.3,
             "#f1b6da"
            ],
            [
             0.4,
             "#fde0ef"
            ],
            [
             0.5,
             "#f7f7f7"
            ],
            [
             0.6,
             "#e6f5d0"
            ],
            [
             0.7,
             "#b8e186"
            ],
            [
             0.8,
             "#7fbc41"
            ],
            [
             0.9,
             "#4d9221"
            ],
            [
             1,
             "#276419"
            ]
           ],
           "sequential": [
            [
             0,
             "#0d0887"
            ],
            [
             0.1111111111111111,
             "#46039f"
            ],
            [
             0.2222222222222222,
             "#7201a8"
            ],
            [
             0.3333333333333333,
             "#9c179e"
            ],
            [
             0.4444444444444444,
             "#bd3786"
            ],
            [
             0.5555555555555556,
             "#d8576b"
            ],
            [
             0.6666666666666666,
             "#ed7953"
            ],
            [
             0.7777777777777778,
             "#fb9f3a"
            ],
            [
             0.8888888888888888,
             "#fdca26"
            ],
            [
             1,
             "#f0f921"
            ]
           ],
           "sequentialminus": [
            [
             0,
             "#0d0887"
            ],
            [
             0.1111111111111111,
             "#46039f"
            ],
            [
             0.2222222222222222,
             "#7201a8"
            ],
            [
             0.3333333333333333,
             "#9c179e"
            ],
            [
             0.4444444444444444,
             "#bd3786"
            ],
            [
             0.5555555555555556,
             "#d8576b"
            ],
            [
             0.6666666666666666,
             "#ed7953"
            ],
            [
             0.7777777777777778,
             "#fb9f3a"
            ],
            [
             0.8888888888888888,
             "#fdca26"
            ],
            [
             1,
             "#f0f921"
            ]
           ]
          },
          "colorway": [
           "#636efa",
           "#EF553B",
           "#00cc96",
           "#ab63fa",
           "#FFA15A",
           "#19d3f3",
           "#FF6692",
           "#B6E880",
           "#FF97FF",
           "#FECB52"
          ],
          "font": {
           "color": "#2a3f5f"
          },
          "geo": {
           "bgcolor": "white",
           "lakecolor": "white",
           "landcolor": "#E5ECF6",
           "showlakes": true,
           "showland": true,
           "subunitcolor": "white"
          },
          "hoverlabel": {
           "align": "left"
          },
          "hovermode": "closest",
          "mapbox": {
           "style": "light"
          },
          "paper_bgcolor": "white",
          "plot_bgcolor": "#E5ECF6",
          "polar": {
           "angularaxis": {
            "gridcolor": "white",
            "linecolor": "white",
            "ticks": ""
           },
           "bgcolor": "#E5ECF6",
           "radialaxis": {
            "gridcolor": "white",
            "linecolor": "white",
            "ticks": ""
           }
          },
          "scene": {
           "xaxis": {
            "backgroundcolor": "#E5ECF6",
            "gridcolor": "white",
            "gridwidth": 2,
            "linecolor": "white",
            "showbackground": true,
            "ticks": "",
            "zerolinecolor": "white"
           },
           "yaxis": {
            "backgroundcolor": "#E5ECF6",
            "gridcolor": "white",
            "gridwidth": 2,
            "linecolor": "white",
            "showbackground": true,
            "ticks": "",
            "zerolinecolor": "white"
           },
           "zaxis": {
            "backgroundcolor": "#E5ECF6",
            "gridcolor": "white",
            "gridwidth": 2,
            "linecolor": "white",
            "showbackground": true,
            "ticks": "",
            "zerolinecolor": "white"
           }
          },
          "shapedefaults": {
           "line": {
            "color": "#2a3f5f"
           }
          },
          "ternary": {
           "aaxis": {
            "gridcolor": "white",
            "linecolor": "white",
            "ticks": ""
           },
           "baxis": {
            "gridcolor": "white",
            "linecolor": "white",
            "ticks": ""
           },
           "bgcolor": "#E5ECF6",
           "caxis": {
            "gridcolor": "white",
            "linecolor": "white",
            "ticks": ""
           }
          },
          "title": {
           "x": 0.05
          },
          "xaxis": {
           "automargin": true,
           "gridcolor": "white",
           "linecolor": "white",
           "ticks": "",
           "title": {
            "standoff": 15
           },
           "zerolinecolor": "white",
           "zerolinewidth": 2
          },
          "yaxis": {
           "automargin": true,
           "gridcolor": "white",
           "linecolor": "white",
           "ticks": "",
           "title": {
            "standoff": 15
           },
           "zerolinecolor": "white",
           "zerolinewidth": 2
          }
         }
        },
        "title": {
         "text": "Confusion Matrix",
         "x": 0.5
        },
        "width": 500,
        "xaxis": {
         "side": "bottom",
         "title": {
          "text": "Predicted Value"
         }
        },
        "yaxis": {
         "side": "left",
         "title": {
          "text": "True Value"
         }
        }
       }
      }
     },
     "metadata": {},
     "output_type": "display_data"
    }
   ],
   "source": [
    "import plotly.graph_objects as go\n",
    "\n",
    "fig = go.Figure(\n",
    "    data=go.Heatmap(\n",
    "        z=cm,\n",
    "        x=labels,\n",
    "        y=labels,\n",
    "        colorscale=\"Blues\",\n",
    "        showscale=True,  # Shows the color bar\n",
    "    )\n",
    ")\n",
    "\n",
    "\n",
    "def get_font_color(value, cm):\n",
    "    if value > cm.max() / 2:\n",
    "        return \"white\"\n",
    "    else:\n",
    "        return \" dark blue\"\n",
    "\n",
    "\n",
    "# Adding text annotations manually\n",
    "annotations = []\n",
    "for i, row in enumerate(cm):\n",
    "    for j, value in enumerate(row):\n",
    "        annotations.append(\n",
    "            go.layout.Annotation(\n",
    "                text=str(value),\n",
    "                x=labels[j],\n",
    "                y=labels[i],\n",
    "                xref=\"x1\",\n",
    "                yref=\"y1\",\n",
    "                font=dict(color=get_font_color(value, cm)),\n",
    "                showarrow=False,\n",
    "            )\n",
    "        )\n",
    "\n",
    "fig.update_layout(\n",
    "    annotations=annotations,\n",
    "    autosize=False,\n",
    "    width=500,\n",
    "    height=500,\n",
    "    title_text=\"Confusion Matrix\",\n",
    "    title_x=0.5,  # Centers the title\n",
    "    xaxis=dict(title=\"Predicted Value\", side=\"bottom\"),\n",
    "    yaxis=dict(title=\"True Value\", side=\"left\"),\n",
    ")\n",
    "\n",
    "\n",
    "fig.add_shape(\n",
    "    type=\"rect\",\n",
    "    xref=\"x\",  # Change to data reference for x-axis\n",
    "    yref=\"y\",  # Change to data reference for y-axis\n",
    "    x0=-0.5,  # Start at first x-axis category index\n",
    "    y0=-0.5,  # Start at first y-axis category index\n",
    "    x1=len(labels) - 0.5,  # End at last x-axis category index\n",
    "    y1=len(labels) - 0.5,  # End at last y-axis category index\n",
    "    line=dict(color=\"black\", width=2),\n",
    ")\n",
    "\n",
    "fig.add_shape(\n",
    "    type=\"line\",\n",
    "    xref=\"x\",\n",
    "    yref=\"y\",\n",
    "    x0=-0.5,\n",
    "    y0=0.5,\n",
    "    x1=len(labels) - 0.5,\n",
    "    y1=0.5,\n",
    "    line=dict(color=\"black\", width=1.5),\n",
    ")\n",
    "\n",
    "fig.add_shape(\n",
    "    type=\"line\",\n",
    "    xref=\"x\",\n",
    "    yref=\"y\",\n",
    "    x0=0.5,\n",
    "    y0=-0.5,\n",
    "    x1=0.5,\n",
    "    y1=1.5,\n",
    "    line=dict(color=\"black\", width=1.5),\n",
    ")\n",
    "\n",
    "\n",
    "fig.show()"
   ]
  },
  {
   "cell_type": "code",
   "execution_count": 10,
   "metadata": {},
   "outputs": [
    {
     "data": {
      "application/vnd.plotly.v1+json": {
       "config": {
        "plotlyServerURL": "https://plot.ly"
       },
       "data": [
        {
         "colorscale": [
          [
           0,
           "rgb(247,251,255)"
          ],
          [
           0.125,
           "rgb(222,235,247)"
          ],
          [
           0.25,
           "rgb(198,219,239)"
          ],
          [
           0.375,
           "rgb(158,202,225)"
          ],
          [
           0.5,
           "rgb(107,174,214)"
          ],
          [
           0.625,
           "rgb(66,146,198)"
          ],
          [
           0.75,
           "rgb(33,113,181)"
          ],
          [
           0.875,
           "rgb(8,81,156)"
          ],
          [
           1,
           "rgb(8,48,107)"
          ]
         ],
         "showscale": true,
         "type": "heatmap",
         "x": [
          "1",
          "0"
         ],
         "xaxis": "x",
         "y": [
          "0",
          "1"
         ],
         "yaxis": "y",
         "z": [
          [
           204,
           599
          ],
          [
           29,
           0
          ]
         ]
        },
        {
         "colorscale": [
          [
           0,
           "rgb(247,251,255)"
          ],
          [
           0.125,
           "rgb(222,235,247)"
          ],
          [
           0.25,
           "rgb(198,219,239)"
          ],
          [
           0.375,
           "rgb(158,202,225)"
          ],
          [
           0.5,
           "rgb(107,174,214)"
          ],
          [
           0.625,
           "rgb(66,146,198)"
          ],
          [
           0.75,
           "rgb(33,113,181)"
          ],
          [
           0.875,
           "rgb(8,81,156)"
          ],
          [
           1,
           "rgb(8,48,107)"
          ]
         ],
         "showscale": true,
         "type": "heatmap",
         "x": [
          "1",
          "0"
         ],
         "xaxis": "x2",
         "y": [
          "0",
          "1"
         ],
         "yaxis": "y2",
         "z": [
          [
           204,
           599
          ],
          [
           29,
           0
          ]
         ]
        }
       ],
       "layout": {
        "annotations": [
         {
          "font": {
           "size": 18
          },
          "showarrow": false,
          "text": "Training Matrix",
          "x": 0.225,
          "xanchor": "center",
          "xref": "paper",
          "y": 1.03,
          "yanchor": "bottom",
          "yref": "paper"
         },
         {
          "font": {
           "size": 18
          },
          "showarrow": false,
          "text": "Validation Matrix",
          "x": 0.775,
          "xanchor": "center",
          "xref": "paper",
          "y": 1.03,
          "yanchor": "bottom",
          "yref": "paper"
         },
         {
          "font": {
           "color": " dark blue"
          },
          "showarrow": false,
          "text": "204",
          "x": "0",
          "xref": "x",
          "y": "0",
          "yref": "y"
         },
         {
          "font": {
           "color": "white"
          },
          "showarrow": false,
          "text": "599",
          "x": "1",
          "xref": "x",
          "y": "0",
          "yref": "y"
         },
         {
          "font": {
           "color": " dark blue"
          },
          "showarrow": false,
          "text": "29",
          "x": "0",
          "xref": "x",
          "y": "1",
          "yref": "y"
         },
         {
          "font": {
           "color": " dark blue"
          },
          "showarrow": false,
          "text": "0",
          "x": "1",
          "xref": "x",
          "y": "1",
          "yref": "y"
         },
         {
          "font": {
           "color": " dark blue"
          },
          "showarrow": false,
          "text": "204",
          "x": "0",
          "xref": "x2",
          "y": "0",
          "yref": "y2"
         },
         {
          "font": {
           "color": "white"
          },
          "showarrow": false,
          "text": "599",
          "x": "1",
          "xref": "x2",
          "y": "0",
          "yref": "y2"
         },
         {
          "font": {
           "color": " dark blue"
          },
          "showarrow": false,
          "text": "29",
          "x": "0",
          "xref": "x2",
          "y": "1",
          "yref": "y2"
         },
         {
          "font": {
           "color": " dark blue"
          },
          "showarrow": false,
          "text": "0",
          "x": "1",
          "xref": "x2",
          "y": "1",
          "yref": "y2"
         }
        ],
        "autosize": false,
        "height": 400,
        "shapes": [
         {
          "line": {
           "color": "black",
           "width": 2
          },
          "type": "rect",
          "x0": -0.5,
          "x1": 1.5,
          "xref": "x",
          "y0": -0.5,
          "y1": 1.5,
          "yref": "y"
         },
         {
          "line": {
           "color": "black",
           "width": 1.5
          },
          "type": "line",
          "x0": -0.5,
          "x1": 1.5,
          "xref": "x",
          "y0": 0.5,
          "y1": 0.5,
          "yref": "y"
         },
         {
          "line": {
           "color": "black",
           "width": 1.5
          },
          "type": "line",
          "x0": 0.5,
          "x1": 0.5,
          "xref": "x",
          "y0": -0.5,
          "y1": 1.5,
          "yref": "y"
         },
         {
          "line": {
           "color": "black",
           "width": 2
          },
          "type": "rect",
          "x0": -0.5,
          "x1": 1.5,
          "xref": "x2",
          "y0": -0.5,
          "y1": 1.5,
          "yref": "y2"
         },
         {
          "line": {
           "color": "black",
           "width": 1.5
          },
          "type": "line",
          "x0": -0.5,
          "x1": 1.5,
          "xref": "x2",
          "y0": 0.5,
          "y1": 0.5,
          "yref": "y2"
         },
         {
          "line": {
           "color": "black",
           "width": 1.5
          },
          "type": "line",
          "x0": 0.5,
          "x1": 0.5,
          "xref": "x2",
          "y0": -0.5,
          "y1": 1.5,
          "yref": "y2"
         }
        ],
        "template": {
         "data": {
          "bar": [
           {
            "error_x": {
             "color": "#2a3f5f"
            },
            "error_y": {
             "color": "#2a3f5f"
            },
            "marker": {
             "line": {
              "color": "#E5ECF6",
              "width": 0.5
             },
             "pattern": {
              "fillmode": "overlay",
              "size": 10,
              "solidity": 0.2
             }
            },
            "type": "bar"
           }
          ],
          "barpolar": [
           {
            "marker": {
             "line": {
              "color": "#E5ECF6",
              "width": 0.5
             },
             "pattern": {
              "fillmode": "overlay",
              "size": 10,
              "solidity": 0.2
             }
            },
            "type": "barpolar"
           }
          ],
          "carpet": [
           {
            "aaxis": {
             "endlinecolor": "#2a3f5f",
             "gridcolor": "white",
             "linecolor": "white",
             "minorgridcolor": "white",
             "startlinecolor": "#2a3f5f"
            },
            "baxis": {
             "endlinecolor": "#2a3f5f",
             "gridcolor": "white",
             "linecolor": "white",
             "minorgridcolor": "white",
             "startlinecolor": "#2a3f5f"
            },
            "type": "carpet"
           }
          ],
          "choropleth": [
           {
            "colorbar": {
             "outlinewidth": 0,
             "ticks": ""
            },
            "type": "choropleth"
           }
          ],
          "contour": [
           {
            "colorbar": {
             "outlinewidth": 0,
             "ticks": ""
            },
            "colorscale": [
             [
              0,
              "#0d0887"
             ],
             [
              0.1111111111111111,
              "#46039f"
             ],
             [
              0.2222222222222222,
              "#7201a8"
             ],
             [
              0.3333333333333333,
              "#9c179e"
             ],
             [
              0.4444444444444444,
              "#bd3786"
             ],
             [
              0.5555555555555556,
              "#d8576b"
             ],
             [
              0.6666666666666666,
              "#ed7953"
             ],
             [
              0.7777777777777778,
              "#fb9f3a"
             ],
             [
              0.8888888888888888,
              "#fdca26"
             ],
             [
              1,
              "#f0f921"
             ]
            ],
            "type": "contour"
           }
          ],
          "contourcarpet": [
           {
            "colorbar": {
             "outlinewidth": 0,
             "ticks": ""
            },
            "type": "contourcarpet"
           }
          ],
          "heatmap": [
           {
            "colorbar": {
             "outlinewidth": 0,
             "ticks": ""
            },
            "colorscale": [
             [
              0,
              "#0d0887"
             ],
             [
              0.1111111111111111,
              "#46039f"
             ],
             [
              0.2222222222222222,
              "#7201a8"
             ],
             [
              0.3333333333333333,
              "#9c179e"
             ],
             [
              0.4444444444444444,
              "#bd3786"
             ],
             [
              0.5555555555555556,
              "#d8576b"
             ],
             [
              0.6666666666666666,
              "#ed7953"
             ],
             [
              0.7777777777777778,
              "#fb9f3a"
             ],
             [
              0.8888888888888888,
              "#fdca26"
             ],
             [
              1,
              "#f0f921"
             ]
            ],
            "type": "heatmap"
           }
          ],
          "heatmapgl": [
           {
            "colorbar": {
             "outlinewidth": 0,
             "ticks": ""
            },
            "colorscale": [
             [
              0,
              "#0d0887"
             ],
             [
              0.1111111111111111,
              "#46039f"
             ],
             [
              0.2222222222222222,
              "#7201a8"
             ],
             [
              0.3333333333333333,
              "#9c179e"
             ],
             [
              0.4444444444444444,
              "#bd3786"
             ],
             [
              0.5555555555555556,
              "#d8576b"
             ],
             [
              0.6666666666666666,
              "#ed7953"
             ],
             [
              0.7777777777777778,
              "#fb9f3a"
             ],
             [
              0.8888888888888888,
              "#fdca26"
             ],
             [
              1,
              "#f0f921"
             ]
            ],
            "type": "heatmapgl"
           }
          ],
          "histogram": [
           {
            "marker": {
             "pattern": {
              "fillmode": "overlay",
              "size": 10,
              "solidity": 0.2
             }
            },
            "type": "histogram"
           }
          ],
          "histogram2d": [
           {
            "colorbar": {
             "outlinewidth": 0,
             "ticks": ""
            },
            "colorscale": [
             [
              0,
              "#0d0887"
             ],
             [
              0.1111111111111111,
              "#46039f"
             ],
             [
              0.2222222222222222,
              "#7201a8"
             ],
             [
              0.3333333333333333,
              "#9c179e"
             ],
             [
              0.4444444444444444,
              "#bd3786"
             ],
             [
              0.5555555555555556,
              "#d8576b"
             ],
             [
              0.6666666666666666,
              "#ed7953"
             ],
             [
              0.7777777777777778,
              "#fb9f3a"
             ],
             [
              0.8888888888888888,
              "#fdca26"
             ],
             [
              1,
              "#f0f921"
             ]
            ],
            "type": "histogram2d"
           }
          ],
          "histogram2dcontour": [
           {
            "colorbar": {
             "outlinewidth": 0,
             "ticks": ""
            },
            "colorscale": [
             [
              0,
              "#0d0887"
             ],
             [
              0.1111111111111111,
              "#46039f"
             ],
             [
              0.2222222222222222,
              "#7201a8"
             ],
             [
              0.3333333333333333,
              "#9c179e"
             ],
             [
              0.4444444444444444,
              "#bd3786"
             ],
             [
              0.5555555555555556,
              "#d8576b"
             ],
             [
              0.6666666666666666,
              "#ed7953"
             ],
             [
              0.7777777777777778,
              "#fb9f3a"
             ],
             [
              0.8888888888888888,
              "#fdca26"
             ],
             [
              1,
              "#f0f921"
             ]
            ],
            "type": "histogram2dcontour"
           }
          ],
          "mesh3d": [
           {
            "colorbar": {
             "outlinewidth": 0,
             "ticks": ""
            },
            "type": "mesh3d"
           }
          ],
          "parcoords": [
           {
            "line": {
             "colorbar": {
              "outlinewidth": 0,
              "ticks": ""
             }
            },
            "type": "parcoords"
           }
          ],
          "pie": [
           {
            "automargin": true,
            "type": "pie"
           }
          ],
          "scatter": [
           {
            "fillpattern": {
             "fillmode": "overlay",
             "size": 10,
             "solidity": 0.2
            },
            "type": "scatter"
           }
          ],
          "scatter3d": [
           {
            "line": {
             "colorbar": {
              "outlinewidth": 0,
              "ticks": ""
             }
            },
            "marker": {
             "colorbar": {
              "outlinewidth": 0,
              "ticks": ""
             }
            },
            "type": "scatter3d"
           }
          ],
          "scattercarpet": [
           {
            "marker": {
             "colorbar": {
              "outlinewidth": 0,
              "ticks": ""
             }
            },
            "type": "scattercarpet"
           }
          ],
          "scattergeo": [
           {
            "marker": {
             "colorbar": {
              "outlinewidth": 0,
              "ticks": ""
             }
            },
            "type": "scattergeo"
           }
          ],
          "scattergl": [
           {
            "marker": {
             "colorbar": {
              "outlinewidth": 0,
              "ticks": ""
             }
            },
            "type": "scattergl"
           }
          ],
          "scattermapbox": [
           {
            "marker": {
             "colorbar": {
              "outlinewidth": 0,
              "ticks": ""
             }
            },
            "type": "scattermapbox"
           }
          ],
          "scatterpolar": [
           {
            "marker": {
             "colorbar": {
              "outlinewidth": 0,
              "ticks": ""
             }
            },
            "type": "scatterpolar"
           }
          ],
          "scatterpolargl": [
           {
            "marker": {
             "colorbar": {
              "outlinewidth": 0,
              "ticks": ""
             }
            },
            "type": "scatterpolargl"
           }
          ],
          "scatterternary": [
           {
            "marker": {
             "colorbar": {
              "outlinewidth": 0,
              "ticks": ""
             }
            },
            "type": "scatterternary"
           }
          ],
          "surface": [
           {
            "colorbar": {
             "outlinewidth": 0,
             "ticks": ""
            },
            "colorscale": [
             [
              0,
              "#0d0887"
             ],
             [
              0.1111111111111111,
              "#46039f"
             ],
             [
              0.2222222222222222,
              "#7201a8"
             ],
             [
              0.3333333333333333,
              "#9c179e"
             ],
             [
              0.4444444444444444,
              "#bd3786"
             ],
             [
              0.5555555555555556,
              "#d8576b"
             ],
             [
              0.6666666666666666,
              "#ed7953"
             ],
             [
              0.7777777777777778,
              "#fb9f3a"
             ],
             [
              0.8888888888888888,
              "#fdca26"
             ],
             [
              1,
              "#f0f921"
             ]
            ],
            "type": "surface"
           }
          ],
          "table": [
           {
            "cells": {
             "fill": {
              "color": "#EBF0F8"
             },
             "line": {
              "color": "white"
             }
            },
            "header": {
             "fill": {
              "color": "#C8D4E3"
             },
             "line": {
              "color": "white"
             }
            },
            "type": "table"
           }
          ]
         },
         "layout": {
          "annotationdefaults": {
           "arrowcolor": "#2a3f5f",
           "arrowhead": 0,
           "arrowwidth": 1
          },
          "autotypenumbers": "strict",
          "coloraxis": {
           "colorbar": {
            "outlinewidth": 0,
            "ticks": ""
           }
          },
          "colorscale": {
           "diverging": [
            [
             0,
             "#8e0152"
            ],
            [
             0.1,
             "#c51b7d"
            ],
            [
             0.2,
             "#de77ae"
            ],
            [
             0.3,
             "#f1b6da"
            ],
            [
             0.4,
             "#fde0ef"
            ],
            [
             0.5,
             "#f7f7f7"
            ],
            [
             0.6,
             "#e6f5d0"
            ],
            [
             0.7,
             "#b8e186"
            ],
            [
             0.8,
             "#7fbc41"
            ],
            [
             0.9,
             "#4d9221"
            ],
            [
             1,
             "#276419"
            ]
           ],
           "sequential": [
            [
             0,
             "#0d0887"
            ],
            [
             0.1111111111111111,
             "#46039f"
            ],
            [
             0.2222222222222222,
             "#7201a8"
            ],
            [
             0.3333333333333333,
             "#9c179e"
            ],
            [
             0.4444444444444444,
             "#bd3786"
            ],
            [
             0.5555555555555556,
             "#d8576b"
            ],
            [
             0.6666666666666666,
             "#ed7953"
            ],
            [
             0.7777777777777778,
             "#fb9f3a"
            ],
            [
             0.8888888888888888,
             "#fdca26"
            ],
            [
             1,
             "#f0f921"
            ]
           ],
           "sequentialminus": [
            [
             0,
             "#0d0887"
            ],
            [
             0.1111111111111111,
             "#46039f"
            ],
            [
             0.2222222222222222,
             "#7201a8"
            ],
            [
             0.3333333333333333,
             "#9c179e"
            ],
            [
             0.4444444444444444,
             "#bd3786"
            ],
            [
             0.5555555555555556,
             "#d8576b"
            ],
            [
             0.6666666666666666,
             "#ed7953"
            ],
            [
             0.7777777777777778,
             "#fb9f3a"
            ],
            [
             0.8888888888888888,
             "#fdca26"
            ],
            [
             1,
             "#f0f921"
            ]
           ]
          },
          "colorway": [
           "#636efa",
           "#EF553B",
           "#00cc96",
           "#ab63fa",
           "#FFA15A",
           "#19d3f3",
           "#FF6692",
           "#B6E880",
           "#FF97FF",
           "#FECB52"
          ],
          "font": {
           "color": "#2a3f5f"
          },
          "geo": {
           "bgcolor": "white",
           "lakecolor": "white",
           "landcolor": "#E5ECF6",
           "showlakes": true,
           "showland": true,
           "subunitcolor": "white"
          },
          "hoverlabel": {
           "align": "left"
          },
          "hovermode": "closest",
          "mapbox": {
           "style": "light"
          },
          "paper_bgcolor": "white",
          "plot_bgcolor": "#E5ECF6",
          "polar": {
           "angularaxis": {
            "gridcolor": "white",
            "linecolor": "white",
            "ticks": ""
           },
           "bgcolor": "#E5ECF6",
           "radialaxis": {
            "gridcolor": "white",
            "linecolor": "white",
            "ticks": ""
           }
          },
          "scene": {
           "xaxis": {
            "backgroundcolor": "#E5ECF6",
            "gridcolor": "white",
            "gridwidth": 2,
            "linecolor": "white",
            "showbackground": true,
            "ticks": "",
            "zerolinecolor": "white"
           },
           "yaxis": {
            "backgroundcolor": "#E5ECF6",
            "gridcolor": "white",
            "gridwidth": 2,
            "linecolor": "white",
            "showbackground": true,
            "ticks": "",
            "zerolinecolor": "white"
           },
           "zaxis": {
            "backgroundcolor": "#E5ECF6",
            "gridcolor": "white",
            "gridwidth": 2,
            "linecolor": "white",
            "showbackground": true,
            "ticks": "",
            "zerolinecolor": "white"
           }
          },
          "shapedefaults": {
           "line": {
            "color": "#2a3f5f"
           }
          },
          "ternary": {
           "aaxis": {
            "gridcolor": "white",
            "linecolor": "white",
            "ticks": ""
           },
           "baxis": {
            "gridcolor": "white",
            "linecolor": "white",
            "ticks": ""
           },
           "bgcolor": "#E5ECF6",
           "caxis": {
            "gridcolor": "white",
            "linecolor": "white",
            "ticks": ""
           }
          },
          "title": {
           "x": 0.05
          },
          "xaxis": {
           "automargin": true,
           "gridcolor": "white",
           "linecolor": "white",
           "ticks": "",
           "title": {
            "standoff": 15
           },
           "zerolinecolor": "white",
           "zerolinewidth": 2
          },
          "yaxis": {
           "automargin": true,
           "gridcolor": "white",
           "linecolor": "white",
           "ticks": "",
           "title": {
            "standoff": 15
           },
           "zerolinecolor": "white",
           "zerolinewidth": 2
          }
         }
        },
        "width": 700,
        "xaxis": {
         "anchor": "y",
         "domain": [
          0,
          0.45
         ],
         "mirror": true,
         "tickcolor": "black",
         "ticklen": 5,
         "tickmode": "array",
         "ticks": "outside",
         "ticktext": [
          "1",
          "0"
         ],
         "tickvals": [
          0,
          1
         ],
         "tickwidth": 1,
         "title": {
          "text": "Predicted"
         }
        },
        "xaxis2": {
         "anchor": "y2",
         "domain": [
          0.55,
          1
         ],
         "mirror": true,
         "tickcolor": "black",
         "ticklen": 5,
         "tickmode": "array",
         "ticks": "outside",
         "ticktext": [
          "1",
          "0"
         ],
         "tickvals": [
          0,
          1
         ],
         "tickwidth": 1,
         "title": {
          "text": "Predicted"
         }
        },
        "yaxis": {
         "anchor": "x",
         "domain": [
          0,
          1
         ],
         "mirror": true,
         "tickcolor": "black",
         "ticklen": 5,
         "tickmode": "array",
         "ticks": "outside",
         "ticktext": [
          "0",
          "1"
         ],
         "tickvals": [
          0,
          1
         ],
         "tickwidth": 1,
         "title": {
          "standoff": 0.3,
          "text": "True"
         }
        },
        "yaxis2": {
         "anchor": "x2",
         "domain": [
          0,
          1
         ],
         "mirror": true,
         "tickcolor": "black",
         "ticklen": 5,
         "tickmode": "array",
         "ticks": "outside",
         "ticktext": [
          "0",
          "1"
         ],
         "tickvals": [
          0,
          1
         ],
         "tickwidth": 1,
         "title": {
          "standoff": 0.3,
          "text": "True"
         }
        }
       }
      }
     },
     "metadata": {},
     "output_type": "display_data"
    }
   ],
   "source": [
    "import numpy as np\n",
    "import plotly.graph_objects as go\n",
    "from plotly.subplots import make_subplots\n",
    "from sklearn.metrics import confusion_matrix\n",
    "\n",
    "labels = [\"0\", \"1\"]\n",
    "cm = confusion_matrix(y_train, y_train_pred)\n",
    "cm = np.array([[cm[0, 1], cm[0, 0]], [cm[1, 1], cm[1, 0]]])\n",
    "\n",
    "fig = make_subplots(\n",
    "    rows=1,\n",
    "    cols=2,\n",
    "    subplot_titles=[\"Training Matrix\", \"Validation Matrix\"],\n",
    ")\n",
    "\n",
    "# Increase font size and height of titles\n",
    "for annotation in fig[\"layout\"][\"annotations\"]:\n",
    "    annotation[\"font\"] = dict(size=18)  # Increase font size here\n",
    "    annotation[\"y\"] = 1.03  # Increase height of title\n",
    "\n",
    "\n",
    "fig.update_layout(\n",
    "    autosize=False,\n",
    "    width=700,\n",
    "    height=400,\n",
    ")\n",
    "# Adding heatmaps to both subplots\n",
    "for index in [1, 2]:\n",
    "    fig.add_trace(\n",
    "        go.Heatmap(z=cm, x=labels[::-1], y=labels, colorscale=\"Blues\", showscale=True),\n",
    "        row=1,\n",
    "        col=index,\n",
    "    )\n",
    "\n",
    "\n",
    "def get_font_color(value, cm):\n",
    "    if value > cm.max() / 2:\n",
    "        return \"white\"\n",
    "    else:\n",
    "        return \" dark blue\"\n",
    "\n",
    "\n",
    "# Adding annotations and shapes\n",
    "for index in [1, 2]:\n",
    "    # annotations = []\n",
    "    for i, row in enumerate(cm):\n",
    "        for j, value in enumerate(row):\n",
    "            fig.add_annotation(\n",
    "                dict(\n",
    "                    text=str(value),\n",
    "                    x=labels[j],\n",
    "                    y=labels[i],\n",
    "                    xref=f\"x{index}\",\n",
    "                    yref=f\"y{index}\",\n",
    "                    showarrow=False,\n",
    "                    font=dict(color=get_font_color(value, cm)),\n",
    "                )\n",
    "            )\n",
    "\n",
    "    # Add rectangle and line shapes per subplot\n",
    "    fig.add_shape(\n",
    "        type=\"rect\",\n",
    "        xref=f\"x{index}\",\n",
    "        yref=f\"y{index}\",\n",
    "        x0=-0.5,\n",
    "        y0=-0.5,\n",
    "        x1=len(labels) - 0.5,\n",
    "        y1=len(labels) - 0.5,\n",
    "        line=dict(color=\"black\", width=2),\n",
    "    )\n",
    "    fig.add_shape(\n",
    "        type=\"line\",\n",
    "        xref=f\"x{index}\",\n",
    "        yref=f\"y{index}\",\n",
    "        x0=-0.5,\n",
    "        y0=0.5,\n",
    "        x1=len(labels) - 0.5,\n",
    "        y1=0.5,\n",
    "        line=dict(color=\"black\", width=1.5),\n",
    "    )\n",
    "    fig.add_shape(\n",
    "        type=\"line\",\n",
    "        xref=f\"x{index}\",\n",
    "        yref=f\"y{index}\",\n",
    "        x0=0.5,\n",
    "        y0=-0.5,\n",
    "        x1=0.5,\n",
    "        y1=1.5,\n",
    "        line=dict(color=\"black\", width=1.5),\n",
    "    )\n",
    "\n",
    "\n",
    "for i in range(1, 3):\n",
    "    fig.update_xaxes(\n",
    "        title_text=\"Predicted\",\n",
    "        row=1,\n",
    "        col=i,\n",
    "        tickmode=\"array\",\n",
    "        tickvals=[0, 1],\n",
    "        ticktext=labels[::-1],\n",
    "        ticks=\"outside\",\n",
    "        ticklen=5,  # Shorten tick length to touch grid lines\n",
    "        tickwidth=1,\n",
    "        tickcolor=\"black\",\n",
    "        mirror=True,  # Mirror ticks on both sides\n",
    "    )\n",
    "    fig.update_yaxes(\n",
    "        title_text=\"True\",\n",
    "        row=1,\n",
    "        col=i,\n",
    "        tickmode=\"array\",\n",
    "        tickvals=[0, 1],\n",
    "        ticktext=labels,\n",
    "        ticks=\"outside\",\n",
    "        ticklen=5,  # Shorten tick length to touch grid lines\n",
    "        tickwidth=1,\n",
    "        tickcolor=\"black\",\n",
    "        mirror=True,  # Mirror ticks on both sides\n",
    "        title_standoff=0.3,\n",
    "    )\n",
    "\n",
    "# Update layout for a better view\n",
    "\n",
    "fig.show()"
   ]
  },
  {
   "cell_type": "code",
   "execution_count": 33,
   "metadata": {},
   "outputs": [
    {
     "name": "stdout",
     "output_type": "stream",
     "text": [
      "layout.Annotation({\n",
      "    'font': {'size': 16},\n",
      "    'showarrow': False,\n",
      "    'text': 'Confusion Matrix 1',\n",
      "    'x': 0.14444444444444446,\n",
      "    'xanchor': 'center',\n",
      "    'xref': 'paper',\n",
      "    'y': 1.0,\n",
      "    'yanchor': 'bottom',\n",
      "    'yref': 'paper'\n",
      "})\n",
      "layout.Annotation({\n",
      "    'font': {'size': 16},\n",
      "    'showarrow': False,\n",
      "    'text': 'Confusion Matrix 2',\n",
      "    'x': 0.5,\n",
      "    'xanchor': 'center',\n",
      "    'xref': 'paper',\n",
      "    'y': 1.0,\n",
      "    'yanchor': 'bottom',\n",
      "    'yref': 'paper'\n",
      "})\n"
     ]
    },
    {
     "data": {
      "application/vnd.plotly.v1+json": {
       "config": {
        "plotlyServerURL": "https://plot.ly"
       },
       "data": [
        {
         "colorscale": [
          [
           0,
           "rgb(247,251,255)"
          ],
          [
           0.125,
           "rgb(222,235,247)"
          ],
          [
           0.25,
           "rgb(198,219,239)"
          ],
          [
           0.375,
           "rgb(158,202,225)"
          ],
          [
           0.5,
           "rgb(107,174,214)"
          ],
          [
           0.625,
           "rgb(66,146,198)"
          ],
          [
           0.75,
           "rgb(33,113,181)"
          ],
          [
           0.875,
           "rgb(8,81,156)"
          ],
          [
           1,
           "rgb(8,48,107)"
          ]
         ],
         "showscale": true,
         "type": "heatmap",
         "x": [
          "1",
          "0"
         ],
         "xaxis": "x",
         "y": [
          "0",
          "1"
         ],
         "yaxis": "y",
         "z": [
          [
           204,
           599
          ],
          [
           29,
           0
          ]
         ]
        },
        {
         "colorscale": [
          [
           0,
           "rgb(247,251,255)"
          ],
          [
           0.125,
           "rgb(222,235,247)"
          ],
          [
           0.25,
           "rgb(198,219,239)"
          ],
          [
           0.375,
           "rgb(158,202,225)"
          ],
          [
           0.5,
           "rgb(107,174,214)"
          ],
          [
           0.625,
           "rgb(66,146,198)"
          ],
          [
           0.75,
           "rgb(33,113,181)"
          ],
          [
           0.875,
           "rgb(8,81,156)"
          ],
          [
           1,
           "rgb(8,48,107)"
          ]
         ],
         "showscale": true,
         "type": "heatmap",
         "x": [
          "1",
          "0"
         ],
         "xaxis": "x2",
         "y": [
          "0",
          "1"
         ],
         "yaxis": "y2",
         "z": [
          [
           204,
           599
          ],
          [
           29,
           0
          ]
         ]
        },
        {
         "colorscale": [
          [
           0,
           "rgb(247,251,255)"
          ],
          [
           0.125,
           "rgb(222,235,247)"
          ],
          [
           0.25,
           "rgb(198,219,239)"
          ],
          [
           0.375,
           "rgb(158,202,225)"
          ],
          [
           0.5,
           "rgb(107,174,214)"
          ],
          [
           0.625,
           "rgb(66,146,198)"
          ],
          [
           0.75,
           "rgb(33,113,181)"
          ],
          [
           0.875,
           "rgb(8,81,156)"
          ],
          [
           1,
           "rgb(8,48,107)"
          ]
         ],
         "showscale": true,
         "type": "heatmap",
         "x": [
          "1",
          "0"
         ],
         "xaxis": "x3",
         "y": [
          "0",
          "1"
         ],
         "yaxis": "y3",
         "z": [
          [
           204,
           599
          ],
          [
           29,
           0
          ]
         ]
        }
       ],
       "layout": {
        "annotations": [
         {
          "font": {
           "size": 16
          },
          "showarrow": false,
          "text": "Confusion Matrix 1",
          "x": 0.14444444444444446,
          "xanchor": "center",
          "xref": "paper",
          "y": 1,
          "yanchor": "bottom",
          "yref": "paper"
         },
         {
          "font": {
           "size": 16
          },
          "showarrow": false,
          "text": "Confusion Matrix 2",
          "x": 0.5,
          "xanchor": "center",
          "xref": "paper",
          "y": 1,
          "yanchor": "bottom",
          "yref": "paper"
         },
         {
          "font": {
           "size": 16
          },
          "showarrow": false,
          "text": "Confusion Matrix 3",
          "x": 0.8555555555555556,
          "xanchor": "center",
          "xref": "paper",
          "y": 1,
          "yanchor": "bottom",
          "yref": "paper"
         },
         {
          "font": {
           "color": " dark blue"
          },
          "showarrow": false,
          "text": "204",
          "x": "0",
          "xref": "x",
          "y": "0",
          "yref": "y"
         },
         {
          "font": {
           "color": "white"
          },
          "showarrow": false,
          "text": "599",
          "x": "1",
          "xref": "x",
          "y": "0",
          "yref": "y"
         },
         {
          "font": {
           "color": " dark blue"
          },
          "showarrow": false,
          "text": "29",
          "x": "0",
          "xref": "x",
          "y": "1",
          "yref": "y"
         },
         {
          "font": {
           "color": " dark blue"
          },
          "showarrow": false,
          "text": "0",
          "x": "1",
          "xref": "x",
          "y": "1",
          "yref": "y"
         },
         {
          "font": {
           "color": " dark blue"
          },
          "showarrow": false,
          "text": "204",
          "x": "0",
          "xref": "x2",
          "y": "0",
          "yref": "y2"
         },
         {
          "font": {
           "color": "white"
          },
          "showarrow": false,
          "text": "599",
          "x": "1",
          "xref": "x2",
          "y": "0",
          "yref": "y2"
         },
         {
          "font": {
           "color": " dark blue"
          },
          "showarrow": false,
          "text": "29",
          "x": "0",
          "xref": "x2",
          "y": "1",
          "yref": "y2"
         },
         {
          "font": {
           "color": " dark blue"
          },
          "showarrow": false,
          "text": "0",
          "x": "1",
          "xref": "x2",
          "y": "1",
          "yref": "y2"
         },
         {
          "font": {
           "color": " dark blue"
          },
          "showarrow": false,
          "text": "204",
          "x": "0",
          "xref": "x3",
          "y": "0",
          "yref": "y3"
         },
         {
          "font": {
           "color": "white"
          },
          "showarrow": false,
          "text": "599",
          "x": "1",
          "xref": "x3",
          "y": "0",
          "yref": "y3"
         },
         {
          "font": {
           "color": " dark blue"
          },
          "showarrow": false,
          "text": "29",
          "x": "0",
          "xref": "x3",
          "y": "1",
          "yref": "y3"
         },
         {
          "font": {
           "color": " dark blue"
          },
          "showarrow": false,
          "text": "0",
          "x": "1",
          "xref": "x3",
          "y": "1",
          "yref": "y3"
         }
        ],
        "autosize": false,
        "height": 400,
        "shapes": [
         {
          "line": {
           "color": "black",
           "width": 2
          },
          "type": "rect",
          "x0": -0.5,
          "x1": 1.5,
          "xref": "x",
          "y0": -0.5,
          "y1": 1.5,
          "yref": "y"
         },
         {
          "line": {
           "color": "black",
           "width": 1.5
          },
          "type": "line",
          "x0": -0.5,
          "x1": 1.5,
          "xref": "x",
          "y0": 0.5,
          "y1": 0.5,
          "yref": "y"
         },
         {
          "line": {
           "color": "black",
           "width": 1.5
          },
          "type": "line",
          "x0": 0.5,
          "x1": 0.5,
          "xref": "x",
          "y0": -0.5,
          "y1": 1.5,
          "yref": "y"
         },
         {
          "line": {
           "color": "black",
           "width": 2
          },
          "type": "rect",
          "x0": -0.5,
          "x1": 1.5,
          "xref": "x2",
          "y0": -0.5,
          "y1": 1.5,
          "yref": "y2"
         },
         {
          "line": {
           "color": "black",
           "width": 1.5
          },
          "type": "line",
          "x0": -0.5,
          "x1": 1.5,
          "xref": "x2",
          "y0": 0.5,
          "y1": 0.5,
          "yref": "y2"
         },
         {
          "line": {
           "color": "black",
           "width": 1.5
          },
          "type": "line",
          "x0": 0.5,
          "x1": 0.5,
          "xref": "x2",
          "y0": -0.5,
          "y1": 1.5,
          "yref": "y2"
         },
         {
          "line": {
           "color": "black",
           "width": 2
          },
          "type": "rect",
          "x0": -0.5,
          "x1": 1.5,
          "xref": "x3",
          "y0": -0.5,
          "y1": 1.5,
          "yref": "y3"
         },
         {
          "line": {
           "color": "black",
           "width": 1.5
          },
          "type": "line",
          "x0": -0.5,
          "x1": 1.5,
          "xref": "x3",
          "y0": 0.5,
          "y1": 0.5,
          "yref": "y3"
         },
         {
          "line": {
           "color": "black",
           "width": 1.5
          },
          "type": "line",
          "x0": 0.5,
          "x1": 0.5,
          "xref": "x3",
          "y0": -0.5,
          "y1": 1.5,
          "yref": "y3"
         }
        ],
        "template": {
         "data": {
          "bar": [
           {
            "error_x": {
             "color": "#2a3f5f"
            },
            "error_y": {
             "color": "#2a3f5f"
            },
            "marker": {
             "line": {
              "color": "#E5ECF6",
              "width": 0.5
             },
             "pattern": {
              "fillmode": "overlay",
              "size": 10,
              "solidity": 0.2
             }
            },
            "type": "bar"
           }
          ],
          "barpolar": [
           {
            "marker": {
             "line": {
              "color": "#E5ECF6",
              "width": 0.5
             },
             "pattern": {
              "fillmode": "overlay",
              "size": 10,
              "solidity": 0.2
             }
            },
            "type": "barpolar"
           }
          ],
          "carpet": [
           {
            "aaxis": {
             "endlinecolor": "#2a3f5f",
             "gridcolor": "white",
             "linecolor": "white",
             "minorgridcolor": "white",
             "startlinecolor": "#2a3f5f"
            },
            "baxis": {
             "endlinecolor": "#2a3f5f",
             "gridcolor": "white",
             "linecolor": "white",
             "minorgridcolor": "white",
             "startlinecolor": "#2a3f5f"
            },
            "type": "carpet"
           }
          ],
          "choropleth": [
           {
            "colorbar": {
             "outlinewidth": 0,
             "ticks": ""
            },
            "type": "choropleth"
           }
          ],
          "contour": [
           {
            "colorbar": {
             "outlinewidth": 0,
             "ticks": ""
            },
            "colorscale": [
             [
              0,
              "#0d0887"
             ],
             [
              0.1111111111111111,
              "#46039f"
             ],
             [
              0.2222222222222222,
              "#7201a8"
             ],
             [
              0.3333333333333333,
              "#9c179e"
             ],
             [
              0.4444444444444444,
              "#bd3786"
             ],
             [
              0.5555555555555556,
              "#d8576b"
             ],
             [
              0.6666666666666666,
              "#ed7953"
             ],
             [
              0.7777777777777778,
              "#fb9f3a"
             ],
             [
              0.8888888888888888,
              "#fdca26"
             ],
             [
              1,
              "#f0f921"
             ]
            ],
            "type": "contour"
           }
          ],
          "contourcarpet": [
           {
            "colorbar": {
             "outlinewidth": 0,
             "ticks": ""
            },
            "type": "contourcarpet"
           }
          ],
          "heatmap": [
           {
            "colorbar": {
             "outlinewidth": 0,
             "ticks": ""
            },
            "colorscale": [
             [
              0,
              "#0d0887"
             ],
             [
              0.1111111111111111,
              "#46039f"
             ],
             [
              0.2222222222222222,
              "#7201a8"
             ],
             [
              0.3333333333333333,
              "#9c179e"
             ],
             [
              0.4444444444444444,
              "#bd3786"
             ],
             [
              0.5555555555555556,
              "#d8576b"
             ],
             [
              0.6666666666666666,
              "#ed7953"
             ],
             [
              0.7777777777777778,
              "#fb9f3a"
             ],
             [
              0.8888888888888888,
              "#fdca26"
             ],
             [
              1,
              "#f0f921"
             ]
            ],
            "type": "heatmap"
           }
          ],
          "heatmapgl": [
           {
            "colorbar": {
             "outlinewidth": 0,
             "ticks": ""
            },
            "colorscale": [
             [
              0,
              "#0d0887"
             ],
             [
              0.1111111111111111,
              "#46039f"
             ],
             [
              0.2222222222222222,
              "#7201a8"
             ],
             [
              0.3333333333333333,
              "#9c179e"
             ],
             [
              0.4444444444444444,
              "#bd3786"
             ],
             [
              0.5555555555555556,
              "#d8576b"
             ],
             [
              0.6666666666666666,
              "#ed7953"
             ],
             [
              0.7777777777777778,
              "#fb9f3a"
             ],
             [
              0.8888888888888888,
              "#fdca26"
             ],
             [
              1,
              "#f0f921"
             ]
            ],
            "type": "heatmapgl"
           }
          ],
          "histogram": [
           {
            "marker": {
             "pattern": {
              "fillmode": "overlay",
              "size": 10,
              "solidity": 0.2
             }
            },
            "type": "histogram"
           }
          ],
          "histogram2d": [
           {
            "colorbar": {
             "outlinewidth": 0,
             "ticks": ""
            },
            "colorscale": [
             [
              0,
              "#0d0887"
             ],
             [
              0.1111111111111111,
              "#46039f"
             ],
             [
              0.2222222222222222,
              "#7201a8"
             ],
             [
              0.3333333333333333,
              "#9c179e"
             ],
             [
              0.4444444444444444,
              "#bd3786"
             ],
             [
              0.5555555555555556,
              "#d8576b"
             ],
             [
              0.6666666666666666,
              "#ed7953"
             ],
             [
              0.7777777777777778,
              "#fb9f3a"
             ],
             [
              0.8888888888888888,
              "#fdca26"
             ],
             [
              1,
              "#f0f921"
             ]
            ],
            "type": "histogram2d"
           }
          ],
          "histogram2dcontour": [
           {
            "colorbar": {
             "outlinewidth": 0,
             "ticks": ""
            },
            "colorscale": [
             [
              0,
              "#0d0887"
             ],
             [
              0.1111111111111111,
              "#46039f"
             ],
             [
              0.2222222222222222,
              "#7201a8"
             ],
             [
              0.3333333333333333,
              "#9c179e"
             ],
             [
              0.4444444444444444,
              "#bd3786"
             ],
             [
              0.5555555555555556,
              "#d8576b"
             ],
             [
              0.6666666666666666,
              "#ed7953"
             ],
             [
              0.7777777777777778,
              "#fb9f3a"
             ],
             [
              0.8888888888888888,
              "#fdca26"
             ],
             [
              1,
              "#f0f921"
             ]
            ],
            "type": "histogram2dcontour"
           }
          ],
          "mesh3d": [
           {
            "colorbar": {
             "outlinewidth": 0,
             "ticks": ""
            },
            "type": "mesh3d"
           }
          ],
          "parcoords": [
           {
            "line": {
             "colorbar": {
              "outlinewidth": 0,
              "ticks": ""
             }
            },
            "type": "parcoords"
           }
          ],
          "pie": [
           {
            "automargin": true,
            "type": "pie"
           }
          ],
          "scatter": [
           {
            "fillpattern": {
             "fillmode": "overlay",
             "size": 10,
             "solidity": 0.2
            },
            "type": "scatter"
           }
          ],
          "scatter3d": [
           {
            "line": {
             "colorbar": {
              "outlinewidth": 0,
              "ticks": ""
             }
            },
            "marker": {
             "colorbar": {
              "outlinewidth": 0,
              "ticks": ""
             }
            },
            "type": "scatter3d"
           }
          ],
          "scattercarpet": [
           {
            "marker": {
             "colorbar": {
              "outlinewidth": 0,
              "ticks": ""
             }
            },
            "type": "scattercarpet"
           }
          ],
          "scattergeo": [
           {
            "marker": {
             "colorbar": {
              "outlinewidth": 0,
              "ticks": ""
             }
            },
            "type": "scattergeo"
           }
          ],
          "scattergl": [
           {
            "marker": {
             "colorbar": {
              "outlinewidth": 0,
              "ticks": ""
             }
            },
            "type": "scattergl"
           }
          ],
          "scattermapbox": [
           {
            "marker": {
             "colorbar": {
              "outlinewidth": 0,
              "ticks": ""
             }
            },
            "type": "scattermapbox"
           }
          ],
          "scatterpolar": [
           {
            "marker": {
             "colorbar": {
              "outlinewidth": 0,
              "ticks": ""
             }
            },
            "type": "scatterpolar"
           }
          ],
          "scatterpolargl": [
           {
            "marker": {
             "colorbar": {
              "outlinewidth": 0,
              "ticks": ""
             }
            },
            "type": "scatterpolargl"
           }
          ],
          "scatterternary": [
           {
            "marker": {
             "colorbar": {
              "outlinewidth": 0,
              "ticks": ""
             }
            },
            "type": "scatterternary"
           }
          ],
          "surface": [
           {
            "colorbar": {
             "outlinewidth": 0,
             "ticks": ""
            },
            "colorscale": [
             [
              0,
              "#0d0887"
             ],
             [
              0.1111111111111111,
              "#46039f"
             ],
             [
              0.2222222222222222,
              "#7201a8"
             ],
             [
              0.3333333333333333,
              "#9c179e"
             ],
             [
              0.4444444444444444,
              "#bd3786"
             ],
             [
              0.5555555555555556,
              "#d8576b"
             ],
             [
              0.6666666666666666,
              "#ed7953"
             ],
             [
              0.7777777777777778,
              "#fb9f3a"
             ],
             [
              0.8888888888888888,
              "#fdca26"
             ],
             [
              1,
              "#f0f921"
             ]
            ],
            "type": "surface"
           }
          ],
          "table": [
           {
            "cells": {
             "fill": {
              "color": "#EBF0F8"
             },
             "line": {
              "color": "white"
             }
            },
            "header": {
             "fill": {
              "color": "#C8D4E3"
             },
             "line": {
              "color": "white"
             }
            },
            "type": "table"
           }
          ]
         },
         "layout": {
          "annotationdefaults": {
           "arrowcolor": "#2a3f5f",
           "arrowhead": 0,
           "arrowwidth": 1
          },
          "autotypenumbers": "strict",
          "coloraxis": {
           "colorbar": {
            "outlinewidth": 0,
            "ticks": ""
           }
          },
          "colorscale": {
           "diverging": [
            [
             0,
             "#8e0152"
            ],
            [
             0.1,
             "#c51b7d"
            ],
            [
             0.2,
             "#de77ae"
            ],
            [
             0.3,
             "#f1b6da"
            ],
            [
             0.4,
             "#fde0ef"
            ],
            [
             0.5,
             "#f7f7f7"
            ],
            [
             0.6,
             "#e6f5d0"
            ],
            [
             0.7,
             "#b8e186"
            ],
            [
             0.8,
             "#7fbc41"
            ],
            [
             0.9,
             "#4d9221"
            ],
            [
             1,
             "#276419"
            ]
           ],
           "sequential": [
            [
             0,
             "#0d0887"
            ],
            [
             0.1111111111111111,
             "#46039f"
            ],
            [
             0.2222222222222222,
             "#7201a8"
            ],
            [
             0.3333333333333333,
             "#9c179e"
            ],
            [
             0.4444444444444444,
             "#bd3786"
            ],
            [
             0.5555555555555556,
             "#d8576b"
            ],
            [
             0.6666666666666666,
             "#ed7953"
            ],
            [
             0.7777777777777778,
             "#fb9f3a"
            ],
            [
             0.8888888888888888,
             "#fdca26"
            ],
            [
             1,
             "#f0f921"
            ]
           ],
           "sequentialminus": [
            [
             0,
             "#0d0887"
            ],
            [
             0.1111111111111111,
             "#46039f"
            ],
            [
             0.2222222222222222,
             "#7201a8"
            ],
            [
             0.3333333333333333,
             "#9c179e"
            ],
            [
             0.4444444444444444,
             "#bd3786"
            ],
            [
             0.5555555555555556,
             "#d8576b"
            ],
            [
             0.6666666666666666,
             "#ed7953"
            ],
            [
             0.7777777777777778,
             "#fb9f3a"
            ],
            [
             0.8888888888888888,
             "#fdca26"
            ],
            [
             1,
             "#f0f921"
            ]
           ]
          },
          "colorway": [
           "#636efa",
           "#EF553B",
           "#00cc96",
           "#ab63fa",
           "#FFA15A",
           "#19d3f3",
           "#FF6692",
           "#B6E880",
           "#FF97FF",
           "#FECB52"
          ],
          "font": {
           "color": "#2a3f5f"
          },
          "geo": {
           "bgcolor": "white",
           "lakecolor": "white",
           "landcolor": "#E5ECF6",
           "showlakes": true,
           "showland": true,
           "subunitcolor": "white"
          },
          "hoverlabel": {
           "align": "left"
          },
          "hovermode": "closest",
          "mapbox": {
           "style": "light"
          },
          "paper_bgcolor": "white",
          "plot_bgcolor": "#E5ECF6",
          "polar": {
           "angularaxis": {
            "gridcolor": "white",
            "linecolor": "white",
            "ticks": ""
           },
           "bgcolor": "#E5ECF6",
           "radialaxis": {
            "gridcolor": "white",
            "linecolor": "white",
            "ticks": ""
           }
          },
          "scene": {
           "xaxis": {
            "backgroundcolor": "#E5ECF6",
            "gridcolor": "white",
            "gridwidth": 2,
            "linecolor": "white",
            "showbackground": true,
            "ticks": "",
            "zerolinecolor": "white"
           },
           "yaxis": {
            "backgroundcolor": "#E5ECF6",
            "gridcolor": "white",
            "gridwidth": 2,
            "linecolor": "white",
            "showbackground": true,
            "ticks": "",
            "zerolinecolor": "white"
           },
           "zaxis": {
            "backgroundcolor": "#E5ECF6",
            "gridcolor": "white",
            "gridwidth": 2,
            "linecolor": "white",
            "showbackground": true,
            "ticks": "",
            "zerolinecolor": "white"
           }
          },
          "shapedefaults": {
           "line": {
            "color": "#2a3f5f"
           }
          },
          "ternary": {
           "aaxis": {
            "gridcolor": "white",
            "linecolor": "white",
            "ticks": ""
           },
           "baxis": {
            "gridcolor": "white",
            "linecolor": "white",
            "ticks": ""
           },
           "bgcolor": "#E5ECF6",
           "caxis": {
            "gridcolor": "white",
            "linecolor": "white",
            "ticks": ""
           }
          },
          "title": {
           "x": 0.05
          },
          "xaxis": {
           "automargin": true,
           "gridcolor": "white",
           "linecolor": "white",
           "ticks": "",
           "title": {
            "standoff": 15
           },
           "zerolinecolor": "white",
           "zerolinewidth": 2
          },
          "yaxis": {
           "automargin": true,
           "gridcolor": "white",
           "linecolor": "white",
           "ticks": "",
           "title": {
            "standoff": 15
           },
           "zerolinecolor": "white",
           "zerolinewidth": 2
          }
         }
        },
        "width": 1000,
        "xaxis": {
         "anchor": "y",
         "domain": [
          0,
          0.2888888888888889
         ]
        },
        "xaxis2": {
         "anchor": "y2",
         "domain": [
          0.35555555555555557,
          0.6444444444444445
         ]
        },
        "xaxis3": {
         "anchor": "y3",
         "domain": [
          0.7111111111111111,
          1
         ]
        },
        "yaxis": {
         "anchor": "x",
         "domain": [
          0,
          1
         ]
        },
        "yaxis2": {
         "anchor": "x2",
         "domain": [
          0,
          1
         ]
        },
        "yaxis3": {
         "anchor": "x3",
         "domain": [
          0,
          1
         ]
        }
       }
      }
     },
     "metadata": {},
     "output_type": "display_data"
    }
   ],
   "source": [
    "import numpy as np\n",
    "import plotly.graph_objects as go\n",
    "from plotly.subplots import make_subplots\n",
    "from sklearn.metrics import confusion_matrix\n",
    "\n",
    "labels = [\"0\", \"1\"]\n",
    "cm = confusion_matrix(y_train, y_train_pred)\n",
    "cm = np.array([[cm[0, 1], cm[0, 0]], [cm[1, 1], cm[1, 0]]])\n",
    "\n",
    "fig = make_subplots(\n",
    "    rows=1,\n",
    "    cols=3,\n",
    "    subplot_titles=(\"Confusion Matrix 1\", \"Confusion Matrix 2\", \"Confusion Matrix 3\"),\n",
    ")\n",
    "\n",
    "fig.update_layout(\n",
    "    autosize=False,\n",
    "    width=1000,\n",
    "    height=400,\n",
    ")\n",
    "# Adding heatmaps to both subplots\n",
    "for index in [1, 2, 3]:\n",
    "    fig.add_trace(\n",
    "        go.Heatmap(z=cm, x=labels[::-1], y=labels, colorscale=\"Blues\", showscale=True),\n",
    "        row=1,\n",
    "        col=index,\n",
    "    )\n",
    "\n",
    "\n",
    "def get_font_color(value, cm):\n",
    "    if value > cm.max() / 2:\n",
    "        return \"white\"\n",
    "    else:\n",
    "        return \" dark blue\"\n",
    "\n",
    "\n",
    "# Adding annotations and shapes\n",
    "for index in [1, 2, 3]:\n",
    "    for i, row in enumerate(cm):\n",
    "        for j, value in enumerate(row):\n",
    "            fig.add_annotation(\n",
    "                dict(\n",
    "                    text=str(value),\n",
    "                    x=labels[j],\n",
    "                    y=labels[i],\n",
    "                    xref=f\"x{index}\",\n",
    "                    yref=f\"y{index}\",\n",
    "                    showarrow=False,\n",
    "                    font=dict(color=get_font_color(value, cm)),\n",
    "                )\n",
    "            )\n",
    "\n",
    "    # Add rectangle and line shapes per subplot\n",
    "    fig.add_shape(\n",
    "        type=\"rect\",\n",
    "        xref=f\"x{index}\",\n",
    "        yref=f\"y{index}\",\n",
    "        x0=-0.5,\n",
    "        y0=-0.5,\n",
    "        x1=len(labels) - 0.5,\n",
    "        y1=len(labels) - 0.5,\n",
    "        line=dict(color=\"black\", width=2),\n",
    "    )\n",
    "    fig.add_shape(\n",
    "        type=\"line\",\n",
    "        xref=f\"x{index}\",\n",
    "        yref=f\"y{index}\",\n",
    "        x0=-0.5,\n",
    "        y0=0.5,\n",
    "        x1=len(labels) - 0.5,\n",
    "        y1=0.5,\n",
    "        line=dict(color=\"black\", width=1.5),\n",
    "    )\n",
    "    fig.add_shape(\n",
    "        type=\"line\",\n",
    "        xref=f\"x{index}\",\n",
    "        yref=f\"y{index}\",\n",
    "        x0=0.5,\n",
    "        y0=-0.5,\n",
    "        x1=0.5,\n",
    "        y1=1.5,\n",
    "        line=dict(color=\"black\", width=1.5),\n",
    "    )\n",
    "\n",
    "# Update layout for a better view\n",
    "\n",
    "fig.show()"
   ]
  },
  {
   "cell_type": "code",
   "execution_count": 31,
   "metadata": {},
   "outputs": [
    {
     "data": {
      "application/vnd.plotly.v1+json": {
       "config": {
        "plotlyServerURL": "https://plot.ly"
       },
       "data": [
        {
         "colorscale": [
          [
           0,
           "rgb(247,251,255)"
          ],
          [
           0.125,
           "rgb(222,235,247)"
          ],
          [
           0.25,
           "rgb(198,219,239)"
          ],
          [
           0.375,
           "rgb(158,202,225)"
          ],
          [
           0.5,
           "rgb(107,174,214)"
          ],
          [
           0.625,
           "rgb(66,146,198)"
          ],
          [
           0.75,
           "rgb(33,113,181)"
          ],
          [
           0.875,
           "rgb(8,81,156)"
          ],
          [
           1,
           "rgb(8,48,107)"
          ]
         ],
         "hoverinfo": "text",
         "showscale": false,
         "text": [
          [
           "Truth: Excluded<br>Prediction: Included<br>Total: 204",
           "Truth: Excluded<br>Prediction: Excluded<br>Total: 599"
          ],
          [
           "Truth: Included<br>Prediction: Included<br>Total: 29",
           "Truth: Included<br>Prediction: Excluded<br>Total: 0"
          ]
         ],
         "type": "heatmap",
         "x": [
          "0",
          "1"
         ],
         "xaxis": "x",
         "y": [
          "0",
          "1"
         ],
         "yaxis": "y",
         "z": [
          [
           204,
           599
          ],
          [
           29,
           0
          ]
         ]
        },
        {
         "colorscale": [
          [
           0,
           "rgb(247,251,255)"
          ],
          [
           0.125,
           "rgb(222,235,247)"
          ],
          [
           0.25,
           "rgb(198,219,239)"
          ],
          [
           0.375,
           "rgb(158,202,225)"
          ],
          [
           0.5,
           "rgb(107,174,214)"
          ],
          [
           0.625,
           "rgb(66,146,198)"
          ],
          [
           0.75,
           "rgb(33,113,181)"
          ],
          [
           0.875,
           "rgb(8,81,156)"
          ],
          [
           1,
           "rgb(8,48,107)"
          ]
         ],
         "hoverinfo": "text",
         "showscale": false,
         "text": [
          [
           "Truth: Excluded<br>Prediction: Included<br>Total: 126",
           "Truth: Excluded<br>Prediction: Excluded<br>Total: 275"
          ],
          [
           "Truth: Included<br>Prediction: Included<br>Total: 15",
           "Truth: Included<br>Prediction: Excluded<br>Total: 0"
          ]
         ],
         "type": "heatmap",
         "x": [
          "0",
          "1"
         ],
         "xaxis": "x2",
         "y": [
          "0",
          "1"
         ],
         "yaxis": "y2",
         "z": [
          [
           126,
           275
          ],
          [
           15,
           0
          ]
         ]
        }
       ],
       "layout": {
        "annotations": [
         {
          "font": {
           "size": 18
          },
          "showarrow": false,
          "text": "Training Matrix",
          "x": 0.2125,
          "xanchor": "center",
          "xref": "paper",
          "y": 1.03,
          "yanchor": "bottom",
          "yref": "paper"
         },
         {
          "font": {
           "size": 18
          },
          "showarrow": false,
          "text": "Validation Matrix",
          "x": 0.7875,
          "xanchor": "center",
          "xref": "paper",
          "y": 1.03,
          "yanchor": "bottom",
          "yref": "paper"
         },
         {
          "font": {
           "color": " dark blue"
          },
          "showarrow": false,
          "text": "204",
          "x": "0",
          "xref": "x",
          "y": "0",
          "yref": "y"
         },
         {
          "font": {
           "color": "white"
          },
          "showarrow": false,
          "text": "599",
          "x": "1",
          "xref": "x",
          "y": "0",
          "yref": "y"
         },
         {
          "font": {
           "color": " dark blue"
          },
          "showarrow": false,
          "text": "29",
          "x": "0",
          "xref": "x",
          "y": "1",
          "yref": "y"
         },
         {
          "font": {
           "color": " dark blue"
          },
          "showarrow": false,
          "text": "0",
          "x": "1",
          "xref": "x",
          "y": "1",
          "yref": "y"
         },
         {
          "font": {
           "color": " dark blue"
          },
          "showarrow": false,
          "text": "126",
          "x": "0",
          "xref": "x2",
          "y": "0",
          "yref": "y2"
         },
         {
          "font": {
           "color": "white"
          },
          "showarrow": false,
          "text": "275",
          "x": "1",
          "xref": "x2",
          "y": "0",
          "yref": "y2"
         },
         {
          "font": {
           "color": " dark blue"
          },
          "showarrow": false,
          "text": "15",
          "x": "0",
          "xref": "x2",
          "y": "1",
          "yref": "y2"
         },
         {
          "font": {
           "color": " dark blue"
          },
          "showarrow": false,
          "text": "0",
          "x": "1",
          "xref": "x2",
          "y": "1",
          "yref": "y2"
         }
        ],
        "autosize": false,
        "height": 400,
        "shapes": [
         {
          "line": {
           "color": "black",
           "width": 2
          },
          "type": "rect",
          "x0": -0.5,
          "x1": 1.5,
          "xref": "x",
          "y0": -0.5,
          "y1": 1.5,
          "yref": "y"
         },
         {
          "line": {
           "color": "black",
           "width": 1.5
          },
          "type": "line",
          "x0": -0.5,
          "x1": 1.5,
          "xref": "x",
          "y0": 0.5,
          "y1": 0.5,
          "yref": "y"
         },
         {
          "line": {
           "color": "black",
           "width": 1.5
          },
          "type": "line",
          "x0": 0.5,
          "x1": 0.5,
          "xref": "x",
          "y0": -0.5,
          "y1": 1.5,
          "yref": "y"
         },
         {
          "line": {
           "color": "black",
           "width": 2
          },
          "type": "rect",
          "x0": -0.5,
          "x1": 1.5,
          "xref": "x2",
          "y0": -0.5,
          "y1": 1.5,
          "yref": "y2"
         },
         {
          "line": {
           "color": "black",
           "width": 1.5
          },
          "type": "line",
          "x0": -0.5,
          "x1": 1.5,
          "xref": "x2",
          "y0": 0.5,
          "y1": 0.5,
          "yref": "y2"
         },
         {
          "line": {
           "color": "black",
           "width": 1.5
          },
          "type": "line",
          "x0": 0.5,
          "x1": 0.5,
          "xref": "x2",
          "y0": -0.5,
          "y1": 1.5,
          "yref": "y2"
         }
        ],
        "template": {
         "data": {
          "bar": [
           {
            "error_x": {
             "color": "#2a3f5f"
            },
            "error_y": {
             "color": "#2a3f5f"
            },
            "marker": {
             "line": {
              "color": "#E5ECF6",
              "width": 0.5
             },
             "pattern": {
              "fillmode": "overlay",
              "size": 10,
              "solidity": 0.2
             }
            },
            "type": "bar"
           }
          ],
          "barpolar": [
           {
            "marker": {
             "line": {
              "color": "#E5ECF6",
              "width": 0.5
             },
             "pattern": {
              "fillmode": "overlay",
              "size": 10,
              "solidity": 0.2
             }
            },
            "type": "barpolar"
           }
          ],
          "carpet": [
           {
            "aaxis": {
             "endlinecolor": "#2a3f5f",
             "gridcolor": "white",
             "linecolor": "white",
             "minorgridcolor": "white",
             "startlinecolor": "#2a3f5f"
            },
            "baxis": {
             "endlinecolor": "#2a3f5f",
             "gridcolor": "white",
             "linecolor": "white",
             "minorgridcolor": "white",
             "startlinecolor": "#2a3f5f"
            },
            "type": "carpet"
           }
          ],
          "choropleth": [
           {
            "colorbar": {
             "outlinewidth": 0,
             "ticks": ""
            },
            "type": "choropleth"
           }
          ],
          "contour": [
           {
            "colorbar": {
             "outlinewidth": 0,
             "ticks": ""
            },
            "colorscale": [
             [
              0,
              "#0d0887"
             ],
             [
              0.1111111111111111,
              "#46039f"
             ],
             [
              0.2222222222222222,
              "#7201a8"
             ],
             [
              0.3333333333333333,
              "#9c179e"
             ],
             [
              0.4444444444444444,
              "#bd3786"
             ],
             [
              0.5555555555555556,
              "#d8576b"
             ],
             [
              0.6666666666666666,
              "#ed7953"
             ],
             [
              0.7777777777777778,
              "#fb9f3a"
             ],
             [
              0.8888888888888888,
              "#fdca26"
             ],
             [
              1,
              "#f0f921"
             ]
            ],
            "type": "contour"
           }
          ],
          "contourcarpet": [
           {
            "colorbar": {
             "outlinewidth": 0,
             "ticks": ""
            },
            "type": "contourcarpet"
           }
          ],
          "heatmap": [
           {
            "colorbar": {
             "outlinewidth": 0,
             "ticks": ""
            },
            "colorscale": [
             [
              0,
              "#0d0887"
             ],
             [
              0.1111111111111111,
              "#46039f"
             ],
             [
              0.2222222222222222,
              "#7201a8"
             ],
             [
              0.3333333333333333,
              "#9c179e"
             ],
             [
              0.4444444444444444,
              "#bd3786"
             ],
             [
              0.5555555555555556,
              "#d8576b"
             ],
             [
              0.6666666666666666,
              "#ed7953"
             ],
             [
              0.7777777777777778,
              "#fb9f3a"
             ],
             [
              0.8888888888888888,
              "#fdca26"
             ],
             [
              1,
              "#f0f921"
             ]
            ],
            "type": "heatmap"
           }
          ],
          "heatmapgl": [
           {
            "colorbar": {
             "outlinewidth": 0,
             "ticks": ""
            },
            "colorscale": [
             [
              0,
              "#0d0887"
             ],
             [
              0.1111111111111111,
              "#46039f"
             ],
             [
              0.2222222222222222,
              "#7201a8"
             ],
             [
              0.3333333333333333,
              "#9c179e"
             ],
             [
              0.4444444444444444,
              "#bd3786"
             ],
             [
              0.5555555555555556,
              "#d8576b"
             ],
             [
              0.6666666666666666,
              "#ed7953"
             ],
             [
              0.7777777777777778,
              "#fb9f3a"
             ],
             [
              0.8888888888888888,
              "#fdca26"
             ],
             [
              1,
              "#f0f921"
             ]
            ],
            "type": "heatmapgl"
           }
          ],
          "histogram": [
           {
            "marker": {
             "pattern": {
              "fillmode": "overlay",
              "size": 10,
              "solidity": 0.2
             }
            },
            "type": "histogram"
           }
          ],
          "histogram2d": [
           {
            "colorbar": {
             "outlinewidth": 0,
             "ticks": ""
            },
            "colorscale": [
             [
              0,
              "#0d0887"
             ],
             [
              0.1111111111111111,
              "#46039f"
             ],
             [
              0.2222222222222222,
              "#7201a8"
             ],
             [
              0.3333333333333333,
              "#9c179e"
             ],
             [
              0.4444444444444444,
              "#bd3786"
             ],
             [
              0.5555555555555556,
              "#d8576b"
             ],
             [
              0.6666666666666666,
              "#ed7953"
             ],
             [
              0.7777777777777778,
              "#fb9f3a"
             ],
             [
              0.8888888888888888,
              "#fdca26"
             ],
             [
              1,
              "#f0f921"
             ]
            ],
            "type": "histogram2d"
           }
          ],
          "histogram2dcontour": [
           {
            "colorbar": {
             "outlinewidth": 0,
             "ticks": ""
            },
            "colorscale": [
             [
              0,
              "#0d0887"
             ],
             [
              0.1111111111111111,
              "#46039f"
             ],
             [
              0.2222222222222222,
              "#7201a8"
             ],
             [
              0.3333333333333333,
              "#9c179e"
             ],
             [
              0.4444444444444444,
              "#bd3786"
             ],
             [
              0.5555555555555556,
              "#d8576b"
             ],
             [
              0.6666666666666666,
              "#ed7953"
             ],
             [
              0.7777777777777778,
              "#fb9f3a"
             ],
             [
              0.8888888888888888,
              "#fdca26"
             ],
             [
              1,
              "#f0f921"
             ]
            ],
            "type": "histogram2dcontour"
           }
          ],
          "mesh3d": [
           {
            "colorbar": {
             "outlinewidth": 0,
             "ticks": ""
            },
            "type": "mesh3d"
           }
          ],
          "parcoords": [
           {
            "line": {
             "colorbar": {
              "outlinewidth": 0,
              "ticks": ""
             }
            },
            "type": "parcoords"
           }
          ],
          "pie": [
           {
            "automargin": true,
            "type": "pie"
           }
          ],
          "scatter": [
           {
            "fillpattern": {
             "fillmode": "overlay",
             "size": 10,
             "solidity": 0.2
            },
            "type": "scatter"
           }
          ],
          "scatter3d": [
           {
            "line": {
             "colorbar": {
              "outlinewidth": 0,
              "ticks": ""
             }
            },
            "marker": {
             "colorbar": {
              "outlinewidth": 0,
              "ticks": ""
             }
            },
            "type": "scatter3d"
           }
          ],
          "scattercarpet": [
           {
            "marker": {
             "colorbar": {
              "outlinewidth": 0,
              "ticks": ""
             }
            },
            "type": "scattercarpet"
           }
          ],
          "scattergeo": [
           {
            "marker": {
             "colorbar": {
              "outlinewidth": 0,
              "ticks": ""
             }
            },
            "type": "scattergeo"
           }
          ],
          "scattergl": [
           {
            "marker": {
             "colorbar": {
              "outlinewidth": 0,
              "ticks": ""
             }
            },
            "type": "scattergl"
           }
          ],
          "scattermapbox": [
           {
            "marker": {
             "colorbar": {
              "outlinewidth": 0,
              "ticks": ""
             }
            },
            "type": "scattermapbox"
           }
          ],
          "scatterpolar": [
           {
            "marker": {
             "colorbar": {
              "outlinewidth": 0,
              "ticks": ""
             }
            },
            "type": "scatterpolar"
           }
          ],
          "scatterpolargl": [
           {
            "marker": {
             "colorbar": {
              "outlinewidth": 0,
              "ticks": ""
             }
            },
            "type": "scatterpolargl"
           }
          ],
          "scatterternary": [
           {
            "marker": {
             "colorbar": {
              "outlinewidth": 0,
              "ticks": ""
             }
            },
            "type": "scatterternary"
           }
          ],
          "surface": [
           {
            "colorbar": {
             "outlinewidth": 0,
             "ticks": ""
            },
            "colorscale": [
             [
              0,
              "#0d0887"
             ],
             [
              0.1111111111111111,
              "#46039f"
             ],
             [
              0.2222222222222222,
              "#7201a8"
             ],
             [
              0.3333333333333333,
              "#9c179e"
             ],
             [
              0.4444444444444444,
              "#bd3786"
             ],
             [
              0.5555555555555556,
              "#d8576b"
             ],
             [
              0.6666666666666666,
              "#ed7953"
             ],
             [
              0.7777777777777778,
              "#fb9f3a"
             ],
             [
              0.8888888888888888,
              "#fdca26"
             ],
             [
              1,
              "#f0f921"
             ]
            ],
            "type": "surface"
           }
          ],
          "table": [
           {
            "cells": {
             "fill": {
              "color": "#EBF0F8"
             },
             "line": {
              "color": "white"
             }
            },
            "header": {
             "fill": {
              "color": "#C8D4E3"
             },
             "line": {
              "color": "white"
             }
            },
            "type": "table"
           }
          ]
         },
         "layout": {
          "annotationdefaults": {
           "arrowcolor": "#2a3f5f",
           "arrowhead": 0,
           "arrowwidth": 1
          },
          "autotypenumbers": "strict",
          "coloraxis": {
           "colorbar": {
            "outlinewidth": 0,
            "ticks": ""
           }
          },
          "colorscale": {
           "diverging": [
            [
             0,
             "#8e0152"
            ],
            [
             0.1,
             "#c51b7d"
            ],
            [
             0.2,
             "#de77ae"
            ],
            [
             0.3,
             "#f1b6da"
            ],
            [
             0.4,
             "#fde0ef"
            ],
            [
             0.5,
             "#f7f7f7"
            ],
            [
             0.6,
             "#e6f5d0"
            ],
            [
             0.7,
             "#b8e186"
            ],
            [
             0.8,
             "#7fbc41"
            ],
            [
             0.9,
             "#4d9221"
            ],
            [
             1,
             "#276419"
            ]
           ],
           "sequential": [
            [
             0,
             "#0d0887"
            ],
            [
             0.1111111111111111,
             "#46039f"
            ],
            [
             0.2222222222222222,
             "#7201a8"
            ],
            [
             0.3333333333333333,
             "#9c179e"
            ],
            [
             0.4444444444444444,
             "#bd3786"
            ],
            [
             0.5555555555555556,
             "#d8576b"
            ],
            [
             0.6666666666666666,
             "#ed7953"
            ],
            [
             0.7777777777777778,
             "#fb9f3a"
            ],
            [
             0.8888888888888888,
             "#fdca26"
            ],
            [
             1,
             "#f0f921"
            ]
           ],
           "sequentialminus": [
            [
             0,
             "#0d0887"
            ],
            [
             0.1111111111111111,
             "#46039f"
            ],
            [
             0.2222222222222222,
             "#7201a8"
            ],
            [
             0.3333333333333333,
             "#9c179e"
            ],
            [
             0.4444444444444444,
             "#bd3786"
            ],
            [
             0.5555555555555556,
             "#d8576b"
            ],
            [
             0.6666666666666666,
             "#ed7953"
            ],
            [
             0.7777777777777778,
             "#fb9f3a"
            ],
            [
             0.8888888888888888,
             "#fdca26"
            ],
            [
             1,
             "#f0f921"
            ]
           ]
          },
          "colorway": [
           "#636efa",
           "#EF553B",
           "#00cc96",
           "#ab63fa",
           "#FFA15A",
           "#19d3f3",
           "#FF6692",
           "#B6E880",
           "#FF97FF",
           "#FECB52"
          ],
          "font": {
           "color": "#2a3f5f"
          },
          "geo": {
           "bgcolor": "white",
           "lakecolor": "white",
           "landcolor": "#E5ECF6",
           "showlakes": true,
           "showland": true,
           "subunitcolor": "white"
          },
          "hoverlabel": {
           "align": "left"
          },
          "hovermode": "closest",
          "mapbox": {
           "style": "light"
          },
          "paper_bgcolor": "white",
          "plot_bgcolor": "#E5ECF6",
          "polar": {
           "angularaxis": {
            "gridcolor": "white",
            "linecolor": "white",
            "ticks": ""
           },
           "bgcolor": "#E5ECF6",
           "radialaxis": {
            "gridcolor": "white",
            "linecolor": "white",
            "ticks": ""
           }
          },
          "scene": {
           "xaxis": {
            "backgroundcolor": "#E5ECF6",
            "gridcolor": "white",
            "gridwidth": 2,
            "linecolor": "white",
            "showbackground": true,
            "ticks": "",
            "zerolinecolor": "white"
           },
           "yaxis": {
            "backgroundcolor": "#E5ECF6",
            "gridcolor": "white",
            "gridwidth": 2,
            "linecolor": "white",
            "showbackground": true,
            "ticks": "",
            "zerolinecolor": "white"
           },
           "zaxis": {
            "backgroundcolor": "#E5ECF6",
            "gridcolor": "white",
            "gridwidth": 2,
            "linecolor": "white",
            "showbackground": true,
            "ticks": "",
            "zerolinecolor": "white"
           }
          },
          "shapedefaults": {
           "line": {
            "color": "#2a3f5f"
           }
          },
          "ternary": {
           "aaxis": {
            "gridcolor": "white",
            "linecolor": "white",
            "ticks": ""
           },
           "baxis": {
            "gridcolor": "white",
            "linecolor": "white",
            "ticks": ""
           },
           "bgcolor": "#E5ECF6",
           "caxis": {
            "gridcolor": "white",
            "linecolor": "white",
            "ticks": ""
           }
          },
          "title": {
           "x": 0.05
          },
          "xaxis": {
           "automargin": true,
           "gridcolor": "white",
           "linecolor": "white",
           "ticks": "",
           "title": {
            "standoff": 15
           },
           "zerolinecolor": "white",
           "zerolinewidth": 2
          },
          "yaxis": {
           "automargin": true,
           "gridcolor": "white",
           "linecolor": "white",
           "ticks": "",
           "title": {
            "standoff": 15
           },
           "zerolinecolor": "white",
           "zerolinewidth": 2
          }
         }
        },
        "width": 700,
        "xaxis": {
         "anchor": "y",
         "domain": [
          0,
          0.425
         ],
         "mirror": true,
         "tickcolor": "black",
         "ticklen": 5,
         "tickmode": "array",
         "ticks": "outside",
         "ticktext": [
          "1",
          "0"
         ],
         "tickvals": [
          0,
          1
         ],
         "tickwidth": 1,
         "title": {
          "text": "Prediction"
         }
        },
        "xaxis2": {
         "anchor": "y2",
         "domain": [
          0.575,
          1
         ],
         "mirror": true,
         "tickcolor": "black",
         "ticklen": 5,
         "tickmode": "array",
         "ticks": "outside",
         "ticktext": [
          "1",
          "0"
         ],
         "tickvals": [
          0,
          1
         ],
         "tickwidth": 1,
         "title": {
          "text": "Prediction"
         }
        },
        "yaxis": {
         "anchor": "x",
         "domain": [
          0,
          1
         ],
         "mirror": true,
         "tickcolor": "black",
         "ticklen": 5,
         "tickmode": "array",
         "ticks": "outside",
         "ticktext": [
          "0",
          "1"
         ],
         "tickvals": [
          0,
          1
         ],
         "tickwidth": 1,
         "title": {
          "standoff": 0.3,
          "text": "Truth"
         }
        },
        "yaxis2": {
         "anchor": "x2",
         "domain": [
          0,
          1
         ],
         "mirror": true,
         "tickcolor": "black",
         "ticklen": 5,
         "tickmode": "array",
         "ticks": "outside",
         "ticktext": [
          "0",
          "1"
         ],
         "tickvals": [
          0,
          1
         ],
         "tickwidth": 1,
         "title": {
          "standoff": 0.3,
          "text": "Truth"
         }
        }
       }
      }
     },
     "metadata": {},
     "output_type": "display_data"
    }
   ],
   "source": [
    "import numpy as np\n",
    "import plotly.graph_objects as go\n",
    "from plotly.subplots import make_subplots\n",
    "from sklearn.metrics import confusion_matrix\n",
    "\n",
    "import plotly.io as pio\n",
    "\n",
    "labels = [\"0\", \"1\"]\n",
    "cm = confusion_matrix(y_train, y_train_pred)\n",
    "cm = np.array([[cm[0, 1], cm[0, 0]], [cm[1, 1], cm[1, 0]]])\n",
    "\n",
    "cm2 = confusion_matrix(y_test, y_test_pred)\n",
    "cm2 = np.array([[cm2[0, 1], cm2[0, 0]], [cm2[1, 1], cm2[1, 0]]])\n",
    "\n",
    "fig = make_subplots(\n",
    "    rows=1,\n",
    "    cols=2,\n",
    "    subplot_titles=[\"Training Matrix\", \"Validation Matrix\"],\n",
    "    horizontal_spacing=0.15,\n",
    ")\n",
    "\n",
    "# Increase font size and height of titles\n",
    "for annotation in fig[\"layout\"][\"annotations\"]:\n",
    "    annotation[\"font\"] = dict(size=18)  # Increase font size here\n",
    "    annotation[\"y\"] = 1.03  # Increase height of title\n",
    "\n",
    "\n",
    "fig.update_layout(\n",
    "    autosize=False,\n",
    "    width=700,\n",
    "    height=400,\n",
    ")\n",
    "\n",
    "\n",
    "hover_text = np.empty_like(cm, dtype=object)\n",
    "hover_text[0, 0] = f\"Truth: Excluded<br>Prediction: Included<br>Total: {cm[0,0]}\"\n",
    "hover_text[0, 1] = f\"Truth: Excluded<br>Prediction: Excluded<br>Total: {cm[0,1]}\"\n",
    "hover_text[1, 0] = f\"Truth: Included<br>Prediction: Included<br>Total: {cm[1,0]}\"\n",
    "hover_text[1, 1] = f\"Truth: Included<br>Prediction: Excluded<br>Total: {cm[1,1]}\"\n",
    "\n",
    "\n",
    "# Adding heatmaps to both subplots\n",
    "\n",
    "fig.add_trace(\n",
    "    go.Heatmap(\n",
    "        z=cm,\n",
    "        x=labels,\n",
    "        y=labels,\n",
    "        colorscale=\"Blues\",\n",
    "        showscale=False,\n",
    "        text=hover_text,\n",
    "        hoverinfo=\"text\",\n",
    "    ),\n",
    "    row=1,\n",
    "    col=1,\n",
    ")\n",
    "\n",
    "hover_text = np.empty_like(cm2, dtype=object)\n",
    "hover_text[0, 0] = f\"Truth: Excluded<br>Prediction: Included<br>Total: {cm2[0,0]}\"\n",
    "hover_text[0, 1] = f\"Truth: Excluded<br>Prediction: Excluded<br>Total: {cm2[0,1]}\"\n",
    "hover_text[1, 0] = f\"Truth: Included<br>Prediction: Included<br>Total: {cm2[1,0]}\"\n",
    "hover_text[1, 1] = f\"Truth: Included<br>Prediction: Excluded<br>Total: {cm2[1,1]}\"\n",
    "\n",
    "fig.add_trace(\n",
    "    go.Heatmap(\n",
    "        z=cm2,\n",
    "        x=labels,\n",
    "        y=labels,\n",
    "        colorscale=\"Blues\",\n",
    "        showscale=False,\n",
    "        text=hover_text,\n",
    "        hoverinfo=\"text\",\n",
    "    ),\n",
    "    row=1,\n",
    "    col=2,\n",
    ")\n",
    "\n",
    "\n",
    "def get_font_color(value, cm):\n",
    "    if value > cm.max() / 2:\n",
    "        return \"white\"\n",
    "    else:\n",
    "        return \" dark blue\"\n",
    "\n",
    "\n",
    "for i, row in enumerate(cm):\n",
    "    for j, value in enumerate(row):\n",
    "        fig.add_annotation(\n",
    "            dict(\n",
    "                text=str(value),\n",
    "                x=labels[j],\n",
    "                y=labels[i],\n",
    "                xref=f\"x{1}\",\n",
    "                yref=f\"y{1}\",\n",
    "                showarrow=False,\n",
    "                font=dict(color=get_font_color(value, cm)),\n",
    "            )\n",
    "        )\n",
    "\n",
    "for i, row in enumerate(cm2):\n",
    "    for j, value in enumerate(row):\n",
    "        fig.add_annotation(\n",
    "            dict(\n",
    "                text=str(value),\n",
    "                x=labels[j],\n",
    "                y=labels[i],\n",
    "                xref=f\"x{index}\",\n",
    "                yref=f\"y{index}\",\n",
    "                showarrow=False,\n",
    "                font=dict(color=get_font_color(value, cm2)),\n",
    "            )\n",
    "        )\n",
    "\n",
    "# Adding annotations and shapes\n",
    "for index in [1, 2]:\n",
    "    # Add rectangle and line shapes per subplot\n",
    "    fig.add_shape(\n",
    "        type=\"rect\",\n",
    "        xref=f\"x{index}\",\n",
    "        yref=f\"y{index}\",\n",
    "        x0=-0.5,\n",
    "        y0=-0.5,\n",
    "        x1=len(labels) - 0.5,\n",
    "        y1=len(labels) - 0.5,\n",
    "        line=dict(color=\"black\", width=2),\n",
    "    )\n",
    "    fig.add_shape(\n",
    "        type=\"line\",\n",
    "        xref=f\"x{index}\",\n",
    "        yref=f\"y{index}\",\n",
    "        x0=-0.5,\n",
    "        y0=0.5,\n",
    "        x1=len(labels) - 0.5,\n",
    "        y1=0.5,\n",
    "        line=dict(color=\"black\", width=1.5),\n",
    "    )\n",
    "    fig.add_shape(\n",
    "        type=\"line\",\n",
    "        xref=f\"x{index}\",\n",
    "        yref=f\"y{index}\",\n",
    "        x0=0.5,\n",
    "        y0=-0.5,\n",
    "        x1=0.5,\n",
    "        y1=1.5,\n",
    "        line=dict(color=\"black\", width=1.5),\n",
    "    )\n",
    "\n",
    "\n",
    "for i in range(1, 3):\n",
    "    fig.update_xaxes(\n",
    "        title_text=\"Prediction\",\n",
    "        row=1,\n",
    "        col=i,\n",
    "        tickmode=\"array\",\n",
    "        tickvals=[0, 1],\n",
    "        ticktext=labels[::-1],\n",
    "        ticks=\"outside\",\n",
    "        ticklen=5,  # Shorten tick length to touch grid lines\n",
    "        tickwidth=1,\n",
    "        tickcolor=\"black\",\n",
    "        mirror=True,  # Mirror ticks on both sides\n",
    "    )\n",
    "    fig.update_yaxes(\n",
    "        title_text=\"Truth\",\n",
    "        row=1,\n",
    "        col=i,\n",
    "        tickmode=\"array\",\n",
    "        tickvals=[0, 1],\n",
    "        ticktext=labels,\n",
    "        ticks=\"outside\",\n",
    "        ticklen=5,  # Shorten tick length to touch grid lines\n",
    "        tickwidth=1,\n",
    "        tickcolor=\"black\",\n",
    "        mirror=True,  # Mirror ticks on both sides\n",
    "        title_standoff=0.3,\n",
    "    )\n",
    "\n",
    "# Update layout for a better view\n",
    "pio.write_html(\n",
    "    fig,\n",
    "    file=\"confusion_matrix.html\",\n",
    "    auto_open=True,\n",
    "    include_plotlyjs=\"cdn\",\n",
    ")\n",
    "\n",
    "fig.show()"
   ]
  }
 ],
 "metadata": {
  "kernelspec": {
   "display_name": "base",
   "language": "python",
   "name": "python3"
  },
  "language_info": {
   "codemirror_mode": {
    "name": "ipython",
    "version": 3
   },
   "file_extension": ".py",
   "mimetype": "text/x-python",
   "name": "python",
   "nbconvert_exporter": "python",
   "pygments_lexer": "ipython3",
   "version": "3.11.8"
  }
 },
 "nbformat": 4,
 "nbformat_minor": 2
}
