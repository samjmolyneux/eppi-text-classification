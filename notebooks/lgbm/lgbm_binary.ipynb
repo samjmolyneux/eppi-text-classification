{
 "cells": [
  {
   "cell_type": "code",
   "execution_count": 1,
   "metadata": {},
   "outputs": [],
   "source": [
    "%load_ext autoreload\n",
    "%autoreload 2"
   ]
  },
  {
   "cell_type": "code",
   "execution_count": 2,
   "metadata": {},
   "outputs": [],
   "source": [
    "# GET THE DATAFRAME.\n",
    "\n",
    "import pandas as pd\n",
    "\n",
    "df_path = \"../../data/raw/debunking_review.tsv\"\n",
    "# df_path = \"../../data/raw/hedges-all.tsv\"\n",
    "# df_path = \"../../data/raw/studytype_multiclass.tsv\"\n",
    "df = pd.read_csv(df_path, sep=\"\\t\")"
   ]
  },
  {
   "cell_type": "code",
   "execution_count": 3,
   "metadata": {},
   "outputs": [
    {
     "name": "stdout",
     "output_type": "stream",
     "text": [
      "number of processes: 12\n",
      "number of processes: 12\n"
     ]
    }
   ],
   "source": [
    "# PERFORM DATA PROCESSING (LEMATIZATION ETC), GET TFIDF SCORES AND FEATURE NAMES.\n",
    "# COULD be parallelised\n",
    "from eppi_text_classification import (\n",
    "    get_features,\n",
    "    get_labels,\n",
    "    get_tfidf_and_names,\n",
    ")\n",
    "\n",
    "word_features = get_features(\n",
    "    df,\n",
    "    # title_key=\"TI\",\n",
    "    # abstract_key=\"AB\",\n",
    ")\n"
   ]
  },
  {
   "cell_type": "code",
   "execution_count": 4,
   "metadata": {},
   "outputs": [],
   "source": [
    "labels = get_labels(\n",
    "    df,\n",
    "    # label_column_name=\"Class\",\n",
    "    # positive_class_value=\"CaseControlStudies\",\n",
    ")\n",
    "tfidf_scores, feature_names = get_tfidf_and_names(word_features)"
   ]
  },
  {
   "cell_type": "code",
   "execution_count": 10,
   "metadata": {},
   "outputs": [
    {
     "name": "stdout",
     "output_type": "stream",
     "text": [
      "sqlite:////Users/sjmolyneux/Documents/EPPI_Classification_Public/eppi_text_classification/optuna.db\n",
      "{'max_depth': {'low': 1, 'high': 15, 'log': False}, 'min_child_samples': {'low': 1, 'high': 30, 'log': False}, 'learning_rate': {'low': 0.1, 'high': 0.6, 'log': False}, 'num_leaves': {'low': 2, 'high': 50, 'log': False}, 'n_estimators': {'low': 100, 'high': 100, 'log': False}, 'min_split_gain': {'low': 1e-06, 'high': 10, 'log': False}, 'min_child_weight': {'low': 1e-06, 'high': 0.1, 'log': True}, 'reg_alpha': {'low': 1e-05, 'high': 10, 'log': True}, 'reg_lambda': {'low': 1e-05, 'high': 10, 'log': True}}\n",
      "Positive class weight: 27.363636363636363\n"
     ]
    },
    {
     "name": "stderr",
     "output_type": "stream",
     "text": [
      "[I 2024-10-07 12:44:39,320] A new study created in RDB with name: lgbm_binary\n",
      "/Users/sjmolyneux/Documents/EPPI_Classification_Public/eppi_text_classification/eppi_text_classification/opt.py:763: ExperimentalWarning: BestValueStagnationEvaluator is experimental (supported from v3.4.0). The interface can change in the future.\n",
      "  terminator = Terminator(\n",
      "/Users/sjmolyneux/Documents/EPPI_Classification_Public/eppi_text_classification/eppi_text_classification/opt.py:766: ExperimentalWarning: StaticErrorEvaluator is experimental (supported from v3.2.0). The interface can change in the future.\n",
      "  ),\n",
      "/Users/sjmolyneux/Documents/EPPI_Classification_Public/eppi_text_classification/eppi_text_classification/opt.py:762: ExperimentalWarning: Terminator is experimental (supported from v3.2.0). The interface can change in the future.\n",
      "  if self.max_stagnation_iterations is not None:\n",
      "/Users/sjmolyneux/Documents/EPPI_Classification_Public/eppi_text_classification/eppi_text_classification/opt.py:769: ExperimentalWarning: TerminatorCallback is experimental (supported from v3.2.0). The interface can change in the future.\n",
      "  )\n",
      "/Users/sjmolyneux/Documents/EPPI_Classification_Public/eppi_text_classification/eppi_text_classification/opt.py:763: ExperimentalWarning: BestValueStagnationEvaluator is experimental (supported from v3.4.0). The interface can change in the future.\n",
      "  terminator = Terminator(\n",
      "/Users/sjmolyneux/Documents/EPPI_Classification_Public/eppi_text_classification/eppi_text_classification/opt.py:766: ExperimentalWarning: StaticErrorEvaluator is experimental (supported from v3.2.0). The interface can change in the future.\n",
      "  ),\n",
      "/Users/sjmolyneux/Documents/EPPI_Classification_Public/eppi_text_classification/eppi_text_classification/opt.py:762: ExperimentalWarning: Terminator is experimental (supported from v3.2.0). The interface can change in the future.\n",
      "  if self.max_stagnation_iterations is not None:\n",
      "/Users/sjmolyneux/Documents/EPPI_Classification_Public/eppi_text_classification/eppi_text_classification/opt.py:769: ExperimentalWarning: TerminatorCallback is experimental (supported from v3.2.0). The interface can change in the future.\n",
      "  )\n",
      "/Users/sjmolyneux/Documents/EPPI_Classification_Public/eppi_text_classification/eppi_text_classification/opt.py:763: ExperimentalWarning: BestValueStagnationEvaluator is experimental (supported from v3.4.0). The interface can change in the future.\n",
      "  terminator = Terminator(\n",
      "/Users/sjmolyneux/Documents/EPPI_Classification_Public/eppi_text_classification/eppi_text_classification/opt.py:766: ExperimentalWarning: StaticErrorEvaluator is experimental (supported from v3.2.0). The interface can change in the future.\n",
      "  ),\n",
      "/Users/sjmolyneux/Documents/EPPI_Classification_Public/eppi_text_classification/eppi_text_classification/opt.py:762: ExperimentalWarning: Terminator is experimental (supported from v3.2.0). The interface can change in the future.\n",
      "  if self.max_stagnation_iterations is not None:\n",
      "/Users/sjmolyneux/Documents/EPPI_Classification_Public/eppi_text_classification/eppi_text_classification/opt.py:769: ExperimentalWarning: TerminatorCallback is experimental (supported from v3.2.0). The interface can change in the future.\n",
      "  )\n",
      "/Users/sjmolyneux/Documents/EPPI_Classification_Public/eppi_text_classification/eppi_text_classification/opt.py:763: ExperimentalWarning: BestValueStagnationEvaluator is experimental (supported from v3.4.0). The interface can change in the future.\n",
      "  terminator = Terminator(\n",
      "/Users/sjmolyneux/Documents/EPPI_Classification_Public/eppi_text_classification/eppi_text_classification/opt.py:766: ExperimentalWarning: StaticErrorEvaluator is experimental (supported from v3.2.0). The interface can change in the future.\n",
      "  ),\n",
      "/Users/sjmolyneux/Documents/EPPI_Classification_Public/eppi_text_classification/eppi_text_classification/opt.py:762: ExperimentalWarning: Terminator is experimental (supported from v3.2.0). The interface can change in the future.\n",
      "  if self.max_stagnation_iterations is not None:\n",
      "/Users/sjmolyneux/Documents/EPPI_Classification_Public/eppi_text_classification/eppi_text_classification/opt.py:769: ExperimentalWarning: TerminatorCallback is experimental (supported from v3.2.0). The interface can change in the future.\n",
      "  )\n",
      "/Users/sjmolyneux/Documents/EPPI_Classification_Public/eppi_text_classification/eppi_text_classification/opt.py:763: ExperimentalWarning: BestValueStagnationEvaluator is experimental (supported from v3.4.0). The interface can change in the future.\n",
      "  terminator = Terminator(\n",
      "/Users/sjmolyneux/Documents/EPPI_Classification_Public/eppi_text_classification/eppi_text_classification/opt.py:766: ExperimentalWarning: StaticErrorEvaluator is experimental (supported from v3.2.0). The interface can change in the future.\n",
      "  ),\n",
      "/Users/sjmolyneux/Documents/EPPI_Classification_Public/eppi_text_classification/eppi_text_classification/opt.py:762: ExperimentalWarning: Terminator is experimental (supported from v3.2.0). The interface can change in the future.\n",
      "  if self.max_stagnation_iterations is not None:\n",
      "/Users/sjmolyneux/Documents/EPPI_Classification_Public/eppi_text_classification/eppi_text_classification/opt.py:769: ExperimentalWarning: TerminatorCallback is experimental (supported from v3.2.0). The interface can change in the future.\n",
      "  )\n",
      "/Users/sjmolyneux/Documents/EPPI_Classification_Public/eppi_text_classification/eppi_text_classification/opt.py:763: ExperimentalWarning: BestValueStagnationEvaluator is experimental (supported from v3.4.0). The interface can change in the future.\n",
      "  terminator = Terminator(\n",
      "/Users/sjmolyneux/Documents/EPPI_Classification_Public/eppi_text_classification/eppi_text_classification/opt.py:766: ExperimentalWarning: StaticErrorEvaluator is experimental (supported from v3.2.0). The interface can change in the future.\n",
      "  ),\n",
      "/Users/sjmolyneux/Documents/EPPI_Classification_Public/eppi_text_classification/eppi_text_classification/opt.py:762: ExperimentalWarning: Terminator is experimental (supported from v3.2.0). The interface can change in the future.\n",
      "  if self.max_stagnation_iterations is not None:\n",
      "/Users/sjmolyneux/Documents/EPPI_Classification_Public/eppi_text_classification/eppi_text_classification/opt.py:769: ExperimentalWarning: TerminatorCallback is experimental (supported from v3.2.0). The interface can change in the future.\n",
      "  )\n",
      "/Users/sjmolyneux/Documents/EPPI_Classification_Public/eppi_text_classification/eppi_text_classification/opt.py:763: ExperimentalWarning: BestValueStagnationEvaluator is experimental (supported from v3.4.0). The interface can change in the future.\n",
      "  terminator = Terminator(\n",
      "/Users/sjmolyneux/Documents/EPPI_Classification_Public/eppi_text_classification/eppi_text_classification/opt.py:766: ExperimentalWarning: StaticErrorEvaluator is experimental (supported from v3.2.0). The interface can change in the future.\n",
      "  ),\n",
      "/Users/sjmolyneux/Documents/EPPI_Classification_Public/eppi_text_classification/eppi_text_classification/opt.py:762: ExperimentalWarning: Terminator is experimental (supported from v3.2.0). The interface can change in the future.\n",
      "  if self.max_stagnation_iterations is not None:\n",
      "/Users/sjmolyneux/Documents/EPPI_Classification_Public/eppi_text_classification/eppi_text_classification/opt.py:769: ExperimentalWarning: TerminatorCallback is experimental (supported from v3.2.0). The interface can change in the future.\n",
      "  )\n",
      "/Users/sjmolyneux/Documents/EPPI_Classification_Public/eppi_text_classification/eppi_text_classification/opt.py:763: ExperimentalWarning: BestValueStagnationEvaluator is experimental (supported from v3.4.0). The interface can change in the future.\n",
      "  terminator = Terminator(\n",
      "/Users/sjmolyneux/Documents/EPPI_Classification_Public/eppi_text_classification/eppi_text_classification/opt.py:766: ExperimentalWarning: StaticErrorEvaluator is experimental (supported from v3.2.0). The interface can change in the future.\n",
      "  ),\n",
      "/Users/sjmolyneux/Documents/EPPI_Classification_Public/eppi_text_classification/eppi_text_classification/opt.py:762: ExperimentalWarning: Terminator is experimental (supported from v3.2.0). The interface can change in the future.\n",
      "  if self.max_stagnation_iterations is not None:\n",
      "/Users/sjmolyneux/Documents/EPPI_Classification_Public/eppi_text_classification/eppi_text_classification/opt.py:769: ExperimentalWarning: TerminatorCallback is experimental (supported from v3.2.0). The interface can change in the future.\n",
      "  )\n",
      "/Users/sjmolyneux/Documents/EPPI_Classification_Public/eppi_text_classification/eppi_text_classification/opt.py:763: ExperimentalWarning: BestValueStagnationEvaluator is experimental (supported from v3.4.0). The interface can change in the future.\n",
      "  terminator = Terminator(\n",
      "/Users/sjmolyneux/Documents/EPPI_Classification_Public/eppi_text_classification/eppi_text_classification/opt.py:766: ExperimentalWarning: StaticErrorEvaluator is experimental (supported from v3.2.0). The interface can change in the future.\n",
      "  ),\n",
      "/Users/sjmolyneux/Documents/EPPI_Classification_Public/eppi_text_classification/eppi_text_classification/opt.py:762: ExperimentalWarning: Terminator is experimental (supported from v3.2.0). The interface can change in the future.\n",
      "  if self.max_stagnation_iterations is not None:\n",
      "/Users/sjmolyneux/Documents/EPPI_Classification_Public/eppi_text_classification/eppi_text_classification/opt.py:769: ExperimentalWarning: TerminatorCallback is experimental (supported from v3.2.0). The interface can change in the future.\n",
      "  )\n",
      "/Users/sjmolyneux/Documents/EPPI_Classification_Public/eppi_text_classification/eppi_text_classification/opt.py:763: ExperimentalWarning: BestValueStagnationEvaluator is experimental (supported from v3.4.0). The interface can change in the future.\n",
      "  terminator = Terminator(\n",
      "/Users/sjmolyneux/Documents/EPPI_Classification_Public/eppi_text_classification/eppi_text_classification/opt.py:766: ExperimentalWarning: StaticErrorEvaluator is experimental (supported from v3.2.0). The interface can change in the future.\n",
      "  ),\n",
      "/Users/sjmolyneux/Documents/EPPI_Classification_Public/eppi_text_classification/eppi_text_classification/opt.py:762: ExperimentalWarning: Terminator is experimental (supported from v3.2.0). The interface can change in the future.\n",
      "  if self.max_stagnation_iterations is not None:\n",
      "/Users/sjmolyneux/Documents/EPPI_Classification_Public/eppi_text_classification/eppi_text_classification/opt.py:769: ExperimentalWarning: TerminatorCallback is experimental (supported from v3.2.0). The interface can change in the future.\n",
      "  )\n",
      "/Users/sjmolyneux/Documents/EPPI_Classification_Public/eppi_text_classification/eppi_text_classification/opt.py:763: ExperimentalWarning: BestValueStagnationEvaluator is experimental (supported from v3.4.0). The interface can change in the future.\n",
      "  terminator = Terminator(\n",
      "/Users/sjmolyneux/Documents/EPPI_Classification_Public/eppi_text_classification/eppi_text_classification/opt.py:766: ExperimentalWarning: StaticErrorEvaluator is experimental (supported from v3.2.0). The interface can change in the future.\n",
      "  ),\n",
      "/Users/sjmolyneux/Documents/EPPI_Classification_Public/eppi_text_classification/eppi_text_classification/opt.py:762: ExperimentalWarning: Terminator is experimental (supported from v3.2.0). The interface can change in the future.\n",
      "  if self.max_stagnation_iterations is not None:\n",
      "/Users/sjmolyneux/Documents/EPPI_Classification_Public/eppi_text_classification/eppi_text_classification/opt.py:769: ExperimentalWarning: TerminatorCallback is experimental (supported from v3.2.0). The interface can change in the future.\n",
      "  )\n",
      "/Users/sjmolyneux/Documents/EPPI_Classification_Public/eppi_text_classification/eppi_text_classification/opt.py:763: ExperimentalWarning: BestValueStagnationEvaluator is experimental (supported from v3.4.0). The interface can change in the future.\n",
      "  terminator = Terminator(\n",
      "/Users/sjmolyneux/Documents/EPPI_Classification_Public/eppi_text_classification/eppi_text_classification/opt.py:766: ExperimentalWarning: StaticErrorEvaluator is experimental (supported from v3.2.0). The interface can change in the future.\n",
      "  ),\n",
      "/Users/sjmolyneux/Documents/EPPI_Classification_Public/eppi_text_classification/eppi_text_classification/opt.py:762: ExperimentalWarning: Terminator is experimental (supported from v3.2.0). The interface can change in the future.\n",
      "  if self.max_stagnation_iterations is not None:\n",
      "/Users/sjmolyneux/Documents/EPPI_Classification_Public/eppi_text_classification/eppi_text_classification/opt.py:769: ExperimentalWarning: TerminatorCallback is experimental (supported from v3.2.0). The interface can change in the future.\n",
      "  )\n"
     ]
    },
    {
     "name": "stdout",
     "output_type": "stream",
     "text": [
      "Finished trial with scores: [0.8678304239401496, 0.5962593516209476, 0.7476901208244493]\n"
     ]
    },
    {
     "name": "stderr",
     "output_type": "stream",
     "text": [
      "[I 2024-10-07 12:44:39,654] Trial 0 finished with value: 0.7372599654618487 and parameters: {'max_depth': 14, 'min_child_samples': 12, 'learning_rate': 0.5298926430849182, 'num_leaves': 2, 'n_estimators': 100, 'min_split_gain': 9.443152045274136, 'min_child_weight': 0.011739616614992747, 'reg_alpha': 1.2318169705126505, 'reg_lambda': 0.0022916732879502935}. Best is trial 0 with value: 0.7372599654618487.\n"
     ]
    },
    {
     "name": "stdout",
     "output_type": "stream",
     "text": [
      "Finished trial with scores: [0.8703241895261846, 0.7965087281795512, 0.9152452025586354]\n",
      "Finished trial with scores: [0.8904405652535329, 0.8166251039068995, 0.9543354655294954]\n",
      "Finished trial with scores: [0.7834580216126351, 0.8708229426433916, 0.9330135039090263]\n",
      "Finished trial with scores: [0.7025768911055694, 0.6201163757273482, 0.8202736318407959]\n",
      "Finished trial with scores: [0.8961762261014131, 0.8719866999168744, 0.9502487562189054]\n",
      "Finished trial with scores: [0.9162926018287615, 0.7830423940149627, 0.9507818052594172]\n",
      "Finished trial with scores: [0.9060681629260183, 0.7921862011637573, 0.9251954513148544]\n",
      "Finished trial with scores: [0.9203657522859519, 0.8475477971737323, 0.943319118692253]\n"
     ]
    },
    {
     "name": "stderr",
     "output_type": "stream",
     "text": [
      "[I 2024-10-07 12:44:39,901] Trial 7 finished with value: 0.8606927067547904 and parameters: {'max_depth': 11, 'min_child_samples': 24, 'learning_rate': 0.314470647112592, 'num_leaves': 27, 'n_estimators': 100, 'min_split_gain': 3.033214843524383, 'min_child_weight': 1.7253745900633538e-05, 'reg_alpha': 0.00022178168101953525, 'reg_lambda': 0.09868027483617749}. Best is trial 7 with value: 0.8606927067547904.\n",
      "[I 2024-10-07 12:44:39,941] Trial 2 finished with value: 0.8871337115633092 and parameters: {'max_depth': 6, 'min_child_samples': 6, 'learning_rate': 0.13584424236029177, 'num_leaves': 5, 'n_estimators': 100, 'min_split_gain': 8.887871987240027, 'min_child_weight': 3.143295058079291e-06, 'reg_alpha': 2.77172338353408e-05, 'reg_lambda': 0.007495655809997321}. Best is trial 2 with value: 0.8871337115633092.\n",
      "[I 2024-10-07 12:44:39,964] Trial 4 finished with value: 0.862431489388351 and parameters: {'max_depth': 2, 'min_child_samples': 13, 'learning_rate': 0.45223204240500825, 'num_leaves': 21, 'n_estimators': 100, 'min_split_gain': 2.056767503164797, 'min_child_weight': 2.5797121576272247e-05, 'reg_alpha': 0.22913259991845417, 'reg_lambda': 1.7384007399417513e-05}. Best is trial 2 with value: 0.8871337115633092.\n",
      "[I 2024-10-07 12:44:39,987] Trial 11 finished with value: 0.7143222995579045 and parameters: {'max_depth': 5, 'min_child_samples': 11, 'learning_rate': 0.46027158822308156, 'num_leaves': 30, 'n_estimators': 100, 'min_split_gain': 6.768542504521642, 'min_child_weight': 0.0028277723985558533, 'reg_alpha': 0.019805273020464184, 'reg_lambda': 0.0012100713202964697}. Best is trial 2 with value: 0.8871337115633092.\n",
      "[I 2024-10-07 12:44:40,021] Trial 12 finished with value: 0.9061372274123977 and parameters: {'max_depth': 3, 'min_child_samples': 22, 'learning_rate': 0.26052807517277354, 'num_leaves': 18, 'n_estimators': 100, 'min_split_gain': 7.22211465964896, 'min_child_weight': 0.02625407031066121, 'reg_alpha': 0.04539524484237959, 'reg_lambda': 1.8336057055233037}. Best is trial 12 with value: 0.9061372274123977.\n",
      "[I 2024-10-07 12:44:40,022] Trial 9 finished with value: 0.8833722670343805 and parameters: {'max_depth': 13, 'min_child_samples': 18, 'learning_rate': 0.13613257361276812, 'num_leaves': 26, 'n_estimators': 100, 'min_split_gain': 7.308947927180377, 'min_child_weight': 3.453677312656594e-06, 'reg_alpha': 0.00044640686279102726, 'reg_lambda': 0.7557800504222573}. Best is trial 12 with value: 0.9061372274123977.\n",
      "[I 2024-10-07 12:44:40,075] Trial 1 finished with value: 0.8744832718015433 and parameters: {'max_depth': 5, 'min_child_samples': 8, 'learning_rate': 0.11440805748967284, 'num_leaves': 36, 'n_estimators': 100, 'min_split_gain': 9.323009978052417, 'min_child_weight': 1.2873971413501457e-06, 'reg_alpha': 0.05362645341066646, 'reg_lambda': 0.009807660500219816}. Best is trial 12 with value: 0.9061372274123977.\n",
      "[I 2024-10-07 12:44:40,117] Trial 10 finished with value: 0.9037442227173124 and parameters: {'max_depth': 10, 'min_child_samples': 9, 'learning_rate': 0.15573038706427397, 'num_leaves': 3, 'n_estimators': 100, 'min_split_gain': 6.601109591110746, 'min_child_weight': 0.0004000909592348873, 'reg_alpha': 3.669822392943173e-05, 'reg_lambda': 0.00019732584818929664}. Best is trial 12 with value: 0.9061372274123977.\n",
      "[I 2024-10-07 12:44:40,151] Trial 3 finished with value: 0.7475312400117923 and parameters: {'max_depth': 7, 'min_child_samples': 23, 'learning_rate': 0.3743429588437932, 'num_leaves': 35, 'n_estimators': 100, 'min_split_gain': 0.7416359725755418, 'min_child_weight': 8.406744816018441e-05, 'reg_alpha': 4.475786537043067, 'reg_lambda': 0.00011955165846963828}. Best is trial 12 with value: 0.9061372274123977.\n",
      "[I 2024-10-07 12:44:40,191] Trial 8 finished with value: 0.8708930410292677 and parameters: {'max_depth': 7, 'min_child_samples': 25, 'learning_rate': 0.1377093442901344, 'num_leaves': 39, 'n_estimators': 100, 'min_split_gain': 6.228890547381752, 'min_child_weight': 0.0018689916271168686, 'reg_alpha': 0.0013407961017449473, 'reg_lambda': 0.12453690942490159}. Best is trial 12 with value: 0.9061372274123977.\n",
      "[I 2024-10-07 12:44:40,204] Trial 5 finished with value: 0.6042366542775967 and parameters: {'max_depth': 11, 'min_child_samples': 13, 'learning_rate': 0.4796623748991421, 'num_leaves': 29, 'n_estimators': 100, 'min_split_gain': 9.259538255225928, 'min_child_weight': 0.040416753311864576, 'reg_alpha': 0.014429539132563573, 'reg_lambda': 0.001138693655378139}. Best is trial 12 with value: 0.9061372274123977.\n",
      "[I 2024-10-07 12:44:40,229] Trial 6 finished with value: 0.8726101413133832 and parameters: {'max_depth': 12, 'min_child_samples': 15, 'learning_rate': 0.10023352288659823, 'num_leaves': 49, 'n_estimators': 100, 'min_split_gain': 8.760657654922067, 'min_child_weight': 1.9685082975481875e-05, 'reg_alpha': 1.0002946045393817, 'reg_lambda': 6.543070726572082e-05}. Best is trial 12 with value: 0.9061372274123977.\n",
      "[I 2024-10-07 12:44:40,260] Trial 14 finished with value: 0.6961377798101287 and parameters: {'max_depth': 15, 'min_child_samples': 16, 'learning_rate': 0.41114421329586903, 'num_leaves': 17, 'n_estimators': 100, 'min_split_gain': 6.018294848339867, 'min_child_weight': 3.969928268705873e-06, 'reg_alpha': 0.00046229715978172623, 'reg_lambda': 0.0001827558603684352}. Best is trial 12 with value: 0.9061372274123977.\n"
     ]
    },
    {
     "name": "stdout",
     "output_type": "stream",
     "text": [
      "Finished trial with scores: [0.8084788029925187, 0.626101413133832, 0.8080135039090262]\n",
      "Finished trial with scores: [0.8935993349958438, 0.7700748129675811, 0.9490049751243781]\n",
      "Finished trial with scores: [0.7007481296758105, 0.35627597672485456, 0.755685856432125]\n",
      "Finished trial with scores: [0.8996674979218621, 0.8014962593516209, 0.9166666666666666]\n",
      "Finished trial with scores: [0.7549459684123025, 0.541978387364921, 0.7914889836531628]\n",
      "Finished trial with scores: [0.7733998337489608, 0.627763923524522, 0.9182658137882018]\n",
      "Finished trial with scores: [0.8882793017456361, 0.7097256857855362, 0.9106254442075338]\n",
      "Finished trial with scores: [0.8806317539484622, 0.774064837905237, 0.9319474058280028]\n"
     ]
    },
    {
     "name": "stderr",
     "output_type": "stream",
     "text": [
      "[I 2024-10-07 12:44:40,401] Trial 17 finished with value: 0.7731431903538949 and parameters: {'max_depth': 14, 'min_child_samples': 22, 'learning_rate': 0.39092785938023045, 'num_leaves': 46, 'n_estimators': 100, 'min_split_gain': 2.663423923807852, 'min_child_weight': 2.436648593194524e-05, 'reg_alpha': 0.01893528100283223, 'reg_lambda': 0.022204984428033293}. Best is trial 12 with value: 0.9061372274123977.\n",
      "[I 2024-10-07 12:44:40,577] Trial 16 finished with value: 0.836210143912902 and parameters: {'max_depth': 13, 'min_child_samples': 6, 'learning_rate': 0.19452286329096893, 'num_leaves': 14, 'n_estimators': 100, 'min_split_gain': 3.6776544060111775, 'min_child_weight': 0.03647304262237273, 'reg_alpha': 0.057951332817208594, 'reg_lambda': 6.400009573485572e-05}. Best is trial 12 with value: 0.9061372274123977.\n",
      "[I 2024-10-07 12:44:40,592] Trial 21 finished with value: 0.8622146658939007 and parameters: {'max_depth': 1, 'min_child_samples': 30, 'learning_rate': 0.24330808277095184, 'num_leaves': 13, 'n_estimators': 100, 'min_split_gain': 4.4304284506417, 'min_child_weight': 0.00042977235448734614, 'reg_alpha': 0.0024237656517198916, 'reg_lambda': 6.6615558079455335}. Best is trial 12 with value: 0.9061372274123977.\n"
     ]
    },
    {
     "name": "stdout",
     "output_type": "stream",
     "text": [
      "Finished trial with scores: [0.9231920199501247, 0.8109725685785536, 0.9431414356787491]\n",
      "Finished trial with scores: [0.8738154613466335, 0.772901080631754, 0.9248400852878466]\n",
      "Finished trial with scores: [0.689443059019119, 0.6943474646716542, 0.8393745557924663]\n"
     ]
    },
    {
     "name": "stderr",
     "output_type": "stream",
     "text": [
      "[I 2024-10-07 12:44:40,686] Trial 18 finished with value: 0.8924353414024758 and parameters: {'max_depth': 2, 'min_child_samples': 10, 'learning_rate': 0.15046465074240337, 'num_leaves': 46, 'n_estimators': 100, 'min_split_gain': 6.334330491116913, 'min_child_weight': 9.552848883752395e-05, 'reg_alpha': 0.004287187213621339, 'reg_lambda': 1.887010719694737e-05}. Best is trial 12 with value: 0.9061372274123977.\n",
      "[I 2024-10-07 12:44:40,693] Trial 23 finished with value: 0.8571855424220781 and parameters: {'max_depth': 1, 'min_child_samples': 30, 'learning_rate': 0.2662358555695819, 'num_leaves': 10, 'n_estimators': 100, 'min_split_gain': 4.349490785427751, 'min_child_weight': 0.0005697914102483797, 'reg_alpha': 1.8111208670133236e-05, 'reg_lambda': 9.040878499105352}. Best is trial 12 with value: 0.9061372274123977.\n",
      "[I 2024-10-07 12:44:40,704] Trial 13 finished with value: 0.7410550264944131 and parameters: {'max_depth': 15, 'min_child_samples': 7, 'learning_rate': 0.3532027656786144, 'num_leaves': 40, 'n_estimators': 100, 'min_split_gain': 7.6594963757756505, 'min_child_weight': 1.8156618178928955e-05, 'reg_alpha': 5.22118850189513e-05, 'reg_lambda': 0.0008438757574885217}. Best is trial 12 with value: 0.9061372274123977.\n"
     ]
    },
    {
     "name": "stdout",
     "output_type": "stream",
     "text": [
      "Finished trial with scores: [0.8907730673316708, 0.7936824605153782, 0.9593994314143568]\n",
      "Finished trial with scores: [0.8777223607647547, 0.7566084788029925, 0.9282160625444208]\n",
      "Finished trial with scores: [0.8241895261845386, 0.7488778054862844, 0.9170220326936745]\n",
      "Finished trial with scores: [0.8996674979218621, 0.7970074812967581, 0.939410092395167]\n"
     ]
    },
    {
     "name": "stderr",
     "output_type": "stream",
     "text": [
      "[I 2024-10-07 12:44:41,071] Trial 30 finished with value: 0.8812849864204685 and parameters: {'max_depth': 9, 'min_child_samples': 19, 'learning_rate': 0.22258073173406057, 'num_leaves': 8, 'n_estimators': 100, 'min_split_gain': 5.274167848010028, 'min_child_weight': 0.008116992053821825, 'reg_alpha': 0.18803311593753255, 'reg_lambda': 0.7350351391078008}. Best is trial 12 with value: 0.9061372274123977.\n",
      "[I 2024-10-07 12:44:41,175] Trial 22 finished with value: 0.854182300704056 and parameters: {'max_depth': 1, 'min_child_samples': 3, 'learning_rate': 0.2597209742781016, 'num_leaves': 13, 'n_estimators': 100, 'min_split_gain': 4.7634473272681275, 'min_child_weight': 0.0005103063296129222, 'reg_alpha': 1.0213995507246294e-05, 'reg_lambda': 9.748307028734546}. Best is trial 12 with value: 0.9061372274123977.\n",
      "[I 2024-10-07 12:44:41,180] Trial 15 finished with value: 0.8300297881214992 and parameters: {'max_depth': 7, 'min_child_samples': 2, 'learning_rate': 0.3533458795972827, 'num_leaves': 23, 'n_estimators': 100, 'min_split_gain': 4.669733925217306, 'min_child_weight': 0.00026581778272501925, 'reg_alpha': 0.0005015607053455972, 'reg_lambda': 2.810200733697902}. Best is trial 12 with value: 0.9061372274123977.\n",
      "[I 2024-10-07 12:44:41,257] Trial 19 finished with value: 0.8786950238712624 and parameters: {'max_depth': 10, 'min_child_samples': 1, 'learning_rate': 0.25057609522349494, 'num_leaves': 14, 'n_estimators': 100, 'min_split_gain': 4.356344031731374, 'min_child_weight': 0.08444256397333985, 'reg_alpha': 1.1056088322062761e-05, 'reg_lambda': 5.465555345821492}. Best is trial 12 with value: 0.9061372274123977.\n"
     ]
    },
    {
     "name": "stdout",
     "output_type": "stream",
     "text": [
      "Finished trial with scores: [0.8886118038237739, 0.8083125519534498, 0.9371002132196162]\n",
      "Finished trial with scores: [0.8926849542809643, 0.7780548628428927, 0.949182658137882]\n",
      "Finished trial with scores: [0.8945968412302577, 0.9019118869492935, 0.9221748400852878]\n",
      "Finished trial with scores: [0.9054031587697424, 0.8034912718204489, 0.937633262260128]\n"
     ]
    },
    {
     "name": "stderr",
     "output_type": "stream",
     "text": [
      "[I 2024-10-07 12:44:41,298] Trial 20 finished with value: 0.8780081896656133 and parameters: {'max_depth': 10, 'min_child_samples': 1, 'learning_rate': 0.25765867557979905, 'num_leaves': 13, 'n_estimators': 100, 'min_split_gain': 4.515729429744693, 'min_child_weight': 0.05725129450284445, 'reg_alpha': 1.335304641519007e-05, 'reg_lambda': 7.6706317616510695}. Best is trial 12 with value: 0.9061372274123977.\n",
      "[I 2024-10-07 12:44:41,384] Trial 25 finished with value: 0.9062278560882797 and parameters: {'max_depth': 1, 'min_child_samples': 2, 'learning_rate': 0.24693186585545082, 'num_leaves': 11, 'n_estimators': 100, 'min_split_gain': 4.192261414032135, 'min_child_weight': 0.00043362252431078597, 'reg_alpha': 1.6153653209757537e-05, 'reg_lambda': 1.7441075941236759}. Best is trial 25 with value: 0.9062278560882797.\n",
      "[I 2024-10-07 12:44:41,394] Trial 24 finished with value: 0.8733074917539131 and parameters: {'max_depth': 2, 'min_child_samples': 1, 'learning_rate': 0.2484119064748865, 'num_leaves': 12, 'n_estimators': 100, 'min_split_gain': 4.445540518722912, 'min_child_weight': 0.0003943612436412033, 'reg_alpha': 1.4382988588565214e-05, 'reg_lambda': 8.955789636620471}. Best is trial 25 with value: 0.9062278560882797.\n",
      "[I 2024-10-07 12:44:41,480] Trial 32 finished with value: 0.8821758976167731 and parameters: {'max_depth': 3, 'min_child_samples': 9, 'learning_rate': 0.18427147855348383, 'num_leaves': 22, 'n_estimators': 100, 'min_split_gain': 7.691818076104319, 'min_child_weight': 0.00013096113850954993, 'reg_alpha': 0.003976713687316074, 'reg_lambda': 1.7177551686409313e-05}. Best is trial 25 with value: 0.9062278560882797.\n"
     ]
    },
    {
     "name": "stdout",
     "output_type": "stream",
     "text": [
      "Finished trial with scores: [0.8788861180382377, 0.7453034081463009, 0.9403873489694387]\n",
      "Finished trial with scores: [0.8950124688279302, 0.7531172069825436, 0.9212864250177684]\n",
      "Finished trial with scores: [0.8563591022443889, 0.8019118869492935, 0.9311478322672352]\n",
      "Finished trial with scores: [0.886118038237739, 0.7567747298420615, 0.9326581378820186]\n",
      "Finished trial with scores: [0.8366583541147132, 0.7932668329177058, 0.9260838663823738]\n",
      "Finished trial with scores: [0.8768079800498754, 0.799667497921862, 0.9330135039090263]\n",
      "Finished trial with scores: [0.8423108894430589, 0.7589359933499584, 0.9157782515991472]\n",
      "Finished trial with scores: [0.9237738985868662, 0.8325020781379884, 0.9449182658137881]\n",
      "Finished trial with scores: [0.9037406483790524, 0.7577722360764755, 0.9241293532338309]\n"
     ]
    },
    {
     "name": "stderr",
     "output_type": "stream",
     "text": [
      "[I 2024-10-07 12:44:41,574] Trial 27 finished with value: 0.854858958384659 and parameters: {'max_depth': 9, 'min_child_samples': 1, 'learning_rate': 0.2815044388726362, 'num_leaves': 8, 'n_estimators': 100, 'min_split_gain': 7.669536210785147, 'min_child_weight': 0.0006421995074501861, 'reg_alpha': 1.000187811423822e-05, 'reg_lambda': 8.587950640509309}. Best is trial 25 with value: 0.9062278560882797.\n",
      "[I 2024-10-07 12:44:41,588] Trial 26 finished with value: 0.856472033609414 and parameters: {'max_depth': 1, 'min_child_samples': 2, 'learning_rate': 0.23904042759804178, 'num_leaves': 10, 'n_estimators': 100, 'min_split_gain': 3.9029587997913366, 'min_child_weight': 0.0004961000924661242, 'reg_alpha': 1.157962773578349e-05, 'reg_lambda': 4.98769411287089}. Best is trial 25 with value: 0.9062278560882797.\n",
      "[I 2024-10-07 12:44:41,595] Trial 33 finished with value: 0.8631396071536392 and parameters: {'max_depth': 3, 'min_child_samples': 10, 'learning_rate': 0.1921629291559625, 'num_leaves': 19, 'n_estimators': 100, 'min_split_gain': 8.007452609968333, 'min_child_weight': 0.00011218961549584614, 'reg_alpha': 0.003063644175034383, 'reg_lambda': 1.2850875235293279e-05}. Best is trial 25 with value: 0.9062278560882797.\n",
      "[I 2024-10-07 12:44:41,608] Trial 36 finished with value: 0.8585169686539397 and parameters: {'max_depth': 3, 'min_child_samples': 20, 'learning_rate': 0.17854687393825275, 'num_leaves': 20, 'n_estimators': 100, 'min_split_gain': 7.9758649203693635, 'min_child_weight': 0.00012478268662703316, 'reg_alpha': 0.0036726314661252066, 'reg_lambda': 1.8725541303275736e-05}. Best is trial 25 with value: 0.9062278560882797.\n",
      "[I 2024-10-07 12:44:41,636] Trial 34 finished with value: 0.852003017804931 and parameters: {'max_depth': 3, 'min_child_samples': 10, 'learning_rate': 0.19639215233900145, 'num_leaves': 18, 'n_estimators': 100, 'min_split_gain': 7.963429186793043, 'min_child_weight': 0.00010127095453091027, 'reg_alpha': 0.0032614005912174173, 'reg_lambda': 1.0760917463516775e-05}. Best is trial 25 with value: 0.9062278560882797.\n",
      "[I 2024-10-07 12:44:41,714] Trial 28 finished with value: 0.8390083781307215 and parameters: {'max_depth': 9, 'min_child_samples': 1, 'learning_rate': 0.23404716631935435, 'num_leaves': 9, 'n_estimators': 100, 'min_split_gain': 7.575160832103903, 'min_child_weight': 0.09622670778902676, 'reg_alpha': 1.1604800584020868e-05, 'reg_lambda': 8.049050332182713}. Best is trial 25 with value: 0.9062278560882797.\n",
      "[I 2024-10-07 12:44:41,726] Trial 35 finished with value: 0.8698296606269212 and parameters: {'max_depth': 3, 'min_child_samples': 9, 'learning_rate': 0.17833840241037652, 'num_leaves': 20, 'n_estimators': 100, 'min_split_gain': 7.927133526452567, 'min_child_weight': 0.00011814023738121712, 'reg_alpha': 0.003727979692617085, 'reg_lambda': 1.220685392483123e-05}. Best is trial 25 with value: 0.9062278560882797.\n",
      "[I 2024-10-07 12:44:41,761] Trial 29 finished with value: 0.9003980808462142 and parameters: {'max_depth': 9, 'min_child_samples': 1, 'learning_rate': 0.22223846506510964, 'num_leaves': 8, 'n_estimators': 100, 'min_split_gain': 5.495806975600683, 'min_child_weight': 0.00407293378916931, 'reg_alpha': 0.23139516634346002, 'reg_lambda': 1.089449030321889}. Best is trial 25 with value: 0.9062278560882797.\n",
      "[I 2024-10-07 12:44:41,800] Trial 31 finished with value: 0.8618807458964529 and parameters: {'max_depth': 10, 'min_child_samples': 2, 'learning_rate': 0.22008058606946188, 'num_leaves': 8, 'n_estimators': 100, 'min_split_gain': 5.490310514293252, 'min_child_weight': 0.007294783706736127, 'reg_alpha': 0.23712288055113376, 'reg_lambda': 1.5323081240552792}. Best is trial 25 with value: 0.9062278560882797.\n",
      "[I 2024-10-07 12:44:41,977] Trial 37 finished with value: 0.8669491723191429 and parameters: {'max_depth': 4, 'min_child_samples': 4, 'learning_rate': 0.3024835834425677, 'num_leaves': 6, 'n_estimators': 100, 'min_split_gain': 7.747744740068578, 'min_child_weight': 0.002379558175136763, 'reg_alpha': 7.502890604763956e-05, 'reg_lambda': 1.1643252046837367}. Best is trial 25 with value: 0.9062278560882797.\n"
     ]
    },
    {
     "name": "stdout",
     "output_type": "stream",
     "text": [
      "Finished trial with scores: [0.8511221945137157, 0.8205320033250207, 0.9291933191186923]\n",
      "Finished trial with scores: [0.8301745635910224, 0.8399833748960932, 0.9558457711442786]\n",
      "Finished trial with scores: [0.710058187863674, 0.686450540315877, 0.685589907604833]\n",
      "Finished trial with scores: [0.860182876142976, 0.7394846217788861, 0.9545131485429993]\n"
     ]
    },
    {
     "name": "stderr",
     "output_type": "stream",
     "text": [
      "[I 2024-10-07 12:44:42,041] Trial 38 finished with value: 0.8753345698771314 and parameters: {'max_depth': 4, 'min_child_samples': 4, 'learning_rate': 0.30602670496660517, 'num_leaves': 6, 'n_estimators': 100, 'min_split_gain': 7.945967253586874, 'min_child_weight': 0.0017508502140955048, 'reg_alpha': 9.322605248748641e-05, 'reg_lambda': 0.9032179037446247}. Best is trial 25 with value: 0.9062278560882797.\n",
      "[I 2024-10-07 12:44:42,091] Trial 40 finished with value: 0.6940328785947947 and parameters: {'max_depth': 4, 'min_child_samples': 4, 'learning_rate': 0.58992933319217, 'num_leaves': 2, 'n_estimators': 100, 'min_split_gain': 5.49855983530916, 'min_child_weight': 0.001572878395059618, 'reg_alpha': 5.506399372904457e-05, 'reg_lambda': 0.8272578506899979}. Best is trial 25 with value: 0.9062278560882797.\n",
      "[I 2024-10-07 12:44:42,124] Trial 39 finished with value: 0.8513935488216204 and parameters: {'max_depth': 4, 'min_child_samples': 4, 'learning_rate': 0.2965911356729629, 'num_leaves': 6, 'n_estimators': 100, 'min_split_gain': 5.399451492865923, 'min_child_weight': 0.0024757510401436015, 'reg_alpha': 9.238341682247832e-05, 'reg_lambda': 0.6215525993778289}. Best is trial 25 with value: 0.9062278560882797.\n"
     ]
    },
    {
     "name": "stdout",
     "output_type": "stream",
     "text": [
      "Finished trial with scores: [0.8977556109725686, 0.9029093931837074, 0.9267945984363894]\n",
      "Finished trial with scores: [0.8937655860349127, 0.9120532003325021, 0.9311478322672352]\n",
      "Finished trial with scores: [0.9364089775561097, 0.8384039900249377, 0.9344349680170576]\n",
      "Finished trial with scores: [0.9318370739817123, 0.8325852036575229, 0.9363894811656006]\n",
      "Finished trial with scores: [0.9105569409808811, 0.8334164588528679, 0.923773987206823]\n"
     ]
    },
    {
     "name": "stderr",
     "output_type": "stream",
     "text": [
      "[I 2024-10-07 12:44:42,246] Trial 42 finished with value: 0.9091532008642219 and parameters: {'max_depth': 4, 'min_child_samples': 4, 'learning_rate': 0.3137407963525139, 'num_leaves': 3, 'n_estimators': 100, 'min_split_gain': 5.615464642140073, 'min_child_weight': 0.0017604662720147055, 'reg_alpha': 0.00011890661667489716, 'reg_lambda': 0.9632631316737372}. Best is trial 42 with value: 0.9091532008642219.\n",
      "[I 2024-10-07 12:44:42,264] Trial 44 finished with value: 0.91232220621155 and parameters: {'max_depth': 5, 'min_child_samples': 5, 'learning_rate': 0.29790889611053395, 'num_leaves': 3, 'n_estimators': 100, 'min_split_gain': 5.504908867943495, 'min_child_weight': 0.0018054040841548598, 'reg_alpha': 5.440834113897048e-05, 'reg_lambda': 1.0078180731376574}. Best is trial 44 with value: 0.91232220621155.\n",
      "[I 2024-10-07 12:44:42,272] Trial 43 finished with value: 0.9030826451993684 and parameters: {'max_depth': 5, 'min_child_samples': 4, 'learning_rate': 0.30522220385411414, 'num_leaves': 2, 'n_estimators': 100, 'min_split_gain': 5.703320266299826, 'min_child_weight': 0.0016270533971565171, 'reg_alpha': 7.801803933523347e-05, 'reg_lambda': 0.00034138732778280086}. Best is trial 44 with value: 0.91232220621155.\n",
      "[I 2024-10-07 12:44:42,362] Trial 48 finished with value: 0.9002705862682786 and parameters: {'max_depth': 5, 'min_child_samples': 4, 'learning_rate': 0.3049849757815508, 'num_leaves': 2, 'n_estimators': 100, 'min_split_gain': 0.9224768734345465, 'min_child_weight': 0.01703659739548501, 'reg_alpha': 6.000440362428325e-05, 'reg_lambda': 0.22650913868607}. Best is trial 44 with value: 0.91232220621155.\n",
      "[I 2024-10-07 12:44:42,381] Trial 46 finished with value: 0.8892491290135239 and parameters: {'max_depth': 6, 'min_child_samples': 4, 'learning_rate': 0.3000290752027978, 'num_leaves': 3, 'n_estimators': 100, 'min_split_gain': 5.71738551210703, 'min_child_weight': 0.017383297158911758, 'reg_alpha': 6.247882114521573e-05, 'reg_lambda': 0.1009468859911217}. Best is trial 44 with value: 0.91232220621155.\n"
     ]
    },
    {
     "name": "stdout",
     "output_type": "stream",
     "text": [
      "Finished trial with scores: [0.9319201995012468, 0.8350789692435577, 0.92590618336887]\n",
      "Finished trial with scores: [0.9295095594347464, 0.8957605985037406, 0.931769722814499]\n",
      "Finished trial with scores: [0.8886118038237738, 0.8615128844555278, 0.9314143567874912]\n",
      "Finished trial with scores: [0.904322527015794, 0.47339983374896094, 0.6886993603411514]\n",
      "Finished trial with scores: [0.774563591022444, 0.6977556109725686, 0.3643390191897654]\n",
      "Finished trial with scores: [0.7810473815461347, 0.7941812136325853, 0.7590618336886994]\n",
      "Finished trial with scores: [0.8878636741479634, 0.8625103906899418, 0.9275053304904051]\n"
     ]
    },
    {
     "name": "stderr",
     "output_type": "stream",
     "text": [
      "[I 2024-10-07 12:44:42,462] Trial 47 finished with value: 0.8976351173712249 and parameters: {'max_depth': 5, 'min_child_samples': 4, 'learning_rate': 0.30907737779250805, 'num_leaves': 2, 'n_estimators': 100, 'min_split_gain': 9.897745862099356, 'min_child_weight': 0.0019587773023947382, 'reg_alpha': 8.019555115441826e-05, 'reg_lambda': 0.24937882254192856}. Best is trial 44 with value: 0.91232220621155.\n",
      "[I 2024-10-07 12:44:42,485] Trial 45 finished with value: 0.9190132935843286 and parameters: {'max_depth': 5, 'min_child_samples': 4, 'learning_rate': 0.3262036292508216, 'num_leaves': 2, 'n_estimators': 100, 'min_split_gain': 5.498600703670656, 'min_child_weight': 0.014176076769377615, 'reg_alpha': 5.6818403809320946e-05, 'reg_lambda': 0.9855708001469132}. Best is trial 45 with value: 0.9190132935843286.\n",
      "[I 2024-10-07 12:44:42,498] Trial 41 finished with value: 0.6888072403686354 and parameters: {'max_depth': 4, 'min_child_samples': 4, 'learning_rate': 0.5989741663153577, 'num_leaves': 5, 'n_estimators': 100, 'min_split_gain': 5.525418888373376, 'min_child_weight': 0.0016616625683992605, 'reg_alpha': 8.008491308125346e-05, 'reg_lambda': 0.0003695379637535869}. Best is trial 45 with value: 0.9190132935843286.\n",
      "[I 2024-10-07 12:44:42,501] Trial 52 finished with value: 0.8938463483555976 and parameters: {'max_depth': 2, 'min_child_samples': 14, 'learning_rate': 0.15301485812841203, 'num_leaves': 2, 'n_estimators': 100, 'min_split_gain': 6.677019410823849, 'min_child_weight': 0.019351783821248577, 'reg_alpha': 1.8949392085310601, 'reg_lambda': 0.36609602800708946}. Best is trial 45 with value: 0.9190132935843286.\n",
      "[I 2024-10-07 12:44:42,549] Trial 49 finished with value: 0.6122194070615926 and parameters: {'max_depth': 5, 'min_child_samples': 4, 'learning_rate': 0.5981989998024486, 'num_leaves': 2, 'n_estimators': 100, 'min_split_gain': 5.753759149937747, 'min_child_weight': 0.015541147177168804, 'reg_alpha': 0.5940702984543871, 'reg_lambda': 0.2628289494417319}. Best is trial 45 with value: 0.9190132935843286.\n",
      "[I 2024-10-07 12:44:42,583] Trial 50 finished with value: 0.7780968096224732 and parameters: {'max_depth': 8, 'min_child_samples': 5, 'learning_rate': 0.5462839245486237, 'num_leaves': 3, 'n_estimators': 100, 'min_split_gain': 6.631721386643021, 'min_child_weight': 0.0189418495551038, 'reg_alpha': 7.1018316699480035, 'reg_lambda': 0.25554727190921944}. Best is trial 45 with value: 0.9190132935843286.\n",
      "[I 2024-10-07 12:44:42,614] Trial 51 finished with value: 0.8926264651094368 and parameters: {'max_depth': 8, 'min_child_samples': 6, 'learning_rate': 0.1446884692162041, 'num_leaves': 2, 'n_estimators': 100, 'min_split_gain': 6.7430185196068075, 'min_child_weight': 0.023467324529736912, 'reg_alpha': 1.2078754076823877, 'reg_lambda': 0.12006483659032427}. Best is trial 45 with value: 0.9190132935843286.\n"
     ]
    },
    {
     "name": "stdout",
     "output_type": "stream",
     "text": [
      "Finished trial with scores: [0.8098919368246053, 0.686616791354946, 0.8893034825870646]\n",
      "Finished trial with scores: [0.7851205320033251, 0.6710723192019951, 0.8988095238095237]\n",
      "Finished trial with scores: [0.7770573566084789, 0.6634247714048213, 0.8988095238095237]\n"
     ]
    },
    {
     "name": "stderr",
     "output_type": "stream",
     "text": [
      "[I 2024-10-07 12:44:42,762] Trial 53 finished with value: 0.7952707369222053 and parameters: {'max_depth': 6, 'min_child_samples': 6, 'learning_rate': 0.3473146127460959, 'num_leaves': 4, 'n_estimators': 100, 'min_split_gain': 6.479628803535987, 'min_child_weight': 0.0211375986554009, 'reg_alpha': 3.2096419321166594e-05, 'reg_lambda': 0.22964763702317204}. Best is trial 45 with value: 0.9190132935843286.\n",
      "[I 2024-10-07 12:44:42,765] Trial 54 finished with value: 0.7850007916716146 and parameters: {'max_depth': 6, 'min_child_samples': 6, 'learning_rate': 0.32914350185890245, 'num_leaves': 4, 'n_estimators': 100, 'min_split_gain': 6.855250689298263, 'min_child_weight': 0.0177950789385655, 'reg_alpha': 0.00019549733802031577, 'reg_lambda': 0.27798977478401177}. Best is trial 45 with value: 0.9190132935843286.\n",
      "[I 2024-10-07 12:44:42,886] Trial 56 finished with value: 0.7797638839409413 and parameters: {'max_depth': 6, 'min_child_samples': 6, 'learning_rate': 0.3284835716646647, 'num_leaves': 4, 'n_estimators': 100, 'min_split_gain': 6.845761596389665, 'min_child_weight': 4.802173258720458e-05, 'reg_alpha': 0.0002061251934768721, 'reg_lambda': 0.26103499469085245}. Best is trial 45 with value: 0.9190132935843286.\n"
     ]
    },
    {
     "name": "stdout",
     "output_type": "stream",
     "text": [
      "Finished trial with scores: [0.7873649210307565, 0.7556109725685785, 0.9043176972281449]\n",
      "Finished trial with scores: [0.8060681629260182, 0.7882793017456359, 0.8200071073205403]\n",
      "Finished trial with scores: [0.7842892768079801, 0.6819617622610141, 0.8487917555081733]\n",
      "Finished trial with scores: [0.8128844555278472, 0.7164588528678304, 0.871268656716418]\n",
      "Finished trial with scores: [0.911886949293433, 0.7875311720698255, 0.8878820184790334]\n",
      "Finished trial with scores: [0.9106400665004155, 0.8004156275976725, 0.9254619758351101]\n",
      "Finished trial with scores: [0.8501246882793018, 0.5985037406483791, 0.849680170575693]\n",
      "Finished trial with scores: [0.6019118869492934, 0.6986699916874481, 0.7045131485429993]\n",
      "Finished trial with scores: [0.8821280133000831, 0.776226101413134, 0.9314143567874911]\n"
     ]
    },
    {
     "name": "stderr",
     "output_type": "stream",
     "text": [
      "[I 2024-10-07 12:44:43,020] Trial 55 finished with value: 0.8157645302758266 and parameters: {'max_depth': 6, 'min_child_samples': 6, 'learning_rate': 0.34455126390542073, 'num_leaves': 4, 'n_estimators': 100, 'min_split_gain': 6.854397879690506, 'min_child_weight': 0.018136457836944165, 'reg_alpha': 3.1793308584835045e-05, 'reg_lambda': 0.3263536829172959}. Best is trial 45 with value: 0.9190132935843286.\n",
      "[I 2024-10-07 12:44:43,057] Trial 60 finished with value: 0.7716809315257226 and parameters: {'max_depth': 6, 'min_child_samples': 7, 'learning_rate': 0.3459005573307699, 'num_leaves': 16, 'n_estimators': 100, 'min_split_gain': 7.134412381331655, 'min_child_weight': 0.005328662061808877, 'reg_alpha': 0.0001926529321141933, 'reg_lambda': 0.0349255349467919}. Best is trial 45 with value: 0.9190132935843286.\n",
      "[I 2024-10-07 12:44:43,060] Trial 58 finished with value: 0.8047848573307315 and parameters: {'max_depth': 6, 'min_child_samples': 7, 'learning_rate': 0.3328092163916207, 'num_leaves': 16, 'n_estimators': 100, 'min_split_gain': 8.662501192935826, 'min_child_weight': 0.004272429876729356, 'reg_alpha': 0.00019051690128831894, 'reg_lambda': 0.040800307790031326}. Best is trial 45 with value: 0.9190132935843286.\n",
      "[I 2024-10-07 12:44:43,125] Trial 57 finished with value: 0.8002039883706985 and parameters: {'max_depth': 6, 'min_child_samples': 6, 'learning_rate': 0.34465203293347, 'num_leaves': 16, 'n_estimators': 100, 'min_split_gain': 7.071912944931438, 'min_child_weight': 0.0009220661938487778, 'reg_alpha': 2.948274904245622e-05, 'reg_lambda': 0.022325221658137072}. Best is trial 45 with value: 0.9190132935843286.\n",
      "[I 2024-10-07 12:44:43,133] Trial 59 finished with value: 0.8624333799474306 and parameters: {'max_depth': 6, 'min_child_samples': 6, 'learning_rate': 0.3360939899397822, 'num_leaves': 16, 'n_estimators': 100, 'min_split_gain': 3.7018386101006033, 'min_child_weight': 0.00545676078524947, 'reg_alpha': 0.0001995309134847937, 'reg_lambda': 2.3121232867955746}. Best is trial 45 with value: 0.9190132935843286.\n",
      "[I 2024-10-07 12:44:43,146] Trial 61 finished with value: 0.8788392233110661 and parameters: {'max_depth': 6, 'min_child_samples': 6, 'learning_rate': 0.332775160601938, 'num_leaves': 4, 'n_estimators': 100, 'min_split_gain': 6.96892251847601, 'min_child_weight': 0.0010334539306763213, 'reg_alpha': 0.00017056413986870332, 'reg_lambda': 2.472670927462516}. Best is trial 45 with value: 0.9190132935843286.\n",
      "[I 2024-10-07 12:44:43,210] Trial 63 finished with value: 0.7661028665011246 and parameters: {'max_depth': 7, 'min_child_samples': 7, 'learning_rate': 0.32956255849522603, 'num_leaves': 16, 'n_estimators': 100, 'min_split_gain': 7.122521161784456, 'min_child_weight': 0.000899712869624255, 'reg_alpha': 0.00018490631171001358, 'reg_lambda': 0.03827234905654118}. Best is trial 45 with value: 0.9190132935843286.\n",
      "[I 2024-10-07 12:44:43,219] Trial 67 finished with value: 0.6683650090599137 and parameters: {'max_depth': 7, 'min_child_samples': 27, 'learning_rate': 0.38378866965845715, 'num_leaves': 16, 'n_estimators': 100, 'min_split_gain': 8.474861707428293, 'min_child_weight': 0.001041788495628722, 'reg_alpha': 3.1963943410280735e-05, 'reg_lambda': 0.03488408082117329}. Best is trial 45 with value: 0.9190132935843286.\n"
     ]
    },
    {
     "name": "stdout",
     "output_type": "stream",
     "text": [
      "Finished trial with scores: [0.8232751454696592, 0.7300083125519535, 0.8895700071073206]\n",
      "Finished trial with scores: [0.8243557772236078, 0.7321695760598504, 0.902452025586354]\n",
      "Finished trial with scores: [0.8936824605153783, 0.7193682460515378, 0.8981876332622601]\n",
      "Finished trial with scores: [0.8157938487115545, 0.8228595178719867, 0.9400319829424306]\n"
     ]
    },
    {
     "name": "stderr",
     "output_type": "stream",
     "text": [
      "[I 2024-10-07 12:44:43,227] Trial 64 finished with value: 0.8632561571669027 and parameters: {'max_depth': 6, 'min_child_samples': 7, 'learning_rate': 0.325298235356451, 'num_leaves': 5, 'n_estimators': 100, 'min_split_gain': 7.148733738464295, 'min_child_weight': 0.00023403859189026838, 'reg_alpha': 0.00018090237901582766, 'reg_lambda': 2.2827133412446794}. Best is trial 45 with value: 0.9190132935843286.\n",
      "[I 2024-10-07 12:44:43,262] Trial 62 finished with value: 0.8196591262899373 and parameters: {'max_depth': 6, 'min_child_samples': 8, 'learning_rate': 0.3274365411778961, 'num_leaves': 17, 'n_estimators': 100, 'min_split_gain': 7.132928107543217, 'min_child_weight': 0.0010069480839748318, 'reg_alpha': 0.00019117709640706536, 'reg_lambda': 2.21917341404306}. Best is trial 45 with value: 0.9190132935843286.\n",
      "[I 2024-10-07 12:44:43,283] Trial 65 finished with value: 0.8142844883763111 and parameters: {'max_depth': 2, 'min_child_samples': 8, 'learning_rate': 0.3929550540283573, 'num_leaves': 16, 'n_estimators': 100, 'min_split_gain': 8.6559491122384, 'min_child_weight': 0.0008126292341010467, 'reg_alpha': 0.00021197678602632137, 'reg_lambda': 0.0343545297993503}. Best is trial 45 with value: 0.9190132935843286.\n",
      "[I 2024-10-07 12:44:43,313] Trial 66 finished with value: 0.8370794466097253 and parameters: {'max_depth': 2, 'min_child_samples': 26, 'learning_rate': 0.3333670651065914, 'num_leaves': 17, 'n_estimators': 100, 'min_split_gain': 4.998091555517895, 'min_child_weight': 0.0009531092133169507, 'reg_alpha': 0.00019883774959275914, 'reg_lambda': 0.045139308712303136}. Best is trial 45 with value: 0.9190132935843286.\n",
      "[I 2024-10-07 12:44:43,386] Trial 68 finished with value: 0.859561783175324 and parameters: {'max_depth': 12, 'min_child_samples': 12, 'learning_rate': 0.38648814760741435, 'num_leaves': 24, 'n_estimators': 100, 'min_split_gain': 4.939810711225957, 'min_child_weight': 0.0002403864196884073, 'reg_alpha': 0.0008012286471180304, 'reg_lambda': 3.301788017978463}. Best is trial 45 with value: 0.9190132935843286.\n"
     ]
    },
    {
     "name": "stdout",
     "output_type": "stream",
     "text": [
      "Finished trial with scores: [0.6121363258520368, 0.7600997506234413, 0.7764747690120825]\n",
      "Finished trial with scores: [0.8588528678304239, 0.7733167082294264, 0.8909026297085999]\n",
      "Finished trial with scores: [0.6843724023275146, 0.45461346633416455, 0.8667377398720684]\n",
      "Finished trial with scores: [0.6155444721529509, 0.7911886949293433, 0.8113006396588486]\n"
     ]
    },
    {
     "name": "stderr",
     "output_type": "stream",
     "text": [
      "[I 2024-10-07 12:44:43,497] Trial 71 finished with value: 0.7162369484958534 and parameters: {'max_depth': 12, 'min_child_samples': 26, 'learning_rate': 0.37371588908880937, 'num_leaves': 11, 'n_estimators': 100, 'min_split_gain': 6.078843384072692, 'min_child_weight': 0.0002474680246789681, 'reg_alpha': 0.047320090475042854, 'reg_lambda': 0.0018674757686083382}. Best is trial 45 with value: 0.9190132935843286.\n",
      "[I 2024-10-07 12:44:43,502] Trial 69 finished with value: 0.8410240685894834 and parameters: {'max_depth': 11, 'min_child_samples': 26, 'learning_rate': 0.2785288548424707, 'num_leaves': 11, 'n_estimators': 100, 'min_split_gain': 5.9025968584371915, 'min_child_weight': 0.00022536866579638793, 'reg_alpha': 0.04133765458796179, 'reg_lambda': 0.0029513081374602256}. Best is trial 45 with value: 0.9190132935843286.\n",
      "[I 2024-10-07 12:44:43,543] Trial 72 finished with value: 0.7393446022470477 and parameters: {'max_depth': 12, 'min_child_samples': 13, 'learning_rate': 0.3750859847047167, 'num_leaves': 10, 'n_estimators': 100, 'min_split_gain': 5.048748028432964, 'min_child_weight': 0.0002530316343529203, 'reg_alpha': 0.0008039238639184291, 'reg_lambda': 0.00394302599465657}. Best is trial 45 with value: 0.9190132935843286.\n",
      "[I 2024-10-07 12:44:43,543] Trial 70 finished with value: 0.6685745361779158 and parameters: {'max_depth': 12, 'min_child_samples': 8, 'learning_rate': 0.3690009890846796, 'num_leaves': 11, 'n_estimators': 100, 'min_split_gain': 6.030923461299219, 'min_child_weight': 0.00023025830569023463, 'reg_alpha': 0.0008552230249445973, 'reg_lambda': 0.0032739232201103178}. Best is trial 45 with value: 0.9190132935843286.\n"
     ]
    },
    {
     "name": "stdout",
     "output_type": "stream",
     "text": [
      "Finished trial with scores: [0.9081463009143808, 0.4704904405652535, 0.7100213219616204]\n",
      "Finished trial with scores: [0.8265170407315046, 0.7297589359933498, 0.9591329068941009]\n"
     ]
    },
    {
     "name": "stderr",
     "output_type": "stream",
     "text": [
      "[I 2024-10-07 12:44:43,737] Trial 73 finished with value: 0.6962193544804182 and parameters: {'max_depth': 5, 'min_child_samples': 12, 'learning_rate': 0.40656808394214794, 'num_leaves': 11, 'n_estimators': 100, 'min_split_gain': 6.205372241046554, 'min_child_weight': 0.03900514668577857, 'reg_alpha': 0.0003867193538781716, 'reg_lambda': 0.0036629953860638077}. Best is trial 45 with value: 0.9190132935843286.\n",
      "[I 2024-10-07 12:44:43,741] Trial 74 finished with value: 0.8384696278729851 and parameters: {'max_depth': 5, 'min_child_samples': 12, 'learning_rate': 0.27730921856446844, 'num_leaves': 11, 'n_estimators': 100, 'min_split_gain': 6.20329669387654, 'min_child_weight': 0.0002634115096326165, 'reg_alpha': 0.0007331946555891988, 'reg_lambda': 0.00373915716543909}. Best is trial 45 with value: 0.9190132935843286.\n"
     ]
    },
    {
     "name": "stdout",
     "output_type": "stream",
     "text": [
      "Finished trial with scores: [0.868744804655029, 0.669077306733167, 0.8799751243781093]\n",
      "Finished trial with scores: [0.7908561928512053, 0.8265170407315046, 0.824360341151386]\n",
      "Finished trial with scores: [0.7246882793017456, 0.6892768079800499, 0.9489161336176262]\n",
      "Finished trial with scores: [0.7802161263507896, 0.6757273482959268, 0.9306147832267234]\n",
      "Finished trial with scores: [0.7121363258520365, 0.8285951787198671, 0.8241826581378822]\n"
     ]
    },
    {
     "name": "stderr",
     "output_type": "stream",
     "text": [
      "[I 2024-10-07 12:44:44,224] Trial 78 finished with value: 0.8059324119221017 and parameters: {'max_depth': 5, 'min_child_samples': 3, 'learning_rate': 0.27524470267115553, 'num_leaves': 11, 'n_estimators': 100, 'min_split_gain': 6.0066003097072045, 'min_child_weight': 0.03878396272810859, 'reg_alpha': 0.03996245996587053, 'reg_lambda': 0.004187043464737969}. Best is trial 45 with value: 0.9190132935843286.\n",
      "[I 2024-10-07 12:44:44,266] Trial 76 finished with value: 0.813911191578032 and parameters: {'max_depth': 12, 'min_child_samples': 2, 'learning_rate': 0.28361852009581, 'num_leaves': 11, 'n_estimators': 100, 'min_split_gain': 6.012479037884491, 'min_child_weight': 0.03443498135466024, 'reg_alpha': 0.0009911568451962899, 'reg_lambda': 0.004960021480722022}. Best is trial 45 with value: 0.9190132935843286.\n",
      "[I 2024-10-07 12:44:44,327] Trial 75 finished with value: 0.7876270736331406 and parameters: {'max_depth': 11, 'min_child_samples': 2, 'learning_rate': 0.2706645353063027, 'num_leaves': 10, 'n_estimators': 100, 'min_split_gain': 6.066589528981189, 'min_child_weight': 0.0003136656824694386, 'reg_alpha': 0.0005764141211532882, 'reg_lambda': 0.0036964234134480383}. Best is trial 45 with value: 0.9190132935843286.\n",
      "[I 2024-10-07 12:44:44,366] Trial 79 finished with value: 0.7955194192911467 and parameters: {'max_depth': 5, 'min_child_samples': 2, 'learning_rate': 0.2796315663724275, 'num_leaves': 10, 'n_estimators': 100, 'min_split_gain': 5.979847862534933, 'min_child_weight': 0.010340422701415086, 'reg_alpha': 0.05509329705315712, 'reg_lambda': 0.004501265708981729}. Best is trial 45 with value: 0.9190132935843286.\n",
      "[I 2024-10-07 12:44:44,422] Trial 77 finished with value: 0.788304720903262 and parameters: {'max_depth': 5, 'min_child_samples': 2, 'learning_rate': 0.27332848502974727, 'num_leaves': 11, 'n_estimators': 100, 'min_split_gain': 6.053606523235825, 'min_child_weight': 0.041661269997830715, 'reg_alpha': 0.048348533711404115, 'reg_lambda': 0.004016013146372479}. Best is trial 45 with value: 0.9190132935843286.\n"
     ]
    },
    {
     "name": "stdout",
     "output_type": "stream",
     "text": [
      "Finished trial with scores: [0.9081463009143806, 0.6716541978387363, 0.9392324093816631]\n",
      "Finished trial with scores: [0.8741479634247714, 0.6932668329177056, 0.9479388770433547]\n",
      "Finished trial with scores: [0.9271820448877807, 0.8172901080631754, 0.9493603411513859]\n",
      "Finished trial with scores: [0.9369908561928512, 0.8159600997506234, 0.9438521677327648]\n",
      "Finished trial with scores: [0.9266832917705736, 0.8492103075644223, 0.9513148542999289]\n"
     ]
    },
    {
     "name": "stderr",
     "output_type": "stream",
     "text": [
      "[I 2024-10-07 12:44:44,497] Trial 80 finished with value: 0.8396776360449266 and parameters: {'max_depth': 5, 'min_child_samples': 2, 'learning_rate': 0.2783493098580534, 'num_leaves': 7, 'n_estimators': 100, 'min_split_gain': 4.0007862341050835, 'min_child_weight': 0.05186300114078376, 'reg_alpha': 0.00873943208595764, 'reg_lambda': 9.752312423230089e-05}. Best is trial 45 with value: 0.9190132935843286.\n",
      "[I 2024-10-07 12:44:44,579] Trial 82 finished with value: 0.8979441647007805 and parameters: {'max_depth': 5, 'min_child_samples': 2, 'learning_rate': 0.11076708810382771, 'num_leaves': 7, 'n_estimators': 100, 'min_split_gain': 3.2177492963881273, 'min_child_weight': 0.0035268212677328522, 'reg_alpha': 0.008069611038426712, 'reg_lambda': 5.258681639211954e-05}. Best is trial 45 with value: 0.9190132935843286.\n",
      "[I 2024-10-07 12:44:44,580] Trial 84 finished with value: 0.8384512244619439 and parameters: {'max_depth': 5, 'min_child_samples': 2, 'learning_rate': 0.28105882580182934, 'num_leaves': 7, 'n_estimators': 100, 'min_split_gain': 3.1317479065574014, 'min_child_weight': 0.0035408588803500915, 'reg_alpha': 0.10602893621722222, 'reg_lambda': 3.873933777365973e-05}. Best is trial 45 with value: 0.9190132935843286.\n",
      "[I 2024-10-07 12:44:44,614] Trial 81 finished with value: 0.8989343745587465 and parameters: {'max_depth': 5, 'min_child_samples': 2, 'learning_rate': 0.10934129933632264, 'num_leaves': 8, 'n_estimators': 100, 'min_split_gain': 4.110862593333334, 'min_child_weight': 0.009753717728964663, 'reg_alpha': 1.959120315191477e-05, 'reg_lambda': 8.99487496611961e-05}. Best is trial 45 with value: 0.9190132935843286.\n",
      "[I 2024-10-07 12:44:44,634] Trial 85 finished with value: 0.9090694845449749 and parameters: {'max_depth': 10, 'min_child_samples': 3, 'learning_rate': 0.1126884620521445, 'num_leaves': 7, 'n_estimators': 100, 'min_split_gain': 4.182900437890752, 'min_child_weight': 0.010398170888316141, 'reg_alpha': 1.738615877554554e-05, 'reg_lambda': 0.5003283658137483}. Best is trial 45 with value: 0.9190132935843286.\n"
     ]
    },
    {
     "name": "stdout",
     "output_type": "stream",
     "text": [
      "Finished trial with scores: [0.9326683291770573, 0.8307564422277639, 0.9312366737739872]\n",
      "Finished trial with scores: [0.8781379883624272, 0.7543640897755611, 0.9584221748400853]\n",
      "Finished trial with scores: [0.915045719035744, 0.8395677472984205, 0.972636815920398]\n"
     ]
    },
    {
     "name": "stderr",
     "output_type": "stream",
     "text": [
      "[I 2024-10-07 12:44:44,810] Trial 83 finished with value: 0.8982204817262694 and parameters: {'max_depth': 5, 'min_child_samples': 2, 'learning_rate': 0.11400859659553313, 'num_leaves': 8, 'n_estimators': 100, 'min_split_gain': 4.1479486993205015, 'min_child_weight': 0.03707704286385995, 'reg_alpha': 0.10178457321963637, 'reg_lambda': 0.00015524387123368608}. Best is trial 45 with value: 0.9190132935843286.\n",
      "[I 2024-10-07 12:44:44,858] Trial 86 finished with value: 0.8636414176593578 and parameters: {'max_depth': 10, 'min_child_samples': 2, 'learning_rate': 0.21184211251678461, 'num_leaves': 7, 'n_estimators': 100, 'min_split_gain': 4.012879157286589, 'min_child_weight': 0.003681298006446122, 'reg_alpha': 0.007345901939256318, 'reg_lambda': 4.023318172315276e-05}. Best is trial 45 with value: 0.9190132935843286.\n",
      "[I 2024-10-07 12:44:44,881] Trial 90 finished with value: 0.9090834274181875 and parameters: {'max_depth': 9, 'min_child_samples': 16, 'learning_rate': 0.22620253779554994, 'num_leaves': 6, 'n_estimators': 100, 'min_split_gain': 0.077053962599678, 'min_child_weight': 0.004282593121697574, 'reg_alpha': 1.88517324773944e-05, 'reg_lambda': 0.5276075879039693}. Best is trial 45 with value: 0.9190132935843286.\n"
     ]
    },
    {
     "name": "stdout",
     "output_type": "stream",
     "text": [
      "Finished trial with scores: [0.8800498753117207, 0.7515378221113882, 0.9302594171997158]\n",
      "Finished trial with scores: [0.8889443059019119, 0.7600997506234415, 0.9445628997867804]\n",
      "Finished trial with scores: [0.8965918536990856, 0.7817123857024106, 0.9546908315565032]\n"
     ]
    },
    {
     "name": "stderr",
     "output_type": "stream",
     "text": [
      "[I 2024-10-07 12:44:45,138] Trial 88 finished with value: 0.8539490382076083 and parameters: {'max_depth': 10, 'min_child_samples': 3, 'learning_rate': 0.2222141257372496, 'num_leaves': 7, 'n_estimators': 100, 'min_split_gain': 4.00596560082594, 'min_child_weight': 0.01045857736835041, 'reg_alpha': 1.8916115535200852e-05, 'reg_lambda': 6.032959935948181e-05}. Best is trial 45 with value: 0.9190132935843286.\n",
      "[I 2024-10-07 12:44:45,139] Trial 87 finished with value: 0.8645356521040446 and parameters: {'max_depth': 9, 'min_child_samples': 3, 'learning_rate': 0.2168604912681215, 'num_leaves': 7, 'n_estimators': 100, 'min_split_gain': 4.182983176852409, 'min_child_weight': 0.0037210936300355528, 'reg_alpha': 2.1323207097876834e-05, 'reg_lambda': 8.734487071162076e-05}. Best is trial 45 with value: 0.9190132935843286.\n",
      "[I 2024-10-07 12:44:45,263] Trial 98 finished with value: 0.8776650236526665 and parameters: {'max_depth': 10, 'min_child_samples': 23, 'learning_rate': 0.16382569194559338, 'num_leaves': 36, 'n_estimators': 100, 'min_split_gain': 2.171279636796602, 'min_child_weight': 0.0068410144677712335, 'reg_alpha': 2.1446312518066422e-05, 'reg_lambda': 0.470318852687681}. Best is trial 45 with value: 0.9190132935843286.\n"
     ]
    },
    {
     "name": "stdout",
     "output_type": "stream",
     "text": [
      "Finished trial with scores: [0.9308395677472984, 0.8081463009143807, 0.9449182658137882]\n",
      "Finished trial with scores: [0.9045719035743973, 0.7805486284289277, 0.9577114427860696]\n",
      "Finished trial with scores: [0.9245220282626766, 0.802161263507897, 0.9598436389481165]\n",
      "Finished trial with scores: [0.9123857024106401, 0.8154613466334164, 0.9660625444207533]\n",
      "Finished trial with scores: [0.9024106400665003, 0.8611803823773899, 0.9633972992181947]\n",
      "Finished trial with scores: [0.915544472152951, 0.8144638403990025, 0.9516702203269366]\n",
      "Finished trial with scores: [0.9170407315045719, 0.7612635078969243, 0.9273276474769012]\n"
     ]
    },
    {
     "name": "stderr",
     "output_type": "stream",
     "text": [
      "[I 2024-10-07 12:44:45,346] Trial 94 finished with value: 0.8946347114918224 and parameters: {'max_depth': 10, 'min_child_samples': 5, 'learning_rate': 0.12455044917407161, 'num_leaves': 31, 'n_estimators': 100, 'min_split_gain': 4.7781795052347915, 'min_child_weight': 0.006956643513270742, 'reg_alpha': 2.0212225771006754e-05, 'reg_lambda': 0.5691733386496107}. Best is trial 45 with value: 0.9190132935843286.\n",
      "[I 2024-10-07 12:44:45,369] Trial 99 finished with value: 0.8809439915964647 and parameters: {'max_depth': 10, 'min_child_samples': 17, 'learning_rate': 0.13095758363131232, 'num_leaves': 35, 'n_estimators': 100, 'min_split_gain': 1.6283007304769876, 'min_child_weight': 0.007073453654386714, 'reg_alpha': 1.84168699597101e-05, 'reg_lambda': 0.5467209025778235}. Best is trial 45 with value: 0.9190132935843286.\n",
      "[I 2024-10-07 12:44:45,404] Trial 96 finished with value: 0.89550897690623 and parameters: {'max_depth': 10, 'min_child_samples': 5, 'learning_rate': 0.23168254342722217, 'num_leaves': 5, 'n_estimators': 100, 'min_split_gain': 4.578074666898251, 'min_child_weight': 0.005906711905639045, 'reg_alpha': 1.9343573606536582e-05, 'reg_lambda': 1.4227593532169278}. Best is trial 45 with value: 0.9190132935843286.\n",
      "[I 2024-10-07 12:44:45,483] Trial 91 finished with value: 0.89796986448827 and parameters: {'max_depth': 9, 'min_child_samples': 3, 'learning_rate': 0.20936299646727524, 'num_leaves': 7, 'n_estimators': 100, 'min_split_gain': 0.5426151206871803, 'min_child_weight': 0.00942930636546081, 'reg_alpha': 1.8459344128400923e-05, 'reg_lambda': 1.3472332009622783}. Best is trial 45 with value: 0.9190132935843286.\n",
      "[I 2024-10-07 12:44:45,524] Trial 92 finished with value: 0.908996107220695 and parameters: {'max_depth': 9, 'min_child_samples': 3, 'learning_rate': 0.2181122410084404, 'num_leaves': 5, 'n_estimators': 100, 'min_split_gain': 1.3152235375366943, 'min_child_weight': 0.007090811162685868, 'reg_alpha': 1.8438447806628254e-05, 'reg_lambda': 0.5027045723632955}. Best is trial 45 with value: 0.9190132935843286.\n"
     ]
    },
    {
     "name": "stdout",
     "output_type": "stream",
     "text": [
      "Finished trial with scores: [0.9448046550290939, 0.8679966749792186, 0.9749466950959489]\n",
      "Finished trial with scores: [0.9045719035743973, 0.770906068162926, 0.9127576403695806]\n",
      "Ending process, stopping_event set.\n",
      "Finished trial with scores: [0.887115544472153, 0.8430590191188695, 0.9554015636105188]\n",
      "Finished trial with scores: [0.9293433083956775, 0.871072319201995, 0.9434968017057569]\n",
      "Ending process, stopping_event set.\n",
      "Ending process, stopping_event set.\n",
      "Finished trial with scores: [0.8922693266832918, 0.9205320033250208, 0.9344349680170575]\n",
      "Ending process, stopping_event set.\n"
     ]
    },
    {
     "name": "stderr",
     "output_type": "stream",
     "text": [
      "[I 2024-10-07 12:44:45,553] Trial 97 finished with value: 0.8685439622927991 and parameters: {'max_depth': 4, 'min_child_samples': 5, 'learning_rate': 0.16974465435174196, 'num_leaves': 30, 'n_estimators': 100, 'min_split_gain': 5.213943844939587, 'min_child_weight': 0.012435589864486864, 'reg_alpha': 0.00011735551501471546, 'reg_lambda': 0.00034905551757383635}. Best is trial 45 with value: 0.9190132935843286.\n",
      "[I 2024-10-07 12:44:45,553] Trial 89 finished with value: 0.8938928442929633 and parameters: {'max_depth': 9, 'min_child_samples': 3, 'learning_rate': 0.11864998473052382, 'num_leaves': 7, 'n_estimators': 100, 'min_split_gain': 4.0840261251522, 'min_child_weight': 0.003157247787415915, 'reg_alpha': 0.007587063673009483, 'reg_lambda': 0.00016613305365946468}. Best is trial 45 with value: 0.9190132935843286.\n",
      "[I 2024-10-07 12:44:45,570] Trial 100 finished with value: 0.9292493417014205 and parameters: {'max_depth': 4, 'min_child_samples': 22, 'learning_rate': 0.12725014219444775, 'num_leaves': 30, 'n_estimators': 100, 'min_split_gain': 1.8315156624850473, 'min_child_weight': 0.0059498455469195665, 'reg_alpha': 3.875383168775563e-05, 'reg_lambda': 0.49428800836350617}. Best is trial 100 with value: 0.9292493417014205.\n",
      "[I 2024-10-07 12:44:45,638] Trial 93 finished with value: 0.8627452040356346 and parameters: {'max_depth': 10, 'min_child_samples': 3, 'learning_rate': 0.12469451924810847, 'num_leaves': 33, 'n_estimators': 100, 'min_split_gain': 5.207258863208615, 'min_child_weight': 0.007082235958963298, 'reg_alpha': 2.099834875542121e-05, 'reg_lambda': 0.0002456200365171219}. Best is trial 100 with value: 0.9292493417014205.\n",
      "[I 2024-10-07 12:44:45,661] Trial 95 finished with value: 0.8951920424005139 and parameters: {'max_depth': 10, 'min_child_samples': 3, 'learning_rate': 0.20998081316561207, 'num_leaves': 5, 'n_estimators': 100, 'min_split_gain': 4.664559165631549, 'min_child_weight': 0.007416293564016503, 'reg_alpha': 2.0818364736209127e-05, 'reg_lambda': 0.00026492430632517534}. Best is trial 100 with value: 0.9292493417014205.\n",
      "[I 2024-10-07 12:44:45,675] Trial 101 finished with value: 0.9146374764344766 and parameters: {'max_depth': 9, 'min_child_samples': 20, 'learning_rate': 0.237962087247322, 'num_leaves': 5, 'n_estimators': 100, 'min_split_gain': 5.246889644671843, 'min_child_weight': 0.0014959600952903773, 'reg_alpha': 4.445399866832712e-05, 'reg_lambda': 1.1912758142892768}. Best is trial 100 with value: 0.9292493417014205.\n",
      "[I 2024-10-07 12:44:45,749] Trial 104 finished with value: 0.9157454326751234 and parameters: {'max_depth': 8, 'min_child_samples': 15, 'learning_rate': 0.24839097878661193, 'num_leaves': 3, 'n_estimators': 100, 'min_split_gain': 6.464185078902153, 'min_child_weight': 0.012959575565709867, 'reg_alpha': 4.090544557438629e-05, 'reg_lambda': 4.429118809778913}. Best is trial 100 with value: 0.9292493417014205.\n"
     ]
    },
    {
     "name": "stdout",
     "output_type": "stream",
     "text": [
      "Finished trial with scores: [0.9310058187863673, 0.8422277639235245, 0.933724235963042]\n",
      "Ending process, stopping_event set.\n",
      "Finished trial with scores: [0.9364921030756442, 0.8522028262676642, 0.9271499644633974]\n",
      "Ending process, stopping_event set.\n",
      "Finished trial with scores: [0.9296758104738154, 0.9167082294264339, 0.9388770433546553]\n",
      "Ending process, stopping_event set.\n",
      "Finished trial with scores: [0.9241895261845386, 0.9085619285120532, 0.94136460554371]\n",
      "Ending process, stopping_event set.\n",
      "Finished trial with scores: [0.8819617622610141, 0.8693266832917707, 0.9399431414356787]\n",
      "Ending process, stopping_event set.\n",
      "Finished trial with scores: [0.9095594347464672, 0.8766417290108063, 0.9506041222459133]\n",
      "Ending process, stopping_event set.\n"
     ]
    },
    {
     "name": "stderr",
     "output_type": "stream",
     "text": [
      "[I 2024-10-07 12:44:45,763] Trial 102 finished with value: 0.902319272890978 and parameters: {'max_depth': 8, 'min_child_samples': 15, 'learning_rate': 0.25845408900788996, 'num_leaves': 3, 'n_estimators': 100, 'min_split_gain': 0.12604081250132987, 'min_child_weight': 0.0024795357093082655, 'reg_alpha': 0.0001256993145327743, 'reg_lambda': 0.0005372933265720755}. Best is trial 100 with value: 0.9292493417014205.\n",
      "[I 2024-10-07 12:44:45,788] Trial 103 finished with value: 0.9052816312689019 and parameters: {'max_depth': 8, 'min_child_samples': 16, 'learning_rate': 0.24767307902808672, 'num_leaves': 3, 'n_estimators': 100, 'min_split_gain': 0.06536098740205634, 'min_child_weight': 0.0021438200238838973, 'reg_alpha': 4.6261760421787803e-05, 'reg_lambda': 0.000408130103573572}. Best is trial 100 with value: 0.9292493417014205.\n",
      "[I 2024-10-07 12:44:45,809] Trial 105 finished with value: 0.9284203610849682 and parameters: {'max_depth': 8, 'min_child_samples': 19, 'learning_rate': 0.25650714726756796, 'num_leaves': 3, 'n_estimators': 100, 'min_split_gain': 0.16897476606596307, 'min_child_weight': 0.0012747672301119345, 'reg_alpha': 4.345875289059534e-05, 'reg_lambda': 4.5658086039335934}. Best is trial 100 with value: 0.9292493417014205.\n",
      "[I 2024-10-07 12:44:45,875] Trial 107 finished with value: 0.924705353413434 and parameters: {'max_depth': 8, 'min_child_samples': 20, 'learning_rate': 0.2505543354302771, 'num_leaves': 3, 'n_estimators': 100, 'min_split_gain': 0.9459658266403906, 'min_child_weight': 0.027744298563667846, 'reg_alpha': 4.3437873742840054e-05, 'reg_lambda': 3.5348783776086767}. Best is trial 100 with value: 0.9292493417014205.\n",
      "[I 2024-10-07 12:44:45,893] Trial 108 finished with value: 0.8970771956628211 and parameters: {'max_depth': 8, 'min_child_samples': 20, 'learning_rate': 0.2590313253995958, 'num_leaves': 28, 'n_estimators': 100, 'min_split_gain': 1.0331536890424824, 'min_child_weight': 0.014151193855465417, 'reg_alpha': 4.837270139288916e-05, 'reg_lambda': 3.694722657587101}. Best is trial 100 with value: 0.9292493417014205.\n",
      "[I 2024-10-07 12:44:45,900] Trial 106 finished with value: 0.912268428667729 and parameters: {'max_depth': 3, 'min_child_samples': 19, 'learning_rate': 0.2519529756035676, 'num_leaves': 26, 'n_estimators': 100, 'min_split_gain': 0.9566053124723707, 'min_child_weight': 0.024590282304258672, 'reg_alpha': 4.150853822366512e-05, 'reg_lambda': 3.619052360624618}. Best is trial 100 with value: 0.9292493417014205.\n"
     ]
    }
   ],
   "source": [
    "# PERFORM AN OPTUNA HYPERPARAMETER SEARCH, CAN CHANGE THE SEARCH SPACE IN OPT.PY\n",
    "\n",
    "from eppi_text_classification import OptunaHyperparameterOptimisation\n",
    "\n",
    "hyperparam_ranges = {\n",
    "    \"min_child_samples\": {\"low\": 1, \"high\": 30, \"log\": False},\n",
    "    \"learning_rate\": {\"low\": 0.1, \"high\": 0.6, \"log\": False},\n",
    "    \"num_leaves\": {\"low\": 2, \"high\": 50, \"log\": False},\n",
    "    \"n_estimators\": {\"low\": 100, \"high\": 100, \"log\": False},\n",
    "    \"min_split_gain\": {\"low\": 1e-6, \"high\": 10, \"log\": False},\n",
    "    \"min_child_weight\": {\"low\": 1e-6, \"high\": 1e-1, \"log\": True},\n",
    "    \"reg_alpha\": {\"low\": 1e-5, \"high\": 10, \"log\": True},\n",
    "    \"reg_lambda\": {\"low\": 1e-5, \"high\": 10, \"log\": True},\n",
    "}\n",
    "\n",
    "optimiser = OptunaHyperparameterOptimisation(\n",
    "    tfidf_scores,\n",
    "    labels,\n",
    "    \"LGBMClassifier\",\n",
    "    max_n_search_iterations=100,\n",
    "    n_jobs=-1,\n",
    "    nfolds=3,\n",
    "    num_cv_repeats=1,\n",
    "    # db_url=f\"sqlite:////mnt/tmp/optuna.db\", #Use this one on Azure\n",
    "    db_url=None,\n",
    "    timeout=600,\n",
    "    use_early_terminator=False,\n",
    "    max_stagnation_iterations=100,\n",
    "    wilcoxon_trial_pruner_threshold=None,\n",
    "    use_worse_than_first_two_pruner=False,\n",
    "    user_selected_hyperparameter_ranges=hyperparam_ranges,\n",
    ")\n",
    "\n",
    "optimiser.delete_optuna_study(\"lgbm_binary\")\n",
    "best_params = optimiser.optimise_hyperparameters(study_name=\"lgbm_binary\")"
   ]
  },
  {
   "cell_type": "code",
   "execution_count": 21,
   "metadata": {},
   "outputs": [
    {
     "data": {
      "text/html": [
       "<style>#sk-container-id-2 {\n",
       "  /* Definition of color scheme common for light and dark mode */\n",
       "  --sklearn-color-text: black;\n",
       "  --sklearn-color-line: gray;\n",
       "  /* Definition of color scheme for unfitted estimators */\n",
       "  --sklearn-color-unfitted-level-0: #fff5e6;\n",
       "  --sklearn-color-unfitted-level-1: #f6e4d2;\n",
       "  --sklearn-color-unfitted-level-2: #ffe0b3;\n",
       "  --sklearn-color-unfitted-level-3: chocolate;\n",
       "  /* Definition of color scheme for fitted estimators */\n",
       "  --sklearn-color-fitted-level-0: #f0f8ff;\n",
       "  --sklearn-color-fitted-level-1: #d4ebff;\n",
       "  --sklearn-color-fitted-level-2: #b3dbfd;\n",
       "  --sklearn-color-fitted-level-3: cornflowerblue;\n",
       "\n",
       "  /* Specific color for light theme */\n",
       "  --sklearn-color-text-on-default-background: var(--sg-text-color, var(--theme-code-foreground, var(--jp-content-font-color1, black)));\n",
       "  --sklearn-color-background: var(--sg-background-color, var(--theme-background, var(--jp-layout-color0, white)));\n",
       "  --sklearn-color-border-box: var(--sg-text-color, var(--theme-code-foreground, var(--jp-content-font-color1, black)));\n",
       "  --sklearn-color-icon: #696969;\n",
       "\n",
       "  @media (prefers-color-scheme: dark) {\n",
       "    /* Redefinition of color scheme for dark theme */\n",
       "    --sklearn-color-text-on-default-background: var(--sg-text-color, var(--theme-code-foreground, var(--jp-content-font-color1, white)));\n",
       "    --sklearn-color-background: var(--sg-background-color, var(--theme-background, var(--jp-layout-color0, #111)));\n",
       "    --sklearn-color-border-box: var(--sg-text-color, var(--theme-code-foreground, var(--jp-content-font-color1, white)));\n",
       "    --sklearn-color-icon: #878787;\n",
       "  }\n",
       "}\n",
       "\n",
       "#sk-container-id-2 {\n",
       "  color: var(--sklearn-color-text);\n",
       "}\n",
       "\n",
       "#sk-container-id-2 pre {\n",
       "  padding: 0;\n",
       "}\n",
       "\n",
       "#sk-container-id-2 input.sk-hidden--visually {\n",
       "  border: 0;\n",
       "  clip: rect(1px 1px 1px 1px);\n",
       "  clip: rect(1px, 1px, 1px, 1px);\n",
       "  height: 1px;\n",
       "  margin: -1px;\n",
       "  overflow: hidden;\n",
       "  padding: 0;\n",
       "  position: absolute;\n",
       "  width: 1px;\n",
       "}\n",
       "\n",
       "#sk-container-id-2 div.sk-dashed-wrapped {\n",
       "  border: 1px dashed var(--sklearn-color-line);\n",
       "  margin: 0 0.4em 0.5em 0.4em;\n",
       "  box-sizing: border-box;\n",
       "  padding-bottom: 0.4em;\n",
       "  background-color: var(--sklearn-color-background);\n",
       "}\n",
       "\n",
       "#sk-container-id-2 div.sk-container {\n",
       "  /* jupyter's `normalize.less` sets `[hidden] { display: none; }`\n",
       "     but bootstrap.min.css set `[hidden] { display: none !important; }`\n",
       "     so we also need the `!important` here to be able to override the\n",
       "     default hidden behavior on the sphinx rendered scikit-learn.org.\n",
       "     See: https://github.com/scikit-learn/scikit-learn/issues/21755 */\n",
       "  display: inline-block !important;\n",
       "  position: relative;\n",
       "}\n",
       "\n",
       "#sk-container-id-2 div.sk-text-repr-fallback {\n",
       "  display: none;\n",
       "}\n",
       "\n",
       "div.sk-parallel-item,\n",
       "div.sk-serial,\n",
       "div.sk-item {\n",
       "  /* draw centered vertical line to link estimators */\n",
       "  background-image: linear-gradient(var(--sklearn-color-text-on-default-background), var(--sklearn-color-text-on-default-background));\n",
       "  background-size: 2px 100%;\n",
       "  background-repeat: no-repeat;\n",
       "  background-position: center center;\n",
       "}\n",
       "\n",
       "/* Parallel-specific style estimator block */\n",
       "\n",
       "#sk-container-id-2 div.sk-parallel-item::after {\n",
       "  content: \"\";\n",
       "  width: 100%;\n",
       "  border-bottom: 2px solid var(--sklearn-color-text-on-default-background);\n",
       "  flex-grow: 1;\n",
       "}\n",
       "\n",
       "#sk-container-id-2 div.sk-parallel {\n",
       "  display: flex;\n",
       "  align-items: stretch;\n",
       "  justify-content: center;\n",
       "  background-color: var(--sklearn-color-background);\n",
       "  position: relative;\n",
       "}\n",
       "\n",
       "#sk-container-id-2 div.sk-parallel-item {\n",
       "  display: flex;\n",
       "  flex-direction: column;\n",
       "}\n",
       "\n",
       "#sk-container-id-2 div.sk-parallel-item:first-child::after {\n",
       "  align-self: flex-end;\n",
       "  width: 50%;\n",
       "}\n",
       "\n",
       "#sk-container-id-2 div.sk-parallel-item:last-child::after {\n",
       "  align-self: flex-start;\n",
       "  width: 50%;\n",
       "}\n",
       "\n",
       "#sk-container-id-2 div.sk-parallel-item:only-child::after {\n",
       "  width: 0;\n",
       "}\n",
       "\n",
       "/* Serial-specific style estimator block */\n",
       "\n",
       "#sk-container-id-2 div.sk-serial {\n",
       "  display: flex;\n",
       "  flex-direction: column;\n",
       "  align-items: center;\n",
       "  background-color: var(--sklearn-color-background);\n",
       "  padding-right: 1em;\n",
       "  padding-left: 1em;\n",
       "}\n",
       "\n",
       "\n",
       "/* Toggleable style: style used for estimator/Pipeline/ColumnTransformer box that is\n",
       "clickable and can be expanded/collapsed.\n",
       "- Pipeline and ColumnTransformer use this feature and define the default style\n",
       "- Estimators will overwrite some part of the style using the `sk-estimator` class\n",
       "*/\n",
       "\n",
       "/* Pipeline and ColumnTransformer style (default) */\n",
       "\n",
       "#sk-container-id-2 div.sk-toggleable {\n",
       "  /* Default theme specific background. It is overwritten whether we have a\n",
       "  specific estimator or a Pipeline/ColumnTransformer */\n",
       "  background-color: var(--sklearn-color-background);\n",
       "}\n",
       "\n",
       "/* Toggleable label */\n",
       "#sk-container-id-2 label.sk-toggleable__label {\n",
       "  cursor: pointer;\n",
       "  display: block;\n",
       "  width: 100%;\n",
       "  margin-bottom: 0;\n",
       "  padding: 0.5em;\n",
       "  box-sizing: border-box;\n",
       "  text-align: center;\n",
       "}\n",
       "\n",
       "#sk-container-id-2 label.sk-toggleable__label-arrow:before {\n",
       "  /* Arrow on the left of the label */\n",
       "  content: \"▸\";\n",
       "  float: left;\n",
       "  margin-right: 0.25em;\n",
       "  color: var(--sklearn-color-icon);\n",
       "}\n",
       "\n",
       "#sk-container-id-2 label.sk-toggleable__label-arrow:hover:before {\n",
       "  color: var(--sklearn-color-text);\n",
       "}\n",
       "\n",
       "/* Toggleable content - dropdown */\n",
       "\n",
       "#sk-container-id-2 div.sk-toggleable__content {\n",
       "  max-height: 0;\n",
       "  max-width: 0;\n",
       "  overflow: hidden;\n",
       "  text-align: left;\n",
       "  /* unfitted */\n",
       "  background-color: var(--sklearn-color-unfitted-level-0);\n",
       "}\n",
       "\n",
       "#sk-container-id-2 div.sk-toggleable__content.fitted {\n",
       "  /* fitted */\n",
       "  background-color: var(--sklearn-color-fitted-level-0);\n",
       "}\n",
       "\n",
       "#sk-container-id-2 div.sk-toggleable__content pre {\n",
       "  margin: 0.2em;\n",
       "  border-radius: 0.25em;\n",
       "  color: var(--sklearn-color-text);\n",
       "  /* unfitted */\n",
       "  background-color: var(--sklearn-color-unfitted-level-0);\n",
       "}\n",
       "\n",
       "#sk-container-id-2 div.sk-toggleable__content.fitted pre {\n",
       "  /* unfitted */\n",
       "  background-color: var(--sklearn-color-fitted-level-0);\n",
       "}\n",
       "\n",
       "#sk-container-id-2 input.sk-toggleable__control:checked~div.sk-toggleable__content {\n",
       "  /* Expand drop-down */\n",
       "  max-height: 200px;\n",
       "  max-width: 100%;\n",
       "  overflow: auto;\n",
       "}\n",
       "\n",
       "#sk-container-id-2 input.sk-toggleable__control:checked~label.sk-toggleable__label-arrow:before {\n",
       "  content: \"▾\";\n",
       "}\n",
       "\n",
       "/* Pipeline/ColumnTransformer-specific style */\n",
       "\n",
       "#sk-container-id-2 div.sk-label input.sk-toggleable__control:checked~label.sk-toggleable__label {\n",
       "  color: var(--sklearn-color-text);\n",
       "  background-color: var(--sklearn-color-unfitted-level-2);\n",
       "}\n",
       "\n",
       "#sk-container-id-2 div.sk-label.fitted input.sk-toggleable__control:checked~label.sk-toggleable__label {\n",
       "  background-color: var(--sklearn-color-fitted-level-2);\n",
       "}\n",
       "\n",
       "/* Estimator-specific style */\n",
       "\n",
       "/* Colorize estimator box */\n",
       "#sk-container-id-2 div.sk-estimator input.sk-toggleable__control:checked~label.sk-toggleable__label {\n",
       "  /* unfitted */\n",
       "  background-color: var(--sklearn-color-unfitted-level-2);\n",
       "}\n",
       "\n",
       "#sk-container-id-2 div.sk-estimator.fitted input.sk-toggleable__control:checked~label.sk-toggleable__label {\n",
       "  /* fitted */\n",
       "  background-color: var(--sklearn-color-fitted-level-2);\n",
       "}\n",
       "\n",
       "#sk-container-id-2 div.sk-label label.sk-toggleable__label,\n",
       "#sk-container-id-2 div.sk-label label {\n",
       "  /* The background is the default theme color */\n",
       "  color: var(--sklearn-color-text-on-default-background);\n",
       "}\n",
       "\n",
       "/* On hover, darken the color of the background */\n",
       "#sk-container-id-2 div.sk-label:hover label.sk-toggleable__label {\n",
       "  color: var(--sklearn-color-text);\n",
       "  background-color: var(--sklearn-color-unfitted-level-2);\n",
       "}\n",
       "\n",
       "/* Label box, darken color on hover, fitted */\n",
       "#sk-container-id-2 div.sk-label.fitted:hover label.sk-toggleable__label.fitted {\n",
       "  color: var(--sklearn-color-text);\n",
       "  background-color: var(--sklearn-color-fitted-level-2);\n",
       "}\n",
       "\n",
       "/* Estimator label */\n",
       "\n",
       "#sk-container-id-2 div.sk-label label {\n",
       "  font-family: monospace;\n",
       "  font-weight: bold;\n",
       "  display: inline-block;\n",
       "  line-height: 1.2em;\n",
       "}\n",
       "\n",
       "#sk-container-id-2 div.sk-label-container {\n",
       "  text-align: center;\n",
       "}\n",
       "\n",
       "/* Estimator-specific */\n",
       "#sk-container-id-2 div.sk-estimator {\n",
       "  font-family: monospace;\n",
       "  border: 1px dotted var(--sklearn-color-border-box);\n",
       "  border-radius: 0.25em;\n",
       "  box-sizing: border-box;\n",
       "  margin-bottom: 0.5em;\n",
       "  /* unfitted */\n",
       "  background-color: var(--sklearn-color-unfitted-level-0);\n",
       "}\n",
       "\n",
       "#sk-container-id-2 div.sk-estimator.fitted {\n",
       "  /* fitted */\n",
       "  background-color: var(--sklearn-color-fitted-level-0);\n",
       "}\n",
       "\n",
       "/* on hover */\n",
       "#sk-container-id-2 div.sk-estimator:hover {\n",
       "  /* unfitted */\n",
       "  background-color: var(--sklearn-color-unfitted-level-2);\n",
       "}\n",
       "\n",
       "#sk-container-id-2 div.sk-estimator.fitted:hover {\n",
       "  /* fitted */\n",
       "  background-color: var(--sklearn-color-fitted-level-2);\n",
       "}\n",
       "\n",
       "/* Specification for estimator info (e.g. \"i\" and \"?\") */\n",
       "\n",
       "/* Common style for \"i\" and \"?\" */\n",
       "\n",
       ".sk-estimator-doc-link,\n",
       "a:link.sk-estimator-doc-link,\n",
       "a:visited.sk-estimator-doc-link {\n",
       "  float: right;\n",
       "  font-size: smaller;\n",
       "  line-height: 1em;\n",
       "  font-family: monospace;\n",
       "  background-color: var(--sklearn-color-background);\n",
       "  border-radius: 1em;\n",
       "  height: 1em;\n",
       "  width: 1em;\n",
       "  text-decoration: none !important;\n",
       "  margin-left: 1ex;\n",
       "  /* unfitted */\n",
       "  border: var(--sklearn-color-unfitted-level-1) 1pt solid;\n",
       "  color: var(--sklearn-color-unfitted-level-1);\n",
       "}\n",
       "\n",
       ".sk-estimator-doc-link.fitted,\n",
       "a:link.sk-estimator-doc-link.fitted,\n",
       "a:visited.sk-estimator-doc-link.fitted {\n",
       "  /* fitted */\n",
       "  border: var(--sklearn-color-fitted-level-1) 1pt solid;\n",
       "  color: var(--sklearn-color-fitted-level-1);\n",
       "}\n",
       "\n",
       "/* On hover */\n",
       "div.sk-estimator:hover .sk-estimator-doc-link:hover,\n",
       ".sk-estimator-doc-link:hover,\n",
       "div.sk-label-container:hover .sk-estimator-doc-link:hover,\n",
       ".sk-estimator-doc-link:hover {\n",
       "  /* unfitted */\n",
       "  background-color: var(--sklearn-color-unfitted-level-3);\n",
       "  color: var(--sklearn-color-background);\n",
       "  text-decoration: none;\n",
       "}\n",
       "\n",
       "div.sk-estimator.fitted:hover .sk-estimator-doc-link.fitted:hover,\n",
       ".sk-estimator-doc-link.fitted:hover,\n",
       "div.sk-label-container:hover .sk-estimator-doc-link.fitted:hover,\n",
       ".sk-estimator-doc-link.fitted:hover {\n",
       "  /* fitted */\n",
       "  background-color: var(--sklearn-color-fitted-level-3);\n",
       "  color: var(--sklearn-color-background);\n",
       "  text-decoration: none;\n",
       "}\n",
       "\n",
       "/* Span, style for the box shown on hovering the info icon */\n",
       ".sk-estimator-doc-link span {\n",
       "  display: none;\n",
       "  z-index: 9999;\n",
       "  position: relative;\n",
       "  font-weight: normal;\n",
       "  right: .2ex;\n",
       "  padding: .5ex;\n",
       "  margin: .5ex;\n",
       "  width: min-content;\n",
       "  min-width: 20ex;\n",
       "  max-width: 50ex;\n",
       "  color: var(--sklearn-color-text);\n",
       "  box-shadow: 2pt 2pt 4pt #999;\n",
       "  /* unfitted */\n",
       "  background: var(--sklearn-color-unfitted-level-0);\n",
       "  border: .5pt solid var(--sklearn-color-unfitted-level-3);\n",
       "}\n",
       "\n",
       ".sk-estimator-doc-link.fitted span {\n",
       "  /* fitted */\n",
       "  background: var(--sklearn-color-fitted-level-0);\n",
       "  border: var(--sklearn-color-fitted-level-3);\n",
       "}\n",
       "\n",
       ".sk-estimator-doc-link:hover span {\n",
       "  display: block;\n",
       "}\n",
       "\n",
       "/* \"?\"-specific style due to the `<a>` HTML tag */\n",
       "\n",
       "#sk-container-id-2 a.estimator_doc_link {\n",
       "  float: right;\n",
       "  font-size: 1rem;\n",
       "  line-height: 1em;\n",
       "  font-family: monospace;\n",
       "  background-color: var(--sklearn-color-background);\n",
       "  border-radius: 1rem;\n",
       "  height: 1rem;\n",
       "  width: 1rem;\n",
       "  text-decoration: none;\n",
       "  /* unfitted */\n",
       "  color: var(--sklearn-color-unfitted-level-1);\n",
       "  border: var(--sklearn-color-unfitted-level-1) 1pt solid;\n",
       "}\n",
       "\n",
       "#sk-container-id-2 a.estimator_doc_link.fitted {\n",
       "  /* fitted */\n",
       "  border: var(--sklearn-color-fitted-level-1) 1pt solid;\n",
       "  color: var(--sklearn-color-fitted-level-1);\n",
       "}\n",
       "\n",
       "/* On hover */\n",
       "#sk-container-id-2 a.estimator_doc_link:hover {\n",
       "  /* unfitted */\n",
       "  background-color: var(--sklearn-color-unfitted-level-3);\n",
       "  color: var(--sklearn-color-background);\n",
       "  text-decoration: none;\n",
       "}\n",
       "\n",
       "#sk-container-id-2 a.estimator_doc_link.fitted:hover {\n",
       "  /* fitted */\n",
       "  background-color: var(--sklearn-color-fitted-level-3);\n",
       "}\n",
       "</style><div id=\"sk-container-id-2\" class=\"sk-top-container\"><div class=\"sk-text-repr-fallback\"><pre>LGBMClassifier(learning_rate=0.1245928917280467, max_depth=4,\n",
       "               min_child_samples=30, min_child_weight=5.544840854157574e-06,\n",
       "               min_split_gain=2.52381000405986e-06, n_estimators=2455, n_jobs=1,\n",
       "               num_leaves=6, objective=&#x27;binary&#x27;,\n",
       "               reg_alpha=3.629909607712911e-05,\n",
       "               reg_lambda=3.671749546766942e-05, scale_pos_weight=27,\n",
       "               subsample_for_bin=20000, verbosity=-1)</pre><b>In a Jupyter environment, please rerun this cell to show the HTML representation or trust the notebook. <br />On GitHub, the HTML representation is unable to render, please try loading this page with nbviewer.org.</b></div><div class=\"sk-container\" hidden><div class=\"sk-item\"><div class=\"sk-estimator fitted sk-toggleable\"><input class=\"sk-toggleable__control sk-hidden--visually\" id=\"sk-estimator-id-2\" type=\"checkbox\" checked><label for=\"sk-estimator-id-2\" class=\"sk-toggleable__label fitted sk-toggleable__label-arrow fitted\">&nbsp;LGBMClassifier<span class=\"sk-estimator-doc-link fitted\">i<span>Fitted</span></span></label><div class=\"sk-toggleable__content fitted\"><pre>LGBMClassifier(learning_rate=0.1245928917280467, max_depth=4,\n",
       "               min_child_samples=30, min_child_weight=5.544840854157574e-06,\n",
       "               min_split_gain=2.52381000405986e-06, n_estimators=2455, n_jobs=1,\n",
       "               num_leaves=6, objective=&#x27;binary&#x27;,\n",
       "               reg_alpha=3.629909607712911e-05,\n",
       "               reg_lambda=3.671749546766942e-05, scale_pos_weight=27,\n",
       "               subsample_for_bin=20000, verbosity=-1)</pre></div> </div></div></div></div>"
      ],
      "text/plain": [
       "LGBMClassifier(learning_rate=0.1245928917280467, max_depth=4,\n",
       "               min_child_samples=30, min_child_weight=5.544840854157574e-06,\n",
       "               min_split_gain=2.52381000405986e-06, n_estimators=2455, n_jobs=1,\n",
       "               num_leaves=6, objective='binary',\n",
       "               reg_alpha=3.629909607712911e-05,\n",
       "               reg_lambda=3.671749546766942e-05, scale_pos_weight=27,\n",
       "               subsample_for_bin=20000, verbosity=-1)"
      ]
     },
     "execution_count": 21,
     "metadata": {},
     "output_type": "execute_result"
    }
   ],
   "source": [
    "# FIT THE MODEL\n",
    "\n",
    "from lightgbm import LGBMClassifier\n",
    "from sklearn.model_selection import train_test_split\n",
    "\n",
    "# model = LGBMClassifier(**best_params)\n",
    "\n",
    "model = LGBMClassifier(\n",
    "    verbosity=-1,\n",
    "    boosting_type=\"gbdt\",\n",
    "    max_depth=4,\n",
    "    min_child_samples=30,\n",
    "    learning_rate=0.1245928917280467,\n",
    "    num_leaves=6,\n",
    "    n_estimators=2455,\n",
    "    subsample_for_bin=20000,\n",
    "    subsample=1.0,\n",
    "    objective=\"binary\",\n",
    "    scale_pos_weight=27,\n",
    "    min_split_gain=2.52381000405986e-06,\n",
    "    min_child_weight=5.544840854157574e-06,\n",
    "    reg_alpha=3.629909607712911e-05,\n",
    "    reg_lambda=3.671749546766942e-05,\n",
    "    n_jobs=1,\n",
    ")\n",
    "\n",
    "X_train, X_test, y_train, y_test = train_test_split(\n",
    "    tfidf_scores, labels, test_size=0.333, stratify=labels, random_state=8\n",
    ")\n",
    "\n",
    "model.fit(X_train, y_train)"
   ]
  },
  {
   "cell_type": "code",
   "execution_count": 22,
   "metadata": {},
   "outputs": [
    {
     "data": {
      "application/vnd.plotly.v1+json": {
       "config": {
        "plotlyServerURL": "https://plot.ly"
       },
       "data": [
        {
         "customdata": [
          [
           "inf"
          ],
          [
           "22.81"
          ],
          [
           "12.46"
          ],
          [
           "12.44"
          ],
          [
           "11.8"
          ],
          [
           "11.63"
          ],
          [
           "10.87"
          ],
          [
           "10.81"
          ],
          [
           "10.61"
          ],
          [
           "10.37"
          ],
          [
           "9.956"
          ],
          [
           "9.92"
          ],
          [
           "7.925"
          ],
          [
           "7.909"
          ],
          [
           "7.856"
          ],
          [
           "7.678"
          ],
          [
           "7.526"
          ],
          [
           "7.515"
          ],
          [
           "7.247"
          ],
          [
           "7.218"
          ],
          [
           "6.848"
          ],
          [
           "6.813"
          ],
          [
           "6.8"
          ],
          [
           "6.792"
          ],
          [
           "6.716"
          ],
          [
           "6.615"
          ],
          [
           "6.513"
          ],
          [
           "6.432"
          ],
          [
           "6.359"
          ],
          [
           "6.35"
          ],
          [
           "6.202"
          ],
          [
           "6.202"
          ],
          [
           "6.109"
          ],
          [
           "6.076"
          ],
          [
           "5.755"
          ],
          [
           "5.735"
          ],
          [
           "5.605"
          ],
          [
           "5.565"
          ],
          [
           "5.56"
          ],
          [
           "5.547"
          ],
          [
           "5.423"
          ],
          [
           "5.302"
          ],
          [
           "5.268"
          ],
          [
           "5.152"
          ],
          [
           "5.135"
          ],
          [
           "5.026"
          ],
          [
           "5.026"
          ],
          [
           "4.971"
          ],
          [
           "4.831"
          ],
          [
           "4.809"
          ],
          [
           "4.691"
          ],
          [
           "4.683"
          ],
          [
           "4.574"
          ],
          [
           "4.563"
          ],
          [
           "4.551"
          ],
          [
           "4.493"
          ],
          [
           "4.447"
          ],
          [
           "4.336"
          ],
          [
           "4.229"
          ],
          [
           "4.207"
          ],
          [
           "4.122"
          ],
          [
           "4.09"
          ],
          [
           "4.085"
          ],
          [
           "4.038"
          ],
          [
           "3.946"
          ],
          [
           "3.94"
          ],
          [
           "3.845"
          ],
          [
           "3.778"
          ],
          [
           "3.606"
          ],
          [
           "3.581"
          ],
          [
           "3.57"
          ],
          [
           "3.554"
          ],
          [
           "3.551"
          ],
          [
           "3.529"
          ],
          [
           "3.524"
          ],
          [
           "3.411"
          ],
          [
           "3.189"
          ],
          [
           "3.189"
          ],
          [
           "3.124"
          ],
          [
           "3.071"
          ],
          [
           "3.053"
          ],
          [
           "2.947"
          ],
          [
           "2.652"
          ],
          [
           "2.649"
          ],
          [
           "2.632"
          ],
          [
           "2.582"
          ],
          [
           "2.579"
          ],
          [
           "2.553"
          ],
          [
           "2.453"
          ],
          [
           "2.403"
          ],
          [
           "2.367"
          ],
          [
           "2.35"
          ],
          [
           "2.173"
          ],
          [
           "2.059"
          ],
          [
           "2.035"
          ],
          [
           "2.017"
          ],
          [
           "1.868"
          ],
          [
           "1.862"
          ],
          [
           "1.848"
          ],
          [
           "1.824"
          ],
          [
           "1.786"
          ],
          [
           "1.783"
          ],
          [
           "1.782"
          ],
          [
           "1.762"
          ],
          [
           "1.758"
          ],
          [
           "1.722"
          ],
          [
           "1.681"
          ],
          [
           "1.646"
          ],
          [
           "1.596"
          ],
          [
           "1.588"
          ],
          [
           "1.477"
          ],
          [
           "1.472"
          ],
          [
           "1.423"
          ],
          [
           "1.388"
          ],
          [
           "1.362"
          ],
          [
           "1.334"
          ],
          [
           "1.247"
          ],
          [
           "1.217"
          ],
          [
           "1.198"
          ],
          [
           "1.197"
          ],
          [
           "1.183"
          ],
          [
           "1.176"
          ],
          [
           "1.169"
          ],
          [
           "1.137"
          ],
          [
           "1.121"
          ],
          [
           "1.119"
          ],
          [
           "1.08"
          ],
          [
           "1.063"
          ],
          [
           "1.062"
          ],
          [
           "0.9522"
          ],
          [
           "0.9288"
          ],
          [
           "0.842"
          ],
          [
           "0.8289"
          ],
          [
           "0.8087"
          ],
          [
           "0.7805"
          ],
          [
           "0.7799"
          ],
          [
           "0.7789"
          ],
          [
           "0.6697"
          ],
          [
           "0.6366"
          ],
          [
           "0.6338"
          ],
          [
           "0.5337"
          ],
          [
           "0.4586"
          ],
          [
           "0.4436"
          ],
          [
           "0.4427"
          ],
          [
           "0.4304"
          ],
          [
           "0.4237"
          ],
          [
           "0.4175"
          ],
          [
           "0.4127"
          ],
          [
           "0.3696"
          ],
          [
           "0.3121"
          ],
          [
           "0.1923"
          ],
          [
           "0.1655"
          ],
          [
           "0.1635"
          ],
          [
           "0.1142"
          ],
          [
           "0.0193"
          ],
          [
           "-0.01304"
          ],
          [
           "-0.07191"
          ],
          [
           "-0.08272"
          ],
          [
           "-0.09855"
          ],
          [
           "-0.1256"
          ],
          [
           "-0.1298"
          ],
          [
           "-0.1687"
          ],
          [
           "-0.1828"
          ],
          [
           "-0.1964"
          ],
          [
           "-0.2559"
          ],
          [
           "-0.3015"
          ],
          [
           "-0.3638"
          ],
          [
           "-0.3809"
          ],
          [
           "-0.3853"
          ],
          [
           "-0.4302"
          ],
          [
           "-0.46"
          ],
          [
           "-0.5945"
          ],
          [
           "-0.6381"
          ],
          [
           "-0.6677"
          ],
          [
           "-0.6699"
          ],
          [
           "-0.6851"
          ],
          [
           "-0.692"
          ],
          [
           "-0.735"
          ],
          [
           "-0.7355"
          ],
          [
           "-0.7519"
          ],
          [
           "-0.8285"
          ],
          [
           "-0.8289"
          ],
          [
           "-0.8529"
          ],
          [
           "-0.9625"
          ],
          [
           "-0.9781"
          ],
          [
           "-1.021"
          ],
          [
           "-1.031"
          ],
          [
           "-1.044"
          ],
          [
           "-1.078"
          ],
          [
           "-1.092"
          ],
          [
           "-1.116"
          ],
          [
           "-1.122"
          ],
          [
           "-1.127"
          ],
          [
           "-1.192"
          ],
          [
           "-1.195"
          ],
          [
           "-1.21"
          ],
          [
           "-1.211"
          ],
          [
           "-1.264"
          ],
          [
           "-1.268"
          ],
          [
           "-1.294"
          ],
          [
           "-1.316"
          ],
          [
           "-1.318"
          ],
          [
           "-1.394"
          ],
          [
           "-1.518"
          ],
          [
           "-1.52"
          ],
          [
           "-1.531"
          ],
          [
           "-1.534"
          ],
          [
           "-1.566"
          ],
          [
           "-1.579"
          ],
          [
           "-1.63"
          ],
          [
           "-1.643"
          ],
          [
           "-1.712"
          ],
          [
           "-1.776"
          ],
          [
           "-1.794"
          ],
          [
           "-1.802"
          ],
          [
           "-1.839"
          ],
          [
           "-1.87"
          ],
          [
           "-1.946"
          ],
          [
           "-1.956"
          ],
          [
           "-1.962"
          ],
          [
           "-1.972"
          ],
          [
           "-1.978"
          ],
          [
           "-1.98"
          ],
          [
           "-1.996"
          ],
          [
           "-2.004"
          ],
          [
           "-2.076"
          ],
          [
           "-2.089"
          ],
          [
           "-2.147"
          ],
          [
           "-2.154"
          ],
          [
           "-2.204"
          ],
          [
           "-2.233"
          ],
          [
           "-2.25"
          ],
          [
           "-2.251"
          ],
          [
           "-2.341"
          ],
          [
           "-2.35"
          ],
          [
           "-2.457"
          ],
          [
           "-2.469"
          ],
          [
           "-2.526"
          ],
          [
           "-2.535"
          ],
          [
           "-2.611"
          ],
          [
           "-2.624"
          ],
          [
           "-2.641"
          ],
          [
           "-2.651"
          ],
          [
           "-2.717"
          ],
          [
           "-2.721"
          ],
          [
           "-2.795"
          ],
          [
           "-2.801"
          ],
          [
           "-2.816"
          ],
          [
           "-2.824"
          ],
          [
           "-2.825"
          ],
          [
           "-2.827"
          ],
          [
           "-2.863"
          ],
          [
           "-2.868"
          ],
          [
           "-2.942"
          ],
          [
           "-2.961"
          ],
          [
           "-2.999"
          ],
          [
           "-3.013"
          ],
          [
           "-3.113"
          ],
          [
           "-3.117"
          ],
          [
           "-3.134"
          ],
          [
           "-3.135"
          ],
          [
           "-3.161"
          ],
          [
           "-3.164"
          ],
          [
           "-3.207"
          ],
          [
           "-3.208"
          ],
          [
           "-3.234"
          ],
          [
           "-3.236"
          ],
          [
           "-3.26"
          ],
          [
           "-3.268"
          ],
          [
           "-3.287"
          ],
          [
           "-3.287"
          ],
          [
           "-3.315"
          ],
          [
           "-3.322"
          ],
          [
           "-3.379"
          ],
          [
           "-3.396"
          ],
          [
           "-3.462"
          ],
          [
           "-3.465"
          ],
          [
           "-3.491"
          ],
          [
           "-3.519"
          ],
          [
           "-3.584"
          ],
          [
           "-3.608"
          ],
          [
           "-3.633"
          ],
          [
           "-3.635"
          ],
          [
           "-3.654"
          ],
          [
           "-3.676"
          ],
          [
           "-3.689"
          ],
          [
           "-3.694"
          ],
          [
           "-3.747"
          ],
          [
           "-3.777"
          ],
          [
           "-3.778"
          ],
          [
           "-3.779"
          ],
          [
           "-3.813"
          ],
          [
           "-3.814"
          ],
          [
           "-4.027"
          ],
          [
           "-4.028"
          ],
          [
           "-4.223"
          ],
          [
           "-4.242"
          ],
          [
           "-4.25"
          ],
          [
           "-4.267"
          ],
          [
           "-4.301"
          ],
          [
           "-4.305"
          ],
          [
           "-4.322"
          ],
          [
           "-4.33"
          ],
          [
           "-4.336"
          ],
          [
           "-4.351"
          ],
          [
           "-4.359"
          ],
          [
           "-4.365"
          ],
          [
           "-4.401"
          ],
          [
           "-4.404"
          ],
          [
           "-4.748"
          ],
          [
           "-4.753"
          ],
          [
           "-4.835"
          ],
          [
           "-4.836"
          ],
          [
           "-4.872"
          ],
          [
           "-4.872"
          ],
          [
           "-4.893"
          ],
          [
           "-4.897"
          ],
          [
           "-4.912"
          ],
          [
           "-4.925"
          ],
          [
           "-4.931"
          ],
          [
           "-4.935"
          ],
          [
           "-4.944"
          ],
          [
           "-4.967"
          ],
          [
           "-4.985"
          ],
          [
           "-4.992"
          ],
          [
           "-5.085"
          ],
          [
           "-5.089"
          ],
          [
           "-5.112"
          ],
          [
           "-5.116"
          ],
          [
           "-5.137"
          ],
          [
           "-5.147"
          ],
          [
           "-5.194"
          ],
          [
           "-5.201"
          ],
          [
           "-5.226"
          ],
          [
           "-5.238"
          ],
          [
           "-5.409"
          ],
          [
           "-5.419"
          ],
          [
           "-5.421"
          ],
          [
           "-5.427"
          ],
          [
           "-5.511"
          ],
          [
           "-5.516"
          ],
          [
           "-5.525"
          ],
          [
           "-5.529"
          ],
          [
           "-5.608"
          ],
          [
           "-5.621"
          ],
          [
           "-5.722"
          ],
          [
           "-5.725"
          ],
          [
           "-5.752"
          ],
          [
           "-5.755"
          ],
          [
           "-5.756"
          ],
          [
           "-5.76"
          ],
          [
           "-5.85"
          ],
          [
           "-5.854"
          ],
          [
           "-6.049"
          ],
          [
           "-6.057"
          ],
          [
           "-6.131"
          ],
          [
           "-6.135"
          ],
          [
           "-6.217"
          ],
          [
           "-6.218"
          ],
          [
           "-6.226"
          ],
          [
           "-6.241"
          ],
          [
           "-6.253"
          ],
          [
           "-6.255"
          ],
          [
           "-6.468"
          ],
          [
           "-6.469"
          ],
          [
           "-6.551"
          ],
          [
           "-6.551"
          ],
          [
           "-6.811"
          ],
          [
           "-6.813"
          ],
          [
           "-6.816"
          ],
          [
           "-6.819"
          ],
          [
           "-6.829"
          ],
          [
           "-6.83"
          ],
          [
           "-6.902"
          ],
          [
           "-6.909"
          ],
          [
           "-6.923"
          ],
          [
           "-6.924"
          ],
          [
           "-6.937"
          ],
          [
           "-6.944"
          ],
          [
           "-6.971"
          ],
          [
           "-6.981"
          ],
          [
           "-6.985"
          ],
          [
           "-6.988"
          ],
          [
           "-7.414"
          ],
          [
           "-7.415"
          ],
          [
           "-7.663"
          ],
          [
           "-7.674"
          ],
          [
           "-7.699"
          ],
          [
           "-7.72"
          ],
          [
           "-7.783"
          ],
          [
           "-7.789"
          ],
          [
           "-7.891"
          ],
          [
           "-7.896"
          ],
          [
           "-8.075"
          ],
          [
           "-8.08"
          ],
          [
           "-8.117"
          ],
          [
           "-8.121"
          ],
          [
           "-8.562"
          ],
          [
           "-8.562"
          ],
          [
           "-9.118"
          ],
          [
           "-9.12"
          ],
          [
           "-9.237"
          ],
          [
           "-9.238"
          ],
          [
           "-9.503"
          ],
          [
           "-9.509"
          ],
          [
           "-9.758"
          ],
          [
           "-9.767"
          ],
          [
           "-10.18"
          ],
          [
           "-10.18"
          ],
          [
           "-10.28"
          ],
          [
           "-10.28"
          ],
          [
           "-10.3"
          ],
          [
           "-10.3"
          ],
          [
           "-10.42"
          ],
          [
           "-10.42"
          ],
          [
           "-10.48"
          ],
          [
           "-10.48"
          ],
          [
           "-10.62"
          ],
          [
           "-10.62"
          ],
          [
           "-10.69"
          ],
          [
           "-10.69"
          ],
          [
           "-10.72"
          ],
          [
           "-10.72"
          ],
          [
           "-11.06"
          ],
          [
           "-11.07"
          ],
          [
           "-11.81"
          ],
          [
           "-11.81"
          ],
          [
           "-12.29"
          ],
          [
           "-12.3"
          ],
          [
           "-12.62"
          ],
          [
           "-12.62"
          ],
          [
           "-12.66"
          ],
          [
           "-12.66"
          ],
          [
           "-13.19"
          ],
          [
           "-13.19"
          ],
          [
           "-14.35"
          ],
          [
           "-14.36"
          ],
          [
           "-14.46"
          ],
          [
           "-14.46"
          ],
          [
           "-38.92"
          ]
         ],
         "fillpattern": {
          "shape": ""
         },
         "hovertemplate": "False Positive Rate=%{x}<br>True Positive Rate=%{y}<br>Threshold=%{customdata[0]}<extra></extra>",
         "legendgroup": "",
         "line": {
          "color": "#636efa"
         },
         "marker": {
          "symbol": "circle"
         },
         "mode": "lines",
         "name": "",
         "orientation": "v",
         "showlegend": false,
         "stackgroup": "1",
         "type": "scatter",
         "x": [
          0,
          0,
          0,
          0.00015039855617386073,
          0.00015039855617386073,
          0.0004511956685215822,
          0.0004511956685215822,
          0.0006015942246954429,
          0.0006015942246954429,
          0.001052789893217025,
          0.001052789893217025,
          0.0012031884493908858,
          0.0012031884493908858,
          0.0013535870055647466,
          0.0013535870055647466,
          0.0015039855617386072,
          0.0015039855617386072,
          0.001654384117912468,
          0.001654384117912468,
          0.0018047826740863289,
          0.0018047826740863289,
          0.0019551812302601897,
          0.0019551812302601897,
          0.00210557978643405,
          0.00210557978643405,
          0.002255978342607911,
          0.002255978342607911,
          0.0027071740111294933,
          0.0027071740111294933,
          0.002857572567303354,
          0.002857572567303354,
          0.0030079711234772145,
          0.0030079711234772145,
          0.0031583696796510753,
          0.0031583696796510753,
          0.003308768235824936,
          0.003308768235824936,
          0.003459166791998797,
          0.003459166791998797,
          0.003759963904346518,
          0.003759963904346518,
          0.004361558129041961,
          0.004361558129041961,
          0.004812753797563543,
          0.004812753797563543,
          0.004963152353737404,
          0.004963152353737404,
          0.005113550909911265,
          0.005113550909911265,
          0.005263949466085126,
          0.005263949466085126,
          0.005414348022258987,
          0.005414348022258987,
          0.005564746578432847,
          0.005564746578432847,
          0.005715145134606708,
          0.005715145134606708,
          0.005865543690780568,
          0.005865543690780568,
          0.006015942246954429,
          0.006015942246954429,
          0.006316739359302151,
          0.006316739359302151,
          0.006617536471649872,
          0.006617536471649872,
          0.006767935027823733,
          0.006767935027823733,
          0.007068732140171455,
          0.007068732140171455,
          0.007219130696345315,
          0.007219130696345315,
          0.007369529252519176,
          0.007369529252519176,
          0.007519927808693036,
          0.007519927808693036,
          0.007820724921040759,
          0.007820724921040759,
          0.007971123477214619,
          0.007971123477214619,
          0.00827192058956234,
          0.00827192058956234,
          0.009174311926605505,
          0.009174311926605505,
          0.009324710482779365,
          0.009324710482779365,
          0.009625507595127087,
          0.009625507595127087,
          0.009775906151300948,
          0.009775906151300948,
          0.009926304707474808,
          0.009926304707474808,
          0.010076703263648668,
          0.010076703263648668,
          0.010979094600691833,
          0.010979094600691833,
          0.011279891713039555,
          0.011279891713039555,
          0.011580688825387276,
          0.011580688825387276,
          0.011881485937734998,
          0.011881485937734998,
          0.01218228305008272,
          0.01218228305008272,
          0.01233268160625658,
          0.01233268160625658,
          0.012633478718604301,
          0.012633478718604301,
          0.012783877274778163,
          0.012783877274778163,
          0.012934275830952023,
          0.012934275830952023,
          0.013084674387125884,
          0.013084674387125884,
          0.013385471499473604,
          0.013385471499473604,
          0.013686268611821326,
          0.013686268611821326,
          0.01413746428034291,
          0.01413746428034291,
          0.01428786283651677,
          0.01428786283651677,
          0.01443826139269063,
          0.01443826139269063,
          0.014739058505038352,
          0.014739058505038352,
          0.014889457061212212,
          0.014889457061212212,
          0.015340652729733794,
          0.015340652729733794,
          0.016092645510603097,
          0.016092645510603097,
          0.017295833959993984,
          0.017295833959993984,
          0.017747029628515567,
          0.017747029628515567,
          0.017897428184689427,
          0.017897428184689427,
          0.018198225297037147,
          0.018198225297037147,
          0.01834862385321101,
          0.01834862385321101,
          0.01864942096555873,
          0.01864942096555873,
          0.01879981952173259,
          0.01879981952173259,
          0.018950218077906453,
          0.018950218077906453,
          0.019100616634080313,
          0.019100616634080313,
          0.019401413746428033,
          0.019401413746428033,
          0.019702210858775757,
          0.019702210858775757,
          0.02045420363964506,
          0.02045420363964506,
          0.02075500075199278,
          0.02075500075199278,
          0.021055797864340503,
          0.021055797864340503,
          0.021206196420514363,
          0.021206196420514363,
          0.021657392089035946,
          0.021657392089035946,
          0.022108587757557526,
          0.022108587757557526,
          0.023010979094600693,
          0.023010979094600693,
          0.023161377650774553,
          0.023161377650774553,
          0.023612573319296136,
          0.023612573319296136,
          0.02466536321251316,
          0.02466536321251316,
          0.024966160324860882,
          0.024966160324860882,
          0.025266957437208602,
          0.025266957437208602,
          0.025868551661904046,
          0.025868551661904046,
          0.026018950218077905,
          0.026018950218077905,
          0.02616934877425177,
          0.02616934877425177,
          0.02677094299894721,
          0.02677094299894721,
          0.027222138667468792,
          0.027222138667468792,
          0.027673334335990375,
          0.027673334335990375,
          0.027974131448338095,
          0.027974131448338095,
          0.02827492856068582,
          0.02827492856068582,
          0.0287261242292074,
          0.0287261242292074,
          0.02917731989772898,
          0.02917731989772898,
          0.029929312678598285,
          0.029929312678598285,
          0.030230109790946008,
          0.030230109790946008,
          0.030380508347119868,
          0.030380508347119868,
          0.032034892465032334,
          0.032034892465032334,
          0.032335689577380054,
          0.032335689577380054,
          0.03263648668972778,
          0.03263648668972778,
          0.0329372838020755,
          0.0329372838020755,
          0.03353887802677094,
          0.03353887802677094,
          0.03383967513911867,
          0.03383967513911867,
          0.03459166791998797,
          0.03459166791998797,
          0.03504286358850955,
          0.03504286358850955,
          0.035193262144683414,
          0.035193262144683414,
          0.035343660700857274,
          0.035343660700857274,
          0.035644457813204994,
          0.035644457813204994,
          0.03654684915024816,
          0.03654684915024816,
          0.03775003759963905,
          0.03775003759963905,
          0.03805083471198677,
          0.03805083471198677,
          0.03865242893668221,
          0.03865242893668221,
          0.04000601594224695,
          0.04000601594224695,
          0.0413596029478117,
          0.0413596029478117,
          0.042261994284854866,
          0.042261994284854866,
          0.04436757407128891,
          0.04436757407128891,
          0.04496916829598436,
          0.04496916829598436,
          0.0455707625206798,
          0.0455707625206798,
          0.046322755301549105,
          0.046322755301549105,
          0.046623552413896825,
          0.046623552413896825,
          0.046773950970070685,
          0.046773950970070685,
          0.04752594375093999,
          0.04752594375093999,
          0.049781922093547905,
          0.049781922093547905,
          0.050233117762069485,
          0.050233117762069485,
          0.05188750187998195,
          0.05188750187998195,
          0.05218829899232967,
          0.05218829899232967,
          0.05278989321702512,
          0.05278989321702512,
          0.05309069032937284,
          0.05309069032937284,
          0.053842683110242144,
          0.053842683110242144,
          0.054293878778763724,
          0.054293878778763724,
          0.054444277334937584,
          0.054444277334937584,
          0.05519627011580689,
          0.05519627011580689,
          0.05594826289667619,
          0.05594826289667619,
          0.05654985712137164,
          0.05654985712137164,
          0.05715145134606708,
          0.05715145134606708,
          0.05850503835163182,
          0.05850503835163182,
          0.05910663257632727,
          0.05910663257632727,
          0.05970822680102271,
          0.05970822680102271,
          0.06000902391337043,
          0.06000902391337043,
          0.061513009475109036,
          0.061513009475109036,
          0.0616634080312829,
          0.0616634080312829,
          0.06301699503684764,
          0.06301699503684764,
          0.06752895172206347,
          0.06752895172206347,
          0.07384569108136561,
          0.07384569108136561,
          0.07399608963753948,
          0.07399608963753948,
          0.07519927808693036,
          0.07519927808693036,
          0.0755000751992781,
          0.0755000751992781,
          0.07565047375545195,
          0.07565047375545195,
          0.07580087231162581,
          0.07580087231162581,
          0.07640246653632125,
          0.07640246653632125,
          0.08392239434501429,
          0.08392239434501429,
          0.08587757557527448,
          0.08587757557527448,
          0.0869303654684915,
          0.0869303654684915,
          0.08798315536170853,
          0.08798315536170853,
          0.08858474958640397,
          0.08858474958640397,
          0.08918634381109941,
          0.08918634381109941,
          0.089637539479621,
          0.089637539479621,
          0.09084072792901188,
          0.09084072792901188,
          0.09414949616483682,
          0.09414949616483682,
          0.0946006918333584,
          0.0946006918333584,
          0.0953526846142277,
          0.0953526846142277,
          0.09700706873214017,
          0.09700706873214017,
          0.09836065573770492,
          0.09836065573770492,
          0.10347420664761618,
          0.10347420664761618,
          0.1037750037599639,
          0.1037750037599639,
          0.10573018499022409,
          0.10573018499022409,
          0.10603098210257182,
          0.10603098210257182,
          0.10828696044517973,
          0.10828696044517973,
          0.11084373590013535,
          0.11084373590013535,
          0.11159572868100466,
          0.11159572868100466,
          0.11189652579335238,
          0.11189652579335238,
          0.11595728681004662,
          0.11595728681004662,
          0.12453000451195669,
          0.12453000451195669,
          0.1272371785230862,
          0.1272371785230862,
          0.13099714242743268,
          0.13099714242743268,
          0.13144833809595427,
          0.13144833809595427,
          0.1320499323206497,
          0.1320499323206497,
          0.13926906301699504,
          0.13926906301699504,
          0.14182583847195068,
          0.14182583847195068,
          0.1540081215220334,
          0.1540081215220334,
          0.15415852007820724,
          0.15415852007820724,
          0.15460971574672883,
          0.15460971574672883,
          0.1570160926455106,
          0.1570160926455106,
          0.1577680854263799,
          0.1577680854263799,
          0.1585200782072492,
          0.16228004211159572,
          0.16393442622950818,
          0.16393442622950818,
          0.16438562189802977,
          0.16438562189802977,
          0.1834862385321101,
          0.1834862385321101,
          0.19747330425627915,
          0.19777410136862686,
          0.19912768837419162,
          0.19912768837419162,
          0.20213565949766882,
          0.20213565949766882,
          0.20920439163784027,
          0.20920439163784027,
          0.21837870356444578,
          0.21837870356444578,
          0.22003308768235824,
          0.22003308768235824,
          0.24199127688374192,
          0.24199127688374192,
          0.2732741765679049,
          0.2732741765679049,
          0.28139569860129343,
          0.28139569860129343,
          0.29478117010076704,
          0.29478117010076704,
          0.30921943149345765,
          0.30921943149345765,
          0.3355391788238833,
          0.3355391788238833,
          0.34215671529553315,
          0.34215671529553315,
          0.3436607008572718,
          0.3436607008572718,
          0.3496766431042262,
          0.3496766431042262,
          0.353135809896225,
          0.353135809896225,
          0.359602947811701,
          0.359602947811701,
          0.3641149044969168,
          0.3641149044969168,
          0.36667167995187244,
          0.36667167995187244,
          0.3905850503835163,
          0.3905850503835163,
          0.437359001353587,
          0.437359001353587,
          0.4707474808241841,
          0.4707474808241841,
          0.49691682959843586,
          0.49691682959843586,
          0.4993232064972176,
          0.4993232064972176,
          0.5336140773048579,
          0.5336140773048579,
          0.6128741164084824,
          0.6131749135208302,
          0.6188900586554369,
          0.6188900586554369,
          1
         ],
         "xaxis": "x",
         "y": [
          0,
          0.002,
          0.086,
          0.086,
          0.102,
          0.102,
          0.124,
          0.124,
          0.126,
          0.126,
          0.15,
          0.15,
          0.216,
          0.216,
          0.218,
          0.218,
          0.226,
          0.226,
          0.242,
          0.242,
          0.26,
          0.26,
          0.262,
          0.262,
          0.266,
          0.266,
          0.276,
          0.276,
          0.282,
          0.282,
          0.292,
          0.292,
          0.298,
          0.298,
          0.328,
          0.328,
          0.332,
          0.332,
          0.334,
          0.334,
          0.35,
          0.35,
          0.352,
          0.352,
          0.356,
          0.356,
          0.358,
          0.358,
          0.364,
          0.364,
          0.374,
          0.374,
          0.382,
          0.382,
          0.386,
          0.386,
          0.388,
          0.388,
          0.396,
          0.396,
          0.406,
          0.406,
          0.41,
          0.41,
          0.416,
          0.416,
          0.426,
          0.426,
          0.436,
          0.436,
          0.438,
          0.438,
          0.44,
          0.44,
          0.442,
          0.442,
          0.45,
          0.45,
          0.456,
          0.456,
          0.46,
          0.46,
          0.484,
          0.484,
          0.486,
          0.486,
          0.488,
          0.488,
          0.492,
          0.492,
          0.496,
          0.496,
          0.512,
          0.512,
          0.514,
          0.514,
          0.528,
          0.528,
          0.53,
          0.53,
          0.536,
          0.536,
          0.538,
          0.538,
          0.542,
          0.542,
          0.546,
          0.546,
          0.548,
          0.548,
          0.56,
          0.56,
          0.568,
          0.568,
          0.572,
          0.572,
          0.576,
          0.576,
          0.578,
          0.578,
          0.58,
          0.58,
          0.582,
          0.582,
          0.588,
          0.588,
          0.592,
          0.592,
          0.594,
          0.594,
          0.596,
          0.596,
          0.6,
          0.6,
          0.604,
          0.604,
          0.606,
          0.606,
          0.61,
          0.61,
          0.622,
          0.622,
          0.624,
          0.624,
          0.626,
          0.626,
          0.628,
          0.628,
          0.632,
          0.632,
          0.642,
          0.642,
          0.644,
          0.644,
          0.648,
          0.648,
          0.652,
          0.652,
          0.654,
          0.654,
          0.656,
          0.656,
          0.66,
          0.66,
          0.666,
          0.666,
          0.676,
          0.676,
          0.678,
          0.678,
          0.682,
          0.682,
          0.686,
          0.686,
          0.688,
          0.688,
          0.69,
          0.69,
          0.692,
          0.692,
          0.696,
          0.696,
          0.7,
          0.7,
          0.704,
          0.704,
          0.706,
          0.706,
          0.71,
          0.71,
          0.712,
          0.712,
          0.714,
          0.714,
          0.716,
          0.716,
          0.718,
          0.718,
          0.72,
          0.72,
          0.724,
          0.724,
          0.736,
          0.736,
          0.738,
          0.738,
          0.74,
          0.74,
          0.742,
          0.742,
          0.744,
          0.744,
          0.748,
          0.748,
          0.75,
          0.75,
          0.754,
          0.754,
          0.756,
          0.756,
          0.76,
          0.76,
          0.762,
          0.762,
          0.766,
          0.766,
          0.768,
          0.768,
          0.77,
          0.77,
          0.778,
          0.778,
          0.78,
          0.78,
          0.782,
          0.782,
          0.784,
          0.784,
          0.786,
          0.786,
          0.788,
          0.788,
          0.79,
          0.79,
          0.792,
          0.792,
          0.794,
          0.794,
          0.796,
          0.796,
          0.798,
          0.798,
          0.802,
          0.802,
          0.806,
          0.806,
          0.808,
          0.808,
          0.81,
          0.81,
          0.812,
          0.812,
          0.814,
          0.814,
          0.816,
          0.816,
          0.818,
          0.818,
          0.82,
          0.82,
          0.822,
          0.822,
          0.826,
          0.826,
          0.83,
          0.83,
          0.832,
          0.832,
          0.836,
          0.836,
          0.838,
          0.838,
          0.84,
          0.84,
          0.844,
          0.844,
          0.846,
          0.846,
          0.85,
          0.85,
          0.852,
          0.852,
          0.854,
          0.854,
          0.856,
          0.856,
          0.858,
          0.858,
          0.86,
          0.86,
          0.862,
          0.862,
          0.864,
          0.864,
          0.866,
          0.866,
          0.868,
          0.868,
          0.87,
          0.87,
          0.872,
          0.872,
          0.874,
          0.874,
          0.876,
          0.876,
          0.878,
          0.878,
          0.88,
          0.88,
          0.882,
          0.882,
          0.884,
          0.884,
          0.886,
          0.886,
          0.888,
          0.888,
          0.89,
          0.89,
          0.892,
          0.892,
          0.894,
          0.894,
          0.898,
          0.898,
          0.9,
          0.9,
          0.902,
          0.902,
          0.904,
          0.904,
          0.906,
          0.906,
          0.908,
          0.908,
          0.91,
          0.91,
          0.912,
          0.912,
          0.914,
          0.914,
          0.916,
          0.916,
          0.918,
          0.918,
          0.92,
          0.92,
          0.922,
          0.922,
          0.926,
          0.926,
          0.928,
          0.928,
          0.93,
          0.93,
          0.932,
          0.932,
          0.934,
          0.934,
          0.936,
          0.936,
          0.938,
          0.938,
          0.94,
          0.94,
          0.942,
          0.942,
          0.942,
          0.942,
          0.944,
          0.944,
          0.948,
          0.948,
          0.95,
          0.95,
          0.95,
          0.95,
          0.952,
          0.952,
          0.954,
          0.954,
          0.956,
          0.956,
          0.958,
          0.958,
          0.96,
          0.96,
          0.962,
          0.962,
          0.964,
          0.964,
          0.966,
          0.966,
          0.968,
          0.968,
          0.97,
          0.97,
          0.972,
          0.972,
          0.974,
          0.974,
          0.976,
          0.976,
          0.978,
          0.978,
          0.98,
          0.98,
          0.982,
          0.982,
          0.984,
          0.984,
          0.986,
          0.986,
          0.988,
          0.988,
          0.99,
          0.99,
          0.992,
          0.992,
          0.994,
          0.994,
          0.996,
          0.996,
          0.998,
          0.998,
          0.998,
          0.998,
          1,
          1
         ],
         "yaxis": "y"
        }
       ],
       "layout": {
        "height": 600,
        "legend": {
         "tracegroupgap": 0
        },
        "shapes": [
         {
          "line": {
           "color": "grey",
           "dash": "dash"
          },
          "type": "line",
          "x0": 0,
          "x1": 1,
          "y0": 0,
          "y1": 1
         }
        ],
        "template": {
         "data": {
          "bar": [
           {
            "error_x": {
             "color": "#2a3f5f"
            },
            "error_y": {
             "color": "#2a3f5f"
            },
            "marker": {
             "line": {
              "color": "#E5ECF6",
              "width": 0.5
             },
             "pattern": {
              "fillmode": "overlay",
              "size": 10,
              "solidity": 0.2
             }
            },
            "type": "bar"
           }
          ],
          "barpolar": [
           {
            "marker": {
             "line": {
              "color": "#E5ECF6",
              "width": 0.5
             },
             "pattern": {
              "fillmode": "overlay",
              "size": 10,
              "solidity": 0.2
             }
            },
            "type": "barpolar"
           }
          ],
          "carpet": [
           {
            "aaxis": {
             "endlinecolor": "#2a3f5f",
             "gridcolor": "white",
             "linecolor": "white",
             "minorgridcolor": "white",
             "startlinecolor": "#2a3f5f"
            },
            "baxis": {
             "endlinecolor": "#2a3f5f",
             "gridcolor": "white",
             "linecolor": "white",
             "minorgridcolor": "white",
             "startlinecolor": "#2a3f5f"
            },
            "type": "carpet"
           }
          ],
          "choropleth": [
           {
            "colorbar": {
             "outlinewidth": 0,
             "ticks": ""
            },
            "type": "choropleth"
           }
          ],
          "contour": [
           {
            "colorbar": {
             "outlinewidth": 0,
             "ticks": ""
            },
            "colorscale": [
             [
              0,
              "#0d0887"
             ],
             [
              0.1111111111111111,
              "#46039f"
             ],
             [
              0.2222222222222222,
              "#7201a8"
             ],
             [
              0.3333333333333333,
              "#9c179e"
             ],
             [
              0.4444444444444444,
              "#bd3786"
             ],
             [
              0.5555555555555556,
              "#d8576b"
             ],
             [
              0.6666666666666666,
              "#ed7953"
             ],
             [
              0.7777777777777778,
              "#fb9f3a"
             ],
             [
              0.8888888888888888,
              "#fdca26"
             ],
             [
              1,
              "#f0f921"
             ]
            ],
            "type": "contour"
           }
          ],
          "contourcarpet": [
           {
            "colorbar": {
             "outlinewidth": 0,
             "ticks": ""
            },
            "type": "contourcarpet"
           }
          ],
          "heatmap": [
           {
            "colorbar": {
             "outlinewidth": 0,
             "ticks": ""
            },
            "colorscale": [
             [
              0,
              "#0d0887"
             ],
             [
              0.1111111111111111,
              "#46039f"
             ],
             [
              0.2222222222222222,
              "#7201a8"
             ],
             [
              0.3333333333333333,
              "#9c179e"
             ],
             [
              0.4444444444444444,
              "#bd3786"
             ],
             [
              0.5555555555555556,
              "#d8576b"
             ],
             [
              0.6666666666666666,
              "#ed7953"
             ],
             [
              0.7777777777777778,
              "#fb9f3a"
             ],
             [
              0.8888888888888888,
              "#fdca26"
             ],
             [
              1,
              "#f0f921"
             ]
            ],
            "type": "heatmap"
           }
          ],
          "heatmapgl": [
           {
            "colorbar": {
             "outlinewidth": 0,
             "ticks": ""
            },
            "colorscale": [
             [
              0,
              "#0d0887"
             ],
             [
              0.1111111111111111,
              "#46039f"
             ],
             [
              0.2222222222222222,
              "#7201a8"
             ],
             [
              0.3333333333333333,
              "#9c179e"
             ],
             [
              0.4444444444444444,
              "#bd3786"
             ],
             [
              0.5555555555555556,
              "#d8576b"
             ],
             [
              0.6666666666666666,
              "#ed7953"
             ],
             [
              0.7777777777777778,
              "#fb9f3a"
             ],
             [
              0.8888888888888888,
              "#fdca26"
             ],
             [
              1,
              "#f0f921"
             ]
            ],
            "type": "heatmapgl"
           }
          ],
          "histogram": [
           {
            "marker": {
             "pattern": {
              "fillmode": "overlay",
              "size": 10,
              "solidity": 0.2
             }
            },
            "type": "histogram"
           }
          ],
          "histogram2d": [
           {
            "colorbar": {
             "outlinewidth": 0,
             "ticks": ""
            },
            "colorscale": [
             [
              0,
              "#0d0887"
             ],
             [
              0.1111111111111111,
              "#46039f"
             ],
             [
              0.2222222222222222,
              "#7201a8"
             ],
             [
              0.3333333333333333,
              "#9c179e"
             ],
             [
              0.4444444444444444,
              "#bd3786"
             ],
             [
              0.5555555555555556,
              "#d8576b"
             ],
             [
              0.6666666666666666,
              "#ed7953"
             ],
             [
              0.7777777777777778,
              "#fb9f3a"
             ],
             [
              0.8888888888888888,
              "#fdca26"
             ],
             [
              1,
              "#f0f921"
             ]
            ],
            "type": "histogram2d"
           }
          ],
          "histogram2dcontour": [
           {
            "colorbar": {
             "outlinewidth": 0,
             "ticks": ""
            },
            "colorscale": [
             [
              0,
              "#0d0887"
             ],
             [
              0.1111111111111111,
              "#46039f"
             ],
             [
              0.2222222222222222,
              "#7201a8"
             ],
             [
              0.3333333333333333,
              "#9c179e"
             ],
             [
              0.4444444444444444,
              "#bd3786"
             ],
             [
              0.5555555555555556,
              "#d8576b"
             ],
             [
              0.6666666666666666,
              "#ed7953"
             ],
             [
              0.7777777777777778,
              "#fb9f3a"
             ],
             [
              0.8888888888888888,
              "#fdca26"
             ],
             [
              1,
              "#f0f921"
             ]
            ],
            "type": "histogram2dcontour"
           }
          ],
          "mesh3d": [
           {
            "colorbar": {
             "outlinewidth": 0,
             "ticks": ""
            },
            "type": "mesh3d"
           }
          ],
          "parcoords": [
           {
            "line": {
             "colorbar": {
              "outlinewidth": 0,
              "ticks": ""
             }
            },
            "type": "parcoords"
           }
          ],
          "pie": [
           {
            "automargin": true,
            "type": "pie"
           }
          ],
          "scatter": [
           {
            "fillpattern": {
             "fillmode": "overlay",
             "size": 10,
             "solidity": 0.2
            },
            "type": "scatter"
           }
          ],
          "scatter3d": [
           {
            "line": {
             "colorbar": {
              "outlinewidth": 0,
              "ticks": ""
             }
            },
            "marker": {
             "colorbar": {
              "outlinewidth": 0,
              "ticks": ""
             }
            },
            "type": "scatter3d"
           }
          ],
          "scattercarpet": [
           {
            "marker": {
             "colorbar": {
              "outlinewidth": 0,
              "ticks": ""
             }
            },
            "type": "scattercarpet"
           }
          ],
          "scattergeo": [
           {
            "marker": {
             "colorbar": {
              "outlinewidth": 0,
              "ticks": ""
             }
            },
            "type": "scattergeo"
           }
          ],
          "scattergl": [
           {
            "marker": {
             "colorbar": {
              "outlinewidth": 0,
              "ticks": ""
             }
            },
            "type": "scattergl"
           }
          ],
          "scattermapbox": [
           {
            "marker": {
             "colorbar": {
              "outlinewidth": 0,
              "ticks": ""
             }
            },
            "type": "scattermapbox"
           }
          ],
          "scatterpolar": [
           {
            "marker": {
             "colorbar": {
              "outlinewidth": 0,
              "ticks": ""
             }
            },
            "type": "scatterpolar"
           }
          ],
          "scatterpolargl": [
           {
            "marker": {
             "colorbar": {
              "outlinewidth": 0,
              "ticks": ""
             }
            },
            "type": "scatterpolargl"
           }
          ],
          "scatterternary": [
           {
            "marker": {
             "colorbar": {
              "outlinewidth": 0,
              "ticks": ""
             }
            },
            "type": "scatterternary"
           }
          ],
          "surface": [
           {
            "colorbar": {
             "outlinewidth": 0,
             "ticks": ""
            },
            "colorscale": [
             [
              0,
              "#0d0887"
             ],
             [
              0.1111111111111111,
              "#46039f"
             ],
             [
              0.2222222222222222,
              "#7201a8"
             ],
             [
              0.3333333333333333,
              "#9c179e"
             ],
             [
              0.4444444444444444,
              "#bd3786"
             ],
             [
              0.5555555555555556,
              "#d8576b"
             ],
             [
              0.6666666666666666,
              "#ed7953"
             ],
             [
              0.7777777777777778,
              "#fb9f3a"
             ],
             [
              0.8888888888888888,
              "#fdca26"
             ],
             [
              1,
              "#f0f921"
             ]
            ],
            "type": "surface"
           }
          ],
          "table": [
           {
            "cells": {
             "fill": {
              "color": "#EBF0F8"
             },
             "line": {
              "color": "white"
             }
            },
            "header": {
             "fill": {
              "color": "#C8D4E3"
             },
             "line": {
              "color": "white"
             }
            },
            "type": "table"
           }
          ]
         },
         "layout": {
          "annotationdefaults": {
           "arrowcolor": "#2a3f5f",
           "arrowhead": 0,
           "arrowwidth": 1
          },
          "autotypenumbers": "strict",
          "coloraxis": {
           "colorbar": {
            "outlinewidth": 0,
            "ticks": ""
           }
          },
          "colorscale": {
           "diverging": [
            [
             0,
             "#8e0152"
            ],
            [
             0.1,
             "#c51b7d"
            ],
            [
             0.2,
             "#de77ae"
            ],
            [
             0.3,
             "#f1b6da"
            ],
            [
             0.4,
             "#fde0ef"
            ],
            [
             0.5,
             "#f7f7f7"
            ],
            [
             0.6,
             "#e6f5d0"
            ],
            [
             0.7,
             "#b8e186"
            ],
            [
             0.8,
             "#7fbc41"
            ],
            [
             0.9,
             "#4d9221"
            ],
            [
             1,
             "#276419"
            ]
           ],
           "sequential": [
            [
             0,
             "#0d0887"
            ],
            [
             0.1111111111111111,
             "#46039f"
            ],
            [
             0.2222222222222222,
             "#7201a8"
            ],
            [
             0.3333333333333333,
             "#9c179e"
            ],
            [
             0.4444444444444444,
             "#bd3786"
            ],
            [
             0.5555555555555556,
             "#d8576b"
            ],
            [
             0.6666666666666666,
             "#ed7953"
            ],
            [
             0.7777777777777778,
             "#fb9f3a"
            ],
            [
             0.8888888888888888,
             "#fdca26"
            ],
            [
             1,
             "#f0f921"
            ]
           ],
           "sequentialminus": [
            [
             0,
             "#0d0887"
            ],
            [
             0.1111111111111111,
             "#46039f"
            ],
            [
             0.2222222222222222,
             "#7201a8"
            ],
            [
             0.3333333333333333,
             "#9c179e"
            ],
            [
             0.4444444444444444,
             "#bd3786"
            ],
            [
             0.5555555555555556,
             "#d8576b"
            ],
            [
             0.6666666666666666,
             "#ed7953"
            ],
            [
             0.7777777777777778,
             "#fb9f3a"
            ],
            [
             0.8888888888888888,
             "#fdca26"
            ],
            [
             1,
             "#f0f921"
            ]
           ]
          },
          "colorway": [
           "#636efa",
           "#EF553B",
           "#00cc96",
           "#ab63fa",
           "#FFA15A",
           "#19d3f3",
           "#FF6692",
           "#B6E880",
           "#FF97FF",
           "#FECB52"
          ],
          "font": {
           "color": "#2a3f5f"
          },
          "geo": {
           "bgcolor": "white",
           "lakecolor": "white",
           "landcolor": "#E5ECF6",
           "showlakes": true,
           "showland": true,
           "subunitcolor": "white"
          },
          "hoverlabel": {
           "align": "left"
          },
          "hovermode": "closest",
          "mapbox": {
           "style": "light"
          },
          "paper_bgcolor": "white",
          "plot_bgcolor": "#E5ECF6",
          "polar": {
           "angularaxis": {
            "gridcolor": "white",
            "linecolor": "white",
            "ticks": ""
           },
           "bgcolor": "#E5ECF6",
           "radialaxis": {
            "gridcolor": "white",
            "linecolor": "white",
            "ticks": ""
           }
          },
          "scene": {
           "xaxis": {
            "backgroundcolor": "#E5ECF6",
            "gridcolor": "white",
            "gridwidth": 2,
            "linecolor": "white",
            "showbackground": true,
            "ticks": "",
            "zerolinecolor": "white"
           },
           "yaxis": {
            "backgroundcolor": "#E5ECF6",
            "gridcolor": "white",
            "gridwidth": 2,
            "linecolor": "white",
            "showbackground": true,
            "ticks": "",
            "zerolinecolor": "white"
           },
           "zaxis": {
            "backgroundcolor": "#E5ECF6",
            "gridcolor": "white",
            "gridwidth": 2,
            "linecolor": "white",
            "showbackground": true,
            "ticks": "",
            "zerolinecolor": "white"
           }
          },
          "shapedefaults": {
           "line": {
            "color": "#2a3f5f"
           }
          },
          "ternary": {
           "aaxis": {
            "gridcolor": "white",
            "linecolor": "white",
            "ticks": ""
           },
           "baxis": {
            "gridcolor": "white",
            "linecolor": "white",
            "ticks": ""
           },
           "bgcolor": "#E5ECF6",
           "caxis": {
            "gridcolor": "white",
            "linecolor": "white",
            "ticks": ""
           }
          },
          "title": {
           "x": 0.05
          },
          "xaxis": {
           "automargin": true,
           "gridcolor": "white",
           "linecolor": "white",
           "ticks": "",
           "title": {
            "standoff": 15
           },
           "zerolinecolor": "white",
           "zerolinewidth": 2
          },
          "yaxis": {
           "automargin": true,
           "gridcolor": "white",
           "linecolor": "white",
           "ticks": "",
           "title": {
            "standoff": 15
           },
           "zerolinecolor": "white",
           "zerolinewidth": 2
          }
         }
        },
        "title": {
         "text": "ROC Curve (AUC=0.9604)",
         "x": 0.5,
         "xanchor": "center"
        },
        "width": 600,
        "xaxis": {
         "anchor": "y",
         "constrain": "domain",
         "domain": [
          0,
          1
         ],
         "title": {
          "text": "False Positive Rate"
         }
        },
        "yaxis": {
         "anchor": "x",
         "domain": [
          0,
          1
         ],
         "scaleanchor": "x",
         "scaleratio": 1,
         "title": {
          "text": "True Positive Rate"
         }
        }
       }
      }
     },
     "metadata": {},
     "output_type": "display_data"
    }
   ],
   "source": [
    "# CREATE ROC CURVE TO SELECT THRESHOLD p\n",
    "\n",
    "from eppi_text_classification.predict import predict_scores\n",
    "from eppi_text_classification.plotly_roc import plotly_roc\n",
    "\n",
    "y_test_pred_probs = predict_scores(model, X_test)\n",
    "plotly_roc(y_test, y_test_pred_probs)"
   ]
  },
  {
   "cell_type": "code",
   "execution_count": 23,
   "metadata": {},
   "outputs": [],
   "source": [
    "# GET MODEL THRESHOLD FOR CHOSEN TPR, MAKE PREDICTIONS\n",
    "\n",
    "from eppi_text_classification.predict import (\n",
    "    get_raw_threshold,\n",
    "    raw_threshold_predict,\n",
    ")\n",
    "\n",
    "threshold = get_raw_threshold(model, X_test, y_test, target_tpr=1)\n",
    "\n",
    "y_test_pred = raw_threshold_predict(model, X_test, threshold)\n",
    "y_train_pred = raw_threshold_predict(model, X_train, threshold)"
   ]
  },
  {
   "cell_type": "code",
   "execution_count": 24,
   "metadata": {},
   "outputs": [
    {
     "data": {
      "application/vnd.plotly.v1+json": {
       "config": {
        "plotlyServerURL": "https://plot.ly"
       },
       "data": [
        {
         "colorscale": [
          [
           0,
           "rgb(247,251,255)"
          ],
          [
           0.125,
           "rgb(222,235,247)"
          ],
          [
           0.25,
           "rgb(198,219,239)"
          ],
          [
           0.375,
           "rgb(158,202,225)"
          ],
          [
           0.5,
           "rgb(107,174,214)"
          ],
          [
           0.625,
           "rgb(66,146,198)"
          ],
          [
           0.75,
           "rgb(33,113,181)"
          ],
          [
           0.875,
           "rgb(8,81,156)"
          ],
          [
           1,
           "rgb(8,48,107)"
          ]
         ],
         "hoverinfo": "text",
         "showscale": false,
         "text": [
          [
           "Truth: Excluded<br>Prediction: Included<br>Total: 8189",
           "Truth: Excluded<br>Prediction: Excluded<br>Total: 5128"
          ],
          [
           "Truth: Included<br>Prediction: Included<br>Total: 1000",
           "Truth: Included<br>Prediction: Excluded<br>Total: 0"
          ]
         ],
         "type": "heatmap",
         "x": [
          "0",
          "1"
         ],
         "xaxis": "x",
         "y": [
          "0",
          "1"
         ],
         "yaxis": "y",
         "z": [
          [
           8189,
           5128
          ],
          [
           1000,
           0
          ]
         ]
        },
        {
         "colorscale": [
          [
           0,
           "rgb(247,251,255)"
          ],
          [
           0.125,
           "rgb(222,235,247)"
          ],
          [
           0.25,
           "rgb(198,219,239)"
          ],
          [
           0.375,
           "rgb(158,202,225)"
          ],
          [
           0.5,
           "rgb(107,174,214)"
          ],
          [
           0.625,
           "rgb(66,146,198)"
          ],
          [
           0.75,
           "rgb(33,113,181)"
          ],
          [
           0.875,
           "rgb(8,81,156)"
          ],
          [
           1,
           "rgb(8,48,107)"
          ]
         ],
         "hoverinfo": "text",
         "showscale": false,
         "text": [
          [
           "Truth: Excluded<br>Prediction: Included<br>Total: 4115",
           "Truth: Excluded<br>Prediction: Excluded<br>Total: 2534"
          ],
          [
           "Truth: Included<br>Prediction: Included<br>Total: 500",
           "Truth: Included<br>Prediction: Excluded<br>Total: 0"
          ]
         ],
         "type": "heatmap",
         "x": [
          "0",
          "1"
         ],
         "xaxis": "x2",
         "y": [
          "0",
          "1"
         ],
         "yaxis": "y2",
         "z": [
          [
           4115,
           2534
          ],
          [
           500,
           0
          ]
         ]
        }
       ],
       "layout": {
        "annotations": [
         {
          "font": {
           "size": 18
          },
          "showarrow": false,
          "text": "Training Matrix",
          "x": 0.2125,
          "xanchor": "center",
          "xref": "paper",
          "y": 1.03,
          "yanchor": "bottom",
          "yref": "paper"
         },
         {
          "font": {
           "size": 18
          },
          "showarrow": false,
          "text": "Validation Matrix",
          "x": 0.7875,
          "xanchor": "center",
          "xref": "paper",
          "y": 1.03,
          "yanchor": "bottom",
          "yref": "paper"
         },
         {
          "font": {
           "color": "white"
          },
          "showarrow": false,
          "text": "8189",
          "x": "0",
          "xref": "x",
          "y": "0",
          "yref": "y"
         },
         {
          "font": {
           "color": "white"
          },
          "showarrow": false,
          "text": "5128",
          "x": "1",
          "xref": "x",
          "y": "0",
          "yref": "y"
         },
         {
          "font": {
           "color": "dark blue"
          },
          "showarrow": false,
          "text": "1000",
          "x": "0",
          "xref": "x",
          "y": "1",
          "yref": "y"
         },
         {
          "font": {
           "color": "dark blue"
          },
          "showarrow": false,
          "text": "0",
          "x": "1",
          "xref": "x",
          "y": "1",
          "yref": "y"
         },
         {
          "font": {
           "color": "white"
          },
          "showarrow": false,
          "text": "4115",
          "x": "0",
          "xref": "x2",
          "y": "0",
          "yref": "y2"
         },
         {
          "font": {
           "color": "white"
          },
          "showarrow": false,
          "text": "2534",
          "x": "1",
          "xref": "x2",
          "y": "0",
          "yref": "y2"
         },
         {
          "font": {
           "color": "dark blue"
          },
          "showarrow": false,
          "text": "500",
          "x": "0",
          "xref": "x2",
          "y": "1",
          "yref": "y2"
         },
         {
          "font": {
           "color": "dark blue"
          },
          "showarrow": false,
          "text": "0",
          "x": "1",
          "xref": "x2",
          "y": "1",
          "yref": "y2"
         }
        ],
        "autosize": false,
        "height": 400,
        "shapes": [
         {
          "line": {
           "color": "black",
           "width": 2
          },
          "type": "rect",
          "x0": -0.5,
          "x1": 1.5,
          "xref": "x",
          "y0": -0.5,
          "y1": 1.5,
          "yref": "y"
         },
         {
          "line": {
           "color": "black",
           "width": 1.5
          },
          "type": "line",
          "x0": -0.5,
          "x1": 1.5,
          "xref": "x",
          "y0": 0.5,
          "y1": 0.5,
          "yref": "y"
         },
         {
          "line": {
           "color": "black",
           "width": 1.5
          },
          "type": "line",
          "x0": 0.5,
          "x1": 0.5,
          "xref": "x",
          "y0": -0.5,
          "y1": 1.5,
          "yref": "y"
         },
         {
          "line": {
           "color": "black",
           "width": 2
          },
          "type": "rect",
          "x0": -0.5,
          "x1": 1.5,
          "xref": "x2",
          "y0": -0.5,
          "y1": 1.5,
          "yref": "y2"
         },
         {
          "line": {
           "color": "black",
           "width": 1.5
          },
          "type": "line",
          "x0": -0.5,
          "x1": 1.5,
          "xref": "x2",
          "y0": 0.5,
          "y1": 0.5,
          "yref": "y2"
         },
         {
          "line": {
           "color": "black",
           "width": 1.5
          },
          "type": "line",
          "x0": 0.5,
          "x1": 0.5,
          "xref": "x2",
          "y0": -0.5,
          "y1": 1.5,
          "yref": "y2"
         }
        ],
        "template": {
         "data": {
          "bar": [
           {
            "error_x": {
             "color": "#2a3f5f"
            },
            "error_y": {
             "color": "#2a3f5f"
            },
            "marker": {
             "line": {
              "color": "#E5ECF6",
              "width": 0.5
             },
             "pattern": {
              "fillmode": "overlay",
              "size": 10,
              "solidity": 0.2
             }
            },
            "type": "bar"
           }
          ],
          "barpolar": [
           {
            "marker": {
             "line": {
              "color": "#E5ECF6",
              "width": 0.5
             },
             "pattern": {
              "fillmode": "overlay",
              "size": 10,
              "solidity": 0.2
             }
            },
            "type": "barpolar"
           }
          ],
          "carpet": [
           {
            "aaxis": {
             "endlinecolor": "#2a3f5f",
             "gridcolor": "white",
             "linecolor": "white",
             "minorgridcolor": "white",
             "startlinecolor": "#2a3f5f"
            },
            "baxis": {
             "endlinecolor": "#2a3f5f",
             "gridcolor": "white",
             "linecolor": "white",
             "minorgridcolor": "white",
             "startlinecolor": "#2a3f5f"
            },
            "type": "carpet"
           }
          ],
          "choropleth": [
           {
            "colorbar": {
             "outlinewidth": 0,
             "ticks": ""
            },
            "type": "choropleth"
           }
          ],
          "contour": [
           {
            "colorbar": {
             "outlinewidth": 0,
             "ticks": ""
            },
            "colorscale": [
             [
              0,
              "#0d0887"
             ],
             [
              0.1111111111111111,
              "#46039f"
             ],
             [
              0.2222222222222222,
              "#7201a8"
             ],
             [
              0.3333333333333333,
              "#9c179e"
             ],
             [
              0.4444444444444444,
              "#bd3786"
             ],
             [
              0.5555555555555556,
              "#d8576b"
             ],
             [
              0.6666666666666666,
              "#ed7953"
             ],
             [
              0.7777777777777778,
              "#fb9f3a"
             ],
             [
              0.8888888888888888,
              "#fdca26"
             ],
             [
              1,
              "#f0f921"
             ]
            ],
            "type": "contour"
           }
          ],
          "contourcarpet": [
           {
            "colorbar": {
             "outlinewidth": 0,
             "ticks": ""
            },
            "type": "contourcarpet"
           }
          ],
          "heatmap": [
           {
            "colorbar": {
             "outlinewidth": 0,
             "ticks": ""
            },
            "colorscale": [
             [
              0,
              "#0d0887"
             ],
             [
              0.1111111111111111,
              "#46039f"
             ],
             [
              0.2222222222222222,
              "#7201a8"
             ],
             [
              0.3333333333333333,
              "#9c179e"
             ],
             [
              0.4444444444444444,
              "#bd3786"
             ],
             [
              0.5555555555555556,
              "#d8576b"
             ],
             [
              0.6666666666666666,
              "#ed7953"
             ],
             [
              0.7777777777777778,
              "#fb9f3a"
             ],
             [
              0.8888888888888888,
              "#fdca26"
             ],
             [
              1,
              "#f0f921"
             ]
            ],
            "type": "heatmap"
           }
          ],
          "heatmapgl": [
           {
            "colorbar": {
             "outlinewidth": 0,
             "ticks": ""
            },
            "colorscale": [
             [
              0,
              "#0d0887"
             ],
             [
              0.1111111111111111,
              "#46039f"
             ],
             [
              0.2222222222222222,
              "#7201a8"
             ],
             [
              0.3333333333333333,
              "#9c179e"
             ],
             [
              0.4444444444444444,
              "#bd3786"
             ],
             [
              0.5555555555555556,
              "#d8576b"
             ],
             [
              0.6666666666666666,
              "#ed7953"
             ],
             [
              0.7777777777777778,
              "#fb9f3a"
             ],
             [
              0.8888888888888888,
              "#fdca26"
             ],
             [
              1,
              "#f0f921"
             ]
            ],
            "type": "heatmapgl"
           }
          ],
          "histogram": [
           {
            "marker": {
             "pattern": {
              "fillmode": "overlay",
              "size": 10,
              "solidity": 0.2
             }
            },
            "type": "histogram"
           }
          ],
          "histogram2d": [
           {
            "colorbar": {
             "outlinewidth": 0,
             "ticks": ""
            },
            "colorscale": [
             [
              0,
              "#0d0887"
             ],
             [
              0.1111111111111111,
              "#46039f"
             ],
             [
              0.2222222222222222,
              "#7201a8"
             ],
             [
              0.3333333333333333,
              "#9c179e"
             ],
             [
              0.4444444444444444,
              "#bd3786"
             ],
             [
              0.5555555555555556,
              "#d8576b"
             ],
             [
              0.6666666666666666,
              "#ed7953"
             ],
             [
              0.7777777777777778,
              "#fb9f3a"
             ],
             [
              0.8888888888888888,
              "#fdca26"
             ],
             [
              1,
              "#f0f921"
             ]
            ],
            "type": "histogram2d"
           }
          ],
          "histogram2dcontour": [
           {
            "colorbar": {
             "outlinewidth": 0,
             "ticks": ""
            },
            "colorscale": [
             [
              0,
              "#0d0887"
             ],
             [
              0.1111111111111111,
              "#46039f"
             ],
             [
              0.2222222222222222,
              "#7201a8"
             ],
             [
              0.3333333333333333,
              "#9c179e"
             ],
             [
              0.4444444444444444,
              "#bd3786"
             ],
             [
              0.5555555555555556,
              "#d8576b"
             ],
             [
              0.6666666666666666,
              "#ed7953"
             ],
             [
              0.7777777777777778,
              "#fb9f3a"
             ],
             [
              0.8888888888888888,
              "#fdca26"
             ],
             [
              1,
              "#f0f921"
             ]
            ],
            "type": "histogram2dcontour"
           }
          ],
          "mesh3d": [
           {
            "colorbar": {
             "outlinewidth": 0,
             "ticks": ""
            },
            "type": "mesh3d"
           }
          ],
          "parcoords": [
           {
            "line": {
             "colorbar": {
              "outlinewidth": 0,
              "ticks": ""
             }
            },
            "type": "parcoords"
           }
          ],
          "pie": [
           {
            "automargin": true,
            "type": "pie"
           }
          ],
          "scatter": [
           {
            "fillpattern": {
             "fillmode": "overlay",
             "size": 10,
             "solidity": 0.2
            },
            "type": "scatter"
           }
          ],
          "scatter3d": [
           {
            "line": {
             "colorbar": {
              "outlinewidth": 0,
              "ticks": ""
             }
            },
            "marker": {
             "colorbar": {
              "outlinewidth": 0,
              "ticks": ""
             }
            },
            "type": "scatter3d"
           }
          ],
          "scattercarpet": [
           {
            "marker": {
             "colorbar": {
              "outlinewidth": 0,
              "ticks": ""
             }
            },
            "type": "scattercarpet"
           }
          ],
          "scattergeo": [
           {
            "marker": {
             "colorbar": {
              "outlinewidth": 0,
              "ticks": ""
             }
            },
            "type": "scattergeo"
           }
          ],
          "scattergl": [
           {
            "marker": {
             "colorbar": {
              "outlinewidth": 0,
              "ticks": ""
             }
            },
            "type": "scattergl"
           }
          ],
          "scattermapbox": [
           {
            "marker": {
             "colorbar": {
              "outlinewidth": 0,
              "ticks": ""
             }
            },
            "type": "scattermapbox"
           }
          ],
          "scatterpolar": [
           {
            "marker": {
             "colorbar": {
              "outlinewidth": 0,
              "ticks": ""
             }
            },
            "type": "scatterpolar"
           }
          ],
          "scatterpolargl": [
           {
            "marker": {
             "colorbar": {
              "outlinewidth": 0,
              "ticks": ""
             }
            },
            "type": "scatterpolargl"
           }
          ],
          "scatterternary": [
           {
            "marker": {
             "colorbar": {
              "outlinewidth": 0,
              "ticks": ""
             }
            },
            "type": "scatterternary"
           }
          ],
          "surface": [
           {
            "colorbar": {
             "outlinewidth": 0,
             "ticks": ""
            },
            "colorscale": [
             [
              0,
              "#0d0887"
             ],
             [
              0.1111111111111111,
              "#46039f"
             ],
             [
              0.2222222222222222,
              "#7201a8"
             ],
             [
              0.3333333333333333,
              "#9c179e"
             ],
             [
              0.4444444444444444,
              "#bd3786"
             ],
             [
              0.5555555555555556,
              "#d8576b"
             ],
             [
              0.6666666666666666,
              "#ed7953"
             ],
             [
              0.7777777777777778,
              "#fb9f3a"
             ],
             [
              0.8888888888888888,
              "#fdca26"
             ],
             [
              1,
              "#f0f921"
             ]
            ],
            "type": "surface"
           }
          ],
          "table": [
           {
            "cells": {
             "fill": {
              "color": "#EBF0F8"
             },
             "line": {
              "color": "white"
             }
            },
            "header": {
             "fill": {
              "color": "#C8D4E3"
             },
             "line": {
              "color": "white"
             }
            },
            "type": "table"
           }
          ]
         },
         "layout": {
          "annotationdefaults": {
           "arrowcolor": "#2a3f5f",
           "arrowhead": 0,
           "arrowwidth": 1
          },
          "autotypenumbers": "strict",
          "coloraxis": {
           "colorbar": {
            "outlinewidth": 0,
            "ticks": ""
           }
          },
          "colorscale": {
           "diverging": [
            [
             0,
             "#8e0152"
            ],
            [
             0.1,
             "#c51b7d"
            ],
            [
             0.2,
             "#de77ae"
            ],
            [
             0.3,
             "#f1b6da"
            ],
            [
             0.4,
             "#fde0ef"
            ],
            [
             0.5,
             "#f7f7f7"
            ],
            [
             0.6,
             "#e6f5d0"
            ],
            [
             0.7,
             "#b8e186"
            ],
            [
             0.8,
             "#7fbc41"
            ],
            [
             0.9,
             "#4d9221"
            ],
            [
             1,
             "#276419"
            ]
           ],
           "sequential": [
            [
             0,
             "#0d0887"
            ],
            [
             0.1111111111111111,
             "#46039f"
            ],
            [
             0.2222222222222222,
             "#7201a8"
            ],
            [
             0.3333333333333333,
             "#9c179e"
            ],
            [
             0.4444444444444444,
             "#bd3786"
            ],
            [
             0.5555555555555556,
             "#d8576b"
            ],
            [
             0.6666666666666666,
             "#ed7953"
            ],
            [
             0.7777777777777778,
             "#fb9f3a"
            ],
            [
             0.8888888888888888,
             "#fdca26"
            ],
            [
             1,
             "#f0f921"
            ]
           ],
           "sequentialminus": [
            [
             0,
             "#0d0887"
            ],
            [
             0.1111111111111111,
             "#46039f"
            ],
            [
             0.2222222222222222,
             "#7201a8"
            ],
            [
             0.3333333333333333,
             "#9c179e"
            ],
            [
             0.4444444444444444,
             "#bd3786"
            ],
            [
             0.5555555555555556,
             "#d8576b"
            ],
            [
             0.6666666666666666,
             "#ed7953"
            ],
            [
             0.7777777777777778,
             "#fb9f3a"
            ],
            [
             0.8888888888888888,
             "#fdca26"
            ],
            [
             1,
             "#f0f921"
            ]
           ]
          },
          "colorway": [
           "#636efa",
           "#EF553B",
           "#00cc96",
           "#ab63fa",
           "#FFA15A",
           "#19d3f3",
           "#FF6692",
           "#B6E880",
           "#FF97FF",
           "#FECB52"
          ],
          "font": {
           "color": "#2a3f5f"
          },
          "geo": {
           "bgcolor": "white",
           "lakecolor": "white",
           "landcolor": "#E5ECF6",
           "showlakes": true,
           "showland": true,
           "subunitcolor": "white"
          },
          "hoverlabel": {
           "align": "left"
          },
          "hovermode": "closest",
          "mapbox": {
           "style": "light"
          },
          "paper_bgcolor": "white",
          "plot_bgcolor": "#E5ECF6",
          "polar": {
           "angularaxis": {
            "gridcolor": "white",
            "linecolor": "white",
            "ticks": ""
           },
           "bgcolor": "#E5ECF6",
           "radialaxis": {
            "gridcolor": "white",
            "linecolor": "white",
            "ticks": ""
           }
          },
          "scene": {
           "xaxis": {
            "backgroundcolor": "#E5ECF6",
            "gridcolor": "white",
            "gridwidth": 2,
            "linecolor": "white",
            "showbackground": true,
            "ticks": "",
            "zerolinecolor": "white"
           },
           "yaxis": {
            "backgroundcolor": "#E5ECF6",
            "gridcolor": "white",
            "gridwidth": 2,
            "linecolor": "white",
            "showbackground": true,
            "ticks": "",
            "zerolinecolor": "white"
           },
           "zaxis": {
            "backgroundcolor": "#E5ECF6",
            "gridcolor": "white",
            "gridwidth": 2,
            "linecolor": "white",
            "showbackground": true,
            "ticks": "",
            "zerolinecolor": "white"
           }
          },
          "shapedefaults": {
           "line": {
            "color": "#2a3f5f"
           }
          },
          "ternary": {
           "aaxis": {
            "gridcolor": "white",
            "linecolor": "white",
            "ticks": ""
           },
           "baxis": {
            "gridcolor": "white",
            "linecolor": "white",
            "ticks": ""
           },
           "bgcolor": "#E5ECF6",
           "caxis": {
            "gridcolor": "white",
            "linecolor": "white",
            "ticks": ""
           }
          },
          "title": {
           "x": 0.05
          },
          "xaxis": {
           "automargin": true,
           "gridcolor": "white",
           "linecolor": "white",
           "ticks": "",
           "title": {
            "standoff": 15
           },
           "zerolinecolor": "white",
           "zerolinewidth": 2
          },
          "yaxis": {
           "automargin": true,
           "gridcolor": "white",
           "linecolor": "white",
           "ticks": "",
           "title": {
            "standoff": 15
           },
           "zerolinecolor": "white",
           "zerolinewidth": 2
          }
         }
        },
        "width": 700,
        "xaxis": {
         "anchor": "y",
         "domain": [
          0,
          0.425
         ],
         "mirror": true,
         "tickcolor": "black",
         "ticklen": 5,
         "tickmode": "array",
         "ticks": "outside",
         "ticktext": [
          "1",
          "0"
         ],
         "tickvals": [
          0,
          1
         ],
         "tickwidth": 1,
         "title": {
          "text": "Prediction"
         }
        },
        "xaxis2": {
         "anchor": "y2",
         "domain": [
          0.575,
          1
         ],
         "mirror": true,
         "tickcolor": "black",
         "ticklen": 5,
         "tickmode": "array",
         "ticks": "outside",
         "ticktext": [
          "1",
          "0"
         ],
         "tickvals": [
          0,
          1
         ],
         "tickwidth": 1,
         "title": {
          "text": "Prediction"
         }
        },
        "yaxis": {
         "anchor": "x",
         "domain": [
          0,
          1
         ],
         "mirror": true,
         "tickcolor": "black",
         "ticklen": 5,
         "tickmode": "array",
         "ticks": "outside",
         "ticktext": [
          "0",
          "1"
         ],
         "tickvals": [
          0,
          1
         ],
         "tickwidth": 1,
         "title": {
          "standoff": 0.3,
          "text": "Truth"
         }
        },
        "yaxis2": {
         "anchor": "x2",
         "domain": [
          0,
          1
         ],
         "mirror": true,
         "tickcolor": "black",
         "ticklen": 5,
         "tickmode": "array",
         "ticks": "outside",
         "ticktext": [
          "0",
          "1"
         ],
         "tickvals": [
          0,
          1
         ],
         "tickwidth": 1,
         "title": {
          "standoff": 0.3,
          "text": "Truth"
         }
        }
       }
      }
     },
     "metadata": {},
     "output_type": "display_data"
    }
   ],
   "source": [
    "from eppi_text_classification import binary_train_valid_confusion_plotly\n",
    "\n",
    "binary_train_valid_confusion_plotly(\n",
    "    y_train,\n",
    "    y_train_pred,\n",
    "    y_test,\n",
    "    y_test_pred,\n",
    "    postive_label=\"Included\",\n",
    "    negative_label=\"Excluded\",\n",
    ")"
   ]
  },
  {
   "cell_type": "code",
   "execution_count": 25,
   "metadata": {},
   "outputs": [
    {
     "data": {
      "image/png": "[encoded data removed]",
      "text/plain": [
       "<Figure size 2000x400 with 2 Axes>"
      ]
     },
     "metadata": {},
     "output_type": "display_data"
    },
    {
     "data": {
      "image/png": "[encoded data removed]",
      "text/plain": [
       "<Figure size 2000x400 with 2 Axes>"
      ]
     },
     "metadata": {},
     "output_type": "display_data"
    }
   ],
   "source": [
    "from eppi_text_classification import ShapPlotter\n",
    "\n",
    "shap_plotter = ShapPlotter(\n",
    "    model,\n",
    "    X_test[:10],\n",
    "    feature_names,\n",
    ")\n",
    "dot_plot = shap_plotter.dot_plot(num_display=10)\n",
    "dot_plot.show()\n",
    "dot_plot = shap_plotter.dot_plot(num_display=10, log_scale=False)\n",
    "dot_plot.show()\n",
    "bar_plot = shap_plotter.bar_chart()"
   ]
  },
  {
   "cell_type": "code",
   "execution_count": 25,
   "metadata": {},
   "outputs": [
    {
     "name": "stdout",
     "output_type": "stream",
     "text": [
      "Truth: 0\n",
      "Prediction: [0]\n",
      "Shap value: -20.17600657675702\n",
      "Prediction score: [-20.17600658]\n"
     ]
    },
    {
     "data": {
      "image/png": "[encoded data removed]",
      "text/plain": [
       "<Figure size 800x510 with 1 Axes>"
      ]
     },
     "metadata": {},
     "output_type": "display_data"
    },
    {
     "name": "stdout",
     "output_type": "stream",
     "text": [
      "Truth: 0\n",
      "Prediction: [1]\n",
      "Shap value: -4.616688695926907\n",
      "Prediction score: [-4.6166887]\n"
     ]
    },
    {
     "data": {
      "image/png": "[encoded data removed]",
      "text/plain": [
       "<Figure size 800x510 with 1 Axes>"
      ]
     },
     "metadata": {},
     "output_type": "display_data"
    },
    {
     "name": "stdout",
     "output_type": "stream",
     "text": [
      "Truth: 0\n",
      "Prediction: [0]\n",
      "Shap value: -26.435449852322588\n",
      "Prediction score: [-26.43544985]\n"
     ]
    },
    {
     "data": {
      "image/png": "[encoded data removed]",
      "text/plain": [
       "<Figure size 800x510 with 1 Axes>"
      ]
     },
     "metadata": {},
     "output_type": "display_data"
    },
    {
     "name": "stdout",
     "output_type": "stream",
     "text": [
      "Truth: 0\n",
      "Prediction: [0]\n",
      "Shap value: -25.180047085786168\n",
      "Prediction score: [-25.18004709]\n"
     ]
    },
    {
     "data": {
      "image/png": "[encoded data removed]",
      "text/plain": [
       "<Figure size 800x510 with 1 Axes>"
      ]
     },
     "metadata": {},
     "output_type": "display_data"
    },
    {
     "name": "stdout",
     "output_type": "stream",
     "text": [
      "Truth: 0\n",
      "Prediction: [1]\n",
      "Shap value: -14.584450806452827\n",
      "Prediction score: [-14.58445081]\n"
     ]
    },
    {
     "data": {
      "image/png": "[encoded data removed]",
      "text/plain": [
       "<Figure size 800x510 with 1 Axes>"
      ]
     },
     "metadata": {},
     "output_type": "display_data"
    }
   ],
   "source": [
    "import numpy as np\n",
    "\n",
    "shap_plotter = ShapPlotter(model, X_test[0:10], feature_names)\n",
    "\n",
    "for i in range(5):\n",
    "    print(f\"Truth: {y_test[i]}\")\n",
    "    print(f\"Prediction: {raw_threshold_predict(model, X_test[i], threshold)}\")\n",
    "    print(\n",
    "        f\"Shap value: {shap_plotter.shap_values[i].sum() + shap_plotter.expected_value}\"\n",
    "    )\n",
    "    print(f\"Prediction score: {predict_scores(model, X_test[i])}\")\n",
    "    decision_plot = shap_plotter.single_decision_plot(\n",
    "        threshold=threshold, index=i, num_display=10, log_scale=False\n",
    "    )\n",
    "    decision_plot.show()"
   ]
  }
 ],
 "metadata": {
  "kernelspec": {
   "display_name": "base",
   "language": "python",
   "name": "python3"
  },
  "language_info": {
   "codemirror_mode": {
    "name": "ipython",
    "version": 3
   },
   "file_extension": ".py",
   "mimetype": "text/x-python",
   "name": "python",
   "nbconvert_exporter": "python",
   "pygments_lexer": "ipython3",
   "version": "3.11.8"
  }
 },
 "nbformat": 4,
 "nbformat_minor": 2
}
