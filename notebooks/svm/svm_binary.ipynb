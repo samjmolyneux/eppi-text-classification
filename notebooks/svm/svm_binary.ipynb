{
 "cells": [
  {
   "cell_type": "code",
   "execution_count": 1,
   "metadata": {},
   "outputs": [],
   "source": [
    "# RELOADS FOR EASY EDITING.\n",
    "\n",
    "%load_ext autoreload\n",
    "%autoreload 2"
   ]
  },
  {
   "cell_type": "code",
   "execution_count": 2,
   "metadata": {},
   "outputs": [],
   "source": [
    "# GET THE DATAFRAME.\n",
    "\n",
    "import pandas as pd\n",
    "\n",
    "df_path = \"../../data/raw/debunking_review.tsv\"\n",
    "df = pd.read_csv(df_path, sep=\"\\t\")"
   ]
  },
  {
   "cell_type": "code",
   "execution_count": 3,
   "metadata": {},
   "outputs": [],
   "source": [
    "# PERFORM DATA PROCESSING (LEMATIZATION ETC), GET TFIDF SCORES AND FEATURE NAMES.\n",
    "\n",
    "from eppi_text_classification import (\n",
    "    get_features_and_labels,\n",
    "    get_tfidf_and_names,\n",
    ")\n",
    "\n",
    "word_features, labels = get_features_and_labels(df)\n",
    "\n",
    "tfidf_scores, feature_names = get_tfidf_and_names(word_features)"
   ]
  },
  {
   "cell_type": "code",
   "execution_count": 4,
   "metadata": {},
   "outputs": [
    {
     "name": "stderr",
     "output_type": "stream",
     "text": [
      "[I 2024-06-22 13:23:20,437] A new study created in RDB with name: svc_binary\n",
      "[I 2024-06-22 13:23:22,476] Trial 0 finished with value: 0.949653909528477 and parameters: {'C': 811.2091434144492}. Best is trial 0 with value: 0.949653909528477.\n",
      "[I 2024-06-22 13:23:22,568] Trial 6 finished with value: 0.949653909528477 and parameters: {'C': 76.05702111662264}. Best is trial 0 with value: 0.949653909528477.\n",
      "[I 2024-06-22 13:23:22,587] Trial 7 finished with value: 0.949653909528477 and parameters: {'C': 139.1509428286575}. Best is trial 0 with value: 0.949653909528477.\n",
      "[I 2024-06-22 13:23:22,588] Trial 2 finished with value: 0.949653909528477 and parameters: {'C': 107.68540619073511}. Best is trial 0 with value: 0.949653909528477.\n",
      "[I 2024-06-22 13:23:22,612] Trial 10 finished with value: 0.949653909528477 and parameters: {'C': 3.4801004213494657}. Best is trial 0 with value: 0.949653909528477.\n",
      "[I 2024-06-22 13:23:22,626] Trial 9 finished with value: 0.949653909528477 and parameters: {'C': 29.43288486963116}. Best is trial 0 with value: 0.949653909528477.\n",
      "[I 2024-06-22 13:23:22,639] Trial 5 finished with value: 0.949653909528477 and parameters: {'C': 213.47175816932693}. Best is trial 0 with value: 0.949653909528477.\n",
      "[I 2024-06-22 13:23:23,183] Trial 3 finished with value: 0.9439019721485199 and parameters: {'C': 0.1681581675982716}. Best is trial 0 with value: 0.949653909528477.\n",
      "[I 2024-06-22 13:23:23,317] Trial 1 finished with value: 0.9382113302387244 and parameters: {'C': 0.060684352078213835}. Best is trial 0 with value: 0.949653909528477.\n",
      "[I 2024-06-22 13:23:23,467] Trial 11 finished with value: 0.9376017430954714 and parameters: {'C': 0.005883760815200372}. Best is trial 0 with value: 0.949653909528477.\n",
      "[I 2024-06-22 13:23:23,470] Trial 4 finished with value: 0.9376017430954714 and parameters: {'C': 0.029532390357830167}. Best is trial 0 with value: 0.949653909528477.\n",
      "[I 2024-06-22 13:23:23,492] Trial 8 finished with value: 0.9386546663429084 and parameters: {'C': 0.03996472169366169}. Best is trial 0 with value: 0.949653909528477.\n",
      "[I 2024-06-22 13:23:23,926] Trial 12 finished with value: 0.9509399328024407 and parameters: {'C': 1.0234720096213037}. Best is trial 12 with value: 0.9509399328024407.\n",
      "[I 2024-06-22 13:23:24,066] Trial 13 finished with value: 0.949653909528477 and parameters: {'C': 153.92211869092395}. Best is trial 12 with value: 0.9509399328024407.\n",
      "[I 2024-06-22 13:23:24,096] Trial 16 finished with value: 0.949653909528477 and parameters: {'C': 525.9038667920729}. Best is trial 12 with value: 0.9509399328024407.\n",
      "[I 2024-06-22 13:23:24,129] Trial 17 finished with value: 0.9508252881182497 and parameters: {'C': 0.7639520095275961}. Best is trial 12 with value: 0.9509399328024407.\n",
      "[I 2024-06-22 13:23:24,448] Trial 19 finished with value: 0.949653909528477 and parameters: {'C': 552.8279062699178}. Best is trial 12 with value: 0.9509399328024407.\n",
      "[I 2024-06-22 13:23:24,528] Trial 14 finished with value: 0.9417656403884861 and parameters: {'C': 0.13297531879066374}. Best is trial 12 with value: 0.9509399328024407.\n",
      "[I 2024-06-22 13:23:24,699] Trial 22 finished with value: 0.949653909528477 and parameters: {'C': 9639.130697029937}. Best is trial 12 with value: 0.9509399328024407.\n",
      "[I 2024-06-22 13:23:24,712] Trial 18 finished with value: 0.9376017430954714 and parameters: {'C': 0.0057129708434933354}. Best is trial 12 with value: 0.9509399328024407.\n",
      "[I 2024-06-22 13:23:24,748] Trial 23 finished with value: 0.949653909528477 and parameters: {'C': 8384.701143820022}. Best is trial 12 with value: 0.9509399328024407.\n",
      "[I 2024-06-22 13:23:24,748] Trial 21 finished with value: 0.949653909528477 and parameters: {'C': 5652.890645111689}. Best is trial 12 with value: 0.9509399328024407.\n",
      "[I 2024-06-22 13:23:24,842] Trial 15 finished with value: 0.9376017430954714 and parameters: {'C': 0.017144384256689512}. Best is trial 12 with value: 0.9509399328024407.\n",
      "[I 2024-06-22 13:23:25,138] Trial 20 finished with value: 0.943554227437802 and parameters: {'C': 0.1585965314202045}. Best is trial 12 with value: 0.9509399328024407.\n",
      "[I 2024-06-22 13:23:25,286] Trial 24 finished with value: 0.949653909528477 and parameters: {'C': 9176.593151142193}. Best is trial 12 with value: 0.9509399328024407.\n",
      "[I 2024-06-22 13:23:25,316] Trial 25 finished with value: 0.949653909528477 and parameters: {'C': 3451.659109836404}. Best is trial 12 with value: 0.9509399328024407.\n",
      "[I 2024-06-22 13:23:25,365] Trial 26 finished with value: 0.9507182647503488 and parameters: {'C': 0.8802119931244891}. Best is trial 12 with value: 0.9509399328024407.\n",
      "[I 2024-06-22 13:23:25,459] Trial 27 finished with value: 0.9507698711052267 and parameters: {'C': 1.0674179951384697}. Best is trial 12 with value: 0.9509399328024407.\n",
      "[I 2024-06-22 13:23:25,667] Trial 28 finished with value: 0.9502634966717299 and parameters: {'C': 1.9476573745121863}. Best is trial 12 with value: 0.9509399328024407.\n",
      "[I 2024-06-22 13:23:25,745] Trial 29 finished with value: 0.9505482030531347 and parameters: {'C': 1.15315398479373}. Best is trial 12 with value: 0.9509399328024407.\n",
      "[I 2024-06-22 13:23:25,959] Trial 32 finished with value: 0.9503189136847529 and parameters: {'C': 1.4557568256300546}. Best is trial 12 with value: 0.9509399328024407.\n",
      "[I 2024-06-22 13:23:26,012] Trial 30 finished with value: 0.9504889753819667 and parameters: {'C': 1.17151123137551}. Best is trial 12 with value: 0.9509399328024407.\n",
      "[I 2024-06-22 13:23:26,032] Trial 31 finished with value: 0.9506590370791809 and parameters: {'C': 0.8276720575947679}. Best is trial 12 with value: 0.9509399328024407.\n",
      "[I 2024-06-22 13:23:26,067] Trial 33 finished with value: 0.9503189136847529 and parameters: {'C': 1.4211237715972684}. Best is trial 12 with value: 0.9509399328024407.\n",
      "[I 2024-06-22 13:23:26,124] Trial 34 finished with value: 0.950603620066158 and parameters: {'C': 1.1395103387136634}. Best is trial 12 with value: 0.9509399328024407.\n",
      "[I 2024-06-22 13:23:26,420] Trial 35 finished with value: 0.9503743306977759 and parameters: {'C': 1.3312003225803006}. Best is trial 12 with value: 0.9509399328024407.\n",
      "[I 2024-06-22 13:23:26,591] Trial 37 finished with value: 0.9505482030531347 and parameters: {'C': 1.1402506892989024}. Best is trial 12 with value: 0.9509399328024407.\n",
      "[I 2024-06-22 13:23:26,630] Trial 38 finished with value: 0.9503189136847529 and parameters: {'C': 1.3557231019481848}. Best is trial 12 with value: 0.9509399328024407.\n",
      "[I 2024-06-22 13:23:26,657] Trial 36 finished with value: 0.9509399328024407 and parameters: {'C': 1.0249159569992738}. Best is trial 12 with value: 0.9509399328024407.\n",
      "[I 2024-06-22 13:23:26,757] Trial 39 finished with value: 0.949653909528477 and parameters: {'C': 3.7899814670831247}. Best is trial 12 with value: 0.9509399328024407.\n",
      "[I 2024-06-22 13:23:26,940] Trial 40 finished with value: 0.949653909528477 and parameters: {'C': 17.16150750629531}. Best is trial 12 with value: 0.9509399328024407.\n",
      "[I 2024-06-22 13:23:26,983] Trial 41 finished with value: 0.949653909528477 and parameters: {'C': 8.70728585170246}. Best is trial 12 with value: 0.9509399328024407.\n",
      "[I 2024-06-22 13:23:27,198] Trial 44 finished with value: 0.949653909528477 and parameters: {'C': 6.0162809267362665}. Best is trial 12 with value: 0.9509399328024407.\n",
      "[I 2024-06-22 13:23:27,222] Trial 43 finished with value: 0.949653909528477 and parameters: {'C': 4.875202622937918}. Best is trial 12 with value: 0.9509399328024407.\n",
      "[I 2024-06-22 13:23:27,246] Trial 42 finished with value: 0.949653909528477 and parameters: {'C': 8.982413581466359}. Best is trial 12 with value: 0.9509399328024407.\n",
      "[I 2024-06-22 13:23:27,298] Trial 45 finished with value: 0.949653909528477 and parameters: {'C': 8.608039919369617}. Best is trial 12 with value: 0.9509399328024407.\n",
      "[I 2024-06-22 13:23:27,339] Trial 46 finished with value: 0.949653909528477 and parameters: {'C': 6.827498333622392}. Best is trial 12 with value: 0.9509399328024407.\n",
      "[I 2024-06-22 13:23:27,595] Trial 47 finished with value: 0.949653909528477 and parameters: {'C': 8.131027086224096}. Best is trial 12 with value: 0.9509399328024407.\n",
      "[I 2024-06-22 13:23:27,772] Trial 48 finished with value: 0.949653909528477 and parameters: {'C': 9.172759537894466}. Best is trial 12 with value: 0.9509399328024407.\n",
      "[I 2024-06-22 13:23:27,833] Trial 50 finished with value: 0.949653909528477 and parameters: {'C': 7.584518102751374}. Best is trial 12 with value: 0.9509399328024407.\n",
      "[I 2024-06-22 13:23:27,849] Trial 49 finished with value: 0.949653909528477 and parameters: {'C': 8.287177339572043}. Best is trial 12 with value: 0.9509399328024407.\n",
      "[I 2024-06-22 13:23:27,912] Trial 51 finished with value: 0.949653909528477 and parameters: {'C': 9.97297190385004}. Best is trial 12 with value: 0.9509399328024407.\n",
      "[I 2024-06-22 13:23:28,263] Trial 52 finished with value: 0.9489296777010329 and parameters: {'C': 0.46884851287738905}. Best is trial 12 with value: 0.9509399328024407.\n",
      "[I 2024-06-22 13:23:28,358] Trial 53 finished with value: 0.948201635215444 and parameters: {'C': 0.3964119080500067}. Best is trial 12 with value: 0.9509399328024407.\n",
      "[I 2024-06-22 13:23:28,580] Trial 55 finished with value: 0.9479207394921841 and parameters: {'C': 0.3890232353417902}. Best is trial 12 with value: 0.9509399328024407.\n",
      "[I 2024-06-22 13:23:28,599] Trial 58 finished with value: 0.9479761565052071 and parameters: {'C': 0.3906538395841743}. Best is trial 12 with value: 0.9509399328024407.\n",
      "[I 2024-06-22 13:23:28,648] Trial 56 finished with value: 0.946254418443349 and parameters: {'C': 0.3190474297765716}. Best is trial 12 with value: 0.9509399328024407.\n",
      "[I 2024-06-22 13:23:28,748] Trial 57 finished with value: 0.9460403717075471 and parameters: {'C': 0.29883917434227364}. Best is trial 12 with value: 0.9509399328024407.\n",
      "[I 2024-06-22 13:23:28,893] Trial 59 finished with value: 0.9474735927298551 and parameters: {'C': 0.3728198180180141}. Best is trial 12 with value: 0.9509399328024407.\n",
      "[I 2024-06-22 13:23:29,120] Trial 60 finished with value: 0.9478653224791609 and parameters: {'C': 0.38721293366850446}. Best is trial 12 with value: 0.9509399328024407.\n",
      "[I 2024-06-22 13:23:29,126] Trial 54 finished with value: 0.9393120491828945 and parameters: {'C': 0.0915789030568406}. Best is trial 12 with value: 0.9509399328024407.\n",
      "[I 2024-06-22 13:23:29,165] Trial 61 finished with value: 0.9474181757168321 and parameters: {'C': 0.37868835104584303}. Best is trial 12 with value: 0.9509399328024407.\n",
      "[I 2024-06-22 13:23:29,181] Trial 62 finished with value: 0.948371696912658 and parameters: {'C': 0.42004780518307616}. Best is trial 12 with value: 0.9509399328024407.\n",
      "[I 2024-06-22 13:23:29,246] Trial 63 finished with value: 0.948201635215444 and parameters: {'C': 0.39437354089005594}. Best is trial 12 with value: 0.9509399328024407.\n",
      "[I 2024-06-22 13:23:29,399] Trial 64 finished with value: 0.9487634266619639 and parameters: {'C': 0.44253959088333994}. Best is trial 12 with value: 0.9509399328024407.\n",
      "[I 2024-06-22 13:23:29,655] Trial 65 finished with value: 0.9474735927298551 and parameters: {'C': 0.3716091456014079}. Best is trial 12 with value: 0.9509399328024407.\n",
      "[I 2024-06-22 13:23:30,264] Trial 68 finished with value: 0.9421535594796472 and parameters: {'C': 0.13485641197786946}. Best is trial 12 with value: 0.9509399328024407.\n",
      "[I 2024-06-22 13:23:30,297] Trial 73 finished with value: 0.9501526626456839 and parameters: {'C': 2.542435063272975}. Best is trial 12 with value: 0.9509399328024407.\n",
      "[I 2024-06-22 13:23:30,321] Trial 71 finished with value: 0.9499309945935918 and parameters: {'C': 2.6471612107491658}. Best is trial 12 with value: 0.9509399328024407.\n",
      "[I 2024-06-22 13:23:30,355] Trial 74 finished with value: 0.9505367710786997 and parameters: {'C': 0.6947492770133157}. Best is trial 12 with value: 0.9509399328024407.\n",
      "[I 2024-06-22 13:23:30,355] Trial 67 finished with value: 0.9392566321698714 and parameters: {'C': 0.09245855285374571}. Best is trial 12 with value: 0.9509399328024407.\n",
      "[I 2024-06-22 13:23:30,453] Trial 66 finished with value: 0.9386546663429085 and parameters: {'C': 0.0685703704758317}. Best is trial 12 with value: 0.9509399328024407.\n",
      "[I 2024-06-22 13:23:30,536] Trial 69 finished with value: 0.9389203194335884 and parameters: {'C': 0.07273892210590834}. Best is trial 12 with value: 0.9509399328024407.\n",
      "[I 2024-06-22 13:23:30,585] Trial 76 finished with value: 0.9508214774601047 and parameters: {'C': 0.751719660233195}. Best is trial 12 with value: 0.9509399328024407.\n",
      "[I 2024-06-22 13:23:30,647] Trial 70 finished with value: 0.9396369299447423 and parameters: {'C': 0.09596608761907696}. Best is trial 12 with value: 0.9509399328024407.\n",
      "[I 2024-06-22 13:23:30,842] Trial 77 finished with value: 0.9502080796587068 and parameters: {'C': 2.483898675708526}. Best is trial 12 with value: 0.9509399328024407.\n",
      "[I 2024-06-22 13:23:30,965] Trial 75 finished with value: 0.9388209173819774 and parameters: {'C': 0.04383300477427085}. Best is trial 12 with value: 0.9509399328024407.\n",
      "[I 2024-06-22 13:23:31,059] Trial 72 finished with value: 0.9378788281605863 and parameters: {'C': 0.03325303064191768}. Best is trial 12 with value: 0.9509399328024407.\n",
      "[I 2024-06-22 13:23:31,474] Trial 78 finished with value: 0.9508214774601047 and parameters: {'C': 0.75198558996224}. Best is trial 12 with value: 0.9509399328024407.\n",
      "[I 2024-06-22 13:23:31,484] Trial 79 finished with value: 0.9508252881182497 and parameters: {'C': 0.7615281054087198}. Best is trial 12 with value: 0.9509399328024407.\n",
      "[I 2024-06-22 13:23:31,516] Trial 80 finished with value: 0.949653909528477 and parameters: {'C': 39.47930489004912}. Best is trial 12 with value: 0.9509399328024407.\n",
      "[I 2024-06-22 13:23:31,518] Trial 82 finished with value: 0.9506590370791809 and parameters: {'C': 0.8250805661330592}. Best is trial 12 with value: 0.9509399328024407.\n",
      "[I 2024-06-22 13:23:31,564] Trial 81 finished with value: 0.9508252881182497 and parameters: {'C': 0.7664443395600904}. Best is trial 12 with value: 0.9509399328024407.\n",
      "[I 2024-06-22 13:23:31,668] Trial 83 finished with value: 0.9506514157628908 and parameters: {'C': 0.7174648429695967}. Best is trial 12 with value: 0.9509399328024407.\n",
      "[I 2024-06-22 13:23:31,763] Trial 84 finished with value: 0.9506514157628908 and parameters: {'C': 0.7173253273191568}. Best is trial 12 with value: 0.9509399328024407.\n",
      "[I 2024-06-22 13:23:31,811] Trial 86 finished with value: 0.9507698711052267 and parameters: {'C': 0.7923600580390192}. Best is trial 12 with value: 0.9509399328024407.\n",
      "[I 2024-06-22 13:23:32,002] Trial 85 finished with value: 0.9444963166591931 and parameters: {'C': 0.20799220913558572}. Best is trial 12 with value: 0.9509399328024407.\n",
      "[I 2024-06-22 13:23:32,018] Trial 87 finished with value: 0.9506590370791809 and parameters: {'C': 0.8345574302764843}. Best is trial 12 with value: 0.9509399328024407.\n",
      "[I 2024-06-22 13:23:32,129] Trial 88 finished with value: 0.9507144540922038 and parameters: {'C': 0.808603294097254}. Best is trial 12 with value: 0.9509399328024407.\n",
      "[I 2024-06-22 13:23:32,680] Trial 90 finished with value: 0.9505367710786997 and parameters: {'C': 0.6921683151860136}. Best is trial 12 with value: 0.9509399328024407.\n",
      "[I 2024-06-22 13:23:32,685] Trial 93 finished with value: 0.9505959987498679 and parameters: {'C': 0.7153211803935822}. Best is trial 12 with value: 0.9509399328024407.\n",
      "[I 2024-06-22 13:23:32,777] Trial 92 finished with value: 0.9505959987498679 and parameters: {'C': 0.711251144834054}. Best is trial 12 with value: 0.9509399328024407.\n",
      "[I 2024-06-22 13:23:32,932] Trial 89 finished with value: 0.9376017430954714 and parameters: {'C': 0.0010543385437699775}. Best is trial 12 with value: 0.9509399328024407.\n",
      "[I 2024-06-22 13:23:32,969] Trial 96 finished with value: 0.9502080796587068 and parameters: {'C': 1.8561362415300187}. Best is trial 12 with value: 0.9509399328024407.\n",
      "[I 2024-06-22 13:23:32,972] Trial 94 finished with value: 0.9444963166591931 and parameters: {'C': 0.21046612679712437}. Best is trial 12 with value: 0.9509399328024407.\n",
      "[I 2024-06-22 13:23:32,973] Trial 91 finished with value: 0.944116018884322 and parameters: {'C': 0.18661500521383922}. Best is trial 12 with value: 0.9509399328024407.\n",
      "[I 2024-06-22 13:23:33,067] Trial 95 finished with value: 0.9444963166591931 and parameters: {'C': 0.210554431647372}. Best is trial 12 with value: 0.9509399328024407.\n",
      "[I 2024-06-22 13:23:33,224] Trial 97 finished with value: 0.9447141740531401 and parameters: {'C': 0.22324089932969549}. Best is trial 12 with value: 0.9509399328024407.\n",
      "[I 2024-06-22 13:23:33,469] Trial 99 finished with value: 0.9452091165122022 and parameters: {'C': 0.23892253528892363}. Best is trial 12 with value: 0.9509399328024407.\n",
      "[I 2024-06-22 13:23:33,719] Trial 100 finished with value: 0.943949767845253 and parameters: {'C': 0.18382661689845323}. Best is trial 12 with value: 0.9509399328024407.\n",
      "[I 2024-06-22 13:23:33,923] Trial 98 finished with value: 0.9376017430954714 and parameters: {'C': 0.0011299701121489547}. Best is trial 12 with value: 0.9509399328024407.\n",
      "[I 2024-06-22 13:23:33,988] Trial 101 finished with value: 0.9502080796587068 and parameters: {'C': 1.851449876032477}. Best is trial 12 with value: 0.9509399328024407.\n",
      "[I 2024-06-22 13:23:34,196] Trial 107 finished with value: 0.949653909528477 and parameters: {'C': 3.804726244122542}. Best is trial 12 with value: 0.9509399328024407.\n",
      "[I 2024-06-22 13:23:34,227] Trial 106 finished with value: 0.949653909528477 and parameters: {'C': 4.301158970476613}. Best is trial 12 with value: 0.9509399328024407.\n",
      "[I 2024-06-22 13:23:34,232] Trial 103 finished with value: 0.9447141740531401 and parameters: {'C': 0.22391733373222494}. Best is trial 12 with value: 0.9509399328024407.\n",
      "[I 2024-06-22 13:23:34,244] Trial 102 finished with value: 0.9444963166591931 and parameters: {'C': 0.20639719410014284}. Best is trial 12 with value: 0.9509399328024407.\n",
      "[I 2024-06-22 13:23:34,254] Trial 105 finished with value: 0.949653909528477 and parameters: {'C': 3.975068931616485}. Best is trial 12 with value: 0.9509399328024407.\n",
      "[I 2024-06-22 13:23:34,307] Trial 108 finished with value: 0.9502634966717299 and parameters: {'C': 1.9351714672478963}. Best is trial 12 with value: 0.9509399328024407.\n",
      "[I 2024-06-22 13:23:34,426] Trial 104 finished with value: 0.944496316659193 and parameters: {'C': 0.205275090163018}. Best is trial 12 with value: 0.9509399328024407.\n",
      "[I 2024-06-22 13:23:34,436] Trial 109 finished with value: 0.9503189136847529 and parameters: {'C': 1.8178766145214185}. Best is trial 12 with value: 0.9509399328024407.\n",
      "[I 2024-06-22 13:23:34,604] Trial 110 finished with value: 0.949653909528477 and parameters: {'C': 3.935768412111843}. Best is trial 12 with value: 0.9509399328024407.\n",
      "[I 2024-06-22 13:23:34,780] Trial 111 finished with value: 0.949653909528477 and parameters: {'C': 3.8189338466490357}. Best is trial 12 with value: 0.9509399328024407.\n",
      "[I 2024-06-22 13:23:34,987] Trial 112 finished with value: 0.949653909528477 and parameters: {'C': 4.5298637781066775}. Best is trial 12 with value: 0.9509399328024407.\n",
      "[I 2024-06-22 13:23:35,176] Trial 113 finished with value: 0.9509399328024407 and parameters: {'C': 1.0239867086182493}. Best is trial 12 with value: 0.9509399328024407.\n",
      "[I 2024-06-22 13:23:35,225] Trial 115 finished with value: 0.9507144540922038 and parameters: {'C': 1.0825095256379593}. Best is trial 12 with value: 0.9509399328024407.\n",
      "[I 2024-06-22 13:23:35,234] Trial 114 finished with value: 0.9505482030531347 and parameters: {'C': 1.1675754341381868}. Best is trial 12 with value: 0.9509399328024407.\n",
      "[I 2024-06-22 13:23:35,284] Trial 116 finished with value: 0.9507698711052267 and parameters: {'C': 1.0747280673598636}. Best is trial 12 with value: 0.9509399328024407.\n",
      "[I 2024-06-22 13:23:35,371] Trial 117 finished with value: 0.9509399328024407 and parameters: {'C': 1.0196199882983514}. Best is trial 12 with value: 0.9509399328024407.\n",
      "[I 2024-06-22 13:23:35,386] Trial 118 finished with value: 0.9508290987763948 and parameters: {'C': 0.9810338098690018}. Best is trial 12 with value: 0.9509399328024407.\n",
      "[I 2024-06-22 13:23:36,288] Trial 119 finished with value: 0.9501010562908058 and parameters: {'C': 0.5252597449785571}. Best is trial 12 with value: 0.9509399328024407.\n"
     ]
    }
   ],
   "source": [
    "# PERFORM AN OPTUNA HYPERPARAMETER SEARCH, CAN CHANGE THE SEARCH SPACE IN OPT.PY\n",
    "\n",
    "from eppi_text_classification import OptunaHyperparameterOptimisation\n",
    "from eppi_text_classification.utils import delete_optuna_study\n",
    "\n",
    "optimiser = OptunaHyperparameterOptimisation(\n",
    "    tfidf_scores,\n",
    "    labels,\n",
    "    \"SVC\",\n",
    "    n_trials_per_job=10,\n",
    "    n_jobs=-1,\n",
    "    nfolds=3,\n",
    "    num_cv_repeats=1,\n",
    ")\n",
    "\n",
    "# delete_optuna_study(\"svc_binary\")\n",
    "best_params = optimiser.optimise_hyperparameters(study_name=\"svc_binary\")"
   ]
  },
  {
   "cell_type": "code",
   "execution_count": 4,
   "metadata": {},
   "outputs": [
    {
     "data": {
      "text/html": [
       "<style>#sk-container-id-1 {\n",
       "  /* Definition of color scheme common for light and dark mode */\n",
       "  --sklearn-color-text: black;\n",
       "  --sklearn-color-line: gray;\n",
       "  /* Definition of color scheme for unfitted estimators */\n",
       "  --sklearn-color-unfitted-level-0: #fff5e6;\n",
       "  --sklearn-color-unfitted-level-1: #f6e4d2;\n",
       "  --sklearn-color-unfitted-level-2: #ffe0b3;\n",
       "  --sklearn-color-unfitted-level-3: chocolate;\n",
       "  /* Definition of color scheme for fitted estimators */\n",
       "  --sklearn-color-fitted-level-0: #f0f8ff;\n",
       "  --sklearn-color-fitted-level-1: #d4ebff;\n",
       "  --sklearn-color-fitted-level-2: #b3dbfd;\n",
       "  --sklearn-color-fitted-level-3: cornflowerblue;\n",
       "\n",
       "  /* Specific color for light theme */\n",
       "  --sklearn-color-text-on-default-background: var(--sg-text-color, var(--theme-code-foreground, var(--jp-content-font-color1, black)));\n",
       "  --sklearn-color-background: var(--sg-background-color, var(--theme-background, var(--jp-layout-color0, white)));\n",
       "  --sklearn-color-border-box: var(--sg-text-color, var(--theme-code-foreground, var(--jp-content-font-color1, black)));\n",
       "  --sklearn-color-icon: #696969;\n",
       "\n",
       "  @media (prefers-color-scheme: dark) {\n",
       "    /* Redefinition of color scheme for dark theme */\n",
       "    --sklearn-color-text-on-default-background: var(--sg-text-color, var(--theme-code-foreground, var(--jp-content-font-color1, white)));\n",
       "    --sklearn-color-background: var(--sg-background-color, var(--theme-background, var(--jp-layout-color0, #111)));\n",
       "    --sklearn-color-border-box: var(--sg-text-color, var(--theme-code-foreground, var(--jp-content-font-color1, white)));\n",
       "    --sklearn-color-icon: #878787;\n",
       "  }\n",
       "}\n",
       "\n",
       "#sk-container-id-1 {\n",
       "  color: var(--sklearn-color-text);\n",
       "}\n",
       "\n",
       "#sk-container-id-1 pre {\n",
       "  padding: 0;\n",
       "}\n",
       "\n",
       "#sk-container-id-1 input.sk-hidden--visually {\n",
       "  border: 0;\n",
       "  clip: rect(1px 1px 1px 1px);\n",
       "  clip: rect(1px, 1px, 1px, 1px);\n",
       "  height: 1px;\n",
       "  margin: -1px;\n",
       "  overflow: hidden;\n",
       "  padding: 0;\n",
       "  position: absolute;\n",
       "  width: 1px;\n",
       "}\n",
       "\n",
       "#sk-container-id-1 div.sk-dashed-wrapped {\n",
       "  border: 1px dashed var(--sklearn-color-line);\n",
       "  margin: 0 0.4em 0.5em 0.4em;\n",
       "  box-sizing: border-box;\n",
       "  padding-bottom: 0.4em;\n",
       "  background-color: var(--sklearn-color-background);\n",
       "}\n",
       "\n",
       "#sk-container-id-1 div.sk-container {\n",
       "  /* jupyter's `normalize.less` sets `[hidden] { display: none; }`\n",
       "     but bootstrap.min.css set `[hidden] { display: none !important; }`\n",
       "     so we also need the `!important` here to be able to override the\n",
       "     default hidden behavior on the sphinx rendered scikit-learn.org.\n",
       "     See: https://github.com/scikit-learn/scikit-learn/issues/21755 */\n",
       "  display: inline-block !important;\n",
       "  position: relative;\n",
       "}\n",
       "\n",
       "#sk-container-id-1 div.sk-text-repr-fallback {\n",
       "  display: none;\n",
       "}\n",
       "\n",
       "div.sk-parallel-item,\n",
       "div.sk-serial,\n",
       "div.sk-item {\n",
       "  /* draw centered vertical line to link estimators */\n",
       "  background-image: linear-gradient(var(--sklearn-color-text-on-default-background), var(--sklearn-color-text-on-default-background));\n",
       "  background-size: 2px 100%;\n",
       "  background-repeat: no-repeat;\n",
       "  background-position: center center;\n",
       "}\n",
       "\n",
       "/* Parallel-specific style estimator block */\n",
       "\n",
       "#sk-container-id-1 div.sk-parallel-item::after {\n",
       "  content: \"\";\n",
       "  width: 100%;\n",
       "  border-bottom: 2px solid var(--sklearn-color-text-on-default-background);\n",
       "  flex-grow: 1;\n",
       "}\n",
       "\n",
       "#sk-container-id-1 div.sk-parallel {\n",
       "  display: flex;\n",
       "  align-items: stretch;\n",
       "  justify-content: center;\n",
       "  background-color: var(--sklearn-color-background);\n",
       "  position: relative;\n",
       "}\n",
       "\n",
       "#sk-container-id-1 div.sk-parallel-item {\n",
       "  display: flex;\n",
       "  flex-direction: column;\n",
       "}\n",
       "\n",
       "#sk-container-id-1 div.sk-parallel-item:first-child::after {\n",
       "  align-self: flex-end;\n",
       "  width: 50%;\n",
       "}\n",
       "\n",
       "#sk-container-id-1 div.sk-parallel-item:last-child::after {\n",
       "  align-self: flex-start;\n",
       "  width: 50%;\n",
       "}\n",
       "\n",
       "#sk-container-id-1 div.sk-parallel-item:only-child::after {\n",
       "  width: 0;\n",
       "}\n",
       "\n",
       "/* Serial-specific style estimator block */\n",
       "\n",
       "#sk-container-id-1 div.sk-serial {\n",
       "  display: flex;\n",
       "  flex-direction: column;\n",
       "  align-items: center;\n",
       "  background-color: var(--sklearn-color-background);\n",
       "  padding-right: 1em;\n",
       "  padding-left: 1em;\n",
       "}\n",
       "\n",
       "\n",
       "/* Toggleable style: style used for estimator/Pipeline/ColumnTransformer box that is\n",
       "clickable and can be expanded/collapsed.\n",
       "- Pipeline and ColumnTransformer use this feature and define the default style\n",
       "- Estimators will overwrite some part of the style using the `sk-estimator` class\n",
       "*/\n",
       "\n",
       "/* Pipeline and ColumnTransformer style (default) */\n",
       "\n",
       "#sk-container-id-1 div.sk-toggleable {\n",
       "  /* Default theme specific background. It is overwritten whether we have a\n",
       "  specific estimator or a Pipeline/ColumnTransformer */\n",
       "  background-color: var(--sklearn-color-background);\n",
       "}\n",
       "\n",
       "/* Toggleable label */\n",
       "#sk-container-id-1 label.sk-toggleable__label {\n",
       "  cursor: pointer;\n",
       "  display: block;\n",
       "  width: 100%;\n",
       "  margin-bottom: 0;\n",
       "  padding: 0.5em;\n",
       "  box-sizing: border-box;\n",
       "  text-align: center;\n",
       "}\n",
       "\n",
       "#sk-container-id-1 label.sk-toggleable__label-arrow:before {\n",
       "  /* Arrow on the left of the label */\n",
       "  content: \"▸\";\n",
       "  float: left;\n",
       "  margin-right: 0.25em;\n",
       "  color: var(--sklearn-color-icon);\n",
       "}\n",
       "\n",
       "#sk-container-id-1 label.sk-toggleable__label-arrow:hover:before {\n",
       "  color: var(--sklearn-color-text);\n",
       "}\n",
       "\n",
       "/* Toggleable content - dropdown */\n",
       "\n",
       "#sk-container-id-1 div.sk-toggleable__content {\n",
       "  max-height: 0;\n",
       "  max-width: 0;\n",
       "  overflow: hidden;\n",
       "  text-align: left;\n",
       "  /* unfitted */\n",
       "  background-color: var(--sklearn-color-unfitted-level-0);\n",
       "}\n",
       "\n",
       "#sk-container-id-1 div.sk-toggleable__content.fitted {\n",
       "  /* fitted */\n",
       "  background-color: var(--sklearn-color-fitted-level-0);\n",
       "}\n",
       "\n",
       "#sk-container-id-1 div.sk-toggleable__content pre {\n",
       "  margin: 0.2em;\n",
       "  border-radius: 0.25em;\n",
       "  color: var(--sklearn-color-text);\n",
       "  /* unfitted */\n",
       "  background-color: var(--sklearn-color-unfitted-level-0);\n",
       "}\n",
       "\n",
       "#sk-container-id-1 div.sk-toggleable__content.fitted pre {\n",
       "  /* unfitted */\n",
       "  background-color: var(--sklearn-color-fitted-level-0);\n",
       "}\n",
       "\n",
       "#sk-container-id-1 input.sk-toggleable__control:checked~div.sk-toggleable__content {\n",
       "  /* Expand drop-down */\n",
       "  max-height: 200px;\n",
       "  max-width: 100%;\n",
       "  overflow: auto;\n",
       "}\n",
       "\n",
       "#sk-container-id-1 input.sk-toggleable__control:checked~label.sk-toggleable__label-arrow:before {\n",
       "  content: \"▾\";\n",
       "}\n",
       "\n",
       "/* Pipeline/ColumnTransformer-specific style */\n",
       "\n",
       "#sk-container-id-1 div.sk-label input.sk-toggleable__control:checked~label.sk-toggleable__label {\n",
       "  color: var(--sklearn-color-text);\n",
       "  background-color: var(--sklearn-color-unfitted-level-2);\n",
       "}\n",
       "\n",
       "#sk-container-id-1 div.sk-label.fitted input.sk-toggleable__control:checked~label.sk-toggleable__label {\n",
       "  background-color: var(--sklearn-color-fitted-level-2);\n",
       "}\n",
       "\n",
       "/* Estimator-specific style */\n",
       "\n",
       "/* Colorize estimator box */\n",
       "#sk-container-id-1 div.sk-estimator input.sk-toggleable__control:checked~label.sk-toggleable__label {\n",
       "  /* unfitted */\n",
       "  background-color: var(--sklearn-color-unfitted-level-2);\n",
       "}\n",
       "\n",
       "#sk-container-id-1 div.sk-estimator.fitted input.sk-toggleable__control:checked~label.sk-toggleable__label {\n",
       "  /* fitted */\n",
       "  background-color: var(--sklearn-color-fitted-level-2);\n",
       "}\n",
       "\n",
       "#sk-container-id-1 div.sk-label label.sk-toggleable__label,\n",
       "#sk-container-id-1 div.sk-label label {\n",
       "  /* The background is the default theme color */\n",
       "  color: var(--sklearn-color-text-on-default-background);\n",
       "}\n",
       "\n",
       "/* On hover, darken the color of the background */\n",
       "#sk-container-id-1 div.sk-label:hover label.sk-toggleable__label {\n",
       "  color: var(--sklearn-color-text);\n",
       "  background-color: var(--sklearn-color-unfitted-level-2);\n",
       "}\n",
       "\n",
       "/* Label box, darken color on hover, fitted */\n",
       "#sk-container-id-1 div.sk-label.fitted:hover label.sk-toggleable__label.fitted {\n",
       "  color: var(--sklearn-color-text);\n",
       "  background-color: var(--sklearn-color-fitted-level-2);\n",
       "}\n",
       "\n",
       "/* Estimator label */\n",
       "\n",
       "#sk-container-id-1 div.sk-label label {\n",
       "  font-family: monospace;\n",
       "  font-weight: bold;\n",
       "  display: inline-block;\n",
       "  line-height: 1.2em;\n",
       "}\n",
       "\n",
       "#sk-container-id-1 div.sk-label-container {\n",
       "  text-align: center;\n",
       "}\n",
       "\n",
       "/* Estimator-specific */\n",
       "#sk-container-id-1 div.sk-estimator {\n",
       "  font-family: monospace;\n",
       "  border: 1px dotted var(--sklearn-color-border-box);\n",
       "  border-radius: 0.25em;\n",
       "  box-sizing: border-box;\n",
       "  margin-bottom: 0.5em;\n",
       "  /* unfitted */\n",
       "  background-color: var(--sklearn-color-unfitted-level-0);\n",
       "}\n",
       "\n",
       "#sk-container-id-1 div.sk-estimator.fitted {\n",
       "  /* fitted */\n",
       "  background-color: var(--sklearn-color-fitted-level-0);\n",
       "}\n",
       "\n",
       "/* on hover */\n",
       "#sk-container-id-1 div.sk-estimator:hover {\n",
       "  /* unfitted */\n",
       "  background-color: var(--sklearn-color-unfitted-level-2);\n",
       "}\n",
       "\n",
       "#sk-container-id-1 div.sk-estimator.fitted:hover {\n",
       "  /* fitted */\n",
       "  background-color: var(--sklearn-color-fitted-level-2);\n",
       "}\n",
       "\n",
       "/* Specification for estimator info (e.g. \"i\" and \"?\") */\n",
       "\n",
       "/* Common style for \"i\" and \"?\" */\n",
       "\n",
       ".sk-estimator-doc-link,\n",
       "a:link.sk-estimator-doc-link,\n",
       "a:visited.sk-estimator-doc-link {\n",
       "  float: right;\n",
       "  font-size: smaller;\n",
       "  line-height: 1em;\n",
       "  font-family: monospace;\n",
       "  background-color: var(--sklearn-color-background);\n",
       "  border-radius: 1em;\n",
       "  height: 1em;\n",
       "  width: 1em;\n",
       "  text-decoration: none !important;\n",
       "  margin-left: 1ex;\n",
       "  /* unfitted */\n",
       "  border: var(--sklearn-color-unfitted-level-1) 1pt solid;\n",
       "  color: var(--sklearn-color-unfitted-level-1);\n",
       "}\n",
       "\n",
       ".sk-estimator-doc-link.fitted,\n",
       "a:link.sk-estimator-doc-link.fitted,\n",
       "a:visited.sk-estimator-doc-link.fitted {\n",
       "  /* fitted */\n",
       "  border: var(--sklearn-color-fitted-level-1) 1pt solid;\n",
       "  color: var(--sklearn-color-fitted-level-1);\n",
       "}\n",
       "\n",
       "/* On hover */\n",
       "div.sk-estimator:hover .sk-estimator-doc-link:hover,\n",
       ".sk-estimator-doc-link:hover,\n",
       "div.sk-label-container:hover .sk-estimator-doc-link:hover,\n",
       ".sk-estimator-doc-link:hover {\n",
       "  /* unfitted */\n",
       "  background-color: var(--sklearn-color-unfitted-level-3);\n",
       "  color: var(--sklearn-color-background);\n",
       "  text-decoration: none;\n",
       "}\n",
       "\n",
       "div.sk-estimator.fitted:hover .sk-estimator-doc-link.fitted:hover,\n",
       ".sk-estimator-doc-link.fitted:hover,\n",
       "div.sk-label-container:hover .sk-estimator-doc-link.fitted:hover,\n",
       ".sk-estimator-doc-link.fitted:hover {\n",
       "  /* fitted */\n",
       "  background-color: var(--sklearn-color-fitted-level-3);\n",
       "  color: var(--sklearn-color-background);\n",
       "  text-decoration: none;\n",
       "}\n",
       "\n",
       "/* Span, style for the box shown on hovering the info icon */\n",
       ".sk-estimator-doc-link span {\n",
       "  display: none;\n",
       "  z-index: 9999;\n",
       "  position: relative;\n",
       "  font-weight: normal;\n",
       "  right: .2ex;\n",
       "  padding: .5ex;\n",
       "  margin: .5ex;\n",
       "  width: min-content;\n",
       "  min-width: 20ex;\n",
       "  max-width: 50ex;\n",
       "  color: var(--sklearn-color-text);\n",
       "  box-shadow: 2pt 2pt 4pt #999;\n",
       "  /* unfitted */\n",
       "  background: var(--sklearn-color-unfitted-level-0);\n",
       "  border: .5pt solid var(--sklearn-color-unfitted-level-3);\n",
       "}\n",
       "\n",
       ".sk-estimator-doc-link.fitted span {\n",
       "  /* fitted */\n",
       "  background: var(--sklearn-color-fitted-level-0);\n",
       "  border: var(--sklearn-color-fitted-level-3);\n",
       "}\n",
       "\n",
       ".sk-estimator-doc-link:hover span {\n",
       "  display: block;\n",
       "}\n",
       "\n",
       "/* \"?\"-specific style due to the `<a>` HTML tag */\n",
       "\n",
       "#sk-container-id-1 a.estimator_doc_link {\n",
       "  float: right;\n",
       "  font-size: 1rem;\n",
       "  line-height: 1em;\n",
       "  font-family: monospace;\n",
       "  background-color: var(--sklearn-color-background);\n",
       "  border-radius: 1rem;\n",
       "  height: 1rem;\n",
       "  width: 1rem;\n",
       "  text-decoration: none;\n",
       "  /* unfitted */\n",
       "  color: var(--sklearn-color-unfitted-level-1);\n",
       "  border: var(--sklearn-color-unfitted-level-1) 1pt solid;\n",
       "}\n",
       "\n",
       "#sk-container-id-1 a.estimator_doc_link.fitted {\n",
       "  /* fitted */\n",
       "  border: var(--sklearn-color-fitted-level-1) 1pt solid;\n",
       "  color: var(--sklearn-color-fitted-level-1);\n",
       "}\n",
       "\n",
       "/* On hover */\n",
       "#sk-container-id-1 a.estimator_doc_link:hover {\n",
       "  /* unfitted */\n",
       "  background-color: var(--sklearn-color-unfitted-level-3);\n",
       "  color: var(--sklearn-color-background);\n",
       "  text-decoration: none;\n",
       "}\n",
       "\n",
       "#sk-container-id-1 a.estimator_doc_link.fitted:hover {\n",
       "  /* fitted */\n",
       "  background-color: var(--sklearn-color-fitted-level-3);\n",
       "}\n",
       "</style><div id=\"sk-container-id-1\" class=\"sk-top-container\"><div class=\"sk-text-repr-fallback\"><pre>SVC(C=3000, cache_size=1000, class_weight=&#x27;balanced&#x27;, gamma=&#x27;auto&#x27;,\n",
       "    shrinking=False, tol=1e-08)</pre><b>In a Jupyter environment, please rerun this cell to show the HTML representation or trust the notebook. <br />On GitHub, the HTML representation is unable to render, please try loading this page with nbviewer.org.</b></div><div class=\"sk-container\" hidden><div class=\"sk-item\"><div class=\"sk-estimator fitted sk-toggleable\"><input class=\"sk-toggleable__control sk-hidden--visually\" id=\"sk-estimator-id-1\" type=\"checkbox\" checked><label for=\"sk-estimator-id-1\" class=\"sk-toggleable__label fitted sk-toggleable__label-arrow fitted\">&nbsp;&nbsp;SVC<a class=\"sk-estimator-doc-link fitted\" rel=\"noreferrer\" target=\"_blank\" href=\"https://scikit-learn.org/1.5/modules/generated/sklearn.svm.SVC.html\">?<span>Documentation for SVC</span></a><span class=\"sk-estimator-doc-link fitted\">i<span>Fitted</span></span></label><div class=\"sk-toggleable__content fitted\"><pre>SVC(C=3000, cache_size=1000, class_weight=&#x27;balanced&#x27;, gamma=&#x27;auto&#x27;,\n",
       "    shrinking=False, tol=1e-08)</pre></div> </div></div></div></div>"
      ],
      "text/plain": [
       "SVC(C=3000, cache_size=1000, class_weight='balanced', gamma='auto',\n",
       "    shrinking=False, tol=1e-08)"
      ]
     },
     "execution_count": 4,
     "metadata": {},
     "output_type": "execute_result"
    }
   ],
   "source": [
    "# FIT THE MODEL\n",
    "\n",
    "from sklearn.svm import SVC\n",
    "from sklearn.model_selection import train_test_split\n",
    "\n",
    "# model = SVC(**best_params)\n",
    "\n",
    "model = SVC(\n",
    "    class_weight=\"balanced\",\n",
    "    cache_size=1000,\n",
    "    probability=False,\n",
    "    C=3000,\n",
    "    kernel=\"rbf\",\n",
    "    shrinking=False,\n",
    "    tol=1e-8,\n",
    "    gamma=\"auto\",\n",
    ")\n",
    "\n",
    "X_train, X_test, y_train, y_test = train_test_split(\n",
    "    tfidf_scores, labels, test_size=0.333, stratify=labels, random_state=7\n",
    ")\n",
    "\n",
    "model.fit(X_train, y_train)"
   ]
  },
  {
   "cell_type": "code",
   "execution_count": 5,
   "metadata": {},
   "outputs": [
    {
     "data": {
      "application/vnd.plotly.v1+json": {
       "config": {
        "plotlyServerURL": "https://plot.ly"
       },
       "data": [
        {
         "customdata": [
          [
           "inf"
          ],
          [
           "1.001"
          ],
          [
           "0.3233"
          ],
          [
           "0.142"
          ],
          [
           "-0.1438"
          ],
          [
           "-0.4523"
          ],
          [
           "-0.4562"
          ],
          [
           "-0.6627"
          ],
          [
           "-0.671"
          ],
          [
           "-0.86"
          ],
          [
           "-0.8615"
          ],
          [
           "-0.967"
          ],
          [
           "-0.9694"
          ],
          [
           "-1.6"
          ]
         ],
         "fillpattern": {
          "shape": ""
         },
         "hovertemplate": "False Positive Rate=%{x}<br>True Positive Rate=%{y}<br>Threshold=%{customdata[0]}<extra></extra>",
         "legendgroup": "",
         "line": {
          "color": "#636efa"
         },
         "marker": {
          "symbol": "circle"
         },
         "mode": "lines",
         "name": "",
         "orientation": "v",
         "showlegend": false,
         "stackgroup": "1",
         "type": "scatter",
         "x": [
          0,
          0,
          0,
          0,
          0,
          0.02493765586034913,
          0.02493765586034913,
          0.06483790523690773,
          0.06483790523690773,
          0.1596009975062344,
          0.1596009975062344,
          0.27680798004987534,
          0.27680798004987534,
          1
         ],
         "xaxis": "x",
         "y": [
          0,
          0.2,
          0.4,
          0.5333333333333333,
          0.7333333333333333,
          0.7333333333333333,
          0.8,
          0.8,
          0.8666666666666667,
          0.8666666666666667,
          0.9333333333333333,
          0.9333333333333333,
          1,
          1
         ],
         "yaxis": "y"
        }
       ],
       "layout": {
        "height": 600,
        "legend": {
         "tracegroupgap": 0
        },
        "shapes": [
         {
          "line": {
           "color": "grey",
           "dash": "dash"
          },
          "type": "line",
          "x0": 0,
          "x1": 1,
          "y0": 0,
          "y1": 1
         }
        ],
        "template": {
         "data": {
          "bar": [
           {
            "error_x": {
             "color": "#2a3f5f"
            },
            "error_y": {
             "color": "#2a3f5f"
            },
            "marker": {
             "line": {
              "color": "#E5ECF6",
              "width": 0.5
             },
             "pattern": {
              "fillmode": "overlay",
              "size": 10,
              "solidity": 0.2
             }
            },
            "type": "bar"
           }
          ],
          "barpolar": [
           {
            "marker": {
             "line": {
              "color": "#E5ECF6",
              "width": 0.5
             },
             "pattern": {
              "fillmode": "overlay",
              "size": 10,
              "solidity": 0.2
             }
            },
            "type": "barpolar"
           }
          ],
          "carpet": [
           {
            "aaxis": {
             "endlinecolor": "#2a3f5f",
             "gridcolor": "white",
             "linecolor": "white",
             "minorgridcolor": "white",
             "startlinecolor": "#2a3f5f"
            },
            "baxis": {
             "endlinecolor": "#2a3f5f",
             "gridcolor": "white",
             "linecolor": "white",
             "minorgridcolor": "white",
             "startlinecolor": "#2a3f5f"
            },
            "type": "carpet"
           }
          ],
          "choropleth": [
           {
            "colorbar": {
             "outlinewidth": 0,
             "ticks": ""
            },
            "type": "choropleth"
           }
          ],
          "contour": [
           {
            "colorbar": {
             "outlinewidth": 0,
             "ticks": ""
            },
            "colorscale": [
             [
              0,
              "#0d0887"
             ],
             [
              0.1111111111111111,
              "#46039f"
             ],
             [
              0.2222222222222222,
              "#7201a8"
             ],
             [
              0.3333333333333333,
              "#9c179e"
             ],
             [
              0.4444444444444444,
              "#bd3786"
             ],
             [
              0.5555555555555556,
              "#d8576b"
             ],
             [
              0.6666666666666666,
              "#ed7953"
             ],
             [
              0.7777777777777778,
              "#fb9f3a"
             ],
             [
              0.8888888888888888,
              "#fdca26"
             ],
             [
              1,
              "#f0f921"
             ]
            ],
            "type": "contour"
           }
          ],
          "contourcarpet": [
           {
            "colorbar": {
             "outlinewidth": 0,
             "ticks": ""
            },
            "type": "contourcarpet"
           }
          ],
          "heatmap": [
           {
            "colorbar": {
             "outlinewidth": 0,
             "ticks": ""
            },
            "colorscale": [
             [
              0,
              "#0d0887"
             ],
             [
              0.1111111111111111,
              "#46039f"
             ],
             [
              0.2222222222222222,
              "#7201a8"
             ],
             [
              0.3333333333333333,
              "#9c179e"
             ],
             [
              0.4444444444444444,
              "#bd3786"
             ],
             [
              0.5555555555555556,
              "#d8576b"
             ],
             [
              0.6666666666666666,
              "#ed7953"
             ],
             [
              0.7777777777777778,
              "#fb9f3a"
             ],
             [
              0.8888888888888888,
              "#fdca26"
             ],
             [
              1,
              "#f0f921"
             ]
            ],
            "type": "heatmap"
           }
          ],
          "heatmapgl": [
           {
            "colorbar": {
             "outlinewidth": 0,
             "ticks": ""
            },
            "colorscale": [
             [
              0,
              "#0d0887"
             ],
             [
              0.1111111111111111,
              "#46039f"
             ],
             [
              0.2222222222222222,
              "#7201a8"
             ],
             [
              0.3333333333333333,
              "#9c179e"
             ],
             [
              0.4444444444444444,
              "#bd3786"
             ],
             [
              0.5555555555555556,
              "#d8576b"
             ],
             [
              0.6666666666666666,
              "#ed7953"
             ],
             [
              0.7777777777777778,
              "#fb9f3a"
             ],
             [
              0.8888888888888888,
              "#fdca26"
             ],
             [
              1,
              "#f0f921"
             ]
            ],
            "type": "heatmapgl"
           }
          ],
          "histogram": [
           {
            "marker": {
             "pattern": {
              "fillmode": "overlay",
              "size": 10,
              "solidity": 0.2
             }
            },
            "type": "histogram"
           }
          ],
          "histogram2d": [
           {
            "colorbar": {
             "outlinewidth": 0,
             "ticks": ""
            },
            "colorscale": [
             [
              0,
              "#0d0887"
             ],
             [
              0.1111111111111111,
              "#46039f"
             ],
             [
              0.2222222222222222,
              "#7201a8"
             ],
             [
              0.3333333333333333,
              "#9c179e"
             ],
             [
              0.4444444444444444,
              "#bd3786"
             ],
             [
              0.5555555555555556,
              "#d8576b"
             ],
             [
              0.6666666666666666,
              "#ed7953"
             ],
             [
              0.7777777777777778,
              "#fb9f3a"
             ],
             [
              0.8888888888888888,
              "#fdca26"
             ],
             [
              1,
              "#f0f921"
             ]
            ],
            "type": "histogram2d"
           }
          ],
          "histogram2dcontour": [
           {
            "colorbar": {
             "outlinewidth": 0,
             "ticks": ""
            },
            "colorscale": [
             [
              0,
              "#0d0887"
             ],
             [
              0.1111111111111111,
              "#46039f"
             ],
             [
              0.2222222222222222,
              "#7201a8"
             ],
             [
              0.3333333333333333,
              "#9c179e"
             ],
             [
              0.4444444444444444,
              "#bd3786"
             ],
             [
              0.5555555555555556,
              "#d8576b"
             ],
             [
              0.6666666666666666,
              "#ed7953"
             ],
             [
              0.7777777777777778,
              "#fb9f3a"
             ],
             [
              0.8888888888888888,
              "#fdca26"
             ],
             [
              1,
              "#f0f921"
             ]
            ],
            "type": "histogram2dcontour"
           }
          ],
          "mesh3d": [
           {
            "colorbar": {
             "outlinewidth": 0,
             "ticks": ""
            },
            "type": "mesh3d"
           }
          ],
          "parcoords": [
           {
            "line": {
             "colorbar": {
              "outlinewidth": 0,
              "ticks": ""
             }
            },
            "type": "parcoords"
           }
          ],
          "pie": [
           {
            "automargin": true,
            "type": "pie"
           }
          ],
          "scatter": [
           {
            "fillpattern": {
             "fillmode": "overlay",
             "size": 10,
             "solidity": 0.2
            },
            "type": "scatter"
           }
          ],
          "scatter3d": [
           {
            "line": {
             "colorbar": {
              "outlinewidth": 0,
              "ticks": ""
             }
            },
            "marker": {
             "colorbar": {
              "outlinewidth": 0,
              "ticks": ""
             }
            },
            "type": "scatter3d"
           }
          ],
          "scattercarpet": [
           {
            "marker": {
             "colorbar": {
              "outlinewidth": 0,
              "ticks": ""
             }
            },
            "type": "scattercarpet"
           }
          ],
          "scattergeo": [
           {
            "marker": {
             "colorbar": {
              "outlinewidth": 0,
              "ticks": ""
             }
            },
            "type": "scattergeo"
           }
          ],
          "scattergl": [
           {
            "marker": {
             "colorbar": {
              "outlinewidth": 0,
              "ticks": ""
             }
            },
            "type": "scattergl"
           }
          ],
          "scattermapbox": [
           {
            "marker": {
             "colorbar": {
              "outlinewidth": 0,
              "ticks": ""
             }
            },
            "type": "scattermapbox"
           }
          ],
          "scatterpolar": [
           {
            "marker": {
             "colorbar": {
              "outlinewidth": 0,
              "ticks": ""
             }
            },
            "type": "scatterpolar"
           }
          ],
          "scatterpolargl": [
           {
            "marker": {
             "colorbar": {
              "outlinewidth": 0,
              "ticks": ""
             }
            },
            "type": "scatterpolargl"
           }
          ],
          "scatterternary": [
           {
            "marker": {
             "colorbar": {
              "outlinewidth": 0,
              "ticks": ""
             }
            },
            "type": "scatterternary"
           }
          ],
          "surface": [
           {
            "colorbar": {
             "outlinewidth": 0,
             "ticks": ""
            },
            "colorscale": [
             [
              0,
              "#0d0887"
             ],
             [
              0.1111111111111111,
              "#46039f"
             ],
             [
              0.2222222222222222,
              "#7201a8"
             ],
             [
              0.3333333333333333,
              "#9c179e"
             ],
             [
              0.4444444444444444,
              "#bd3786"
             ],
             [
              0.5555555555555556,
              "#d8576b"
             ],
             [
              0.6666666666666666,
              "#ed7953"
             ],
             [
              0.7777777777777778,
              "#fb9f3a"
             ],
             [
              0.8888888888888888,
              "#fdca26"
             ],
             [
              1,
              "#f0f921"
             ]
            ],
            "type": "surface"
           }
          ],
          "table": [
           {
            "cells": {
             "fill": {
              "color": "#EBF0F8"
             },
             "line": {
              "color": "white"
             }
            },
            "header": {
             "fill": {
              "color": "#C8D4E3"
             },
             "line": {
              "color": "white"
             }
            },
            "type": "table"
           }
          ]
         },
         "layout": {
          "annotationdefaults": {
           "arrowcolor": "#2a3f5f",
           "arrowhead": 0,
           "arrowwidth": 1
          },
          "autotypenumbers": "strict",
          "coloraxis": {
           "colorbar": {
            "outlinewidth": 0,
            "ticks": ""
           }
          },
          "colorscale": {
           "diverging": [
            [
             0,
             "#8e0152"
            ],
            [
             0.1,
             "#c51b7d"
            ],
            [
             0.2,
             "#de77ae"
            ],
            [
             0.3,
             "#f1b6da"
            ],
            [
             0.4,
             "#fde0ef"
            ],
            [
             0.5,
             "#f7f7f7"
            ],
            [
             0.6,
             "#e6f5d0"
            ],
            [
             0.7,
             "#b8e186"
            ],
            [
             0.8,
             "#7fbc41"
            ],
            [
             0.9,
             "#4d9221"
            ],
            [
             1,
             "#276419"
            ]
           ],
           "sequential": [
            [
             0,
             "#0d0887"
            ],
            [
             0.1111111111111111,
             "#46039f"
            ],
            [
             0.2222222222222222,
             "#7201a8"
            ],
            [
             0.3333333333333333,
             "#9c179e"
            ],
            [
             0.4444444444444444,
             "#bd3786"
            ],
            [
             0.5555555555555556,
             "#d8576b"
            ],
            [
             0.6666666666666666,
             "#ed7953"
            ],
            [
             0.7777777777777778,
             "#fb9f3a"
            ],
            [
             0.8888888888888888,
             "#fdca26"
            ],
            [
             1,
             "#f0f921"
            ]
           ],
           "sequentialminus": [
            [
             0,
             "#0d0887"
            ],
            [
             0.1111111111111111,
             "#46039f"
            ],
            [
             0.2222222222222222,
             "#7201a8"
            ],
            [
             0.3333333333333333,
             "#9c179e"
            ],
            [
             0.4444444444444444,
             "#bd3786"
            ],
            [
             0.5555555555555556,
             "#d8576b"
            ],
            [
             0.6666666666666666,
             "#ed7953"
            ],
            [
             0.7777777777777778,
             "#fb9f3a"
            ],
            [
             0.8888888888888888,
             "#fdca26"
            ],
            [
             1,
             "#f0f921"
            ]
           ]
          },
          "colorway": [
           "#636efa",
           "#EF553B",
           "#00cc96",
           "#ab63fa",
           "#FFA15A",
           "#19d3f3",
           "#FF6692",
           "#B6E880",
           "#FF97FF",
           "#FECB52"
          ],
          "font": {
           "color": "#2a3f5f"
          },
          "geo": {
           "bgcolor": "white",
           "lakecolor": "white",
           "landcolor": "#E5ECF6",
           "showlakes": true,
           "showland": true,
           "subunitcolor": "white"
          },
          "hoverlabel": {
           "align": "left"
          },
          "hovermode": "closest",
          "mapbox": {
           "style": "light"
          },
          "paper_bgcolor": "white",
          "plot_bgcolor": "#E5ECF6",
          "polar": {
           "angularaxis": {
            "gridcolor": "white",
            "linecolor": "white",
            "ticks": ""
           },
           "bgcolor": "#E5ECF6",
           "radialaxis": {
            "gridcolor": "white",
            "linecolor": "white",
            "ticks": ""
           }
          },
          "scene": {
           "xaxis": {
            "backgroundcolor": "#E5ECF6",
            "gridcolor": "white",
            "gridwidth": 2,
            "linecolor": "white",
            "showbackground": true,
            "ticks": "",
            "zerolinecolor": "white"
           },
           "yaxis": {
            "backgroundcolor": "#E5ECF6",
            "gridcolor": "white",
            "gridwidth": 2,
            "linecolor": "white",
            "showbackground": true,
            "ticks": "",
            "zerolinecolor": "white"
           },
           "zaxis": {
            "backgroundcolor": "#E5ECF6",
            "gridcolor": "white",
            "gridwidth": 2,
            "linecolor": "white",
            "showbackground": true,
            "ticks": "",
            "zerolinecolor": "white"
           }
          },
          "shapedefaults": {
           "line": {
            "color": "#2a3f5f"
           }
          },
          "ternary": {
           "aaxis": {
            "gridcolor": "white",
            "linecolor": "white",
            "ticks": ""
           },
           "baxis": {
            "gridcolor": "white",
            "linecolor": "white",
            "ticks": ""
           },
           "bgcolor": "#E5ECF6",
           "caxis": {
            "gridcolor": "white",
            "linecolor": "white",
            "ticks": ""
           }
          },
          "title": {
           "x": 0.05
          },
          "xaxis": {
           "automargin": true,
           "gridcolor": "white",
           "linecolor": "white",
           "ticks": "",
           "title": {
            "standoff": 15
           },
           "zerolinecolor": "white",
           "zerolinewidth": 2
          },
          "yaxis": {
           "automargin": true,
           "gridcolor": "white",
           "linecolor": "white",
           "ticks": "",
           "title": {
            "standoff": 15
           },
           "zerolinecolor": "white",
           "zerolinewidth": 2
          }
         }
        },
        "title": {
         "text": "ROC Curve (AUC=0.9649)",
         "x": 0.5,
         "xanchor": "center"
        },
        "width": 600,
        "xaxis": {
         "anchor": "y",
         "constrain": "domain",
         "domain": [
          0,
          1
         ],
         "title": {
          "text": "False Positive Rate"
         }
        },
        "yaxis": {
         "anchor": "x",
         "domain": [
          0,
          1
         ],
         "scaleanchor": "x",
         "scaleratio": 1,
         "title": {
          "text": "True Positive Rate"
         }
        }
       }
      }
     },
     "metadata": {},
     "output_type": "display_data"
    }
   ],
   "source": [
    "# CREATE ROC CURVE TO SELECT THRESHOLD\n",
    "\n",
    "from eppi_text_classification.predict import predict_scores\n",
    "from eppi_text_classification.plotly_roc import plotly_roc\n",
    "\n",
    "y_test_pred_probs = predict_scores(model, X_test)\n",
    "plotly_roc(y_test, y_test_pred_probs)"
   ]
  },
  {
   "cell_type": "code",
   "execution_count": 6,
   "metadata": {},
   "outputs": [],
   "source": [
    "# GET MODEL THRESHOLD FOR CHOSEN TPR, MAKE PREDICTIONS\n",
    "\n",
    "from eppi_text_classification.predict import (\n",
    "    get_raw_threshold,\n",
    "    raw_threshold_predict,\n",
    ")\n",
    "\n",
    "threshold = get_raw_threshold(model, X_test, y_test, target_tpr=1)\n",
    "\n",
    "y_test_pred = raw_threshold_predict(model, X_test, threshold)\n",
    "y_train_pred = raw_threshold_predict(model, X_train, threshold)"
   ]
  },
  {
   "cell_type": "code",
   "execution_count": 6,
   "metadata": {},
   "outputs": [
    {
     "data": {
      "application/vnd.plotly.v1+json": {
       "config": {
        "plotlyServerURL": "https://plot.ly"
       },
       "data": [
        {
         "colorscale": [
          [
           0,
           "rgb(247,251,255)"
          ],
          [
           0.125,
           "rgb(222,235,247)"
          ],
          [
           0.25,
           "rgb(198,219,239)"
          ],
          [
           0.375,
           "rgb(158,202,225)"
          ],
          [
           0.5,
           "rgb(107,174,214)"
          ],
          [
           0.625,
           "rgb(66,146,198)"
          ],
          [
           0.75,
           "rgb(33,113,181)"
          ],
          [
           0.875,
           "rgb(8,81,156)"
          ],
          [
           1,
           "rgb(8,48,107)"
          ]
         ],
         "hoverinfo": "text",
         "showscale": false,
         "text": [
          [
           "Truth: Excluded<br>Prediction: Included<br>Total: 71",
           "Truth: Excluded<br>Prediction: Excluded<br>Total: 732"
          ],
          [
           "Truth: Included<br>Prediction: Included<br>Total: 29",
           "Truth: Included<br>Prediction: Excluded<br>Total: 0"
          ]
         ],
         "type": "heatmap",
         "x": [
          "0",
          "1"
         ],
         "xaxis": "x",
         "y": [
          "0",
          "1"
         ],
         "yaxis": "y",
         "z": [
          [
           71,
           732
          ],
          [
           29,
           0
          ]
         ]
        },
        {
         "colorscale": [
          [
           0,
           "rgb(247,251,255)"
          ],
          [
           0.125,
           "rgb(222,235,247)"
          ],
          [
           0.25,
           "rgb(198,219,239)"
          ],
          [
           0.375,
           "rgb(158,202,225)"
          ],
          [
           0.5,
           "rgb(107,174,214)"
          ],
          [
           0.625,
           "rgb(66,146,198)"
          ],
          [
           0.75,
           "rgb(33,113,181)"
          ],
          [
           0.875,
           "rgb(8,81,156)"
          ],
          [
           1,
           "rgb(8,48,107)"
          ]
         ],
         "hoverinfo": "text",
         "showscale": false,
         "text": [
          [
           "Truth: Excluded<br>Prediction: Included<br>Total: 111",
           "Truth: Excluded<br>Prediction: Excluded<br>Total: 290"
          ],
          [
           "Truth: Included<br>Prediction: Included<br>Total: 15",
           "Truth: Included<br>Prediction: Excluded<br>Total: 0"
          ]
         ],
         "type": "heatmap",
         "x": [
          "0",
          "1"
         ],
         "xaxis": "x2",
         "y": [
          "0",
          "1"
         ],
         "yaxis": "y2",
         "z": [
          [
           111,
           290
          ],
          [
           15,
           0
          ]
         ]
        }
       ],
       "layout": {
        "annotations": [
         {
          "font": {
           "size": 18
          },
          "showarrow": false,
          "text": "Training Matrix",
          "x": 0.2125,
          "xanchor": "center",
          "xref": "paper",
          "y": 1.03,
          "yanchor": "bottom",
          "yref": "paper"
         },
         {
          "font": {
           "size": 18
          },
          "showarrow": false,
          "text": "Validation Matrix",
          "x": 0.7875,
          "xanchor": "center",
          "xref": "paper",
          "y": 1.03,
          "yanchor": "bottom",
          "yref": "paper"
         },
         {
          "font": {
           "color": " dark blue"
          },
          "showarrow": false,
          "text": "71",
          "x": "0",
          "xref": "x",
          "y": "0",
          "yref": "y"
         },
         {
          "font": {
           "color": "white"
          },
          "showarrow": false,
          "text": "732",
          "x": "1",
          "xref": "x",
          "y": "0",
          "yref": "y"
         },
         {
          "font": {
           "color": " dark blue"
          },
          "showarrow": false,
          "text": "29",
          "x": "0",
          "xref": "x",
          "y": "1",
          "yref": "y"
         },
         {
          "font": {
           "color": " dark blue"
          },
          "showarrow": false,
          "text": "0",
          "x": "1",
          "xref": "x",
          "y": "1",
          "yref": "y"
         },
         {
          "font": {
           "color": " dark blue"
          },
          "showarrow": false,
          "text": "111",
          "x": "0",
          "xref": "x2",
          "y": "0",
          "yref": "y2"
         },
         {
          "font": {
           "color": "white"
          },
          "showarrow": false,
          "text": "290",
          "x": "1",
          "xref": "x2",
          "y": "0",
          "yref": "y2"
         },
         {
          "font": {
           "color": " dark blue"
          },
          "showarrow": false,
          "text": "15",
          "x": "0",
          "xref": "x2",
          "y": "1",
          "yref": "y2"
         },
         {
          "font": {
           "color": " dark blue"
          },
          "showarrow": false,
          "text": "0",
          "x": "1",
          "xref": "x2",
          "y": "1",
          "yref": "y2"
         }
        ],
        "autosize": false,
        "height": 400,
        "shapes": [
         {
          "line": {
           "color": "black",
           "width": 2
          },
          "type": "rect",
          "x0": -0.5,
          "x1": 1.5,
          "xref": "x",
          "y0": -0.5,
          "y1": 1.5,
          "yref": "y"
         },
         {
          "line": {
           "color": "black",
           "width": 1.5
          },
          "type": "line",
          "x0": -0.5,
          "x1": 1.5,
          "xref": "x",
          "y0": 0.5,
          "y1": 0.5,
          "yref": "y"
         },
         {
          "line": {
           "color": "black",
           "width": 1.5
          },
          "type": "line",
          "x0": 0.5,
          "x1": 0.5,
          "xref": "x",
          "y0": -0.5,
          "y1": 1.5,
          "yref": "y"
         },
         {
          "line": {
           "color": "black",
           "width": 2
          },
          "type": "rect",
          "x0": -0.5,
          "x1": 1.5,
          "xref": "x2",
          "y0": -0.5,
          "y1": 1.5,
          "yref": "y2"
         },
         {
          "line": {
           "color": "black",
           "width": 1.5
          },
          "type": "line",
          "x0": -0.5,
          "x1": 1.5,
          "xref": "x2",
          "y0": 0.5,
          "y1": 0.5,
          "yref": "y2"
         },
         {
          "line": {
           "color": "black",
           "width": 1.5
          },
          "type": "line",
          "x0": 0.5,
          "x1": 0.5,
          "xref": "x2",
          "y0": -0.5,
          "y1": 1.5,
          "yref": "y2"
         }
        ],
        "template": {
         "data": {
          "bar": [
           {
            "error_x": {
             "color": "#2a3f5f"
            },
            "error_y": {
             "color": "#2a3f5f"
            },
            "marker": {
             "line": {
              "color": "#E5ECF6",
              "width": 0.5
             },
             "pattern": {
              "fillmode": "overlay",
              "size": 10,
              "solidity": 0.2
             }
            },
            "type": "bar"
           }
          ],
          "barpolar": [
           {
            "marker": {
             "line": {
              "color": "#E5ECF6",
              "width": 0.5
             },
             "pattern": {
              "fillmode": "overlay",
              "size": 10,
              "solidity": 0.2
             }
            },
            "type": "barpolar"
           }
          ],
          "carpet": [
           {
            "aaxis": {
             "endlinecolor": "#2a3f5f",
             "gridcolor": "white",
             "linecolor": "white",
             "minorgridcolor": "white",
             "startlinecolor": "#2a3f5f"
            },
            "baxis": {
             "endlinecolor": "#2a3f5f",
             "gridcolor": "white",
             "linecolor": "white",
             "minorgridcolor": "white",
             "startlinecolor": "#2a3f5f"
            },
            "type": "carpet"
           }
          ],
          "choropleth": [
           {
            "colorbar": {
             "outlinewidth": 0,
             "ticks": ""
            },
            "type": "choropleth"
           }
          ],
          "contour": [
           {
            "colorbar": {
             "outlinewidth": 0,
             "ticks": ""
            },
            "colorscale": [
             [
              0,
              "#0d0887"
             ],
             [
              0.1111111111111111,
              "#46039f"
             ],
             [
              0.2222222222222222,
              "#7201a8"
             ],
             [
              0.3333333333333333,
              "#9c179e"
             ],
             [
              0.4444444444444444,
              "#bd3786"
             ],
             [
              0.5555555555555556,
              "#d8576b"
             ],
             [
              0.6666666666666666,
              "#ed7953"
             ],
             [
              0.7777777777777778,
              "#fb9f3a"
             ],
             [
              0.8888888888888888,
              "#fdca26"
             ],
             [
              1,
              "#f0f921"
             ]
            ],
            "type": "contour"
           }
          ],
          "contourcarpet": [
           {
            "colorbar": {
             "outlinewidth": 0,
             "ticks": ""
            },
            "type": "contourcarpet"
           }
          ],
          "heatmap": [
           {
            "colorbar": {
             "outlinewidth": 0,
             "ticks": ""
            },
            "colorscale": [
             [
              0,
              "#0d0887"
             ],
             [
              0.1111111111111111,
              "#46039f"
             ],
             [
              0.2222222222222222,
              "#7201a8"
             ],
             [
              0.3333333333333333,
              "#9c179e"
             ],
             [
              0.4444444444444444,
              "#bd3786"
             ],
             [
              0.5555555555555556,
              "#d8576b"
             ],
             [
              0.6666666666666666,
              "#ed7953"
             ],
             [
              0.7777777777777778,
              "#fb9f3a"
             ],
             [
              0.8888888888888888,
              "#fdca26"
             ],
             [
              1,
              "#f0f921"
             ]
            ],
            "type": "heatmap"
           }
          ],
          "heatmapgl": [
           {
            "colorbar": {
             "outlinewidth": 0,
             "ticks": ""
            },
            "colorscale": [
             [
              0,
              "#0d0887"
             ],
             [
              0.1111111111111111,
              "#46039f"
             ],
             [
              0.2222222222222222,
              "#7201a8"
             ],
             [
              0.3333333333333333,
              "#9c179e"
             ],
             [
              0.4444444444444444,
              "#bd3786"
             ],
             [
              0.5555555555555556,
              "#d8576b"
             ],
             [
              0.6666666666666666,
              "#ed7953"
             ],
             [
              0.7777777777777778,
              "#fb9f3a"
             ],
             [
              0.8888888888888888,
              "#fdca26"
             ],
             [
              1,
              "#f0f921"
             ]
            ],
            "type": "heatmapgl"
           }
          ],
          "histogram": [
           {
            "marker": {
             "pattern": {
              "fillmode": "overlay",
              "size": 10,
              "solidity": 0.2
             }
            },
            "type": "histogram"
           }
          ],
          "histogram2d": [
           {
            "colorbar": {
             "outlinewidth": 0,
             "ticks": ""
            },
            "colorscale": [
             [
              0,
              "#0d0887"
             ],
             [
              0.1111111111111111,
              "#46039f"
             ],
             [
              0.2222222222222222,
              "#7201a8"
             ],
             [
              0.3333333333333333,
              "#9c179e"
             ],
             [
              0.4444444444444444,
              "#bd3786"
             ],
             [
              0.5555555555555556,
              "#d8576b"
             ],
             [
              0.6666666666666666,
              "#ed7953"
             ],
             [
              0.7777777777777778,
              "#fb9f3a"
             ],
             [
              0.8888888888888888,
              "#fdca26"
             ],
             [
              1,
              "#f0f921"
             ]
            ],
            "type": "histogram2d"
           }
          ],
          "histogram2dcontour": [
           {
            "colorbar": {
             "outlinewidth": 0,
             "ticks": ""
            },
            "colorscale": [
             [
              0,
              "#0d0887"
             ],
             [
              0.1111111111111111,
              "#46039f"
             ],
             [
              0.2222222222222222,
              "#7201a8"
             ],
             [
              0.3333333333333333,
              "#9c179e"
             ],
             [
              0.4444444444444444,
              "#bd3786"
             ],
             [
              0.5555555555555556,
              "#d8576b"
             ],
             [
              0.6666666666666666,
              "#ed7953"
             ],
             [
              0.7777777777777778,
              "#fb9f3a"
             ],
             [
              0.8888888888888888,
              "#fdca26"
             ],
             [
              1,
              "#f0f921"
             ]
            ],
            "type": "histogram2dcontour"
           }
          ],
          "mesh3d": [
           {
            "colorbar": {
             "outlinewidth": 0,
             "ticks": ""
            },
            "type": "mesh3d"
           }
          ],
          "parcoords": [
           {
            "line": {
             "colorbar": {
              "outlinewidth": 0,
              "ticks": ""
             }
            },
            "type": "parcoords"
           }
          ],
          "pie": [
           {
            "automargin": true,
            "type": "pie"
           }
          ],
          "scatter": [
           {
            "fillpattern": {
             "fillmode": "overlay",
             "size": 10,
             "solidity": 0.2
            },
            "type": "scatter"
           }
          ],
          "scatter3d": [
           {
            "line": {
             "colorbar": {
              "outlinewidth": 0,
              "ticks": ""
             }
            },
            "marker": {
             "colorbar": {
              "outlinewidth": 0,
              "ticks": ""
             }
            },
            "type": "scatter3d"
           }
          ],
          "scattercarpet": [
           {
            "marker": {
             "colorbar": {
              "outlinewidth": 0,
              "ticks": ""
             }
            },
            "type": "scattercarpet"
           }
          ],
          "scattergeo": [
           {
            "marker": {
             "colorbar": {
              "outlinewidth": 0,
              "ticks": ""
             }
            },
            "type": "scattergeo"
           }
          ],
          "scattergl": [
           {
            "marker": {
             "colorbar": {
              "outlinewidth": 0,
              "ticks": ""
             }
            },
            "type": "scattergl"
           }
          ],
          "scattermapbox": [
           {
            "marker": {
             "colorbar": {
              "outlinewidth": 0,
              "ticks": ""
             }
            },
            "type": "scattermapbox"
           }
          ],
          "scatterpolar": [
           {
            "marker": {
             "colorbar": {
              "outlinewidth": 0,
              "ticks": ""
             }
            },
            "type": "scatterpolar"
           }
          ],
          "scatterpolargl": [
           {
            "marker": {
             "colorbar": {
              "outlinewidth": 0,
              "ticks": ""
             }
            },
            "type": "scatterpolargl"
           }
          ],
          "scatterternary": [
           {
            "marker": {
             "colorbar": {
              "outlinewidth": 0,
              "ticks": ""
             }
            },
            "type": "scatterternary"
           }
          ],
          "surface": [
           {
            "colorbar": {
             "outlinewidth": 0,
             "ticks": ""
            },
            "colorscale": [
             [
              0,
              "#0d0887"
             ],
             [
              0.1111111111111111,
              "#46039f"
             ],
             [
              0.2222222222222222,
              "#7201a8"
             ],
             [
              0.3333333333333333,
              "#9c179e"
             ],
             [
              0.4444444444444444,
              "#bd3786"
             ],
             [
              0.5555555555555556,
              "#d8576b"
             ],
             [
              0.6666666666666666,
              "#ed7953"
             ],
             [
              0.7777777777777778,
              "#fb9f3a"
             ],
             [
              0.8888888888888888,
              "#fdca26"
             ],
             [
              1,
              "#f0f921"
             ]
            ],
            "type": "surface"
           }
          ],
          "table": [
           {
            "cells": {
             "fill": {
              "color": "#EBF0F8"
             },
             "line": {
              "color": "white"
             }
            },
            "header": {
             "fill": {
              "color": "#C8D4E3"
             },
             "line": {
              "color": "white"
             }
            },
            "type": "table"
           }
          ]
         },
         "layout": {
          "annotationdefaults": {
           "arrowcolor": "#2a3f5f",
           "arrowhead": 0,
           "arrowwidth": 1
          },
          "autotypenumbers": "strict",
          "coloraxis": {
           "colorbar": {
            "outlinewidth": 0,
            "ticks": ""
           }
          },
          "colorscale": {
           "diverging": [
            [
             0,
             "#8e0152"
            ],
            [
             0.1,
             "#c51b7d"
            ],
            [
             0.2,
             "#de77ae"
            ],
            [
             0.3,
             "#f1b6da"
            ],
            [
             0.4,
             "#fde0ef"
            ],
            [
             0.5,
             "#f7f7f7"
            ],
            [
             0.6,
             "#e6f5d0"
            ],
            [
             0.7,
             "#b8e186"
            ],
            [
             0.8,
             "#7fbc41"
            ],
            [
             0.9,
             "#4d9221"
            ],
            [
             1,
             "#276419"
            ]
           ],
           "sequential": [
            [
             0,
             "#0d0887"
            ],
            [
             0.1111111111111111,
             "#46039f"
            ],
            [
             0.2222222222222222,
             "#7201a8"
            ],
            [
             0.3333333333333333,
             "#9c179e"
            ],
            [
             0.4444444444444444,
             "#bd3786"
            ],
            [
             0.5555555555555556,
             "#d8576b"
            ],
            [
             0.6666666666666666,
             "#ed7953"
            ],
            [
             0.7777777777777778,
             "#fb9f3a"
            ],
            [
             0.8888888888888888,
             "#fdca26"
            ],
            [
             1,
             "#f0f921"
            ]
           ],
           "sequentialminus": [
            [
             0,
             "#0d0887"
            ],
            [
             0.1111111111111111,
             "#46039f"
            ],
            [
             0.2222222222222222,
             "#7201a8"
            ],
            [
             0.3333333333333333,
             "#9c179e"
            ],
            [
             0.4444444444444444,
             "#bd3786"
            ],
            [
             0.5555555555555556,
             "#d8576b"
            ],
            [
             0.6666666666666666,
             "#ed7953"
            ],
            [
             0.7777777777777778,
             "#fb9f3a"
            ],
            [
             0.8888888888888888,
             "#fdca26"
            ],
            [
             1,
             "#f0f921"
            ]
           ]
          },
          "colorway": [
           "#636efa",
           "#EF553B",
           "#00cc96",
           "#ab63fa",
           "#FFA15A",
           "#19d3f3",
           "#FF6692",
           "#B6E880",
           "#FF97FF",
           "#FECB52"
          ],
          "font": {
           "color": "#2a3f5f"
          },
          "geo": {
           "bgcolor": "white",
           "lakecolor": "white",
           "landcolor": "#E5ECF6",
           "showlakes": true,
           "showland": true,
           "subunitcolor": "white"
          },
          "hoverlabel": {
           "align": "left"
          },
          "hovermode": "closest",
          "mapbox": {
           "style": "light"
          },
          "paper_bgcolor": "white",
          "plot_bgcolor": "#E5ECF6",
          "polar": {
           "angularaxis": {
            "gridcolor": "white",
            "linecolor": "white",
            "ticks": ""
           },
           "bgcolor": "#E5ECF6",
           "radialaxis": {
            "gridcolor": "white",
            "linecolor": "white",
            "ticks": ""
           }
          },
          "scene": {
           "xaxis": {
            "backgroundcolor": "#E5ECF6",
            "gridcolor": "white",
            "gridwidth": 2,
            "linecolor": "white",
            "showbackground": true,
            "ticks": "",
            "zerolinecolor": "white"
           },
           "yaxis": {
            "backgroundcolor": "#E5ECF6",
            "gridcolor": "white",
            "gridwidth": 2,
            "linecolor": "white",
            "showbackground": true,
            "ticks": "",
            "zerolinecolor": "white"
           },
           "zaxis": {
            "backgroundcolor": "#E5ECF6",
            "gridcolor": "white",
            "gridwidth": 2,
            "linecolor": "white",
            "showbackground": true,
            "ticks": "",
            "zerolinecolor": "white"
           }
          },
          "shapedefaults": {
           "line": {
            "color": "#2a3f5f"
           }
          },
          "ternary": {
           "aaxis": {
            "gridcolor": "white",
            "linecolor": "white",
            "ticks": ""
           },
           "baxis": {
            "gridcolor": "white",
            "linecolor": "white",
            "ticks": ""
           },
           "bgcolor": "#E5ECF6",
           "caxis": {
            "gridcolor": "white",
            "linecolor": "white",
            "ticks": ""
           }
          },
          "title": {
           "x": 0.05
          },
          "xaxis": {
           "automargin": true,
           "gridcolor": "white",
           "linecolor": "white",
           "ticks": "",
           "title": {
            "standoff": 15
           },
           "zerolinecolor": "white",
           "zerolinewidth": 2
          },
          "yaxis": {
           "automargin": true,
           "gridcolor": "white",
           "linecolor": "white",
           "ticks": "",
           "title": {
            "standoff": 15
           },
           "zerolinecolor": "white",
           "zerolinewidth": 2
          }
         }
        },
        "width": 700,
        "xaxis": {
         "anchor": "y",
         "domain": [
          0,
          0.425
         ],
         "mirror": true,
         "tickcolor": "black",
         "ticklen": 5,
         "tickmode": "array",
         "ticks": "outside",
         "ticktext": [
          "1",
          "0"
         ],
         "tickvals": [
          0,
          1
         ],
         "tickwidth": 1,
         "title": {
          "text": "Prediction"
         }
        },
        "xaxis2": {
         "anchor": "y2",
         "domain": [
          0.575,
          1
         ],
         "mirror": true,
         "tickcolor": "black",
         "ticklen": 5,
         "tickmode": "array",
         "ticks": "outside",
         "ticktext": [
          "1",
          "0"
         ],
         "tickvals": [
          0,
          1
         ],
         "tickwidth": 1,
         "title": {
          "text": "Prediction"
         }
        },
        "yaxis": {
         "anchor": "x",
         "domain": [
          0,
          1
         ],
         "mirror": true,
         "tickcolor": "black",
         "ticklen": 5,
         "tickmode": "array",
         "ticks": "outside",
         "ticktext": [
          "0",
          "1"
         ],
         "tickvals": [
          0,
          1
         ],
         "tickwidth": 1,
         "title": {
          "standoff": 0.3,
          "text": "Truth"
         }
        },
        "yaxis2": {
         "anchor": "x2",
         "domain": [
          0,
          1
         ],
         "mirror": true,
         "tickcolor": "black",
         "ticklen": 5,
         "tickmode": "array",
         "ticks": "outside",
         "ticktext": [
          "0",
          "1"
         ],
         "tickvals": [
          0,
          1
         ],
         "tickwidth": 1,
         "title": {
          "standoff": 0.3,
          "text": "Truth"
         }
        }
       }
      }
     },
     "metadata": {},
     "output_type": "display_data"
    }
   ],
   "source": [
    "from eppi_text_classification import binary_train_valid_confusion_plotly\n",
    "\n",
    "binary_train_valid_confusion_plotly(\n",
    "    y_train,\n",
    "    y_train_pred,\n",
    "    y_test,\n",
    "    y_test_pred,\n",
    "    postive_label=\"Included\",\n",
    "    negative_label=\"Excluded\",\n",
    ")"
   ]
  },
  {
   "cell_type": "code",
   "execution_count": 12,
   "metadata": {},
   "outputs": [
    {
     "data": {
      "application/vnd.jupyter.widget-view+json": {
       "model_id": "95e45142a2fd42cc8f46ed8e0b7c861c",
       "version_major": 2,
       "version_minor": 0
      },
      "text/plain": [
       "  0%|          | 0/100 [00:00<?, ?it/s]"
      ]
     },
     "metadata": {},
     "output_type": "display_data"
    },
    {
     "data": {
      "image/png": "[encoded data removed]",
      "text/plain": [
       "<Figure size 2000x400 with 2 Axes>"
      ]
     },
     "metadata": {},
     "output_type": "display_data"
    },
    {
     "data": {
      "image/png": "[encoded data removed]",
      "text/plain": [
       "<Figure size 2000x400 with 2 Axes>"
      ]
     },
     "metadata": {},
     "output_type": "display_data"
    },
    {
     "data": {
      "image/png": "[encoded data removed]",
      "text/plain": [
       "<Figure size 800x550 with 1 Axes>"
      ]
     },
     "metadata": {},
     "output_type": "display_data"
    }
   ],
   "source": [
    "# EXLPAIN THE MODEL\n",
    "\n",
    "from eppi_text_classification.shap_plotter import ShapPlotter\n",
    "\n",
    "shap_plotter = ShapPlotter(model, X_test[:100], feature_names, kernel_nsamples=256)\n",
    "\n",
    "shap_plotter.dot_plot(num_display=10)\n",
    "shap_plotter.dot_plot(num_display=10, log_scale=False)\n",
    "shap_plotter.bar_chart()"
   ]
  },
  {
   "cell_type": "code",
   "execution_count": 13,
   "metadata": {},
   "outputs": [
    {
     "data": {
      "application/vnd.jupyter.widget-view+json": {
       "model_id": "5a7417d0a96a46adb75062428ffdfd73",
       "version_major": 2,
       "version_minor": 0
      },
      "text/plain": [
       "  0%|          | 0/10 [00:00<?, ?it/s]"
      ]
     },
     "metadata": {},
     "output_type": "display_data"
    },
    {
     "data": {
      "image/png": "[encoded data removed]",
      "text/plain": [
       "<Figure size 800x510 with 1 Axes>"
      ]
     },
     "metadata": {},
     "output_type": "display_data"
    }
   ],
   "source": [
    "# MAKE THE DECISION PLOTS\n",
    "\n",
    "from eppi_text_classification.shap_plotter import ShapPlotter\n",
    "\n",
    "shap_plotter = ShapPlotter(model, X_test[:10], feature_names, kernel_nsamples=256)\n",
    "shap_plotter.decision_plot(threshold=threshold, num_display=10)"
   ]
  },
  {
   "cell_type": "code",
   "execution_count": null,
   "metadata": {},
   "outputs": [],
   "source": [
    "import numpy as np\n",
    "\n",
    "for i in range(5):\n",
    "    print(f\"Truth: {y_test[i]}\")\n",
    "    print(\n",
    "        f\"Prediction: {raw_threshold_predict(model, np.expand_dims(X_test[i], axis=0), threshold)}\"\n",
    "    )\n",
    "    print(\n",
    "        f\"Shap value: {np.sum(shap_plotter.shap_values[i]) + shap_plotter.expected_value}\"\n",
    "    )\n",
    "    print(\n",
    "        f\"Prediction score: {predict_scores(model, np.expand_dims(X_test[i], axis=0))}\"\n",
    "    )\n",
    "    shap_plotter.single_decision_plot(\n",
    "        threshold=threshold, index=i, num_display=10, log_scale=False\n",
    "    )"
   ]
  }
 ],
 "metadata": {
  "kernelspec": {
   "display_name": "base",
   "language": "python",
   "name": "python3"
  },
  "language_info": {
   "codemirror_mode": {
    "name": "ipython",
    "version": 3
   },
   "file_extension": ".py",
   "mimetype": "text/x-python",
   "name": "python",
   "nbconvert_exporter": "python",
   "pygments_lexer": "ipython3",
   "version": "3.11.8"
  }
 },
 "nbformat": 4,
 "nbformat_minor": 2
}
