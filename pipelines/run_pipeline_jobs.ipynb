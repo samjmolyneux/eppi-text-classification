{
 "cells": [
  {
   "cell_type": "code",
   "execution_count": 6,
   "metadata": {},
   "outputs": [
    {
     "name": "stderr",
     "output_type": "stream",
     "text": [
      "Overriding of current TracerProvider is not allowed\n",
      "Overriding of current LoggerProvider is not allowed\n",
      "Overriding of current MeterProvider is not allowed\n",
      "Attempting to instrument while already instrumented\n",
      "Attempting to instrument while already instrumented\n",
      "Attempting to instrument while already instrumented\n"
     ]
    },
    {
     "name": "stdout",
     "output_type": "stream",
     "text": [
      "created_on: 2025-05-11T18:58:41.463804+0000\n",
      "enable_node_public_ip: true\n",
      "enable_os_patching: false\n",
      "enable_root_access: true\n",
      "enable_sso: true\n",
      "id: /subscriptions/56539498-d3d8-4a3b-92f4-f3b098a11d1e/resourceGroups/continuous_review_ms_and_ucl/providers/Microsoft.MachineLearningServices/workspaces/EPPI_DEV/computes/sams-f64\n",
      "idle_time_before_shutdown: PT60M\n",
      "idle_time_before_shutdown_minutes: 60\n",
      "last_operation:\n",
      "  operation_name: Start\n",
      "  operation_status: Succeeded\n",
      "  operation_time: '2025-05-12T13:42:19.261Z'\n",
      "  operation_trigger: User\n",
      "location: westeurope\n",
      "name: sams-f64\n",
      "network_settings:\n",
      "  private_ip_address: 10.0.0.4\n",
      "  public_ip_address: 20.16.72.103\n",
      "os_image_metadata:\n",
      "  current_image_version: 25.04.22\n",
      "  is_latest_os_image_version: false\n",
      "  latest_image_version: 25.04.07\n",
      "provisioning_state: Succeeded\n",
      "release_quota_on_stop: false\n",
      "services:\n",
      "- display_name: Jupyter\n",
      "  endpoint_uri: https://sams-f64.westeurope.instances.azureml.ms/tree/\n",
      "- display_name: Jupyter Lab\n",
      "  endpoint_uri: https://sams-f64.westeurope.instances.azureml.ms/lab\n",
      "size: Standard_F64s_v2\n",
      "ssh_public_access_enabled: false\n",
      "ssh_settings:\n",
      "  admin_username: azureuser\n",
      "  ssh_port: '50000'\n",
      "state: Running\n",
      "type: computeinstance\n",
      "\n"
     ]
    }
   ],
   "source": [
    "import os\n",
    "from dotenv import load_dotenv\n",
    "from pipelines import get_azure_ml_client\n",
    "\n",
    "load_dotenv()\n",
    "\n",
    "datastores_uri = os.getenv(\"DATASTORES_URI\")\n",
    "\n",
    "ml_client = get_azure_ml_client()\n",
    "\n",
    "# cluster_name = \"sams-16core-DS5-v2\"\n",
    "cluster_name = \"sams-f64\"\n",
    "# cluster_name = \"sams-f32\"\n",
    "# cluster_name = \"sam-standard-d23-v2\"\n",
    "print(ml_client.compute.get(cluster_name))\n",
    "\n",
    "\n",
    "# from azure.ai.ml.entities import ComputeInstance\n",
    "\n",
    "# ml_client.compute.begin_start(name=\"sams-f64\").result()"
   ]
  },
  {
   "cell_type": "code",
   "execution_count": 7,
   "metadata": {},
   "outputs": [
    {
     "name": "stdout",
     "output_type": "stream",
     "text": [
      "2025-05-12-14-46-09\n"
     ]
    },
    {
     "name": "stderr",
     "output_type": "stream",
     "text": [
      "pathOnCompute is not a known attribute of class <class 'azure.ai.ml._restclient.v2023_04_01_preview.models._models_py3.UriFolderJobOutput'> and will be ignored\n",
      "pathOnCompute is not a known attribute of class <class 'azure.ai.ml._restclient.v2023_04_01_preview.models._models_py3.UriFolderJobOutput'> and will be ignored\n",
      "pathOnCompute is not a known attribute of class <class 'azure.ai.ml._restclient.v2023_04_01_preview.models._models_py3.UriFolderJobOutput'> and will be ignored\n",
      "pathOnCompute is not a known attribute of class <class 'azure.ai.ml._restclient.v2023_04_01_preview.models._models_py3.UriFolderJobOutput'> and will be ignored\n",
      "pathOnCompute is not a known attribute of class <class 'azure.ai.ml._restclient.v2023_04_01_preview.models._models_py3.UriFolderJobOutput'> and will be ignored\n",
      "pathOnCompute is not a known attribute of class <class 'azure.ai.ml._restclient.v2023_04_01_preview.models._models_py3.UriFolderJobOutput'> and will be ignored\n",
      "pathOnCompute is not a known attribute of class <class 'azure.ai.ml._restclient.v2023_04_01_preview.models._models_py3.UriFolderJobOutput'> and will be ignored\n",
      "pathOnCompute is not a known attribute of class <class 'azure.ai.ml._restclient.v2023_04_01_preview.models._models_py3.UriFolderJobOutput'> and will be ignored\n"
     ]
    },
    {
     "name": "stdout",
     "output_type": "stream",
     "text": [
      "current time: 2025-05-12 14:46:16.083087\n"
     ]
    }
   ],
   "source": [
    "from azure.ai.ml import Input, load_component\n",
    "from azure.ai.ml.dsl import pipeline\n",
    "\n",
    "# find_single_model = ml_client.components.get(\n",
    "#     \"find_single_model_for_classifier_workbench\"\n",
    "# )\n",
    "\n",
    "find_single_model = load_component(\n",
    "    source=\"./final_components/find_single_model/find_single_model.yml\"\n",
    ")\n",
    "\n",
    "input_data = ml_client.data.get(name=\"debunking_review_data\", version=\"1.0.0\")\n",
    "\n",
    "hparam_search_ranges = Input(\n",
    "    path=\"./user_inputs/uri_folders/hyperparameter_search_ranges/\", type=\"uri_folder\"\n",
    ")\n",
    "\n",
    "\n",
    "@pipeline(default_compute=cluster_name, name=\"find_single_model_pipeline\")\n",
    "def find_single_model_pipeline(\n",
    "    labelled_data,\n",
    "    unlabelled_data,\n",
    "    hparam_search_ranges,\n",
    "    title_header,\n",
    "    abstract_header,\n",
    "    label_header,\n",
    "    positive_class_value,\n",
    "    model_name,\n",
    "    max_n_search_iterations,\n",
    "    nfolds,\n",
    "    num_cv_repeats,\n",
    "    timeout,\n",
    "    use_early_terminator,\n",
    "    max_stagnation_iterations,\n",
    "    wilcoxon_trial_pruner_threshold,\n",
    "    use_worse_than_first_two_pruner,\n",
    "    shap_num_display,\n",
    "):\n",
    "    find_run = find_single_model(\n",
    "        labelled_data=labelled_data,\n",
    "        unlabelled_data=unlabelled_data,\n",
    "        title_header=title_header,\n",
    "        abstract_header=abstract_header,\n",
    "        label_header=label_header,\n",
    "        positive_class_value=positive_class_value,\n",
    "        model_name=model_name,\n",
    "        hparam_search_ranges=hparam_search_ranges,\n",
    "        max_n_search_iterations=max_n_search_iterations,\n",
    "        nfolds=nfolds,\n",
    "        num_cv_repeats=num_cv_repeats,\n",
    "        timeout=timeout,\n",
    "        use_early_terminator=use_early_terminator,\n",
    "        max_stagnation_iterations=max_stagnation_iterations,\n",
    "        wilcoxon_trial_pruner_threshold=wilcoxon_trial_pruner_threshold,\n",
    "        use_worse_than_first_two_pruner=use_worse_than_first_two_pruner,\n",
    "        shap_num_display=shap_num_display,\n",
    "    )\n",
    "\n",
    "    return find_run.outputs\n",
    "\n",
    "\n",
    "first_pipeline = find_single_model_pipeline(\n",
    "    labelled_data=input_data,\n",
    "    unlabelled_data=input_data,\n",
    "    hparam_search_ranges=hparam_search_ranges,\n",
    "    title_header=\"title\",\n",
    "    abstract_header=\"abstract\",\n",
    "    label_header=\"included\",\n",
    "    positive_class_value=1,\n",
    "    model_name=\"lightgbm\",\n",
    "    max_n_search_iterations=20,\n",
    "    nfolds=3,\n",
    "    num_cv_repeats=1,\n",
    "    timeout=None,\n",
    "    use_early_terminator=False,\n",
    "    max_stagnation_iterations=None,\n",
    "    wilcoxon_trial_pruner_threshold=None,\n",
    "    use_worse_than_first_two_pruner=False,\n",
    "    shap_num_display=20,\n",
    ")\n",
    "\n",
    "import datetime\n",
    "\n",
    "t = datetime.datetime.now().strftime(\"%Y-%m-%d-%H-%M-%S\")\n",
    "print(t)\n",
    "\n",
    "first_pipeline.outputs.unlabelled_tfidf_scores.path = f\"{datastores_uri}/EPPI_DEV/datastores/workspaceblobstore/paths/azureml/outputs/{t}/unlabelled_tfidf_scores\"\n",
    "first_pipeline.outputs.labelled_tfidf_scores.path = f\"{datastores_uri}/EPPI_DEV/datastores/workspaceblobstore/paths/azureml/outputs/{t}/labelled_tfidf_scores\"\n",
    "first_pipeline.outputs.labels.path = f\"{datastores_uri}/EPPI_DEV/datastores/workspaceblobstore/paths/azureml/outputs/{t}/labels\"\n",
    "first_pipeline.outputs.best_hparams.path = f\"{datastores_uri}/EPPI_DEV/datastores/workspaceblobstore/paths/azureml/outputs/{t}/best_hparams\"\n",
    "first_pipeline.outputs.trained_model.path = f\"{datastores_uri}/EPPI_DEV/datastores/workspaceblobstore/paths/azureml/outputs/{t}/trained_model\"\n",
    "\n",
    "\n",
    "first_pipeline_job = ml_client.jobs.create_or_update(\n",
    "    first_pipeline, experiment_name=\"find_model_sdk\"\n",
    ")\n",
    "\n",
    "\n",
    "print(f\"current time: {datetime.datetime.now()}\")"
   ]
  },
  {
   "cell_type": "code",
   "execution_count": 8,
   "metadata": {},
   "outputs": [
    {
     "name": "stdout",
     "output_type": "stream",
     "text": [
      "RunId: upbeat_tail_h0cdc72y5g\n",
      "Web View: https://ml.azure.com/runs/upbeat_tail_h0cdc72y5g?wsid=/subscriptions/56539498-d3d8-4a3b-92f4-f3b098a11d1e/resourcegroups/continuous_review_ms_and_ucl/workspaces/eppi_dev\n",
      "\n",
      "Streaming logs/azureml/executionlogs.txt\n",
      "========================================\n",
      "\n",
      "[2025-05-12 13:46:18Z] Submitting 1 runs, first five are: e161d26f:b1dd119a-9a98-4abe-abaa-44f08936be78\n",
      "[2025-05-12 13:50:40Z] Completing processing run id b1dd119a-9a98-4abe-abaa-44f08936be78.\n",
      "\n",
      "Execution Summary\n",
      "=================\n",
      "RunId: upbeat_tail_h0cdc72y5g\n",
      "Web View: https://ml.azure.com/runs/upbeat_tail_h0cdc72y5g?wsid=/subscriptions/56539498-d3d8-4a3b-92f4-f3b098a11d1e/resourcegroups/continuous_review_ms_and_ucl/workspaces/eppi_dev\n",
      "\n"
     ]
    }
   ],
   "source": [
    "# Wait until the job completes\n",
    "ml_client.jobs.stream(first_pipeline_job.name)"
   ]
  },
  {
   "cell_type": "code",
   "execution_count": 4,
   "metadata": {},
   "outputs": [
    {
     "name": "stdout",
     "output_type": "stream",
     "text": [
      "Output path: azureml://subscriptions/56539498-d3d8-4a3b-92f4-f3b098a11d1e/resourcegroups/continuous_review_ms_and_ucl/workspaces/EPPI_DEV/datastores/workspaceblobstore/paths/azureml/outputs/2025-05-06-21-13-22/labels\n"
     ]
    }
   ],
   "source": [
    "# Get the completed job details\n",
    "completed_job = ml_client.jobs.get(first_pipeline_job.name)\n",
    "\n",
    "output_path = completed_job.outputs[\"labels\"].path\n",
    "print(\"Output path:\", output_path)"
   ]
  },
  {
   "cell_type": "code",
   "execution_count": 9,
   "metadata": {},
   "outputs": [
    {
     "name": "stderr",
     "output_type": "stream",
     "text": [
      "Downloading artifact azureml://subscriptions/56539498-d3d8-4a3b-92f4-f3b098a11d1e/resourcegroups/continuous_review_ms_and_ucl/workspaces/eppi_dev/datastores/workspaceblobstore/paths/azureml/b1dd119a-9a98-4abe-abaa-44f08936be78/plots/ to pipeline_outputs/named-outputs/plots\n",
      "Downloading artifact azureml://subscriptions/56539498-d3d8-4a3b-92f4-f3b098a11d1e/resourcegroups/continuous_review_ms_and_ucl/workspaces/eppi_dev/datastores/workspaceblobstore/paths/azureml/b1dd119a-9a98-4abe-abaa-44f08936be78/search_db/ to pipeline_outputs/named-outputs/search_db\n",
      "Downloading artifact azureml://subscriptions/56539498-d3d8-4a3b-92f4-f3b098a11d1e/resourcegroups/continuous_review_ms_and_ucl/workspaces/eppi_dev/datastores/workspaceblobstore/paths/azureml/b1dd119a-9a98-4abe-abaa-44f08936be78/feature_names/ to pipeline_outputs/named-outputs/feature_names\n",
      "Downloading artifact azureml://subscriptions/56539498-d3d8-4a3b-92f4-f3b098a11d1e/resourcegroups/continuous_review_ms_and_ucl/workspaces/eppi_dev/datastores/workspaceblobstore/paths/azureml/outputs/2025-05-12-14-46-09/labelled_tfidf_scores/ to pipeline_outputs/named-outputs/labelled_tfidf_scores\n",
      "Downloading artifact azureml://subscriptions/56539498-d3d8-4a3b-92f4-f3b098a11d1e/resourcegroups/continuous_review_ms_and_ucl/workspaces/eppi_dev/datastores/workspaceblobstore/paths/azureml/outputs/2025-05-12-14-46-09/unlabelled_tfidf_scores/ to pipeline_outputs/named-outputs/unlabelled_tfidf_scores\n",
      "Downloading artifact azureml://subscriptions/56539498-d3d8-4a3b-92f4-f3b098a11d1e/resourcegroups/continuous_review_ms_and_ucl/workspaces/eppi_dev/datastores/workspaceblobstore/paths/azureml/outputs/2025-05-12-14-46-09/labels/ to pipeline_outputs/named-outputs/labels\n",
      "Downloading artifact azureml://subscriptions/56539498-d3d8-4a3b-92f4-f3b098a11d1e/resourcegroups/continuous_review_ms_and_ucl/workspaces/eppi_dev/datastores/workspaceblobstore/paths/azureml/outputs/2025-05-12-14-46-09/best_hparams/ to pipeline_outputs/named-outputs/best_hparams\n",
      "Downloading artifact azureml://subscriptions/56539498-d3d8-4a3b-92f4-f3b098a11d1e/resourcegroups/continuous_review_ms_and_ucl/workspaces/eppi_dev/datastores/workspaceblobstore/paths/azureml/outputs/2025-05-12-14-46-09/trained_model/ to pipeline_outputs/named-outputs/trained_model\n",
      "Downloading artifact azureml://datastores/workspaceartifactstore/paths/ExperimentRun/dcid.upbeat_tail_h0cdc72y5g/ to pipeline_outputs/artifacts\n"
     ]
    }
   ],
   "source": [
    "output = ml_client.jobs.download(\n",
    "    first_pipeline_job.name, download_path=\"pipeline_outputs/\", all=True\n",
    ")"
   ]
  },
  {
   "cell_type": "code",
   "execution_count": 12,
   "metadata": {},
   "outputs": [],
   "source": [
    "# FINISH THE SECOND PIPELINE WHEN BACK\n",
    "threshold = -5"
   ]
  },
  {
   "cell_type": "code",
   "execution_count": 13,
   "metadata": {},
   "outputs": [
    {
     "name": "stderr",
     "output_type": "stream",
     "text": [
      "pathOnCompute is not a known attribute of class <class 'azure.ai.ml._restclient.v2023_04_01_preview.models._models_py3.UriFolderJobOutput'> and will be ignored\n"
     ]
    },
    {
     "name": "stdout",
     "output_type": "stream",
     "text": [
      "current time: 2025-05-12 14:54:11.938778\n"
     ]
    }
   ],
   "source": [
    "from azure.ai.ml import Input\n",
    "\n",
    "threshold_model_analysis = load_component(\n",
    "    source=\"./final_components/threshold_model_analysis/threshold_model_analysis.yml\"\n",
    ")\n",
    "\n",
    "labelled_tfidf_scores = Input(\n",
    "    path=first_pipeline.outputs.labelled_tfidf_scores.path, type=\"uri_folder\"\n",
    ")\n",
    "labels = Input(path=first_pipeline.outputs.labels.path, type=\"uri_folder\")\n",
    "model_params = Input(path=first_pipeline.outputs.best_hparams.path, type=\"uri_folder\")\n",
    "\n",
    "\n",
    "@pipeline(default_compute=cluster_name, name=\"threshold_model_analysis_pipeline\")\n",
    "def threshold_model_analysis_pipeline(\n",
    "    labelled_tfidf_scores,\n",
    "    labels,\n",
    "    model_name,\n",
    "    model_params,\n",
    "    threshold,\n",
    "    nfolds,\n",
    "    histogram_num_cv_repeats,\n",
    "    confusion_num_cv_repeats,\n",
    "):\n",
    "    analysis_run = threshold_model_analysis(\n",
    "        labelled_tfidf_scores=labelled_tfidf_scores,\n",
    "        labels=labels,\n",
    "        model_name=model_name,\n",
    "        model_params=model_params,\n",
    "        threshold=threshold,\n",
    "        nfolds=nfolds,\n",
    "        histogram_num_cv_repeats=histogram_num_cv_repeats,\n",
    "        confusion_num_cv_repeats=confusion_num_cv_repeats,\n",
    "    )\n",
    "\n",
    "    return analysis_run.outputs\n",
    "\n",
    "\n",
    "second_pipeline = threshold_model_analysis_pipeline(\n",
    "    labelled_tfidf_scores=labelled_tfidf_scores,\n",
    "    labels=labels,\n",
    "    model_name=\"lightgbm\",\n",
    "    model_params=model_params,\n",
    "    threshold=threshold,\n",
    "    nfolds=3,\n",
    "    histogram_num_cv_repeats=100,\n",
    "    confusion_num_cv_repeats=1,\n",
    ")\n",
    "\n",
    "second_pipeline_job = ml_client.jobs.create_or_update(\n",
    "    second_pipeline, experiment_name=\"find_model_sdk\"\n",
    ")\n",
    "\n",
    "import datetime\n",
    "\n",
    "print(f\"current time: {datetime.datetime.now()}\")"
   ]
  },
  {
   "cell_type": "code",
   "execution_count": 14,
   "metadata": {},
   "outputs": [
    {
     "name": "stdout",
     "output_type": "stream",
     "text": [
      "RunId: shy_balloon_x7ljs2c1t2\n",
      "Web View: https://ml.azure.com/runs/shy_balloon_x7ljs2c1t2?wsid=/subscriptions/56539498-d3d8-4a3b-92f4-f3b098a11d1e/resourcegroups/continuous_review_ms_and_ucl/workspaces/eppi_dev\n",
      "\n",
      "Streaming logs/azureml/executionlogs.txt\n",
      "========================================\n",
      "\n",
      "[2025-05-12 13:54:15Z] Submitting 1 runs, first five are: 349d3567:4536ca0a-4c06-4dbb-af8a-ee910baa0ae2\n"
     ]
    }
   ],
   "source": [
    "ml_client.jobs.stream(second_pipeline_job.name)"
   ]
  },
  {
   "cell_type": "code",
   "execution_count": null,
   "metadata": {},
   "outputs": [],
   "source": [
    "output = ml_client.jobs.download(\n",
    "    second_pipeline_job.name,\n",
    "    download_path=\"pipeline_outputs/threshold_model_analysis\",\n",
    "    all=True,\n",
    ")"
   ]
  },
  {
   "cell_type": "code",
   "execution_count": 22,
   "metadata": {},
   "outputs": [
    {
     "name": "stderr",
     "output_type": "stream",
     "text": [
      "pathOnCompute is not a known attribute of class <class 'azure.ai.ml._restclient.v2023_04_01_preview.models._models_py3.UriFolderJobOutput'> and will be ignored\n"
     ]
    },
    {
     "name": "stdout",
     "output_type": "stream",
     "text": [
      "current time: 2025-05-07 14:01:58.219593\n"
     ]
    }
   ],
   "source": [
    "from azure.ai.ml import Input\n",
    "\n",
    "classify_unlabelled_tfidf = load_component(\n",
    "    source=\"./final_components/classify_unlabelled_tfidf/classify_unlabelled_tfidf.yml\"\n",
    ")\n",
    "\n",
    "unlabelled_tfidf_scores = Input(\n",
    "    path=first_pipeline.outputs.unlabelled_tfidf_scores.path, type=\"uri_folder\"\n",
    ")\n",
    "trained_model = Input(path=first_pipeline.outputs.trained_model.path, type=\"uri_folder\")\n",
    "\n",
    "\n",
    "@pipeline(default_compute=cluster_name, name=\"classify_unlabelled_tfidf_pipeline\")\n",
    "def classify_unlabelled_tfidf_pipeline(\n",
    "    unlabelled_tfidf_scores,\n",
    "    threshold,\n",
    "    trained_model,\n",
    "):\n",
    "    classification_run = classify_unlabelled_tfidf(\n",
    "        unlabelled_tfidf_scores=unlabelled_tfidf_scores,\n",
    "        threshold=threshold,\n",
    "        trained_model=trained_model,\n",
    "    )\n",
    "\n",
    "    return classification_run.outputs\n",
    "\n",
    "\n",
    "third_pipeline = classify_unlabelled_tfidf_pipeline(\n",
    "    unlabelled_tfidf_scores=unlabelled_tfidf_scores,\n",
    "    threshold=threshold,\n",
    "    trained_model=trained_model,\n",
    ")\n",
    "\n",
    "third_pipeline_job = ml_client.jobs.create_or_update(\n",
    "    third_pipeline, experiment_name=\"classify_unlabelled_tfidf\"\n",
    ")\n",
    "\n",
    "import datetime\n",
    "\n",
    "print(f\"current time: {datetime.datetime.now()}\")"
   ]
  },
  {
   "cell_type": "code",
   "execution_count": 23,
   "metadata": {},
   "outputs": [
    {
     "name": "stdout",
     "output_type": "stream",
     "text": [
      "RunId: willing_pin_ly24qd8rcx\n",
      "Web View: https://ml.azure.com/runs/willing_pin_ly24qd8rcx?wsid=/subscriptions/56539498-d3d8-4a3b-92f4-f3b098a11d1e/resourcegroups/continuous_review_ms_and_ucl/workspaces/eppi_dev\n",
      "\n",
      "Streaming logs/azureml/executionlogs.txt\n",
      "========================================\n",
      "\n",
      "[2025-05-07 13:02:01Z] Submitting 1 runs, first five are: 28dafbf4:77765675-5547-4e67-ba7a-db5116f24bb3\n",
      "[2025-05-07 13:08:06Z] Completing processing run id 77765675-5547-4e67-ba7a-db5116f24bb3.\n",
      "\n",
      "Execution Summary\n",
      "=================\n",
      "RunId: willing_pin_ly24qd8rcx\n",
      "Web View: https://ml.azure.com/runs/willing_pin_ly24qd8rcx?wsid=/subscriptions/56539498-d3d8-4a3b-92f4-f3b098a11d1e/resourcegroups/continuous_review_ms_and_ucl/workspaces/eppi_dev\n",
      "\n"
     ]
    }
   ],
   "source": [
    "ml_client.jobs.stream(third_pipeline_job.name)"
   ]
  },
  {
   "cell_type": "code",
   "execution_count": 21,
   "metadata": {},
   "outputs": [
    {
     "data": {
      "text/plain": [
       "'azureml://subscriptions/56539498-d3d8-4a3b-92f4-f3b098a11d1e/resourcegroups/continuous_review_ms_and_ucl/workspaces/EPPI_DEV/datastores/workspaceblobstore/paths/azureml/outputs/2025-05-06-21-13-22/trained_model'"
      ]
     },
     "execution_count": 21,
     "metadata": {},
     "output_type": "execute_result"
    }
   ],
   "source": [
    "first_pipeline.outputs.trained_model.path"
   ]
  },
  {
   "cell_type": "code",
   "execution_count": null,
   "metadata": {},
   "outputs": [],
   "source": []
  }
 ],
 "metadata": {
  "kernelspec": {
   "display_name": "test_finder",
   "language": "python",
   "name": "python3"
  },
  "language_info": {
   "codemirror_mode": {
    "name": "ipython",
    "version": 3
   },
   "file_extension": ".py",
   "mimetype": "text/x-python",
   "name": "python",
   "nbconvert_exporter": "python",
   "pygments_lexer": "ipython3",
   "version": "3.11.11"
  }
 },
 "nbformat": 4,
 "nbformat_minor": 2
}
